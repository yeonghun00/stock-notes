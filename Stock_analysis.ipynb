{
  "nbformat": 4,
  "nbformat_minor": 0,
  "metadata": {
    "colab": {
      "name": "Stock_analysis.ipynb",
      "provenance": [],
      "collapsed_sections": [],
      "authorship_tag": "ABX9TyOcUtli809U2uifhW7IYqlJ",
      "include_colab_link": true
    },
    "kernelspec": {
      "name": "python3",
      "display_name": "Python 3"
    },
    "language_info": {
      "name": "python"
    }
  },
  "cells": [
    {
      "cell_type": "markdown",
      "metadata": {
        "id": "view-in-github",
        "colab_type": "text"
      },
      "source": [
        "<a href=\"https://colab.research.google.com/github/yeonghun00/stock_public/blob/main/Stock_analysis.ipynb\" target=\"_parent\"><img src=\"https://colab.research.google.com/assets/colab-badge.svg\" alt=\"Open In Colab\"/></a>"
      ]
    },
    {
      "cell_type": "code",
      "metadata": {
        "id": "NQTz-f91VMZc"
      },
      "source": [
        "import requests\n",
        "from bs4 import BeautifulSoup\n",
        "import pandas as pd\n",
        "import numpy as np\n",
        "import datetime\n",
        "\n",
        "class Stock:\n",
        "  def __init__(self, code):\n",
        "    self.code = code\n",
        "    self.headers = {'User-Agent' : 'Mozilla/5.0 (Macintosh; Intel Mac OS X 10_14_6) AppleWebKit/537.36 (KHTML, like Gecko) Chrome/85.0.4183.121 Safari/537.36'}\n",
        "\n",
        "  def page_to_df(self, page):\n",
        "    url = \"https://finance.naver.com/item/sise_day.nhn?code=\" + self.code + \"&page=\" + str(page)\n",
        "    result = requests.get(url, headers = self.headers)\n",
        "    bs_obj = BeautifulSoup(result.content, \"html.parser\")\n",
        "    tr = bs_obj.find_all(\"tr\", {'onmouseover':'mouseOver(this)', 'onmouseout':\"mouseOut(this)\"})\n",
        "    data_dict = {}\n",
        "    for i in range(10):\n",
        "      try: \n",
        "        spans = tr[i].find_all('span')\n",
        "        lines = [span.get_text() for span in spans]\n",
        "        lines = list(map(lambda x: x.replace(',',''), lines))\n",
        "\n",
        "        objdate = datetime.datetime.strptime(lines[0], '%Y.%m.%d')\n",
        "        data_dict[objdate] = lines[1:]\n",
        "      except:\n",
        "        break\n",
        "      \n",
        "    df = pd.DataFrame.from_dict(data_dict).transpose()\n",
        "    df.columns = ['Close','_','Open',\n",
        "                        'High','Low','Volume']\n",
        "    df = df.drop(columns=\"_\")\n",
        "\n",
        "    return df\n",
        "\n",
        "  def get_data(self, start_page:int=1, end_page:int=26):\n",
        "    df = self.page_to_df(start_page)\n",
        "    # max 9999\n",
        "    # 1 page = 10 days\n",
        "    for i in range(start_page, end_page): \n",
        "      try: \n",
        "        if (any(self.page_to_df(i).index != self.page_to_df(i-1).index)):\n",
        "          df = df.append(self.page_to_df(i))\n",
        "          print('.', end = '')\n",
        "          if (i%100==0):\n",
        "            print(i)\n",
        "        else:\n",
        "          break\n",
        "      except:\n",
        "        df = df.append(self.page_to_df(i))\n",
        "    df = df.sort_index(axis = 0) \n",
        "    for i in ['Close', 'Open', 'High', 'Low', 'Volume']:\n",
        "      df[i] = df[i].astype(int)\n",
        "    return df\n",
        "\n",
        "  def get_fundamental(self):\n",
        "    url = 'https://finance.naver.com/item/main.nhn?code=' + self.code\n",
        "    result = requests.get(url, headers = self.headers)\n",
        "    bs_obj = BeautifulSoup(result.content, \"html.parser\")\n",
        "\n",
        "    ths = bs_obj.find_all(\"th\", {'scope':'col'})\n",
        "    ths = [th.get_text() for th in ths][10:-22]\n",
        "    dates = list(map(lambda x: x.translate(str.maketrans('','','\\n\\t, ')),ths))\n",
        "    dates = list(map(lambda x: x + '(Y)', dates[:4])) + list(map(lambda x: x + '(M)', dates[4:]))\n",
        "\n",
        "    tr = bs_obj.find_all(\"tbody\")\n",
        "    tds = tr[2].find_all('td')\n",
        "    tds = [td.get_text() for td in tds]\n",
        "    elements = list(map(lambda x: x.translate(str.maketrans('','','\\n\\t, ')),tds))\n",
        "    elements = list(map(lambda x: float(x) if x.replace('.','').isdigit() else np.nan, elements))\n",
        "\n",
        "    temp_dict = {}\n",
        "    cnt = 0\n",
        "    index = ['sales', 'operating profit', 'net income', 'operating margin', 'net margin', 'roe', 'debt ratio', 'quick ratio', \\\n",
        "    'reserve ratio', 'eps', 'per', 'bps', 'pbr', 'dividend per share', 'dividend yield ratio', 'dividend payout ratio']\n",
        "\n",
        "    for i in dates:\n",
        "      temp_dict[i] = elements[cnt::10]\n",
        "      cnt += 1\n",
        "\n",
        "    df = pd.DataFrame.from_dict(temp_dict)\n",
        "    df = df.set_index([pd.Index(index)])\n",
        "    return df\n",
        "  \n",
        "  def get_code_name(self):\n",
        "    url = 'https://finance.naver.com/item/main.nhn?code=' + str(self.code)\n",
        "    result = requests.get(url, headers = {'User-Agent' : 'Mozilla/5.0 (Macintosh; Intel Mac OS X 10_14_6) AppleWebKit/537.36 (KHTML, like Gecko) Chrome/85.0.4183.121 Safari/537.36'})\n",
        "    bs_obj = BeautifulSoup(result.content, \"html.parser\")\n",
        "    name = bs_obj.find_all(\"div\", {'class':'wrap_company'})\n",
        "    return name[0].find_all('h2')[0].get_text()"
      ],
      "execution_count": null,
      "outputs": []
    },
    {
      "cell_type": "code",
      "metadata": {
        "id": "1CBS-M_wYBIe"
      },
      "source": [
        "# z - normalization\n",
        "from scipy import stats\n",
        "def z_norm(x):\n",
        "  return stats.zscore(x)\n",
        "\n",
        "# min-max normalization\n",
        "def min_max_norm(x):\n",
        "  return (change - min(change))/(max(change)-min(change))\n",
        "\n",
        "# numpy version normalization\n",
        "def norm(x):\n",
        "  norm = np.linalg.norm(x)\n",
        "  return np.round(x/norm, 16)"
      ],
      "execution_count": null,
      "outputs": []
    },
    {
      "cell_type": "code",
      "metadata": {
        "id": "jf3OAWV9WbGE"
      },
      "source": [
        "stock = Stock('005930')"
      ],
      "execution_count": null,
      "outputs": []
    },
    {
      "cell_type": "code",
      "metadata": {
        "colab": {
          "base_uri": "https://localhost:8080/",
          "height": 436
        },
        "id": "SyDmT0NGWh3C",
        "outputId": "4454ff2b-ff43-4030-cf01-30a03ed07e03"
      },
      "source": [
        "price_df = stock.get_data(1,13)\n",
        "price_df"
      ],
      "execution_count": null,
      "outputs": [
        {
          "output_type": "stream",
          "text": [
            "..........."
          ],
          "name": "stdout"
        },
        {
          "output_type": "execute_result",
          "data": {
            "text/html": [
              "<div>\n",
              "<style scoped>\n",
              "    .dataframe tbody tr th:only-of-type {\n",
              "        vertical-align: middle;\n",
              "    }\n",
              "\n",
              "    .dataframe tbody tr th {\n",
              "        vertical-align: top;\n",
              "    }\n",
              "\n",
              "    .dataframe thead th {\n",
              "        text-align: right;\n",
              "    }\n",
              "</style>\n",
              "<table border=\"1\" class=\"dataframe\">\n",
              "  <thead>\n",
              "    <tr style=\"text-align: right;\">\n",
              "      <th></th>\n",
              "      <th>Close</th>\n",
              "      <th>Open</th>\n",
              "      <th>High</th>\n",
              "      <th>Low</th>\n",
              "      <th>Volume</th>\n",
              "    </tr>\n",
              "  </thead>\n",
              "  <tbody>\n",
              "    <tr>\n",
              "      <th>2020-10-12</th>\n",
              "      <td>60400</td>\n",
              "      <td>60000</td>\n",
              "      <td>60400</td>\n",
              "      <td>59900</td>\n",
              "      <td>16145837</td>\n",
              "    </tr>\n",
              "    <tr>\n",
              "      <th>2020-10-13</th>\n",
              "      <td>60900</td>\n",
              "      <td>61000</td>\n",
              "      <td>61400</td>\n",
              "      <td>60400</td>\n",
              "      <td>19247631</td>\n",
              "    </tr>\n",
              "    <tr>\n",
              "      <th>2020-10-14</th>\n",
              "      <td>60900</td>\n",
              "      <td>61000</td>\n",
              "      <td>61100</td>\n",
              "      <td>60500</td>\n",
              "      <td>16086716</td>\n",
              "    </tr>\n",
              "    <tr>\n",
              "      <th>2020-10-15</th>\n",
              "      <td>60000</td>\n",
              "      <td>60700</td>\n",
              "      <td>60800</td>\n",
              "      <td>59700</td>\n",
              "      <td>17756232</td>\n",
              "    </tr>\n",
              "    <tr>\n",
              "      <th>2020-10-16</th>\n",
              "      <td>59500</td>\n",
              "      <td>60000</td>\n",
              "      <td>60400</td>\n",
              "      <td>59000</td>\n",
              "      <td>16554190</td>\n",
              "    </tr>\n",
              "    <tr>\n",
              "      <th>...</th>\n",
              "      <td>...</td>\n",
              "      <td>...</td>\n",
              "      <td>...</td>\n",
              "      <td>...</td>\n",
              "      <td>...</td>\n",
              "    </tr>\n",
              "    <tr>\n",
              "      <th>2021-04-01</th>\n",
              "      <td>82900</td>\n",
              "      <td>82500</td>\n",
              "      <td>83000</td>\n",
              "      <td>82000</td>\n",
              "      <td>18676461</td>\n",
              "    </tr>\n",
              "    <tr>\n",
              "      <th>2021-04-02</th>\n",
              "      <td>84800</td>\n",
              "      <td>84000</td>\n",
              "      <td>85200</td>\n",
              "      <td>83900</td>\n",
              "      <td>22997538</td>\n",
              "    </tr>\n",
              "    <tr>\n",
              "      <th>2021-04-02</th>\n",
              "      <td>84800</td>\n",
              "      <td>84000</td>\n",
              "      <td>85200</td>\n",
              "      <td>83900</td>\n",
              "      <td>22997538</td>\n",
              "    </tr>\n",
              "    <tr>\n",
              "      <th>2021-04-05</th>\n",
              "      <td>85400</td>\n",
              "      <td>85800</td>\n",
              "      <td>86000</td>\n",
              "      <td>84800</td>\n",
              "      <td>16174746</td>\n",
              "    </tr>\n",
              "    <tr>\n",
              "      <th>2021-04-05</th>\n",
              "      <td>85400</td>\n",
              "      <td>85800</td>\n",
              "      <td>86000</td>\n",
              "      <td>84800</td>\n",
              "      <td>16174746</td>\n",
              "    </tr>\n",
              "  </tbody>\n",
              "</table>\n",
              "<p>130 rows × 5 columns</p>\n",
              "</div>"
            ],
            "text/plain": [
              "            Close   Open   High    Low    Volume\n",
              "2020-10-12  60400  60000  60400  59900  16145837\n",
              "2020-10-13  60900  61000  61400  60400  19247631\n",
              "2020-10-14  60900  61000  61100  60500  16086716\n",
              "2020-10-15  60000  60700  60800  59700  17756232\n",
              "2020-10-16  59500  60000  60400  59000  16554190\n",
              "...           ...    ...    ...    ...       ...\n",
              "2021-04-01  82900  82500  83000  82000  18676461\n",
              "2021-04-02  84800  84000  85200  83900  22997538\n",
              "2021-04-02  84800  84000  85200  83900  22997538\n",
              "2021-04-05  85400  85800  86000  84800  16174746\n",
              "2021-04-05  85400  85800  86000  84800  16174746\n",
              "\n",
              "[130 rows x 5 columns]"
            ]
          },
          "metadata": {
            "tags": []
          },
          "execution_count": 15
        }
      ]
    },
    {
      "cell_type": "markdown",
      "metadata": {
        "id": "PHqmccT-Yr6Z"
      },
      "source": [
        "quantile"
      ]
    },
    {
      "cell_type": "code",
      "metadata": {
        "colab": {
          "base_uri": "https://localhost:8080/"
        },
        "id": "_dxekV4LXLdJ",
        "outputId": "cbc3b3c3-175a-41a4-f89e-eeb86d1aaea0"
      },
      "source": [
        "print('1st quantile', np.quantile(price_df['Close'], 0.25))\n",
        "print('2nd quantile', np.quantile(price_df['Close'], 0.5))\n",
        "print('3rd quantile', np.quantile(price_df['Close'], 0.75))\n",
        "print('range: ', np.quantile(price_df['Close'], 0.75) - np.quantile(price_df['Close'], 0.25))"
      ],
      "execution_count": null,
      "outputs": [
        {
          "output_type": "stream",
          "text": [
            "1st quantile 67550.0\n",
            "2nd quantile 81450.0\n",
            "3rd quantile 82900.0\n",
            "range:  15350.0\n"
          ],
          "name": "stdout"
        }
      ]
    },
    {
      "cell_type": "code",
      "metadata": {
        "colab": {
          "base_uri": "https://localhost:8080/"
        },
        "id": "I7xkcFNcXzF5",
        "outputId": "9cdbd52c-685e-4cd8-b626-ee9fbd9f8796"
      },
      "source": [
        ""
      ],
      "execution_count": null,
      "outputs": [
        {
          "output_type": "execute_result",
          "data": {
            "text/plain": [
              "81450.0"
            ]
          },
          "metadata": {
            "tags": []
          },
          "execution_count": 18
        }
      ]
    },
    {
      "cell_type": "code",
      "metadata": {
        "colab": {
          "base_uri": "https://localhost:8080/"
        },
        "id": "jdQOTT5sX9f8",
        "outputId": "5d89703a-5621-4186-ba58-0f6ae07f4b2f"
      },
      "source": [
        ""
      ],
      "execution_count": null,
      "outputs": [
        {
          "output_type": "execute_result",
          "data": {
            "text/plain": [
              "82900.0"
            ]
          },
          "metadata": {
            "tags": []
          },
          "execution_count": 19
        }
      ]
    },
    {
      "cell_type": "code",
      "metadata": {
        "id": "Qg2A2O7OX-QD"
      },
      "source": [
        ""
      ],
      "execution_count": null,
      "outputs": []
    }
  ]
}