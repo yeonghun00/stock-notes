{
  "nbformat": 4,
  "nbformat_minor": 0,
  "metadata": {
    "colab": {
      "name": "Stock_analysis",
      "provenance": [],
      "collapsed_sections": [],
      "authorship_tag": "ABX9TyPOimyfyoirxl42uekvAl6/",
      "include_colab_link": true
    },
    "kernelspec": {
      "name": "python3",
      "display_name": "Python 3"
    },
    "language_info": {
      "name": "python"
    }
  },
  "cells": [
    {
      "cell_type": "markdown",
      "metadata": {
        "id": "view-in-github",
        "colab_type": "text"
      },
      "source": [
        "<a href=\"https://colab.research.google.com/github/yeonghun00/stock_public/blob/main/Stock_analysis.ipynb\" target=\"_parent\"><img src=\"https://colab.research.google.com/assets/colab-badge.svg\" alt=\"Open In Colab\"/></a>"
      ]
    },
    {
      "cell_type": "code",
      "metadata": {
        "id": "NQTz-f91VMZc"
      },
      "source": [
        "import requests\n",
        "from bs4 import BeautifulSoup\n",
        "import pandas as pd\n",
        "import numpy as np\n",
        "import datetime\n",
        "from multiprocessing import Pool\n",
        "\n",
        "class Stock:\n",
        "  def __init__(self, code):\n",
        "    self.code = code\n",
        "    self.headers = {'User-Agent' : 'Mozilla/5.0 (Macintosh; Intel Mac OS X 10_14_6) AppleWebKit/537.36 (KHTML, like Gecko) Chrome/85.0.4183.121 Safari/537.36'}\n",
        "\n",
        "  def page_to_df(self, page):\n",
        "    url = \"https://finance.naver.com/item/sise_day.nhn?code=\" + self.code + \"&page=\" + str(page)\n",
        "    result = requests.get(url, headers = self.headers)\n",
        "    bs_obj = BeautifulSoup(result.content, \"html.parser\")\n",
        "    tr = bs_obj.find_all(\"tr\", {'onmouseover':'mouseOver(this)', 'onmouseout':\"mouseOut(this)\"})\n",
        "    data_dict = {}\n",
        "    for i in range(10):\n",
        "      try: \n",
        "        spans = tr[i].find_all('span')\n",
        "        lines = [span.get_text() for span in spans]\n",
        "        lines = list(map(lambda x: x.replace(',',''), lines))\n",
        "\n",
        "        objdate = datetime.datetime.strptime(lines[0], '%Y.%m.%d')\n",
        "        data_dict[objdate] = lines[1:]\n",
        "      except:\n",
        "        break\n",
        "      \n",
        "    df = pd.DataFrame.from_dict(data_dict).transpose()\n",
        "    df.columns = ['Close','_','Open','High','Low','Volume']\n",
        "    df = df.drop(columns=\"_\")\n",
        "    return df\n",
        "\n",
        "  def crawl(self, start_page:int=1, end_page:int=26):\n",
        "    df = self.page_to_df(start_page)\n",
        "    # 1 page = 10 days\n",
        "    for i in range(start_page, end_page): \n",
        "      try: \n",
        "        if (any(self.page_to_df(i).index != self.page_to_df(i-1).index)):\n",
        "          df = df.append(self.page_to_df(i))\n",
        "          print('.', end = '')\n",
        "          if (i%100==0):\n",
        "            print(i)\n",
        "        else:\n",
        "          break\n",
        "      except:\n",
        "        df = df.append(self.page_to_df(i))\n",
        "    df = df.sort_index(axis = 0) \n",
        "    for i in ['Close', 'Open', 'High', 'Low', 'Volume']:\n",
        "      df[i] = df[i].astype(int)\n",
        "    return df\n",
        "\n",
        "  def get_data(self, page:int=100):\n",
        "    with Pool(page) as p:\n",
        "        li = p.starmap(self.crawl, [(x,x) for x in range(page,0,-1)])\n",
        "    return pd.concat(li)\n",
        " \n",
        "  def get_fundamental(self):\n",
        "    url = 'https://finance.naver.com/item/main.nhn?code=' + self.code\n",
        "    result = requests.get(url, headers = self.headers)\n",
        "    bs_obj = BeautifulSoup(result.content, \"html.parser\")\n",
        "\n",
        "    ths = bs_obj.find_all(\"th\", {'scope':'col'})\n",
        "    ths = [th.get_text() for th in ths][10:-22]\n",
        "    dates = list(map(lambda x: x.translate(str.maketrans('','','\\n\\t, ')),ths))\n",
        "    dates = list(map(lambda x: x + '(Y)', dates[:4])) + list(map(lambda x: x + '(M)', dates[4:]))\n",
        "\n",
        "    tr = bs_obj.find_all(\"tbody\")\n",
        "    tds = tr[2].find_all('td')\n",
        "    tds = [td.get_text() for td in tds]\n",
        "    elements = list(map(lambda x: x.translate(str.maketrans('','','\\n\\t, ')),tds))\n",
        "    elements = list(map(lambda x: float(x) if x.replace('.','').isdigit() else np.nan, elements))\n",
        "\n",
        "    temp_dict = {}\n",
        "    cnt = 0\n",
        "    index = ['sales', 'operating profit', 'net income', 'operating margin', 'net margin', 'roe', 'debt ratio', 'quick ratio', \\\n",
        "    'reserve ratio', 'eps', 'per', 'bps', 'pbr', 'dividend per share', 'dividend yield ratio', 'dividend payout ratio']\n",
        "\n",
        "    for i in dates:\n",
        "      temp_dict[i] = elements[cnt::10]\n",
        "      cnt += 1\n",
        "\n",
        "    df = pd.DataFrame.from_dict(temp_dict)\n",
        "    df = df.set_index([pd.Index(index)])\n",
        "    return df\n",
        "  \n",
        "  def get_code_name(self):\n",
        "    url = 'https://finance.naver.com/item/main.nhn?code=' + str(self.code)\n",
        "    result = requests.get(url, headers = {'User-Agent' : 'Mozilla/5.0 (Macintosh; Intel Mac OS X 10_14_6) AppleWebKit/537.36 (KHTML, like Gecko) Chrome/85.0.4183.121 Safari/537.36'})\n",
        "    bs_obj = BeautifulSoup(result.content, \"html.parser\")\n",
        "    name = bs_obj.find_all(\"div\", {'class':'wrap_company'})\n",
        "    return name[0].find_all('h2')[0].get_text()"
      ],
      "execution_count": null,
      "outputs": []
    },
    {
      "cell_type": "code",
      "metadata": {
        "id": "1CBS-M_wYBIe"
      },
      "source": [
        "# z - normalization\n",
        "from scipy import stats\n",
        "def z_norm(x):\n",
        "  return stats.zscore(x)\n",
        "\n",
        "# min-max normalization\n",
        "def min_max_norm(x):\n",
        "  return (change - min(change))/(max(change)-min(change))\n",
        "\n",
        "# numpy version normalization\n",
        "def norm(x):\n",
        "  norm = np.linalg.norm(x)\n",
        "  return np.round(x/norm, 16)"
      ],
      "execution_count": null,
      "outputs": []
    },
    {
      "cell_type": "code",
      "metadata": {
        "id": "jf3OAWV9WbGE"
      },
      "source": [
        "stock = Stock('051900')"
      ],
      "execution_count": null,
      "outputs": []
    },
    {
      "cell_type": "code",
      "metadata": {
        "colab": {
          "base_uri": "https://localhost:8080/",
          "height": 419
        },
        "id": "SyDmT0NGWh3C",
        "outputId": "f0b1116a-822b-4b52-d518-89b26369db38"
      },
      "source": [
        "price_df = stock.get_data(500)\n",
        "price_df"
      ],
      "execution_count": null,
      "outputs": [
        {
          "output_type": "execute_result",
          "data": {
            "text/html": [
              "<div>\n",
              "<style scoped>\n",
              "    .dataframe tbody tr th:only-of-type {\n",
              "        vertical-align: middle;\n",
              "    }\n",
              "\n",
              "    .dataframe tbody tr th {\n",
              "        vertical-align: top;\n",
              "    }\n",
              "\n",
              "    .dataframe thead th {\n",
              "        text-align: right;\n",
              "    }\n",
              "</style>\n",
              "<table border=\"1\" class=\"dataframe\">\n",
              "  <thead>\n",
              "    <tr style=\"text-align: right;\">\n",
              "      <th></th>\n",
              "      <th>Close</th>\n",
              "      <th>Open</th>\n",
              "      <th>High</th>\n",
              "      <th>Low</th>\n",
              "      <th>Volume</th>\n",
              "    </tr>\n",
              "  </thead>\n",
              "  <tbody>\n",
              "    <tr>\n",
              "      <th>2001-04-25</th>\n",
              "      <td>13650</td>\n",
              "      <td>11900</td>\n",
              "      <td>13650</td>\n",
              "      <td>11900</td>\n",
              "      <td>26150</td>\n",
              "    </tr>\n",
              "    <tr>\n",
              "      <th>2001-04-26</th>\n",
              "      <td>15650</td>\n",
              "      <td>15650</td>\n",
              "      <td>15650</td>\n",
              "      <td>15650</td>\n",
              "      <td>87500</td>\n",
              "    </tr>\n",
              "    <tr>\n",
              "      <th>2001-04-27</th>\n",
              "      <td>17950</td>\n",
              "      <td>17950</td>\n",
              "      <td>17950</td>\n",
              "      <td>16600</td>\n",
              "      <td>2002100</td>\n",
              "    </tr>\n",
              "    <tr>\n",
              "      <th>2001-04-30</th>\n",
              "      <td>18000</td>\n",
              "      <td>18900</td>\n",
              "      <td>19500</td>\n",
              "      <td>17500</td>\n",
              "      <td>1296800</td>\n",
              "    </tr>\n",
              "    <tr>\n",
              "      <th>2001-05-02</th>\n",
              "      <td>20700</td>\n",
              "      <td>18500</td>\n",
              "      <td>20700</td>\n",
              "      <td>17750</td>\n",
              "      <td>1081050</td>\n",
              "    </tr>\n",
              "    <tr>\n",
              "      <th>...</th>\n",
              "      <td>...</td>\n",
              "      <td>...</td>\n",
              "      <td>...</td>\n",
              "      <td>...</td>\n",
              "      <td>...</td>\n",
              "    </tr>\n",
              "    <tr>\n",
              "      <th>2021-05-11</th>\n",
              "      <td>1561000</td>\n",
              "      <td>1596000</td>\n",
              "      <td>1596000</td>\n",
              "      <td>1557000</td>\n",
              "      <td>36517</td>\n",
              "    </tr>\n",
              "    <tr>\n",
              "      <th>2021-05-12</th>\n",
              "      <td>1530000</td>\n",
              "      <td>1556000</td>\n",
              "      <td>1560000</td>\n",
              "      <td>1522000</td>\n",
              "      <td>42804</td>\n",
              "    </tr>\n",
              "    <tr>\n",
              "      <th>2021-05-13</th>\n",
              "      <td>1519000</td>\n",
              "      <td>1525000</td>\n",
              "      <td>1539000</td>\n",
              "      <td>1516000</td>\n",
              "      <td>36979</td>\n",
              "    </tr>\n",
              "    <tr>\n",
              "      <th>2021-05-14</th>\n",
              "      <td>1521000</td>\n",
              "      <td>1521000</td>\n",
              "      <td>1530000</td>\n",
              "      <td>1515000</td>\n",
              "      <td>23542</td>\n",
              "    </tr>\n",
              "    <tr>\n",
              "      <th>2021-05-17</th>\n",
              "      <td>1518000</td>\n",
              "      <td>1521000</td>\n",
              "      <td>1529000</td>\n",
              "      <td>1511000</td>\n",
              "      <td>23492</td>\n",
              "    </tr>\n",
              "  </tbody>\n",
              "</table>\n",
              "<p>4995 rows × 5 columns</p>\n",
              "</div>"
            ],
            "text/plain": [
              "              Close     Open     High      Low   Volume\n",
              "2001-04-25    13650    11900    13650    11900    26150\n",
              "2001-04-26    15650    15650    15650    15650    87500\n",
              "2001-04-27    17950    17950    17950    16600  2002100\n",
              "2001-04-30    18000    18900    19500    17500  1296800\n",
              "2001-05-02    20700    18500    20700    17750  1081050\n",
              "...             ...      ...      ...      ...      ...\n",
              "2021-05-11  1561000  1596000  1596000  1557000    36517\n",
              "2021-05-12  1530000  1556000  1560000  1522000    42804\n",
              "2021-05-13  1519000  1525000  1539000  1516000    36979\n",
              "2021-05-14  1521000  1521000  1530000  1515000    23542\n",
              "2021-05-17  1518000  1521000  1529000  1511000    23492\n",
              "\n",
              "[4995 rows x 5 columns]"
            ]
          },
          "metadata": {
            "tags": []
          },
          "execution_count": 4
        }
      ]
    },
    {
      "cell_type": "code",
      "metadata": {
        "colab": {
          "base_uri": "https://localhost:8080/",
          "height": 545
        },
        "id": "DLpKGPj9HaKE",
        "outputId": "dced6e6f-30fa-43ec-9366-872a2ae767c6"
      },
      "source": [
        "fundamental_df = stock.get_fundamental()\n",
        "fundamental_df"
      ],
      "execution_count": null,
      "outputs": [
        {
          "output_type": "execute_result",
          "data": {
            "text/html": [
              "<div>\n",
              "<style scoped>\n",
              "    .dataframe tbody tr th:only-of-type {\n",
              "        vertical-align: middle;\n",
              "    }\n",
              "\n",
              "    .dataframe tbody tr th {\n",
              "        vertical-align: top;\n",
              "    }\n",
              "\n",
              "    .dataframe thead th {\n",
              "        text-align: right;\n",
              "    }\n",
              "</style>\n",
              "<table border=\"1\" class=\"dataframe\">\n",
              "  <thead>\n",
              "    <tr style=\"text-align: right;\">\n",
              "      <th></th>\n",
              "      <th>2018.12(Y)</th>\n",
              "      <th>2019.12(Y)</th>\n",
              "      <th>2020.12(Y)</th>\n",
              "      <th>2021.12(E)(Y)</th>\n",
              "      <th>2019.12(M)</th>\n",
              "      <th>2020.03(M)</th>\n",
              "      <th>2020.06(M)</th>\n",
              "      <th>2020.09(M)</th>\n",
              "      <th>2020.12(M)</th>\n",
              "      <th>2021.03(E)(M)</th>\n",
              "    </tr>\n",
              "  </thead>\n",
              "  <tbody>\n",
              "    <tr>\n",
              "      <th>sales</th>\n",
              "      <td>67475.00</td>\n",
              "      <td>76854.00</td>\n",
              "      <td>78445.00</td>\n",
              "      <td>86417.00</td>\n",
              "      <td>20133.00</td>\n",
              "      <td>18964.00</td>\n",
              "      <td>17832.00</td>\n",
              "      <td>20706.00</td>\n",
              "      <td>20944.00</td>\n",
              "      <td>20638.00</td>\n",
              "    </tr>\n",
              "    <tr>\n",
              "      <th>operating profit</th>\n",
              "      <td>10393.00</td>\n",
              "      <td>11764.00</td>\n",
              "      <td>12209.00</td>\n",
              "      <td>13758.00</td>\n",
              "      <td>2410.00</td>\n",
              "      <td>3337.00</td>\n",
              "      <td>3033.00</td>\n",
              "      <td>3276.00</td>\n",
              "      <td>2563.00</td>\n",
              "      <td>3562.00</td>\n",
              "    </tr>\n",
              "    <tr>\n",
              "      <th>net income</th>\n",
              "      <td>6923.00</td>\n",
              "      <td>7882.00</td>\n",
              "      <td>8131.00</td>\n",
              "      <td>9392.00</td>\n",
              "      <td>1338.00</td>\n",
              "      <td>2342.00</td>\n",
              "      <td>2046.00</td>\n",
              "      <td>2317.00</td>\n",
              "      <td>1426.00</td>\n",
              "      <td>2447.00</td>\n",
              "    </tr>\n",
              "    <tr>\n",
              "      <th>operating margin</th>\n",
              "      <td>15.40</td>\n",
              "      <td>15.31</td>\n",
              "      <td>15.56</td>\n",
              "      <td>15.92</td>\n",
              "      <td>11.97</td>\n",
              "      <td>17.60</td>\n",
              "      <td>17.01</td>\n",
              "      <td>15.82</td>\n",
              "      <td>12.24</td>\n",
              "      <td>17.26</td>\n",
              "    </tr>\n",
              "    <tr>\n",
              "      <th>net margin</th>\n",
              "      <td>10.26</td>\n",
              "      <td>10.26</td>\n",
              "      <td>10.37</td>\n",
              "      <td>10.87</td>\n",
              "      <td>6.65</td>\n",
              "      <td>12.35</td>\n",
              "      <td>11.47</td>\n",
              "      <td>11.19</td>\n",
              "      <td>6.81</td>\n",
              "      <td>11.86</td>\n",
              "    </tr>\n",
              "    <tr>\n",
              "      <th>roe</th>\n",
              "      <td>20.98</td>\n",
              "      <td>20.32</td>\n",
              "      <td>17.92</td>\n",
              "      <td>18.05</td>\n",
              "      <td>20.32</td>\n",
              "      <td>20.00</td>\n",
              "      <td>18.79</td>\n",
              "      <td>18.12</td>\n",
              "      <td>17.92</td>\n",
              "      <td>NaN</td>\n",
              "    </tr>\n",
              "    <tr>\n",
              "      <th>debt ratio</th>\n",
              "      <td>46.80</td>\n",
              "      <td>53.26</td>\n",
              "      <td>40.26</td>\n",
              "      <td>NaN</td>\n",
              "      <td>53.26</td>\n",
              "      <td>50.42</td>\n",
              "      <td>46.13</td>\n",
              "      <td>43.32</td>\n",
              "      <td>40.26</td>\n",
              "      <td>NaN</td>\n",
              "    </tr>\n",
              "    <tr>\n",
              "      <th>quick ratio</th>\n",
              "      <td>79.22</td>\n",
              "      <td>79.99</td>\n",
              "      <td>79.33</td>\n",
              "      <td>NaN</td>\n",
              "      <td>79.99</td>\n",
              "      <td>78.73</td>\n",
              "      <td>67.99</td>\n",
              "      <td>82.28</td>\n",
              "      <td>79.33</td>\n",
              "      <td>NaN</td>\n",
              "    </tr>\n",
              "    <tr>\n",
              "      <th>reserve ratio</th>\n",
              "      <td>4132.20</td>\n",
              "      <td>4822.48</td>\n",
              "      <td>5534.21</td>\n",
              "      <td>NaN</td>\n",
              "      <td>4822.48</td>\n",
              "      <td>4874.03</td>\n",
              "      <td>5099.47</td>\n",
              "      <td>5356.00</td>\n",
              "      <td>5534.21</td>\n",
              "      <td>NaN</td>\n",
              "    </tr>\n",
              "    <tr>\n",
              "      <th>eps</th>\n",
              "      <td>38534.00</td>\n",
              "      <td>43916.00</td>\n",
              "      <td>45018.00</td>\n",
              "      <td>52203.00</td>\n",
              "      <td>7512.00</td>\n",
              "      <td>13016.00</td>\n",
              "      <td>11282.00</td>\n",
              "      <td>12823.00</td>\n",
              "      <td>7897.00</td>\n",
              "      <td>13852.00</td>\n",
              "    </tr>\n",
              "    <tr>\n",
              "      <th>per</th>\n",
              "      <td>28.57</td>\n",
              "      <td>28.71</td>\n",
              "      <td>35.99</td>\n",
              "      <td>29.14</td>\n",
              "      <td>28.71</td>\n",
              "      <td>25.27</td>\n",
              "      <td>30.70</td>\n",
              "      <td>32.44</td>\n",
              "      <td>35.99</td>\n",
              "      <td>112.62</td>\n",
              "    </tr>\n",
              "    <tr>\n",
              "      <th>bps</th>\n",
              "      <td>209600.00</td>\n",
              "      <td>247477.00</td>\n",
              "      <td>283837.00</td>\n",
              "      <td>327942.00</td>\n",
              "      <td>247477.00</td>\n",
              "      <td>253945.00</td>\n",
              "      <td>265193.00</td>\n",
              "      <td>278466.00</td>\n",
              "      <td>283837.00</td>\n",
              "      <td>NaN</td>\n",
              "    </tr>\n",
              "    <tr>\n",
              "      <th>pbr</th>\n",
              "      <td>5.25</td>\n",
              "      <td>5.10</td>\n",
              "      <td>5.71</td>\n",
              "      <td>4.64</td>\n",
              "      <td>5.10</td>\n",
              "      <td>4.41</td>\n",
              "      <td>5.08</td>\n",
              "      <td>5.20</td>\n",
              "      <td>5.71</td>\n",
              "      <td>NaN</td>\n",
              "    </tr>\n",
              "    <tr>\n",
              "      <th>dividend per share</th>\n",
              "      <td>9250.00</td>\n",
              "      <td>11000.00</td>\n",
              "      <td>11000.00</td>\n",
              "      <td>11513.00</td>\n",
              "      <td>NaN</td>\n",
              "      <td>NaN</td>\n",
              "      <td>NaN</td>\n",
              "      <td>NaN</td>\n",
              "      <td>NaN</td>\n",
              "      <td>NaN</td>\n",
              "    </tr>\n",
              "    <tr>\n",
              "      <th>dividend yield ratio</th>\n",
              "      <td>0.84</td>\n",
              "      <td>0.87</td>\n",
              "      <td>0.68</td>\n",
              "      <td>NaN</td>\n",
              "      <td>NaN</td>\n",
              "      <td>NaN</td>\n",
              "      <td>NaN</td>\n",
              "      <td>NaN</td>\n",
              "      <td>NaN</td>\n",
              "      <td>NaN</td>\n",
              "    </tr>\n",
              "    <tr>\n",
              "      <th>dividend payout ratio</th>\n",
              "      <td>22.72</td>\n",
              "      <td>23.70</td>\n",
              "      <td>23.12</td>\n",
              "      <td>NaN</td>\n",
              "      <td>NaN</td>\n",
              "      <td>NaN</td>\n",
              "      <td>NaN</td>\n",
              "      <td>NaN</td>\n",
              "      <td>NaN</td>\n",
              "      <td>NaN</td>\n",
              "    </tr>\n",
              "  </tbody>\n",
              "</table>\n",
              "</div>"
            ],
            "text/plain": [
              "                       2018.12(Y)  2019.12(Y)  ...  2020.12(M)  2021.03(E)(M)\n",
              "sales                    67475.00    76854.00  ...    20944.00       20638.00\n",
              "operating profit         10393.00    11764.00  ...     2563.00        3562.00\n",
              "net income                6923.00     7882.00  ...     1426.00        2447.00\n",
              "operating margin            15.40       15.31  ...       12.24          17.26\n",
              "net margin                  10.26       10.26  ...        6.81          11.86\n",
              "roe                         20.98       20.32  ...       17.92            NaN\n",
              "debt ratio                  46.80       53.26  ...       40.26            NaN\n",
              "quick ratio                 79.22       79.99  ...       79.33            NaN\n",
              "reserve ratio             4132.20     4822.48  ...     5534.21            NaN\n",
              "eps                      38534.00    43916.00  ...     7897.00       13852.00\n",
              "per                         28.57       28.71  ...       35.99         112.62\n",
              "bps                     209600.00   247477.00  ...   283837.00            NaN\n",
              "pbr                          5.25        5.10  ...        5.71            NaN\n",
              "dividend per share        9250.00    11000.00  ...         NaN            NaN\n",
              "dividend yield ratio         0.84        0.87  ...         NaN            NaN\n",
              "dividend payout ratio       22.72       23.70  ...         NaN            NaN\n",
              "\n",
              "[16 rows x 10 columns]"
            ]
          },
          "metadata": {
            "tags": []
          },
          "execution_count": 5
        }
      ]
    },
    {
      "cell_type": "code",
      "metadata": {
        "id": "EKbMt7pYIXcb"
      },
      "source": [
        "def find_date(year, month):\n",
        "  start = str(year) + '-' + str(month) + '-' + '01'\n",
        "  end = str(year) + '-' + str(month) + '-' + '20'\n",
        "  return price_df.loc[start:end].index.values[0]"
      ],
      "execution_count": null,
      "outputs": []
    },
    {
      "cell_type": "code",
      "metadata": {
        "id": "flTtGVyFK1X-",
        "colab": {
          "base_uri": "https://localhost:8080/"
        },
        "outputId": "011126cd-caf2-494d-9c92-451a03a7e96c"
      },
      "source": [
        "fundamental_df.columns.values"
      ],
      "execution_count": null,
      "outputs": [
        {
          "output_type": "execute_result",
          "data": {
            "text/plain": [
              "array(['2018.12(Y)', '2019.12(Y)', '2020.12(Y)', '2021.12(E)(Y)',\n",
              "       '2019.12(M)', '2020.03(M)', '2020.06(M)', '2020.09(M)',\n",
              "       '2020.12(M)', '2021.03(E)(M)'], dtype=object)"
            ]
          },
          "metadata": {
            "tags": []
          },
          "execution_count": 102
        }
      ]
    },
    {
      "cell_type": "code",
      "metadata": {
        "id": "ZTkSmDv5Ima5"
      },
      "source": [
        "price_dic = {}\n",
        "cnt = 0\n",
        "for i in [(x[:4], x[5:7]) for x in fundamental_df.columns.values]:\n",
        "  try:\n",
        "    price_dic[fundamental_df.columns.values[cnt]] = price_df.loc[find_date(i[0],i[1])]['Close']\n",
        "  except:\n",
        "    price_dic[fundamental_df.columns.values[cnt]] = 0\n",
        "  \n",
        "  cnt+=1"
      ],
      "execution_count": null,
      "outputs": []
    },
    {
      "cell_type": "code",
      "metadata": {
        "id": "vCPApO10MtT9",
        "colab": {
          "base_uri": "https://localhost:8080/"
        },
        "outputId": "9145ab05-3efc-49a3-ac78-225bcba23360"
      },
      "source": [
        "price_dic"
      ],
      "execution_count": null,
      "outputs": [
        {
          "output_type": "execute_result",
          "data": {
            "text/plain": [
              "{'2018.12(Y)': 1200000,\n",
              " '2019.12(M)': 1258000,\n",
              " '2019.12(Y)': 1258000,\n",
              " '2020.03(M)': 1210000,\n",
              " '2020.06(M)': 1363000,\n",
              " '2020.09(M)': 1513000,\n",
              " '2020.12(M)': 1538000,\n",
              " '2020.12(Y)': 1538000,\n",
              " '2021.03(E)(M)': 1505000,\n",
              " '2021.12(E)(Y)': 0}"
            ]
          },
          "metadata": {
            "tags": []
          },
          "execution_count": 124
        }
      ]
    },
    {
      "cell_type": "code",
      "metadata": {
        "id": "GreoRo-EMqd_",
        "colab": {
          "base_uri": "https://localhost:8080/"
        },
        "outputId": "4c4afa95-aec4-4154-f363-c13dea388f3b"
      },
      "source": [
        "price_dic.values()"
      ],
      "execution_count": null,
      "outputs": [
        {
          "output_type": "execute_result",
          "data": {
            "text/plain": [
              "dict_values([1200000, 1258000, 1538000, 0, 1258000, 1210000, 1363000, 1513000, 1538000, 1505000])"
            ]
          },
          "metadata": {
            "tags": []
          },
          "execution_count": 123
        }
      ]
    },
    {
      "cell_type": "code",
      "metadata": {
        "id": "Wr2sQo_PJRci",
        "colab": {
          "base_uri": "https://localhost:8080/"
        },
        "outputId": "22589843-7da4-4671-f10a-7ab7e3c62510"
      },
      "source": [
        "price_dic.keys()"
      ],
      "execution_count": null,
      "outputs": [
        {
          "output_type": "execute_result",
          "data": {
            "text/plain": [
              "dict_keys(['2018.12(Y)', '2019.12(Y)', '2020.12(Y)', '2021.12(E)(Y)', '2019.12(M)', '2020.03(M)', '2020.06(M)', '2020.09(M)', '2020.12(M)', '2021.03(E)(M)'])"
            ]
          },
          "metadata": {
            "tags": []
          },
          "execution_count": 122
        }
      ]
    },
    {
      "cell_type": "code",
      "metadata": {
        "id": "7fW_fOtQLuxp",
        "colab": {
          "base_uri": "https://localhost:8080/",
          "height": 283
        },
        "outputId": "7c660b8a-a3c8-44da-ef0d-d25bef37f53c"
      },
      "source": [
        "pd.DataFrame.from_dict(price_dic, orient=['Price'])"
      ],
      "execution_count": null,
      "outputs": [
        {
          "output_type": "error",
          "ename": "AttributeError",
          "evalue": "ignored",
          "traceback": [
            "\u001b[0;31m---------------------------------------------------------------------------\u001b[0m",
            "\u001b[0;31mAttributeError\u001b[0m                            Traceback (most recent call last)",
            "\u001b[0;32m<ipython-input-120-a0da712f39c7>\u001b[0m in \u001b[0;36m<module>\u001b[0;34m()\u001b[0m\n\u001b[0;32m----> 1\u001b[0;31m \u001b[0mpd\u001b[0m\u001b[0;34m.\u001b[0m\u001b[0mDataFrame\u001b[0m\u001b[0;34m.\u001b[0m\u001b[0mfrom_dict\u001b[0m\u001b[0;34m(\u001b[0m\u001b[0mprice_dic\u001b[0m\u001b[0;34m,\u001b[0m \u001b[0morient\u001b[0m\u001b[0;34m=\u001b[0m\u001b[0;34m[\u001b[0m\u001b[0;34m'Price'\u001b[0m\u001b[0;34m]\u001b[0m\u001b[0;34m)\u001b[0m\u001b[0;34m\u001b[0m\u001b[0;34m\u001b[0m\u001b[0m\n\u001b[0m",
            "\u001b[0;32m/usr/local/lib/python3.7/dist-packages/pandas/core/frame.py\u001b[0m in \u001b[0;36mfrom_dict\u001b[0;34m(cls, data, orient, dtype, columns)\u001b[0m\n\u001b[1;32m   1293\u001b[0m         \"\"\"\n\u001b[1;32m   1294\u001b[0m         \u001b[0mindex\u001b[0m \u001b[0;34m=\u001b[0m \u001b[0;32mNone\u001b[0m\u001b[0;34m\u001b[0m\u001b[0;34m\u001b[0m\u001b[0m\n\u001b[0;32m-> 1295\u001b[0;31m         \u001b[0morient\u001b[0m \u001b[0;34m=\u001b[0m \u001b[0morient\u001b[0m\u001b[0;34m.\u001b[0m\u001b[0mlower\u001b[0m\u001b[0;34m(\u001b[0m\u001b[0;34m)\u001b[0m\u001b[0;34m\u001b[0m\u001b[0;34m\u001b[0m\u001b[0m\n\u001b[0m\u001b[1;32m   1296\u001b[0m         \u001b[0;32mif\u001b[0m \u001b[0morient\u001b[0m \u001b[0;34m==\u001b[0m \u001b[0;34m\"index\"\u001b[0m\u001b[0;34m:\u001b[0m\u001b[0;34m\u001b[0m\u001b[0;34m\u001b[0m\u001b[0m\n\u001b[1;32m   1297\u001b[0m             \u001b[0;32mif\u001b[0m \u001b[0mlen\u001b[0m\u001b[0;34m(\u001b[0m\u001b[0mdata\u001b[0m\u001b[0;34m)\u001b[0m \u001b[0;34m>\u001b[0m \u001b[0;36m0\u001b[0m\u001b[0;34m:\u001b[0m\u001b[0;34m\u001b[0m\u001b[0;34m\u001b[0m\u001b[0m\n",
            "\u001b[0;31mAttributeError\u001b[0m: 'list' object has no attribute 'lower'"
          ]
        }
      ]
    },
    {
      "cell_type": "code",
      "metadata": {
        "id": "tG2grPVPLbHI",
        "colab": {
          "base_uri": "https://localhost:8080/",
          "height": 164
        },
        "outputId": "57db8b3e-d7ce-4cc2-cc38-c480fd6de203"
      },
      "source": [
        "pd.DataFrame.from_dict(price_dic, index = [0])"
      ],
      "execution_count": null,
      "outputs": [
        {
          "output_type": "error",
          "ename": "TypeError",
          "evalue": "ignored",
          "traceback": [
            "\u001b[0;31m---------------------------------------------------------------------------\u001b[0m",
            "\u001b[0;31mTypeError\u001b[0m                                 Traceback (most recent call last)",
            "\u001b[0;32m<ipython-input-110-ebf491fdecd3>\u001b[0m in \u001b[0;36m<module>\u001b[0;34m()\u001b[0m\n\u001b[0;32m----> 1\u001b[0;31m \u001b[0mpd\u001b[0m\u001b[0;34m.\u001b[0m\u001b[0mDataFrame\u001b[0m\u001b[0;34m.\u001b[0m\u001b[0mfrom_dict\u001b[0m\u001b[0;34m(\u001b[0m\u001b[0mprice_dic\u001b[0m\u001b[0;34m,\u001b[0m \u001b[0mindex\u001b[0m \u001b[0;34m=\u001b[0m \u001b[0;34m[\u001b[0m\u001b[0;36m0\u001b[0m\u001b[0;34m]\u001b[0m\u001b[0;34m)\u001b[0m\u001b[0;34m\u001b[0m\u001b[0;34m\u001b[0m\u001b[0m\n\u001b[0m",
            "\u001b[0;31mTypeError\u001b[0m: from_dict() got an unexpected keyword argument 'index'"
          ]
        }
      ]
    },
    {
      "cell_type": "code",
      "metadata": {
        "id": "pV2hK5fnJ0o2"
      },
      "source": [
        "temp_df = fundamental_df"
      ],
      "execution_count": null,
      "outputs": []
    },
    {
      "cell_type": "code",
      "metadata": {
        "id": "nKVVsAdCJ_xE"
      },
      "source": [
        "output = pd.DataFrame()\n",
        "output = output.append(dictionary, ignore_index=True)\n",
        "print(output.head())"
      ],
      "execution_count": null,
      "outputs": []
    },
    {
      "cell_type": "code",
      "metadata": {
        "colab": {
          "base_uri": "https://localhost:8080/",
          "height": 283
        },
        "id": "Fp80OrThii0J",
        "outputId": "51182e05-30eb-4c6c-ae36-242c9ed617fd"
      },
      "source": [
        "temp_df.append(price_dic)"
      ],
      "execution_count": null,
      "outputs": [
        {
          "output_type": "error",
          "ename": "TypeError",
          "evalue": "ignored",
          "traceback": [
            "\u001b[0;31m---------------------------------------------------------------------------\u001b[0m",
            "\u001b[0;31mTypeError\u001b[0m                                 Traceback (most recent call last)",
            "\u001b[0;32m<ipython-input-98-d26e2cf7c662>\u001b[0m in \u001b[0;36m<module>\u001b[0;34m()\u001b[0m\n\u001b[0;32m----> 1\u001b[0;31m \u001b[0mtemp_df\u001b[0m\u001b[0;34m.\u001b[0m\u001b[0mappend\u001b[0m\u001b[0;34m(\u001b[0m\u001b[0mprice_dic\u001b[0m\u001b[0;34m)\u001b[0m\u001b[0;34m\u001b[0m\u001b[0;34m\u001b[0m\u001b[0m\n\u001b[0m",
            "\u001b[0;32m/usr/local/lib/python3.7/dist-packages/pandas/core/frame.py\u001b[0m in \u001b[0;36mappend\u001b[0;34m(self, other, ignore_index, verify_integrity, sort)\u001b[0m\n\u001b[1;32m   7709\u001b[0m             \u001b[0;32mif\u001b[0m \u001b[0misinstance\u001b[0m\u001b[0;34m(\u001b[0m\u001b[0mother\u001b[0m\u001b[0;34m,\u001b[0m \u001b[0mdict\u001b[0m\u001b[0;34m)\u001b[0m\u001b[0;34m:\u001b[0m\u001b[0;34m\u001b[0m\u001b[0;34m\u001b[0m\u001b[0m\n\u001b[1;32m   7710\u001b[0m                 \u001b[0;32mif\u001b[0m \u001b[0;32mnot\u001b[0m \u001b[0mignore_index\u001b[0m\u001b[0;34m:\u001b[0m\u001b[0;34m\u001b[0m\u001b[0;34m\u001b[0m\u001b[0m\n\u001b[0;32m-> 7711\u001b[0;31m                     \u001b[0;32mraise\u001b[0m \u001b[0mTypeError\u001b[0m\u001b[0;34m(\u001b[0m\u001b[0;34m\"Can only append a dict if ignore_index=True\"\u001b[0m\u001b[0;34m)\u001b[0m\u001b[0;34m\u001b[0m\u001b[0;34m\u001b[0m\u001b[0m\n\u001b[0m\u001b[1;32m   7712\u001b[0m                 \u001b[0mother\u001b[0m \u001b[0;34m=\u001b[0m \u001b[0mSeries\u001b[0m\u001b[0;34m(\u001b[0m\u001b[0mother\u001b[0m\u001b[0;34m)\u001b[0m\u001b[0;34m\u001b[0m\u001b[0;34m\u001b[0m\u001b[0m\n\u001b[1;32m   7713\u001b[0m             \u001b[0;32mif\u001b[0m \u001b[0mother\u001b[0m\u001b[0;34m.\u001b[0m\u001b[0mname\u001b[0m \u001b[0;32mis\u001b[0m \u001b[0;32mNone\u001b[0m \u001b[0;32mand\u001b[0m \u001b[0;32mnot\u001b[0m \u001b[0mignore_index\u001b[0m\u001b[0;34m:\u001b[0m\u001b[0;34m\u001b[0m\u001b[0;34m\u001b[0m\u001b[0m\n",
            "\u001b[0;31mTypeError\u001b[0m: Can only append a dict if ignore_index=True"
          ]
        }
      ]
    },
    {
      "cell_type": "code",
      "metadata": {
        "id": "gnLrYtAyHioA"
      },
      "source": [
        "import seaborn as sns\n",
        "import matplotlib.pyplot as plt\n",
        "\n",
        "# correlation heatmap\n",
        "corrmat = fundamental_df.transpose().corr().abs() \n",
        "plt.subplots(figsize=(10,10))\n",
        "sns.heatmap(corrmat, annot = True)"
      ],
      "execution_count": null,
      "outputs": []
    },
    {
      "cell_type": "code",
      "metadata": {
        "id": "ti11ekViKeP1"
      },
      "source": [
        ""
      ],
      "execution_count": null,
      "outputs": []
    }
  ]
}