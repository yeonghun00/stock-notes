{
  "nbformat": 4,
  "nbformat_minor": 0,
  "metadata": {
    "colab": {
      "name": "optimized position analysis",
      "provenance": [],
      "collapsed_sections": [],
      "authorship_tag": "ABX9TyNe4KWghRfnWjIkvPF0dIr0",
      "include_colab_link": true
    },
    "kernelspec": {
      "name": "python3",
      "display_name": "Python 3"
    },
    "language_info": {
      "name": "python"
    }
  },
  "cells": [
    {
      "cell_type": "markdown",
      "metadata": {
        "id": "view-in-github",
        "colab_type": "text"
      },
      "source": [
        "<a href=\"https://colab.research.google.com/github/yeonghun00/stock_public/blob/main/optimized_position_analysis.ipynb\" target=\"_parent\"><img src=\"https://colab.research.google.com/assets/colab-badge.svg\" alt=\"Open In Colab\"/></a>"
      ]
    },
    {
      "cell_type": "code",
      "metadata": {
        "id": "t5E-xuAG28kv"
      },
      "source": [
        "#참고 https://losskatsu.github.io/statistics/prob-distribution/#%EC%B0%B8%EA%B3%A0-%ED%99%95%EB%A5%A0%EB%B6%84%ED%8F%AC%EA%B0%84-%EA%B4%80%EA%B3%84%EB%8F%84"
      ],
      "execution_count": null,
      "outputs": []
    },
    {
      "cell_type": "code",
      "metadata": {
        "colab": {
          "base_uri": "https://localhost:8080/",
          "height": 467
        },
        "id": "6KfE2kk7v_LT",
        "outputId": "74698c5d-d23c-45f2-e962-bdb0ee3273fa"
      },
      "source": [
        "import requests\n",
        "from bs4 import BeautifulSoup\n",
        "import pandas as pd\n",
        "import numpy as np\n",
        "import datetime\n",
        "import ast\n",
        "\n",
        "def get_price(code:str='KOSPI', start:int='20000101', interval='day'):\n",
        "  url ='https://api.finance.naver.com/siseJson.naver?symbol=' + code + ' &requestType=1&startTime=' \\\n",
        "  + start + '&endTime=' + str(datetime.datetime.now().date().strftime(\"%Y%m%d\")) +  '&timeframe=' + interval\n",
        "\n",
        "  result = requests.get(url, headers={'User-Agent' : 'Mozilla/5.0 (Macintosh; Intel Mac OS X 10_14_6) AppleWebKit/537.36 (KHTML, like Gecko) Chrome/85.0.4183.121 Safari/537.36'})\n",
        "  bs_obj = BeautifulSoup(result.content, \"html.parser\")\n",
        "  b = bs_obj.get_text()\n",
        "  for i in ['\\n', '\\t', ' ']:\n",
        "    b = b.replace(i,'')\n",
        "\n",
        "  data = np.array(ast.literal_eval(b)[1:])\n",
        "\n",
        "  dic = {'Date':list(map(lambda x: datetime.datetime.strptime(str(x), '%Y%m%d'), data[:,0])), \\\n",
        "    'Open':np.array(data[:,1], float), 'High':np.array(data[:,2], float), 'Low':np.array(data[:,3], float),\\\n",
        "      'Close':np.array(data[:,4], float), 'Change': [round(x,4) for x in (np.array(data[:,4], float)/np.array(data[:,1], float))],\\\n",
        "       'Volume':np.array(data[:,5], float)}\n",
        "\n",
        "  df = pd.DataFrame(data=dic)\n",
        "  df = df.set_index('Date')\n",
        "  return df\n",
        "\n",
        "df = get_price()\n",
        "df"
      ],
      "execution_count": 31,
      "outputs": [
        {
          "output_type": "stream",
          "text": [
            "/usr/local/lib/python3.7/dist-packages/ipykernel_launcher.py:19: RuntimeWarning: divide by zero encountered in true_divide\n"
          ],
          "name": "stderr"
        },
        {
          "output_type": "execute_result",
          "data": {
            "text/html": [
              "<div>\n",
              "<style scoped>\n",
              "    .dataframe tbody tr th:only-of-type {\n",
              "        vertical-align: middle;\n",
              "    }\n",
              "\n",
              "    .dataframe tbody tr th {\n",
              "        vertical-align: top;\n",
              "    }\n",
              "\n",
              "    .dataframe thead th {\n",
              "        text-align: right;\n",
              "    }\n",
              "</style>\n",
              "<table border=\"1\" class=\"dataframe\">\n",
              "  <thead>\n",
              "    <tr style=\"text-align: right;\">\n",
              "      <th></th>\n",
              "      <th>Open</th>\n",
              "      <th>High</th>\n",
              "      <th>Low</th>\n",
              "      <th>Close</th>\n",
              "      <th>Change</th>\n",
              "      <th>Volume</th>\n",
              "    </tr>\n",
              "    <tr>\n",
              "      <th>Date</th>\n",
              "      <th></th>\n",
              "      <th></th>\n",
              "      <th></th>\n",
              "      <th></th>\n",
              "      <th></th>\n",
              "      <th></th>\n",
              "    </tr>\n",
              "  </thead>\n",
              "  <tbody>\n",
              "    <tr>\n",
              "      <th>2000-01-04</th>\n",
              "      <td>102833.0</td>\n",
              "      <td>106618.0</td>\n",
              "      <td>101659.0</td>\n",
              "      <td>105904.0</td>\n",
              "      <td>1.0299</td>\n",
              "      <td>195898.0</td>\n",
              "    </tr>\n",
              "    <tr>\n",
              "      <th>2000-01-05</th>\n",
              "      <td>100687.0</td>\n",
              "      <td>102652.0</td>\n",
              "      <td>98405.0</td>\n",
              "      <td>98631.0</td>\n",
              "      <td>0.9796</td>\n",
              "      <td>257696.0</td>\n",
              "    </tr>\n",
              "    <tr>\n",
              "      <th>2000-01-06</th>\n",
              "      <td>101395.0</td>\n",
              "      <td>101490.0</td>\n",
              "      <td>95350.0</td>\n",
              "      <td>96079.0</td>\n",
              "      <td>0.9476</td>\n",
              "      <td>203523.0</td>\n",
              "    </tr>\n",
              "    <tr>\n",
              "      <th>2000-01-07</th>\n",
              "      <td>94917.0</td>\n",
              "      <td>97016.0</td>\n",
              "      <td>93084.0</td>\n",
              "      <td>94865.0</td>\n",
              "      <td>0.9995</td>\n",
              "      <td>215664.0</td>\n",
              "    </tr>\n",
              "    <tr>\n",
              "      <th>2000-01-10</th>\n",
              "      <td>97967.0</td>\n",
              "      <td>99494.0</td>\n",
              "      <td>97482.0</td>\n",
              "      <td>98724.0</td>\n",
              "      <td>1.0077</td>\n",
              "      <td>240175.0</td>\n",
              "    </tr>\n",
              "    <tr>\n",
              "      <th>...</th>\n",
              "      <td>...</td>\n",
              "      <td>...</td>\n",
              "      <td>...</td>\n",
              "      <td>...</td>\n",
              "      <td>...</td>\n",
              "      <td>...</td>\n",
              "    </tr>\n",
              "    <tr>\n",
              "      <th>2021-06-01</th>\n",
              "      <td>320712.0</td>\n",
              "      <td>323317.0</td>\n",
              "      <td>319918.0</td>\n",
              "      <td>322187.0</td>\n",
              "      <td>1.0046</td>\n",
              "      <td>1472570.0</td>\n",
              "    </tr>\n",
              "    <tr>\n",
              "      <th>2021-06-02</th>\n",
              "      <td>322440.0</td>\n",
              "      <td>324107.0</td>\n",
              "      <td>321610.0</td>\n",
              "      <td>322423.0</td>\n",
              "      <td>0.9999</td>\n",
              "      <td>1495671.0</td>\n",
              "    </tr>\n",
              "    <tr>\n",
              "      <th>2021-06-03</th>\n",
              "      <td>322496.0</td>\n",
              "      <td>325850.0</td>\n",
              "      <td>322496.0</td>\n",
              "      <td>324743.0</td>\n",
              "      <td>1.0070</td>\n",
              "      <td>1584799.0</td>\n",
              "    </tr>\n",
              "    <tr>\n",
              "      <th>2021-06-04</th>\n",
              "      <td>324617.0</td>\n",
              "      <td>324619.0</td>\n",
              "      <td>321867.0</td>\n",
              "      <td>324008.0</td>\n",
              "      <td>0.9981</td>\n",
              "      <td>1392319.0</td>\n",
              "    </tr>\n",
              "    <tr>\n",
              "      <th>2021-06-07</th>\n",
              "      <td>324459.0</td>\n",
              "      <td>326441.0</td>\n",
              "      <td>323340.0</td>\n",
              "      <td>324330.0</td>\n",
              "      <td>0.9996</td>\n",
              "      <td>1209800.0</td>\n",
              "    </tr>\n",
              "  </tbody>\n",
              "</table>\n",
              "<p>5291 rows × 6 columns</p>\n",
              "</div>"
            ],
            "text/plain": [
              "                Open      High       Low     Close  Change     Volume\n",
              "Date                                                                 \n",
              "2000-01-04  102833.0  106618.0  101659.0  105904.0  1.0299   195898.0\n",
              "2000-01-05  100687.0  102652.0   98405.0   98631.0  0.9796   257696.0\n",
              "2000-01-06  101395.0  101490.0   95350.0   96079.0  0.9476   203523.0\n",
              "2000-01-07   94917.0   97016.0   93084.0   94865.0  0.9995   215664.0\n",
              "2000-01-10   97967.0   99494.0   97482.0   98724.0  1.0077   240175.0\n",
              "...              ...       ...       ...       ...     ...        ...\n",
              "2021-06-01  320712.0  323317.0  319918.0  322187.0  1.0046  1472570.0\n",
              "2021-06-02  322440.0  324107.0  321610.0  322423.0  0.9999  1495671.0\n",
              "2021-06-03  322496.0  325850.0  322496.0  324743.0  1.0070  1584799.0\n",
              "2021-06-04  324617.0  324619.0  321867.0  324008.0  0.9981  1392319.0\n",
              "2021-06-07  324459.0  326441.0  323340.0  324330.0  0.9996  1209800.0\n",
              "\n",
              "[5291 rows x 6 columns]"
            ]
          },
          "metadata": {
            "tags": []
          },
          "execution_count": 31
        }
      ]
    },
    {
      "cell_type": "code",
      "metadata": {
        "id": "ephRY2pTqZMa",
        "outputId": "34b6ef66-9e44-4f02-feeb-5a1db4494954",
        "colab": {
          "base_uri": "https://localhost:8080/",
          "height": 137
        }
      },
      "source": [
        "url ='https://api.finance.naver.com/siseJson.naver?symbol=' + 'KOSPI' + ' &requestType=1&startTime=' \\\n",
        "+ '20200101' + '&endTime=' + '20210101' +  '&timeframe=' + 'day'\n",
        "\n",
        "result = requests.get(url, headers={'User-Agent' : 'Mozilla/5.0 (Macintosh; Intel Mac OS X 10_14_6) AppleWebKit/537.36 (KHTML, like Gecko) Chrome/85.0.4183.121 Safari/537.36'})\n",
        "bs_obj = BeautifulSoup(result.content, \"html5lib\")\n",
        "b = bs_obj.get_text()\n",
        "for i in ['\\n', '\\t', ' ']:\n",
        "  b = b.replace(i,'')\n",
        "\n",
        "data = np.array(ast.literal_eval(b)[1:])\n",
        "b\n"
      ],
      "execution_count": 39,
      "outputs": [
        {
          "output_type": "execute_result",
          "data": {
            "application/vnd.google.colaboratory.intrinsic+json": {
              "type": "string"
            },
            "text/plain": [
              "'[[\\'날짜\\',\\'시가\\',\\'고가\\',\\'저가\\',\\'종가\\',\\'거래량\\',\\'외국인소진율\\'],[\"20200102\",220121,220232,217184,217517,494677,0.0],[\"20200103\",219258,220338,216539,217646,631562,0.0],[\"20200106\",215497,216442,214995,215507,592670,0.0],[\"20200107\",216660,218162,216427,217554,568235,0.0],[\"20200108\",215627,216232,213772,215131,913830,0.0],[\"20200109\",218220,218645,217216,218645,592603,0.0],[\"20200110\",218948,220692,218810,220639,594536,0.0],[\"20200113\",220449,223043,220449,222926,488288,0.0],[\"20200114\",224306,225079,223294,223888,835899,0.0],[\"20200115\",222980,223821,222339,223098,746156,0.0],[\"20200116\",223193,224909,222541,224805,808331,0.0],[\"20200117\",226157,226871,224558,225057,580816,0.0],[\"20200120\",226140,227723,225809,226264,545491,0.0],[\"20200121\",225981,226631,223825,223969,770319,0.0],[\"20200122\",223853,226927,223513,226725,608509,0.0],[\"20200123\",225454,226063,224194,224613,509608,0.0],[\"20200128\",219222,219993,216623,217672,808878,0.0],[\"20200129\",218818,219545,217233,218528,692300,0.0],[\"20200130\",218154,218745,213972,214800,602838,0.0],[\"20200131\",216060,216723,211901,211901,710507,0.0],[\"20200203\",208661,212673,208274,211888,836699,0.0],[\"20200204\",212122,216232,212053,215790,624641,0.0],[\"20200205\",217726,218152,215488,216563,574395,0.0],[\"20200206\",218477,222999,218225,222794,695216,0.0],[\"20200207\",222149,222392,219814,221195,800342,0.0],[\"20200210\",218563,220339,218051,220107,609566,0.0],[\"20200211\",221350,223332,221125,222312,526211,0.0],[\"20200212\",222595,224224,221477,223838,632462,0.0],[\"20200213\",224572,225549,223030,223296,638666,0.0],[\"20200214\",223271,225150,222190,224359,597224,0.0],[\"20200217\",224307,225005,223026,224217,458247,0.0],[\"20200218\",222598,223293,220521,220888,470424,0.0],[\"20200219\",222251,222600,219120,221034,591155,0.0],[\"20200220\",222355,222818,218672,219550,709563,0.0],[\"20200221\",216565,218443,216028,216284,635474,0.0],[\"20200224\",211404,212006,207903,207904,948620,0.0],[\"20200225\",207555,210549,207150,210361,1565588,0.0],[\"20200226\",206407,208964,205913,207677,810937,0.0],[\"20200227\",207387,208540,204915,205489,562775,0.0],[\"20200228\",202017,203101,198082,198701,671551,0.0],[\"20200302\",199703,201707,196934,200251,528103,0.0],[\"20200303\",205185,205185,200939,201415,615692,0.0],[\"20200304\",200581,206359,200581,205933,606287,0.0],[\"20200305\",207811,208908,205999,208526,675205,0.0],[\"20200306\",205309,206257,203213,204022,865588,0.0],[\"20200309\",198102,198950,194690,195477,666868,0.0],[\"20200310\",194285,196817,193472,196293,638564,0.0],[\"20200311\",196567,196770,189827,190827,679716,0.0],[\"20200312\",188797,189723,180856,183433,850344,0.0],[\"20200313\",172268,180931,168060,177144,1035277,0.0],[\"20200316\",180543,180543,171438,171486,682003,0.0],[\"20200317\",164084,172297,163788,167244,649779,0.0],[\"20200318\",168612,169395,159112,159120,728007,0.0],[\"20200319\",162609,162609,143943,145764,977674,0.0],[\"20200320\",149849,156682,146648,156615,817021,0.0],[\"20200323\",147445,151675,145841,148246,647528,0.0],[\"20200324\",152369,160997,150868,160997,679288,0.0],[\"20200325\",166819,170764,164528,170476,872808,0.0],[\"20200326\",169911,173575,167923,168624,992473,0.0],[\"20200327\",175607,175905,166821,171773,1077526,0.0],[\"20200330\",167034,172963,165995,171712,767776,0.0],[\"20200331\",173929,175781,172262,175464,1037488,0.0],[\"20200401\",173728,176244,168537,168546,1243590,0.0],[\"20200402\",169353,172676,166413,172486,766313,0.0],[\"20200403\",173117,174391,170668,172544,1000086,0.0],[\"20200406\",174525,179419,174267,179188,1219388,0.0],[\"20200407\",182672,183897,179192,182360,951738,0.0],[\"20200408\",181575,184216,180180,180714,907493,0.0],[\"20200409\",183809,183933,181830,183621,920570,0.0],[\"20200410\",183576,186110,182443,186070,992548,0.0],[\"20200413\",185330,185330,182576,182576,1017751,0.0],[\"20200414\",184641,186446,183717,185708,886766,0.0],[\"20200416\",183951,186223,182813,185707,878338,0.0],[\"20200417\",189331,192602,189319,191453,1667459,0.0],[\"20200420\",190834,192525,189317,189836,1087463,0.0],[\"20200421\",188678,189832,184166,187938,1174293,0.0],[\"20200422\",185551,189790,184485,189615,820359,0.0],[\"20200423\",190745,192353,189598,191473,683719,0.0],[\"20200424\",190607,190829,188071,188901,933917,0.0],[\"20200427\",189706,192982,189462,192277,735662,0.0],[\"20200428\",193125,194179,191163,193409,1173476,0.0],[\"20200429\",193689,195751,193431,194756,1984181,0.0],[\"20200504\",190642,191866,189429,189537,1146855,0.0],[\"20200506\",191945,192876,190255,192876,1082526,0.0],[\"20200507\",192200,193850,191857,192861,775657,0.0],[\"20200508\",194494,195689,194254,194582,784772,0.0],[\"20200511\",195351,196046,193287,193540,591282,0.0],[\"20200512\",193862,193862,190517,192217,799930,0.0],[\"20200513\",189750,194042,189724,194042,618783,0.0],[\"20200514\",192244,193143,191349,192496,760646,0.0],[\"20200515\",193763,193859,191321,192728,866357,0.0],[\"20200518\",193451,194307,192114,193711,761695,0.0],[\"20200519\",197747,198377,196859,198061,773414,0.0],[\"20200520\",197212,199220,197212,198964,699446,0.0],[\"20200521\",200320,200495,199300,199831,601199,0.0],[\"20200522\",200160,200265,196140,197013,847467,0.0],[\"20200525\",198051,199490,196784,199460,641458,0.0],[\"20200526\",200100,202989,199794,202978,1017804,0.0],[\"20200527\",202790,204344,201982,203120,1178847,0.0],[\"20200528\",204708,205452,200375,202854,1172134,0.0],[\"20200529\",201837,203889,200662,202960,1086214,0.0],[\"20200601\",203704,206538,203563,206508,997348,0.0],[\"20200602\",206145,208943,205914,208719,1000332,0.0],[\"20200603\",210855,215655,210769,214700,1152001,0.0],[\"20200604\",218164,219100,213968,215118,1393307,0.0],[\"20200605\",215117,218725,213818,218187,854591,0.0],[\"20200608\",221560,221721,217496,218429,854035,0.0],[\"20200609\",220623,221217,216601,218892,817085,0.0],[\"20200610\",218791,220068,217812,219569,706294,0.0],[\"20200611\",218436,220072,214851,217678,827381,0.0],[\"20200612\",208824,213712,208463,213230,689896,0.0],[\"20200615\",211441,212967,203082,203082,1072277,0.0],[\"20200616\",209109,213808,207902,213805,973638,0.0],[\"20200617\",213318,215437,210526,214105,927515,0.0],[\"20200618\",213435,214513,212029,213348,767184,0.0],[\"20200619\",215309,215357,210891,214132,1079452,0.0],[\"20200622\",212638,214288,212210,212673,789371,0.0],[\"20200623\",214913,215815,211051,213124,917567,0.0],[\"20200624\",214593,217186,214391,216151,913896,0.0],[\"20200625\",213045,214333,211237,211237,1017720,0.0],[\"20200626\",213747,214204,211525,213465,761043,0.0],[\"20200629\",210554,212050,208784,209348,643155,0.0],[\"20200630\",212438,213438,210826,210833,708604,0.0],[\"20200701\",212881,213355,210133,210670,1116220,0.0],[\"20200702\",211672,213537,211398,213537,1091965,0.0],[\"20200703\",214789,215354,213530,215241,770054,0.0],[\"20200706\",215895,219128,215771,218793,666902,0.0],[\"20200707\",220204,220679,216403,216417,847434,0.0],[\"20200708\",216676,217383,215089,215888,677810,0.0],[\"20200709\",217115,218148,216674,216790,619368,0.0],[\"20200710\",217144,217152,214029,215025,886987,0.0],[\"20200713\",217051,218880,216307,218606,650230,0.0],[\"20200714\",217643,218361,216560,218361,810952,0.0],[\"20200715\",220873,221697,219066,220188,830266,0.0],[\"20200716\",220330,220734,217782,218376,784637,0.0],[\"20200717\",218785,220420,218785,220119,569297,0.0],[\"20200720\",220959,220959,218383,219820,686819,0.0],[\"20200721\",221919,223486,221428,222883,918483,0.0],[\"20200722\",222820,223886,222162,222866,856218,0.0],[\"20200723\",222724,222724,220299,221619,934542,0.0],[\"20200724\",219673,221957,219549,220044,1001024,0.0],[\"20200727\",220348,223125,220348,221786,928624,0.0],[\"20200728\",223819,226600,223721,225699,866725,0.0],[\"20200729\",225835,227679,225224,226316,899494,0.0],[\"20200730\",227533,228133,226381,226701,713039,0.0],[\"20200731\",227853,228141,224849,224937,739688,0.0],[\"20200803\",225165,225438,223704,225104,648462,0.0],[\"20200804\",227233,228466,226969,227997,722906,0.0],[\"20200805\",228923,231214,228395,231186,841298,0.0],[\"20200806\",232264,235248,232264,234261,797147,0.0],[\"20200807\",234925,236224,233362,235167,812594,0.0],[\"20200810\",235392,239051,234933,238638,784617,0.0],[\"20200811\",239611,242936,239611,241867,843437,0.0],[\"20200812\",241478,243235,239327,243235,763734,0.0],[\"20200813\",245528,245817,241249,243753,907218,0.0],[\"20200814\",242785,243500,238369,240749,968124,0.0],[\"20200818\",240584,241965,233678,234824,909750,0.0],[\"20200819\",237087,238010,235317,236054,637965,0.0],[\"20200820\",233991,235708,227085,227422,903743,0.0],[\"20200821\",230616,232934,228097,230459,865735,0.0],[\"20200824\",230938,233233,228348,232983,649276,0.0],[\"20200825\",235215,236978,234097,236673,771584,0.0],[\"20200826\",236774,237468,233698,236932,956477,0.0],[\"20200827\",237195,237336,234438,234445,913917,0.0],[\"20200828\",236222,237926,234528,235380,1297312,0.0],[\"20200831\",237709,238150,232606,232617,1647817,0.0],[\"20200901\",234019,235590,233123,234955,1085245,0.0],[\"20200902\",236343,236957,234129,236437,1429273,0.0],[\"20200903\",238326,240178,238223,239590,981546,0.0],[\"20200904\",233268,237102,233268,236825,1351039,0.0],[\"20200907\",236985,238749,236242,238422,1197385,0.0],[\"20200908\",240266,240756,239143,240191,979357,0.0],[\"20200909\",237253,238885,236912,237581,946247,0.0],[\"20200910\",240483,240668,238856,239648,1064574,0.0],[\"20200911\",238976,239756,237400,239669,882880,0.0],[\"20200914\",241833,242907,241079,242791,963082,0.0],[\"20200915\",243459,244457,242379,244358,849968,0.0],[\"20200916\",244272,245053,242994,243592,772938,0.0],[\"20200917\",243077,243702,239869,240617,853740,0.0],[\"20200918\",241353,241781,239633,241240,756516,0.0],[\"20200921\",241244,242717,237938,238939,1041993,0.0],[\"20200922\",238814,238849,232358,233259,1051028,0.0],[\"20200923\",235256,235446,228744,233324,735041,0.0],[\"20200924\",229562,230974,226888,227270,714881,0.0],[\"20200925\",229519,229636,226763,227879,697961,0.0],[\"20200928\",230116,231481,229132,230808,605977,0.0],[\"20200929\",233151,233983,232004,232789,646218,0.0],[\"20201005\",233055,236473,232783,235800,763618,0.0],[\"20201006\",236917,237828,235539,236590,861754,0.0],[\"20201007\",235082,238745,234782,238694,737994,0.0],[\"20201008\",240849,240901,238382,239196,961726,0.0],[\"20201012\",240418,240942,239374,240373,843574,0.0],[\"20201013\",241685,241889,238587,240315,724920,0.0],[\"20201014\",240374,240556,237554,238048,901176,0.0],[\"20201015\",237591,237673,234874,236121,1165501,0.0],[\"20201016\",236388,237073,232503,234153,920205,0.0],[\"20201019\",235292,236425,234477,234674,931645,0.0],[\"20201020\",233356,235841,232206,235841,874293,0.0],[\"20201021\",236303,237174,235632,237086,812837,0.0],[\"20201022\",235561,236022,233973,235505,815612,0.0],[\"20201023\",236484,236857,234449,236081,890384,0.0],[\"20201026\",236650,237450,234258,234391,822267,0.0],[\"20201027\",232866,234933,232123,233084,666941,0.0],[\"20201028\",232418,234546,231647,234526,705770,0.0],[\"20201029\",231234,233017,229991,232667,509768,0.0],[\"20201030\",231956,232020,226693,226715,795585,0.0],[\"20201102\",227661,230264,226795,230016,678501,0.0],[\"20201103\",231581,234477,231530,234331,887445,0.0],[\"20201104\",236132,237114,233995,235732,986786,0.0],[\"20201105\",237341,241379,237085,241379,702037,0.0],[\"20201106\",242179,243111,240497,241650,825568,0.0],[\"20201109\",243863,245915,243452,244720,1354862,0.0],[\"20201110\",245395,245794,243559,245283,1464168,0.0],[\"20201111\",245950,248804,245950,248587,1272038,0.0],[\"20201112\",248268,248879,246704,247562,1278691,0.0],[\"20201113\",247012,249577,246096,249387,1072383,0.0],[\"20201116\",250746,254637,250746,254303,1239135,0.0],[\"20201117\",254412,255609,253334,253915,1267494,0.0],[\"20201118\",254885,255395,253678,254564,923504,0.0],[\"20201119\",253689,254895,252953,254742,976483,0.0],[\"20201120\",254406,255821,253979,255350,1129500,0.0],[\"20201123\",256004,260558,255370,260259,1649443,0.0],[\"20201124\",261628,262852,260503,261776,1364506,0.0],[\"20201125\",263734,264226,258341,260154,1410104,0.0],[\"20201126\",260573,262597,259243,262591,1387435,0.0],[\"20201127\",262480,263500,261847,263345,1196041,0.0],[\"20201130\",264805,264866,259134,259134,1311831,0.0],[\"20201201\",261342,263887,261167,263425,1151129,0.0],[\"20201202\",264588,267726,264453,267590,1076203,0.0],[\"20201203\",268638,269622,267285,269622,817065,0.0],[\"20201204\",270534,274277,270534,273145,1778896,0.0],[\"20201207\",273811,275401,271142,274544,1499265,0.0],[\"20201208\",274513,274745,270092,270093,1415239,0.0],[\"20201209\",270330,275547,270330,275547,1252304,0.0],[\"20201210\",275034,276546,271870,274646,1227651,0.0],[\"20201211\",275416,278104,275416,277006,1215239,0.0],[\"20201214\",276943,278279,275529,276220,1113630,0.0],[\"20201215\",276365,276937,273508,275682,1093522,0.0],[\"20201216\",276364,278108,276150,277179,1166637,0.0],[\"20201217\",276989,277271,274225,277043,1015484,0.0],[\"20201218\",277095,278215,276280,277218,1059143,0.0],[\"20201221\",277198,278024,274709,277865,1139513,0.0],[\"20201222\",277203,277422,273364,273368,1260761,0.0],[\"20201223\",273774,276908,271628,275982,1121346,0.0],[\"20201224\",276260,281216,276260,280686,1030890,0.0],[\"20201228\",282095,283459,279956,280860,1006249,0.0],[\"20201229\",281055,282344,279206,282051,1046839,0.0],[\"20201230\",282036,287821,280935,287347,1074033,0.0]]'"
            ]
          },
          "metadata": {
            "tags": []
          },
          "execution_count": 39
        }
      ]
    },
    {
      "cell_type": "code",
      "metadata": {
        "id": "sKfzzZwH2v7l"
      },
      "source": [
        "# 샘플링\n",
        "sampled_df = df.sample(n=1000)\n",
        "sampled_df = df\n",
        "# sampled_df = df"
      ],
      "execution_count": 21,
      "outputs": []
    },
    {
      "cell_type": "code",
      "metadata": {
        "colab": {
          "base_uri": "https://localhost:8080/",
          "height": 971
        },
        "id": "x7jwqY01L6JD",
        "outputId": "38d8a2f8-0216-4eee-a6f5-8e9b1dfc942f"
      },
      "source": [
        "# 확률분포\n",
        "\n",
        "import matplotlib.pyplot as plt\n",
        "\n",
        "plt.subplots(figsize=(10, 10))\n",
        "plt.hist(df['Change'], bins='auto')\n",
        "plt.show()"
      ],
      "execution_count": 23,
      "outputs": [
        {
          "output_type": "error",
          "ename": "ValueError",
          "evalue": "ignored",
          "traceback": [
            "\u001b[0;31m---------------------------------------------------------------------------\u001b[0m",
            "\u001b[0;31mValueError\u001b[0m                                Traceback (most recent call last)",
            "\u001b[0;32m<ipython-input-23-0ed3503ab7c7>\u001b[0m in \u001b[0;36m<module>\u001b[0;34m()\u001b[0m\n\u001b[1;32m      4\u001b[0m \u001b[0;34m\u001b[0m\u001b[0m\n\u001b[1;32m      5\u001b[0m \u001b[0mplt\u001b[0m\u001b[0;34m.\u001b[0m\u001b[0msubplots\u001b[0m\u001b[0;34m(\u001b[0m\u001b[0mfigsize\u001b[0m\u001b[0;34m=\u001b[0m\u001b[0;34m(\u001b[0m\u001b[0;36m10\u001b[0m\u001b[0;34m,\u001b[0m \u001b[0;36m10\u001b[0m\u001b[0;34m)\u001b[0m\u001b[0;34m)\u001b[0m\u001b[0;34m\u001b[0m\u001b[0;34m\u001b[0m\u001b[0m\n\u001b[0;32m----> 6\u001b[0;31m \u001b[0mplt\u001b[0m\u001b[0;34m.\u001b[0m\u001b[0mhist\u001b[0m\u001b[0;34m(\u001b[0m\u001b[0mdf\u001b[0m\u001b[0;34m[\u001b[0m\u001b[0;34m'Change'\u001b[0m\u001b[0;34m]\u001b[0m\u001b[0;34m,\u001b[0m \u001b[0mbins\u001b[0m\u001b[0;34m=\u001b[0m\u001b[0;34m'auto'\u001b[0m\u001b[0;34m)\u001b[0m\u001b[0;34m\u001b[0m\u001b[0;34m\u001b[0m\u001b[0m\n\u001b[0m\u001b[1;32m      7\u001b[0m \u001b[0mplt\u001b[0m\u001b[0;34m.\u001b[0m\u001b[0mshow\u001b[0m\u001b[0;34m(\u001b[0m\u001b[0;34m)\u001b[0m\u001b[0;34m\u001b[0m\u001b[0;34m\u001b[0m\u001b[0m\n",
            "\u001b[0;32m/usr/local/lib/python3.7/dist-packages/matplotlib/pyplot.py\u001b[0m in \u001b[0;36mhist\u001b[0;34m(x, bins, range, density, weights, cumulative, bottom, histtype, align, orientation, rwidth, log, color, label, stacked, data, **kwargs)\u001b[0m\n\u001b[1;32m   2608\u001b[0m         \u001b[0malign\u001b[0m\u001b[0;34m=\u001b[0m\u001b[0malign\u001b[0m\u001b[0;34m,\u001b[0m \u001b[0morientation\u001b[0m\u001b[0;34m=\u001b[0m\u001b[0morientation\u001b[0m\u001b[0;34m,\u001b[0m \u001b[0mrwidth\u001b[0m\u001b[0;34m=\u001b[0m\u001b[0mrwidth\u001b[0m\u001b[0;34m,\u001b[0m \u001b[0mlog\u001b[0m\u001b[0;34m=\u001b[0m\u001b[0mlog\u001b[0m\u001b[0;34m,\u001b[0m\u001b[0;34m\u001b[0m\u001b[0;34m\u001b[0m\u001b[0m\n\u001b[1;32m   2609\u001b[0m         color=color, label=label, stacked=stacked, **({\"data\": data}\n\u001b[0;32m-> 2610\u001b[0;31m         if data is not None else {}), **kwargs)\n\u001b[0m\u001b[1;32m   2611\u001b[0m \u001b[0;34m\u001b[0m\u001b[0m\n\u001b[1;32m   2612\u001b[0m \u001b[0;34m\u001b[0m\u001b[0m\n",
            "\u001b[0;32m/usr/local/lib/python3.7/dist-packages/matplotlib/__init__.py\u001b[0m in \u001b[0;36minner\u001b[0;34m(ax, data, *args, **kwargs)\u001b[0m\n\u001b[1;32m   1563\u001b[0m     \u001b[0;32mdef\u001b[0m \u001b[0minner\u001b[0m\u001b[0;34m(\u001b[0m\u001b[0max\u001b[0m\u001b[0;34m,\u001b[0m \u001b[0;34m*\u001b[0m\u001b[0margs\u001b[0m\u001b[0;34m,\u001b[0m \u001b[0mdata\u001b[0m\u001b[0;34m=\u001b[0m\u001b[0;32mNone\u001b[0m\u001b[0;34m,\u001b[0m \u001b[0;34m**\u001b[0m\u001b[0mkwargs\u001b[0m\u001b[0;34m)\u001b[0m\u001b[0;34m:\u001b[0m\u001b[0;34m\u001b[0m\u001b[0;34m\u001b[0m\u001b[0m\n\u001b[1;32m   1564\u001b[0m         \u001b[0;32mif\u001b[0m \u001b[0mdata\u001b[0m \u001b[0;32mis\u001b[0m \u001b[0;32mNone\u001b[0m\u001b[0;34m:\u001b[0m\u001b[0;34m\u001b[0m\u001b[0;34m\u001b[0m\u001b[0m\n\u001b[0;32m-> 1565\u001b[0;31m             \u001b[0;32mreturn\u001b[0m \u001b[0mfunc\u001b[0m\u001b[0;34m(\u001b[0m\u001b[0max\u001b[0m\u001b[0;34m,\u001b[0m \u001b[0;34m*\u001b[0m\u001b[0mmap\u001b[0m\u001b[0;34m(\u001b[0m\u001b[0msanitize_sequence\u001b[0m\u001b[0;34m,\u001b[0m \u001b[0margs\u001b[0m\u001b[0;34m)\u001b[0m\u001b[0;34m,\u001b[0m \u001b[0;34m**\u001b[0m\u001b[0mkwargs\u001b[0m\u001b[0;34m)\u001b[0m\u001b[0;34m\u001b[0m\u001b[0;34m\u001b[0m\u001b[0m\n\u001b[0m\u001b[1;32m   1566\u001b[0m \u001b[0;34m\u001b[0m\u001b[0m\n\u001b[1;32m   1567\u001b[0m         \u001b[0mbound\u001b[0m \u001b[0;34m=\u001b[0m \u001b[0mnew_sig\u001b[0m\u001b[0;34m.\u001b[0m\u001b[0mbind\u001b[0m\u001b[0;34m(\u001b[0m\u001b[0max\u001b[0m\u001b[0;34m,\u001b[0m \u001b[0;34m*\u001b[0m\u001b[0margs\u001b[0m\u001b[0;34m,\u001b[0m \u001b[0;34m**\u001b[0m\u001b[0mkwargs\u001b[0m\u001b[0;34m)\u001b[0m\u001b[0;34m\u001b[0m\u001b[0;34m\u001b[0m\u001b[0m\n",
            "\u001b[0;32m/usr/local/lib/python3.7/dist-packages/matplotlib/axes/_axes.py\u001b[0m in \u001b[0;36mhist\u001b[0;34m(self, x, bins, range, density, weights, cumulative, bottom, histtype, align, orientation, rwidth, log, color, label, stacked, **kwargs)\u001b[0m\n\u001b[1;32m   6658\u001b[0m             \u001b[0;31m# this will automatically overwrite bins,\u001b[0m\u001b[0;34m\u001b[0m\u001b[0;34m\u001b[0m\u001b[0;34m\u001b[0m\u001b[0m\n\u001b[1;32m   6659\u001b[0m             \u001b[0;31m# so that each histogram uses the same bins\u001b[0m\u001b[0;34m\u001b[0m\u001b[0;34m\u001b[0m\u001b[0;34m\u001b[0m\u001b[0m\n\u001b[0;32m-> 6660\u001b[0;31m             \u001b[0mm\u001b[0m\u001b[0;34m,\u001b[0m \u001b[0mbins\u001b[0m \u001b[0;34m=\u001b[0m \u001b[0mnp\u001b[0m\u001b[0;34m.\u001b[0m\u001b[0mhistogram\u001b[0m\u001b[0;34m(\u001b[0m\u001b[0mx\u001b[0m\u001b[0;34m[\u001b[0m\u001b[0mi\u001b[0m\u001b[0;34m]\u001b[0m\u001b[0;34m,\u001b[0m \u001b[0mbins\u001b[0m\u001b[0;34m,\u001b[0m \u001b[0mweights\u001b[0m\u001b[0;34m=\u001b[0m\u001b[0mw\u001b[0m\u001b[0;34m[\u001b[0m\u001b[0mi\u001b[0m\u001b[0;34m]\u001b[0m\u001b[0;34m,\u001b[0m \u001b[0;34m**\u001b[0m\u001b[0mhist_kwargs\u001b[0m\u001b[0;34m)\u001b[0m\u001b[0;34m\u001b[0m\u001b[0;34m\u001b[0m\u001b[0m\n\u001b[0m\u001b[1;32m   6661\u001b[0m             \u001b[0mtops\u001b[0m\u001b[0;34m.\u001b[0m\u001b[0mappend\u001b[0m\u001b[0;34m(\u001b[0m\u001b[0mm\u001b[0m\u001b[0;34m)\u001b[0m\u001b[0;34m\u001b[0m\u001b[0;34m\u001b[0m\u001b[0m\n\u001b[1;32m   6662\u001b[0m         \u001b[0mtops\u001b[0m \u001b[0;34m=\u001b[0m \u001b[0mnp\u001b[0m\u001b[0;34m.\u001b[0m\u001b[0marray\u001b[0m\u001b[0;34m(\u001b[0m\u001b[0mtops\u001b[0m\u001b[0;34m,\u001b[0m \u001b[0mfloat\u001b[0m\u001b[0;34m)\u001b[0m  \u001b[0;31m# causes problems later if it's an int\u001b[0m\u001b[0;34m\u001b[0m\u001b[0;34m\u001b[0m\u001b[0m\n",
            "\u001b[0;32m<__array_function__ internals>\u001b[0m in \u001b[0;36mhistogram\u001b[0;34m(*args, **kwargs)\u001b[0m\n",
            "\u001b[0;32m/usr/local/lib/python3.7/dist-packages/numpy/lib/histograms.py\u001b[0m in \u001b[0;36mhistogram\u001b[0;34m(a, bins, range, normed, weights, density)\u001b[0m\n\u001b[1;32m    790\u001b[0m     \u001b[0ma\u001b[0m\u001b[0;34m,\u001b[0m \u001b[0mweights\u001b[0m \u001b[0;34m=\u001b[0m \u001b[0m_ravel_and_check_weights\u001b[0m\u001b[0;34m(\u001b[0m\u001b[0ma\u001b[0m\u001b[0;34m,\u001b[0m \u001b[0mweights\u001b[0m\u001b[0;34m)\u001b[0m\u001b[0;34m\u001b[0m\u001b[0;34m\u001b[0m\u001b[0m\n\u001b[1;32m    791\u001b[0m \u001b[0;34m\u001b[0m\u001b[0m\n\u001b[0;32m--> 792\u001b[0;31m     \u001b[0mbin_edges\u001b[0m\u001b[0;34m,\u001b[0m \u001b[0muniform_bins\u001b[0m \u001b[0;34m=\u001b[0m \u001b[0m_get_bin_edges\u001b[0m\u001b[0;34m(\u001b[0m\u001b[0ma\u001b[0m\u001b[0;34m,\u001b[0m \u001b[0mbins\u001b[0m\u001b[0;34m,\u001b[0m \u001b[0mrange\u001b[0m\u001b[0;34m,\u001b[0m \u001b[0mweights\u001b[0m\u001b[0;34m)\u001b[0m\u001b[0;34m\u001b[0m\u001b[0;34m\u001b[0m\u001b[0m\n\u001b[0m\u001b[1;32m    793\u001b[0m \u001b[0;34m\u001b[0m\u001b[0m\n\u001b[1;32m    794\u001b[0m     \u001b[0;31m# Histogram is an integer or a float array depending on the weights.\u001b[0m\u001b[0;34m\u001b[0m\u001b[0;34m\u001b[0m\u001b[0;34m\u001b[0m\u001b[0m\n",
            "\u001b[0;32m/usr/local/lib/python3.7/dist-packages/numpy/lib/histograms.py\u001b[0m in \u001b[0;36m_get_bin_edges\u001b[0;34m(a, bins, range, weights)\u001b[0m\n\u001b[1;32m    394\u001b[0m                             \"bins is not supported for weighted data\")\n\u001b[1;32m    395\u001b[0m \u001b[0;34m\u001b[0m\u001b[0m\n\u001b[0;32m--> 396\u001b[0;31m         \u001b[0mfirst_edge\u001b[0m\u001b[0;34m,\u001b[0m \u001b[0mlast_edge\u001b[0m \u001b[0;34m=\u001b[0m \u001b[0m_get_outer_edges\u001b[0m\u001b[0;34m(\u001b[0m\u001b[0ma\u001b[0m\u001b[0;34m,\u001b[0m \u001b[0mrange\u001b[0m\u001b[0;34m)\u001b[0m\u001b[0;34m\u001b[0m\u001b[0;34m\u001b[0m\u001b[0m\n\u001b[0m\u001b[1;32m    397\u001b[0m \u001b[0;34m\u001b[0m\u001b[0m\n\u001b[1;32m    398\u001b[0m         \u001b[0;31m# truncate the range if needed\u001b[0m\u001b[0;34m\u001b[0m\u001b[0;34m\u001b[0m\u001b[0;34m\u001b[0m\u001b[0m\n",
            "\u001b[0;32m/usr/local/lib/python3.7/dist-packages/numpy/lib/histograms.py\u001b[0m in \u001b[0;36m_get_outer_edges\u001b[0;34m(a, range)\u001b[0m\n\u001b[1;32m    314\u001b[0m         \u001b[0;32mif\u001b[0m \u001b[0;32mnot\u001b[0m \u001b[0;34m(\u001b[0m\u001b[0mnp\u001b[0m\u001b[0;34m.\u001b[0m\u001b[0misfinite\u001b[0m\u001b[0;34m(\u001b[0m\u001b[0mfirst_edge\u001b[0m\u001b[0;34m)\u001b[0m \u001b[0;32mand\u001b[0m \u001b[0mnp\u001b[0m\u001b[0;34m.\u001b[0m\u001b[0misfinite\u001b[0m\u001b[0;34m(\u001b[0m\u001b[0mlast_edge\u001b[0m\u001b[0;34m)\u001b[0m\u001b[0;34m)\u001b[0m\u001b[0;34m:\u001b[0m\u001b[0;34m\u001b[0m\u001b[0;34m\u001b[0m\u001b[0m\n\u001b[1;32m    315\u001b[0m             raise ValueError(\n\u001b[0;32m--> 316\u001b[0;31m                 \"supplied range of [{}, {}] is not finite\".format(first_edge, last_edge))\n\u001b[0m\u001b[1;32m    317\u001b[0m     \u001b[0;32melif\u001b[0m \u001b[0ma\u001b[0m\u001b[0;34m.\u001b[0m\u001b[0msize\u001b[0m \u001b[0;34m==\u001b[0m \u001b[0;36m0\u001b[0m\u001b[0;34m:\u001b[0m\u001b[0;34m\u001b[0m\u001b[0;34m\u001b[0m\u001b[0m\n\u001b[1;32m    318\u001b[0m         \u001b[0;31m# handle empty arrays. Can't determine range, so use 0-1.\u001b[0m\u001b[0;34m\u001b[0m\u001b[0;34m\u001b[0m\u001b[0;34m\u001b[0m\u001b[0m\n",
            "\u001b[0;31mValueError\u001b[0m: supplied range of [0.8927, inf] is not finite"
          ]
        },
        {
          "output_type": "display_data",
          "data": {
            "image/png": "[encoded data removed]",
            "text/plain": [
              "<Figure size 720x720 with 1 Axes>"
            ]
          },
          "metadata": {
            "tags": [],
            "needs_background": "light"
          }
        }
      ]
    },
    {
      "cell_type": "code",
      "metadata": {
        "colab": {
          "base_uri": "https://localhost:8080/"
        },
        "id": "Ce82v01sNdYr",
        "outputId": "42aacea3-370d-4e44-f0dd-3118b88bef18"
      },
      "source": [
        "print('lowest 5th percentile: ', round(np.percentile(sampled_df['Change'], 5), 5))\n",
        "print('highest 5th percentile: ', round(np.percentile(sampled_df['Change'], 95), 5))\n",
        "print(sum(sampled_df['Change'] > 1.0) / len(sampled_df['Change']))"
      ],
      "execution_count": null,
      "outputs": [
        {
          "output_type": "stream",
          "text": [
            "lowest 5th percentile:  0.97206\n",
            "highest 5th percentile:  1.02387\n",
            "0.5373374016380279\n"
          ],
          "name": "stdout"
        }
      ]
    },
    {
      "cell_type": "code",
      "metadata": {
        "id": "r11iEt6yn73J"
      },
      "source": [
        "# sampled_df의 Change > 1 전날의 데이터 인덱스\n",
        "pre_increase = df.iloc[(sampled_df['Change'] > 1).index]['Change'].index[1:] - 1"
      ],
      "execution_count": null,
      "outputs": []
    },
    {
      "cell_type": "code",
      "metadata": {
        "colab": {
          "base_uri": "https://localhost:8080/"
        },
        "id": "YCFv_JhoQImh",
        "outputId": "bf5c46fa-2f0a-4d8f-882b-9454c64e4e7d"
      },
      "source": [
        "# 전날 특성상 상승할 확률\n",
        "print(sum(df.loc[pre_increase]['Change'] > 1) / len(pre_increase))\n",
        "print(sum(df.loc[pre_increase]['Volume_change'] < 1) / len(pre_increase))"
      ],
      "execution_count": null,
      "outputs": [
        {
          "output_type": "stream",
          "text": [
            "0.5372630902666239\n",
            "0.5043366527465467\n"
          ],
          "name": "stdout"
        }
      ]
    },
    {
      "cell_type": "code",
      "metadata": {
        "colab": {
          "base_uri": "https://localhost:8080/"
        },
        "id": "8JaM_u-n0FgE",
        "outputId": "349a7e82-1972-4824-a79f-df3f3b1c23a0"
      },
      "source": [
        "# 기하분포\n",
        "# 성공의 확률인 p인 독립시행을 성공이 나올 때까지 계속한다고 할 때, 처음 성공까지 총 시도한 횟수 X의 확률분포.\n",
        "# Pr(X = x) = p*(1-p)^(x-1)\n",
        "# 𝝁   : 1/p  \n",
        "# 𝝈^2 : (1-p)/p^2\n",
        "\n",
        "# +%가 나올때가지 x의 확률\n",
        "p = sum(sampled_df['Change'] > 1.0) / len(sampled_df['Change'])\n",
        "print('p: ', p)\n",
        "print('mean: ', 1/p)\n",
        "print('variance: ', (1-p)/(p**2))"
      ],
      "execution_count": null,
      "outputs": [
        {
          "output_type": "stream",
          "text": [
            "p:  0.5373374016380279\n",
            "mean:  1.8610280932456666\n",
            "variance:  1.602397470603935\n"
          ],
          "name": "stdout"
        }
      ]
    },
    {
      "cell_type": "code",
      "metadata": {
        "id": "Q160Cv0c1oQx"
      },
      "source": [
        "x = range(1,10)\n",
        "pr = list(map(lambda x: p*(1-p)**(x-1) , x))"
      ],
      "execution_count": null,
      "outputs": []
    },
    {
      "cell_type": "code",
      "metadata": {
        "id": "lOiFrykt2u_p",
        "colab": {
          "base_uri": "https://localhost:8080/",
          "height": 265
        },
        "outputId": "08987f32-5f8e-4b4b-be1f-f8055458ee51"
      },
      "source": [
        "import matplotlib.pyplot as plt\n",
        "\n",
        "plt.plot(x, pr, 'bo')\n",
        "plt.vlines(x, 0, pr)\n",
        "plt.show()"
      ],
      "execution_count": null,
      "outputs": [
        {
          "output_type": "display_data",
          "data": {
            "image/png": "[encoded data removed]",
            "text/plain": [
              "<Figure size 432x288 with 1 Axes>"
            ]
          },
          "metadata": {
            "tags": [],
            "needs_background": "light"
          }
        }
      ]
    },
    {
      "cell_type": "code",
      "metadata": {
        "id": "weSbGWRf1yrL",
        "colab": {
          "base_uri": "https://localhost:8080/"
        },
        "outputId": "dd05b326-de92-46ee-c661-ff6b212c3a70"
      },
      "source": [
        "# 음이항분포\n",
        "# 성공의 확률인 p인 독립시행을 r번째 성공이 나올 때까지 계속한다고 할 때, 처음 성공까지 총 시도한 횟수 X의 확률분포.\n",
        "# Pr(X = x) = (x-1)C(r-1) * p^r * (1-p)^(x-r)\n",
        "# 𝝁   : r/p  \n",
        "# 𝝈^2 : r*(1-p)/p^2\n",
        "\n",
        "# 5번째 +%가 나올때가지 x의 확률\n",
        "p = sum(sampled_df['Change'] > 1.0) / len(sampled_df['Change'])\n",
        "r = 3\n",
        "print('p: ', p)\n",
        "print('mean: ', r/p)\n",
        "print('variance: ', r*(1-p)/(p**2))"
      ],
      "execution_count": null,
      "outputs": [
        {
          "output_type": "stream",
          "text": [
            "p:  0.5373374016380279\n",
            "mean:  5.583084279737\n",
            "variance:  4.807192411811805\n"
          ],
          "name": "stdout"
        }
      ]
    },
    {
      "cell_type": "code",
      "metadata": {
        "id": "jJA2AlYY7exA"
      },
      "source": [
        "import math\n",
        "\n",
        "def nCr(n,r):\n",
        "    f = math.factorial\n",
        "    return f(n) / (f(r) * f(n-r))\n",
        "\n",
        "x = range(r,50)\n",
        "pr = list(map(lambda x: nCr(x-1,r-1) * p**r * (1-p)**(x-r) , x))"
      ],
      "execution_count": null,
      "outputs": []
    },
    {
      "cell_type": "code",
      "metadata": {
        "id": "gDIgiroO_S9N",
        "colab": {
          "base_uri": "https://localhost:8080/",
          "height": 265
        },
        "outputId": "00d1f896-51cc-46c1-c783-8139ed332f2a"
      },
      "source": [
        "import matplotlib.pyplot as plt\n",
        "\n",
        "pr = list(map(lambda x: nCr(x-1,r-1) * p**r * (1-p)**(x-r) , x))\n",
        "plt.plot(x, pr, 'bo')\n",
        "plt.vlines(x, 0, pr)\n",
        "plt.show()"
      ],
      "execution_count": null,
      "outputs": [
        {
          "output_type": "display_data",
          "data": {
            "image/png": "[encoded data removed]",
            "text/plain": [
              "<Figure size 432x288 with 1 Axes>"
            ]
          },
          "metadata": {
            "tags": [],
            "needs_background": "light"
          }
        }
      ]
    },
    {
      "cell_type": "code",
      "metadata": {
        "id": "vpqa3VnVGc6J",
        "colab": {
          "base_uri": "https://localhost:8080/",
          "height": 265
        },
        "outputId": "21399c41-696f-49f9-8942-5c5e1f6ba2db"
      },
      "source": [
        "import matplotlib.pyplot as plt\n",
        "\n",
        "# 각각 0%, 1%, 2% 이상 r번의 시도에 나올 확률 \n",
        "p = sum(sampled_df['Change'] > 1.0) / len(sampled_df['Change']), sum(sampled_df['Change'] > 1.01) / len(sampled_df['Change']), \\\n",
        "sum(sampled_df['Change'] > 1.02) / len(sampled_df['Change']) \n",
        "\n",
        "for i in range(len(p)):\n",
        "  pr = list(map(lambda x: nCr(x-1,r-1) * p[i]**r * (1-p[i])**(x-r) , x))\n",
        "  plt.plot(x, pr)\n",
        "  plt.vlines(x, 0, pr)\n",
        "plt.legend(p)\n",
        "plt.show()"
      ],
      "execution_count": null,
      "outputs": [
        {
          "output_type": "display_data",
          "data": {
            "image/png": "[encoded data removed]",
            "text/plain": [
              "<Figure size 432x288 with 1 Axes>"
            ]
          },
          "metadata": {
            "tags": [],
            "needs_background": "light"
          }
        }
      ]
    },
    {
      "cell_type": "code",
      "metadata": {
        "id": "TaOlP5EJ9qxZ",
        "colab": {
          "base_uri": "https://localhost:8080/"
        },
        "outputId": "6f0dcee5-6745-4c2b-e4d2-46564c499a34"
      },
      "source": [
        "# 메모용\n",
        "#\n",
        "# 초기하분포\n",
        "# 비복원추출에서 n개 중에 m개가 원하는 것이고, k번 추출했을때 원하는 것 x개가 뽑힐 확률의 분포이다.\n",
        "# Pr(X = x) = nCx * (n-m)C(k-x) / nCk\n",
        "# 𝝁   : k*m/n  \n",
        "# 𝝈^2 : (k*m/n) * ((n-m)*(n-k)/(n*(n-1)))\n",
        "\n",
        "# 5번째 +%가 나올때가지 x의 확률\n",
        "x = 1\n",
        "n = 3\n",
        "m = 2\n",
        "k = 6\n",
        "#print('p: ', nCr(n,x) * nCr(n-m,k-x) / nCr(n,k)) 오류 뜸 ㅆ\n",
        "print('mean: ', k*m/n)\n",
        "print('variance: ', ((k*m/n) * ((n-m)*(n-k))/(n*(n-x))))"
      ],
      "execution_count": null,
      "outputs": [
        {
          "output_type": "stream",
          "text": [
            "mean:  4.0\n",
            "variance:  -2.0\n"
          ],
          "name": "stdout"
        }
      ]
    },
    {
      "cell_type": "code",
      "metadata": {
        "id": "vCXyRb3wFFo2"
      },
      "source": [
        ""
      ],
      "execution_count": null,
      "outputs": []
    }
  ]
}