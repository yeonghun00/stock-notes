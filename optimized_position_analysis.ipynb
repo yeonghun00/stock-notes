{
  "nbformat": 4,
  "nbformat_minor": 0,
  "metadata": {
    "colab": {
      "name": "optimized position analysis.ipynb",
      "provenance": [],
      "collapsed_sections": [],
      "authorship_tag": "ABX9TyMDDIdgG8ht+rCDE/coxsgd",
      "include_colab_link": true
    },
    "kernelspec": {
      "name": "python3",
      "display_name": "Python 3"
    },
    "language_info": {
      "name": "python"
    }
  },
  "cells": [
    {
      "cell_type": "markdown",
      "metadata": {
        "id": "view-in-github",
        "colab_type": "text"
      },
      "source": [
        "<a href=\"https://colab.research.google.com/github/yeonghun00/stock_public/blob/main/optimized_position_analysis.ipynb\" target=\"_parent\"><img src=\"https://colab.research.google.com/assets/colab-badge.svg\" alt=\"Open In Colab\"/></a>"
      ]
    },
    {
      "cell_type": "code",
      "metadata": {
        "id": "t5E-xuAG28kv"
      },
      "source": [
        "#참고 https://losskatsu.github.io/statistics/prob-distribution/#%EC%B0%B8%EA%B3%A0-%ED%99%95%EB%A5%A0%EB%B6%84%ED%8F%AC%EA%B0%84-%EA%B4%80%EA%B3%84%EB%8F%84"
      ],
      "execution_count": null,
      "outputs": []
    },
    {
      "cell_type": "code",
      "metadata": {
        "colab": {
          "resources": {
            "http://localhost:8080/nbextensions/google.colab/files.js": {
              "data": "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",
              "ok": true,
              "headers": [
                [
                  "content-type",
                  "application/javascript"
                ]
              ],
              "status": 200,
              "status_text": ""
            }
          },
          "base_uri": "https://localhost:8080/",
          "height": 73
        },
        "id": "6KfE2kk7v_LT",
        "outputId": "1b75cbac-410d-4360-e0fc-6d00fb93654b"
      },
      "source": [
        "from google.colab import files\n",
        "uploaded = files.upload()"
      ],
      "execution_count": 1,
      "outputs": [
        {
          "output_type": "display_data",
          "data": {
            "text/html": [
              "\n",
              "     <input type=\"file\" id=\"files-c7207519-e2ad-4287-aa2e-991fee753c0d\" name=\"files[]\" multiple disabled\n",
              "        style=\"border:none\" />\n",
              "     <output id=\"result-c7207519-e2ad-4287-aa2e-991fee753c0d\">\n",
              "      Upload widget is only available when the cell has been executed in the\n",
              "      current browser session. Please rerun this cell to enable.\n",
              "      </output>\n",
              "      <script src=\"/nbextensions/google.colab/files.js\"></script> "
            ],
            "text/plain": [
              "<IPython.core.display.HTML object>"
            ]
          },
          "metadata": {
            "tags": []
          }
        },
        {
          "output_type": "stream",
          "text": [
            "Saving KOSDAQ.csv to KOSDAQ.csv\n"
          ],
          "name": "stdout"
        }
      ]
    },
    {
      "cell_type": "code",
      "metadata": {
        "colab": {
          "base_uri": "https://localhost:8080/",
          "height": 35
        },
        "id": "JUxvFHf8wGrJ",
        "outputId": "5ac71f68-a5f7-4d28-f98d-4d4dfcbc67b5"
      },
      "source": [
        "key = list(uploaded.items())[0][0]\n",
        "key"
      ],
      "execution_count": 130,
      "outputs": [
        {
          "output_type": "execute_result",
          "data": {
            "application/vnd.google.colaboratory.intrinsic+json": {
              "type": "string"
            },
            "text/plain": [
              "'KOSDAQ.csv'"
            ]
          },
          "metadata": {
            "tags": []
          },
          "execution_count": 130
        }
      ]
    },
    {
      "cell_type": "code",
      "metadata": {
        "colab": {
          "base_uri": "https://localhost:8080/",
          "height": 419
        },
        "id": "vZKQPTxvwBxm",
        "outputId": "353ce5da-9227-4004-a436-5d71230b8bf3"
      },
      "source": [
        "import io\n",
        "import pandas as pd\n",
        "import numpy as np\n",
        "df = pd.read_csv(io.BytesIO(uploaded[key]))\n",
        "df"
      ],
      "execution_count": 131,
      "outputs": [
        {
          "output_type": "execute_result",
          "data": {
            "text/html": [
              "<div>\n",
              "<style scoped>\n",
              "    .dataframe tbody tr th:only-of-type {\n",
              "        vertical-align: middle;\n",
              "    }\n",
              "\n",
              "    .dataframe tbody tr th {\n",
              "        vertical-align: top;\n",
              "    }\n",
              "\n",
              "    .dataframe thead th {\n",
              "        text-align: right;\n",
              "    }\n",
              "</style>\n",
              "<table border=\"1\" class=\"dataframe\">\n",
              "  <thead>\n",
              "    <tr style=\"text-align: right;\">\n",
              "      <th></th>\n",
              "      <th>Unnamed: 0</th>\n",
              "      <th>Close</th>\n",
              "      <th>Change</th>\n",
              "      <th>Volume</th>\n",
              "      <th>Value</th>\n",
              "    </tr>\n",
              "  </thead>\n",
              "  <tbody>\n",
              "    <tr>\n",
              "      <th>0</th>\n",
              "      <td>1996-07-02</td>\n",
              "      <td>1,001.70</td>\n",
              "      <td>+0.17%</td>\n",
              "      <td>143</td>\n",
              "      <td>1,533</td>\n",
              "    </tr>\n",
              "    <tr>\n",
              "      <th>1</th>\n",
              "      <td>1996-07-03</td>\n",
              "      <td>1,005.30</td>\n",
              "      <td>+0.36%</td>\n",
              "      <td>115</td>\n",
              "      <td>1,012</td>\n",
              "    </tr>\n",
              "    <tr>\n",
              "      <th>2</th>\n",
              "      <td>1996-07-04</td>\n",
              "      <td>1,018.40</td>\n",
              "      <td>+1.30%</td>\n",
              "      <td>235</td>\n",
              "      <td>5,247</td>\n",
              "    </tr>\n",
              "    <tr>\n",
              "      <th>3</th>\n",
              "      <td>1996-07-05</td>\n",
              "      <td>1,037.80</td>\n",
              "      <td>+1.90%</td>\n",
              "      <td>59</td>\n",
              "      <td>894</td>\n",
              "    </tr>\n",
              "    <tr>\n",
              "      <th>4</th>\n",
              "      <td>1996-07-06</td>\n",
              "      <td>1,048.80</td>\n",
              "      <td>+1.06%</td>\n",
              "      <td>34</td>\n",
              "      <td>338</td>\n",
              "    </tr>\n",
              "    <tr>\n",
              "      <th>...</th>\n",
              "      <td>...</td>\n",
              "      <td>...</td>\n",
              "      <td>...</td>\n",
              "      <td>...</td>\n",
              "      <td>...</td>\n",
              "    </tr>\n",
              "    <tr>\n",
              "      <th>6222</th>\n",
              "      <td>2021-04-12</td>\n",
              "      <td>1,000.65</td>\n",
              "      <td>+1.14%</td>\n",
              "      <td>1,910,152</td>\n",
              "      <td>11,840,390</td>\n",
              "    </tr>\n",
              "    <tr>\n",
              "      <th>6223</th>\n",
              "      <td>2021-04-13</td>\n",
              "      <td>1,010.37</td>\n",
              "      <td>+0.97%</td>\n",
              "      <td>3,655,477</td>\n",
              "      <td>14,516,838</td>\n",
              "    </tr>\n",
              "    <tr>\n",
              "      <th>6224</th>\n",
              "      <td>2021-04-14</td>\n",
              "      <td>1,014.42</td>\n",
              "      <td>+0.40%</td>\n",
              "      <td>3,177,259</td>\n",
              "      <td>13,053,979</td>\n",
              "    </tr>\n",
              "    <tr>\n",
              "      <th>6225</th>\n",
              "      <td>2021-04-15</td>\n",
              "      <td>1,013.90</td>\n",
              "      <td>-0.05%</td>\n",
              "      <td>2,618,274</td>\n",
              "      <td>13,132,193</td>\n",
              "    </tr>\n",
              "    <tr>\n",
              "      <th>6226</th>\n",
              "      <td>2021-04-16</td>\n",
              "      <td>1,021.62</td>\n",
              "      <td>+0.76%</td>\n",
              "      <td>2,070,393</td>\n",
              "      <td>12,810,677</td>\n",
              "    </tr>\n",
              "  </tbody>\n",
              "</table>\n",
              "<p>6227 rows × 5 columns</p>\n",
              "</div>"
            ],
            "text/plain": [
              "      Unnamed: 0     Close  Change     Volume       Value\n",
              "0     1996-07-02  1,001.70  +0.17%        143       1,533\n",
              "1     1996-07-03  1,005.30  +0.36%        115       1,012\n",
              "2     1996-07-04  1,018.40  +1.30%        235       5,247\n",
              "3     1996-07-05  1,037.80  +1.90%         59         894\n",
              "4     1996-07-06  1,048.80  +1.06%         34         338\n",
              "...          ...       ...     ...        ...         ...\n",
              "6222  2021-04-12  1,000.65  +1.14%  1,910,152  11,840,390\n",
              "6223  2021-04-13  1,010.37  +0.97%  3,655,477  14,516,838\n",
              "6224  2021-04-14  1,014.42  +0.40%  3,177,259  13,053,979\n",
              "6225  2021-04-15  1,013.90  -0.05%  2,618,274  13,132,193\n",
              "6226  2021-04-16  1,021.62  +0.76%  2,070,393  12,810,677\n",
              "\n",
              "[6227 rows x 5 columns]"
            ]
          },
          "metadata": {
            "tags": []
          },
          "execution_count": 131
        }
      ]
    },
    {
      "cell_type": "code",
      "metadata": {
        "colab": {
          "base_uri": "https://localhost:8080/",
          "height": 419
        },
        "id": "GV0ctwHVwfA6",
        "outputId": "15747bfd-e2a3-493c-db0e-b49f55a06622"
      },
      "source": [
        "# Formatting\n",
        "df = df.rename(columns={'Unnamed: 0':'Date'})\n",
        "for i in df:\n",
        "  try:\n",
        "    df[i] = list(map(lambda a : float(str(a).replace(',','')) , df[i].values))\n",
        "  except:\n",
        "    pass\n",
        "df['Change'] = list(map(lambda a : float(eval(str(100) + a.replace('%',''))/100),df['Change'].values))\n",
        "df"
      ],
      "execution_count": 132,
      "outputs": [
        {
          "output_type": "execute_result",
          "data": {
            "text/html": [
              "<div>\n",
              "<style scoped>\n",
              "    .dataframe tbody tr th:only-of-type {\n",
              "        vertical-align: middle;\n",
              "    }\n",
              "\n",
              "    .dataframe tbody tr th {\n",
              "        vertical-align: top;\n",
              "    }\n",
              "\n",
              "    .dataframe thead th {\n",
              "        text-align: right;\n",
              "    }\n",
              "</style>\n",
              "<table border=\"1\" class=\"dataframe\">\n",
              "  <thead>\n",
              "    <tr style=\"text-align: right;\">\n",
              "      <th></th>\n",
              "      <th>Date</th>\n",
              "      <th>Close</th>\n",
              "      <th>Change</th>\n",
              "      <th>Volume</th>\n",
              "      <th>Value</th>\n",
              "    </tr>\n",
              "  </thead>\n",
              "  <tbody>\n",
              "    <tr>\n",
              "      <th>0</th>\n",
              "      <td>1996-07-02</td>\n",
              "      <td>1001.70</td>\n",
              "      <td>1.0017</td>\n",
              "      <td>143.0</td>\n",
              "      <td>1533.0</td>\n",
              "    </tr>\n",
              "    <tr>\n",
              "      <th>1</th>\n",
              "      <td>1996-07-03</td>\n",
              "      <td>1005.30</td>\n",
              "      <td>1.0036</td>\n",
              "      <td>115.0</td>\n",
              "      <td>1012.0</td>\n",
              "    </tr>\n",
              "    <tr>\n",
              "      <th>2</th>\n",
              "      <td>1996-07-04</td>\n",
              "      <td>1018.40</td>\n",
              "      <td>1.0130</td>\n",
              "      <td>235.0</td>\n",
              "      <td>5247.0</td>\n",
              "    </tr>\n",
              "    <tr>\n",
              "      <th>3</th>\n",
              "      <td>1996-07-05</td>\n",
              "      <td>1037.80</td>\n",
              "      <td>1.0190</td>\n",
              "      <td>59.0</td>\n",
              "      <td>894.0</td>\n",
              "    </tr>\n",
              "    <tr>\n",
              "      <th>4</th>\n",
              "      <td>1996-07-06</td>\n",
              "      <td>1048.80</td>\n",
              "      <td>1.0106</td>\n",
              "      <td>34.0</td>\n",
              "      <td>338.0</td>\n",
              "    </tr>\n",
              "    <tr>\n",
              "      <th>...</th>\n",
              "      <td>...</td>\n",
              "      <td>...</td>\n",
              "      <td>...</td>\n",
              "      <td>...</td>\n",
              "      <td>...</td>\n",
              "    </tr>\n",
              "    <tr>\n",
              "      <th>6222</th>\n",
              "      <td>2021-04-12</td>\n",
              "      <td>1000.65</td>\n",
              "      <td>1.0114</td>\n",
              "      <td>1910152.0</td>\n",
              "      <td>11840390.0</td>\n",
              "    </tr>\n",
              "    <tr>\n",
              "      <th>6223</th>\n",
              "      <td>2021-04-13</td>\n",
              "      <td>1010.37</td>\n",
              "      <td>1.0097</td>\n",
              "      <td>3655477.0</td>\n",
              "      <td>14516838.0</td>\n",
              "    </tr>\n",
              "    <tr>\n",
              "      <th>6224</th>\n",
              "      <td>2021-04-14</td>\n",
              "      <td>1014.42</td>\n",
              "      <td>1.0040</td>\n",
              "      <td>3177259.0</td>\n",
              "      <td>13053979.0</td>\n",
              "    </tr>\n",
              "    <tr>\n",
              "      <th>6225</th>\n",
              "      <td>2021-04-15</td>\n",
              "      <td>1013.90</td>\n",
              "      <td>0.9995</td>\n",
              "      <td>2618274.0</td>\n",
              "      <td>13132193.0</td>\n",
              "    </tr>\n",
              "    <tr>\n",
              "      <th>6226</th>\n",
              "      <td>2021-04-16</td>\n",
              "      <td>1021.62</td>\n",
              "      <td>1.0076</td>\n",
              "      <td>2070393.0</td>\n",
              "      <td>12810677.0</td>\n",
              "    </tr>\n",
              "  </tbody>\n",
              "</table>\n",
              "<p>6227 rows × 5 columns</p>\n",
              "</div>"
            ],
            "text/plain": [
              "            Date    Close  Change     Volume       Value\n",
              "0     1996-07-02  1001.70  1.0017      143.0      1533.0\n",
              "1     1996-07-03  1005.30  1.0036      115.0      1012.0\n",
              "2     1996-07-04  1018.40  1.0130      235.0      5247.0\n",
              "3     1996-07-05  1037.80  1.0190       59.0       894.0\n",
              "4     1996-07-06  1048.80  1.0106       34.0       338.0\n",
              "...          ...      ...     ...        ...         ...\n",
              "6222  2021-04-12  1000.65  1.0114  1910152.0  11840390.0\n",
              "6223  2021-04-13  1010.37  1.0097  3655477.0  14516838.0\n",
              "6224  2021-04-14  1014.42  1.0040  3177259.0  13053979.0\n",
              "6225  2021-04-15  1013.90  0.9995  2618274.0  13132193.0\n",
              "6226  2021-04-16  1021.62  1.0076  2070393.0  12810677.0\n",
              "\n",
              "[6227 rows x 5 columns]"
            ]
          },
          "metadata": {
            "tags": []
          },
          "execution_count": 132
        }
      ]
    },
    {
      "cell_type": "code",
      "metadata": {
        "colab": {
          "base_uri": "https://localhost:8080/",
          "height": 453
        },
        "id": "JMMwYoEywzti",
        "outputId": "11101438-675b-45ee-e2f3-6155e4900f24"
      },
      "source": [
        "df['Volume_change'] = np.insert((df['Volume'][1:].values / df['Volume'][:-1].values), 0, 0)\n",
        "df['Value_change'] = np.insert((df['Value'][1:].values / df['Value'][:-1].values), 0, 0)\n",
        "df"
      ],
      "execution_count": 133,
      "outputs": [
        {
          "output_type": "stream",
          "text": [
            "/usr/local/lib/python3.7/dist-packages/ipykernel_launcher.py:2: RuntimeWarning: divide by zero encountered in true_divide\n",
            "  \n"
          ],
          "name": "stderr"
        },
        {
          "output_type": "execute_result",
          "data": {
            "text/html": [
              "<div>\n",
              "<style scoped>\n",
              "    .dataframe tbody tr th:only-of-type {\n",
              "        vertical-align: middle;\n",
              "    }\n",
              "\n",
              "    .dataframe tbody tr th {\n",
              "        vertical-align: top;\n",
              "    }\n",
              "\n",
              "    .dataframe thead th {\n",
              "        text-align: right;\n",
              "    }\n",
              "</style>\n",
              "<table border=\"1\" class=\"dataframe\">\n",
              "  <thead>\n",
              "    <tr style=\"text-align: right;\">\n",
              "      <th></th>\n",
              "      <th>Date</th>\n",
              "      <th>Close</th>\n",
              "      <th>Change</th>\n",
              "      <th>Volume</th>\n",
              "      <th>Value</th>\n",
              "      <th>Volume_change</th>\n",
              "      <th>Value_change</th>\n",
              "    </tr>\n",
              "  </thead>\n",
              "  <tbody>\n",
              "    <tr>\n",
              "      <th>0</th>\n",
              "      <td>1996-07-02</td>\n",
              "      <td>1001.70</td>\n",
              "      <td>1.0017</td>\n",
              "      <td>143.0</td>\n",
              "      <td>1533.0</td>\n",
              "      <td>0.000000</td>\n",
              "      <td>0.000000</td>\n",
              "    </tr>\n",
              "    <tr>\n",
              "      <th>1</th>\n",
              "      <td>1996-07-03</td>\n",
              "      <td>1005.30</td>\n",
              "      <td>1.0036</td>\n",
              "      <td>115.0</td>\n",
              "      <td>1012.0</td>\n",
              "      <td>0.804196</td>\n",
              "      <td>0.660144</td>\n",
              "    </tr>\n",
              "    <tr>\n",
              "      <th>2</th>\n",
              "      <td>1996-07-04</td>\n",
              "      <td>1018.40</td>\n",
              "      <td>1.0130</td>\n",
              "      <td>235.0</td>\n",
              "      <td>5247.0</td>\n",
              "      <td>2.043478</td>\n",
              "      <td>5.184783</td>\n",
              "    </tr>\n",
              "    <tr>\n",
              "      <th>3</th>\n",
              "      <td>1996-07-05</td>\n",
              "      <td>1037.80</td>\n",
              "      <td>1.0190</td>\n",
              "      <td>59.0</td>\n",
              "      <td>894.0</td>\n",
              "      <td>0.251064</td>\n",
              "      <td>0.170383</td>\n",
              "    </tr>\n",
              "    <tr>\n",
              "      <th>4</th>\n",
              "      <td>1996-07-06</td>\n",
              "      <td>1048.80</td>\n",
              "      <td>1.0106</td>\n",
              "      <td>34.0</td>\n",
              "      <td>338.0</td>\n",
              "      <td>0.576271</td>\n",
              "      <td>0.378076</td>\n",
              "    </tr>\n",
              "    <tr>\n",
              "      <th>...</th>\n",
              "      <td>...</td>\n",
              "      <td>...</td>\n",
              "      <td>...</td>\n",
              "      <td>...</td>\n",
              "      <td>...</td>\n",
              "      <td>...</td>\n",
              "      <td>...</td>\n",
              "    </tr>\n",
              "    <tr>\n",
              "      <th>6222</th>\n",
              "      <td>2021-04-12</td>\n",
              "      <td>1000.65</td>\n",
              "      <td>1.0114</td>\n",
              "      <td>1910152.0</td>\n",
              "      <td>11840390.0</td>\n",
              "      <td>1.198779</td>\n",
              "      <td>1.066184</td>\n",
              "    </tr>\n",
              "    <tr>\n",
              "      <th>6223</th>\n",
              "      <td>2021-04-13</td>\n",
              "      <td>1010.37</td>\n",
              "      <td>1.0097</td>\n",
              "      <td>3655477.0</td>\n",
              "      <td>14516838.0</td>\n",
              "      <td>1.913710</td>\n",
              "      <td>1.226044</td>\n",
              "    </tr>\n",
              "    <tr>\n",
              "      <th>6224</th>\n",
              "      <td>2021-04-14</td>\n",
              "      <td>1014.42</td>\n",
              "      <td>1.0040</td>\n",
              "      <td>3177259.0</td>\n",
              "      <td>13053979.0</td>\n",
              "      <td>0.869178</td>\n",
              "      <td>0.899230</td>\n",
              "    </tr>\n",
              "    <tr>\n",
              "      <th>6225</th>\n",
              "      <td>2021-04-15</td>\n",
              "      <td>1013.90</td>\n",
              "      <td>0.9995</td>\n",
              "      <td>2618274.0</td>\n",
              "      <td>13132193.0</td>\n",
              "      <td>0.824067</td>\n",
              "      <td>1.005992</td>\n",
              "    </tr>\n",
              "    <tr>\n",
              "      <th>6226</th>\n",
              "      <td>2021-04-16</td>\n",
              "      <td>1021.62</td>\n",
              "      <td>1.0076</td>\n",
              "      <td>2070393.0</td>\n",
              "      <td>12810677.0</td>\n",
              "      <td>0.790747</td>\n",
              "      <td>0.975517</td>\n",
              "    </tr>\n",
              "  </tbody>\n",
              "</table>\n",
              "<p>6227 rows × 7 columns</p>\n",
              "</div>"
            ],
            "text/plain": [
              "            Date    Close  Change  ...       Value  Volume_change  Value_change\n",
              "0     1996-07-02  1001.70  1.0017  ...      1533.0       0.000000      0.000000\n",
              "1     1996-07-03  1005.30  1.0036  ...      1012.0       0.804196      0.660144\n",
              "2     1996-07-04  1018.40  1.0130  ...      5247.0       2.043478      5.184783\n",
              "3     1996-07-05  1037.80  1.0190  ...       894.0       0.251064      0.170383\n",
              "4     1996-07-06  1048.80  1.0106  ...       338.0       0.576271      0.378076\n",
              "...          ...      ...     ...  ...         ...            ...           ...\n",
              "6222  2021-04-12  1000.65  1.0114  ...  11840390.0       1.198779      1.066184\n",
              "6223  2021-04-13  1010.37  1.0097  ...  14516838.0       1.913710      1.226044\n",
              "6224  2021-04-14  1014.42  1.0040  ...  13053979.0       0.869178      0.899230\n",
              "6225  2021-04-15  1013.90  0.9995  ...  13132193.0       0.824067      1.005992\n",
              "6226  2021-04-16  1021.62  1.0076  ...  12810677.0       0.790747      0.975517\n",
              "\n",
              "[6227 rows x 7 columns]"
            ]
          },
          "metadata": {
            "tags": []
          },
          "execution_count": 133
        }
      ]
    },
    {
      "cell_type": "code",
      "metadata": {
        "id": "sKfzzZwH2v7l"
      },
      "source": [
        "# 샘플링\n",
        "\n",
        "sampled_df = df.sample(n=1000)\n",
        "# sampled_df = df"
      ],
      "execution_count": null,
      "outputs": []
    },
    {
      "cell_type": "code",
      "metadata": {
        "colab": {
          "base_uri": "https://localhost:8080/",
          "height": 592
        },
        "id": "x7jwqY01L6JD",
        "outputId": "09d134af-6ad2-4f60-a416-b7f36b9ce3c9"
      },
      "source": [
        "# 확률분포\n",
        "\n",
        "import matplotlib.pyplot as plt\n",
        "\n",
        "plt.subplots(figsize=(10, 10))\n",
        "plt.hist(sampled_df['Change'], bins='auto')\n",
        "plt.show()"
      ],
      "execution_count": 134,
      "outputs": [
        {
          "output_type": "display_data",
          "data": {
            "image/png": "[encoded data removed]",
            "text/plain": [
              "<Figure size 720x720 with 1 Axes>"
            ]
          },
          "metadata": {
            "tags": [],
            "needs_background": "light"
          }
        }
      ]
    },
    {
      "cell_type": "code",
      "metadata": {
        "colab": {
          "base_uri": "https://localhost:8080/"
        },
        "id": "Ce82v01sNdYr",
        "outputId": "d90df5fb-29c6-4c3f-c5df-c8b52db48fea"
      },
      "source": [
        "print('lowest 5th percentile: ', round(np.percentile(sampled_df['Change'], 5), 5))\n",
        "print('highest 5th percentile: ', round(np.percentile(sampled_df['Change'], 95), 5))\n",
        "print(sum(sampled_df['Change'] > 1.0) / len(sampled_df['Change']))"
      ],
      "execution_count": 191,
      "outputs": [
        {
          "output_type": "stream",
          "text": [
            "lowest 5th percentile:  0.97488\n",
            "highest 5th percentile:  1.02623\n",
            "0.531\n"
          ],
          "name": "stdout"
        }
      ]
    },
    {
      "cell_type": "code",
      "metadata": {
        "id": "r11iEt6yn73J"
      },
      "source": [
        "# sampled_df의 Change > 1 전날의 데이터 인덱스\n",
        "pre_increase = df.iloc[(sampled_df['Change'] > 1).index]['Change'].index[1:] - 1"
      ],
      "execution_count": 138,
      "outputs": []
    },
    {
      "cell_type": "code",
      "metadata": {
        "colab": {
          "base_uri": "https://localhost:8080/"
        },
        "id": "YCFv_JhoQImh",
        "outputId": "e28d0f27-bb3c-421f-a759-2e2b2b826f47"
      },
      "source": [
        "# 전날 특성상 상승할 확률\n",
        "print(sum(df.loc[pre_increase]['Change'] > 1) / len(pre_increase))\n",
        "print(sum(df.loc[pre_increase]['Volume_change'] < 1) / len(pre_increase))"
      ],
      "execution_count": 139,
      "outputs": [
        {
          "output_type": "execute_result",
          "data": {
            "text/plain": [
              "0.5255255255255256"
            ]
          },
          "metadata": {
            "tags": []
          },
          "execution_count": 139
        }
      ]
    },
    {
      "cell_type": "code",
      "metadata": {
        "colab": {
          "base_uri": "https://localhost:8080/"
        },
        "id": "8JaM_u-n0FgE",
        "outputId": "41d5de70-245a-49f4-c45b-b803761ab635"
      },
      "source": [
        "# 기하분포\n",
        "# 성공의 확률인 p인 독립시행을 성공이 나올 때까지 계속한다고 할 때, 처음 성공까지 총 시도한 횟수 X의 확률분포.\n",
        "# Pr(X = x) = p*(1-p)^(x-1)\n",
        "# 𝝁   : 1/p  \n",
        "# 𝝈^2 : (1-p)/p^2\n",
        "\n",
        "p = sum(sampled_df['Change'] > 1.02) / len(sampled_df['Change'])\n",
        "print('p: ', p)\n",
        "print('mean: ', 1/p)\n",
        "print('variance: ', (1-p)/(p**2))"
      ],
      "execution_count": 220,
      "outputs": [
        {
          "output_type": "stream",
          "text": [
            "p:  0.076\n",
            "mean:  13.157894736842106\n",
            "variance:  159.97229916897507\n"
          ],
          "name": "stdout"
        }
      ]
    },
    {
      "cell_type": "code",
      "metadata": {
        "colab": {
          "base_uri": "https://localhost:8080/"
        },
        "id": "ku71O3z_3TzR",
        "outputId": "1dd28145-0526-4651-fc72-21cf92f54e25"
      },
      "source": [
        "from scipy.stats import geom\n",
        "rv = geom(p=p)  \n",
        "rv.pmf(5) "
      ],
      "execution_count": 217,
      "outputs": [
        {
          "output_type": "execute_result",
          "data": {
            "text/plain": [
              "0.055398942821376"
            ]
          },
          "metadata": {
            "tags": []
          },
          "execution_count": 217
        }
      ]
    },
    {
      "cell_type": "code",
      "metadata": {
        "colab": {
          "base_uri": "https://localhost:8080/",
          "height": 265
        },
        "id": "IsoeaIif_73-",
        "outputId": "5d3b9980-2022-49cb-c05b-da0cc0ac2b29"
      },
      "source": [
        "import matplotlib.pyplot as plt\n",
        "import numpy as np\n",
        "rv = geom(p) \n",
        "x = np.arange(1, 50+1)\n",
        "pmf_geom = rv.pmf(x)\n",
        "fig = plt.figure() \n",
        "ax = fig.add_subplot(111)\n",
        "ax.plot(x, pmf_geom, 'bo')\n",
        "ax.vlines(x, 0, pmf_geom, lw =2)\n",
        "ax.set_ylabel('geom PMF')\n",
        "plt.show()"
      ],
      "execution_count": 218,
      "outputs": [
        {
          "output_type": "display_data",
          "data": {
            "image/png": "[encoded data removed]",
            "text/plain": [
              "<Figure size 432x288 with 1 Axes>"
            ]
          },
          "metadata": {
            "tags": [],
            "needs_background": "light"
          }
        }
      ]
    },
    {
      "cell_type": "code",
      "metadata": {
        "id": "weSbGWRf1yrL"
      },
      "source": [
        "# 음이항분포\n",
        "# 베르누이시행에서 r번째 성공까지 시도한 횟수 X의 분포\n"
      ],
      "execution_count": null,
      "outputs": []
    },
    {
      "cell_type": "code",
      "metadata": {
        "id": "vpqa3VnVGc6J"
      },
      "source": [
        "\n",
        "\n",
        "n, p = 0.4, 0.4\n",
        "mean, var, skew, kurt = nbinom.stats(n, p, moments='mvsk')"
      ],
      "execution_count": 223,
      "outputs": []
    },
    {
      "cell_type": "code",
      "metadata": {
        "colab": {
          "base_uri": "https://localhost:8080/",
          "height": 265
        },
        "id": "zPhvaP4-AWIY",
        "outputId": "bdd1f0c5-a6bf-498f-d322-7b3307ac472a"
      },
      "source": [
        "from scipy.stats import nbinom\n",
        "import matplotlib.pyplot as plt\n",
        "fig, ax = plt.subplots(1, 1)\n",
        "\n",
        "x = np.arange(nbinom.ppf(0.01, n, p),\n",
        "              nbinom.ppf(0.99, n, p))\n",
        "ax.plot(x, nbinom.pmf(x, n, p), 'bo', ms=8, label='nbinom pmf')\n",
        "ax.vlines(x, 0, nbinom.pmf(x, n, p), colors='b', lw=5, alpha=0.5)\n",
        "\n",
        "rv = nbinom(n, p)\n",
        "ax.vlines(x, 0, rv.pmf(x), colors='k', linestyles='-', lw=1,\n",
        "        label='frozen pmf')\n",
        "ax.legend(loc='best', frameon=False)\n",
        "plt.show()"
      ],
      "execution_count": 224,
      "outputs": [
        {
          "output_type": "display_data",
          "data": {
            "image/png": "[encoded data removed]",
            "text/plain": [
              "<Figure size 432x288 with 1 Axes>"
            ]
          },
          "metadata": {
            "tags": [],
            "needs_background": "light"
          }
        }
      ]
    },
    {
      "cell_type": "code",
      "metadata": {
        "id": "L-JHd7n1Bxpb"
      },
      "source": [
        ""
      ],
      "execution_count": 219,
      "outputs": []
    }
  ]
}