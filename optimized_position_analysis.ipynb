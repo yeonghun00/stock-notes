{
  "nbformat": 4,
  "nbformat_minor": 0,
  "metadata": {
    "colab": {
      "name": "optimized position analysis",
      "provenance": [],
      "collapsed_sections": [],
      "authorship_tag": "ABX9TyNmv1VY771pjw+lNIJDkdFL",
      "include_colab_link": true
    },
    "kernelspec": {
      "name": "python3",
      "display_name": "Python 3"
    },
    "language_info": {
      "name": "python"
    }
  },
  "cells": [
    {
      "cell_type": "markdown",
      "metadata": {
        "id": "view-in-github",
        "colab_type": "text"
      },
      "source": [
        "<a href=\"https://colab.research.google.com/github/yeonghun00/stock_public/blob/main/optimized_position_analysis.ipynb\" target=\"_parent\"><img src=\"https://colab.research.google.com/assets/colab-badge.svg\" alt=\"Open In Colab\"/></a>"
      ]
    },
    {
      "cell_type": "code",
      "metadata": {
        "id": "t5E-xuAG28kv"
      },
      "source": [
        "#참고 https://losskatsu.github.io/statistics/prob-distribution/#%EC%B0%B8%EA%B3%A0-%ED%99%95%EB%A5%A0%EB%B6%84%ED%8F%AC%EA%B0%84-%EA%B4%80%EA%B3%84%EB%8F%84"
      ],
      "execution_count": 1,
      "outputs": []
    },
    {
      "cell_type": "code",
      "metadata": {
        "id": "6KfE2kk7v_LT"
      },
      "source": [
        "import requests\n",
        "from bs4 import BeautifulSoup\n",
        "import pandas as pd\n",
        "import numpy as np\n",
        "import datetime\n",
        "import ast\n",
        "\n",
        "class Stock:\n",
        "  def __init__(self, code):\n",
        "    self.code = code\n",
        "    self.headers = {'User-Agent' : 'Mozilla/5.0 (Macintosh; Intel Mac OS X 10_14_6) AppleWebKit/537.36 (KHTML, like Gecko) Chrome/85.0.4183.121 Safari/537.36'}\n",
        "\n",
        "  def get_price(self, start:int='20180501', interval='day'):\n",
        "    url ='https://api.finance.naver.com/siseJson.naver?symbol=' + self.code + ' &requestType=1&startTime=' \\\n",
        "    + start + '&endTime=' + str(datetime.datetime.now().date().strftime(\"%Y%m%d\")) +  '&timeframe=' + interval\n",
        "\n",
        "    result = requests.get(url)\n",
        "    bs_obj = BeautifulSoup(result.content, \"html.parser\")\n",
        "    b = bs_obj.get_text()\n",
        "    for i in ['\\n', '\\t', \"\\\\\", ' ']:\n",
        "      b = b.replace(i,'')\n",
        "\n",
        "    data = np.array(ast.literal_eval(b)[1:])\n",
        "\n",
        "    dic = {'Date':list(map(lambda x: datetime.datetime.strptime(str(x), '%Y%m%d'), data[:,0])), \\\n",
        "      'Open':np.array(data[:,1], int), 'High':np.array(data[:,2], int), 'Low':np.array(data[:,3], int),\\\n",
        "       'Close':np.array(data[:,4], int), 'Volume':np.array(data[:,5], int)}\n",
        "\n",
        "    df = pd.DataFrame(data=dic)\n",
        "    df = df.set_index('Date')\n",
        "    return df\n",
        "    \n",
        "  def get_fundamental(self):\n",
        "    url = 'https://finance.naver.com/item/main.nhn?code=' + self.code\n",
        "    result = requests.get(url, headers = self.headers)\n",
        "    bs_obj = BeautifulSoup(result.content, \"html.parser\")\n",
        "\n",
        "    ths = bs_obj.find_all(\"th\", {'scope':'col'})\n",
        "    ths = [th.get_text() for th in ths][10:-22]\n",
        "    dates = list(map(lambda x: x.translate(str.maketrans('','','\\n\\t, ')),ths))\n",
        "    dates = list(map(lambda x: x + '(Y)', dates[:4])) + list(map(lambda x: x + '(M)', dates[4:]))\n",
        "\n",
        "    tr = bs_obj.find_all(\"tbody\")\n",
        "    tds = tr[2].find_all('td')\n",
        "    tds = [td.get_text() for td in tds]\n",
        "    elements = list(map(lambda x: x.translate(str.maketrans('','','\\n\\t, ')),tds))\n",
        "    elements = list(map(lambda x: float(x) if x.replace('.','').isdigit() else np.nan, elements))\n",
        "\n",
        "    temp_dict = {}\n",
        "    cnt = 0\n",
        "    index = ['sales', 'operating profit', 'net income', 'operating margin', 'net margin', 'roe', 'debt ratio', 'quick ratio', \\\n",
        "    'reserve ratio', 'eps', 'per', 'bps', 'pbr', 'dividend per share', 'dividend yield ratio', 'dividend payout ratio']\n",
        "\n",
        "    for i in dates:\n",
        "      temp_dict[i] = elements[cnt::10]\n",
        "      cnt += 1\n",
        "\n",
        "    df = pd.DataFrame.from_dict(temp_dict)\n",
        "    df = df.set_index([pd.Index(index)])\n",
        "    return df"
      ],
      "execution_count": 2,
      "outputs": []
    },
    {
      "cell_type": "code",
      "metadata": {
        "id": "dLDoNn0qlCMl",
        "outputId": "8f7548f8-f30d-4b32-f37e-e8f105a76f5a",
        "colab": {
          "base_uri": "https://localhost:8080/",
          "height": 450
        }
      },
      "source": [
        "stock = Stock('KOSPI')\n",
        "df = stock.get_price('20000101')\n",
        "df['Change'] = round(df['Close'] / df['Open'], 4)\n",
        "df"
      ],
      "execution_count": 3,
      "outputs": [
        {
          "output_type": "execute_result",
          "data": {
            "text/html": [
              "<div>\n",
              "<style scoped>\n",
              "    .dataframe tbody tr th:only-of-type {\n",
              "        vertical-align: middle;\n",
              "    }\n",
              "\n",
              "    .dataframe tbody tr th {\n",
              "        vertical-align: top;\n",
              "    }\n",
              "\n",
              "    .dataframe thead th {\n",
              "        text-align: right;\n",
              "    }\n",
              "</style>\n",
              "<table border=\"1\" class=\"dataframe\">\n",
              "  <thead>\n",
              "    <tr style=\"text-align: right;\">\n",
              "      <th></th>\n",
              "      <th>Open</th>\n",
              "      <th>High</th>\n",
              "      <th>Low</th>\n",
              "      <th>Close</th>\n",
              "      <th>Volume</th>\n",
              "      <th>Change</th>\n",
              "    </tr>\n",
              "    <tr>\n",
              "      <th>Date</th>\n",
              "      <th></th>\n",
              "      <th></th>\n",
              "      <th></th>\n",
              "      <th></th>\n",
              "      <th></th>\n",
              "      <th></th>\n",
              "    </tr>\n",
              "  </thead>\n",
              "  <tbody>\n",
              "    <tr>\n",
              "      <th>2000-01-04</th>\n",
              "      <td>102833</td>\n",
              "      <td>106618</td>\n",
              "      <td>101659</td>\n",
              "      <td>105904</td>\n",
              "      <td>195898</td>\n",
              "      <td>1.0299</td>\n",
              "    </tr>\n",
              "    <tr>\n",
              "      <th>2000-01-05</th>\n",
              "      <td>100687</td>\n",
              "      <td>102652</td>\n",
              "      <td>98405</td>\n",
              "      <td>98631</td>\n",
              "      <td>257696</td>\n",
              "      <td>0.9796</td>\n",
              "    </tr>\n",
              "    <tr>\n",
              "      <th>2000-01-06</th>\n",
              "      <td>101395</td>\n",
              "      <td>101490</td>\n",
              "      <td>95350</td>\n",
              "      <td>96079</td>\n",
              "      <td>203523</td>\n",
              "      <td>0.9476</td>\n",
              "    </tr>\n",
              "    <tr>\n",
              "      <th>2000-01-07</th>\n",
              "      <td>94917</td>\n",
              "      <td>97016</td>\n",
              "      <td>93084</td>\n",
              "      <td>94865</td>\n",
              "      <td>215664</td>\n",
              "      <td>0.9995</td>\n",
              "    </tr>\n",
              "    <tr>\n",
              "      <th>2000-01-10</th>\n",
              "      <td>97967</td>\n",
              "      <td>99494</td>\n",
              "      <td>97482</td>\n",
              "      <td>98724</td>\n",
              "      <td>240175</td>\n",
              "      <td>1.0077</td>\n",
              "    </tr>\n",
              "    <tr>\n",
              "      <th>...</th>\n",
              "      <td>...</td>\n",
              "      <td>...</td>\n",
              "      <td>...</td>\n",
              "      <td>...</td>\n",
              "      <td>...</td>\n",
              "      <td>...</td>\n",
              "    </tr>\n",
              "    <tr>\n",
              "      <th>2021-07-05</th>\n",
              "      <td>328529</td>\n",
              "      <td>329893</td>\n",
              "      <td>328529</td>\n",
              "      <td>329321</td>\n",
              "      <td>850406</td>\n",
              "      <td>1.0024</td>\n",
              "    </tr>\n",
              "    <tr>\n",
              "      <th>2021-07-06</th>\n",
              "      <td>329544</td>\n",
              "      <td>331351</td>\n",
              "      <td>329544</td>\n",
              "      <td>330521</td>\n",
              "      <td>1029465</td>\n",
              "      <td>1.0030</td>\n",
              "    </tr>\n",
              "    <tr>\n",
              "      <th>2021-07-07</th>\n",
              "      <td>330359</td>\n",
              "      <td>330359</td>\n",
              "      <td>327766</td>\n",
              "      <td>328534</td>\n",
              "      <td>1147641</td>\n",
              "      <td>0.9945</td>\n",
              "    </tr>\n",
              "    <tr>\n",
              "      <th>2021-07-08</th>\n",
              "      <td>328768</td>\n",
              "      <td>329571</td>\n",
              "      <td>325241</td>\n",
              "      <td>325268</td>\n",
              "      <td>1516034</td>\n",
              "      <td>0.9894</td>\n",
              "    </tr>\n",
              "    <tr>\n",
              "      <th>2021-07-09</th>\n",
              "      <td>324552</td>\n",
              "      <td>324552</td>\n",
              "      <td>318880</td>\n",
              "      <td>321601</td>\n",
              "      <td>1231837</td>\n",
              "      <td>0.9909</td>\n",
              "    </tr>\n",
              "  </tbody>\n",
              "</table>\n",
              "<p>5315 rows × 6 columns</p>\n",
              "</div>"
            ],
            "text/plain": [
              "              Open    High     Low   Close   Volume  Change\n",
              "Date                                                       \n",
              "2000-01-04  102833  106618  101659  105904   195898  1.0299\n",
              "2000-01-05  100687  102652   98405   98631   257696  0.9796\n",
              "2000-01-06  101395  101490   95350   96079   203523  0.9476\n",
              "2000-01-07   94917   97016   93084   94865   215664  0.9995\n",
              "2000-01-10   97967   99494   97482   98724   240175  1.0077\n",
              "...            ...     ...     ...     ...      ...     ...\n",
              "2021-07-05  328529  329893  328529  329321   850406  1.0024\n",
              "2021-07-06  329544  331351  329544  330521  1029465  1.0030\n",
              "2021-07-07  330359  330359  327766  328534  1147641  0.9945\n",
              "2021-07-08  328768  329571  325241  325268  1516034  0.9894\n",
              "2021-07-09  324552  324552  318880  321601  1231837  0.9909\n",
              "\n",
              "[5315 rows x 6 columns]"
            ]
          },
          "metadata": {
            "tags": []
          },
          "execution_count": 3
        }
      ]
    },
    {
      "cell_type": "code",
      "metadata": {
        "id": "sKfzzZwH2v7l"
      },
      "source": [
        "# 샘플링\n",
        "#sampled_df = df.sample(n=10000)\n",
        "sampled_df = df"
      ],
      "execution_count": 4,
      "outputs": []
    },
    {
      "cell_type": "code",
      "metadata": {
        "colab": {
          "base_uri": "https://localhost:8080/",
          "height": 592
        },
        "id": "x7jwqY01L6JD",
        "outputId": "cb6ebfac-aed2-44fd-9da9-1ed60efc531a"
      },
      "source": [
        "# 확률분포\n",
        "import matplotlib.pyplot as plt\n",
        "\n",
        "plt.subplots(figsize=(10, 10))\n",
        "plt.hist(df[np.isfinite(df['Change'])]['Change'], bins= 'auto')\n",
        "plt.show()"
      ],
      "execution_count": 5,
      "outputs": [
        {
          "output_type": "display_data",
          "data": {
            "image/png": "[encoded data removed]",
            "text/plain": [
              "<Figure size 720x720 with 1 Axes>"
            ]
          },
          "metadata": {
            "tags": [],
            "needs_background": "light"
          }
        }
      ]
    },
    {
      "cell_type": "code",
      "metadata": {
        "colab": {
          "base_uri": "https://localhost:8080/"
        },
        "id": "Ce82v01sNdYr",
        "outputId": "144edf08-9e22-43d7-b2ed-c6e431aad3bb"
      },
      "source": [
        "print('lowest 5th percentile: ', round(np.percentile(sampled_df['Change'], 5), 5))\n",
        "print('highest 5th percentile: ', round(np.percentile(sampled_df['Change'], 95), 5))\n",
        "print(sum(sampled_df['Change'] > 1.0) / len(sampled_df['Change']))"
      ],
      "execution_count": 6,
      "outputs": [
        {
          "output_type": "stream",
          "text": [
            "lowest 5th percentile:  0.9806\n",
            "highest 5th percentile:  1.0173\n",
            "0.48842897460018814\n"
          ],
          "name": "stdout"
        }
      ]
    },
    {
      "cell_type": "code",
      "metadata": {
        "id": "r11iEt6yn73J"
      },
      "source": [
        "# sampled_df의 Change > 1 전날의 데이터 인덱스\n",
        "pre_increase = df[(df['Change'] > 1).shift(-1).fillna(False)].index"
      ],
      "execution_count": 7,
      "outputs": []
    },
    {
      "cell_type": "code",
      "metadata": {
        "id": "wa6ZSsQy3huD",
        "outputId": "2f147342-d67f-4067-e8e0-db25e0bd8601",
        "colab": {
          "base_uri": "https://localhost:8080/",
          "height": 450
        }
      },
      "source": [
        "df.loc[pre_increase]"
      ],
      "execution_count": 8,
      "outputs": [
        {
          "output_type": "execute_result",
          "data": {
            "text/html": [
              "<div>\n",
              "<style scoped>\n",
              "    .dataframe tbody tr th:only-of-type {\n",
              "        vertical-align: middle;\n",
              "    }\n",
              "\n",
              "    .dataframe tbody tr th {\n",
              "        vertical-align: top;\n",
              "    }\n",
              "\n",
              "    .dataframe thead th {\n",
              "        text-align: right;\n",
              "    }\n",
              "</style>\n",
              "<table border=\"1\" class=\"dataframe\">\n",
              "  <thead>\n",
              "    <tr style=\"text-align: right;\">\n",
              "      <th></th>\n",
              "      <th>Open</th>\n",
              "      <th>High</th>\n",
              "      <th>Low</th>\n",
              "      <th>Close</th>\n",
              "      <th>Volume</th>\n",
              "      <th>Change</th>\n",
              "    </tr>\n",
              "    <tr>\n",
              "      <th>Date</th>\n",
              "      <th></th>\n",
              "      <th></th>\n",
              "      <th></th>\n",
              "      <th></th>\n",
              "      <th></th>\n",
              "      <th></th>\n",
              "    </tr>\n",
              "  </thead>\n",
              "  <tbody>\n",
              "    <tr>\n",
              "      <th>2000-01-07</th>\n",
              "      <td>94917</td>\n",
              "      <td>97016</td>\n",
              "      <td>93084</td>\n",
              "      <td>94865</td>\n",
              "      <td>215664</td>\n",
              "      <td>0.9995</td>\n",
              "    </tr>\n",
              "    <tr>\n",
              "      <th>2000-01-14</th>\n",
              "      <td>95882</td>\n",
              "      <td>97059</td>\n",
              "      <td>93775</td>\n",
              "      <td>94803</td>\n",
              "      <td>224957</td>\n",
              "      <td>0.9887</td>\n",
              "    </tr>\n",
              "    <tr>\n",
              "      <th>2000-01-19</th>\n",
              "      <td>96931</td>\n",
              "      <td>96931</td>\n",
              "      <td>93874</td>\n",
              "      <td>93878</td>\n",
              "      <td>235726</td>\n",
              "      <td>0.9685</td>\n",
              "    </tr>\n",
              "    <tr>\n",
              "      <th>2000-01-21</th>\n",
              "      <td>92855</td>\n",
              "      <td>94070</td>\n",
              "      <td>91183</td>\n",
              "      <td>92516</td>\n",
              "      <td>255135</td>\n",
              "      <td>0.9963</td>\n",
              "    </tr>\n",
              "    <tr>\n",
              "      <th>2000-01-26</th>\n",
              "      <td>89634</td>\n",
              "      <td>90243</td>\n",
              "      <td>87582</td>\n",
              "      <td>88554</td>\n",
              "      <td>231146</td>\n",
              "      <td>0.9880</td>\n",
              "    </tr>\n",
              "    <tr>\n",
              "      <th>...</th>\n",
              "      <td>...</td>\n",
              "      <td>...</td>\n",
              "      <td>...</td>\n",
              "      <td>...</td>\n",
              "      <td>...</td>\n",
              "      <td>...</td>\n",
              "    </tr>\n",
              "    <tr>\n",
              "      <th>2021-06-23</th>\n",
              "      <td>326573</td>\n",
              "      <td>328188</td>\n",
              "      <td>326307</td>\n",
              "      <td>327619</td>\n",
              "      <td>1069174</td>\n",
              "      <td>1.0032</td>\n",
              "    </tr>\n",
              "    <tr>\n",
              "      <th>2021-06-24</th>\n",
              "      <td>328147</td>\n",
              "      <td>329227</td>\n",
              "      <td>327785</td>\n",
              "      <td>328610</td>\n",
              "      <td>1301271</td>\n",
              "      <td>1.0014</td>\n",
              "    </tr>\n",
              "    <tr>\n",
              "      <th>2021-06-29</th>\n",
              "      <td>330526</td>\n",
              "      <td>330542</td>\n",
              "      <td>327663</td>\n",
              "      <td>328668</td>\n",
              "      <td>1213046</td>\n",
              "      <td>0.9944</td>\n",
              "    </tr>\n",
              "    <tr>\n",
              "      <th>2021-07-02</th>\n",
              "      <td>328281</td>\n",
              "      <td>329568</td>\n",
              "      <td>327819</td>\n",
              "      <td>328178</td>\n",
              "      <td>1019998</td>\n",
              "      <td>0.9997</td>\n",
              "    </tr>\n",
              "    <tr>\n",
              "      <th>2021-07-05</th>\n",
              "      <td>328529</td>\n",
              "      <td>329893</td>\n",
              "      <td>328529</td>\n",
              "      <td>329321</td>\n",
              "      <td>850406</td>\n",
              "      <td>1.0024</td>\n",
              "    </tr>\n",
              "  </tbody>\n",
              "</table>\n",
              "<p>2595 rows × 6 columns</p>\n",
              "</div>"
            ],
            "text/plain": [
              "              Open    High     Low   Close   Volume  Change\n",
              "Date                                                       \n",
              "2000-01-07   94917   97016   93084   94865   215664  0.9995\n",
              "2000-01-14   95882   97059   93775   94803   224957  0.9887\n",
              "2000-01-19   96931   96931   93874   93878   235726  0.9685\n",
              "2000-01-21   92855   94070   91183   92516   255135  0.9963\n",
              "2000-01-26   89634   90243   87582   88554   231146  0.9880\n",
              "...            ...     ...     ...     ...      ...     ...\n",
              "2021-06-23  326573  328188  326307  327619  1069174  1.0032\n",
              "2021-06-24  328147  329227  327785  328610  1301271  1.0014\n",
              "2021-06-29  330526  330542  327663  328668  1213046  0.9944\n",
              "2021-07-02  328281  329568  327819  328178  1019998  0.9997\n",
              "2021-07-05  328529  329893  328529  329321   850406  1.0024\n",
              "\n",
              "[2595 rows x 6 columns]"
            ]
          },
          "metadata": {
            "tags": []
          },
          "execution_count": 8
        }
      ]
    },
    {
      "cell_type": "code",
      "metadata": {
        "colab": {
          "base_uri": "https://localhost:8080/"
        },
        "id": "YCFv_JhoQImh",
        "outputId": "5eb96e00-16f3-4bc9-8566-2d275e6a19e0"
      },
      "source": [
        "# 전날 관련 확률\n",
        "print(sum(df.loc[pre_increase]['Change'] < 1) / len(pre_increase))"
      ],
      "execution_count": 9,
      "outputs": [
        {
          "output_type": "stream",
          "text": [
            "0.5244701348747591\n"
          ],
          "name": "stdout"
        }
      ]
    },
    {
      "cell_type": "code",
      "metadata": {
        "colab": {
          "base_uri": "https://localhost:8080/"
        },
        "id": "8JaM_u-n0FgE",
        "outputId": "772417a7-2606-46dd-c7b1-548ee1ecab02"
      },
      "source": [
        "# 기하분포\n",
        "# 성공의 확률인 p인 독립시행을 성공이 나올 때까지 계속한다고 할 때, 처음 성공까지 총 시도한 횟수 X의 확률분포.\n",
        "# Pr(X = x) = p*(1-p)^(x-1)\n",
        "# 𝝁   : 1/p  \n",
        "# 𝝈^2 : (1-p)/p^2\n",
        "\n",
        "# +%가 나올때가지 x의 확률\n",
        "p = sum(sampled_df['Change'] > 1.0) / len(sampled_df['Change'])\n",
        "print('p: ', p)\n",
        "print('mean: ', 1/p)\n",
        "print('variance: ', (1-p)/(p**2))"
      ],
      "execution_count": 10,
      "outputs": [
        {
          "output_type": "stream",
          "text": [
            "p:  0.48842897460018814\n",
            "mean:  2.0473805855161786\n",
            "variance:  2.1443866764323922\n"
          ],
          "name": "stdout"
        }
      ]
    },
    {
      "cell_type": "code",
      "metadata": {
        "id": "Q160Cv0c1oQx"
      },
      "source": [
        "x = range(1,10)\n",
        "pr = list(map(lambda x: p*(1-p)**(x-1) , x))"
      ],
      "execution_count": 11,
      "outputs": []
    },
    {
      "cell_type": "code",
      "metadata": {
        "id": "lOiFrykt2u_p",
        "colab": {
          "base_uri": "https://localhost:8080/",
          "height": 265
        },
        "outputId": "d351fb1a-3722-43b5-f226-1bc8a7529e93"
      },
      "source": [
        "import matplotlib.pyplot as plt\n",
        "\n",
        "plt.plot(x, pr, 'bo')\n",
        "plt.vlines(x, 0, pr)\n",
        "plt.show()"
      ],
      "execution_count": 12,
      "outputs": [
        {
          "output_type": "display_data",
          "data": {
            "image/png": "[encoded data removed]",
            "text/plain": [
              "<Figure size 432x288 with 1 Axes>"
            ]
          },
          "metadata": {
            "tags": [],
            "needs_background": "light"
          }
        }
      ]
    },
    {
      "cell_type": "code",
      "metadata": {
        "id": "weSbGWRf1yrL",
        "colab": {
          "base_uri": "https://localhost:8080/"
        },
        "outputId": "9adab5b9-7bb2-40e1-e88a-691ba7dd3d89"
      },
      "source": [
        "# 음이항분포\n",
        "# 성공의 확률인 p인 독립시행을 r번째 성공이 나올 때까지 계속한다고 할 때, 처음 성공까지 총 시도한 횟수 X의 확률분포.\n",
        "# Pr(X = x) = (x-1)C(r-1) * p^r * (1-p)^(x-r)\n",
        "# 𝝁   : r/p  \n",
        "# 𝝈^2 : r*(1-p)/p^2\n",
        "\n",
        "# 5번째 +%가 나올때가지 x의 확률\n",
        "p = sum(sampled_df['Change'] > 1.0) / len(sampled_df['Change'])\n",
        "r = 3\n",
        "print('p: ', p)\n",
        "print('mean: ', r/p)\n",
        "print('variance: ', r*(1-p)/(p**2))"
      ],
      "execution_count": 13,
      "outputs": [
        {
          "output_type": "stream",
          "text": [
            "p:  0.48842897460018814\n",
            "mean:  6.142141756548536\n",
            "variance:  6.433160029297176\n"
          ],
          "name": "stdout"
        }
      ]
    },
    {
      "cell_type": "code",
      "metadata": {
        "id": "jJA2AlYY7exA"
      },
      "source": [
        "import math\n",
        "\n",
        "def nCr(n,r):\n",
        "    f = math.factorial\n",
        "    return f(n) / (f(r) * f(n-r))\n",
        "\n",
        "x = range(r,50)\n",
        "pr = list(map(lambda x: nCr(x-1,r-1) * p**r * (1-p)**(x-r) , x))"
      ],
      "execution_count": 14,
      "outputs": []
    },
    {
      "cell_type": "code",
      "metadata": {
        "id": "gDIgiroO_S9N",
        "colab": {
          "base_uri": "https://localhost:8080/",
          "height": 265
        },
        "outputId": "9f524151-8a8b-46fd-c852-86fde9e19489"
      },
      "source": [
        "import matplotlib.pyplot as plt\n",
        "\n",
        "pr = list(map(lambda x: nCr(x-1,r-1) * p**r * (1-p)**(x-r) , x))\n",
        "plt.plot(x, pr, 'bo')\n",
        "plt.vlines(x, 0, pr)\n",
        "plt.show()"
      ],
      "execution_count": 15,
      "outputs": [
        {
          "output_type": "display_data",
          "data": {
            "image/png": "[encoded data removed]",
            "text/plain": [
              "<Figure size 432x288 with 1 Axes>"
            ]
          },
          "metadata": {
            "tags": [],
            "needs_background": "light"
          }
        }
      ]
    },
    {
      "cell_type": "code",
      "metadata": {
        "id": "vpqa3VnVGc6J",
        "colab": {
          "base_uri": "https://localhost:8080/",
          "height": 265
        },
        "outputId": "f5901d52-c442-415a-d378-954fa0f60aec"
      },
      "source": [
        "import matplotlib.pyplot as plt\n",
        "\n",
        "# 각각 0%, 1%, 2% 이상 r번의 시도에 나올 확률 \n",
        "p = sum(sampled_df['Change'] > 1.0) / len(sampled_df['Change']), sum(sampled_df['Change'] > 1.01) / len(sampled_df['Change']), \\\n",
        "sum(sampled_df['Change'] > 1.02) / len(sampled_df['Change']) \n",
        "\n",
        "for i in range(len(p)):\n",
        "  pr = list(map(lambda x: nCr(x-1,r-1) * p[i]**r * (1-p[i])**(x-r) , x))\n",
        "  plt.plot(x, pr)\n",
        "  plt.vlines(x, 0, pr)\n",
        "plt.legend(p)\n",
        "plt.show()"
      ],
      "execution_count": 16,
      "outputs": [
        {
          "output_type": "display_data",
          "data": {
            "image/png": "[encoded data removed]",
            "text/plain": [
              "<Figure size 432x288 with 1 Axes>"
            ]
          },
          "metadata": {
            "tags": [],
            "needs_background": "light"
          }
        }
      ]
    },
    {
      "cell_type": "code",
      "metadata": {
        "id": "TaOlP5EJ9qxZ",
        "colab": {
          "base_uri": "https://localhost:8080/"
        },
        "outputId": "b41cef2a-1bd6-474e-ff8d-8d7c57f04dfb"
      },
      "source": [
        "# 메모용\n",
        "#\n",
        "# 초기하분포\n",
        "# 비복원추출에서 n개 중에 m개가 원하는 것이고, k번 추출했을때 원하는 것 x개가 뽑힐 확률의 분포이다.\n",
        "# Pr(X = x) = nCx * (n-m)C(k-x) / nCk\n",
        "# 𝝁   : k*m/n  \n",
        "# 𝝈^2 : (k*m/n) * ((n-m)*(n-k)/(n*(n-1)))\n",
        "\n",
        "# 5번째 +%가 나올때가지 x의 확률\n",
        "x = 1\n",
        "n = 3\n",
        "m = 2\n",
        "k = 6\n",
        "#print('p: ', nCr(n,x) * nCr(n-m,k-x) / nCr(n,k)) 오류 뜸 ㅆ\n",
        "print('mean: ', k*m/n)\n",
        "print('variance: ', ((k*m/n) * ((n-m)*(n-k))/(n*(n-x))))"
      ],
      "execution_count": 17,
      "outputs": [
        {
          "output_type": "stream",
          "text": [
            "mean:  4.0\n",
            "variance:  -2.0\n"
          ],
          "name": "stdout"
        }
      ]
    },
    {
      "cell_type": "code",
      "metadata": {
        "id": "vCXyRb3wFFo2"
      },
      "source": [
        ""
      ],
      "execution_count": 17,
      "outputs": []
    }
  ]
}