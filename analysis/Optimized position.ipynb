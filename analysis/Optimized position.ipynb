{
  "nbformat": 4,
  "nbformat_minor": 0,
  "metadata": {
    "colab": {
      "name": "optimized position analysis",
      "provenance": [],
      "collapsed_sections": [],
      "authorship_tag": "ABX9TyNO1RwqA1rWbZY1tzJaw29L",
      "include_colab_link": true
    },
    "kernelspec": {
      "name": "python3",
      "display_name": "Python 3"
    },
    "language_info": {
      "name": "python"
    }
  },
  "cells": [
    {
      "cell_type": "markdown",
      "metadata": {
        "id": "view-in-github",
        "colab_type": "text"
      },
      "source": [
        "<a href=\"https://colab.research.google.com/github/yeonghun00/stock_public/blob/main/analysis/Optimized position.ipynb\" target=\"_parent\"><img src=\"https://colab.research.google.com/assets/colab-badge.svg\" alt=\"Open In Colab\"/></a>"
      ]
    },
    {
      "cell_type": "code",
      "metadata": {
        "id": "t5E-xuAG28kv"
      },
      "source": [
        "#참고 https://losskatsu.github.io/statistics/prob-distribution/#%EC%B0%B8%EA%B3%A0-%ED%99%95%EB%A5%A0%EB%B6%84%ED%8F%AC%EA%B0%84-%EA%B4%80%EA%B3%84%EB%8F%84"
      ],
      "execution_count": 1,
      "outputs": []
    },
    {
      "cell_type": "code",
      "metadata": {
        "id": "6KfE2kk7v_LT"
      },
      "source": [
        "import requests\n",
        "from bs4 import BeautifulSoup\n",
        "import pandas as pd\n",
        "import numpy as np\n",
        "import datetime\n",
        "import ast\n",
        "\n",
        "class Stock:\n",
        "  def __init__(self, code):\n",
        "    self.code = code\n",
        "    self.headers = {'User-Agent' : 'Mozilla/5.0 (Macintosh; Intel Mac OS X 10_14_6) AppleWebKit/537.36 (KHTML, like Gecko) Chrome/85.0.4183.121 Safari/537.36'}\n",
        "\n",
        "  def get_price(self, start:int='20180501', interval='day'):\n",
        "    url ='https://api.finance.naver.com/siseJson.naver?symbol=' + self.code + ' &requestType=1&startTime=' \\\n",
        "    + start + '&endTime=' + str(datetime.datetime.now().date().strftime(\"%Y%m%d\")) +  '&timeframe=' + interval\n",
        "\n",
        "    result = requests.get(url)\n",
        "    bs_obj = BeautifulSoup(result.content, \"html.parser\")\n",
        "    b = bs_obj.get_text()\n",
        "    for i in ['\\n', '\\t', \"\\\\\", ' ']:\n",
        "      b = b.replace(i,'')\n",
        "\n",
        "    data = np.array(ast.literal_eval(b)[1:])\n",
        "\n",
        "    dic = {'Date':list(map(lambda x: datetime.datetime.strptime(str(x), '%Y%m%d'), data[:,0])), \\\n",
        "      'Open':np.array(data[:,1], int), 'High':np.array(data[:,2], int), 'Low':np.array(data[:,3], int),\\\n",
        "       'Close':np.array(data[:,4], int), 'Volume':np.array(data[:,5], int)}\n",
        "\n",
        "    df = pd.DataFrame(data=dic)\n",
        "    df = df.set_index('Date')\n",
        "    return df\n",
        "    \n",
        "  def get_fundamental(self):\n",
        "    url = 'https://finance.naver.com/item/main.nhn?code=' + self.code\n",
        "    result = requests.get(url, headers = self.headers)\n",
        "    bs_obj = BeautifulSoup(result.content, \"html.parser\")\n",
        "\n",
        "    ths = bs_obj.find_all(\"th\", {'scope':'col'})\n",
        "    ths = [th.get_text() for th in ths][10:-22]\n",
        "    dates = list(map(lambda x: x.translate(str.maketrans('','','\\n\\t, ')),ths))\n",
        "    dates = list(map(lambda x: x + '(Y)', dates[:4])) + list(map(lambda x: x + '(M)', dates[4:]))\n",
        "\n",
        "    tr = bs_obj.find_all(\"tbody\")\n",
        "    tds = tr[2].find_all('td')\n",
        "    tds = [td.get_text() for td in tds]\n",
        "    elements = list(map(lambda x: x.translate(str.maketrans('','','\\n\\t, ')),tds))\n",
        "    elements = list(map(lambda x: float(x) if x.replace('.','').isdigit() else np.nan, elements))\n",
        "\n",
        "    temp_dict = {}\n",
        "    cnt = 0\n",
        "    index = ['sales', 'operating profit', 'net income', 'operating margin', 'net margin', 'roe', 'debt ratio', 'quick ratio', \\\n",
        "    'reserve ratio', 'eps', 'per', 'bps', 'pbr', 'dividend per share', 'dividend yield ratio', 'dividend payout ratio']\n",
        "\n",
        "    for i in dates:\n",
        "      temp_dict[i] = elements[cnt::10]\n",
        "      cnt += 1\n",
        "\n",
        "    df = pd.DataFrame.from_dict(temp_dict)\n",
        "    df = df.set_index([pd.Index(index)])\n",
        "    return df"
      ],
      "execution_count": 2,
      "outputs": []
    },
    {
      "cell_type": "code",
      "metadata": {
        "id": "dLDoNn0qlCMl",
        "colab": {
          "base_uri": "https://localhost:8080/",
          "height": 450
        },
        "outputId": "96fbf5f7-7991-4391-9afc-89d52e32f313"
      },
      "source": [
        "stock = Stock('KOSPI')\n",
        "df = stock.get_price('20000101')\n",
        "df['Change'] = round(df['Close'] / df['Open'], 4)\n",
        "df"
      ],
      "execution_count": 3,
      "outputs": [
        {
          "output_type": "execute_result",
          "data": {
            "text/html": [
              "<div>\n",
              "<style scoped>\n",
              "    .dataframe tbody tr th:only-of-type {\n",
              "        vertical-align: middle;\n",
              "    }\n",
              "\n",
              "    .dataframe tbody tr th {\n",
              "        vertical-align: top;\n",
              "    }\n",
              "\n",
              "    .dataframe thead th {\n",
              "        text-align: right;\n",
              "    }\n",
              "</style>\n",
              "<table border=\"1\" class=\"dataframe\">\n",
              "  <thead>\n",
              "    <tr style=\"text-align: right;\">\n",
              "      <th></th>\n",
              "      <th>Open</th>\n",
              "      <th>High</th>\n",
              "      <th>Low</th>\n",
              "      <th>Close</th>\n",
              "      <th>Volume</th>\n",
              "      <th>Change</th>\n",
              "    </tr>\n",
              "    <tr>\n",
              "      <th>Date</th>\n",
              "      <th></th>\n",
              "      <th></th>\n",
              "      <th></th>\n",
              "      <th></th>\n",
              "      <th></th>\n",
              "      <th></th>\n",
              "    </tr>\n",
              "  </thead>\n",
              "  <tbody>\n",
              "    <tr>\n",
              "      <th>2000-01-04</th>\n",
              "      <td>102833</td>\n",
              "      <td>106618</td>\n",
              "      <td>101659</td>\n",
              "      <td>105904</td>\n",
              "      <td>195898</td>\n",
              "      <td>1.0299</td>\n",
              "    </tr>\n",
              "    <tr>\n",
              "      <th>2000-01-05</th>\n",
              "      <td>100687</td>\n",
              "      <td>102652</td>\n",
              "      <td>98405</td>\n",
              "      <td>98631</td>\n",
              "      <td>257696</td>\n",
              "      <td>0.9796</td>\n",
              "    </tr>\n",
              "    <tr>\n",
              "      <th>2000-01-06</th>\n",
              "      <td>101395</td>\n",
              "      <td>101490</td>\n",
              "      <td>95350</td>\n",
              "      <td>96079</td>\n",
              "      <td>203523</td>\n",
              "      <td>0.9476</td>\n",
              "    </tr>\n",
              "    <tr>\n",
              "      <th>2000-01-07</th>\n",
              "      <td>94917</td>\n",
              "      <td>97016</td>\n",
              "      <td>93084</td>\n",
              "      <td>94865</td>\n",
              "      <td>215664</td>\n",
              "      <td>0.9995</td>\n",
              "    </tr>\n",
              "    <tr>\n",
              "      <th>2000-01-10</th>\n",
              "      <td>97967</td>\n",
              "      <td>99494</td>\n",
              "      <td>97482</td>\n",
              "      <td>98724</td>\n",
              "      <td>240175</td>\n",
              "      <td>1.0077</td>\n",
              "    </tr>\n",
              "    <tr>\n",
              "      <th>...</th>\n",
              "      <td>...</td>\n",
              "      <td>...</td>\n",
              "      <td>...</td>\n",
              "      <td>...</td>\n",
              "      <td>...</td>\n",
              "      <td>...</td>\n",
              "    </tr>\n",
              "    <tr>\n",
              "      <th>2021-07-08</th>\n",
              "      <td>328768</td>\n",
              "      <td>329571</td>\n",
              "      <td>325241</td>\n",
              "      <td>325268</td>\n",
              "      <td>1516034</td>\n",
              "      <td>0.9894</td>\n",
              "    </tr>\n",
              "    <tr>\n",
              "      <th>2021-07-09</th>\n",
              "      <td>324552</td>\n",
              "      <td>324552</td>\n",
              "      <td>318880</td>\n",
              "      <td>321795</td>\n",
              "      <td>1308364</td>\n",
              "      <td>0.9915</td>\n",
              "    </tr>\n",
              "    <tr>\n",
              "      <th>2021-07-12</th>\n",
              "      <td>322751</td>\n",
              "      <td>325145</td>\n",
              "      <td>322751</td>\n",
              "      <td>324647</td>\n",
              "      <td>1135042</td>\n",
              "      <td>1.0059</td>\n",
              "    </tr>\n",
              "    <tr>\n",
              "      <th>2021-07-13</th>\n",
              "      <td>325324</td>\n",
              "      <td>327390</td>\n",
              "      <td>325324</td>\n",
              "      <td>327138</td>\n",
              "      <td>1150101</td>\n",
              "      <td>1.0056</td>\n",
              "    </tr>\n",
              "    <tr>\n",
              "      <th>2021-07-14</th>\n",
              "      <td>327009</td>\n",
              "      <td>327009</td>\n",
              "      <td>325045</td>\n",
              "      <td>326015</td>\n",
              "      <td>685202</td>\n",
              "      <td>0.9970</td>\n",
              "    </tr>\n",
              "  </tbody>\n",
              "</table>\n",
              "<p>5318 rows × 6 columns</p>\n",
              "</div>"
            ],
            "text/plain": [
              "              Open    High     Low   Close   Volume  Change\n",
              "Date                                                       \n",
              "2000-01-04  102833  106618  101659  105904   195898  1.0299\n",
              "2000-01-05  100687  102652   98405   98631   257696  0.9796\n",
              "2000-01-06  101395  101490   95350   96079   203523  0.9476\n",
              "2000-01-07   94917   97016   93084   94865   215664  0.9995\n",
              "2000-01-10   97967   99494   97482   98724   240175  1.0077\n",
              "...            ...     ...     ...     ...      ...     ...\n",
              "2021-07-08  328768  329571  325241  325268  1516034  0.9894\n",
              "2021-07-09  324552  324552  318880  321795  1308364  0.9915\n",
              "2021-07-12  322751  325145  322751  324647  1135042  1.0059\n",
              "2021-07-13  325324  327390  325324  327138  1150101  1.0056\n",
              "2021-07-14  327009  327009  325045  326015   685202  0.9970\n",
              "\n",
              "[5318 rows x 6 columns]"
            ]
          },
          "metadata": {
            "tags": []
          },
          "execution_count": 3
        }
      ]
    },
    {
      "cell_type": "code",
      "metadata": {
        "id": "sKfzzZwH2v7l"
      },
      "source": [
        "# 샘플링\n",
        "#sampled_df = df.sample(n=10000)\n",
        "sampled_df = df"
      ],
      "execution_count": 4,
      "outputs": []
    },
    {
      "cell_type": "code",
      "metadata": {
        "colab": {
          "base_uri": "https://localhost:8080/",
          "height": 592
        },
        "id": "x7jwqY01L6JD",
        "outputId": "dac1dc7b-5cfa-4463-906c-2a291765a93a"
      },
      "source": [
        "# 확률분포\n",
        "import matplotlib.pyplot as plt\n",
        "\n",
        "plt.subplots(figsize=(10, 10))\n",
        "plt.hist(df[np.isfinite(df['Change'])]['Change'], bins= 'auto')\n",
        "plt.show()"
      ],
      "execution_count": 5,
      "outputs": [
        {
          "output_type": "display_data",
          "data": {
            "image/png": "[encoded data removed]",
            "text/plain": [
              "<Figure size 720x720 with 1 Axes>"
            ]
          },
          "metadata": {
            "tags": [],
            "needs_background": "light"
          }
        }
      ]
    },
    {
      "cell_type": "code",
      "metadata": {
        "colab": {
          "base_uri": "https://localhost:8080/"
        },
        "id": "Ce82v01sNdYr",
        "outputId": "a84f1851-d653-4a13-d7a4-b44a51991d1c"
      },
      "source": [
        "print('lowest 5th percentile: ', round(np.percentile(sampled_df['Change'], 5), 5))\n",
        "print('highest 5th percentile: ', round(np.percentile(sampled_df['Change'], 95), 5))\n",
        "print(sum(sampled_df['Change'] > 1.0) / len(sampled_df['Change']))"
      ],
      "execution_count": 6,
      "outputs": [
        {
          "output_type": "stream",
          "text": [
            "lowest 5th percentile:  0.9806\n",
            "highest 5th percentile:  1.0173\n",
            "0.4885295223768334\n"
          ],
          "name": "stdout"
        }
      ]
    },
    {
      "cell_type": "code",
      "metadata": {
        "id": "wa6ZSsQy3huD",
        "colab": {
          "base_uri": "https://localhost:8080/"
        },
        "outputId": "5465e081-20f5-4ed4-adf2-16d067608a54"
      },
      "source": [
        "# change > 1\n",
        "filter = sampled_df[sampled_df['Change'] > 1]\n",
        "\n",
        "# show after range\n",
        "filter_next = sampled_df[sampled_df.shift(1)['Change'] > 1]\n",
        "\n",
        "# 전날 1보다 컸을때 오늘 1보다 더 클 확률\n",
        "sum(filter_next['Change'] > 1) / len(filter_next['Change'])"
      ],
      "execution_count": 7,
      "outputs": [
        {
          "output_type": "execute_result",
          "data": {
            "text/plain": [
              "0.47113163972286376"
            ]
          },
          "metadata": {
            "tags": []
          },
          "execution_count": 7
        }
      ]
    },
    {
      "cell_type": "code",
      "metadata": {
        "colab": {
          "base_uri": "https://localhost:8080/"
        },
        "id": "8JaM_u-n0FgE",
        "outputId": "2cd1a9b0-ff45-4d5f-8354-9cb6187a6ed6"
      },
      "source": [
        "# 기하분포\n",
        "# 성공의 확률인 p인 독립시행을 성공이 나올 때까지 계속한다고 할 때, 처음 성공까지 총 시도한 횟수 X의 확률분포.\n",
        "# Pr(X = x) = p*(1-p)^(x-1)\n",
        "# 𝝁   : 1/p  \n",
        "# 𝝈^2 : (1-p)/p^2\n",
        "\n",
        "# +%가 나올때가지 x의 확률\n",
        "p = sum(sampled_df['Change'] > 1.0) / len(sampled_df['Change'])\n",
        "print('p: ', p)\n",
        "print('mean: ', 1/p)\n",
        "print('variance: ', (1-p)/(p**2))"
      ],
      "execution_count": 8,
      "outputs": [
        {
          "output_type": "stream",
          "text": [
            "p:  0.4885295223768334\n",
            "mean:  2.046959199384142\n",
            "variance:  2.1430827645592245\n"
          ],
          "name": "stdout"
        }
      ]
    },
    {
      "cell_type": "code",
      "metadata": {
        "id": "Q8UAcM90Z2_k"
      },
      "source": [
        "x= range(1,10)"
      ],
      "execution_count": 9,
      "outputs": []
    },
    {
      "cell_type": "code",
      "metadata": {
        "id": "Q160Cv0c1oQx"
      },
      "source": [
        "x = range(1,10)\n",
        "pr = list(map(lambda x: p*(1-p)**(x-1) , x))"
      ],
      "execution_count": 10,
      "outputs": []
    },
    {
      "cell_type": "code",
      "metadata": {
        "id": "lOiFrykt2u_p",
        "colab": {
          "base_uri": "https://localhost:8080/",
          "height": 265
        },
        "outputId": "887e04a9-aff6-4219-b275-d8cd1cae97b2"
      },
      "source": [
        "import matplotlib.pyplot as plt\n",
        "\n",
        "plt.plot(x, pr, 'bo')\n",
        "plt.vlines(x, 0, pr)\n",
        "plt.show()"
      ],
      "execution_count": 11,
      "outputs": [
        {
          "output_type": "display_data",
          "data": {
            "image/png": "[encoded data removed]",
            "text/plain": [
              "<Figure size 432x288 with 1 Axes>"
            ]
          },
          "metadata": {
            "tags": [],
            "needs_background": "light"
          }
        }
      ]
    },
    {
      "cell_type": "code",
      "metadata": {
        "id": "weSbGWRf1yrL",
        "colab": {
          "base_uri": "https://localhost:8080/"
        },
        "outputId": "1af6d5eb-bd04-406b-ca57-23690c691a1b"
      },
      "source": [
        "# 음이항분포\n",
        "# 성공의 확률인 p인 독립시행을 r번째 성공이 나올 때까지 계속한다고 할 때, 처음 성공까지 총 시도한 횟수 X의 확률분포.\n",
        "# Pr(X = x) = (x-1)C(r-1) * p^r * (1-p)^(x-r)\n",
        "# 𝝁   : r/p  \n",
        "# 𝝈^2 : r*(1-p)/p^2\n",
        "\n",
        "# 5번째 +%가 나올때가지 x의 확률\n",
        "p = sum(sampled_df['Change'] > 1.0) / len(sampled_df['Change'])\n",
        "r = 3\n",
        "print('p: ', p)\n",
        "print('mean: ', r/p)\n",
        "print('variance: ', r*(1-p)/(p**2))"
      ],
      "execution_count": 12,
      "outputs": [
        {
          "output_type": "stream",
          "text": [
            "p:  0.4885295223768334\n",
            "mean:  6.140877598152425\n",
            "variance:  6.4292482936776745\n"
          ],
          "name": "stdout"
        }
      ]
    },
    {
      "cell_type": "code",
      "metadata": {
        "id": "jJA2AlYY7exA"
      },
      "source": [
        "import math\n",
        "\n",
        "def nCr(n,r):\n",
        "    f = math.factorial\n",
        "    return f(n) / (f(r) * f(n-r))\n",
        "\n",
        "x = range(r,50)\n",
        "pr = list(map(lambda x: nCr(x-1,r-1) * p**r * (1-p)**(x-r) , x))"
      ],
      "execution_count": 13,
      "outputs": []
    },
    {
      "cell_type": "code",
      "metadata": {
        "id": "gDIgiroO_S9N",
        "colab": {
          "base_uri": "https://localhost:8080/",
          "height": 265
        },
        "outputId": "a55ca26b-9588-4880-d171-22dd08aa7c22"
      },
      "source": [
        "import matplotlib.pyplot as plt\n",
        "\n",
        "pr = list(map(lambda x: nCr(x-1,r-1) * p**r * (1-p)**(x-r) , x))\n",
        "plt.plot(x, pr, 'bo')\n",
        "plt.vlines(x, 0, pr)\n",
        "plt.show()"
      ],
      "execution_count": 14,
      "outputs": [
        {
          "output_type": "display_data",
          "data": {
            "image/png": "[encoded data removed]",
            "text/plain": [
              "<Figure size 432x288 with 1 Axes>"
            ]
          },
          "metadata": {
            "tags": [],
            "needs_background": "light"
          }
        }
      ]
    },
    {
      "cell_type": "code",
      "metadata": {
        "id": "vpqa3VnVGc6J",
        "colab": {
          "base_uri": "https://localhost:8080/",
          "height": 265
        },
        "outputId": "10fa0aa2-137d-4d13-d666-69a7014ecfeb"
      },
      "source": [
        "import matplotlib.pyplot as plt\n",
        "\n",
        "# 각각 0%, 1%, 2% 이상 r번의 시도에 나올 확률 \n",
        "p = sum(sampled_df['Change'] > 1.0) / len(sampled_df['Change']), sum(sampled_df['Change'] > 1.01) / len(sampled_df['Change']), \\\n",
        "sum(sampled_df['Change'] > 1.02) / len(sampled_df['Change']) \n",
        "\n",
        "for i in range(len(p)):\n",
        "  pr = list(map(lambda x: nCr(x-1,r-1) * p[i]**r * (1-p[i])**(x-r) , x))\n",
        "  plt.plot(x, pr)\n",
        "  plt.vlines(x, 0, pr)\n",
        "plt.legend(p)\n",
        "plt.show()"
      ],
      "execution_count": 15,
      "outputs": [
        {
          "output_type": "display_data",
          "data": {
            "image/png": "[encoded data removed]",
            "text/plain": [
              "<Figure size 432x288 with 1 Axes>"
            ]
          },
          "metadata": {
            "tags": [],
            "needs_background": "light"
          }
        }
      ]
    },
    {
      "cell_type": "code",
      "metadata": {
        "id": "TaOlP5EJ9qxZ",
        "colab": {
          "base_uri": "https://localhost:8080/"
        },
        "outputId": "c3cd3406-4f0e-47a7-f4eb-0a6b6e71f747"
      },
      "source": [
        "# 메모용\n",
        "#\n",
        "# 초기하분포\n",
        "# 비복원추출에서 n개 중에 m개가 원하는 것이고, k번 추출했을때 원하는 것 x개가 뽑힐 확률의 분포이다.\n",
        "# Pr(X = x) = nCx * (n-m)C(k-x) / nCk\n",
        "# 𝝁   : k*m/n  \n",
        "# 𝝈^2 : (k*m/n) * ((n-m)*(n-k)/(n*(n-1)))\n",
        "\n",
        "# 5번째 +%가 나올때가지 x의 확률\n",
        "x = 1\n",
        "n = 3\n",
        "m = 2\n",
        "k = 6\n",
        "#print('p: ', nCr(n,x) * nCr(n-m,k-x) / nCr(n,k)) 오류 뜸 ㅆ\n",
        "print('mean: ', k*m/n)\n",
        "print('variance: ', ((k*m/n) * ((n-m)*(n-k))/(n*(n-x))))"
      ],
      "execution_count": 16,
      "outputs": [
        {
          "output_type": "stream",
          "text": [
            "mean:  4.0\n",
            "variance:  -2.0\n"
          ],
          "name": "stdout"
        }
      ]
    },
    {
      "cell_type": "code",
      "metadata": {
        "id": "vCXyRb3wFFo2"
      },
      "source": [
        ""
      ],
      "execution_count": 16,
      "outputs": []
    }
  ]
}
