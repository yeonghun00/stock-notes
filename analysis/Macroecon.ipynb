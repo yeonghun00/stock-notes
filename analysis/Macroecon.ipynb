{
  "nbformat": 4,
  "nbformat_minor": 0,
  "metadata": {
    "colab": {
      "name": "macroecon analysis.ipynb의 사본",
      "provenance": [],
      "collapsed_sections": [],
      "authorship_tag": "ABX9TyO5XorJlZc/kgWz3xWcyecy",
      "include_colab_link": true
    },
    "kernelspec": {
      "name": "python3",
      "display_name": "Python 3"
    },
    "language_info": {
      "name": "python"
    }
  },
  "cells": [
    {
      "cell_type": "markdown",
      "metadata": {
        "id": "view-in-github",
        "colab_type": "text"
      },
      "source": [
        "<a href=\"https://colab.research.google.com/github/yeonghun00/stock_public/blob/main/analysis/Macroecon.ipynb\" target=\"_parent\"><img src=\"https://colab.research.google.com/assets/colab-badge.svg\" alt=\"Open In Colab\"/></a>"
      ]
    },
    {
      "cell_type": "code",
      "metadata": {
        "id": "DrBy6sbN8ycz"
      },
      "source": [
        "# 참고: https://www.kci.go.kr/kciportal/ci/sereArticleSearch/ciSereArtiOrteView.kci?sereArticleSearchBean.artiId=ART002113508"
      ],
      "execution_count": 1,
      "outputs": []
    },
    {
      "cell_type": "code",
      "metadata": {
        "id": "ID4kfXv1asfm"
      },
      "source": [
        "import requests\n",
        "from bs4 import BeautifulSoup\n",
        "import pandas as pd\n",
        "import numpy as np\n",
        "import datetime\n",
        "import ast\n",
        "import json\n",
        "\n",
        "class Stock:\n",
        "  def __init__(self, code):\n",
        "    self.code = code\n",
        "    self.headers = {'User-Agent' : 'Mozilla/5.0 (Macintosh; Intel Mac OS X 10_14_6) AppleWebKit/537.36 (KHTML, like Gecko) Chrome/85.0.4183.121 Safari/537.36'}\n",
        "\n",
        "  def get_price(self, start:str='20180501', end:str=str(datetime.datetime.now().date().strftime(\"%Y%m%d\")), interval='day'):\n",
        "    url ='https://api.finance.naver.com/siseJson.naver?symbol=' + self.code + '&requestType=1&startTime=' \\\n",
        "    + start + '&endTime=' + end +  '&timeframe=' + interval\n",
        "\n",
        "    result = requests.get(url)\n",
        "    bs_obj = BeautifulSoup(result.content, \"html.parser\")\n",
        "    b = bs_obj.get_text()\n",
        "    for i in ['\\n', '\\t', \"\\\\\", ' ']:\n",
        "      b = b.replace(i,'')\n",
        "\n",
        "    data = np.array(ast.literal_eval(b)[1:])\n",
        "\n",
        "    dic = {'Date':list(map(lambda x: datetime.datetime.strptime(str(x), '%Y%m%d'), data[:,0])), \\\n",
        "      'Open':np.array(data[:,1], float), 'High':np.array(data[:,2], float), 'Low':np.array(data[:,3], float),\\\n",
        "       'Close':np.array(data[:,4], float), 'Volume':np.array(data[:,5], float)}\n",
        "\n",
        "    df = pd.DataFrame(data=dic)\n",
        "    df = df.set_index('Date')\n",
        "    return df"
      ],
      "execution_count": 2,
      "outputs": []
    },
    {
      "cell_type": "code",
      "metadata": {
        "id": "7W3lGs7sbMVY",
        "colab": {
          "base_uri": "https://localhost:8080/",
          "height": 450
        },
        "outputId": "29e03433-f471-48d1-cc47-6ef9bf8f00e0"
      },
      "source": [
        "s = Stock('KOSPI')\n",
        "kospi = s.get_price('20000101', '20210201', 'month')\n",
        "kospi_change = kospi['Close']/kospi['Close'][0]\n",
        "kospi"
      ],
      "execution_count": 3,
      "outputs": [
        {
          "output_type": "execute_result",
          "data": {
            "text/html": [
              "<div>\n",
              "<style scoped>\n",
              "    .dataframe tbody tr th:only-of-type {\n",
              "        vertical-align: middle;\n",
              "    }\n",
              "\n",
              "    .dataframe tbody tr th {\n",
              "        vertical-align: top;\n",
              "    }\n",
              "\n",
              "    .dataframe thead th {\n",
              "        text-align: right;\n",
              "    }\n",
              "</style>\n",
              "<table border=\"1\" class=\"dataframe\">\n",
              "  <thead>\n",
              "    <tr style=\"text-align: right;\">\n",
              "      <th></th>\n",
              "      <th>Open</th>\n",
              "      <th>High</th>\n",
              "      <th>Low</th>\n",
              "      <th>Close</th>\n",
              "      <th>Volume</th>\n",
              "    </tr>\n",
              "    <tr>\n",
              "      <th>Date</th>\n",
              "      <th></th>\n",
              "      <th></th>\n",
              "      <th></th>\n",
              "      <th></th>\n",
              "      <th></th>\n",
              "    </tr>\n",
              "  </thead>\n",
              "  <tbody>\n",
              "    <tr>\n",
              "      <th>2000-01-31</th>\n",
              "      <td>1028.33</td>\n",
              "      <td>1066.18</td>\n",
              "      <td>875.82</td>\n",
              "      <td>943.88</td>\n",
              "      <td>4798379.0</td>\n",
              "    </tr>\n",
              "    <tr>\n",
              "      <th>2000-02-29</th>\n",
              "      <td>955.44</td>\n",
              "      <td>991.71</td>\n",
              "      <td>810.53</td>\n",
              "      <td>828.38</td>\n",
              "      <td>5144645.0</td>\n",
              "    </tr>\n",
              "    <tr>\n",
              "      <th>2000-03-31</th>\n",
              "      <td>864.78</td>\n",
              "      <td>928.55</td>\n",
              "      <td>820.30</td>\n",
              "      <td>860.94</td>\n",
              "      <td>6536459.0</td>\n",
              "    </tr>\n",
              "    <tr>\n",
              "      <th>2000-04-28</th>\n",
              "      <td>866.75</td>\n",
              "      <td>880.41</td>\n",
              "      <td>688.36</td>\n",
              "      <td>725.39</td>\n",
              "      <td>4113517.0</td>\n",
              "    </tr>\n",
              "    <tr>\n",
              "      <th>2000-05-31</th>\n",
              "      <td>731.76</td>\n",
              "      <td>778.46</td>\n",
              "      <td>625.14</td>\n",
              "      <td>731.88</td>\n",
              "      <td>4940337.0</td>\n",
              "    </tr>\n",
              "    <tr>\n",
              "      <th>...</th>\n",
              "      <td>...</td>\n",
              "      <td>...</td>\n",
              "      <td>...</td>\n",
              "      <td>...</td>\n",
              "      <td>...</td>\n",
              "    </tr>\n",
              "    <tr>\n",
              "      <th>2020-09-29</th>\n",
              "      <td>2340.19</td>\n",
              "      <td>2450.53</td>\n",
              "      <td>2267.63</td>\n",
              "      <td>2327.89</td>\n",
              "      <td>19606889.0</td>\n",
              "    </tr>\n",
              "    <tr>\n",
              "      <th>2020-10-30</th>\n",
              "      <td>2330.55</td>\n",
              "      <td>2418.89</td>\n",
              "      <td>2266.93</td>\n",
              "      <td>2267.15</td>\n",
              "      <td>15705570.0</td>\n",
              "    </tr>\n",
              "    <tr>\n",
              "      <th>2020-11-30</th>\n",
              "      <td>2276.61</td>\n",
              "      <td>2648.66</td>\n",
              "      <td>2267.95</td>\n",
              "      <td>2591.34</td>\n",
              "      <td>24377955.0</td>\n",
              "    </tr>\n",
              "    <tr>\n",
              "      <th>2020-12-30</th>\n",
              "      <td>2613.42</td>\n",
              "      <td>2878.21</td>\n",
              "      <td>2611.67</td>\n",
              "      <td>2873.47</td>\n",
              "      <td>24561038.0</td>\n",
              "    </tr>\n",
              "    <tr>\n",
              "      <th>2021-01-29</th>\n",
              "      <td>2874.50</td>\n",
              "      <td>3266.23</td>\n",
              "      <td>2869.11</td>\n",
              "      <td>2976.21</td>\n",
              "      <td>26093965.0</td>\n",
              "    </tr>\n",
              "  </tbody>\n",
              "</table>\n",
              "<p>253 rows × 5 columns</p>\n",
              "</div>"
            ],
            "text/plain": [
              "               Open     High      Low    Close      Volume\n",
              "Date                                                      \n",
              "2000-01-31  1028.33  1066.18   875.82   943.88   4798379.0\n",
              "2000-02-29   955.44   991.71   810.53   828.38   5144645.0\n",
              "2000-03-31   864.78   928.55   820.30   860.94   6536459.0\n",
              "2000-04-28   866.75   880.41   688.36   725.39   4113517.0\n",
              "2000-05-31   731.76   778.46   625.14   731.88   4940337.0\n",
              "...             ...      ...      ...      ...         ...\n",
              "2020-09-29  2340.19  2450.53  2267.63  2327.89  19606889.0\n",
              "2020-10-30  2330.55  2418.89  2266.93  2267.15  15705570.0\n",
              "2020-11-30  2276.61  2648.66  2267.95  2591.34  24377955.0\n",
              "2020-12-30  2613.42  2878.21  2611.67  2873.47  24561038.0\n",
              "2021-01-29  2874.50  3266.23  2869.11  2976.21  26093965.0\n",
              "\n",
              "[253 rows x 5 columns]"
            ]
          },
          "metadata": {},
          "execution_count": 3
        }
      ]
    },
    {
      "cell_type": "code",
      "metadata": {
        "id": "qgyoONd72DQ8"
      },
      "source": [
        "# http://ecos.bok.or.kr/jsp/openapi/OpenApiController.jsp?t=guideStatCd&menuGroup=MENU000004&menuCode=MENU000024\n",
        "api = 'xxxxxxxxxxxxxxxxxxxx' #https://ecos.bok.or.kr/jsp/openapi/OpenApiController.jsp?t=main\n",
        "\n",
        "def get_data(code, unit, start_date, end_date, code2):\n",
        "  url = 'http://ecos.bok.or.kr/api/StatisticSearch/' + api + '/json/kr/1/5000/' + f'{code}/{unit}/{start_date}/{end_date}/{code2}'\n",
        "  response = requests.get(url)\n",
        "  if response.status_code == 200:\n",
        "      try:\n",
        "          contents = response.text\n",
        "      except Exception as e:\n",
        "          print(str(e))\n",
        "  df = pd.DataFrame(json.loads(contents)['StatisticSearch']['row'])\n",
        "  df['DATA_VALUE'] = [float(x) for x in df['DATA_VALUE']]\n",
        "  if unit == 'YY':\n",
        "    df['TIME'] = [datetime.datetime.strptime(x, '%Y') for x in df['TIME']]\n",
        "  elif unit == 'QQ':\n",
        "    df['TIME'] = df['TIME'].astype(str).str[:-1] + (df['TIME'].astype(str).str[-1].astype(int)*3).astype(str)\n",
        "    df['TIME'] = [datetime.datetime.strptime(x, '%Y%m') for x in df['TIME']]\n",
        "  else:\n",
        "    df['TIME'] = [datetime.datetime.strptime(x, '%Y%m') for x in df['TIME']]\n",
        "  return df\n",
        "\n",
        "def m2q(df):\n",
        "  return df[df.index.month%3 == 0]"
      ],
      "execution_count": 4,
      "outputs": []
    },
    {
      "cell_type": "code",
      "metadata": {
        "id": "1xRg4tWn8Wwt",
        "colab": {
          "base_uri": "https://localhost:8080/",
          "height": 419
        },
        "outputId": "043228c8-77bc-48ca-ae96-1dcb9c5c202e"
      },
      "source": [
        "# foreign-exchange reserves\n",
        "fer = get_data('038Y001', 'MM', '200001', '202101', 'FIFB4')\n",
        "fer_change = fer['DATA_VALUE']/fer['DATA_VALUE'][0]\n",
        "fer"
      ],
      "execution_count": 5,
      "outputs": [
        {
          "output_type": "execute_result",
          "data": {
            "text/html": [
              "<div>\n",
              "<style scoped>\n",
              "    .dataframe tbody tr th:only-of-type {\n",
              "        vertical-align: middle;\n",
              "    }\n",
              "\n",
              "    .dataframe tbody tr th {\n",
              "        vertical-align: top;\n",
              "    }\n",
              "\n",
              "    .dataframe thead th {\n",
              "        text-align: right;\n",
              "    }\n",
              "</style>\n",
              "<table border=\"1\" class=\"dataframe\">\n",
              "  <thead>\n",
              "    <tr style=\"text-align: right;\">\n",
              "      <th></th>\n",
              "      <th>UNIT_NAME</th>\n",
              "      <th>STAT_NAME</th>\n",
              "      <th>ITEM_CODE1</th>\n",
              "      <th>STAT_CODE</th>\n",
              "      <th>ITEM_CODE2</th>\n",
              "      <th>ITEM_CODE3</th>\n",
              "      <th>ITEM_NAME1</th>\n",
              "      <th>ITEM_NAME2</th>\n",
              "      <th>DATA_VALUE</th>\n",
              "      <th>ITEM_NAME3</th>\n",
              "      <th>TIME</th>\n",
              "    </tr>\n",
              "  </thead>\n",
              "  <tbody>\n",
              "    <tr>\n",
              "      <th>0</th>\n",
              "      <td>천달러</td>\n",
              "      <td>8.5.외환보유액</td>\n",
              "      <td>FIFB4</td>\n",
              "      <td>038Y001</td>\n",
              "      <td></td>\n",
              "      <td></td>\n",
              "      <td>외환</td>\n",
              "      <td></td>\n",
              "      <td>76580519.0</td>\n",
              "      <td></td>\n",
              "      <td>2000-01-01</td>\n",
              "    </tr>\n",
              "    <tr>\n",
              "      <th>1</th>\n",
              "      <td>천달러</td>\n",
              "      <td>8.5.외환보유액</td>\n",
              "      <td>FIFB4</td>\n",
              "      <td>038Y001</td>\n",
              "      <td></td>\n",
              "      <td></td>\n",
              "      <td>외환</td>\n",
              "      <td></td>\n",
              "      <td>79379080.0</td>\n",
              "      <td></td>\n",
              "      <td>2000-02-01</td>\n",
              "    </tr>\n",
              "    <tr>\n",
              "      <th>2</th>\n",
              "      <td>천달러</td>\n",
              "      <td>8.5.외환보유액</td>\n",
              "      <td>FIFB4</td>\n",
              "      <td>038Y001</td>\n",
              "      <td></td>\n",
              "      <td></td>\n",
              "      <td>외환</td>\n",
              "      <td></td>\n",
              "      <td>83299048.0</td>\n",
              "      <td></td>\n",
              "      <td>2000-03-01</td>\n",
              "    </tr>\n",
              "    <tr>\n",
              "      <th>3</th>\n",
              "      <td>천달러</td>\n",
              "      <td>8.5.외환보유액</td>\n",
              "      <td>FIFB4</td>\n",
              "      <td>038Y001</td>\n",
              "      <td></td>\n",
              "      <td></td>\n",
              "      <td>외환</td>\n",
              "      <td></td>\n",
              "      <td>84196399.0</td>\n",
              "      <td></td>\n",
              "      <td>2000-04-01</td>\n",
              "    </tr>\n",
              "    <tr>\n",
              "      <th>4</th>\n",
              "      <td>천달러</td>\n",
              "      <td>8.5.외환보유액</td>\n",
              "      <td>FIFB4</td>\n",
              "      <td>038Y001</td>\n",
              "      <td></td>\n",
              "      <td></td>\n",
              "      <td>외환</td>\n",
              "      <td></td>\n",
              "      <td>86471266.0</td>\n",
              "      <td></td>\n",
              "      <td>2000-05-01</td>\n",
              "    </tr>\n",
              "    <tr>\n",
              "      <th>...</th>\n",
              "      <td>...</td>\n",
              "      <td>...</td>\n",
              "      <td>...</td>\n",
              "      <td>...</td>\n",
              "      <td>...</td>\n",
              "      <td>...</td>\n",
              "      <td>...</td>\n",
              "      <td>...</td>\n",
              "      <td>...</td>\n",
              "      <td>...</td>\n",
              "      <td>...</td>\n",
              "    </tr>\n",
              "    <tr>\n",
              "      <th>248</th>\n",
              "      <td>천달러</td>\n",
              "      <td>8.5.외환보유액</td>\n",
              "      <td>FIFB4</td>\n",
              "      <td>038Y001</td>\n",
              "      <td></td>\n",
              "      <td></td>\n",
              "      <td>외환</td>\n",
              "      <td></td>\n",
              "      <td>408231994.0</td>\n",
              "      <td></td>\n",
              "      <td>2020-09-01</td>\n",
              "    </tr>\n",
              "    <tr>\n",
              "      <th>249</th>\n",
              "      <td>천달러</td>\n",
              "      <td>8.5.외환보유액</td>\n",
              "      <td>FIFB4</td>\n",
              "      <td>038Y001</td>\n",
              "      <td></td>\n",
              "      <td></td>\n",
              "      <td>외환</td>\n",
              "      <td></td>\n",
              "      <td>414167853.0</td>\n",
              "      <td></td>\n",
              "      <td>2020-10-01</td>\n",
              "    </tr>\n",
              "    <tr>\n",
              "      <th>250</th>\n",
              "      <td>천달러</td>\n",
              "      <td>8.5.외환보유액</td>\n",
              "      <td>FIFB4</td>\n",
              "      <td>038Y001</td>\n",
              "      <td></td>\n",
              "      <td></td>\n",
              "      <td>외환</td>\n",
              "      <td></td>\n",
              "      <td>423963271.0</td>\n",
              "      <td></td>\n",
              "      <td>2020-11-01</td>\n",
              "    </tr>\n",
              "    <tr>\n",
              "      <th>251</th>\n",
              "      <td>천달러</td>\n",
              "      <td>8.5.외환보유액</td>\n",
              "      <td>FIFB4</td>\n",
              "      <td>038Y001</td>\n",
              "      <td></td>\n",
              "      <td></td>\n",
              "      <td>외환</td>\n",
              "      <td></td>\n",
              "      <td>430117234.0</td>\n",
              "      <td></td>\n",
              "      <td>2020-12-01</td>\n",
              "    </tr>\n",
              "    <tr>\n",
              "      <th>252</th>\n",
              "      <td>천달러</td>\n",
              "      <td>8.5.외환보유액</td>\n",
              "      <td>FIFB4</td>\n",
              "      <td>038Y001</td>\n",
              "      <td></td>\n",
              "      <td></td>\n",
              "      <td>외환</td>\n",
              "      <td></td>\n",
              "      <td>429558627.0</td>\n",
              "      <td></td>\n",
              "      <td>2021-01-01</td>\n",
              "    </tr>\n",
              "  </tbody>\n",
              "</table>\n",
              "<p>253 rows × 11 columns</p>\n",
              "</div>"
            ],
            "text/plain": [
              "    UNIT_NAME  STAT_NAME ITEM_CODE1  ...   DATA_VALUE ITEM_NAME3       TIME\n",
              "0        천달러   8.5.외환보유액      FIFB4  ...   76580519.0            2000-01-01\n",
              "1        천달러   8.5.외환보유액      FIFB4  ...   79379080.0            2000-02-01\n",
              "2        천달러   8.5.외환보유액      FIFB4  ...   83299048.0            2000-03-01\n",
              "3        천달러   8.5.외환보유액      FIFB4  ...   84196399.0            2000-04-01\n",
              "4        천달러   8.5.외환보유액      FIFB4  ...   86471266.0            2000-05-01\n",
              "..        ...        ...        ...  ...          ...        ...        ...\n",
              "248      천달러   8.5.외환보유액      FIFB4  ...  408231994.0            2020-09-01\n",
              "249      천달러   8.5.외환보유액      FIFB4  ...  414167853.0            2020-10-01\n",
              "250      천달러   8.5.외환보유액      FIFB4  ...  423963271.0            2020-11-01\n",
              "251      천달러   8.5.외환보유액      FIFB4  ...  430117234.0            2020-12-01\n",
              "252      천달러   8.5.외환보유액      FIFB4  ...  429558627.0            2021-01-01\n",
              "\n",
              "[253 rows x 11 columns]"
            ]
          },
          "metadata": {},
          "execution_count": 5
        }
      ]
    },
    {
      "cell_type": "code",
      "metadata": {
        "id": "RbHc5L-Z5Iv-",
        "colab": {
          "base_uri": "https://localhost:8080/",
          "height": 483
        },
        "outputId": "86fa2d30-cac9-4894-c562-9ec0d7583830"
      },
      "source": [
        "import matplotlib.pyplot as plt\n",
        "plt.figure(figsize=(16,8))\n",
        "plt.plot(fer['TIME'], fer_change)\n",
        "plt.plot(kospi_change)\n",
        "plt.show()"
      ],
      "execution_count": 6,
      "outputs": [
        {
          "output_type": "display_data",
          "data": {
            "image/png": "[encoded data removed]",
            "text/plain": [
              "<Figure size 1152x576 with 1 Axes>"
            ]
          },
          "metadata": {
            "needs_background": "light"
          }
        }
      ]
    },
    {
      "cell_type": "code",
      "metadata": {
        "id": "TjQh9Vto6zEH",
        "colab": {
          "base_uri": "https://localhost:8080/"
        },
        "outputId": "5b150516-4123-49df-8a0a-cb1c90ca9501"
      },
      "source": [
        "import scipy.stats\n",
        "\n",
        "# Pearson correlation coefficient\n",
        "print(np.corrcoef(fer['DATA_VALUE'], kospi['Close'])[0, 1])\n",
        "\n",
        "# spearman correlation\n",
        "print(scipy.stats.spearmanr(fer['DATA_VALUE'], kospi['Close']).correlation)"
      ],
      "execution_count": 7,
      "outputs": [
        {
          "output_type": "stream",
          "name": "stdout",
          "text": [
            "0.9547921824196888\n",
            "0.9392144174692784\n"
          ]
        }
      ]
    },
    {
      "cell_type": "code",
      "metadata": {
        "id": "6lWgw1rKEFEq",
        "colab": {
          "base_uri": "https://localhost:8080/"
        },
        "outputId": "24c8a6a8-de02-45d3-98f2-e1beceb4b7d2"
      },
      "source": [
        "# gdp growth rate\n",
        "gdp_growth = get_data('901Y001', 'QQ', '200001', '202101', 'AI1AA')\n",
        "print(np.corrcoef(gdp_growth['DATA_VALUE'], m2q(kospi)['Close'])[0, 1])\n",
        "print(scipy.stats.spearmanr(gdp_growth['DATA_VALUE'], m2q(kospi)['Close']).correlation)"
      ],
      "execution_count": 8,
      "outputs": [
        {
          "output_type": "stream",
          "name": "stdout",
          "text": [
            "-0.17072376293182367\n",
            "-0.2712670021642226\n"
          ]
        }
      ]
    },
    {
      "cell_type": "code",
      "metadata": {
        "colab": {
          "base_uri": "https://localhost:8080/"
        },
        "id": "GER_ZdbzaPbP",
        "outputId": "58956960-d66d-4473-ff07-736c269d55f4"
      },
      "source": [
        "# unemployment rate\n",
        "unemp_rate = get_data('901Y001', 'QQ', '200001', '202101', 'AI1AJ')\n",
        "print(np.corrcoef(unemp_rate['DATA_VALUE'], m2q(kospi)['Close'])[0, 1])\n",
        "print(scipy.stats.spearmanr(unemp_rate['DATA_VALUE'], m2q(kospi)['Close']).correlation)"
      ],
      "execution_count": 9,
      "outputs": [
        {
          "output_type": "stream",
          "name": "stdout",
          "text": [
            "-0.1328313992935628\n",
            "-0.013522893443313862\n"
          ]
        }
      ]
    },
    {
      "cell_type": "code",
      "metadata": {
        "colab": {
          "base_uri": "https://localhost:8080/"
        },
        "id": "UaNvGTrnc26W",
        "outputId": "639d2bda-4236-4f8d-f16e-8682620b4833"
      },
      "source": [
        "# employment rate\n",
        "emp_rate = get_data('901Y001', 'QQ', '200001', '202101', 'AI1AK')\n",
        "print(np.corrcoef(emp_rate['DATA_VALUE'], m2q(kospi)['Close'])[0, 1])\n",
        "print(scipy.stats.spearmanr(emp_rate['DATA_VALUE'], m2q(kospi)['Close']).correlation)"
      ],
      "execution_count": 10,
      "outputs": [
        {
          "output_type": "stream",
          "name": "stdout",
          "text": [
            "0.3422232742696088\n",
            "0.38770745286696917\n"
          ]
        }
      ]
    },
    {
      "cell_type": "code",
      "metadata": {
        "colab": {
          "base_uri": "https://localhost:8080/"
        },
        "id": "QCyCaauPald3",
        "outputId": "c4b8267c-a372-478a-a7bc-f9c8cf79ca16"
      },
      "source": [
        "# interest rate\n",
        "inter_rate = get_data('098Y001', 'QQ', '200001', '202101', '0101000') \n",
        "print(np.corrcoef(inter_rate['DATA_VALUE'], m2q(kospi)['Close'])[0, 1])\n",
        "print(scipy.stats.spearmanr(inter_rate['DATA_VALUE'], m2q(kospi)['Close']).correlation)"
      ],
      "execution_count": 11,
      "outputs": [
        {
          "output_type": "stream",
          "name": "stdout",
          "text": [
            "-0.7236069829387317\n",
            "-0.7602171715348854\n"
          ]
        }
      ]
    },
    {
      "cell_type": "code",
      "metadata": {
        "colab": {
          "base_uri": "https://localhost:8080/"
        },
        "id": "BywjaApfbAPp",
        "outputId": "ef91efd3-9bbe-46af-a568-347233fe4ac0"
      },
      "source": [
        "# inflation\n",
        "inflation = get_data('901Y001', 'MM', '200001', '202101', 'AI1BB') \n",
        "print(np.corrcoef(inflation['DATA_VALUE'], kospi['Close'])[0, 1])\n",
        "print(scipy.stats.spearmanr(inflation['DATA_VALUE'], kospi['Close']).correlation)"
      ],
      "execution_count": 12,
      "outputs": [
        {
          "output_type": "stream",
          "name": "stdout",
          "text": [
            "-0.5712927646933323\n",
            "-0.6221173436857378\n"
          ]
        }
      ]
    },
    {
      "cell_type": "code",
      "metadata": {
        "colab": {
          "base_uri": "https://localhost:8080/"
        },
        "id": "fuBVP9Pzb7yK",
        "outputId": "6e62ce20-d418-40c8-a9bb-d16eaa7899c7"
      },
      "source": [
        "# m2\n",
        "m2 = get_data('901Y001', 'MM', '200001', '202101', 'AI1CB') \n",
        "print(np.corrcoef(m2['DATA_VALUE'], kospi['Close'])[0, 1])\n",
        "print(scipy.stats.spearmanr(m2['DATA_VALUE'], kospi['Close']).correlation)"
      ],
      "execution_count": 13,
      "outputs": [
        {
          "output_type": "stream",
          "name": "stdout",
          "text": [
            "-0.03391262612351143\n",
            "-0.10602670730400067\n"
          ]
        }
      ]
    }
  ]
}