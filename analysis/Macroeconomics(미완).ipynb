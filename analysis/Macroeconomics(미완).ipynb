{
  "nbformat": 4,
  "nbformat_minor": 0,
  "metadata": {
    "colab": {
      "name": "macroecon analysis.ipynb",
      "provenance": [],
      "authorship_tag": "ABX9TyNJ7CoAZA6PeE5l7H2ETKKW",
      "include_colab_link": true
    },
    "kernelspec": {
      "name": "python3",
      "display_name": "Python 3"
    },
    "language_info": {
      "name": "python"
    }
  },
  "cells": [
    {
      "cell_type": "markdown",
      "metadata": {
        "id": "view-in-github",
        "colab_type": "text"
      },
      "source": [
        "<a href=\"https://colab.research.google.com/github/yeonghun00/stock_public/blob/main/macroecon_analysis.ipynb\" target=\"_parent\"><img src=\"https://colab.research.google.com/assets/colab-badge.svg\" alt=\"Open In Colab\"/></a>"
      ]
    },
    {
      "cell_type": "code",
      "metadata": {
        "id": "nvs-bqLE08KF"
      },
      "source": [
        "import requests \n",
        "import pandas as pd\n",
        "import json\n",
        "import datetime"
      ],
      "execution_count": 1,
      "outputs": []
    },
    {
      "cell_type": "code",
      "metadata": {
        "id": "rKZ9P5rbskwJ"
      },
      "source": [
        "# http://ecos.bok.or.kr/jsp/openapi/OpenApiController.jsp?t=guideStatCd&menuGroup=MENU000004&menuCode=MENU000024\n",
        "api = 'NTD28IR6I6JDKW29OVKJ'"
      ],
      "execution_count": 2,
      "outputs": []
    },
    {
      "cell_type": "code",
      "metadata": {
        "id": "IY6MspR7GCIg"
      },
      "source": [
        "def get_data(code, unit, start_date, end_date, code2):\n",
        "  url = 'http://ecos.bok.or.kr/api/StatisticSearch/' + api + '/json/kr/1/5000/' + f'{code}/{unit}/{start_date}/{end_date}/{code2}'\n",
        "  response = requests.get(url)\n",
        "  if response.status_code == 200:\n",
        "      try:\n",
        "          contents = response.text\n",
        "      except Exception as e:\n",
        "          print(str(e))\n",
        "  df = pd.DataFrame(json.loads(contents)['StatisticSearch']['row'])\n",
        "  df['DATA_VALUE'] = [float(x) for x in df['DATA_VALUE']]\n",
        "  if unit == 'YY':\n",
        "    df['TIME'] = [datetime.datetime.strptime(x, '%Y') for x in df['TIME']]\n",
        "  else:\n",
        "    df['TIME'] = [datetime.datetime.strptime(x, '%Y%m') for x in df['TIME']]\n",
        "  return df"
      ],
      "execution_count": 3,
      "outputs": []
    },
    {
      "cell_type": "code",
      "metadata": {
        "id": "IXpU8Js4wqpQ"
      },
      "source": [
        "m_value = get_data('001Y406', 'YY', '201001', '202001', 'BBGS00')\n",
        "debt = get_data('008Y001', 'YY', '201001' , '202001', '11000A0')"
      ],
      "execution_count": 4,
      "outputs": []
    },
    {
      "cell_type": "code",
      "metadata": {
        "id": "ULeV6kJEzKL9",
        "colab": {
          "base_uri": "https://localhost:8080/",
          "height": 276
        },
        "outputId": "a6791fd7-13f3-49b6-887d-f4ac89a4d6c9"
      },
      "source": [
        "import matplotlib.pyplot as plt\n",
        "\n",
        "plt.plot(m_value['TIME'], m_value['DATA_VALUE'])\n",
        "plt.plot(debt['TIME'], debt['DATA_VALUE'])\n",
        "\n",
        "plt.show()"
      ],
      "execution_count": 5,
      "outputs": [
        {
          "output_type": "display_data",
          "data": {
            "image/png": "[encoded data removed]",
            "text/plain": [
              "<Figure size 432x288 with 1 Axes>"
            ]
          },
          "metadata": {
            "tags": [],
            "needs_background": "light"
          }
        }
      ]
    }
  ]
}
