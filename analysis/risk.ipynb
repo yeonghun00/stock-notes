{
  "nbformat": 4,
  "nbformat_minor": 0,
  "metadata": {
    "colab": {
      "provenance": [],
      "authorship_tag": "ABX9TyM8zudpoWjj9ha7tazJAavH",
      "include_colab_link": true
    },
    "kernelspec": {
      "name": "python3",
      "display_name": "Python 3"
    },
    "language_info": {
      "name": "python"
    }
  },
  "cells": [
    {
      "cell_type": "markdown",
      "metadata": {
        "id": "view-in-github",
        "colab_type": "text"
      },
      "source": [
        "<a href=\"https://colab.research.google.com/github/yeonghun00/stock-notes/blob/main/analysis/risk.ipynb\" target=\"_parent\"><img src=\"https://colab.research.google.com/assets/colab-badge.svg\" alt=\"Open In Colab\"/></a>"
      ]
    },
    {
      "cell_type": "markdown",
      "source": [
        "- 실업률\n",
        "- Core CPI\n",
        "- PMI\n",
        "- PPI\n",
        "- IC (실업수당청구건수)\n",
        "\n",
        "\n",
        "- vix\n",
        "- CDS\n",
        "\n",
        "\n",
        "- TED spread\n",
        "- 10Y - 2Y spread\n",
        "- 10Y - 3M spread\n",
        "- high yield spread"
      ],
      "metadata": {
        "id": "e9a7O9e-rBQO"
      }
    },
    {
      "cell_type": "code",
      "execution_count": null,
      "metadata": {
        "id": "jtVqK_yfrAUD"
      },
      "outputs": [],
      "source": []
    }
  ]
}