{
  "nbformat": 4,
  "nbformat_minor": 0,
  "metadata": {
    "colab": {
      "name": "Stock_analysis",
      "provenance": [],
      "collapsed_sections": [],
      "authorship_tag": "ABX9TyPKW0U9c9cn9ISiwD/XkQmv",
      "include_colab_link": true
    },
    "kernelspec": {
      "name": "python3",
      "display_name": "Python 3"
    },
    "language_info": {
      "name": "python"
    }
  },
  "cells": [
    {
      "cell_type": "markdown",
      "metadata": {
        "id": "view-in-github",
        "colab_type": "text"
      },
      "source": [
        "<a href=\"https://colab.research.google.com/github/yeonghun00/stock-notes/blob/main/analysis/Stock.ipynb\" target=\"_parent\"><img src=\"https://colab.research.google.com/assets/colab-badge.svg\" alt=\"Open In Colab\"/></a>"
      ]
    },
    {
      "cell_type": "code",
      "source": [
        "code = '035720'\n",
        "start_date = '20000101'\n",
        "freq = 'month' # freq: day, week, month"
      ],
      "metadata": {
        "id": "EygWVF5fjH1s"
      },
      "execution_count": 1,
      "outputs": []
    },
    {
      "cell_type": "code",
      "metadata": {
        "id": "NQTz-f91VMZc"
      },
      "source": [
        "import requests\n",
        "from bs4 import BeautifulSoup\n",
        "import pandas as pd\n",
        "import numpy as np\n",
        "import datetime\n",
        "import ast\n",
        "\n",
        "class Stock:\n",
        "  def __init__(self, code):\n",
        "    self.code = code\n",
        "    self.headers = {'User-Agent' : 'Mozilla/5.0 (Macintosh; Intel Mac OS X 10_14_6) AppleWebKit/537.36 (KHTML, like Gecko) Chrome/85.0.4183.121 Safari/537.36'}\n",
        "\n",
        "  def get_price(self, start:int='20180501', interval='day'):\n",
        "    url ='https://api.finance.naver.com/siseJson.naver?symbol=' + self.code + '&requestType=1&startTime=' \\\n",
        "    + start + '&endTime=' + str(datetime.datetime.now().date().strftime(\"%Y%m%d\")) + '&timeframe=' + interval\n",
        "\n",
        "\n",
        "    result = requests.get(url)\n",
        "    bs_obj = BeautifulSoup(result.content, \"html.parser\")\n",
        "    b = bs_obj.get_text()\n",
        "    for i in ['\\n', '\\t', \"\\\\\", ' ']:\n",
        "      b = b.replace(i,'')\n",
        "\n",
        "    data = np.array(ast.literal_eval(b)[1:])\n",
        "\n",
        "    dic = {'Date':list(map(lambda x: datetime.datetime.strptime(str(x), '%Y%m%d'), data[:,0])), \\\n",
        "      'Open':np.array(data[:,1], float), 'High':np.array(data[:,2], float), 'Low':np.array(data[:,3], float),\\\n",
        "       'Close':np.array(data[:,4], float), 'Volume':np.array(data[:,5], float)}\n",
        "\n",
        "    df = pd.DataFrame(data=dic)\n",
        "    df = df.set_index('Date')\n",
        "    return df\n",
        "    \n",
        "  def get_fundamental(self):\n",
        "    url = 'https://finance.naver.com/item/main.nhn?code=' + self.code\n",
        "    result = requests.get(url, headers = self.headers)\n",
        "    bs_obj = BeautifulSoup(result.content, \"html.parser\")\n",
        "\n",
        "    ths = bs_obj.find_all(\"th\", {'scope':'col'})\n",
        "    ths = [th.get_text() for th in ths][10:-22]\n",
        "    dates = list(map(lambda x: x.translate(str.maketrans('','','\\n\\t, ')),ths))\n",
        "    dates = list(map(lambda x: x + '(Y)', dates[:4])) + list(map(lambda x: x + '(M)', dates[4:]))\n",
        "\n",
        "    tr = bs_obj.find_all(\"tbody\")\n",
        "    tds = tr[2].find_all('td')\n",
        "    tds = [td.get_text() for td in tds]\n",
        "    elements = list(map(lambda x: x.translate(str.maketrans('','','\\n\\t, ')),tds))\n",
        "    elements = list(map(lambda x: float(x) if x.replace('.','').isdigit() else np.nan, elements))\n",
        "\n",
        "    temp_dict = {}\n",
        "    cnt = 0\n",
        "    index = ['sales', 'operating profit', 'net income', 'operating margin', 'net margin', 'roe', 'debt ratio', 'quick ratio', \\\n",
        "    'reserve ratio', 'eps', 'per', 'bps', 'pbr', 'dividend per share', 'dividend yield ratio', 'dividend payout ratio']\n",
        "\n",
        "    for i in dates:\n",
        "      temp_dict[i] = elements[cnt::10]\n",
        "      cnt += 1\n",
        "\n",
        "    df = pd.DataFrame.from_dict(temp_dict)\n",
        "    df = df.set_index([pd.Index(index)])\n",
        "    return df"
      ],
      "execution_count": 2,
      "outputs": []
    },
    {
      "cell_type": "code",
      "metadata": {
        "id": "jf3OAWV9WbGE"
      },
      "source": [
        "stock = Stock(code)"
      ],
      "execution_count": 3,
      "outputs": []
    },
    {
      "cell_type": "code",
      "metadata": {
        "colab": {
          "base_uri": "https://localhost:8080/",
          "height": 455
        },
        "id": "SyDmT0NGWh3C",
        "outputId": "b5e97d8e-ad01-4c43-fbae-a69b7d1b010f"
      },
      "source": [
        "stock_df = stock.get_price(start_date, freq)\n",
        "stock_df['Change'] = stock_df['Close'][1:]/stock_df['Close'][:-1].values\n",
        "stock_df = stock_df[1:]\n",
        "stock_df"
      ],
      "execution_count": 4,
      "outputs": [
        {
          "output_type": "execute_result",
          "data": {
            "text/plain": [
              "               Open     High      Low    Close      Volume    Change\n",
              "Date                                                                \n",
              "2000-02-29  24270.0  53181.0  24091.0  32837.0   9564408.0  1.514412\n",
              "2000-03-31  33907.0  34977.0  16239.0  18292.0  11987879.0  0.557055\n",
              "2000-04-28  18737.0  20879.0   9012.0   9369.0   7988899.0  0.512191\n",
              "2000-05-31   9654.0  14383.0   7405.0  14383.0  14059410.0  1.535169\n",
              "2000-06-30  14383.0  21504.0  13384.0  18916.0  23806003.0  1.315164\n",
              "...             ...      ...      ...      ...         ...       ...\n",
              "2022-05-31  88400.0  91900.0  80000.0  85000.0  35611165.0  0.945495\n",
              "2022-06-30  84000.0  87400.0  66700.0  69900.0  38118975.0  0.822353\n",
              "2022-07-29  70000.0  75600.0  66200.0  74800.0  30423526.0  1.070100\n",
              "2022-08-31  74800.0  84300.0  71500.0  73400.0  37365973.0  0.981283\n",
              "2022-09-23  72300.0  72500.0  60900.0  61000.0  19235384.0  0.831063\n",
              "\n",
              "[272 rows x 6 columns]"
            ],
            "text/html": [
              "\n",
              "  <div id=\"df-e2af5457-b8da-4de3-8e35-5f94add77b00\">\n",
              "    <div class=\"colab-df-container\">\n",
              "      <div>\n",
              "<style scoped>\n",
              "    .dataframe tbody tr th:only-of-type {\n",
              "        vertical-align: middle;\n",
              "    }\n",
              "\n",
              "    .dataframe tbody tr th {\n",
              "        vertical-align: top;\n",
              "    }\n",
              "\n",
              "    .dataframe thead th {\n",
              "        text-align: right;\n",
              "    }\n",
              "</style>\n",
              "<table border=\"1\" class=\"dataframe\">\n",
              "  <thead>\n",
              "    <tr style=\"text-align: right;\">\n",
              "      <th></th>\n",
              "      <th>Open</th>\n",
              "      <th>High</th>\n",
              "      <th>Low</th>\n",
              "      <th>Close</th>\n",
              "      <th>Volume</th>\n",
              "      <th>Change</th>\n",
              "    </tr>\n",
              "    <tr>\n",
              "      <th>Date</th>\n",
              "      <th></th>\n",
              "      <th></th>\n",
              "      <th></th>\n",
              "      <th></th>\n",
              "      <th></th>\n",
              "      <th></th>\n",
              "    </tr>\n",
              "  </thead>\n",
              "  <tbody>\n",
              "    <tr>\n",
              "      <th>2000-02-29</th>\n",
              "      <td>24270.0</td>\n",
              "      <td>53181.0</td>\n",
              "      <td>24091.0</td>\n",
              "      <td>32837.0</td>\n",
              "      <td>9564408.0</td>\n",
              "      <td>1.514412</td>\n",
              "    </tr>\n",
              "    <tr>\n",
              "      <th>2000-03-31</th>\n",
              "      <td>33907.0</td>\n",
              "      <td>34977.0</td>\n",
              "      <td>16239.0</td>\n",
              "      <td>18292.0</td>\n",
              "      <td>11987879.0</td>\n",
              "      <td>0.557055</td>\n",
              "    </tr>\n",
              "    <tr>\n",
              "      <th>2000-04-28</th>\n",
              "      <td>18737.0</td>\n",
              "      <td>20879.0</td>\n",
              "      <td>9012.0</td>\n",
              "      <td>9369.0</td>\n",
              "      <td>7988899.0</td>\n",
              "      <td>0.512191</td>\n",
              "    </tr>\n",
              "    <tr>\n",
              "      <th>2000-05-31</th>\n",
              "      <td>9654.0</td>\n",
              "      <td>14383.0</td>\n",
              "      <td>7405.0</td>\n",
              "      <td>14383.0</td>\n",
              "      <td>14059410.0</td>\n",
              "      <td>1.535169</td>\n",
              "    </tr>\n",
              "    <tr>\n",
              "      <th>2000-06-30</th>\n",
              "      <td>14383.0</td>\n",
              "      <td>21504.0</td>\n",
              "      <td>13384.0</td>\n",
              "      <td>18916.0</td>\n",
              "      <td>23806003.0</td>\n",
              "      <td>1.315164</td>\n",
              "    </tr>\n",
              "    <tr>\n",
              "      <th>...</th>\n",
              "      <td>...</td>\n",
              "      <td>...</td>\n",
              "      <td>...</td>\n",
              "      <td>...</td>\n",
              "      <td>...</td>\n",
              "      <td>...</td>\n",
              "    </tr>\n",
              "    <tr>\n",
              "      <th>2022-05-31</th>\n",
              "      <td>88400.0</td>\n",
              "      <td>91900.0</td>\n",
              "      <td>80000.0</td>\n",
              "      <td>85000.0</td>\n",
              "      <td>35611165.0</td>\n",
              "      <td>0.945495</td>\n",
              "    </tr>\n",
              "    <tr>\n",
              "      <th>2022-06-30</th>\n",
              "      <td>84000.0</td>\n",
              "      <td>87400.0</td>\n",
              "      <td>66700.0</td>\n",
              "      <td>69900.0</td>\n",
              "      <td>38118975.0</td>\n",
              "      <td>0.822353</td>\n",
              "    </tr>\n",
              "    <tr>\n",
              "      <th>2022-07-29</th>\n",
              "      <td>70000.0</td>\n",
              "      <td>75600.0</td>\n",
              "      <td>66200.0</td>\n",
              "      <td>74800.0</td>\n",
              "      <td>30423526.0</td>\n",
              "      <td>1.070100</td>\n",
              "    </tr>\n",
              "    <tr>\n",
              "      <th>2022-08-31</th>\n",
              "      <td>74800.0</td>\n",
              "      <td>84300.0</td>\n",
              "      <td>71500.0</td>\n",
              "      <td>73400.0</td>\n",
              "      <td>37365973.0</td>\n",
              "      <td>0.981283</td>\n",
              "    </tr>\n",
              "    <tr>\n",
              "      <th>2022-09-23</th>\n",
              "      <td>72300.0</td>\n",
              "      <td>72500.0</td>\n",
              "      <td>60900.0</td>\n",
              "      <td>61000.0</td>\n",
              "      <td>19235384.0</td>\n",
              "      <td>0.831063</td>\n",
              "    </tr>\n",
              "  </tbody>\n",
              "</table>\n",
              "<p>272 rows × 6 columns</p>\n",
              "</div>\n",
              "      <button class=\"colab-df-convert\" onclick=\"convertToInteractive('df-e2af5457-b8da-4de3-8e35-5f94add77b00')\"\n",
              "              title=\"Convert this dataframe to an interactive table.\"\n",
              "              style=\"display:none;\">\n",
              "        \n",
              "  <svg xmlns=\"http://www.w3.org/2000/svg\" height=\"24px\"viewBox=\"0 0 24 24\"\n",
              "       width=\"24px\">\n",
              "    <path d=\"M0 0h24v24H0V0z\" fill=\"none\"/>\n",
              "    <path d=\"M18.56 5.44l.94 2.06.94-2.06 2.06-.94-2.06-.94-.94-2.06-.94 2.06-2.06.94zm-11 1L8.5 8.5l.94-2.06 2.06-.94-2.06-.94L8.5 2.5l-.94 2.06-2.06.94zm10 10l.94 2.06.94-2.06 2.06-.94-2.06-.94-.94-2.06-.94 2.06-2.06.94z\"/><path d=\"M17.41 7.96l-1.37-1.37c-.4-.4-.92-.59-1.43-.59-.52 0-1.04.2-1.43.59L10.3 9.45l-7.72 7.72c-.78.78-.78 2.05 0 2.83L4 21.41c.39.39.9.59 1.41.59.51 0 1.02-.2 1.41-.59l7.78-7.78 2.81-2.81c.8-.78.8-2.07 0-2.86zM5.41 20L4 18.59l7.72-7.72 1.47 1.35L5.41 20z\"/>\n",
              "  </svg>\n",
              "      </button>\n",
              "      \n",
              "  <style>\n",
              "    .colab-df-container {\n",
              "      display:flex;\n",
              "      flex-wrap:wrap;\n",
              "      gap: 12px;\n",
              "    }\n",
              "\n",
              "    .colab-df-convert {\n",
              "      background-color: #E8F0FE;\n",
              "      border: none;\n",
              "      border-radius: 50%;\n",
              "      cursor: pointer;\n",
              "      display: none;\n",
              "      fill: #1967D2;\n",
              "      height: 32px;\n",
              "      padding: 0 0 0 0;\n",
              "      width: 32px;\n",
              "    }\n",
              "\n",
              "    .colab-df-convert:hover {\n",
              "      background-color: #E2EBFA;\n",
              "      box-shadow: 0px 1px 2px rgba(60, 64, 67, 0.3), 0px 1px 3px 1px rgba(60, 64, 67, 0.15);\n",
              "      fill: #174EA6;\n",
              "    }\n",
              "\n",
              "    [theme=dark] .colab-df-convert {\n",
              "      background-color: #3B4455;\n",
              "      fill: #D2E3FC;\n",
              "    }\n",
              "\n",
              "    [theme=dark] .colab-df-convert:hover {\n",
              "      background-color: #434B5C;\n",
              "      box-shadow: 0px 1px 3px 1px rgba(0, 0, 0, 0.15);\n",
              "      filter: drop-shadow(0px 1px 2px rgba(0, 0, 0, 0.3));\n",
              "      fill: #FFFFFF;\n",
              "    }\n",
              "  </style>\n",
              "\n",
              "      <script>\n",
              "        const buttonEl =\n",
              "          document.querySelector('#df-e2af5457-b8da-4de3-8e35-5f94add77b00 button.colab-df-convert');\n",
              "        buttonEl.style.display =\n",
              "          google.colab.kernel.accessAllowed ? 'block' : 'none';\n",
              "\n",
              "        async function convertToInteractive(key) {\n",
              "          const element = document.querySelector('#df-e2af5457-b8da-4de3-8e35-5f94add77b00');\n",
              "          const dataTable =\n",
              "            await google.colab.kernel.invokeFunction('convertToInteractive',\n",
              "                                                     [key], {});\n",
              "          if (!dataTable) return;\n",
              "\n",
              "          const docLinkHtml = 'Like what you see? Visit the ' +\n",
              "            '<a target=\"_blank\" href=https://colab.research.google.com/notebooks/data_table.ipynb>data table notebook</a>'\n",
              "            + ' to learn more about interactive tables.';\n",
              "          element.innerHTML = '';\n",
              "          dataTable['output_type'] = 'display_data';\n",
              "          await google.colab.output.renderOutput(dataTable, element);\n",
              "          const docLink = document.createElement('div');\n",
              "          docLink.innerHTML = docLinkHtml;\n",
              "          element.appendChild(docLink);\n",
              "        }\n",
              "      </script>\n",
              "    </div>\n",
              "  </div>\n",
              "  "
            ]
          },
          "metadata": {},
          "execution_count": 4
        }
      ]
    },
    {
      "cell_type": "code",
      "source": [
        "# stock\n",
        "print('mean     : ', round(stock_df['Change'].mean(), 10))\n",
        "print('var      : ', round(stock_df['Change'].var(), 10))\n",
        "print('skewness : ', round(stock_df['Change'].skew(), 10))\n",
        "print('kurtosis : ', round(stock_df['Change'].kurt(), 10))"
      ],
      "metadata": {
        "id": "TmhltwkMNlBN",
        "outputId": "f091d594-95a1-4efa-999d-b9cbf2039736",
        "colab": {
          "base_uri": "https://localhost:8080/"
        }
      },
      "execution_count": 5,
      "outputs": [
        {
          "output_type": "stream",
          "name": "stdout",
          "text": [
            "mean     :  1.0172446917\n",
            "var      :  0.029004656\n",
            "skewness :  1.6168660481\n",
            "kurtosis :  12.2463066474\n"
          ]
        }
      ]
    },
    {
      "cell_type": "code",
      "source": [
        "# market\n",
        "market_df = Stock('KOSPI')\n",
        "market_df = market_df.get_price(start_date, freq)\n",
        "market_df['Change'] = market_df['Close'][1:]/market_df['Close'][:-1].values\n",
        "market_df = market_df[1:]\n",
        "\n",
        "# 주식 액면분할 날짜 제거\n",
        "market_df = market_df.drop(index=market_df.index.difference(stock_df.index))"
      ],
      "metadata": {
        "id": "P8ddwhjFWBE7"
      },
      "execution_count": 6,
      "outputs": []
    },
    {
      "cell_type": "code",
      "source": [
        "print('mean     : ', round(market_df['Change'].mean(), 10))\n",
        "print('var      : ', round(market_df['Change'].var(), 10))\n",
        "print('skewness : ', round(market_df['Change'].skew(), 10))\n",
        "print('kurtosis : ', round(market_df['Change'].kurt(), 10))"
      ],
      "metadata": {
        "id": "lPyKdrGtN-QT",
        "outputId": "17e1f25e-c31f-498b-9d78-4175afdcb5d2",
        "colab": {
          "base_uri": "https://localhost:8080/"
        }
      },
      "execution_count": 7,
      "outputs": [
        {
          "output_type": "stream",
          "name": "stdout",
          "text": [
            "mean     :  1.0051705561\n",
            "var      :  0.0037948778\n",
            "skewness :  -0.1602804129\n",
            "kurtosis :  1.3128570387\n"
          ]
        }
      ]
    },
    {
      "cell_type": "code",
      "source": [
        "import matplotlib.pyplot as plt\n",
        "\n",
        "plt.subplots(figsize=(8, 10))\n",
        "plt.hist(stock_df['Change'], bins= 'auto', alpha=0.5)\n",
        "plt.hist(market_df['Change'], bins= 'auto', alpha=0.5)\n",
        "plt.legend(['Stock', 'Index'])\n",
        "plt.show()"
      ],
      "metadata": {
        "id": "VUDrwUUbQiyl",
        "outputId": "b83f5a8f-cc6d-4f02-9999-e908b64b2c17",
        "colab": {
          "base_uri": "https://localhost:8080/",
          "height": 592
        }
      },
      "execution_count": 8,
      "outputs": [
        {
          "output_type": "display_data",
          "data": {
            "text/plain": [
              "<Figure size 576x720 with 1 Axes>"
            ],
            "image/png": "[encoded data removed]"
          },
          "metadata": {
            "needs_background": "light"
          }
        }
      ]
    },
    {
      "cell_type": "code",
      "source": [
        "# 샤프 비율: 변동성 대비 수익률\n",
        "stock_return = stock_df['Change'].mean()\n",
        "stock_return_std = stock_df['Change'].std()\n",
        "\n",
        "# 무위험 이자율 (국채)\n",
        "risk_free = 1.025\n",
        "if freq == 'day': risk_free = risk_free**(1/250)\n",
        "elif freq == 'week': risk_free = risk_free**(1/50)\n",
        "elif freq == 'month': risk_free = risk_free**(1/12)\n",
        "\n",
        "sharpe_ratio = (stock_return - risk_free)/stock_return_std\n",
        "round(sharpe_ratio, 10)"
      ],
      "metadata": {
        "colab": {
          "base_uri": "https://localhost:8080/"
        },
        "id": "R06sTqOxWHdi",
        "outputId": "fc3c7d47-d389-40ca-85e3-f76ac1778747"
      },
      "execution_count": 9,
      "outputs": [
        {
          "output_type": "execute_result",
          "data": {
            "text/plain": [
              "0.089161384"
            ]
          },
          "metadata": {},
          "execution_count": 9
        }
      ]
    },
    {
      "cell_type": "code",
      "source": [
        "# 트레이너 비율: 시장위험 대비 수익률\n",
        "cov = np.cov(np.array(stock_df['Change']), np.array(market_df['Change']))[0][1]\n",
        "market_variance =  market_df['Change'].var()\n",
        "beta = cov/market_variance\n",
        "\n",
        "treynor_ratio = (stock_return - risk_free)/beta\n",
        "round(treynor_ratio, 10)"
      ],
      "metadata": {
        "colab": {
          "base_uri": "https://localhost:8080/"
        },
        "id": "kHo71a8bbBaF",
        "outputId": "99db7ac8-409d-47df-f72b-e77af9ec0e8a"
      },
      "execution_count": 10,
      "outputs": [
        {
          "output_type": "execute_result",
          "data": {
            "text/plain": [
              "0.0113344981"
            ]
          },
          "metadata": {},
          "execution_count": 10
        }
      ]
    },
    {
      "cell_type": "code",
      "source": [
        "# 소르티노 비율: 가격 하락 변동성 대비 수익률\n",
        "risk_free_min = risk_free\n",
        "downside_std = stock_df[stock_df['Change'] < 1]['Change'].std()\n",
        "\n",
        "sortino_ratio = (stock_return - risk_free_min)/downside_std\n",
        "round(sortino_ratio, 10)"
      ],
      "metadata": {
        "colab": {
          "base_uri": "https://localhost:8080/"
        },
        "id": "KJ1IiGfvfDbF",
        "outputId": "12ad6aa1-3a5c-43dd-fe7c-2b008226678f"
      },
      "execution_count": 11,
      "outputs": [
        {
          "output_type": "execute_result",
          "data": {
            "text/plain": [
              "0.1540896058"
            ]
          },
          "metadata": {},
          "execution_count": 11
        }
      ]
    },
    {
      "cell_type": "code",
      "source": [
        "# 젠센 알파: 실제 수익률 - CAPM 모델 예상 수익\n",
        "market_return = market_df['Change'].mean()\n",
        "\n",
        "jensens_alpha = stock_return - (risk_free + beta*(market_return - risk_free))\n",
        "round(jensens_alpha, 10)"
      ],
      "metadata": {
        "colab": {
          "base_uri": "https://localhost:8080/"
        },
        "id": "ndYOgBLKfvVn",
        "outputId": "b2d5e41c-4e8f-4c31-c9c3-c692bdaa2eae"
      },
      "execution_count": 12,
      "outputs": [
        {
          "output_type": "execute_result",
          "data": {
            "text/plain": [
              "0.0110174163"
            ]
          },
          "metadata": {},
          "execution_count": 12
        }
      ]
    },
    {
      "cell_type": "code",
      "source": [
        "# 정보 비율: 추적 오차(꾸준함) 대비 수익률 (- 벤치마크)\n",
        "benchmark_return = market_return\n",
        "tracking_error = (sum((stock_df['Change']-market_df['Change'])**2)/(len(stock_df.index)-1))**(1/2)\n",
        "\n",
        "information_ratio = (stock_return - benchmark_return)/tracking_error\n",
        "round(information_ratio, 10)"
      ],
      "metadata": {
        "colab": {
          "base_uri": "https://localhost:8080/"
        },
        "id": "tV_KNcwrWAPF",
        "outputId": "e3422a43-6fb4-4d3e-85ae-caeef4c11d7d"
      },
      "execution_count": 13,
      "outputs": [
        {
          "output_type": "execute_result",
          "data": {
            "text/plain": [
              "0.0800018"
            ]
          },
          "metadata": {},
          "execution_count": 13
        }
      ]
    },
    {
      "cell_type": "code",
      "source": [
        "print(\"Sharpe Ratio:      \", round(sharpe_ratio, 10))\n",
        "print(\"Treynor Ratio:     \", round(treynor_ratio, 10))\n",
        "print(\"Sortino Ratio:     \", round(sortino_ratio, 10))\n",
        "print(\"Jensen's alpha:    \", round(jensens_alpha, 10))\n",
        "print(\"Information Ratio: \", round(information_ratio, 10))"
      ],
      "metadata": {
        "id": "U72khueQT9vA",
        "outputId": "a02fe64f-bfae-4061-e0a2-25b4e5789ef0",
        "colab": {
          "base_uri": "https://localhost:8080/"
        }
      },
      "execution_count": 14,
      "outputs": [
        {
          "output_type": "stream",
          "name": "stdout",
          "text": [
            "Sharpe Ratio:       0.089161384\n",
            "Treynor Ratio:      0.0113344981\n",
            "Sortino Ratio:      0.1540896058\n",
            "Jensen's alpha:     0.0110174163\n",
            "Information Ratio:  0.0800018\n"
          ]
        }
      ]
    },
    {
      "cell_type": "code",
      "metadata": {
        "colab": {
          "base_uri": "https://localhost:8080/",
          "height": 551
        },
        "id": "DLpKGPj9HaKE",
        "outputId": "223f18a0-a19a-4950-9d49-70fa7b251188"
      },
      "source": [
        "fundamental_df = stock.get_fundamental()\n",
        "fundamental_df"
      ],
      "execution_count": 15,
      "outputs": [
        {
          "output_type": "execute_result",
          "data": {
            "text/plain": [
              "                       2019.12(Y)  2020.12(Y)  2021.12(Y)  2022.12(E)(Y)  \\\n",
              "sales                    30701.00    41568.00    61367.00       75838.00   \n",
              "operating profit          2068.00     4559.00     5949.00        7448.00   \n",
              "net income                    NaN     1734.00    16462.00       18244.00   \n",
              "operating margin             6.73       10.97        9.69           9.82   \n",
              "net margin                    NaN        4.17       26.82          24.06   \n",
              "roe                           NaN        2.70       17.10          15.57   \n",
              "debt ratio                  52.21       60.94       67.62            NaN   \n",
              "quick ratio                127.98      162.77      146.88            NaN   \n",
              "reserve ratio            12027.79    13881.01    21260.57            NaN   \n",
              "eps                           NaN      355.00     3132.00        3788.00   \n",
              "per                           NaN      219.25       35.92          16.18   \n",
              "bps                      12746.00    14647.00    23018.00       26785.00   \n",
              "pbr                          2.41        5.32        4.89           2.29   \n",
              "dividend per share          25.00       30.00       53.00          55.00   \n",
              "dividend yield ratio         0.08        0.04        0.05            NaN   \n",
              "dividend payout ratio         NaN        8.29        1.65            NaN   \n",
              "\n",
              "                       2021.06(M)  2021.09(M)  2021.12(M)  2022.03(M)  \\\n",
              "sales                    13522.00    17408.00    17857.00    16517.00   \n",
              "operating profit          1626.00     1682.00     1066.00     1587.00   \n",
              "net income                3159.00     8663.00     2241.00    13221.00   \n",
              "operating margin            12.03        9.66        5.97        9.61   \n",
              "net margin                  23.36       49.76       12.55       80.05   \n",
              "roe                          6.90       14.84       17.10       27.55   \n",
              "debt ratio                  61.86       67.18       67.62       64.10   \n",
              "quick ratio                180.06      136.30      146.88      138.52   \n",
              "reserve ratio            16585.55    18562.21    21260.57    24271.32   \n",
              "eps                        702.00     1752.00      172.00     2922.00   \n",
              "per                        151.91       46.46       35.92       19.19   \n",
              "bps                      17937.00    20271.00    23018.00    25977.00   \n",
              "pbr                          9.09        5.82        4.89        4.10   \n",
              "dividend per share            NaN         NaN         NaN         NaN   \n",
              "dividend yield ratio          NaN         NaN         NaN         NaN   \n",
              "dividend payout ratio         NaN         NaN         NaN         NaN   \n",
              "\n",
              "                       2022.06(M)  2022.09(E)(M)  \n",
              "sales                    18223.00       19550.00  \n",
              "operating profit          1710.00        1989.00  \n",
              "net income                1012.00        1809.00  \n",
              "operating margin             9.38          10.17  \n",
              "net margin                   5.55           9.25  \n",
              "roe                         23.47            NaN  \n",
              "debt ratio                  67.17            NaN  \n",
              "quick ratio                144.62            NaN  \n",
              "reserve ratio            24578.67            NaN  \n",
              "eps                        152.00         327.00  \n",
              "per                         13.98         187.73  \n",
              "bps                      25729.00            NaN  \n",
              "pbr                          2.72            NaN  \n",
              "dividend per share            NaN            NaN  \n",
              "dividend yield ratio          NaN            NaN  \n",
              "dividend payout ratio         NaN            NaN  "
            ],
            "text/html": [
              "\n",
              "  <div id=\"df-3047c9d3-2225-40a2-888f-6f49bfcb455f\">\n",
              "    <div class=\"colab-df-container\">\n",
              "      <div>\n",
              "<style scoped>\n",
              "    .dataframe tbody tr th:only-of-type {\n",
              "        vertical-align: middle;\n",
              "    }\n",
              "\n",
              "    .dataframe tbody tr th {\n",
              "        vertical-align: top;\n",
              "    }\n",
              "\n",
              "    .dataframe thead th {\n",
              "        text-align: right;\n",
              "    }\n",
              "</style>\n",
              "<table border=\"1\" class=\"dataframe\">\n",
              "  <thead>\n",
              "    <tr style=\"text-align: right;\">\n",
              "      <th></th>\n",
              "      <th>2019.12(Y)</th>\n",
              "      <th>2020.12(Y)</th>\n",
              "      <th>2021.12(Y)</th>\n",
              "      <th>2022.12(E)(Y)</th>\n",
              "      <th>2021.06(M)</th>\n",
              "      <th>2021.09(M)</th>\n",
              "      <th>2021.12(M)</th>\n",
              "      <th>2022.03(M)</th>\n",
              "      <th>2022.06(M)</th>\n",
              "      <th>2022.09(E)(M)</th>\n",
              "    </tr>\n",
              "  </thead>\n",
              "  <tbody>\n",
              "    <tr>\n",
              "      <th>sales</th>\n",
              "      <td>30701.00</td>\n",
              "      <td>41568.00</td>\n",
              "      <td>61367.00</td>\n",
              "      <td>75838.00</td>\n",
              "      <td>13522.00</td>\n",
              "      <td>17408.00</td>\n",
              "      <td>17857.00</td>\n",
              "      <td>16517.00</td>\n",
              "      <td>18223.00</td>\n",
              "      <td>19550.00</td>\n",
              "    </tr>\n",
              "    <tr>\n",
              "      <th>operating profit</th>\n",
              "      <td>2068.00</td>\n",
              "      <td>4559.00</td>\n",
              "      <td>5949.00</td>\n",
              "      <td>7448.00</td>\n",
              "      <td>1626.00</td>\n",
              "      <td>1682.00</td>\n",
              "      <td>1066.00</td>\n",
              "      <td>1587.00</td>\n",
              "      <td>1710.00</td>\n",
              "      <td>1989.00</td>\n",
              "    </tr>\n",
              "    <tr>\n",
              "      <th>net income</th>\n",
              "      <td>NaN</td>\n",
              "      <td>1734.00</td>\n",
              "      <td>16462.00</td>\n",
              "      <td>18244.00</td>\n",
              "      <td>3159.00</td>\n",
              "      <td>8663.00</td>\n",
              "      <td>2241.00</td>\n",
              "      <td>13221.00</td>\n",
              "      <td>1012.00</td>\n",
              "      <td>1809.00</td>\n",
              "    </tr>\n",
              "    <tr>\n",
              "      <th>operating margin</th>\n",
              "      <td>6.73</td>\n",
              "      <td>10.97</td>\n",
              "      <td>9.69</td>\n",
              "      <td>9.82</td>\n",
              "      <td>12.03</td>\n",
              "      <td>9.66</td>\n",
              "      <td>5.97</td>\n",
              "      <td>9.61</td>\n",
              "      <td>9.38</td>\n",
              "      <td>10.17</td>\n",
              "    </tr>\n",
              "    <tr>\n",
              "      <th>net margin</th>\n",
              "      <td>NaN</td>\n",
              "      <td>4.17</td>\n",
              "      <td>26.82</td>\n",
              "      <td>24.06</td>\n",
              "      <td>23.36</td>\n",
              "      <td>49.76</td>\n",
              "      <td>12.55</td>\n",
              "      <td>80.05</td>\n",
              "      <td>5.55</td>\n",
              "      <td>9.25</td>\n",
              "    </tr>\n",
              "    <tr>\n",
              "      <th>roe</th>\n",
              "      <td>NaN</td>\n",
              "      <td>2.70</td>\n",
              "      <td>17.10</td>\n",
              "      <td>15.57</td>\n",
              "      <td>6.90</td>\n",
              "      <td>14.84</td>\n",
              "      <td>17.10</td>\n",
              "      <td>27.55</td>\n",
              "      <td>23.47</td>\n",
              "      <td>NaN</td>\n",
              "    </tr>\n",
              "    <tr>\n",
              "      <th>debt ratio</th>\n",
              "      <td>52.21</td>\n",
              "      <td>60.94</td>\n",
              "      <td>67.62</td>\n",
              "      <td>NaN</td>\n",
              "      <td>61.86</td>\n",
              "      <td>67.18</td>\n",
              "      <td>67.62</td>\n",
              "      <td>64.10</td>\n",
              "      <td>67.17</td>\n",
              "      <td>NaN</td>\n",
              "    </tr>\n",
              "    <tr>\n",
              "      <th>quick ratio</th>\n",
              "      <td>127.98</td>\n",
              "      <td>162.77</td>\n",
              "      <td>146.88</td>\n",
              "      <td>NaN</td>\n",
              "      <td>180.06</td>\n",
              "      <td>136.30</td>\n",
              "      <td>146.88</td>\n",
              "      <td>138.52</td>\n",
              "      <td>144.62</td>\n",
              "      <td>NaN</td>\n",
              "    </tr>\n",
              "    <tr>\n",
              "      <th>reserve ratio</th>\n",
              "      <td>12027.79</td>\n",
              "      <td>13881.01</td>\n",
              "      <td>21260.57</td>\n",
              "      <td>NaN</td>\n",
              "      <td>16585.55</td>\n",
              "      <td>18562.21</td>\n",
              "      <td>21260.57</td>\n",
              "      <td>24271.32</td>\n",
              "      <td>24578.67</td>\n",
              "      <td>NaN</td>\n",
              "    </tr>\n",
              "    <tr>\n",
              "      <th>eps</th>\n",
              "      <td>NaN</td>\n",
              "      <td>355.00</td>\n",
              "      <td>3132.00</td>\n",
              "      <td>3788.00</td>\n",
              "      <td>702.00</td>\n",
              "      <td>1752.00</td>\n",
              "      <td>172.00</td>\n",
              "      <td>2922.00</td>\n",
              "      <td>152.00</td>\n",
              "      <td>327.00</td>\n",
              "    </tr>\n",
              "    <tr>\n",
              "      <th>per</th>\n",
              "      <td>NaN</td>\n",
              "      <td>219.25</td>\n",
              "      <td>35.92</td>\n",
              "      <td>16.18</td>\n",
              "      <td>151.91</td>\n",
              "      <td>46.46</td>\n",
              "      <td>35.92</td>\n",
              "      <td>19.19</td>\n",
              "      <td>13.98</td>\n",
              "      <td>187.73</td>\n",
              "    </tr>\n",
              "    <tr>\n",
              "      <th>bps</th>\n",
              "      <td>12746.00</td>\n",
              "      <td>14647.00</td>\n",
              "      <td>23018.00</td>\n",
              "      <td>26785.00</td>\n",
              "      <td>17937.00</td>\n",
              "      <td>20271.00</td>\n",
              "      <td>23018.00</td>\n",
              "      <td>25977.00</td>\n",
              "      <td>25729.00</td>\n",
              "      <td>NaN</td>\n",
              "    </tr>\n",
              "    <tr>\n",
              "      <th>pbr</th>\n",
              "      <td>2.41</td>\n",
              "      <td>5.32</td>\n",
              "      <td>4.89</td>\n",
              "      <td>2.29</td>\n",
              "      <td>9.09</td>\n",
              "      <td>5.82</td>\n",
              "      <td>4.89</td>\n",
              "      <td>4.10</td>\n",
              "      <td>2.72</td>\n",
              "      <td>NaN</td>\n",
              "    </tr>\n",
              "    <tr>\n",
              "      <th>dividend per share</th>\n",
              "      <td>25.00</td>\n",
              "      <td>30.00</td>\n",
              "      <td>53.00</td>\n",
              "      <td>55.00</td>\n",
              "      <td>NaN</td>\n",
              "      <td>NaN</td>\n",
              "      <td>NaN</td>\n",
              "      <td>NaN</td>\n",
              "      <td>NaN</td>\n",
              "      <td>NaN</td>\n",
              "    </tr>\n",
              "    <tr>\n",
              "      <th>dividend yield ratio</th>\n",
              "      <td>0.08</td>\n",
              "      <td>0.04</td>\n",
              "      <td>0.05</td>\n",
              "      <td>NaN</td>\n",
              "      <td>NaN</td>\n",
              "      <td>NaN</td>\n",
              "      <td>NaN</td>\n",
              "      <td>NaN</td>\n",
              "      <td>NaN</td>\n",
              "      <td>NaN</td>\n",
              "    </tr>\n",
              "    <tr>\n",
              "      <th>dividend payout ratio</th>\n",
              "      <td>NaN</td>\n",
              "      <td>8.29</td>\n",
              "      <td>1.65</td>\n",
              "      <td>NaN</td>\n",
              "      <td>NaN</td>\n",
              "      <td>NaN</td>\n",
              "      <td>NaN</td>\n",
              "      <td>NaN</td>\n",
              "      <td>NaN</td>\n",
              "      <td>NaN</td>\n",
              "    </tr>\n",
              "  </tbody>\n",
              "</table>\n",
              "</div>\n",
              "      <button class=\"colab-df-convert\" onclick=\"convertToInteractive('df-3047c9d3-2225-40a2-888f-6f49bfcb455f')\"\n",
              "              title=\"Convert this dataframe to an interactive table.\"\n",
              "              style=\"display:none;\">\n",
              "        \n",
              "  <svg xmlns=\"http://www.w3.org/2000/svg\" height=\"24px\"viewBox=\"0 0 24 24\"\n",
              "       width=\"24px\">\n",
              "    <path d=\"M0 0h24v24H0V0z\" fill=\"none\"/>\n",
              "    <path d=\"M18.56 5.44l.94 2.06.94-2.06 2.06-.94-2.06-.94-.94-2.06-.94 2.06-2.06.94zm-11 1L8.5 8.5l.94-2.06 2.06-.94-2.06-.94L8.5 2.5l-.94 2.06-2.06.94zm10 10l.94 2.06.94-2.06 2.06-.94-2.06-.94-.94-2.06-.94 2.06-2.06.94z\"/><path d=\"M17.41 7.96l-1.37-1.37c-.4-.4-.92-.59-1.43-.59-.52 0-1.04.2-1.43.59L10.3 9.45l-7.72 7.72c-.78.78-.78 2.05 0 2.83L4 21.41c.39.39.9.59 1.41.59.51 0 1.02-.2 1.41-.59l7.78-7.78 2.81-2.81c.8-.78.8-2.07 0-2.86zM5.41 20L4 18.59l7.72-7.72 1.47 1.35L5.41 20z\"/>\n",
              "  </svg>\n",
              "      </button>\n",
              "      \n",
              "  <style>\n",
              "    .colab-df-container {\n",
              "      display:flex;\n",
              "      flex-wrap:wrap;\n",
              "      gap: 12px;\n",
              "    }\n",
              "\n",
              "    .colab-df-convert {\n",
              "      background-color: #E8F0FE;\n",
              "      border: none;\n",
              "      border-radius: 50%;\n",
              "      cursor: pointer;\n",
              "      display: none;\n",
              "      fill: #1967D2;\n",
              "      height: 32px;\n",
              "      padding: 0 0 0 0;\n",
              "      width: 32px;\n",
              "    }\n",
              "\n",
              "    .colab-df-convert:hover {\n",
              "      background-color: #E2EBFA;\n",
              "      box-shadow: 0px 1px 2px rgba(60, 64, 67, 0.3), 0px 1px 3px 1px rgba(60, 64, 67, 0.15);\n",
              "      fill: #174EA6;\n",
              "    }\n",
              "\n",
              "    [theme=dark] .colab-df-convert {\n",
              "      background-color: #3B4455;\n",
              "      fill: #D2E3FC;\n",
              "    }\n",
              "\n",
              "    [theme=dark] .colab-df-convert:hover {\n",
              "      background-color: #434B5C;\n",
              "      box-shadow: 0px 1px 3px 1px rgba(0, 0, 0, 0.15);\n",
              "      filter: drop-shadow(0px 1px 2px rgba(0, 0, 0, 0.3));\n",
              "      fill: #FFFFFF;\n",
              "    }\n",
              "  </style>\n",
              "\n",
              "      <script>\n",
              "        const buttonEl =\n",
              "          document.querySelector('#df-3047c9d3-2225-40a2-888f-6f49bfcb455f button.colab-df-convert');\n",
              "        buttonEl.style.display =\n",
              "          google.colab.kernel.accessAllowed ? 'block' : 'none';\n",
              "\n",
              "        async function convertToInteractive(key) {\n",
              "          const element = document.querySelector('#df-3047c9d3-2225-40a2-888f-6f49bfcb455f');\n",
              "          const dataTable =\n",
              "            await google.colab.kernel.invokeFunction('convertToInteractive',\n",
              "                                                     [key], {});\n",
              "          if (!dataTable) return;\n",
              "\n",
              "          const docLinkHtml = 'Like what you see? Visit the ' +\n",
              "            '<a target=\"_blank\" href=https://colab.research.google.com/notebooks/data_table.ipynb>data table notebook</a>'\n",
              "            + ' to learn more about interactive tables.';\n",
              "          element.innerHTML = '';\n",
              "          dataTable['output_type'] = 'display_data';\n",
              "          await google.colab.output.renderOutput(dataTable, element);\n",
              "          const docLink = document.createElement('div');\n",
              "          docLink.innerHTML = docLinkHtml;\n",
              "          element.appendChild(docLink);\n",
              "        }\n",
              "      </script>\n",
              "    </div>\n",
              "  </div>\n",
              "  "
            ]
          },
          "metadata": {},
          "execution_count": 15
        }
      ]
    },
    {
      "cell_type": "code",
      "metadata": {
        "id": "lKC3VSctReOq"
      },
      "source": [
        "from dateutil import relativedelta\n",
        "import seaborn as sns\n",
        "import matplotlib.pyplot as plt\n",
        "\n",
        "class Analyser:\n",
        "  def __init__(self, price_df, fundamental_df):\n",
        "    self.price_df = price_df\n",
        "    self.fundamental_df = fundamental_df\n",
        "    self.mixed_df = self.get_mixed_df()\n",
        "\n",
        "  def find_date(self, year, month):\n",
        "    # 결산일 고려 (2달)\n",
        "    year,month = int(year), int(month)\n",
        "    next = datetime.date(year,month,1) + relativedelta.relativedelta(months=2)\n",
        "    year, month = next.year, next.month\n",
        "\n",
        "    start = str(year) + '-' + str(month) + '-' + '01'\n",
        "    end = str(year) + '-' + str(month) + '-' + '20'\n",
        "    return self.price_df.loc[start:end].index.values[0]\n",
        "\n",
        "  def get_mixed_df(self):\n",
        "    price_dic = {}\n",
        "    cnt = 0\n",
        "    for i in [(x[:4], x[5:7]) for x in self.fundamental_df.columns.values]:\n",
        "      try:\n",
        "        price_dic[self.fundamental_df.columns.values[cnt]] = self.price_df.loc[self.find_date(i[0],i[1])]['Close']\n",
        "      except:\n",
        "        price_dic[self.fundamental_df.columns.values[cnt]] = 0\n",
        "      cnt+=1\n",
        "    return self.fundamental_df.append(pd.DataFrame(data=price_dic,  index = ['Price']))\n",
        "\n",
        "  def get_heatmap(self):\n",
        "    # correlation heatmap\n",
        "    corrmat = self.mixed_df.transpose().corr().abs() \n",
        "    plt.subplots(figsize=(12,12))\n",
        "    sns.heatmap(corrmat, annot = True)\n",
        "\n",
        "  def get_influential(self, num=6):\n",
        "    return self.get_mixed_df().transpose().corr()['Price'].sort_values(ascending = False).head(num)"
      ],
      "execution_count": 16,
      "outputs": []
    },
    {
      "cell_type": "code",
      "source": [
        "stock_df = stock.get_price(start_date, 'day')\n",
        "stock_df['Change'] = stock_df['Close'][1:]/stock_df['Close'][:-1].values"
      ],
      "metadata": {
        "id": "00unuq-sZx1y"
      },
      "execution_count": 17,
      "outputs": []
    },
    {
      "cell_type": "code",
      "metadata": {
        "id": "N9qm8v2rSKno"
      },
      "source": [
        "analyser = Analyser(stock_df, fundamental_df)"
      ],
      "execution_count": 18,
      "outputs": []
    },
    {
      "cell_type": "code",
      "metadata": {
        "id": "snlG-VJ3YXwh",
        "outputId": "16283b84-a611-4835-eae8-a409b088a75f",
        "colab": {
          "base_uri": "https://localhost:8080/",
          "height": 801
        }
      },
      "source": [
        "analyser.get_heatmap()"
      ],
      "execution_count": 19,
      "outputs": [
        {
          "output_type": "display_data",
          "data": {
            "text/plain": [
              "<Figure size 864x864 with 2 Axes>"
            ],
            "image/png": "[encoded data removed]"
          },
          "metadata": {
            "needs_background": "light"
          }
        }
      ]
    },
    {
      "cell_type": "code",
      "metadata": {
        "colab": {
          "base_uri": "https://localhost:8080/"
        },
        "id": "IW0-rA2crvcS",
        "outputId": "b47ca1d8-6cd2-454a-c01c-9b579bde18f6"
      },
      "source": [
        "analyser.get_influential()[1:]"
      ],
      "execution_count": 20,
      "outputs": [
        {
          "output_type": "execute_result",
          "data": {
            "text/plain": [
              "dividend payout ratio    1.000000\n",
              "pbr                      0.882945\n",
              "quick ratio              0.669018\n",
              "debt ratio               0.471506\n",
              "operating margin         0.276788\n",
              "Name: Price, dtype: float64"
            ]
          },
          "metadata": {},
          "execution_count": 20
        }
      ]
    },
    {
      "cell_type": "markdown",
      "source": [
        "fundamental growth"
      ],
      "metadata": {
        "id": "fBKNH2FATCpc"
      }
    }
  ]
}