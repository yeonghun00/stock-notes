{
  "nbformat": 4,
  "nbformat_minor": 0,
  "metadata": {
    "colab": {
      "name": "Untitled81.ipynb",
      "provenance": [],
      "authorship_tag": "ABX9TyNylF5YD5fDQ13lkEfcs3YH",
      "include_colab_link": true
    },
    "kernelspec": {
      "name": "python3",
      "display_name": "Python 3"
    },
    "language_info": {
      "name": "python"
    }
  },
  "cells": [
    {
      "cell_type": "markdown",
      "metadata": {
        "id": "view-in-github",
        "colab_type": "text"
      },
      "source": [
        "<a href=\"https://colab.research.google.com/github/yeonghun00/stock-notes/blob/main/analysis/market.ipynb\" target=\"_parent\"><img src=\"https://colab.research.google.com/assets/colab-badge.svg\" alt=\"Open In Colab\"/></a>"
      ]
    },
    {
      "cell_type": "markdown",
      "source": [
        "- 코스피/코스닥 시총 100순위 변동\n",
        "- 1주일/1달 주도주 분석\n",
        "- 상승률 변동 (20, 60, 120, 250) \n",
        "- 강한 테마/이슈 뉴스검색어와 분석으로 연속성 검증\n",
        "- 조회수순? 영향력 강한 1주일 이내 공시 분석기\n",
        "- 앞으로 상장할 주식 1주일 치 이슈에 부합하나\n",
        "- 업황 분석기: 지난 1주 1달치 업황 상승률/ 거래대금 순위"
      ],
      "metadata": {
        "id": "5XrIYSIt2bxk"
      }
    },
    {
      "cell_type": "code",
      "execution_count": 15,
      "metadata": {
        "id": "Yj51Nzgi2ajj"
      },
      "outputs": [],
      "source": [
        "import requests\n",
        "from datetime import date\n",
        "import pandas as pd\n",
        "from io import StringIO"
      ]
    },
    {
      "cell_type": "code",
      "source": [
        "market_type = {\n",
        "    'all':'ALL',\n",
        "    'kospi':'STK',\n",
        "    'kosdaq':'KSQ'\n",
        "}\n",
        "\n",
        "def get_ranking(market, ranking_type, start_date, end_date=date.today().strftime(\"%Y%m%d\")):\n",
        "  gen_url = 'http://data.krx.co.kr/comm/fileDn/GenerateOTP/generate.cmd'\n",
        "  url = ''\n",
        "  if ranking_type == 'highest': url = 'dbms/MDC/EASY/ranking/MDCEASY01501'\n",
        "  elif ranking_type == 'traded': url = 'dbms/MDC/EASY/ranking/MDCEASY01601'\n",
        "  elif ranking_type == 'marketcap': url = 'dbms/MDC/EASY/ranking/MDCEASY01701'\n",
        "  data = {\n",
        "    'locale': 'ko_KR',\n",
        "    'mktId': market,\n",
        "    'itmTpCd': '1',\n",
        "    'itmTpCd2': '1',\n",
        "    'trdDd': start_date,\n",
        "    'strtDd': start_date,\n",
        "    'endDd': end_date,\n",
        "    'stkprcTpCd': 'Y',\n",
        "    'share': '1',\n",
        "    'money': '1',\n",
        "    'csvxls_isNo': 'false',\n",
        "    'name': 'fileDown',\n",
        "    'url': url\n",
        "  }\n",
        "  gen_key = requests.post(gen_url, data=data).text\n",
        "  down_url = 'http://data.krx.co.kr/comm/fileDn/download_csv/download.cmd'\n",
        "  data = {'code':gen_key}\n",
        "  r = requests.post(down_url, data=data)\n",
        "  r.encoding = 'EUC-KR'\n",
        "  return pd.read_csv(StringIO(r.text))"
      ],
      "metadata": {
        "id": "F1ua2p9g2pit"
      },
      "execution_count": 16,
      "outputs": []
    },
    {
      "cell_type": "markdown",
      "source": [
        "코스피/코스닥 시총 100순위 변동"
      ],
      "metadata": {
        "id": "J3xyGLOCTMqX"
      }
    },
    {
      "cell_type": "code",
      "source": [
        "df = pd.DataFrame()\n",
        "for d in pd.date_range(start='2021/01/01', periods=19, freq='1MS'):\n",
        "  t = pd.DataFrame()\n",
        "  dt = d\n",
        "  while t.empty:\n",
        "    t = get_ranking(market_type['kosdaq'], 'marketcap', dt.strftime('%Y%m%d'))[['순위', '종목명']]\n",
        "    t['date'] = dt\n",
        "    dt += pd.DateOffset(1)\n",
        "  df = df.append(t, ignore_index=True)"
      ],
      "metadata": {
        "id": "uJvYHZzm9HXf"
      },
      "execution_count": 17,
      "outputs": []
    },
    {
      "cell_type": "code",
      "source": [
        "df"
      ],
      "metadata": {
        "colab": {
          "base_uri": "https://localhost:8080/",
          "height": 424
        },
        "id": "fVITzwiyeI6I",
        "outputId": "2c3041a4-a4b7-4192-adc5-86144c21dc55"
      },
      "execution_count": 18,
      "outputs": [
        {
          "output_type": "execute_result",
          "data": {
            "text/plain": [
              "     순위       종목명       date\n",
              "0     1  셀트리온헬스케어 2021-01-04\n",
              "1     2    셀트리온제약 2021-01-04\n",
              "2     3     에이치엘비 2021-01-04\n",
              "3     4      알테오젠 2021-01-04\n",
              "4     5        씨젠 2021-01-04\n",
              "..   ..       ...        ...\n",
              "945  46        고영 2022-07-01\n",
              "946  47    아프리카TV 2022-07-01\n",
              "947  48   메가스터디교육 2022-07-01\n",
              "948  49  NICE평가정보 2022-07-01\n",
              "949  50   하나머티리얼즈 2022-07-01\n",
              "\n",
              "[950 rows x 3 columns]"
            ],
            "text/html": [
              "\n",
              "  <div id=\"df-7e952c24-0f82-4b77-a1b6-c1ba20b6d5aa\">\n",
              "    <div class=\"colab-df-container\">\n",
              "      <div>\n",
              "<style scoped>\n",
              "    .dataframe tbody tr th:only-of-type {\n",
              "        vertical-align: middle;\n",
              "    }\n",
              "\n",
              "    .dataframe tbody tr th {\n",
              "        vertical-align: top;\n",
              "    }\n",
              "\n",
              "    .dataframe thead th {\n",
              "        text-align: right;\n",
              "    }\n",
              "</style>\n",
              "<table border=\"1\" class=\"dataframe\">\n",
              "  <thead>\n",
              "    <tr style=\"text-align: right;\">\n",
              "      <th></th>\n",
              "      <th>순위</th>\n",
              "      <th>종목명</th>\n",
              "      <th>date</th>\n",
              "    </tr>\n",
              "  </thead>\n",
              "  <tbody>\n",
              "    <tr>\n",
              "      <th>0</th>\n",
              "      <td>1</td>\n",
              "      <td>셀트리온헬스케어</td>\n",
              "      <td>2021-01-04</td>\n",
              "    </tr>\n",
              "    <tr>\n",
              "      <th>1</th>\n",
              "      <td>2</td>\n",
              "      <td>셀트리온제약</td>\n",
              "      <td>2021-01-04</td>\n",
              "    </tr>\n",
              "    <tr>\n",
              "      <th>2</th>\n",
              "      <td>3</td>\n",
              "      <td>에이치엘비</td>\n",
              "      <td>2021-01-04</td>\n",
              "    </tr>\n",
              "    <tr>\n",
              "      <th>3</th>\n",
              "      <td>4</td>\n",
              "      <td>알테오젠</td>\n",
              "      <td>2021-01-04</td>\n",
              "    </tr>\n",
              "    <tr>\n",
              "      <th>4</th>\n",
              "      <td>5</td>\n",
              "      <td>씨젠</td>\n",
              "      <td>2021-01-04</td>\n",
              "    </tr>\n",
              "    <tr>\n",
              "      <th>...</th>\n",
              "      <td>...</td>\n",
              "      <td>...</td>\n",
              "      <td>...</td>\n",
              "    </tr>\n",
              "    <tr>\n",
              "      <th>945</th>\n",
              "      <td>46</td>\n",
              "      <td>고영</td>\n",
              "      <td>2022-07-01</td>\n",
              "    </tr>\n",
              "    <tr>\n",
              "      <th>946</th>\n",
              "      <td>47</td>\n",
              "      <td>아프리카TV</td>\n",
              "      <td>2022-07-01</td>\n",
              "    </tr>\n",
              "    <tr>\n",
              "      <th>947</th>\n",
              "      <td>48</td>\n",
              "      <td>메가스터디교육</td>\n",
              "      <td>2022-07-01</td>\n",
              "    </tr>\n",
              "    <tr>\n",
              "      <th>948</th>\n",
              "      <td>49</td>\n",
              "      <td>NICE평가정보</td>\n",
              "      <td>2022-07-01</td>\n",
              "    </tr>\n",
              "    <tr>\n",
              "      <th>949</th>\n",
              "      <td>50</td>\n",
              "      <td>하나머티리얼즈</td>\n",
              "      <td>2022-07-01</td>\n",
              "    </tr>\n",
              "  </tbody>\n",
              "</table>\n",
              "<p>950 rows × 3 columns</p>\n",
              "</div>\n",
              "      <button class=\"colab-df-convert\" onclick=\"convertToInteractive('df-7e952c24-0f82-4b77-a1b6-c1ba20b6d5aa')\"\n",
              "              title=\"Convert this dataframe to an interactive table.\"\n",
              "              style=\"display:none;\">\n",
              "        \n",
              "  <svg xmlns=\"http://www.w3.org/2000/svg\" height=\"24px\"viewBox=\"0 0 24 24\"\n",
              "       width=\"24px\">\n",
              "    <path d=\"M0 0h24v24H0V0z\" fill=\"none\"/>\n",
              "    <path d=\"M18.56 5.44l.94 2.06.94-2.06 2.06-.94-2.06-.94-.94-2.06-.94 2.06-2.06.94zm-11 1L8.5 8.5l.94-2.06 2.06-.94-2.06-.94L8.5 2.5l-.94 2.06-2.06.94zm10 10l.94 2.06.94-2.06 2.06-.94-2.06-.94-.94-2.06-.94 2.06-2.06.94z\"/><path d=\"M17.41 7.96l-1.37-1.37c-.4-.4-.92-.59-1.43-.59-.52 0-1.04.2-1.43.59L10.3 9.45l-7.72 7.72c-.78.78-.78 2.05 0 2.83L4 21.41c.39.39.9.59 1.41.59.51 0 1.02-.2 1.41-.59l7.78-7.78 2.81-2.81c.8-.78.8-2.07 0-2.86zM5.41 20L4 18.59l7.72-7.72 1.47 1.35L5.41 20z\"/>\n",
              "  </svg>\n",
              "      </button>\n",
              "      \n",
              "  <style>\n",
              "    .colab-df-container {\n",
              "      display:flex;\n",
              "      flex-wrap:wrap;\n",
              "      gap: 12px;\n",
              "    }\n",
              "\n",
              "    .colab-df-convert {\n",
              "      background-color: #E8F0FE;\n",
              "      border: none;\n",
              "      border-radius: 50%;\n",
              "      cursor: pointer;\n",
              "      display: none;\n",
              "      fill: #1967D2;\n",
              "      height: 32px;\n",
              "      padding: 0 0 0 0;\n",
              "      width: 32px;\n",
              "    }\n",
              "\n",
              "    .colab-df-convert:hover {\n",
              "      background-color: #E2EBFA;\n",
              "      box-shadow: 0px 1px 2px rgba(60, 64, 67, 0.3), 0px 1px 3px 1px rgba(60, 64, 67, 0.15);\n",
              "      fill: #174EA6;\n",
              "    }\n",
              "\n",
              "    [theme=dark] .colab-df-convert {\n",
              "      background-color: #3B4455;\n",
              "      fill: #D2E3FC;\n",
              "    }\n",
              "\n",
              "    [theme=dark] .colab-df-convert:hover {\n",
              "      background-color: #434B5C;\n",
              "      box-shadow: 0px 1px 3px 1px rgba(0, 0, 0, 0.15);\n",
              "      filter: drop-shadow(0px 1px 2px rgba(0, 0, 0, 0.3));\n",
              "      fill: #FFFFFF;\n",
              "    }\n",
              "  </style>\n",
              "\n",
              "      <script>\n",
              "        const buttonEl =\n",
              "          document.querySelector('#df-7e952c24-0f82-4b77-a1b6-c1ba20b6d5aa button.colab-df-convert');\n",
              "        buttonEl.style.display =\n",
              "          google.colab.kernel.accessAllowed ? 'block' : 'none';\n",
              "\n",
              "        async function convertToInteractive(key) {\n",
              "          const element = document.querySelector('#df-7e952c24-0f82-4b77-a1b6-c1ba20b6d5aa');\n",
              "          const dataTable =\n",
              "            await google.colab.kernel.invokeFunction('convertToInteractive',\n",
              "                                                     [key], {});\n",
              "          if (!dataTable) return;\n",
              "\n",
              "          const docLinkHtml = 'Like what you see? Visit the ' +\n",
              "            '<a target=\"_blank\" href=https://colab.research.google.com/notebooks/data_table.ipynb>data table notebook</a>'\n",
              "            + ' to learn more about interactive tables.';\n",
              "          element.innerHTML = '';\n",
              "          dataTable['output_type'] = 'display_data';\n",
              "          await google.colab.output.renderOutput(dataTable, element);\n",
              "          const docLink = document.createElement('div');\n",
              "          docLink.innerHTML = docLinkHtml;\n",
              "          element.appendChild(docLink);\n",
              "        }\n",
              "      </script>\n",
              "    </div>\n",
              "  </div>\n",
              "  "
            ]
          },
          "metadata": {},
          "execution_count": 18
        }
      ]
    },
    {
      "cell_type": "code",
      "source": [
        "i = df[df['순위'].isin(range(10,51))].index\n",
        "t_df = df.drop(i)"
      ],
      "metadata": {
        "id": "2KGU91fKefpO"
      },
      "execution_count": 19,
      "outputs": []
    },
    {
      "cell_type": "code",
      "source": [
        "!pip install colour"
      ],
      "metadata": {
        "id": "YdBF90pyTC9B",
        "outputId": "76f4b935-b0c0-4fb2-acee-b930f288b344",
        "colab": {
          "base_uri": "https://localhost:8080/"
        }
      },
      "execution_count": 20,
      "outputs": [
        {
          "output_type": "stream",
          "name": "stdout",
          "text": [
            "Looking in indexes: https://pypi.org/simple, https://us-python.pkg.dev/colab-wheels/public/simple/\n",
            "Requirement already satisfied: colour in /usr/local/lib/python3.7/dist-packages (0.1.5)\n"
          ]
        }
      ]
    },
    {
      "cell_type": "code",
      "source": [
        "import altair as alt\n",
        "import pandas as pd\n",
        "from colour import Color\n",
        "\n",
        "source = t_df\n",
        "len = t_df['종목명'].nunique()\n",
        "\n",
        "red = Color(\"red\")\n",
        "colors = list(red.range_to(Color(\"green\"),len))\n",
        "\n",
        "alt.Chart(source).mark_line(point = True).encode(\n",
        "    x = alt.X(\"date:O\", timeUnit=\"yearmonthdate\", title=\"date\"),\n",
        "    y=\"rank:O\",\n",
        "    color=alt.Color(\"종목명\")\n",
        ").transform_window(\n",
        "    rank=\"rank()\",\n",
        "    sort=[alt.SortField(\"순위\", order=\"ascending\")],\n",
        "    groupby=[\"date\"]\n",
        ").properties(\n",
        "    width=1000,\n",
        "    height=500,\n",
        ")"
      ],
      "metadata": {
        "colab": {
          "base_uri": "https://localhost:8080/",
          "height": 564
        },
        "id": "O65zHbleCP74",
        "outputId": "10475103-231e-458f-f0cd-b63599be2b1a"
      },
      "execution_count": 21,
      "outputs": [
        {
          "output_type": "execute_result",
          "data": {
            "text/html": [
              "\n",
              "<div id=\"altair-viz-017b7c295bd34c079dc6f36a3c49de20\"></div>\n",
              "<script type=\"text/javascript\">\n",
              "  var VEGA_DEBUG = (typeof VEGA_DEBUG == \"undefined\") ? {} : VEGA_DEBUG;\n",
              "  (function(spec, embedOpt){\n",
              "    let outputDiv = document.currentScript.previousElementSibling;\n",
              "    if (outputDiv.id !== \"altair-viz-017b7c295bd34c079dc6f36a3c49de20\") {\n",
              "      outputDiv = document.getElementById(\"altair-viz-017b7c295bd34c079dc6f36a3c49de20\");\n",
              "    }\n",
              "    const paths = {\n",
              "      \"vega\": \"https://cdn.jsdelivr.net/npm//vega@5?noext\",\n",
              "      \"vega-lib\": \"https://cdn.jsdelivr.net/npm//vega-lib?noext\",\n",
              "      \"vega-lite\": \"https://cdn.jsdelivr.net/npm//vega-lite@4.17.0?noext\",\n",
              "      \"vega-embed\": \"https://cdn.jsdelivr.net/npm//vega-embed@6?noext\",\n",
              "    };\n",
              "\n",
              "    function maybeLoadScript(lib, version) {\n",
              "      var key = `${lib.replace(\"-\", \"\")}_version`;\n",
              "      return (VEGA_DEBUG[key] == version) ?\n",
              "        Promise.resolve(paths[lib]) :\n",
              "        new Promise(function(resolve, reject) {\n",
              "          var s = document.createElement('script');\n",
              "          document.getElementsByTagName(\"head\")[0].appendChild(s);\n",
              "          s.async = true;\n",
              "          s.onload = () => {\n",
              "            VEGA_DEBUG[key] = version;\n",
              "            return resolve(paths[lib]);\n",
              "          };\n",
              "          s.onerror = () => reject(`Error loading script: ${paths[lib]}`);\n",
              "          s.src = paths[lib];\n",
              "        });\n",
              "    }\n",
              "\n",
              "    function showError(err) {\n",
              "      outputDiv.innerHTML = `<div class=\"error\" style=\"color:red;\">${err}</div>`;\n",
              "      throw err;\n",
              "    }\n",
              "\n",
              "    function displayChart(vegaEmbed) {\n",
              "      vegaEmbed(outputDiv, spec, embedOpt)\n",
              "        .catch(err => showError(`Javascript Error: ${err.message}<br>This usually means there's a typo in your chart specification. See the javascript console for the full traceback.`));\n",
              "    }\n",
              "\n",
              "    if(typeof define === \"function\" && define.amd) {\n",
              "      requirejs.config({paths});\n",
              "      require([\"vega-embed\"], displayChart, err => showError(`Error loading script: ${err.message}`));\n",
              "    } else {\n",
              "      maybeLoadScript(\"vega\", \"5\")\n",
              "        .then(() => maybeLoadScript(\"vega-lite\", \"4.17.0\"))\n",
              "        .then(() => maybeLoadScript(\"vega-embed\", \"6\"))\n",
              "        .catch(showError)\n",
              "        .then(() => displayChart(vegaEmbed));\n",
              "    }\n",
              "  })({\"config\": {\"view\": {\"continuousWidth\": 400, \"continuousHeight\": 300}}, \"data\": {\"name\": \"data-31f38c907fd058eafe92fe7282b344e5\"}, \"mark\": {\"type\": \"line\", \"point\": true}, \"encoding\": {\"color\": {\"field\": \"\\uc885\\ubaa9\\uba85\", \"type\": \"nominal\"}, \"x\": {\"field\": \"date\", \"timeUnit\": \"yearmonthdate\", \"title\": \"date\", \"type\": \"ordinal\"}, \"y\": {\"field\": \"rank\", \"type\": \"ordinal\"}}, \"height\": 500, \"transform\": [{\"window\": [{\"op\": \"rank\", \"field\": \"\", \"as\": \"rank\"}], \"groupby\": [\"date\"], \"sort\": [{\"field\": \"\\uc21c\\uc704\", \"order\": \"ascending\"}]}], \"width\": 1000, \"$schema\": \"https://vega.github.io/schema/vega-lite/v4.17.0.json\", \"datasets\": {\"data-31f38c907fd058eafe92fe7282b344e5\": [{\"\\uc21c\\uc704\": 1, \"\\uc885\\ubaa9\\uba85\": \"\\uc140\\ud2b8\\ub9ac\\uc628\\ud5ec\\uc2a4\\ucf00\\uc5b4\", \"date\": \"2021-01-04T00:00:00\"}, {\"\\uc21c\\uc704\": 2, \"\\uc885\\ubaa9\\uba85\": \"\\uc140\\ud2b8\\ub9ac\\uc628\\uc81c\\uc57d\", \"date\": \"2021-01-04T00:00:00\"}, {\"\\uc21c\\uc704\": 3, \"\\uc885\\ubaa9\\uba85\": \"\\uc5d0\\uc774\\uce58\\uc5d8\\ube44\", \"date\": \"2021-01-04T00:00:00\"}, {\"\\uc21c\\uc704\": 4, \"\\uc885\\ubaa9\\uba85\": \"\\uc54c\\ud14c\\uc624\\uc820\", \"date\": \"2021-01-04T00:00:00\"}, {\"\\uc21c\\uc704\": 5, \"\\uc885\\ubaa9\\uba85\": \"\\uc528\\uc820\", \"date\": \"2021-01-04T00:00:00\"}, {\"\\uc21c\\uc704\": 6, \"\\uc885\\ubaa9\\uba85\": \"\\uc5d0\\ucf54\\ud504\\ub85c\\ube44\\uc5e0\", \"date\": \"2021-01-04T00:00:00\"}, {\"\\uc21c\\uc704\": 7, \"\\uc885\\ubaa9\\uba85\": \"SK\\uba38\\ud2f0\\ub9ac\\uc5bc\\uc988\", \"date\": \"2021-01-04T00:00:00\"}, {\"\\uc21c\\uc704\": 8, \"\\uc885\\ubaa9\\uba85\": \"\\uce74\\uce74\\uc624\\uac8c\\uc784\\uc988\", \"date\": \"2021-01-04T00:00:00\"}, {\"\\uc21c\\uc704\": 9, \"\\uc885\\ubaa9\\uba85\": \"\\ud384\\uc5b4\\ube44\\uc2a4\", \"date\": \"2021-01-04T00:00:00\"}, {\"\\uc21c\\uc704\": 1, \"\\uc885\\ubaa9\\uba85\": \"\\uc140\\ud2b8\\ub9ac\\uc628\\ud5ec\\uc2a4\\ucf00\\uc5b4\", \"date\": \"2021-02-01T00:00:00\"}, {\"\\uc21c\\uc704\": 2, \"\\uc885\\ubaa9\\uba85\": \"\\uc140\\ud2b8\\ub9ac\\uc628\\uc81c\\uc57d\", \"date\": \"2021-02-01T00:00:00\"}, {\"\\uc21c\\uc704\": 3, \"\\uc885\\ubaa9\\uba85\": \"\\uc5d0\\uc774\\uce58\\uc5d8\\ube44\", \"date\": \"2021-02-01T00:00:00\"}, {\"\\uc21c\\uc704\": 4, \"\\uc885\\ubaa9\\uba85\": \"\\uc528\\uc820\", \"date\": \"2021-02-01T00:00:00\"}, {\"\\uc21c\\uc704\": 5, \"\\uc885\\ubaa9\\uba85\": \"\\ud384\\uc5b4\\ube44\\uc2a4\", \"date\": \"2021-02-01T00:00:00\"}, {\"\\uc21c\\uc704\": 6, \"\\uc885\\ubaa9\\uba85\": \"\\uc54c\\ud14c\\uc624\\uc820\", \"date\": \"2021-02-01T00:00:00\"}, {\"\\uc21c\\uc704\": 7, \"\\uc885\\ubaa9\\uba85\": \"\\uc5d0\\ucf54\\ud504\\ub85c\\ube44\\uc5e0\", \"date\": \"2021-02-01T00:00:00\"}, {\"\\uc21c\\uc704\": 8, \"\\uc885\\ubaa9\\uba85\": \"\\uce74\\uce74\\uc624\\uac8c\\uc784\\uc988\", \"date\": \"2021-02-01T00:00:00\"}, {\"\\uc21c\\uc704\": 9, \"\\uc885\\ubaa9\\uba85\": \"CJ ENM\", \"date\": \"2021-02-01T00:00:00\"}, {\"\\uc21c\\uc704\": 1, \"\\uc885\\ubaa9\\uba85\": \"\\uc140\\ud2b8\\ub9ac\\uc628\\ud5ec\\uc2a4\\ucf00\\uc5b4\", \"date\": \"2021-03-02T00:00:00\"}, {\"\\uc21c\\uc704\": 2, \"\\uc885\\ubaa9\\uba85\": \"\\uc140\\ud2b8\\ub9ac\\uc628\\uc81c\\uc57d\", \"date\": \"2021-03-02T00:00:00\"}, {\"\\uc21c\\uc704\": 3, \"\\uc885\\ubaa9\\uba85\": \"\\uce74\\uce74\\uc624\\uac8c\\uc784\\uc988\", \"date\": \"2021-03-02T00:00:00\"}, {\"\\uc21c\\uc704\": 4, \"\\uc885\\ubaa9\\uba85\": \"\\ud384\\uc5b4\\ube44\\uc2a4\", \"date\": \"2021-03-02T00:00:00\"}, {\"\\uc21c\\uc704\": 5, \"\\uc885\\ubaa9\\uba85\": \"\\uc5d0\\uc774\\uce58\\uc5d8\\ube44\", \"date\": \"2021-03-02T00:00:00\"}, {\"\\uc21c\\uc704\": 6, \"\\uc885\\ubaa9\\uba85\": \"\\uc54c\\ud14c\\uc624\\uc820\", \"date\": \"2021-03-02T00:00:00\"}, {\"\\uc21c\\uc704\": 7, \"\\uc885\\ubaa9\\uba85\": \"\\uc5d0\\ucf54\\ud504\\ub85c\\ube44\\uc5e0\", \"date\": \"2021-03-02T00:00:00\"}, {\"\\uc21c\\uc704\": 8, \"\\uc885\\ubaa9\\uba85\": \"\\uc528\\uc820\", \"date\": \"2021-03-02T00:00:00\"}, {\"\\uc21c\\uc704\": 9, \"\\uc885\\ubaa9\\uba85\": \"SK\\uba38\\ud2f0\\ub9ac\\uc5bc\\uc988\", \"date\": \"2021-03-02T00:00:00\"}, {\"\\uc21c\\uc704\": 1, \"\\uc885\\ubaa9\\uba85\": \"\\uc140\\ud2b8\\ub9ac\\uc628\\ud5ec\\uc2a4\\ucf00\\uc5b4\", \"date\": \"2021-04-01T00:00:00\"}, {\"\\uc21c\\uc704\": 2, \"\\uc885\\ubaa9\\uba85\": \"\\uc140\\ud2b8\\ub9ac\\uc628\\uc81c\\uc57d\", \"date\": \"2021-04-01T00:00:00\"}, {\"\\uc21c\\uc704\": 3, \"\\uc885\\ubaa9\\uba85\": \"\\ud384\\uc5b4\\ube44\\uc2a4\", \"date\": \"2021-04-01T00:00:00\"}, {\"\\uc21c\\uc704\": 4, \"\\uc885\\ubaa9\\uba85\": \"\\uc5d0\\uc774\\uce58\\uc5d8\\ube44\", \"date\": \"2021-04-01T00:00:00\"}, {\"\\uc21c\\uc704\": 5, \"\\uc885\\ubaa9\\uba85\": \"\\uce74\\uce74\\uc624\\uac8c\\uc784\\uc988\", \"date\": \"2021-04-01T00:00:00\"}, {\"\\uc21c\\uc704\": 6, \"\\uc885\\ubaa9\\uba85\": \"\\uc528\\uc820\", \"date\": \"2021-04-01T00:00:00\"}, {\"\\uc21c\\uc704\": 7, \"\\uc885\\ubaa9\\uba85\": \"\\uc5d0\\ucf54\\ud504\\ub85c\\ube44\\uc5e0\", \"date\": \"2021-04-01T00:00:00\"}, {\"\\uc21c\\uc704\": 8, \"\\uc885\\ubaa9\\uba85\": \"SK\\uba38\\ud2f0\\ub9ac\\uc5bc\\uc988\", \"date\": \"2021-04-01T00:00:00\"}, {\"\\uc21c\\uc704\": 9, \"\\uc885\\ubaa9\\uba85\": \"CJ ENM\", \"date\": \"2021-04-01T00:00:00\"}, {\"\\uc21c\\uc704\": 1, \"\\uc885\\ubaa9\\uba85\": \"\\uc140\\ud2b8\\ub9ac\\uc628\\ud5ec\\uc2a4\\ucf00\\uc5b4\", \"date\": \"2021-05-03T00:00:00\"}, {\"\\uc21c\\uc704\": 2, \"\\uc885\\ubaa9\\uba85\": \"\\uc140\\ud2b8\\ub9ac\\uc628\\uc81c\\uc57d\", \"date\": \"2021-05-03T00:00:00\"}, {\"\\uc21c\\uc704\": 3, \"\\uc885\\ubaa9\\uba85\": \"\\uce74\\uce74\\uc624\\uac8c\\uc784\\uc988\", \"date\": \"2021-05-03T00:00:00\"}, {\"\\uc21c\\uc704\": 4, \"\\uc885\\ubaa9\\uba85\": \"\\uc5d0\\ucf54\\ud504\\ub85c\\ube44\\uc5e0\", \"date\": \"2021-05-03T00:00:00\"}, {\"\\uc21c\\uc704\": 5, \"\\uc885\\ubaa9\\uba85\": \"\\ud384\\uc5b4\\ube44\\uc2a4\", \"date\": \"2021-05-03T00:00:00\"}, {\"\\uc21c\\uc704\": 6, \"\\uc885\\ubaa9\\uba85\": \"SK\\uba38\\ud2f0\\ub9ac\\uc5bc\\uc988\", \"date\": \"2021-05-03T00:00:00\"}, {\"\\uc21c\\uc704\": 7, \"\\uc885\\ubaa9\\uba85\": \"\\uc5d0\\uc774\\uce58\\uc5d8\\ube44\", \"date\": \"2021-05-03T00:00:00\"}, {\"\\uc21c\\uc704\": 8, \"\\uc885\\ubaa9\\uba85\": \"\\uc54c\\ud14c\\uc624\\uc820\", \"date\": \"2021-05-03T00:00:00\"}, {\"\\uc21c\\uc704\": 9, \"\\uc885\\ubaa9\\uba85\": \"CJ ENM\", \"date\": \"2021-05-03T00:00:00\"}, {\"\\uc21c\\uc704\": 1, \"\\uc885\\ubaa9\\uba85\": \"\\uc140\\ud2b8\\ub9ac\\uc628\\ud5ec\\uc2a4\\ucf00\\uc5b4\", \"date\": \"2021-06-01T00:00:00\"}, {\"\\uc21c\\uc704\": 2, \"\\uc885\\ubaa9\\uba85\": \"\\uc140\\ud2b8\\ub9ac\\uc628\\uc81c\\uc57d\", \"date\": \"2021-06-01T00:00:00\"}, {\"\\uc21c\\uc704\": 3, \"\\uc885\\ubaa9\\uba85\": \"\\ud384\\uc5b4\\ube44\\uc2a4\", \"date\": \"2021-06-01T00:00:00\"}, {\"\\uc21c\\uc704\": 4, \"\\uc885\\ubaa9\\uba85\": \"\\uce74\\uce74\\uc624\\uac8c\\uc784\\uc988\", \"date\": \"2021-06-01T00:00:00\"}, {\"\\uc21c\\uc704\": 5, \"\\uc885\\ubaa9\\uba85\": \"\\uc5d0\\ucf54\\ud504\\ub85c\\ube44\\uc5e0\", \"date\": \"2021-06-01T00:00:00\"}, {\"\\uc21c\\uc704\": 6, \"\\uc885\\ubaa9\\uba85\": \"\\uc5d0\\uc774\\uce58\\uc5d8\\ube44\", \"date\": \"2021-06-01T00:00:00\"}, {\"\\uc21c\\uc704\": 7, \"\\uc885\\ubaa9\\uba85\": \"CJ ENM\", \"date\": \"2021-06-01T00:00:00\"}, {\"\\uc21c\\uc704\": 8, \"\\uc885\\ubaa9\\uba85\": \"\\uc528\\uc820\", \"date\": \"2021-06-01T00:00:00\"}, {\"\\uc21c\\uc704\": 9, \"\\uc885\\ubaa9\\uba85\": \"SK\\uba38\\ud2f0\\ub9ac\\uc5bc\\uc988\", \"date\": \"2021-06-01T00:00:00\"}, {\"\\uc21c\\uc704\": 1, \"\\uc885\\ubaa9\\uba85\": \"\\uc140\\ud2b8\\ub9ac\\uc628\\ud5ec\\uc2a4\\ucf00\\uc5b4\", \"date\": \"2021-07-01T00:00:00\"}, {\"\\uc21c\\uc704\": 2, \"\\uc885\\ubaa9\\uba85\": \"\\uc140\\ud2b8\\ub9ac\\uc628\\uc81c\\uc57d\", \"date\": \"2021-07-01T00:00:00\"}, {\"\\uc21c\\uc704\": 3, \"\\uc885\\ubaa9\\uba85\": \"\\ud384\\uc5b4\\ube44\\uc2a4\", \"date\": \"2021-07-01T00:00:00\"}, {\"\\uc21c\\uc704\": 4, \"\\uc885\\ubaa9\\uba85\": \"\\uc5d0\\ucf54\\ud504\\ub85c\\ube44\\uc5e0\", \"date\": \"2021-07-01T00:00:00\"}, {\"\\uc21c\\uc704\": 5, \"\\uc885\\ubaa9\\uba85\": \"\\uc528\\uc820\", \"date\": \"2021-07-01T00:00:00\"}, {\"\\uc21c\\uc704\": 6, \"\\uc885\\ubaa9\\uba85\": \"\\uce74\\uce74\\uc624\\uac8c\\uc784\\uc988\", \"date\": \"2021-07-01T00:00:00\"}, {\"\\uc21c\\uc704\": 7, \"\\uc885\\ubaa9\\uba85\": \"CJ ENM\", \"date\": \"2021-07-01T00:00:00\"}, {\"\\uc21c\\uc704\": 8, \"\\uc885\\ubaa9\\uba85\": \"\\uc54c\\ud14c\\uc624\\uc820\", \"date\": \"2021-07-01T00:00:00\"}, {\"\\uc21c\\uc704\": 9, \"\\uc885\\ubaa9\\uba85\": \"SK\\uba38\\ud2f0\\ub9ac\\uc5bc\\uc988\", \"date\": \"2021-07-01T00:00:00\"}, {\"\\uc21c\\uc704\": 1, \"\\uc885\\ubaa9\\uba85\": \"\\uc140\\ud2b8\\ub9ac\\uc628\\ud5ec\\uc2a4\\ucf00\\uc5b4\", \"date\": \"2021-08-02T00:00:00\"}, {\"\\uc21c\\uc704\": 2, \"\\uc885\\ubaa9\\uba85\": \"\\uce74\\uce74\\uc624\\uac8c\\uc784\\uc988\", \"date\": \"2021-08-02T00:00:00\"}, {\"\\uc21c\\uc704\": 3, \"\\uc885\\ubaa9\\uba85\": \"\\uc5d0\\ucf54\\ud504\\ub85c\\ube44\\uc5e0\", \"date\": \"2021-08-02T00:00:00\"}, {\"\\uc21c\\uc704\": 4, \"\\uc885\\ubaa9\\uba85\": \"\\uc140\\ud2b8\\ub9ac\\uc628\\uc81c\\uc57d\", \"date\": \"2021-08-02T00:00:00\"}, {\"\\uc21c\\uc704\": 5, \"\\uc885\\ubaa9\\uba85\": \"\\ud384\\uc5b4\\ube44\\uc2a4\", \"date\": \"2021-08-02T00:00:00\"}, {\"\\uc21c\\uc704\": 6, \"\\uc885\\ubaa9\\uba85\": \"SK\\uba38\\ud2f0\\ub9ac\\uc5bc\\uc988\", \"date\": \"2021-08-02T00:00:00\"}, {\"\\uc21c\\uc704\": 7, \"\\uc885\\ubaa9\\uba85\": \"\\uc5d0\\uc774\\uce58\\uc5d8\\ube44\", \"date\": \"2021-08-02T00:00:00\"}, {\"\\uc21c\\uc704\": 8, \"\\uc885\\ubaa9\\uba85\": \"\\uc528\\uc820\", \"date\": \"2021-08-02T00:00:00\"}, {\"\\uc21c\\uc704\": 9, \"\\uc885\\ubaa9\\uba85\": \"CJ ENM\", \"date\": \"2021-08-02T00:00:00\"}, {\"\\uc21c\\uc704\": 1, \"\\uc885\\ubaa9\\uba85\": \"\\uc140\\ud2b8\\ub9ac\\uc628\\ud5ec\\uc2a4\\ucf00\\uc5b4\", \"date\": \"2021-09-01T00:00:00\"}, {\"\\uc21c\\uc704\": 2, \"\\uc885\\ubaa9\\uba85\": \"\\uc5d0\\ucf54\\ud504\\ub85c\\ube44\\uc5e0\", \"date\": \"2021-09-01T00:00:00\"}, {\"\\uc21c\\uc704\": 3, \"\\uc885\\ubaa9\\uba85\": \"\\uc5d0\\uc774\\uce58\\uc5d8\\ube44\", \"date\": \"2021-09-01T00:00:00\"}, {\"\\uc21c\\uc704\": 4, \"\\uc885\\ubaa9\\uba85\": \"\\uc140\\ud2b8\\ub9ac\\uc628\\uc81c\\uc57d\", \"date\": \"2021-09-01T00:00:00\"}, {\"\\uc21c\\uc704\": 5, \"\\uc885\\ubaa9\\uba85\": \"\\uce74\\uce74\\uc624\\uac8c\\uc784\\uc988\", \"date\": \"2021-09-01T00:00:00\"}, {\"\\uc21c\\uc704\": 6, \"\\uc885\\ubaa9\\uba85\": \"\\ud384\\uc5b4\\ube44\\uc2a4\", \"date\": \"2021-09-01T00:00:00\"}, {\"\\uc21c\\uc704\": 7, \"\\uc885\\ubaa9\\uba85\": \"SK\\uba38\\ud2f0\\ub9ac\\uc5bc\\uc988\", \"date\": \"2021-09-01T00:00:00\"}, {\"\\uc21c\\uc704\": 8, \"\\uc885\\ubaa9\\uba85\": \"\\uc5d8\\uc564\\uc5d0\\ud504\", \"date\": \"2021-09-01T00:00:00\"}, {\"\\uc21c\\uc704\": 9, \"\\uc885\\ubaa9\\uba85\": \"\\uc54c\\ud14c\\uc624\\uc820\", \"date\": \"2021-09-01T00:00:00\"}, {\"\\uc21c\\uc704\": 1, \"\\uc885\\ubaa9\\uba85\": \"\\uc140\\ud2b8\\ub9ac\\uc628\\ud5ec\\uc2a4\\ucf00\\uc5b4\", \"date\": \"2021-10-01T00:00:00\"}, {\"\\uc21c\\uc704\": 2, \"\\uc885\\ubaa9\\uba85\": \"\\uc5d0\\ucf54\\ud504\\ub85c\\ube44\\uc5e0\", \"date\": \"2021-10-01T00:00:00\"}, {\"\\uc21c\\uc704\": 3, \"\\uc885\\ubaa9\\uba85\": \"\\uc5d8\\uc564\\uc5d0\\ud504\", \"date\": \"2021-10-01T00:00:00\"}, {\"\\uc21c\\uc704\": 4, \"\\uc885\\ubaa9\\uba85\": \"\\uc5d0\\uc774\\uce58\\uc5d8\\ube44\", \"date\": \"2021-10-01T00:00:00\"}, {\"\\uc21c\\uc704\": 5, \"\\uc885\\ubaa9\\uba85\": \"\\ud384\\uc5b4\\ube44\\uc2a4\", \"date\": \"2021-10-01T00:00:00\"}, {\"\\uc21c\\uc704\": 6, \"\\uc885\\ubaa9\\uba85\": \"\\uc140\\ud2b8\\ub9ac\\uc628\\uc81c\\uc57d\", \"date\": \"2021-10-01T00:00:00\"}, {\"\\uc21c\\uc704\": 7, \"\\uc885\\ubaa9\\uba85\": \"\\uce74\\uce74\\uc624\\uac8c\\uc784\\uc988\", \"date\": \"2021-10-01T00:00:00\"}, {\"\\uc21c\\uc704\": 8, \"\\uc885\\ubaa9\\uba85\": \"SK\\uba38\\ud2f0\\ub9ac\\uc5bc\\uc988\", \"date\": \"2021-10-01T00:00:00\"}, {\"\\uc21c\\uc704\": 9, \"\\uc885\\ubaa9\\uba85\": \"CJ ENM\", \"date\": \"2021-10-01T00:00:00\"}, {\"\\uc21c\\uc704\": 1, \"\\uc885\\ubaa9\\uba85\": \"\\uc140\\ud2b8\\ub9ac\\uc628\\ud5ec\\uc2a4\\ucf00\\uc5b4\", \"date\": \"2021-11-01T00:00:00\"}, {\"\\uc21c\\uc704\": 2, \"\\uc885\\ubaa9\\uba85\": \"\\uc5d0\\ucf54\\ud504\\ub85c\\ube44\\uc5e0\", \"date\": \"2021-11-01T00:00:00\"}, {\"\\uc21c\\uc704\": 3, \"\\uc885\\ubaa9\\uba85\": \"\\ud384\\uc5b4\\ube44\\uc2a4\", \"date\": \"2021-11-01T00:00:00\"}, {\"\\uc21c\\uc704\": 4, \"\\uc885\\ubaa9\\uba85\": \"\\uce74\\uce74\\uc624\\uac8c\\uc784\\uc988\", \"date\": \"2021-11-01T00:00:00\"}, {\"\\uc21c\\uc704\": 5, \"\\uc885\\ubaa9\\uba85\": \"\\uc5d8\\uc564\\uc5d0\\ud504\", \"date\": \"2021-11-01T00:00:00\"}, {\"\\uc21c\\uc704\": 6, \"\\uc885\\ubaa9\\uba85\": \"\\uc704\\uba54\\uc774\\ub4dc\", \"date\": \"2021-11-01T00:00:00\"}, {\"\\uc21c\\uc704\": 7, \"\\uc885\\ubaa9\\uba85\": \"\\uc5d0\\uc774\\uce58\\uc5d8\\ube44\", \"date\": \"2021-11-01T00:00:00\"}, {\"\\uc21c\\uc704\": 8, \"\\uc885\\ubaa9\\uba85\": \"\\uc140\\ud2b8\\ub9ac\\uc628\\uc81c\\uc57d\", \"date\": \"2021-11-01T00:00:00\"}, {\"\\uc21c\\uc704\": 9, \"\\uc885\\ubaa9\\uba85\": \"SK\\uba38\\ud2f0\\ub9ac\\uc5bc\\uc988\", \"date\": \"2021-11-01T00:00:00\"}, {\"\\uc21c\\uc704\": 1, \"\\uc885\\ubaa9\\uba85\": \"\\uc140\\ud2b8\\ub9ac\\uc628\\ud5ec\\uc2a4\\ucf00\\uc5b4\", \"date\": \"2021-12-01T00:00:00\"}, {\"\\uc21c\\uc704\": 2, \"\\uc885\\ubaa9\\uba85\": \"\\uc5d0\\ucf54\\ud504\\ub85c\\ube44\\uc5e0\", \"date\": \"2021-12-01T00:00:00\"}, {\"\\uc21c\\uc704\": 3, \"\\uc885\\ubaa9\\uba85\": \"\\ud384\\uc5b4\\ube44\\uc2a4\", \"date\": \"2021-12-01T00:00:00\"}, {\"\\uc21c\\uc704\": 4, \"\\uc885\\ubaa9\\uba85\": \"\\uc5d8\\uc564\\uc5d0\\ud504\", \"date\": \"2021-12-01T00:00:00\"}, {\"\\uc21c\\uc704\": 5, \"\\uc885\\ubaa9\\uba85\": \"\\uce74\\uce74\\uc624\\uac8c\\uc784\\uc988\", \"date\": \"2021-12-01T00:00:00\"}, {\"\\uc21c\\uc704\": 6, \"\\uc885\\ubaa9\\uba85\": \"\\uc704\\uba54\\uc774\\ub4dc\", \"date\": \"2021-12-01T00:00:00\"}, {\"\\uc21c\\uc704\": 7, \"\\uc885\\ubaa9\\uba85\": \"\\uc140\\ud2b8\\ub9ac\\uc628\\uc81c\\uc57d\", \"date\": \"2021-12-01T00:00:00\"}, {\"\\uc21c\\uc704\": 8, \"\\uc885\\ubaa9\\uba85\": \"SK\\uba38\\ud2f0\\ub9ac\\uc5bc\\uc988\", \"date\": \"2021-12-01T00:00:00\"}, {\"\\uc21c\\uc704\": 9, \"\\uc885\\ubaa9\\uba85\": \"\\uc5d0\\uc774\\uce58\\uc5d8\\ube44\", \"date\": \"2021-12-01T00:00:00\"}, {\"\\uc21c\\uc704\": 1, \"\\uc885\\ubaa9\\uba85\": \"\\uc140\\ud2b8\\ub9ac\\uc628\\ud5ec\\uc2a4\\ucf00\\uc5b4\", \"date\": \"2022-01-03T00:00:00\"}, {\"\\uc21c\\uc704\": 2, \"\\uc885\\ubaa9\\uba85\": \"\\uc5d0\\ucf54\\ud504\\ub85c\\ube44\\uc5e0\", \"date\": \"2022-01-03T00:00:00\"}, {\"\\uc21c\\uc704\": 3, \"\\uc885\\ubaa9\\uba85\": \"\\ud384\\uc5b4\\ube44\\uc2a4\", \"date\": \"2022-01-03T00:00:00\"}, {\"\\uc21c\\uc704\": 4, \"\\uc885\\ubaa9\\uba85\": \"\\uc5d8\\uc564\\uc5d0\\ud504\", \"date\": \"2022-01-03T00:00:00\"}, {\"\\uc21c\\uc704\": 5, \"\\uc885\\ubaa9\\uba85\": \"\\uce74\\uce74\\uc624\\uac8c\\uc784\\uc988\", \"date\": \"2022-01-03T00:00:00\"}, {\"\\uc21c\\uc704\": 6, \"\\uc885\\ubaa9\\uba85\": \"\\uc704\\uba54\\uc774\\ub4dc\", \"date\": \"2022-01-03T00:00:00\"}, {\"\\uc21c\\uc704\": 7, \"\\uc885\\ubaa9\\uba85\": \"\\uc140\\ud2b8\\ub9ac\\uc628\\uc81c\\uc57d\", \"date\": \"2022-01-03T00:00:00\"}, {\"\\uc21c\\uc704\": 8, \"\\uc885\\ubaa9\\uba85\": \"\\uc5d0\\uc774\\uce58\\uc5d8\\ube44\", \"date\": \"2022-01-03T00:00:00\"}, {\"\\uc21c\\uc704\": 9, \"\\uc885\\ubaa9\\uba85\": \"\\ucc9c\\ubcf4\", \"date\": \"2022-01-03T00:00:00\"}, {\"\\uc21c\\uc704\": 1, \"\\uc885\\ubaa9\\uba85\": \"\\uc140\\ud2b8\\ub9ac\\uc628\\ud5ec\\uc2a4\\ucf00\\uc5b4\", \"date\": \"2022-02-03T00:00:00\"}, {\"\\uc21c\\uc704\": 2, \"\\uc885\\ubaa9\\uba85\": \"\\uc5d0\\ucf54\\ud504\\ub85c\\ube44\\uc5e0\", \"date\": \"2022-02-03T00:00:00\"}, {\"\\uc21c\\uc704\": 3, \"\\uc885\\ubaa9\\uba85\": \"\\uc5d8\\uc564\\uc5d0\\ud504\", \"date\": \"2022-02-03T00:00:00\"}, {\"\\uc21c\\uc704\": 4, \"\\uc885\\ubaa9\\uba85\": \"\\ud384\\uc5b4\\ube44\\uc2a4\", \"date\": \"2022-02-03T00:00:00\"}, {\"\\uc21c\\uc704\": 5, \"\\uc885\\ubaa9\\uba85\": \"\\uce74\\uce74\\uc624\\uac8c\\uc784\\uc988\", \"date\": \"2022-02-03T00:00:00\"}, {\"\\uc21c\\uc704\": 6, \"\\uc885\\ubaa9\\uba85\": \"\\uc704\\uba54\\uc774\\ub4dc\", \"date\": \"2022-02-03T00:00:00\"}, {\"\\uc21c\\uc704\": 7, \"\\uc885\\ubaa9\\uba85\": \"HLB\", \"date\": \"2022-02-03T00:00:00\"}, {\"\\uc21c\\uc704\": 8, \"\\uc885\\ubaa9\\uba85\": \"\\uc528\\uc820\", \"date\": \"2022-02-03T00:00:00\"}, {\"\\uc21c\\uc704\": 9, \"\\uc885\\ubaa9\\uba85\": \"\\uc140\\ud2b8\\ub9ac\\uc628\\uc81c\\uc57d\", \"date\": \"2022-02-03T00:00:00\"}, {\"\\uc21c\\uc704\": 1, \"\\uc885\\ubaa9\\uba85\": \"\\uc140\\ud2b8\\ub9ac\\uc628\\ud5ec\\uc2a4\\ucf00\\uc5b4\", \"date\": \"2022-03-02T00:00:00\"}, {\"\\uc21c\\uc704\": 2, \"\\uc885\\ubaa9\\uba85\": \"\\uc5d0\\ucf54\\ud504\\ub85c\\ube44\\uc5e0\", \"date\": \"2022-03-02T00:00:00\"}, {\"\\uc21c\\uc704\": 3, \"\\uc885\\ubaa9\\uba85\": \"\\uc5d8\\uc564\\uc5d0\\ud504\", \"date\": \"2022-03-02T00:00:00\"}, {\"\\uc21c\\uc704\": 4, \"\\uc885\\ubaa9\\uba85\": \"\\ud384\\uc5b4\\ube44\\uc2a4\", \"date\": \"2022-03-02T00:00:00\"}, {\"\\uc21c\\uc704\": 5, \"\\uc885\\ubaa9\\uba85\": \"\\uce74\\uce74\\uc624\\uac8c\\uc784\\uc988\", \"date\": \"2022-03-02T00:00:00\"}, {\"\\uc21c\\uc704\": 6, \"\\uc885\\ubaa9\\uba85\": \"\\uc704\\uba54\\uc774\\ub4dc\", \"date\": \"2022-03-02T00:00:00\"}, {\"\\uc21c\\uc704\": 7, \"\\uc885\\ubaa9\\uba85\": \"HLB\", \"date\": \"2022-03-02T00:00:00\"}, {\"\\uc21c\\uc704\": 8, \"\\uc885\\ubaa9\\uba85\": \"\\uc140\\ud2b8\\ub9ac\\uc628\\uc81c\\uc57d\", \"date\": \"2022-03-02T00:00:00\"}, {\"\\uc21c\\uc704\": 9, \"\\uc885\\ubaa9\\uba85\": \"\\ucc9c\\ubcf4\", \"date\": \"2022-03-02T00:00:00\"}, {\"\\uc21c\\uc704\": 1, \"\\uc885\\ubaa9\\uba85\": \"\\uc140\\ud2b8\\ub9ac\\uc628\\ud5ec\\uc2a4\\ucf00\\uc5b4\", \"date\": \"2022-04-01T00:00:00\"}, {\"\\uc21c\\uc704\": 2, \"\\uc885\\ubaa9\\uba85\": \"\\uc5d0\\ucf54\\ud504\\ub85c\\ube44\\uc5e0\", \"date\": \"2022-04-01T00:00:00\"}, {\"\\uc21c\\uc704\": 3, \"\\uc885\\ubaa9\\uba85\": \"\\uc5d8\\uc564\\uc5d0\\ud504\", \"date\": \"2022-04-01T00:00:00\"}, {\"\\uc21c\\uc704\": 4, \"\\uc885\\ubaa9\\uba85\": \"\\ud384\\uc5b4\\ube44\\uc2a4\", \"date\": \"2022-04-01T00:00:00\"}, {\"\\uc21c\\uc704\": 5, \"\\uc885\\ubaa9\\uba85\": \"\\uce74\\uce74\\uc624\\uac8c\\uc784\\uc988\", \"date\": \"2022-04-01T00:00:00\"}, {\"\\uc21c\\uc704\": 6, \"\\uc885\\ubaa9\\uba85\": \"\\uc140\\ud2b8\\ub9ac\\uc628\\uc81c\\uc57d\", \"date\": \"2022-04-01T00:00:00\"}, {\"\\uc21c\\uc704\": 7, \"\\uc885\\ubaa9\\uba85\": \"\\ucc9c\\ubcf4\", \"date\": \"2022-04-01T00:00:00\"}, {\"\\uc21c\\uc704\": 8, \"\\uc885\\ubaa9\\uba85\": \"\\uc704\\uba54\\uc774\\ub4dc\", \"date\": \"2022-04-01T00:00:00\"}, {\"\\uc21c\\uc704\": 9, \"\\uc885\\ubaa9\\uba85\": \"HLB\", \"date\": \"2022-04-01T00:00:00\"}, {\"\\uc21c\\uc704\": 1, \"\\uc885\\ubaa9\\uba85\": \"\\uc5d0\\ucf54\\ud504\\ub85c\\ube44\\uc5e0\", \"date\": \"2022-05-02T00:00:00\"}, {\"\\uc21c\\uc704\": 2, \"\\uc885\\ubaa9\\uba85\": \"\\uc140\\ud2b8\\ub9ac\\uc628\\ud5ec\\uc2a4\\ucf00\\uc5b4\", \"date\": \"2022-05-02T00:00:00\"}, {\"\\uc21c\\uc704\": 3, \"\\uc885\\ubaa9\\uba85\": \"\\uc5d8\\uc564\\uc5d0\\ud504\", \"date\": \"2022-05-02T00:00:00\"}, {\"\\uc21c\\uc704\": 4, \"\\uc885\\ubaa9\\uba85\": \"\\uce74\\uce74\\uc624\\uac8c\\uc784\\uc988\", \"date\": \"2022-05-02T00:00:00\"}, {\"\\uc21c\\uc704\": 5, \"\\uc885\\ubaa9\\uba85\": \"\\ud384\\uc5b4\\ube44\\uc2a4\", \"date\": \"2022-05-02T00:00:00\"}, {\"\\uc21c\\uc704\": 6, \"\\uc885\\ubaa9\\uba85\": \"\\uc140\\ud2b8\\ub9ac\\uc628\\uc81c\\uc57d\", \"date\": \"2022-05-02T00:00:00\"}, {\"\\uc21c\\uc704\": 7, \"\\uc885\\ubaa9\\uba85\": \"HLB\", \"date\": \"2022-05-02T00:00:00\"}, {\"\\uc21c\\uc704\": 8, \"\\uc885\\ubaa9\\uba85\": \"CJ ENM\", \"date\": \"2022-05-02T00:00:00\"}, {\"\\uc21c\\uc704\": 9, \"\\uc885\\ubaa9\\uba85\": \"\\ucc9c\\ubcf4\", \"date\": \"2022-05-02T00:00:00\"}, {\"\\uc21c\\uc704\": 1, \"\\uc885\\ubaa9\\uba85\": \"\\uc5d0\\ucf54\\ud504\\ub85c\\ube44\\uc5e0\", \"date\": \"2022-06-02T00:00:00\"}, {\"\\uc21c\\uc704\": 2, \"\\uc885\\ubaa9\\uba85\": \"\\uc140\\ud2b8\\ub9ac\\uc628\\ud5ec\\uc2a4\\ucf00\\uc5b4\", \"date\": \"2022-06-02T00:00:00\"}, {\"\\uc21c\\uc704\": 3, \"\\uc885\\ubaa9\\uba85\": \"\\uc5d8\\uc564\\uc5d0\\ud504\", \"date\": \"2022-06-02T00:00:00\"}, {\"\\uc21c\\uc704\": 4, \"\\uc885\\ubaa9\\uba85\": \"\\uce74\\uce74\\uc624\\uac8c\\uc784\\uc988\", \"date\": \"2022-06-02T00:00:00\"}, {\"\\uc21c\\uc704\": 5, \"\\uc885\\ubaa9\\uba85\": \"HLB\", \"date\": \"2022-06-02T00:00:00\"}, {\"\\uc21c\\uc704\": 6, \"\\uc885\\ubaa9\\uba85\": \"\\ud384\\uc5b4\\ube44\\uc2a4\", \"date\": \"2022-06-02T00:00:00\"}, {\"\\uc21c\\uc704\": 7, \"\\uc885\\ubaa9\\uba85\": \"\\uc140\\ud2b8\\ub9ac\\uc628\\uc81c\\uc57d\", \"date\": \"2022-06-02T00:00:00\"}, {\"\\uc21c\\uc704\": 8, \"\\uc885\\ubaa9\\uba85\": \"\\uc704\\uba54\\uc774\\ub4dc\", \"date\": \"2022-06-02T00:00:00\"}, {\"\\uc21c\\uc704\": 9, \"\\uc885\\ubaa9\\uba85\": \"\\ucc9c\\ubcf4\", \"date\": \"2022-06-02T00:00:00\"}, {\"\\uc21c\\uc704\": 1, \"\\uc885\\ubaa9\\uba85\": \"\\uc140\\ud2b8\\ub9ac\\uc628\\ud5ec\\uc2a4\\ucf00\\uc5b4\", \"date\": \"2022-07-01T00:00:00\"}, {\"\\uc21c\\uc704\": 2, \"\\uc885\\ubaa9\\uba85\": \"\\uc5d8\\uc564\\uc5d0\\ud504\", \"date\": \"2022-07-01T00:00:00\"}, {\"\\uc21c\\uc704\": 3, \"\\uc885\\ubaa9\\uba85\": \"\\uce74\\uce74\\uc624\\uac8c\\uc784\\uc988\", \"date\": \"2022-07-01T00:00:00\"}, {\"\\uc21c\\uc704\": 4, \"\\uc885\\ubaa9\\uba85\": \"HLB\", \"date\": \"2022-07-01T00:00:00\"}, {\"\\uc21c\\uc704\": 5, \"\\uc885\\ubaa9\\uba85\": \"\\ud384\\uc5b4\\ube44\\uc2a4\", \"date\": \"2022-07-01T00:00:00\"}, {\"\\uc21c\\uc704\": 6, \"\\uc885\\ubaa9\\uba85\": \"\\uc140\\ud2b8\\ub9ac\\uc628\\uc81c\\uc57d\", \"date\": \"2022-07-01T00:00:00\"}, {\"\\uc21c\\uc704\": 7, \"\\uc885\\ubaa9\\uba85\": \"\\uc5d0\\ucf54\\ud504\\ub85c\\ube44\\uc5e0\", \"date\": \"2022-07-01T00:00:00\"}, {\"\\uc21c\\uc704\": 8, \"\\uc885\\ubaa9\\uba85\": \"\\uc54c\\ud14c\\uc624\\uc820\", \"date\": \"2022-07-01T00:00:00\"}, {\"\\uc21c\\uc704\": 9, \"\\uc885\\ubaa9\\uba85\": \"\\uc2a4\\ud29c\\ub514\\uc624\\ub4dc\\ub798\\uace4\", \"date\": \"2022-07-01T00:00:00\"}]}}, {\"mode\": \"vega-lite\"});\n",
              "</script>"
            ],
            "text/plain": [
              "alt.Chart(...)"
            ]
          },
          "metadata": {},
          "execution_count": 21
        }
      ]
    },
    {
      "cell_type": "code",
      "source": [
        "import altair as alt\n",
        "import pandas as pd\n",
        "from colour import Color\n",
        "import random\n",
        "\n",
        "source = t_df\n",
        "len = t_df['종목명'].nunique()\n",
        "print()\n",
        "\n",
        "colors = [x.hex for x in list(Color(\"red\").range_to(Color(\"green\"),len))]\n",
        "\n",
        "alt.Chart(source).mark_line(point = True).encode(\n",
        "    x = alt.X(\"date:O\", timeUnit=\"yearmonthdate\", title=\"date\"),\n",
        "    y = alt.Y(\"rank:N\"),\n",
        "    color = alt.Color(\"종목명:N\", scale={\"range\": colors}),\n",
        "    strokeWidth = alt.condition(\"datum\", alt.value(2.5), alt.value(1))\n",
        ").transform_window(\n",
        "    rank=\"rank()\",\n",
        "    sort=[alt.SortField(\"순위\", order=\"ascending\")],\n",
        "    groupby=[\"date\"]\n",
        ").properties(\n",
        "    width=1000,\n",
        "    height=500,\n",
        ")"
      ],
      "metadata": {
        "colab": {
          "base_uri": "https://localhost:8080/",
          "height": 582
        },
        "id": "i46HxAaijJPq",
        "outputId": "61fb242b-6ead-41c4-ec9c-1ddc2e9879f4"
      },
      "execution_count": 22,
      "outputs": [
        {
          "output_type": "stream",
          "name": "stdout",
          "text": [
            "\n"
          ]
        },
        {
          "output_type": "execute_result",
          "data": {
            "text/html": [
              "\n",
              "<div id=\"altair-viz-c20135a83c924cb8981a7dc06a7c7263\"></div>\n",
              "<script type=\"text/javascript\">\n",
              "  var VEGA_DEBUG = (typeof VEGA_DEBUG == \"undefined\") ? {} : VEGA_DEBUG;\n",
              "  (function(spec, embedOpt){\n",
              "    let outputDiv = document.currentScript.previousElementSibling;\n",
              "    if (outputDiv.id !== \"altair-viz-c20135a83c924cb8981a7dc06a7c7263\") {\n",
              "      outputDiv = document.getElementById(\"altair-viz-c20135a83c924cb8981a7dc06a7c7263\");\n",
              "    }\n",
              "    const paths = {\n",
              "      \"vega\": \"https://cdn.jsdelivr.net/npm//vega@5?noext\",\n",
              "      \"vega-lib\": \"https://cdn.jsdelivr.net/npm//vega-lib?noext\",\n",
              "      \"vega-lite\": \"https://cdn.jsdelivr.net/npm//vega-lite@4.17.0?noext\",\n",
              "      \"vega-embed\": \"https://cdn.jsdelivr.net/npm//vega-embed@6?noext\",\n",
              "    };\n",
              "\n",
              "    function maybeLoadScript(lib, version) {\n",
              "      var key = `${lib.replace(\"-\", \"\")}_version`;\n",
              "      return (VEGA_DEBUG[key] == version) ?\n",
              "        Promise.resolve(paths[lib]) :\n",
              "        new Promise(function(resolve, reject) {\n",
              "          var s = document.createElement('script');\n",
              "          document.getElementsByTagName(\"head\")[0].appendChild(s);\n",
              "          s.async = true;\n",
              "          s.onload = () => {\n",
              "            VEGA_DEBUG[key] = version;\n",
              "            return resolve(paths[lib]);\n",
              "          };\n",
              "          s.onerror = () => reject(`Error loading script: ${paths[lib]}`);\n",
              "          s.src = paths[lib];\n",
              "        });\n",
              "    }\n",
              "\n",
              "    function showError(err) {\n",
              "      outputDiv.innerHTML = `<div class=\"error\" style=\"color:red;\">${err}</div>`;\n",
              "      throw err;\n",
              "    }\n",
              "\n",
              "    function displayChart(vegaEmbed) {\n",
              "      vegaEmbed(outputDiv, spec, embedOpt)\n",
              "        .catch(err => showError(`Javascript Error: ${err.message}<br>This usually means there's a typo in your chart specification. See the javascript console for the full traceback.`));\n",
              "    }\n",
              "\n",
              "    if(typeof define === \"function\" && define.amd) {\n",
              "      requirejs.config({paths});\n",
              "      require([\"vega-embed\"], displayChart, err => showError(`Error loading script: ${err.message}`));\n",
              "    } else {\n",
              "      maybeLoadScript(\"vega\", \"5\")\n",
              "        .then(() => maybeLoadScript(\"vega-lite\", \"4.17.0\"))\n",
              "        .then(() => maybeLoadScript(\"vega-embed\", \"6\"))\n",
              "        .catch(showError)\n",
              "        .then(() => displayChart(vegaEmbed));\n",
              "    }\n",
              "  })({\"config\": {\"view\": {\"continuousWidth\": 400, \"continuousHeight\": 300}}, \"data\": {\"name\": \"data-31f38c907fd058eafe92fe7282b344e5\"}, \"mark\": {\"type\": \"line\", \"point\": true}, \"encoding\": {\"color\": {\"field\": \"\\uc885\\ubaa9\\uba85\", \"scale\": {\"range\": [\"#f00\", \"#f62300\", \"#ed4400\", \"#e46200\", \"#db7d00\", \"#d29600\", \"#c9ac00\", \"#bfbf00\", \"#9cb600\", \"#7cad00\", \"#5ea400\", \"#439b00\", \"#2a9200\", \"#148900\", \"#008000\"]}, \"type\": \"nominal\"}, \"strokeWidth\": {\"condition\": {\"value\": 2.5, \"test\": \"datum\"}, \"value\": 1}, \"x\": {\"field\": \"date\", \"timeUnit\": \"yearmonthdate\", \"title\": \"date\", \"type\": \"ordinal\"}, \"y\": {\"field\": \"rank\", \"type\": \"nominal\"}}, \"height\": 500, \"transform\": [{\"window\": [{\"op\": \"rank\", \"field\": \"\", \"as\": \"rank\"}], \"groupby\": [\"date\"], \"sort\": [{\"field\": \"\\uc21c\\uc704\", \"order\": \"ascending\"}]}], \"width\": 1000, \"$schema\": \"https://vega.github.io/schema/vega-lite/v4.17.0.json\", \"datasets\": {\"data-31f38c907fd058eafe92fe7282b344e5\": [{\"\\uc21c\\uc704\": 1, \"\\uc885\\ubaa9\\uba85\": \"\\uc140\\ud2b8\\ub9ac\\uc628\\ud5ec\\uc2a4\\ucf00\\uc5b4\", \"date\": \"2021-01-04T00:00:00\"}, {\"\\uc21c\\uc704\": 2, \"\\uc885\\ubaa9\\uba85\": \"\\uc140\\ud2b8\\ub9ac\\uc628\\uc81c\\uc57d\", \"date\": \"2021-01-04T00:00:00\"}, {\"\\uc21c\\uc704\": 3, \"\\uc885\\ubaa9\\uba85\": \"\\uc5d0\\uc774\\uce58\\uc5d8\\ube44\", \"date\": \"2021-01-04T00:00:00\"}, {\"\\uc21c\\uc704\": 4, \"\\uc885\\ubaa9\\uba85\": \"\\uc54c\\ud14c\\uc624\\uc820\", \"date\": \"2021-01-04T00:00:00\"}, {\"\\uc21c\\uc704\": 5, \"\\uc885\\ubaa9\\uba85\": \"\\uc528\\uc820\", \"date\": \"2021-01-04T00:00:00\"}, {\"\\uc21c\\uc704\": 6, \"\\uc885\\ubaa9\\uba85\": \"\\uc5d0\\ucf54\\ud504\\ub85c\\ube44\\uc5e0\", \"date\": \"2021-01-04T00:00:00\"}, {\"\\uc21c\\uc704\": 7, \"\\uc885\\ubaa9\\uba85\": \"SK\\uba38\\ud2f0\\ub9ac\\uc5bc\\uc988\", \"date\": \"2021-01-04T00:00:00\"}, {\"\\uc21c\\uc704\": 8, \"\\uc885\\ubaa9\\uba85\": \"\\uce74\\uce74\\uc624\\uac8c\\uc784\\uc988\", \"date\": \"2021-01-04T00:00:00\"}, {\"\\uc21c\\uc704\": 9, \"\\uc885\\ubaa9\\uba85\": \"\\ud384\\uc5b4\\ube44\\uc2a4\", \"date\": \"2021-01-04T00:00:00\"}, {\"\\uc21c\\uc704\": 1, \"\\uc885\\ubaa9\\uba85\": \"\\uc140\\ud2b8\\ub9ac\\uc628\\ud5ec\\uc2a4\\ucf00\\uc5b4\", \"date\": \"2021-02-01T00:00:00\"}, {\"\\uc21c\\uc704\": 2, \"\\uc885\\ubaa9\\uba85\": \"\\uc140\\ud2b8\\ub9ac\\uc628\\uc81c\\uc57d\", \"date\": \"2021-02-01T00:00:00\"}, {\"\\uc21c\\uc704\": 3, \"\\uc885\\ubaa9\\uba85\": \"\\uc5d0\\uc774\\uce58\\uc5d8\\ube44\", \"date\": \"2021-02-01T00:00:00\"}, {\"\\uc21c\\uc704\": 4, \"\\uc885\\ubaa9\\uba85\": \"\\uc528\\uc820\", \"date\": \"2021-02-01T00:00:00\"}, {\"\\uc21c\\uc704\": 5, \"\\uc885\\ubaa9\\uba85\": \"\\ud384\\uc5b4\\ube44\\uc2a4\", \"date\": \"2021-02-01T00:00:00\"}, {\"\\uc21c\\uc704\": 6, \"\\uc885\\ubaa9\\uba85\": \"\\uc54c\\ud14c\\uc624\\uc820\", \"date\": \"2021-02-01T00:00:00\"}, {\"\\uc21c\\uc704\": 7, \"\\uc885\\ubaa9\\uba85\": \"\\uc5d0\\ucf54\\ud504\\ub85c\\ube44\\uc5e0\", \"date\": \"2021-02-01T00:00:00\"}, {\"\\uc21c\\uc704\": 8, \"\\uc885\\ubaa9\\uba85\": \"\\uce74\\uce74\\uc624\\uac8c\\uc784\\uc988\", \"date\": \"2021-02-01T00:00:00\"}, {\"\\uc21c\\uc704\": 9, \"\\uc885\\ubaa9\\uba85\": \"CJ ENM\", \"date\": \"2021-02-01T00:00:00\"}, {\"\\uc21c\\uc704\": 1, \"\\uc885\\ubaa9\\uba85\": \"\\uc140\\ud2b8\\ub9ac\\uc628\\ud5ec\\uc2a4\\ucf00\\uc5b4\", \"date\": \"2021-03-02T00:00:00\"}, {\"\\uc21c\\uc704\": 2, \"\\uc885\\ubaa9\\uba85\": \"\\uc140\\ud2b8\\ub9ac\\uc628\\uc81c\\uc57d\", \"date\": \"2021-03-02T00:00:00\"}, {\"\\uc21c\\uc704\": 3, \"\\uc885\\ubaa9\\uba85\": \"\\uce74\\uce74\\uc624\\uac8c\\uc784\\uc988\", \"date\": \"2021-03-02T00:00:00\"}, {\"\\uc21c\\uc704\": 4, \"\\uc885\\ubaa9\\uba85\": \"\\ud384\\uc5b4\\ube44\\uc2a4\", \"date\": \"2021-03-02T00:00:00\"}, {\"\\uc21c\\uc704\": 5, \"\\uc885\\ubaa9\\uba85\": \"\\uc5d0\\uc774\\uce58\\uc5d8\\ube44\", \"date\": \"2021-03-02T00:00:00\"}, {\"\\uc21c\\uc704\": 6, \"\\uc885\\ubaa9\\uba85\": \"\\uc54c\\ud14c\\uc624\\uc820\", \"date\": \"2021-03-02T00:00:00\"}, {\"\\uc21c\\uc704\": 7, \"\\uc885\\ubaa9\\uba85\": \"\\uc5d0\\ucf54\\ud504\\ub85c\\ube44\\uc5e0\", \"date\": \"2021-03-02T00:00:00\"}, {\"\\uc21c\\uc704\": 8, \"\\uc885\\ubaa9\\uba85\": \"\\uc528\\uc820\", \"date\": \"2021-03-02T00:00:00\"}, {\"\\uc21c\\uc704\": 9, \"\\uc885\\ubaa9\\uba85\": \"SK\\uba38\\ud2f0\\ub9ac\\uc5bc\\uc988\", \"date\": \"2021-03-02T00:00:00\"}, {\"\\uc21c\\uc704\": 1, \"\\uc885\\ubaa9\\uba85\": \"\\uc140\\ud2b8\\ub9ac\\uc628\\ud5ec\\uc2a4\\ucf00\\uc5b4\", \"date\": \"2021-04-01T00:00:00\"}, {\"\\uc21c\\uc704\": 2, \"\\uc885\\ubaa9\\uba85\": \"\\uc140\\ud2b8\\ub9ac\\uc628\\uc81c\\uc57d\", \"date\": \"2021-04-01T00:00:00\"}, {\"\\uc21c\\uc704\": 3, \"\\uc885\\ubaa9\\uba85\": \"\\ud384\\uc5b4\\ube44\\uc2a4\", \"date\": \"2021-04-01T00:00:00\"}, {\"\\uc21c\\uc704\": 4, \"\\uc885\\ubaa9\\uba85\": \"\\uc5d0\\uc774\\uce58\\uc5d8\\ube44\", \"date\": \"2021-04-01T00:00:00\"}, {\"\\uc21c\\uc704\": 5, \"\\uc885\\ubaa9\\uba85\": \"\\uce74\\uce74\\uc624\\uac8c\\uc784\\uc988\", \"date\": \"2021-04-01T00:00:00\"}, {\"\\uc21c\\uc704\": 6, \"\\uc885\\ubaa9\\uba85\": \"\\uc528\\uc820\", \"date\": \"2021-04-01T00:00:00\"}, {\"\\uc21c\\uc704\": 7, \"\\uc885\\ubaa9\\uba85\": \"\\uc5d0\\ucf54\\ud504\\ub85c\\ube44\\uc5e0\", \"date\": \"2021-04-01T00:00:00\"}, {\"\\uc21c\\uc704\": 8, \"\\uc885\\ubaa9\\uba85\": \"SK\\uba38\\ud2f0\\ub9ac\\uc5bc\\uc988\", \"date\": \"2021-04-01T00:00:00\"}, {\"\\uc21c\\uc704\": 9, \"\\uc885\\ubaa9\\uba85\": \"CJ ENM\", \"date\": \"2021-04-01T00:00:00\"}, {\"\\uc21c\\uc704\": 1, \"\\uc885\\ubaa9\\uba85\": \"\\uc140\\ud2b8\\ub9ac\\uc628\\ud5ec\\uc2a4\\ucf00\\uc5b4\", \"date\": \"2021-05-03T00:00:00\"}, {\"\\uc21c\\uc704\": 2, \"\\uc885\\ubaa9\\uba85\": \"\\uc140\\ud2b8\\ub9ac\\uc628\\uc81c\\uc57d\", \"date\": \"2021-05-03T00:00:00\"}, {\"\\uc21c\\uc704\": 3, \"\\uc885\\ubaa9\\uba85\": \"\\uce74\\uce74\\uc624\\uac8c\\uc784\\uc988\", \"date\": \"2021-05-03T00:00:00\"}, {\"\\uc21c\\uc704\": 4, \"\\uc885\\ubaa9\\uba85\": \"\\uc5d0\\ucf54\\ud504\\ub85c\\ube44\\uc5e0\", \"date\": \"2021-05-03T00:00:00\"}, {\"\\uc21c\\uc704\": 5, \"\\uc885\\ubaa9\\uba85\": \"\\ud384\\uc5b4\\ube44\\uc2a4\", \"date\": \"2021-05-03T00:00:00\"}, {\"\\uc21c\\uc704\": 6, \"\\uc885\\ubaa9\\uba85\": \"SK\\uba38\\ud2f0\\ub9ac\\uc5bc\\uc988\", \"date\": \"2021-05-03T00:00:00\"}, {\"\\uc21c\\uc704\": 7, \"\\uc885\\ubaa9\\uba85\": \"\\uc5d0\\uc774\\uce58\\uc5d8\\ube44\", \"date\": \"2021-05-03T00:00:00\"}, {\"\\uc21c\\uc704\": 8, \"\\uc885\\ubaa9\\uba85\": \"\\uc54c\\ud14c\\uc624\\uc820\", \"date\": \"2021-05-03T00:00:00\"}, {\"\\uc21c\\uc704\": 9, \"\\uc885\\ubaa9\\uba85\": \"CJ ENM\", \"date\": \"2021-05-03T00:00:00\"}, {\"\\uc21c\\uc704\": 1, \"\\uc885\\ubaa9\\uba85\": \"\\uc140\\ud2b8\\ub9ac\\uc628\\ud5ec\\uc2a4\\ucf00\\uc5b4\", \"date\": \"2021-06-01T00:00:00\"}, {\"\\uc21c\\uc704\": 2, \"\\uc885\\ubaa9\\uba85\": \"\\uc140\\ud2b8\\ub9ac\\uc628\\uc81c\\uc57d\", \"date\": \"2021-06-01T00:00:00\"}, {\"\\uc21c\\uc704\": 3, \"\\uc885\\ubaa9\\uba85\": \"\\ud384\\uc5b4\\ube44\\uc2a4\", \"date\": \"2021-06-01T00:00:00\"}, {\"\\uc21c\\uc704\": 4, \"\\uc885\\ubaa9\\uba85\": \"\\uce74\\uce74\\uc624\\uac8c\\uc784\\uc988\", \"date\": \"2021-06-01T00:00:00\"}, {\"\\uc21c\\uc704\": 5, \"\\uc885\\ubaa9\\uba85\": \"\\uc5d0\\ucf54\\ud504\\ub85c\\ube44\\uc5e0\", \"date\": \"2021-06-01T00:00:00\"}, {\"\\uc21c\\uc704\": 6, \"\\uc885\\ubaa9\\uba85\": \"\\uc5d0\\uc774\\uce58\\uc5d8\\ube44\", \"date\": \"2021-06-01T00:00:00\"}, {\"\\uc21c\\uc704\": 7, \"\\uc885\\ubaa9\\uba85\": \"CJ ENM\", \"date\": \"2021-06-01T00:00:00\"}, {\"\\uc21c\\uc704\": 8, \"\\uc885\\ubaa9\\uba85\": \"\\uc528\\uc820\", \"date\": \"2021-06-01T00:00:00\"}, {\"\\uc21c\\uc704\": 9, \"\\uc885\\ubaa9\\uba85\": \"SK\\uba38\\ud2f0\\ub9ac\\uc5bc\\uc988\", \"date\": \"2021-06-01T00:00:00\"}, {\"\\uc21c\\uc704\": 1, \"\\uc885\\ubaa9\\uba85\": \"\\uc140\\ud2b8\\ub9ac\\uc628\\ud5ec\\uc2a4\\ucf00\\uc5b4\", \"date\": \"2021-07-01T00:00:00\"}, {\"\\uc21c\\uc704\": 2, \"\\uc885\\ubaa9\\uba85\": \"\\uc140\\ud2b8\\ub9ac\\uc628\\uc81c\\uc57d\", \"date\": \"2021-07-01T00:00:00\"}, {\"\\uc21c\\uc704\": 3, \"\\uc885\\ubaa9\\uba85\": \"\\ud384\\uc5b4\\ube44\\uc2a4\", \"date\": \"2021-07-01T00:00:00\"}, {\"\\uc21c\\uc704\": 4, \"\\uc885\\ubaa9\\uba85\": \"\\uc5d0\\ucf54\\ud504\\ub85c\\ube44\\uc5e0\", \"date\": \"2021-07-01T00:00:00\"}, {\"\\uc21c\\uc704\": 5, \"\\uc885\\ubaa9\\uba85\": \"\\uc528\\uc820\", \"date\": \"2021-07-01T00:00:00\"}, {\"\\uc21c\\uc704\": 6, \"\\uc885\\ubaa9\\uba85\": \"\\uce74\\uce74\\uc624\\uac8c\\uc784\\uc988\", \"date\": \"2021-07-01T00:00:00\"}, {\"\\uc21c\\uc704\": 7, \"\\uc885\\ubaa9\\uba85\": \"CJ ENM\", \"date\": \"2021-07-01T00:00:00\"}, {\"\\uc21c\\uc704\": 8, \"\\uc885\\ubaa9\\uba85\": \"\\uc54c\\ud14c\\uc624\\uc820\", \"date\": \"2021-07-01T00:00:00\"}, {\"\\uc21c\\uc704\": 9, \"\\uc885\\ubaa9\\uba85\": \"SK\\uba38\\ud2f0\\ub9ac\\uc5bc\\uc988\", \"date\": \"2021-07-01T00:00:00\"}, {\"\\uc21c\\uc704\": 1, \"\\uc885\\ubaa9\\uba85\": \"\\uc140\\ud2b8\\ub9ac\\uc628\\ud5ec\\uc2a4\\ucf00\\uc5b4\", \"date\": \"2021-08-02T00:00:00\"}, {\"\\uc21c\\uc704\": 2, \"\\uc885\\ubaa9\\uba85\": \"\\uce74\\uce74\\uc624\\uac8c\\uc784\\uc988\", \"date\": \"2021-08-02T00:00:00\"}, {\"\\uc21c\\uc704\": 3, \"\\uc885\\ubaa9\\uba85\": \"\\uc5d0\\ucf54\\ud504\\ub85c\\ube44\\uc5e0\", \"date\": \"2021-08-02T00:00:00\"}, {\"\\uc21c\\uc704\": 4, \"\\uc885\\ubaa9\\uba85\": \"\\uc140\\ud2b8\\ub9ac\\uc628\\uc81c\\uc57d\", \"date\": \"2021-08-02T00:00:00\"}, {\"\\uc21c\\uc704\": 5, \"\\uc885\\ubaa9\\uba85\": \"\\ud384\\uc5b4\\ube44\\uc2a4\", \"date\": \"2021-08-02T00:00:00\"}, {\"\\uc21c\\uc704\": 6, \"\\uc885\\ubaa9\\uba85\": \"SK\\uba38\\ud2f0\\ub9ac\\uc5bc\\uc988\", \"date\": \"2021-08-02T00:00:00\"}, {\"\\uc21c\\uc704\": 7, \"\\uc885\\ubaa9\\uba85\": \"\\uc5d0\\uc774\\uce58\\uc5d8\\ube44\", \"date\": \"2021-08-02T00:00:00\"}, {\"\\uc21c\\uc704\": 8, \"\\uc885\\ubaa9\\uba85\": \"\\uc528\\uc820\", \"date\": \"2021-08-02T00:00:00\"}, {\"\\uc21c\\uc704\": 9, \"\\uc885\\ubaa9\\uba85\": \"CJ ENM\", \"date\": \"2021-08-02T00:00:00\"}, {\"\\uc21c\\uc704\": 1, \"\\uc885\\ubaa9\\uba85\": \"\\uc140\\ud2b8\\ub9ac\\uc628\\ud5ec\\uc2a4\\ucf00\\uc5b4\", \"date\": \"2021-09-01T00:00:00\"}, {\"\\uc21c\\uc704\": 2, \"\\uc885\\ubaa9\\uba85\": \"\\uc5d0\\ucf54\\ud504\\ub85c\\ube44\\uc5e0\", \"date\": \"2021-09-01T00:00:00\"}, {\"\\uc21c\\uc704\": 3, \"\\uc885\\ubaa9\\uba85\": \"\\uc5d0\\uc774\\uce58\\uc5d8\\ube44\", \"date\": \"2021-09-01T00:00:00\"}, {\"\\uc21c\\uc704\": 4, \"\\uc885\\ubaa9\\uba85\": \"\\uc140\\ud2b8\\ub9ac\\uc628\\uc81c\\uc57d\", \"date\": \"2021-09-01T00:00:00\"}, {\"\\uc21c\\uc704\": 5, \"\\uc885\\ubaa9\\uba85\": \"\\uce74\\uce74\\uc624\\uac8c\\uc784\\uc988\", \"date\": \"2021-09-01T00:00:00\"}, {\"\\uc21c\\uc704\": 6, \"\\uc885\\ubaa9\\uba85\": \"\\ud384\\uc5b4\\ube44\\uc2a4\", \"date\": \"2021-09-01T00:00:00\"}, {\"\\uc21c\\uc704\": 7, \"\\uc885\\ubaa9\\uba85\": \"SK\\uba38\\ud2f0\\ub9ac\\uc5bc\\uc988\", \"date\": \"2021-09-01T00:00:00\"}, {\"\\uc21c\\uc704\": 8, \"\\uc885\\ubaa9\\uba85\": \"\\uc5d8\\uc564\\uc5d0\\ud504\", \"date\": \"2021-09-01T00:00:00\"}, {\"\\uc21c\\uc704\": 9, \"\\uc885\\ubaa9\\uba85\": \"\\uc54c\\ud14c\\uc624\\uc820\", \"date\": \"2021-09-01T00:00:00\"}, {\"\\uc21c\\uc704\": 1, \"\\uc885\\ubaa9\\uba85\": \"\\uc140\\ud2b8\\ub9ac\\uc628\\ud5ec\\uc2a4\\ucf00\\uc5b4\", \"date\": \"2021-10-01T00:00:00\"}, {\"\\uc21c\\uc704\": 2, \"\\uc885\\ubaa9\\uba85\": \"\\uc5d0\\ucf54\\ud504\\ub85c\\ube44\\uc5e0\", \"date\": \"2021-10-01T00:00:00\"}, {\"\\uc21c\\uc704\": 3, \"\\uc885\\ubaa9\\uba85\": \"\\uc5d8\\uc564\\uc5d0\\ud504\", \"date\": \"2021-10-01T00:00:00\"}, {\"\\uc21c\\uc704\": 4, \"\\uc885\\ubaa9\\uba85\": \"\\uc5d0\\uc774\\uce58\\uc5d8\\ube44\", \"date\": \"2021-10-01T00:00:00\"}, {\"\\uc21c\\uc704\": 5, \"\\uc885\\ubaa9\\uba85\": \"\\ud384\\uc5b4\\ube44\\uc2a4\", \"date\": \"2021-10-01T00:00:00\"}, {\"\\uc21c\\uc704\": 6, \"\\uc885\\ubaa9\\uba85\": \"\\uc140\\ud2b8\\ub9ac\\uc628\\uc81c\\uc57d\", \"date\": \"2021-10-01T00:00:00\"}, {\"\\uc21c\\uc704\": 7, \"\\uc885\\ubaa9\\uba85\": \"\\uce74\\uce74\\uc624\\uac8c\\uc784\\uc988\", \"date\": \"2021-10-01T00:00:00\"}, {\"\\uc21c\\uc704\": 8, \"\\uc885\\ubaa9\\uba85\": \"SK\\uba38\\ud2f0\\ub9ac\\uc5bc\\uc988\", \"date\": \"2021-10-01T00:00:00\"}, {\"\\uc21c\\uc704\": 9, \"\\uc885\\ubaa9\\uba85\": \"CJ ENM\", \"date\": \"2021-10-01T00:00:00\"}, {\"\\uc21c\\uc704\": 1, \"\\uc885\\ubaa9\\uba85\": \"\\uc140\\ud2b8\\ub9ac\\uc628\\ud5ec\\uc2a4\\ucf00\\uc5b4\", \"date\": \"2021-11-01T00:00:00\"}, {\"\\uc21c\\uc704\": 2, \"\\uc885\\ubaa9\\uba85\": \"\\uc5d0\\ucf54\\ud504\\ub85c\\ube44\\uc5e0\", \"date\": \"2021-11-01T00:00:00\"}, {\"\\uc21c\\uc704\": 3, \"\\uc885\\ubaa9\\uba85\": \"\\ud384\\uc5b4\\ube44\\uc2a4\", \"date\": \"2021-11-01T00:00:00\"}, {\"\\uc21c\\uc704\": 4, \"\\uc885\\ubaa9\\uba85\": \"\\uce74\\uce74\\uc624\\uac8c\\uc784\\uc988\", \"date\": \"2021-11-01T00:00:00\"}, {\"\\uc21c\\uc704\": 5, \"\\uc885\\ubaa9\\uba85\": \"\\uc5d8\\uc564\\uc5d0\\ud504\", \"date\": \"2021-11-01T00:00:00\"}, {\"\\uc21c\\uc704\": 6, \"\\uc885\\ubaa9\\uba85\": \"\\uc704\\uba54\\uc774\\ub4dc\", \"date\": \"2021-11-01T00:00:00\"}, {\"\\uc21c\\uc704\": 7, \"\\uc885\\ubaa9\\uba85\": \"\\uc5d0\\uc774\\uce58\\uc5d8\\ube44\", \"date\": \"2021-11-01T00:00:00\"}, {\"\\uc21c\\uc704\": 8, \"\\uc885\\ubaa9\\uba85\": \"\\uc140\\ud2b8\\ub9ac\\uc628\\uc81c\\uc57d\", \"date\": \"2021-11-01T00:00:00\"}, {\"\\uc21c\\uc704\": 9, \"\\uc885\\ubaa9\\uba85\": \"SK\\uba38\\ud2f0\\ub9ac\\uc5bc\\uc988\", \"date\": \"2021-11-01T00:00:00\"}, {\"\\uc21c\\uc704\": 1, \"\\uc885\\ubaa9\\uba85\": \"\\uc140\\ud2b8\\ub9ac\\uc628\\ud5ec\\uc2a4\\ucf00\\uc5b4\", \"date\": \"2021-12-01T00:00:00\"}, {\"\\uc21c\\uc704\": 2, \"\\uc885\\ubaa9\\uba85\": \"\\uc5d0\\ucf54\\ud504\\ub85c\\ube44\\uc5e0\", \"date\": \"2021-12-01T00:00:00\"}, {\"\\uc21c\\uc704\": 3, \"\\uc885\\ubaa9\\uba85\": \"\\ud384\\uc5b4\\ube44\\uc2a4\", \"date\": \"2021-12-01T00:00:00\"}, {\"\\uc21c\\uc704\": 4, \"\\uc885\\ubaa9\\uba85\": \"\\uc5d8\\uc564\\uc5d0\\ud504\", \"date\": \"2021-12-01T00:00:00\"}, {\"\\uc21c\\uc704\": 5, \"\\uc885\\ubaa9\\uba85\": \"\\uce74\\uce74\\uc624\\uac8c\\uc784\\uc988\", \"date\": \"2021-12-01T00:00:00\"}, {\"\\uc21c\\uc704\": 6, \"\\uc885\\ubaa9\\uba85\": \"\\uc704\\uba54\\uc774\\ub4dc\", \"date\": \"2021-12-01T00:00:00\"}, {\"\\uc21c\\uc704\": 7, \"\\uc885\\ubaa9\\uba85\": \"\\uc140\\ud2b8\\ub9ac\\uc628\\uc81c\\uc57d\", \"date\": \"2021-12-01T00:00:00\"}, {\"\\uc21c\\uc704\": 8, \"\\uc885\\ubaa9\\uba85\": \"SK\\uba38\\ud2f0\\ub9ac\\uc5bc\\uc988\", \"date\": \"2021-12-01T00:00:00\"}, {\"\\uc21c\\uc704\": 9, \"\\uc885\\ubaa9\\uba85\": \"\\uc5d0\\uc774\\uce58\\uc5d8\\ube44\", \"date\": \"2021-12-01T00:00:00\"}, {\"\\uc21c\\uc704\": 1, \"\\uc885\\ubaa9\\uba85\": \"\\uc140\\ud2b8\\ub9ac\\uc628\\ud5ec\\uc2a4\\ucf00\\uc5b4\", \"date\": \"2022-01-03T00:00:00\"}, {\"\\uc21c\\uc704\": 2, \"\\uc885\\ubaa9\\uba85\": \"\\uc5d0\\ucf54\\ud504\\ub85c\\ube44\\uc5e0\", \"date\": \"2022-01-03T00:00:00\"}, {\"\\uc21c\\uc704\": 3, \"\\uc885\\ubaa9\\uba85\": \"\\ud384\\uc5b4\\ube44\\uc2a4\", \"date\": \"2022-01-03T00:00:00\"}, {\"\\uc21c\\uc704\": 4, \"\\uc885\\ubaa9\\uba85\": \"\\uc5d8\\uc564\\uc5d0\\ud504\", \"date\": \"2022-01-03T00:00:00\"}, {\"\\uc21c\\uc704\": 5, \"\\uc885\\ubaa9\\uba85\": \"\\uce74\\uce74\\uc624\\uac8c\\uc784\\uc988\", \"date\": \"2022-01-03T00:00:00\"}, {\"\\uc21c\\uc704\": 6, \"\\uc885\\ubaa9\\uba85\": \"\\uc704\\uba54\\uc774\\ub4dc\", \"date\": \"2022-01-03T00:00:00\"}, {\"\\uc21c\\uc704\": 7, \"\\uc885\\ubaa9\\uba85\": \"\\uc140\\ud2b8\\ub9ac\\uc628\\uc81c\\uc57d\", \"date\": \"2022-01-03T00:00:00\"}, {\"\\uc21c\\uc704\": 8, \"\\uc885\\ubaa9\\uba85\": \"\\uc5d0\\uc774\\uce58\\uc5d8\\ube44\", \"date\": \"2022-01-03T00:00:00\"}, {\"\\uc21c\\uc704\": 9, \"\\uc885\\ubaa9\\uba85\": \"\\ucc9c\\ubcf4\", \"date\": \"2022-01-03T00:00:00\"}, {\"\\uc21c\\uc704\": 1, \"\\uc885\\ubaa9\\uba85\": \"\\uc140\\ud2b8\\ub9ac\\uc628\\ud5ec\\uc2a4\\ucf00\\uc5b4\", \"date\": \"2022-02-03T00:00:00\"}, {\"\\uc21c\\uc704\": 2, \"\\uc885\\ubaa9\\uba85\": \"\\uc5d0\\ucf54\\ud504\\ub85c\\ube44\\uc5e0\", \"date\": \"2022-02-03T00:00:00\"}, {\"\\uc21c\\uc704\": 3, \"\\uc885\\ubaa9\\uba85\": \"\\uc5d8\\uc564\\uc5d0\\ud504\", \"date\": \"2022-02-03T00:00:00\"}, {\"\\uc21c\\uc704\": 4, \"\\uc885\\ubaa9\\uba85\": \"\\ud384\\uc5b4\\ube44\\uc2a4\", \"date\": \"2022-02-03T00:00:00\"}, {\"\\uc21c\\uc704\": 5, \"\\uc885\\ubaa9\\uba85\": \"\\uce74\\uce74\\uc624\\uac8c\\uc784\\uc988\", \"date\": \"2022-02-03T00:00:00\"}, {\"\\uc21c\\uc704\": 6, \"\\uc885\\ubaa9\\uba85\": \"\\uc704\\uba54\\uc774\\ub4dc\", \"date\": \"2022-02-03T00:00:00\"}, {\"\\uc21c\\uc704\": 7, \"\\uc885\\ubaa9\\uba85\": \"HLB\", \"date\": \"2022-02-03T00:00:00\"}, {\"\\uc21c\\uc704\": 8, \"\\uc885\\ubaa9\\uba85\": \"\\uc528\\uc820\", \"date\": \"2022-02-03T00:00:00\"}, {\"\\uc21c\\uc704\": 9, \"\\uc885\\ubaa9\\uba85\": \"\\uc140\\ud2b8\\ub9ac\\uc628\\uc81c\\uc57d\", \"date\": \"2022-02-03T00:00:00\"}, {\"\\uc21c\\uc704\": 1, \"\\uc885\\ubaa9\\uba85\": \"\\uc140\\ud2b8\\ub9ac\\uc628\\ud5ec\\uc2a4\\ucf00\\uc5b4\", \"date\": \"2022-03-02T00:00:00\"}, {\"\\uc21c\\uc704\": 2, \"\\uc885\\ubaa9\\uba85\": \"\\uc5d0\\ucf54\\ud504\\ub85c\\ube44\\uc5e0\", \"date\": \"2022-03-02T00:00:00\"}, {\"\\uc21c\\uc704\": 3, \"\\uc885\\ubaa9\\uba85\": \"\\uc5d8\\uc564\\uc5d0\\ud504\", \"date\": \"2022-03-02T00:00:00\"}, {\"\\uc21c\\uc704\": 4, \"\\uc885\\ubaa9\\uba85\": \"\\ud384\\uc5b4\\ube44\\uc2a4\", \"date\": \"2022-03-02T00:00:00\"}, {\"\\uc21c\\uc704\": 5, \"\\uc885\\ubaa9\\uba85\": \"\\uce74\\uce74\\uc624\\uac8c\\uc784\\uc988\", \"date\": \"2022-03-02T00:00:00\"}, {\"\\uc21c\\uc704\": 6, \"\\uc885\\ubaa9\\uba85\": \"\\uc704\\uba54\\uc774\\ub4dc\", \"date\": \"2022-03-02T00:00:00\"}, {\"\\uc21c\\uc704\": 7, \"\\uc885\\ubaa9\\uba85\": \"HLB\", \"date\": \"2022-03-02T00:00:00\"}, {\"\\uc21c\\uc704\": 8, \"\\uc885\\ubaa9\\uba85\": \"\\uc140\\ud2b8\\ub9ac\\uc628\\uc81c\\uc57d\", \"date\": \"2022-03-02T00:00:00\"}, {\"\\uc21c\\uc704\": 9, \"\\uc885\\ubaa9\\uba85\": \"\\ucc9c\\ubcf4\", \"date\": \"2022-03-02T00:00:00\"}, {\"\\uc21c\\uc704\": 1, \"\\uc885\\ubaa9\\uba85\": \"\\uc140\\ud2b8\\ub9ac\\uc628\\ud5ec\\uc2a4\\ucf00\\uc5b4\", \"date\": \"2022-04-01T00:00:00\"}, {\"\\uc21c\\uc704\": 2, \"\\uc885\\ubaa9\\uba85\": \"\\uc5d0\\ucf54\\ud504\\ub85c\\ube44\\uc5e0\", \"date\": \"2022-04-01T00:00:00\"}, {\"\\uc21c\\uc704\": 3, \"\\uc885\\ubaa9\\uba85\": \"\\uc5d8\\uc564\\uc5d0\\ud504\", \"date\": \"2022-04-01T00:00:00\"}, {\"\\uc21c\\uc704\": 4, \"\\uc885\\ubaa9\\uba85\": \"\\ud384\\uc5b4\\ube44\\uc2a4\", \"date\": \"2022-04-01T00:00:00\"}, {\"\\uc21c\\uc704\": 5, \"\\uc885\\ubaa9\\uba85\": \"\\uce74\\uce74\\uc624\\uac8c\\uc784\\uc988\", \"date\": \"2022-04-01T00:00:00\"}, {\"\\uc21c\\uc704\": 6, \"\\uc885\\ubaa9\\uba85\": \"\\uc140\\ud2b8\\ub9ac\\uc628\\uc81c\\uc57d\", \"date\": \"2022-04-01T00:00:00\"}, {\"\\uc21c\\uc704\": 7, \"\\uc885\\ubaa9\\uba85\": \"\\ucc9c\\ubcf4\", \"date\": \"2022-04-01T00:00:00\"}, {\"\\uc21c\\uc704\": 8, \"\\uc885\\ubaa9\\uba85\": \"\\uc704\\uba54\\uc774\\ub4dc\", \"date\": \"2022-04-01T00:00:00\"}, {\"\\uc21c\\uc704\": 9, \"\\uc885\\ubaa9\\uba85\": \"HLB\", \"date\": \"2022-04-01T00:00:00\"}, {\"\\uc21c\\uc704\": 1, \"\\uc885\\ubaa9\\uba85\": \"\\uc5d0\\ucf54\\ud504\\ub85c\\ube44\\uc5e0\", \"date\": \"2022-05-02T00:00:00\"}, {\"\\uc21c\\uc704\": 2, \"\\uc885\\ubaa9\\uba85\": \"\\uc140\\ud2b8\\ub9ac\\uc628\\ud5ec\\uc2a4\\ucf00\\uc5b4\", \"date\": \"2022-05-02T00:00:00\"}, {\"\\uc21c\\uc704\": 3, \"\\uc885\\ubaa9\\uba85\": \"\\uc5d8\\uc564\\uc5d0\\ud504\", \"date\": \"2022-05-02T00:00:00\"}, {\"\\uc21c\\uc704\": 4, \"\\uc885\\ubaa9\\uba85\": \"\\uce74\\uce74\\uc624\\uac8c\\uc784\\uc988\", \"date\": \"2022-05-02T00:00:00\"}, {\"\\uc21c\\uc704\": 5, \"\\uc885\\ubaa9\\uba85\": \"\\ud384\\uc5b4\\ube44\\uc2a4\", \"date\": \"2022-05-02T00:00:00\"}, {\"\\uc21c\\uc704\": 6, \"\\uc885\\ubaa9\\uba85\": \"\\uc140\\ud2b8\\ub9ac\\uc628\\uc81c\\uc57d\", \"date\": \"2022-05-02T00:00:00\"}, {\"\\uc21c\\uc704\": 7, \"\\uc885\\ubaa9\\uba85\": \"HLB\", \"date\": \"2022-05-02T00:00:00\"}, {\"\\uc21c\\uc704\": 8, \"\\uc885\\ubaa9\\uba85\": \"CJ ENM\", \"date\": \"2022-05-02T00:00:00\"}, {\"\\uc21c\\uc704\": 9, \"\\uc885\\ubaa9\\uba85\": \"\\ucc9c\\ubcf4\", \"date\": \"2022-05-02T00:00:00\"}, {\"\\uc21c\\uc704\": 1, \"\\uc885\\ubaa9\\uba85\": \"\\uc5d0\\ucf54\\ud504\\ub85c\\ube44\\uc5e0\", \"date\": \"2022-06-02T00:00:00\"}, {\"\\uc21c\\uc704\": 2, \"\\uc885\\ubaa9\\uba85\": \"\\uc140\\ud2b8\\ub9ac\\uc628\\ud5ec\\uc2a4\\ucf00\\uc5b4\", \"date\": \"2022-06-02T00:00:00\"}, {\"\\uc21c\\uc704\": 3, \"\\uc885\\ubaa9\\uba85\": \"\\uc5d8\\uc564\\uc5d0\\ud504\", \"date\": \"2022-06-02T00:00:00\"}, {\"\\uc21c\\uc704\": 4, \"\\uc885\\ubaa9\\uba85\": \"\\uce74\\uce74\\uc624\\uac8c\\uc784\\uc988\", \"date\": \"2022-06-02T00:00:00\"}, {\"\\uc21c\\uc704\": 5, \"\\uc885\\ubaa9\\uba85\": \"HLB\", \"date\": \"2022-06-02T00:00:00\"}, {\"\\uc21c\\uc704\": 6, \"\\uc885\\ubaa9\\uba85\": \"\\ud384\\uc5b4\\ube44\\uc2a4\", \"date\": \"2022-06-02T00:00:00\"}, {\"\\uc21c\\uc704\": 7, \"\\uc885\\ubaa9\\uba85\": \"\\uc140\\ud2b8\\ub9ac\\uc628\\uc81c\\uc57d\", \"date\": \"2022-06-02T00:00:00\"}, {\"\\uc21c\\uc704\": 8, \"\\uc885\\ubaa9\\uba85\": \"\\uc704\\uba54\\uc774\\ub4dc\", \"date\": \"2022-06-02T00:00:00\"}, {\"\\uc21c\\uc704\": 9, \"\\uc885\\ubaa9\\uba85\": \"\\ucc9c\\ubcf4\", \"date\": \"2022-06-02T00:00:00\"}, {\"\\uc21c\\uc704\": 1, \"\\uc885\\ubaa9\\uba85\": \"\\uc140\\ud2b8\\ub9ac\\uc628\\ud5ec\\uc2a4\\ucf00\\uc5b4\", \"date\": \"2022-07-01T00:00:00\"}, {\"\\uc21c\\uc704\": 2, \"\\uc885\\ubaa9\\uba85\": \"\\uc5d8\\uc564\\uc5d0\\ud504\", \"date\": \"2022-07-01T00:00:00\"}, {\"\\uc21c\\uc704\": 3, \"\\uc885\\ubaa9\\uba85\": \"\\uce74\\uce74\\uc624\\uac8c\\uc784\\uc988\", \"date\": \"2022-07-01T00:00:00\"}, {\"\\uc21c\\uc704\": 4, \"\\uc885\\ubaa9\\uba85\": \"HLB\", \"date\": \"2022-07-01T00:00:00\"}, {\"\\uc21c\\uc704\": 5, \"\\uc885\\ubaa9\\uba85\": \"\\ud384\\uc5b4\\ube44\\uc2a4\", \"date\": \"2022-07-01T00:00:00\"}, {\"\\uc21c\\uc704\": 6, \"\\uc885\\ubaa9\\uba85\": \"\\uc140\\ud2b8\\ub9ac\\uc628\\uc81c\\uc57d\", \"date\": \"2022-07-01T00:00:00\"}, {\"\\uc21c\\uc704\": 7, \"\\uc885\\ubaa9\\uba85\": \"\\uc5d0\\ucf54\\ud504\\ub85c\\ube44\\uc5e0\", \"date\": \"2022-07-01T00:00:00\"}, {\"\\uc21c\\uc704\": 8, \"\\uc885\\ubaa9\\uba85\": \"\\uc54c\\ud14c\\uc624\\uc820\", \"date\": \"2022-07-01T00:00:00\"}, {\"\\uc21c\\uc704\": 9, \"\\uc885\\ubaa9\\uba85\": \"\\uc2a4\\ud29c\\ub514\\uc624\\ub4dc\\ub798\\uace4\", \"date\": \"2022-07-01T00:00:00\"}]}}, {\"mode\": \"vega-lite\"});\n",
              "</script>"
            ],
            "text/plain": [
              "alt.Chart(...)"
            ]
          },
          "metadata": {},
          "execution_count": 22
        }
      ]
    },
    {
      "cell_type": "code",
      "source": [
        "source"
      ],
      "metadata": {
        "id": "vpYzWimuUUMv",
        "outputId": "1eb1590c-ca21-4f87-807e-41472250bf04",
        "colab": {
          "base_uri": "https://localhost:8080/",
          "height": 424
        }
      },
      "execution_count": 23,
      "outputs": [
        {
          "output_type": "execute_result",
          "data": {
            "text/plain": [
              "     순위       종목명       date\n",
              "0     1  셀트리온헬스케어 2021-01-04\n",
              "1     2    셀트리온제약 2021-01-04\n",
              "2     3     에이치엘비 2021-01-04\n",
              "3     4      알테오젠 2021-01-04\n",
              "4     5        씨젠 2021-01-04\n",
              "..   ..       ...        ...\n",
              "904   5      펄어비스 2022-07-01\n",
              "905   6    셀트리온제약 2022-07-01\n",
              "906   7    에코프로비엠 2022-07-01\n",
              "907   8      알테오젠 2022-07-01\n",
              "908   9   스튜디오드래곤 2022-07-01\n",
              "\n",
              "[171 rows x 3 columns]"
            ],
            "text/html": [
              "\n",
              "  <div id=\"df-0945ea44-be7d-4ba1-a845-0eff1ea3c8c4\">\n",
              "    <div class=\"colab-df-container\">\n",
              "      <div>\n",
              "<style scoped>\n",
              "    .dataframe tbody tr th:only-of-type {\n",
              "        vertical-align: middle;\n",
              "    }\n",
              "\n",
              "    .dataframe tbody tr th {\n",
              "        vertical-align: top;\n",
              "    }\n",
              "\n",
              "    .dataframe thead th {\n",
              "        text-align: right;\n",
              "    }\n",
              "</style>\n",
              "<table border=\"1\" class=\"dataframe\">\n",
              "  <thead>\n",
              "    <tr style=\"text-align: right;\">\n",
              "      <th></th>\n",
              "      <th>순위</th>\n",
              "      <th>종목명</th>\n",
              "      <th>date</th>\n",
              "    </tr>\n",
              "  </thead>\n",
              "  <tbody>\n",
              "    <tr>\n",
              "      <th>0</th>\n",
              "      <td>1</td>\n",
              "      <td>셀트리온헬스케어</td>\n",
              "      <td>2021-01-04</td>\n",
              "    </tr>\n",
              "    <tr>\n",
              "      <th>1</th>\n",
              "      <td>2</td>\n",
              "      <td>셀트리온제약</td>\n",
              "      <td>2021-01-04</td>\n",
              "    </tr>\n",
              "    <tr>\n",
              "      <th>2</th>\n",
              "      <td>3</td>\n",
              "      <td>에이치엘비</td>\n",
              "      <td>2021-01-04</td>\n",
              "    </tr>\n",
              "    <tr>\n",
              "      <th>3</th>\n",
              "      <td>4</td>\n",
              "      <td>알테오젠</td>\n",
              "      <td>2021-01-04</td>\n",
              "    </tr>\n",
              "    <tr>\n",
              "      <th>4</th>\n",
              "      <td>5</td>\n",
              "      <td>씨젠</td>\n",
              "      <td>2021-01-04</td>\n",
              "    </tr>\n",
              "    <tr>\n",
              "      <th>...</th>\n",
              "      <td>...</td>\n",
              "      <td>...</td>\n",
              "      <td>...</td>\n",
              "    </tr>\n",
              "    <tr>\n",
              "      <th>904</th>\n",
              "      <td>5</td>\n",
              "      <td>펄어비스</td>\n",
              "      <td>2022-07-01</td>\n",
              "    </tr>\n",
              "    <tr>\n",
              "      <th>905</th>\n",
              "      <td>6</td>\n",
              "      <td>셀트리온제약</td>\n",
              "      <td>2022-07-01</td>\n",
              "    </tr>\n",
              "    <tr>\n",
              "      <th>906</th>\n",
              "      <td>7</td>\n",
              "      <td>에코프로비엠</td>\n",
              "      <td>2022-07-01</td>\n",
              "    </tr>\n",
              "    <tr>\n",
              "      <th>907</th>\n",
              "      <td>8</td>\n",
              "      <td>알테오젠</td>\n",
              "      <td>2022-07-01</td>\n",
              "    </tr>\n",
              "    <tr>\n",
              "      <th>908</th>\n",
              "      <td>9</td>\n",
              "      <td>스튜디오드래곤</td>\n",
              "      <td>2022-07-01</td>\n",
              "    </tr>\n",
              "  </tbody>\n",
              "</table>\n",
              "<p>171 rows × 3 columns</p>\n",
              "</div>\n",
              "      <button class=\"colab-df-convert\" onclick=\"convertToInteractive('df-0945ea44-be7d-4ba1-a845-0eff1ea3c8c4')\"\n",
              "              title=\"Convert this dataframe to an interactive table.\"\n",
              "              style=\"display:none;\">\n",
              "        \n",
              "  <svg xmlns=\"http://www.w3.org/2000/svg\" height=\"24px\"viewBox=\"0 0 24 24\"\n",
              "       width=\"24px\">\n",
              "    <path d=\"M0 0h24v24H0V0z\" fill=\"none\"/>\n",
              "    <path d=\"M18.56 5.44l.94 2.06.94-2.06 2.06-.94-2.06-.94-.94-2.06-.94 2.06-2.06.94zm-11 1L8.5 8.5l.94-2.06 2.06-.94-2.06-.94L8.5 2.5l-.94 2.06-2.06.94zm10 10l.94 2.06.94-2.06 2.06-.94-2.06-.94-.94-2.06-.94 2.06-2.06.94z\"/><path d=\"M17.41 7.96l-1.37-1.37c-.4-.4-.92-.59-1.43-.59-.52 0-1.04.2-1.43.59L10.3 9.45l-7.72 7.72c-.78.78-.78 2.05 0 2.83L4 21.41c.39.39.9.59 1.41.59.51 0 1.02-.2 1.41-.59l7.78-7.78 2.81-2.81c.8-.78.8-2.07 0-2.86zM5.41 20L4 18.59l7.72-7.72 1.47 1.35L5.41 20z\"/>\n",
              "  </svg>\n",
              "      </button>\n",
              "      \n",
              "  <style>\n",
              "    .colab-df-container {\n",
              "      display:flex;\n",
              "      flex-wrap:wrap;\n",
              "      gap: 12px;\n",
              "    }\n",
              "\n",
              "    .colab-df-convert {\n",
              "      background-color: #E8F0FE;\n",
              "      border: none;\n",
              "      border-radius: 50%;\n",
              "      cursor: pointer;\n",
              "      display: none;\n",
              "      fill: #1967D2;\n",
              "      height: 32px;\n",
              "      padding: 0 0 0 0;\n",
              "      width: 32px;\n",
              "    }\n",
              "\n",
              "    .colab-df-convert:hover {\n",
              "      background-color: #E2EBFA;\n",
              "      box-shadow: 0px 1px 2px rgba(60, 64, 67, 0.3), 0px 1px 3px 1px rgba(60, 64, 67, 0.15);\n",
              "      fill: #174EA6;\n",
              "    }\n",
              "\n",
              "    [theme=dark] .colab-df-convert {\n",
              "      background-color: #3B4455;\n",
              "      fill: #D2E3FC;\n",
              "    }\n",
              "\n",
              "    [theme=dark] .colab-df-convert:hover {\n",
              "      background-color: #434B5C;\n",
              "      box-shadow: 0px 1px 3px 1px rgba(0, 0, 0, 0.15);\n",
              "      filter: drop-shadow(0px 1px 2px rgba(0, 0, 0, 0.3));\n",
              "      fill: #FFFFFF;\n",
              "    }\n",
              "  </style>\n",
              "\n",
              "      <script>\n",
              "        const buttonEl =\n",
              "          document.querySelector('#df-0945ea44-be7d-4ba1-a845-0eff1ea3c8c4 button.colab-df-convert');\n",
              "        buttonEl.style.display =\n",
              "          google.colab.kernel.accessAllowed ? 'block' : 'none';\n",
              "\n",
              "        async function convertToInteractive(key) {\n",
              "          const element = document.querySelector('#df-0945ea44-be7d-4ba1-a845-0eff1ea3c8c4');\n",
              "          const dataTable =\n",
              "            await google.colab.kernel.invokeFunction('convertToInteractive',\n",
              "                                                     [key], {});\n",
              "          if (!dataTable) return;\n",
              "\n",
              "          const docLinkHtml = 'Like what you see? Visit the ' +\n",
              "            '<a target=\"_blank\" href=https://colab.research.google.com/notebooks/data_table.ipynb>data table notebook</a>'\n",
              "            + ' to learn more about interactive tables.';\n",
              "          element.innerHTML = '';\n",
              "          dataTable['output_type'] = 'display_data';\n",
              "          await google.colab.output.renderOutput(dataTable, element);\n",
              "          const docLink = document.createElement('div');\n",
              "          docLink.innerHTML = docLinkHtml;\n",
              "          element.appendChild(docLink);\n",
              "        }\n",
              "      </script>\n",
              "    </div>\n",
              "  </div>\n",
              "  "
            ]
          },
          "metadata": {},
          "execution_count": 23
        }
      ]
    },
    {
      "cell_type": "code",
      "source": [
        "# korean font\n",
        "!wget 'https://noto-website-2.storage.googleapis.com/pkgs/NotoSansCJKkr-hinted.zip'\n",
        "!unzip \"NotoSansCJKkr-hinted.zip\"\n",
        "!mv NotoSansCJKkr-Medium.otf /usr/share/fonts/truetype/"
      ],
      "metadata": {
        "id": "9HNEVeuSa5bj",
        "outputId": "297a2893-e9a7-4225-fd47-9c3adc96b59a",
        "colab": {
          "base_uri": "https://localhost:8080/"
        }
      },
      "execution_count": 24,
      "outputs": [
        {
          "output_type": "stream",
          "name": "stdout",
          "text": [
            "--2022-07-12 13:18:37--  https://noto-website-2.storage.googleapis.com/pkgs/NotoSansCJKkr-hinted.zip\n",
            "Resolving noto-website-2.storage.googleapis.com (noto-website-2.storage.googleapis.com)... 142.251.2.128, 2607:f8b0:4023:c0d::80\n",
            "Connecting to noto-website-2.storage.googleapis.com (noto-website-2.storage.googleapis.com)|142.251.2.128|:443... connected.\n",
            "HTTP request sent, awaiting response... 200 OK\n",
            "Length: 121163981 (116M) [application/zip]\n",
            "Saving to: ‘NotoSansCJKkr-hinted.zip.3’\n",
            "\n",
            "NotoSansCJKkr-hinte 100%[===================>] 115.55M   122MB/s    in 0.9s    \n",
            "\n",
            "2022-07-12 13:18:38 (122 MB/s) - ‘NotoSansCJKkr-hinted.zip.3’ saved [121163981/121163981]\n",
            "\n",
            "Archive:  NotoSansCJKkr-hinted.zip\n",
            "replace LICENSE_OFL.txt? [y]es, [n]o, [A]ll, [N]one, [r]ename: A\n",
            "  inflating: LICENSE_OFL.txt         \n",
            "  inflating: NotoSansCJKkr-Black.otf  \n",
            "  inflating: NotoSansCJKkr-Bold.otf  \n",
            "  inflating: NotoSansCJKkr-DemiLight.otf  \n",
            "  inflating: NotoSansCJKkr-Light.otf  \n",
            "  inflating: NotoSansCJKkr-Medium.otf  \n",
            "  inflating: NotoSansCJKkr-Regular.otf  \n",
            "  inflating: NotoSansCJKkr-Thin.otf  \n",
            "  inflating: NotoSansMonoCJKkr-Bold.otf  \n",
            "  inflating: NotoSansMonoCJKkr-Regular.otf  \n",
            "  inflating: README                  \n"
          ]
        }
      ]
    },
    {
      "cell_type": "code",
      "source": [
        "import matplotlib.pyplot as plt\n",
        "from matplotlib import font_manager\n",
        "\n",
        "font_path = 'Inter-Regular.otf'  # Your font path goes here\n",
        "font_manager.fontManager.addfont(font_path)\n",
        "prop = font_manager.FontProperties(fname=font_path)\n",
        "\n",
        "plt.rcParams['font.family'] = 'sans-serif'\n",
        "plt.rcParams['font.sans-serif'] = prop.get_name()"
      ],
      "metadata": {
        "id": "x4G3KGWhkm-G"
      },
      "execution_count": 34,
      "outputs": []
    },
    {
      "cell_type": "code",
      "source": [
        "import matplotlib.font_manager as fm\n",
        "\n",
        "font_list = fm.fontManager.addfont('NotoSansMonoCJKkr-Regular.otf')\n",
        "fm.fontManager.ttflist.extend(font_list)\n",
        "plt.rcParams['font.family'] = 'Noto Sans CJK KR'"
      ],
      "metadata": {
        "id": "9cF_zKxRj7Cb",
        "outputId": "6e99881e-b6be-4a96-c0ef-fa1a0eaa2ab5",
        "colab": {
          "base_uri": "https://localhost:8080/",
          "height": 366
        }
      },
      "execution_count": 35,
      "outputs": [
        {
          "output_type": "error",
          "ename": "FileNotFoundError",
          "evalue": "ignored",
          "traceback": [
            "\u001b[0;31m---------------------------------------------------------------------------\u001b[0m",
            "\u001b[0;31mFileNotFoundError\u001b[0m                         Traceback (most recent call last)",
            "\u001b[0;32m<ipython-input-35-6f977fc430ef>\u001b[0m in \u001b[0;36m<module>\u001b[0;34m()\u001b[0m\n\u001b[1;32m      1\u001b[0m \u001b[0;32mimport\u001b[0m \u001b[0mmatplotlib\u001b[0m\u001b[0;34m.\u001b[0m\u001b[0mfont_manager\u001b[0m \u001b[0;32mas\u001b[0m \u001b[0mfm\u001b[0m\u001b[0;34m\u001b[0m\u001b[0;34m\u001b[0m\u001b[0m\n\u001b[1;32m      2\u001b[0m \u001b[0;34m\u001b[0m\u001b[0m\n\u001b[0;32m----> 3\u001b[0;31m \u001b[0mfont_list\u001b[0m \u001b[0;34m=\u001b[0m \u001b[0mfm\u001b[0m\u001b[0;34m.\u001b[0m\u001b[0mfontManager\u001b[0m\u001b[0;34m.\u001b[0m\u001b[0maddfont\u001b[0m\u001b[0;34m(\u001b[0m\u001b[0;34m'Noto Sans CJK KR'\u001b[0m\u001b[0;34m)\u001b[0m\u001b[0;34m\u001b[0m\u001b[0;34m\u001b[0m\u001b[0m\n\u001b[0m\u001b[1;32m      4\u001b[0m \u001b[0mfm\u001b[0m\u001b[0;34m.\u001b[0m\u001b[0mfontManager\u001b[0m\u001b[0;34m.\u001b[0m\u001b[0mttflist\u001b[0m\u001b[0;34m.\u001b[0m\u001b[0mextend\u001b[0m\u001b[0;34m(\u001b[0m\u001b[0mfont_list\u001b[0m\u001b[0;34m)\u001b[0m\u001b[0;34m\u001b[0m\u001b[0;34m\u001b[0m\u001b[0m\n\u001b[1;32m      5\u001b[0m \u001b[0mplt\u001b[0m\u001b[0;34m.\u001b[0m\u001b[0mrcParams\u001b[0m\u001b[0;34m[\u001b[0m\u001b[0;34m'font.family'\u001b[0m\u001b[0;34m]\u001b[0m \u001b[0;34m=\u001b[0m \u001b[0;34m'Noto Sans CJK KR'\u001b[0m\u001b[0;34m\u001b[0m\u001b[0;34m\u001b[0m\u001b[0m\n",
            "\u001b[0;32m/usr/local/lib/python3.7/dist-packages/matplotlib/font_manager.py\u001b[0m in \u001b[0;36maddfont\u001b[0;34m(self, path)\u001b[0m\n\u001b[1;32m   1011\u001b[0m             \u001b[0mself\u001b[0m\u001b[0;34m.\u001b[0m\u001b[0mafmlist\u001b[0m\u001b[0;34m.\u001b[0m\u001b[0mappend\u001b[0m\u001b[0;34m(\u001b[0m\u001b[0mprop\u001b[0m\u001b[0;34m)\u001b[0m\u001b[0;34m\u001b[0m\u001b[0;34m\u001b[0m\u001b[0m\n\u001b[1;32m   1012\u001b[0m         \u001b[0;32melse\u001b[0m\u001b[0;34m:\u001b[0m\u001b[0;34m\u001b[0m\u001b[0;34m\u001b[0m\u001b[0m\n\u001b[0;32m-> 1013\u001b[0;31m             \u001b[0mfont\u001b[0m \u001b[0;34m=\u001b[0m \u001b[0mft2font\u001b[0m\u001b[0;34m.\u001b[0m\u001b[0mFT2Font\u001b[0m\u001b[0;34m(\u001b[0m\u001b[0mpath\u001b[0m\u001b[0;34m)\u001b[0m\u001b[0;34m\u001b[0m\u001b[0;34m\u001b[0m\u001b[0m\n\u001b[0m\u001b[1;32m   1014\u001b[0m             \u001b[0mprop\u001b[0m \u001b[0;34m=\u001b[0m \u001b[0mttfFontProperty\u001b[0m\u001b[0;34m(\u001b[0m\u001b[0mfont\u001b[0m\u001b[0;34m)\u001b[0m\u001b[0;34m\u001b[0m\u001b[0;34m\u001b[0m\u001b[0m\n\u001b[1;32m   1015\u001b[0m             \u001b[0mself\u001b[0m\u001b[0;34m.\u001b[0m\u001b[0mttflist\u001b[0m\u001b[0;34m.\u001b[0m\u001b[0mappend\u001b[0m\u001b[0;34m(\u001b[0m\u001b[0mprop\u001b[0m\u001b[0;34m)\u001b[0m\u001b[0;34m\u001b[0m\u001b[0;34m\u001b[0m\u001b[0m\n",
            "\u001b[0;31mFileNotFoundError\u001b[0m: [Errno 2] No such file or directory: 'Noto Sans CJK KR'"
          ]
        }
      ]
    },
    {
      "cell_type": "code",
      "source": [
        "n_top_ranked = 10\n",
        "top_sources = df[df[\"date\"] == df[\"date\"].max()].nsmallest(n_top_ranked, \"순위\")"
      ],
      "metadata": {
        "id": "yn9VhXN3X35m"
      },
      "execution_count": 25,
      "outputs": []
    },
    {
      "cell_type": "code",
      "source": [
        "import matplotlib.pyplot as plt\n",
        "from matplotlib.ticker import MultipleLocator, FixedFormatter, FixedLocator\n",
        "\n",
        "fig, ax = plt.subplots(figsize=(120, 80), subplot_kw=dict(ylim=(0.5, 0.5 + n_top_ranked)))\n",
        "\n",
        "ax.xaxis.set_major_locator(MultipleLocator(1))\n",
        "ax.yaxis.set_major_locator(MultipleLocator(1))\n",
        "\n",
        "yax2 = ax.secondary_yaxis(\"right\")\n",
        "yax2.yaxis.set_major_locator(FixedLocator(top_sources[\"순위\"].to_list()))\n",
        "yax2.yaxis.set_major_formatter(FixedFormatter(top_sources[\"종목명\"].to_list()))\n",
        "\n",
        "for i, j in df.groupby(\"종목명\"):\n",
        "    ax.plot(\"date\", \"순위\", \"o-\", data=j, mfc=\"w\")\n",
        "\n",
        "ax.invert_yaxis()\n",
        "ax.set(xlabel=\"Edition\", ylabel=\"Rank\", title=\"Popularity of publisher by edition\")\n",
        "ax.grid(axis=\"x\")\n",
        "plt.tight_layout()"
      ],
      "metadata": {
        "id": "pbxcaY8WX7nZ"
      },
      "execution_count": null,
      "outputs": []
    },
    {
      "cell_type": "code",
      "source": [
        ""
      ],
      "metadata": {
        "id": "9lg4XbcEYCmS"
      },
      "execution_count": null,
      "outputs": []
    }
  ]
}