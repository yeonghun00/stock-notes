{
  "nbformat": 4,
  "nbformat_minor": 0,
  "metadata": {
    "colab": {
      "provenance": [],
      "authorship_tag": "ABX9TyOHLP3Aj762TL/gED7SbNjG",
      "include_colab_link": true
    },
    "kernelspec": {
      "name": "python3",
      "display_name": "Python 3"
    },
    "language_info": {
      "name": "python"
    }
  },
  "cells": [
    {
      "cell_type": "markdown",
      "metadata": {
        "id": "view-in-github",
        "colab_type": "text"
      },
      "source": [
        "<a href=\"https://colab.research.google.com/github/yeonghun00/stock-notes/blob/main/analysis/screen.ipynb\" target=\"_parent\"><img src=\"https://colab.research.google.com/assets/colab-badge.svg\" alt=\"Open In Colab\"/></a>"
      ]
    },
    {
      "cell_type": "markdown",
      "source": [
        "기간 입력\n",
        "\n",
        "지수 등락률\n",
        "\n",
        "주식 지수보다 상위\n",
        "\n",
        "(주? 일? 로 각각 통계적으로 얼마나 강한지 급등 이런거 제외하기 위해)\n"
      ],
      "metadata": {
        "id": "4WKTFbcNB6xu"
      }
    },
    {
      "cell_type": "code",
      "execution_count": null,
      "metadata": {
        "id": "kvmEwEDp8sDe"
      },
      "outputs": [],
      "source": []
    }
  ]
}