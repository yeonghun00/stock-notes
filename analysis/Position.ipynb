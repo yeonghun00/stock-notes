{
  "nbformat": 4,
  "nbformat_minor": 0,
  "metadata": {
    "colab": {
      "name": "optimized position analysis",
      "provenance": [],
      "collapsed_sections": [],
      "authorship_tag": "ABX9TyMCiS8BmS2/4xWvR3wCtJJn",
      "include_colab_link": true
    },
    "kernelspec": {
      "name": "python3",
      "display_name": "Python 3"
    },
    "language_info": {
      "name": "python"
    }
  },
  "cells": [
    {
      "cell_type": "markdown",
      "metadata": {
        "id": "view-in-github",
        "colab_type": "text"
      },
      "source": [
        "<a href=\"https://colab.research.google.com/github/yeonghun00/stock_public/blob/main/analysis/Position.ipynb\" target=\"_parent\"><img src=\"https://colab.research.google.com/assets/colab-badge.svg\" alt=\"Open In Colab\"/></a>"
      ]
    },
    {
      "cell_type": "code",
      "metadata": {
        "id": "t5E-xuAG28kv"
      },
      "source": [
        "#참고 https://losskatsu.github.io/statistics/prob-distribution/#%EC%B0%B8%EA%B3%A0-%ED%99%95%EB%A5%A0%EB%B6%84%ED%8F%AC%EA%B0%84-%EA%B4%80%EA%B3%84%EB%8F%84"
      ],
      "execution_count": 1,
      "outputs": []
    },
    {
      "cell_type": "code",
      "metadata": {
        "id": "6KfE2kk7v_LT"
      },
      "source": [
        "import requests\n",
        "from bs4 import BeautifulSoup\n",
        "import pandas as pd\n",
        "import numpy as np\n",
        "import datetime\n",
        "import ast\n",
        "\n",
        "class Stock:\n",
        "  def __init__(self, code):\n",
        "    self.code = code\n",
        "    self.headers = {'User-Agent' : 'Mozilla/5.0 (Macintosh; Intel Mac OS X 10_14_6) AppleWebKit/537.36 (KHTML, like Gecko) Chrome/85.0.4183.121 Safari/537.36'}\n",
        "\n",
        "  def get_price(self, start:int='20180501', interval='day'):\n",
        "    url ='https://api.finance.naver.com/siseJson.naver?symbol=' + self.code + ' &requestType=1&startTime=' \\\n",
        "    + start + '&endTime=' + str(datetime.datetime.now().date().strftime(\"%Y%m%d\")) +  '&timeframe=' + interval\n",
        "\n",
        "    result = requests.get(url)\n",
        "    bs_obj = BeautifulSoup(result.content, \"html.parser\")\n",
        "    b = bs_obj.get_text()\n",
        "    for i in ['\\n', '\\t', \"\\\\\", ' ']:\n",
        "      b = b.replace(i,'')\n",
        "\n",
        "    data = np.array(ast.literal_eval(b)[1:])\n",
        "\n",
        "    dic = {'Date':list(map(lambda x: datetime.datetime.strptime(str(x), '%Y%m%d'), data[:,0])), \\\n",
        "      'Open':np.array(data[:,1], int), 'High':np.array(data[:,2], int), 'Low':np.array(data[:,3], int),\\\n",
        "       'Close':np.array(data[:,4], int), 'Volume':np.array(data[:,5], int)}\n",
        "\n",
        "    df = pd.DataFrame(data=dic)\n",
        "    df = df.set_index('Date')\n",
        "    return df"
      ],
      "execution_count": 2,
      "outputs": []
    },
    {
      "cell_type": "code",
      "metadata": {
        "id": "dLDoNn0qlCMl",
        "colab": {
          "base_uri": "https://localhost:8080/",
          "height": 450
        },
        "outputId": "83764979-8581-4fb2-804a-563d33211e9e"
      },
      "source": [
        "stock = Stock('KOSPI')\n",
        "df = stock.get_price('20000101')\n",
        "df['Change'] = round(df['Close'] / df['Open'], 4)\n",
        "df"
      ],
      "execution_count": 3,
      "outputs": [
        {
          "output_type": "execute_result",
          "data": {
            "text/html": [
              "<div>\n",
              "<style scoped>\n",
              "    .dataframe tbody tr th:only-of-type {\n",
              "        vertical-align: middle;\n",
              "    }\n",
              "\n",
              "    .dataframe tbody tr th {\n",
              "        vertical-align: top;\n",
              "    }\n",
              "\n",
              "    .dataframe thead th {\n",
              "        text-align: right;\n",
              "    }\n",
              "</style>\n",
              "<table border=\"1\" class=\"dataframe\">\n",
              "  <thead>\n",
              "    <tr style=\"text-align: right;\">\n",
              "      <th></th>\n",
              "      <th>Open</th>\n",
              "      <th>High</th>\n",
              "      <th>Low</th>\n",
              "      <th>Close</th>\n",
              "      <th>Volume</th>\n",
              "      <th>Change</th>\n",
              "    </tr>\n",
              "    <tr>\n",
              "      <th>Date</th>\n",
              "      <th></th>\n",
              "      <th></th>\n",
              "      <th></th>\n",
              "      <th></th>\n",
              "      <th></th>\n",
              "      <th></th>\n",
              "    </tr>\n",
              "  </thead>\n",
              "  <tbody>\n",
              "    <tr>\n",
              "      <th>2000-01-04</th>\n",
              "      <td>102833</td>\n",
              "      <td>106618</td>\n",
              "      <td>101659</td>\n",
              "      <td>105904</td>\n",
              "      <td>195898</td>\n",
              "      <td>1.0299</td>\n",
              "    </tr>\n",
              "    <tr>\n",
              "      <th>2000-01-05</th>\n",
              "      <td>100687</td>\n",
              "      <td>102652</td>\n",
              "      <td>98405</td>\n",
              "      <td>98631</td>\n",
              "      <td>257696</td>\n",
              "      <td>0.9796</td>\n",
              "    </tr>\n",
              "    <tr>\n",
              "      <th>2000-01-06</th>\n",
              "      <td>101395</td>\n",
              "      <td>101490</td>\n",
              "      <td>95350</td>\n",
              "      <td>96079</td>\n",
              "      <td>203523</td>\n",
              "      <td>0.9476</td>\n",
              "    </tr>\n",
              "    <tr>\n",
              "      <th>2000-01-07</th>\n",
              "      <td>94917</td>\n",
              "      <td>97016</td>\n",
              "      <td>93084</td>\n",
              "      <td>94865</td>\n",
              "      <td>215664</td>\n",
              "      <td>0.9995</td>\n",
              "    </tr>\n",
              "    <tr>\n",
              "      <th>2000-01-10</th>\n",
              "      <td>97967</td>\n",
              "      <td>99494</td>\n",
              "      <td>97482</td>\n",
              "      <td>98724</td>\n",
              "      <td>240175</td>\n",
              "      <td>1.0077</td>\n",
              "    </tr>\n",
              "    <tr>\n",
              "      <th>...</th>\n",
              "      <td>...</td>\n",
              "      <td>...</td>\n",
              "      <td>...</td>\n",
              "      <td>...</td>\n",
              "      <td>...</td>\n",
              "      <td>...</td>\n",
              "    </tr>\n",
              "    <tr>\n",
              "      <th>2021-10-06</th>\n",
              "      <td>298606</td>\n",
              "      <td>299347</td>\n",
              "      <td>290830</td>\n",
              "      <td>290831</td>\n",
              "      <td>901721</td>\n",
              "      <td>0.9740</td>\n",
              "    </tr>\n",
              "    <tr>\n",
              "      <th>2021-10-07</th>\n",
              "      <td>293687</td>\n",
              "      <td>296153</td>\n",
              "      <td>292760</td>\n",
              "      <td>295946</td>\n",
              "      <td>595381</td>\n",
              "      <td>1.0077</td>\n",
              "    </tr>\n",
              "    <tr>\n",
              "      <th>2021-10-08</th>\n",
              "      <td>297782</td>\n",
              "      <td>297808</td>\n",
              "      <td>294901</td>\n",
              "      <td>295630</td>\n",
              "      <td>668946</td>\n",
              "      <td>0.9928</td>\n",
              "    </tr>\n",
              "    <tr>\n",
              "      <th>2021-10-12</th>\n",
              "      <td>295022</td>\n",
              "      <td>295094</td>\n",
              "      <td>290151</td>\n",
              "      <td>291638</td>\n",
              "      <td>660180</td>\n",
              "      <td>0.9885</td>\n",
              "    </tr>\n",
              "    <tr>\n",
              "      <th>2021-10-13</th>\n",
              "      <td>291334</td>\n",
              "      <td>295333</td>\n",
              "      <td>290947</td>\n",
              "      <td>294621</td>\n",
              "      <td>643067</td>\n",
              "      <td>1.0113</td>\n",
              "    </tr>\n",
              "  </tbody>\n",
              "</table>\n",
              "<p>5377 rows × 6 columns</p>\n",
              "</div>"
            ],
            "text/plain": [
              "              Open    High     Low   Close  Volume  Change\n",
              "Date                                                      \n",
              "2000-01-04  102833  106618  101659  105904  195898  1.0299\n",
              "2000-01-05  100687  102652   98405   98631  257696  0.9796\n",
              "2000-01-06  101395  101490   95350   96079  203523  0.9476\n",
              "2000-01-07   94917   97016   93084   94865  215664  0.9995\n",
              "2000-01-10   97967   99494   97482   98724  240175  1.0077\n",
              "...            ...     ...     ...     ...     ...     ...\n",
              "2021-10-06  298606  299347  290830  290831  901721  0.9740\n",
              "2021-10-07  293687  296153  292760  295946  595381  1.0077\n",
              "2021-10-08  297782  297808  294901  295630  668946  0.9928\n",
              "2021-10-12  295022  295094  290151  291638  660180  0.9885\n",
              "2021-10-13  291334  295333  290947  294621  643067  1.0113\n",
              "\n",
              "[5377 rows x 6 columns]"
            ]
          },
          "metadata": {},
          "execution_count": 3
        }
      ]
    },
    {
      "cell_type": "code",
      "metadata": {
        "id": "sKfzzZwH2v7l"
      },
      "source": [
        "# 샘플링\n",
        "#sampled_df = df.sample(n=10000)\n",
        "sampled_df = df"
      ],
      "execution_count": 4,
      "outputs": []
    },
    {
      "cell_type": "code",
      "metadata": {
        "colab": {
          "base_uri": "https://localhost:8080/",
          "height": 592
        },
        "id": "x7jwqY01L6JD",
        "outputId": "3eb1c51f-ed3a-4317-973e-4564225851b1"
      },
      "source": [
        "# 확률분포\n",
        "import matplotlib.pyplot as plt\n",
        "\n",
        "plt.subplots(figsize=(10, 10))\n",
        "plt.hist(df[np.isfinite(df['Change'])]['Change'], bins= 'auto')\n",
        "plt.show()"
      ],
      "execution_count": 5,
      "outputs": [
        {
          "output_type": "display_data",
          "data": {
            "image/png": "[encoded data removed]",
            "text/plain": [
              "<Figure size 720x720 with 1 Axes>"
            ]
          },
          "metadata": {
            "needs_background": "light"
          }
        }
      ]
    },
    {
      "cell_type": "code",
      "metadata": {
        "colab": {
          "base_uri": "https://localhost:8080/"
        },
        "id": "Ce82v01sNdYr",
        "outputId": "5e1eb554-bffa-4eda-f8b1-8258b82aa138"
      },
      "source": [
        "print('lowest 5th percentile: ', round(np.percentile(sampled_df['Change'], 5), 5))\n",
        "print('highest 5th percentile: ', round(np.percentile(sampled_df['Change'], 95), 5))\n",
        "print(sum(sampled_df['Change'] > 1.0) / len(sampled_df['Change']))"
      ],
      "execution_count": 6,
      "outputs": [
        {
          "output_type": "stream",
          "name": "stdout",
          "text": [
            "lowest 5th percentile:  0.9806\n",
            "highest 5th percentile:  1.01722\n",
            "0.4883764180769946\n"
          ]
        }
      ]
    },
    {
      "cell_type": "code",
      "metadata": {
        "id": "wa6ZSsQy3huD",
        "colab": {
          "base_uri": "https://localhost:8080/"
        },
        "outputId": "f6856448-04ab-42fd-844a-f39660d8d71a"
      },
      "source": [
        "# change > 1\n",
        "filter = sampled_df[sampled_df['Change'] > 1]\n",
        "\n",
        "# show after range\n",
        "filter_next = sampled_df[sampled_df.shift(1)['Change'] > 1]\n",
        "\n",
        "# 전날 1보다 컸을때 오늘 1보다 더 클 확률\n",
        "sum(filter_next['Change'] > 1) / len(filter_next['Change'])"
      ],
      "execution_count": 7,
      "outputs": [
        {
          "output_type": "execute_result",
          "data": {
            "text/plain": [
              "0.4704761904761905"
            ]
          },
          "metadata": {},
          "execution_count": 7
        }
      ]
    },
    {
      "cell_type": "code",
      "metadata": {
        "colab": {
          "base_uri": "https://localhost:8080/"
        },
        "id": "8JaM_u-n0FgE",
        "outputId": "0ff17778-faca-4598-e661-eb465bf7644a"
      },
      "source": [
        "# 기하분포\n",
        "# 성공의 확률인 p인 독립시행을 성공이 나올 때까지 계속한다고 할 때, 처음 성공까지 총 시도한 횟수 X의 확률분포.\n",
        "# Pr(X = x) = p*(1-p)^(x-1)\n",
        "# 𝝁   : 1/p  \n",
        "# 𝝈^2 : (1-p)/p^2\n",
        "\n",
        "# +%가 나올때가지 x의 확률\n",
        "p = sum(sampled_df['Change'] > 1.0) / len(sampled_df['Change'])\n",
        "print('p: ', p)\n",
        "print('mean: ', 1/p)\n",
        "print('variance: ', (1-p)/(p**2))"
      ],
      "execution_count": 8,
      "outputs": [
        {
          "output_type": "stream",
          "name": "stdout",
          "text": [
            "p:  0.4883764180769946\n",
            "mean:  2.0476009139375475\n",
            "variance:  2.1450685888203327\n"
          ]
        }
      ]
    },
    {
      "cell_type": "code",
      "metadata": {
        "id": "Q8UAcM90Z2_k"
      },
      "source": [
        "x= range(1,10)"
      ],
      "execution_count": 9,
      "outputs": []
    },
    {
      "cell_type": "code",
      "metadata": {
        "id": "Q160Cv0c1oQx"
      },
      "source": [
        "x = range(1,10)\n",
        "pr = list(map(lambda x: p*(1-p)**(x-1) , x))"
      ],
      "execution_count": 10,
      "outputs": []
    },
    {
      "cell_type": "code",
      "metadata": {
        "id": "lOiFrykt2u_p",
        "colab": {
          "base_uri": "https://localhost:8080/",
          "height": 265
        },
        "outputId": "51303e4a-4a42-4b80-8b65-4f9904cbe9a1"
      },
      "source": [
        "import matplotlib.pyplot as plt\n",
        "\n",
        "plt.plot(x, pr, 'bo')\n",
        "plt.vlines(x, 0, pr)\n",
        "plt.show()"
      ],
      "execution_count": 11,
      "outputs": [
        {
          "output_type": "display_data",
          "data": {
            "image/png": "[encoded data removed]",
            "text/plain": [
              "<Figure size 432x288 with 1 Axes>"
            ]
          },
          "metadata": {
            "needs_background": "light"
          }
        }
      ]
    },
    {
      "cell_type": "code",
      "metadata": {
        "id": "weSbGWRf1yrL",
        "colab": {
          "base_uri": "https://localhost:8080/"
        },
        "outputId": "307640f5-9c7f-4055-e266-d15ef966ad17"
      },
      "source": [
        "# 음이항분포\n",
        "# 성공의 확률인 p인 독립시행을 r번째 성공이 나올 때까지 계속한다고 할 때, 처음 성공까지 총 시도한 횟수 X의 확률분포.\n",
        "# Pr(X = x) = (x-1)C(r-1) * p^r * (1-p)^(x-r)\n",
        "# 𝝁   : r/p  \n",
        "# 𝝈^2 : r*(1-p)/p^2\n",
        "\n",
        "# 5번째 +%가 나올때가지 x의 확률\n",
        "p = sum(sampled_df['Change'] > 1.0) / len(sampled_df['Change'])\n",
        "r = 3\n",
        "print('p: ', p)\n",
        "print('mean: ', r/p)\n",
        "print('variance: ', r*(1-p)/(p**2))"
      ],
      "execution_count": 12,
      "outputs": [
        {
          "output_type": "stream",
          "name": "stdout",
          "text": [
            "p:  0.4883764180769946\n",
            "mean:  6.142802741812643\n",
            "variance:  6.435205766460998\n"
          ]
        }
      ]
    },
    {
      "cell_type": "code",
      "metadata": {
        "id": "jJA2AlYY7exA"
      },
      "source": [
        "import math\n",
        "\n",
        "def nCr(n,r):\n",
        "    f = math.factorial\n",
        "    return f(n) / (f(r) * f(n-r))\n",
        "\n",
        "x = range(r,50)\n",
        "pr = list(map(lambda x: nCr(x-1,r-1) * p**r * (1-p)**(x-r) , x))"
      ],
      "execution_count": 13,
      "outputs": []
    },
    {
      "cell_type": "code",
      "metadata": {
        "id": "gDIgiroO_S9N",
        "colab": {
          "base_uri": "https://localhost:8080/",
          "height": 265
        },
        "outputId": "4b38e457-93b9-423b-88d4-b4a4b5dfbe5f"
      },
      "source": [
        "import matplotlib.pyplot as plt\n",
        "\n",
        "pr = list(map(lambda x: nCr(x-1,r-1) * p**r * (1-p)**(x-r) , x))\n",
        "plt.plot(x, pr, 'bo')\n",
        "plt.vlines(x, 0, pr)\n",
        "plt.show()"
      ],
      "execution_count": 14,
      "outputs": [
        {
          "output_type": "display_data",
          "data": {
            "image/png": "[encoded data removed]",
            "text/plain": [
              "<Figure size 432x288 with 1 Axes>"
            ]
          },
          "metadata": {
            "needs_background": "light"
          }
        }
      ]
    },
    {
      "cell_type": "code",
      "metadata": {
        "id": "vpqa3VnVGc6J",
        "colab": {
          "base_uri": "https://localhost:8080/",
          "height": 265
        },
        "outputId": "c02441fe-c650-49db-9f43-a7c27acbc690"
      },
      "source": [
        "import matplotlib.pyplot as plt\n",
        "\n",
        "# 각각 0%, 1%, 2% 이상 r번의 시도에 나올 확률 \n",
        "p = sum(sampled_df['Change'] > 1.0) / len(sampled_df['Change']), sum(sampled_df['Change'] > 1.01) / len(sampled_df['Change']), \\\n",
        "sum(sampled_df['Change'] > 1.02) / len(sampled_df['Change']) \n",
        "\n",
        "for i in range(len(p)):\n",
        "  pr = list(map(lambda x: nCr(x-1,r-1) * p[i]**r * (1-p[i])**(x-r) , x))\n",
        "  plt.plot(x, pr)\n",
        "  plt.vlines(x, 0, pr)\n",
        "plt.legend(p)\n",
        "plt.show()"
      ],
      "execution_count": 15,
      "outputs": [
        {
          "output_type": "display_data",
          "data": {
            "image/png": "[encoded data removed]",
            "text/plain": [
              "<Figure size 432x288 with 1 Axes>"
            ]
          },
          "metadata": {
            "needs_background": "light"
          }
        }
      ]
    },
    {
      "cell_type": "code",
      "metadata": {
        "id": "TaOlP5EJ9qxZ",
        "colab": {
          "base_uri": "https://localhost:8080/"
        },
        "outputId": "925729d3-f6bb-4b07-debe-12a66e11f26d"
      },
      "source": [
        "# 메모용\n",
        "#\n",
        "# 초기하분포\n",
        "# 비복원추출에서 n개 중에 m개가 원하는 것이고, k번 추출했을때 원하는 것 x개가 뽑힐 확률의 분포이다.\n",
        "# Pr(X = x) = nCx * (n-m)C(k-x) / nCk\n",
        "# 𝝁   : k*m/n  \n",
        "# 𝝈^2 : (k*m/n) * ((n-m)*(n-k)/(n*(n-1)))\n",
        "\n",
        "# 5번째 +%가 나올때가지 x의 확률\n",
        "x = 1\n",
        "n = 3\n",
        "m = 2\n",
        "k = 6\n",
        "#print('p: ', nCr(n,x) * nCr(n-m,k-x) / nCr(n,k)) 오류 뜸 ㅆ\n",
        "print('mean: ', k*m/n)\n",
        "print('variance: ', ((k*m/n) * ((n-m)*(n-k))/(n*(n-x))))"
      ],
      "execution_count": 16,
      "outputs": [
        {
          "output_type": "stream",
          "name": "stdout",
          "text": [
            "mean:  4.0\n",
            "variance:  -2.0\n"
          ]
        }
      ]
    }
  ]
}