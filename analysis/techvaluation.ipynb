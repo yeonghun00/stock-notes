{
  "nbformat": 4,
  "nbformat_minor": 0,
  "metadata": {
    "colab": {
      "provenance": [],
      "authorship_tag": "ABX9TyNE106QxsVLx49eX6AoXGJl",
      "include_colab_link": true
    },
    "kernelspec": {
      "name": "python3",
      "display_name": "Python 3"
    },
    "language_info": {
      "name": "python"
    }
  },
  "cells": [
    {
      "cell_type": "markdown",
      "metadata": {
        "id": "view-in-github",
        "colab_type": "text"
      },
      "source": [
        "<a href=\"https://colab.research.google.com/github/yeonghun00/stock-notes/blob/main/analysis/techvaluation.ipynb\" target=\"_parent\"><img src=\"https://colab.research.google.com/assets/colab-badge.svg\" alt=\"Open In Colab\"/></a>"
      ]
    },
    {
      "cell_type": "code",
      "execution_count": null,
      "metadata": {
        "id": "RX8Xh8W0pNhZ"
      },
      "outputs": [],
      "source": [
        "\n",
        "def get_valuation(self, df):\n",
        "    return sum([self.macd_valuation(df), self.rsi_valuation(df), self.stoch_valuation(df), self.cci_valuation(df)]) + 4\n",
        "\n",
        "def rsi_valuation(self, df, n=14, threshold=70):\n",
        "    def calculate_rsi(column):\n",
        "        delta = column.diff()\n",
        "        gain = delta.where(delta > 0, 0)\n",
        "        loss = -delta.where(delta < 0, 0)\n",
        "        avg_gain = gain.rolling(window=n).mean()\n",
        "        avg_loss = loss.rolling(window=n).mean()\n",
        "        rs = avg_gain / avg_loss\n",
        "        rsi = 100 - (100 / (1 + rs))\n",
        "        return rsi.iloc[-1]\n",
        "\n",
        "    rsi_values = df.apply(calculate_rsi, axis=0)\n",
        "    valuation_status = rsi_values.apply(lambda x: 1 if x > threshold else (-1 if x < 30 else 0)).to_dict()\n",
        "    return valuation_status['Close']\n",
        "\n",
        "def macd_valuation(self, df, short_period=12, long_period=26, signal_period=9, threshold=0):\n",
        "    def calculate_macd_histogram(column):\n",
        "        short_ema = column.ewm(span=short_period, adjust=False).mean()\n",
        "        long_ema = column.ewm(span=long_period, adjust=False).mean()\n",
        "        macd_line = short_ema - long_ema\n",
        "        signal_line = macd_line.ewm(span=signal_period, adjust=False).mean()\n",
        "        macd_histogram = macd_line - signal_line\n",
        "        return macd_histogram\n",
        "\n",
        "    macd_histograms = df.apply(calculate_macd_histogram, axis=0)\n",
        "    latest_macd_histogram = macd_histograms.iloc[-1]\n",
        "    valuation_status = latest_macd_histogram.apply(lambda x: 1 if x > threshold else (-1 if x < -threshold else 0)).to_dict()\n",
        "    return valuation_status['Close']\n",
        "\n",
        "def stoch_valuation(self, df, n=14, k=3, d=3, k_threshold=70, d_threshold=70):\n",
        "    def calculate_stoch(df):\n",
        "        low_min = df['Low'].rolling(window=n).min()\n",
        "        high_max = df['High'].rolling(window=n).max()\n",
        "        pct_k = ((df['Close'] - low_min) / (high_max - low_min)) * 100\n",
        "        pct_d = pct_k.rolling(window=k).mean()\n",
        "        slow_pct_d = pct_d.rolling(window=d).mean()\n",
        "        return pct_k.iloc[-1], pct_d.iloc[-1], slow_pct_d.iloc[-1]\n",
        "\n",
        "    stoch_values = calculate_stoch(df)\n",
        "    status = 1 if (stoch_values[0] > k_threshold and stoch_values[1] > d_threshold) else (-1 if (stoch_values[0] < 30 and stoch_values[1] < 30) else 0)\n",
        "    return status\n",
        "\n",
        "def cci_valuation(self, df, n=20, constant=0.015, cci_threshold=100):\n",
        "    typical_price = (df['High'] + df['Low'] + df['Close']) / 3\n",
        "    mean_deviation = (typical_price - typical_price.rolling(window=n).mean()).abs().rolling(window=n).mean()\n",
        "    cci = (typical_price - typical_price.rolling(window=n).mean()) / (constant * mean_deviation)\n",
        "    status = 1 if cci.iloc[-1] > cci_threshold else (-1 if cci.iloc[-1] < -cci_threshold else 0)\n",
        "    return status"
      ]
    }
  ]
}