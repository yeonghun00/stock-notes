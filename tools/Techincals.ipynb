{
  "nbformat": 4,
  "nbformat_minor": 0,
  "metadata": {
    "colab": {
      "name": "techincals.ipynb",
      "provenance": [],
      "collapsed_sections": [],
      "authorship_tag": "ABX9TyObE/uJHgveEoyqtqFJgS3S",
      "include_colab_link": true
    },
    "kernelspec": {
      "name": "python3",
      "display_name": "Python 3"
    },
    "language_info": {
      "name": "python"
    }
  },
  "cells": [
    {
      "cell_type": "markdown",
      "metadata": {
        "id": "view-in-github",
        "colab_type": "text"
      },
      "source": [
        "<a href=\"https://colab.research.google.com/github/yeonghun00/stock_public/blob/main/tools/Techincals.ipynb\" target=\"_parent\"><img src=\"https://colab.research.google.com/assets/colab-badge.svg\" alt=\"Open In Colab\"/></a>"
      ]
    },
    {
      "cell_type": "code",
      "metadata": {
        "id": "SQHPBGpzqxWB"
      },
      "source": [
        "import requests\n",
        "from bs4 import BeautifulSoup\n",
        "import pandas as pd\n",
        "import numpy as np\n",
        "import datetime\n",
        "import ast\n",
        "\n",
        "class Stock:\n",
        "  def __init__(self, code):\n",
        "    self.code = code\n",
        "    self.headers = {'User-Agent' : 'Mozilla/5.0 (Macintosh; Intel Mac OS X 10_14_6) AppleWebKit/537.36 (KHTML, like Gecko) Chrome/85.0.4183.121 Safari/537.36'}\n",
        "\n",
        "  def get_price(self, start:int='20200501', interval='day'):\n",
        "    url ='https://api.finance.naver.com/siseJson.naver?symbol=' + self.code + ' &requestType=1&startTime=' \\\n",
        "    + start + '&endTime=' + str(datetime.datetime.now().date().strftime(\"%Y%m%d\")) +  '&timeframe=' + interval\n",
        "\n",
        "    result = requests.get(url)\n",
        "    bs_obj = BeautifulSoup(result.content, \"html.parser\")\n",
        "    b = bs_obj.get_text()\n",
        "    for i in ['\\n', '\\t', \"\\\\\", ' ']:\n",
        "      b = b.replace(i,'')\n",
        "\n",
        "    data = np.array(ast.literal_eval(b)[1:])\n",
        "\n",
        "    dic = {'Date':list(map(lambda x: datetime.datetime.strptime(str(x), '%Y%m%d'), data[:,0])), \\\n",
        "      'Open':np.array(data[:,1], int), 'High':np.array(data[:,2], int), 'Low':np.array(data[:,3], int),\\\n",
        "       'Close':np.array(data[:,4], int), 'Volume':np.array(data[:,5], int)}\n",
        "\n",
        "    df = pd.DataFrame(data=dic)\n",
        "    df = df.set_index('Date')\n",
        "    return df\n",
        "    \n",
        "  def get_fundamental(self):\n",
        "    url = 'https://finance.naver.com/item/main.nhn?code=' + self.code\n",
        "    result = requests.get(url, headers = self.headers)\n",
        "    bs_obj = BeautifulSoup(result.content, \"html.parser\")\n",
        "\n",
        "    ths = bs_obj.find_all(\"th\", {'scope':'col'})\n",
        "    ths = [th.get_text() for th in ths][10:-22]\n",
        "    dates = list(map(lambda x: x.translate(str.maketrans('','','\\n\\t, ')),ths))\n",
        "    dates = list(map(lambda x: x + '(Y)', dates[:4])) + list(map(lambda x: x + '(M)', dates[4:]))\n",
        "\n",
        "    tr = bs_obj.find_all(\"tbody\")\n",
        "    tds = tr[2].find_all('td')\n",
        "    tds = [td.get_text() for td in tds]\n",
        "    elements = list(map(lambda x: x.translate(str.maketrans('','','\\n\\t, ')),tds))\n",
        "    elements = list(map(lambda x: float(x) if x.replace('.','').isdigit() else np.nan, elements))\n",
        "\n",
        "    temp_dict = {}\n",
        "    cnt = 0\n",
        "    index = ['sales', 'operating profit', 'net income', 'operating margin', 'net margin', 'roe', 'debt ratio', 'quick ratio', \\\n",
        "    'reserve ratio', 'eps', 'per', 'bps', 'pbr', 'dividend per share', 'dividend yield ratio', 'dividend payout ratio']\n",
        "\n",
        "    for i in dates:\n",
        "      temp_dict[i] = elements[cnt::10]\n",
        "      cnt += 1\n",
        "\n",
        "    df = pd.DataFrame.from_dict(temp_dict)\n",
        "    df = df.set_index([pd.Index(index)])\n",
        "    return df"
      ],
      "execution_count": 1,
      "outputs": []
    },
    {
      "cell_type": "code",
      "metadata": {
        "colab": {
          "base_uri": "https://localhost:8080/",
          "height": 450
        },
        "id": "zV3lCJWRrRZk",
        "outputId": "187bf3a3-c570-4767-c73b-11f14524bdbc"
      },
      "source": [
        "code = '005930'\n",
        "\n",
        "stock = Stock(code)\n",
        "df = stock.get_price('20200401')\n",
        "df"
      ],
      "execution_count": 2,
      "outputs": [
        {
          "output_type": "execute_result",
          "data": {
            "text/html": [
              "<div>\n",
              "<style scoped>\n",
              "    .dataframe tbody tr th:only-of-type {\n",
              "        vertical-align: middle;\n",
              "    }\n",
              "\n",
              "    .dataframe tbody tr th {\n",
              "        vertical-align: top;\n",
              "    }\n",
              "\n",
              "    .dataframe thead th {\n",
              "        text-align: right;\n",
              "    }\n",
              "</style>\n",
              "<table border=\"1\" class=\"dataframe\">\n",
              "  <thead>\n",
              "    <tr style=\"text-align: right;\">\n",
              "      <th></th>\n",
              "      <th>Open</th>\n",
              "      <th>High</th>\n",
              "      <th>Low</th>\n",
              "      <th>Close</th>\n",
              "      <th>Volume</th>\n",
              "    </tr>\n",
              "    <tr>\n",
              "      <th>Date</th>\n",
              "      <th></th>\n",
              "      <th></th>\n",
              "      <th></th>\n",
              "      <th></th>\n",
              "      <th></th>\n",
              "    </tr>\n",
              "  </thead>\n",
              "  <tbody>\n",
              "    <tr>\n",
              "      <th>2020-04-01</th>\n",
              "      <td>47450</td>\n",
              "      <td>47900</td>\n",
              "      <td>45800</td>\n",
              "      <td>45800</td>\n",
              "      <td>27259532</td>\n",
              "    </tr>\n",
              "    <tr>\n",
              "      <th>2020-04-02</th>\n",
              "      <td>46200</td>\n",
              "      <td>46850</td>\n",
              "      <td>45350</td>\n",
              "      <td>46800</td>\n",
              "      <td>21621076</td>\n",
              "    </tr>\n",
              "    <tr>\n",
              "      <th>2020-04-03</th>\n",
              "      <td>47400</td>\n",
              "      <td>47600</td>\n",
              "      <td>46550</td>\n",
              "      <td>47000</td>\n",
              "      <td>22784682</td>\n",
              "    </tr>\n",
              "    <tr>\n",
              "      <th>2020-04-06</th>\n",
              "      <td>47500</td>\n",
              "      <td>48800</td>\n",
              "      <td>47250</td>\n",
              "      <td>48700</td>\n",
              "      <td>23395726</td>\n",
              "    </tr>\n",
              "    <tr>\n",
              "      <th>2020-04-07</th>\n",
              "      <td>49650</td>\n",
              "      <td>50200</td>\n",
              "      <td>49000</td>\n",
              "      <td>49600</td>\n",
              "      <td>31524034</td>\n",
              "    </tr>\n",
              "    <tr>\n",
              "      <th>...</th>\n",
              "      <td>...</td>\n",
              "      <td>...</td>\n",
              "      <td>...</td>\n",
              "      <td>...</td>\n",
              "      <td>...</td>\n",
              "    </tr>\n",
              "    <tr>\n",
              "      <th>2021-05-17</th>\n",
              "      <td>80800</td>\n",
              "      <td>80900</td>\n",
              "      <td>79200</td>\n",
              "      <td>79600</td>\n",
              "      <td>17740855</td>\n",
              "    </tr>\n",
              "    <tr>\n",
              "      <th>2021-05-18</th>\n",
              "      <td>79600</td>\n",
              "      <td>80000</td>\n",
              "      <td>79100</td>\n",
              "      <td>79600</td>\n",
              "      <td>17494407</td>\n",
              "    </tr>\n",
              "    <tr>\n",
              "      <th>2021-05-20</th>\n",
              "      <td>79400</td>\n",
              "      <td>79700</td>\n",
              "      <td>79100</td>\n",
              "      <td>79500</td>\n",
              "      <td>16541828</td>\n",
              "    </tr>\n",
              "    <tr>\n",
              "      <th>2021-05-21</th>\n",
              "      <td>80100</td>\n",
              "      <td>81500</td>\n",
              "      <td>79800</td>\n",
              "      <td>80100</td>\n",
              "      <td>20961714</td>\n",
              "    </tr>\n",
              "    <tr>\n",
              "      <th>2021-05-24</th>\n",
              "      <td>80100</td>\n",
              "      <td>80400</td>\n",
              "      <td>79500</td>\n",
              "      <td>79500</td>\n",
              "      <td>11698567</td>\n",
              "    </tr>\n",
              "  </tbody>\n",
              "</table>\n",
              "<p>282 rows × 5 columns</p>\n",
              "</div>"
            ],
            "text/plain": [
              "             Open   High    Low  Close    Volume\n",
              "Date                                            \n",
              "2020-04-01  47450  47900  45800  45800  27259532\n",
              "2020-04-02  46200  46850  45350  46800  21621076\n",
              "2020-04-03  47400  47600  46550  47000  22784682\n",
              "2020-04-06  47500  48800  47250  48700  23395726\n",
              "2020-04-07  49650  50200  49000  49600  31524034\n",
              "...           ...    ...    ...    ...       ...\n",
              "2021-05-17  80800  80900  79200  79600  17740855\n",
              "2021-05-18  79600  80000  79100  79600  17494407\n",
              "2021-05-20  79400  79700  79100  79500  16541828\n",
              "2021-05-21  80100  81500  79800  80100  20961714\n",
              "2021-05-24  80100  80400  79500  79500  11698567\n",
              "\n",
              "[282 rows x 5 columns]"
            ]
          },
          "metadata": {
            "tags": []
          },
          "execution_count": 2
        }
      ]
    },
    {
      "cell_type": "code",
      "metadata": {
        "id": "Sv9dztAPBgCX"
      },
      "source": [
        "import math\n",
        "\n",
        "class Technicals:\n",
        "  def __init__(self, df):\n",
        "    self.df = df\n",
        "\n",
        "  def get_mins(self, position:str='Close', adj_co:int=5):\n",
        "      new_dict = {'date': [], position: []}\n",
        "      for i in range(df.shape[0]):\n",
        "          if (i - adj_co >= 0 and i + adj_co < df.shape[0]):\n",
        "              if min(self.df.loc[self.df.index[i - adj_co:i + adj_co]][position].values) >= self.df.loc[self.df.index[i]][position]:\n",
        "                  new_dict['date'].append(self.df.index[i])\n",
        "                  new_dict[position].append(self.df.loc[self.df.index[i]][position])\n",
        "              else:\n",
        "                  new_dict['date'].append(self.df.index[i])\n",
        "                  new_dict[position].append(None)\n",
        "          else:\n",
        "              new_dict['date'].append(self.df.index[i])\n",
        "              new_dict[position].append(None)\n",
        "\n",
        "      new_df = pd.DataFrame.from_dict(new_dict)\n",
        "      new_df = new_df.set_index('date')\n",
        "\n",
        "      return new_df\n",
        "\n",
        "  def get_maxs(self, position:str='Close', adj_co:int=5):\n",
        "      new_dict = {'date': [], position: []}\n",
        "      for i in range(df.shape[0]):\n",
        "          if (i - adj_co >= 0 and i + adj_co < df.shape[0]):\n",
        "              if max(self.df.loc[self.df.index[i - adj_co:i + adj_co]][position].values) <= self.df.loc[self.df.index[i]][position]:\n",
        "                  new_dict['date'].append(self.df.index[i])\n",
        "                  new_dict[position].append(self.df.loc[self.df.index[i]][position])\n",
        "              else:\n",
        "                  new_dict['date'].append(self.df.index[i])\n",
        "                  new_dict[position].append(None)\n",
        "          else:\n",
        "              new_dict['date'].append(self.df.index[i])\n",
        "              new_dict[position].append(None)\n",
        "\n",
        "      new_df = pd.DataFrame.from_dict(new_dict)\n",
        "      new_df = new_df.set_index('date')\n",
        "\n",
        "      return new_df\n",
        "\n",
        "  def get_closeness(self, pos:str='max', position:str='Close', adj_co:int=5)->list:\n",
        "    if pos == 'min':\n",
        "      li = [x for x in self.get_mins(position, adj_co)['Close'] if not math.isnan(x)]\n",
        "    elif pos == 'max':\n",
        "      li = [x for x in self.get_maxs(position, adj_co)['Close'] if not math.isnan(x)]\n",
        "    current = self.df.iloc[-1]['Close']\n",
        "\n",
        "    return li/current\n",
        "\n",
        "  def get_highvolumes(self, ranking:int=5):\n",
        "    return self.df['Volume'].sort_values().iloc[-ranking:]\n",
        "\n",
        "  def get_weight(self):\n",
        "    v = self.df['Volume']\n",
        "    volume_weight = (v-min(v))/(max(v)-min(v))\n",
        "\n",
        "    p = pd.DataFrame({'P':range(len(df.index.values),0,-1)}, index = df.index.values)['P']\n",
        "    position_weight = (p-min(p))/(max(p)-min(p))\n",
        "\n",
        "    return volume_weight, position_weight  "
      ],
      "execution_count": 3,
      "outputs": []
    },
    {
      "cell_type": "code",
      "metadata": {
        "id": "lQkgVpD_7XVV"
      },
      "source": [
        "tech = Technicals(df)"
      ],
      "execution_count": 4,
      "outputs": []
    },
    {
      "cell_type": "code",
      "metadata": {
        "id": "HPxcaOBi6yE4"
      },
      "source": [
        "d = pd.DataFrame({'D':1}, index = df.index.values)['D']\n",
        "weighted_d = d * tech.get_weight()[0].values "
      ],
      "execution_count": 5,
      "outputs": []
    },
    {
      "cell_type": "code",
      "metadata": {
        "id": "TDKouqhP6671"
      },
      "source": [
        "value_position = tech.get_maxs('Close', 10)['Close'] * 0 + 1\n",
        "scores = pd.DataFrame({'Score':[a * b for a, b in zip(weighted_d, value_position)]}, index = df.index.values)\n",
        "#score = score.dropna()\n",
        "#score.sort_values(by=['Score'])"
      ],
      "execution_count": 6,
      "outputs": []
    },
    {
      "cell_type": "code",
      "metadata": {
        "id": "0DJZv9T3GtaB",
        "colab": {
          "base_uri": "https://localhost:8080/",
          "height": 445
        },
        "outputId": "bf003b9c-7d2f-4339-ccbe-395688aaf325"
      },
      "source": [
        "import matplotlib.pyplot as plt\n",
        "from matplotlib.pyplot import figure\n",
        "\n",
        "fig, axs = plt.subplots(3,1,figsize=(13,7), gridspec_kw={'height_ratios': [5, 2,2]})\n",
        "axs[0].plot(df['Close'])\n",
        "axs[0].scatter(x=df.index, y=tech.get_maxs('High', 10), c='#ff0000', marker='o')\n",
        "axs[0].scatter(x=df.index, y=tech.get_mins('Low', 10), c='#0008ff', marker='o')\n",
        "\n",
        "axs[1].bar(x=df.index, height=df['Volume'], color='#ff5900')\n",
        "temp_scores = scores.fillna(0)\n",
        "axs[2].bar(x=df.index, height=temp_scores['Score'])\n",
        "\n",
        "axs[0].set_xticks([])\n",
        "axs[1].set_xticks([])"
      ],
      "execution_count": 7,
      "outputs": [
        {
          "output_type": "execute_result",
          "data": {
            "text/plain": [
              "[]"
            ]
          },
          "metadata": {
            "tags": []
          },
          "execution_count": 7
        },
        {
          "output_type": "display_data",
          "data": {
            "image/png": "[encoded data removed]",
            "text/plain": [
              "<Figure size 936x504 with 3 Axes>"
            ]
          },
          "metadata": {
            "tags": [],
            "needs_background": "light"
          }
        }
      ]
    },
    {
      "cell_type": "code",
      "metadata": {
        "id": "_SKgOh1wKpM7"
      },
      "source": [
        "# find max among, cal increase prob\n",
        "# find distance ==> (weight)"
      ],
      "execution_count": 8,
      "outputs": []
    },
    {
      "cell_type": "code",
      "metadata": {
        "id": "fQFhoo167zPS"
      },
      "source": [
        ""
      ],
      "execution_count": 8,
      "outputs": []
    }
  ]
}
