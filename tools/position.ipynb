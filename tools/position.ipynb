{
  "nbformat": 4,
  "nbformat_minor": 0,
  "metadata": {
    "colab": {
      "name": "Untitled60.ipynb",
      "provenance": [],
      "collapsed_sections": [],
      "authorship_tag": "ABX9TyMgrP5FiuyqvW5NJMD7zH62",
      "include_colab_link": true
    },
    "kernelspec": {
      "name": "python3",
      "display_name": "Python 3"
    },
    "language_info": {
      "name": "python"
    }
  },
  "cells": [
    {
      "cell_type": "markdown",
      "metadata": {
        "id": "view-in-github",
        "colab_type": "text"
      },
      "source": [
        "<a href=\"https://colab.research.google.com/github/yeonghun00/stock-notes/blob/main/tools/position.ipynb\" target=\"_parent\"><img src=\"https://colab.research.google.com/assets/colab-badge.svg\" alt=\"Open In Colab\"/></a>"
      ]
    },
    {
      "cell_type": "code",
      "metadata": {
        "id": "eqSkzAFqoFtv"
      },
      "source": [
        "# index, stock volatility, posiiton"
      ],
      "execution_count": null,
      "outputs": []
    },
    {
      "cell_type": "code",
      "metadata": {
        "id": "dR6VK9nAoXrQ"
      },
      "source": [
        "import requests\n",
        "from bs4 import BeautifulSoup\n",
        "import pandas as pd\n",
        "import numpy as np\n",
        "import datetime\n",
        "import ast\n",
        "\n",
        "class Stock:\n",
        "  def __init__(self, code):\n",
        "    self.code = code\n",
        "    self.headers = {'User-Agent' : 'Mozilla/5.0 (Macintosh; Intel Mac OS X 10_14_6) AppleWebKit/537.36 (KHTML, like Gecko) Chrome/85.0.4183.121 Safari/537.36'}\n",
        "\n",
        "  def get_price(self, start:int='20180501', interval='day'):\n",
        "    url ='https://api.finance.naver.com/siseJson.naver?symbol=' + self.code + '&requestType=1&startTime=' \\\n",
        "    + start + '&endTime=' + str(datetime.datetime.now().date().strftime(\"%Y%m%d\")) +  '&timeframe=' + interval\n",
        "\n",
        "    result = requests.get(url)\n",
        "    bs_obj = BeautifulSoup(result.content, \"html.parser\")\n",
        "    b = bs_obj.get_text()\n",
        "    for i in ['\\n', '\\t', \"\\\\\", ' ']:\n",
        "      b = b.replace(i,'')\n",
        "\n",
        "    data = np.array(ast.literal_eval(b)[1:])\n",
        "\n",
        "    dic = {'Date':list(map(lambda x: datetime.datetime.strptime(str(x), '%Y%m%d'), data[:,0])), \\\n",
        "      'Open':np.array(data[:,1], float), 'High':np.array(data[:,2], float), 'Low':np.array(data[:,3], float),\\\n",
        "       'Close':np.array(data[:,4], float), 'Volume':np.array(data[:,5], float)}\n",
        "\n",
        "    df = pd.DataFrame(data=dic)\n",
        "    df = df.set_index('Date')\n",
        "    return df"
      ],
      "execution_count": null,
      "outputs": []
    },
    {
      "cell_type": "code",
      "metadata": {
        "id": "ItxTiVZDvx-r"
      },
      "source": [
        "# 3 years\n",
        "now = datetime.datetime.now().date()\n",
        "start_date = str(int(now.strftime(\"%Y\")) - 3) + now.strftime(\"%m%d\")"
      ],
      "execution_count": null,
      "outputs": []
    },
    {
      "cell_type": "code",
      "metadata": {
        "id": "nmIL3svdwqzR"
      },
      "source": [
        "stock = Stock('093380')\n",
        "stock_df = stock.get_price(start_date)\n",
        "stock_df['Change'] = stock_df['Close'][1:]/stock_df['Close'][:-1].values\n",
        "stock_df = stock_df.dropna()"
      ],
      "execution_count": null,
      "outputs": []
    },
    {
      "cell_type": "code",
      "metadata": {
        "id": "oZYq3iX8ojRD"
      },
      "source": [
        "index = Stock('KOSPI')\n",
        "index_df = index.get_price(start_date)\n",
        "index_df['Change'] = index_df['Close'][1:]/index_df['Close'][:-1].values\n",
        "index_df = index_df.dropna()"
      ],
      "execution_count": null,
      "outputs": []
    },
    {
      "cell_type": "code",
      "metadata": {
        "colab": {
          "base_uri": "https://localhost:8080/",
          "height": 592
        },
        "id": "j5UMXyZAuj73",
        "outputId": "8f593d26-c3c3-44b4-9e13-3d7744bd60f3"
      },
      "source": [
        "# Var\n",
        "import matplotlib.pyplot as plt\n",
        "\n",
        "plt.subplots(figsize=(10, 10))\n",
        "plt.hist(stock_df[np.isfinite(stock_df['Change'])]['Change'], bins= 'auto', alpha=0.5)\n",
        "plt.hist(index_df[np.isfinite(index_df['Change'])]['Change'], bins= 'auto', alpha=0.5)\n",
        "plt.legend(['Stock', 'Index'])\n",
        "plt.show()"
      ],
      "execution_count": null,
      "outputs": [
        {
          "output_type": "display_data",
          "data": {
            "image/png": "[encoded data removed]",
            "text/plain": [
              "<Figure size 720x720 with 1 Axes>"
            ]
          },
          "metadata": {
            "needs_background": "light"
          }
        }
      ]
    },
    {
      "cell_type": "code",
      "metadata": {
        "colab": {
          "base_uri": "https://localhost:8080/"
        },
        "id": "b3IRTPJdrwSD",
        "outputId": "9526989b-307b-4b84-e062-bca6faf5a2d3"
      },
      "source": [
        "print('Index')\n",
        "print('lowest 5th percentile: ', round(np.percentile(index_df['Change'], 5), 5))\n",
        "print('highest 5th percentile: ', round(np.percentile(index_df['Change'], 95), 5))\n",
        "\n",
        "print('Stock')\n",
        "print('lowest 5th percentile: ', round(np.percentile(stock_df['Change'], 5), 5))\n",
        "print('highest 5th percentile: ', round(np.percentile(stock_df['Change'], 95), 5))"
      ],
      "execution_count": null,
      "outputs": [
        {
          "output_type": "stream",
          "name": "stdout",
          "text": [
            "Index\n",
            "lowest 5th percentile:  0.98108\n",
            "highest 5th percentile:  1.01748\n",
            "Stock\n",
            "lowest 5th percentile:  0.94466\n",
            "highest 5th percentile:  1.05264\n"
          ]
        }
      ]
    },
    {
      "cell_type": "code",
      "metadata": {
        "colab": {
          "base_uri": "https://localhost:8080/"
        },
        "id": "ngWIk5hzrBGQ",
        "outputId": "a2043cfd-42fe-4216-ed7e-663656f2655e"
      },
      "source": [
        "# resistance \n",
        "# If high > 25% --> high limit ?\n",
        "len(stock_df[stock_df['Change'] > 1.28])/len(stock_df[stock_df['High']/stock_df['Open'] > 1.25])"
      ],
      "execution_count": null,
      "outputs": [
        {
          "output_type": "execute_result",
          "data": {
            "text/plain": [
              "0.6666666666666666"
            ]
          },
          "metadata": {},
          "execution_count": 98
        }
      ]
    },
    {
      "cell_type": "code",
      "metadata": {
        "colab": {
          "base_uri": "https://localhost:8080/",
          "height": 266
        },
        "id": "j6sNcTTdyJ-j",
        "outputId": "06479a81-ffad-46ee-e8bb-2de0e9219353"
      },
      "source": [
        ""
      ],
      "execution_count": null,
      "outputs": [
        {
          "output_type": "execute_result",
          "data": {
            "text/html": [
              "<div>\n",
              "<style scoped>\n",
              "    .dataframe tbody tr th:only-of-type {\n",
              "        vertical-align: middle;\n",
              "    }\n",
              "\n",
              "    .dataframe tbody tr th {\n",
              "        vertical-align: top;\n",
              "    }\n",
              "\n",
              "    .dataframe thead th {\n",
              "        text-align: right;\n",
              "    }\n",
              "</style>\n",
              "<table border=\"1\" class=\"dataframe\">\n",
              "  <thead>\n",
              "    <tr style=\"text-align: right;\">\n",
              "      <th></th>\n",
              "      <th>Open</th>\n",
              "      <th>High</th>\n",
              "      <th>Low</th>\n",
              "      <th>Close</th>\n",
              "      <th>Volume</th>\n",
              "      <th>Change</th>\n",
              "    </tr>\n",
              "    <tr>\n",
              "      <th>Date</th>\n",
              "      <th></th>\n",
              "      <th></th>\n",
              "      <th></th>\n",
              "      <th></th>\n",
              "      <th></th>\n",
              "      <th></th>\n",
              "    </tr>\n",
              "  </thead>\n",
              "  <tbody>\n",
              "    <tr>\n",
              "      <th>2018-12-20</th>\n",
              "      <td>2505.0</td>\n",
              "      <td>3240.0</td>\n",
              "      <td>2505.0</td>\n",
              "      <td>3240.0</td>\n",
              "      <td>2519393.0</td>\n",
              "      <td>1.298597</td>\n",
              "    </tr>\n",
              "    <tr>\n",
              "      <th>2018-12-27</th>\n",
              "      <td>2930.0</td>\n",
              "      <td>3695.0</td>\n",
              "      <td>2880.0</td>\n",
              "      <td>3440.0</td>\n",
              "      <td>10048258.0</td>\n",
              "      <td>1.192374</td>\n",
              "    </tr>\n",
              "    <tr>\n",
              "      <th>2019-09-05</th>\n",
              "      <td>3140.0</td>\n",
              "      <td>3980.0</td>\n",
              "      <td>3140.0</td>\n",
              "      <td>3645.0</td>\n",
              "      <td>9304292.0</td>\n",
              "      <td>1.175806</td>\n",
              "    </tr>\n",
              "    <tr>\n",
              "      <th>2020-02-17</th>\n",
              "      <td>3050.0</td>\n",
              "      <td>3950.0</td>\n",
              "      <td>3050.0</td>\n",
              "      <td>3680.0</td>\n",
              "      <td>15388923.0</td>\n",
              "      <td>1.210526</td>\n",
              "    </tr>\n",
              "    <tr>\n",
              "      <th>2021-01-04</th>\n",
              "      <td>3305.0</td>\n",
              "      <td>4290.0</td>\n",
              "      <td>3290.0</td>\n",
              "      <td>4290.0</td>\n",
              "      <td>8350936.0</td>\n",
              "      <td>1.300000</td>\n",
              "    </tr>\n",
              "    <tr>\n",
              "      <th>2021-05-10</th>\n",
              "      <td>4600.0</td>\n",
              "      <td>5870.0</td>\n",
              "      <td>4545.0</td>\n",
              "      <td>5360.0</td>\n",
              "      <td>22985355.0</td>\n",
              "      <td>1.185841</td>\n",
              "    </tr>\n",
              "  </tbody>\n",
              "</table>\n",
              "</div>"
            ],
            "text/plain": [
              "              Open    High     Low   Close      Volume    Change\n",
              "Date                                                            \n",
              "2018-12-20  2505.0  3240.0  2505.0  3240.0   2519393.0  1.298597\n",
              "2018-12-27  2930.0  3695.0  2880.0  3440.0  10048258.0  1.192374\n",
              "2019-09-05  3140.0  3980.0  3140.0  3645.0   9304292.0  1.175806\n",
              "2020-02-17  3050.0  3950.0  3050.0  3680.0  15388923.0  1.210526\n",
              "2021-01-04  3305.0  4290.0  3290.0  4290.0   8350936.0  1.300000\n",
              "2021-05-10  4600.0  5870.0  4545.0  5360.0  22985355.0  1.185841"
            ]
          },
          "metadata": {},
          "execution_count": 85
        }
      ]
    },
    {
      "cell_type": "code",
      "metadata": {
        "id": "sYb8ysGWw1hw"
      },
      "source": [
        "# beta\n"
      ],
      "execution_count": null,
      "outputs": []
    },
    {
      "cell_type": "code",
      "metadata": {
        "id": "hc8fslqtA4Pg"
      },
      "source": [
        "!pip install yfinance\n",
        "!pip install yahoofinancials"
      ],
      "execution_count": null,
      "outputs": []
    },
    {
      "cell_type": "code",
      "metadata": {
        "id": "D3Ya3G-kA6tE"
      },
      "source": [
        "import pandas as pd\n",
        "import yfinance as yf\n",
        "from yahoofinancials import YahooFinancials"
      ],
      "execution_count": null,
      "outputs": []
    },
    {
      "cell_type": "code",
      "metadata": {
        "id": "u-bobm7IA8EB"
      },
      "source": [
        "vix = yf.download('^VIX')\n",
        "snp = yf.download('^GSPC')\n",
        "nasdaq = yf.download('^IXIC')"
      ],
      "execution_count": null,
      "outputs": []
    }
  ]
}