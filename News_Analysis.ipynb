{
  "nbformat": 4,
  "nbformat_minor": 0,
  "metadata": {
    "colab": {
      "name": "News Analysis.ipynb",
      "provenance": [],
      "collapsed_sections": [],
      "authorship_tag": "ABX9TyNH9gvQxNwLOsHfM8LYAIKp",
      "include_colab_link": true
    },
    "kernelspec": {
      "name": "python3",
      "display_name": "Python 3"
    },
    "language_info": {
      "name": "python"
    }
  },
  "cells": [
    {
      "cell_type": "markdown",
      "metadata": {
        "id": "view-in-github",
        "colab_type": "text"
      },
      "source": [
        "<a href=\"https://colab.research.google.com/github/yeonghun00/stock_public/blob/main/News_Analysis.ipynb\" target=\"_parent\"><img src=\"https://colab.research.google.com/assets/colab-badge.svg\" alt=\"Open In Colab\"/></a>"
      ]
    },
    {
      "cell_type": "code",
      "metadata": {
        "id": "byuG6mMYJsYM"
      },
      "source": [
        "import requests\n",
        "from bs4 import BeautifulSoup\n",
        "import pandas as pd\n",
        "import numpy as np\n",
        "import datetime\n",
        "import html\n",
        "\n",
        "class News:\n",
        "  def __init__(self):\n",
        "    self.headers = {'User-Agent' : 'Mozilla/5.0 (Macintosh; Intel Mac OS X 10_14_6) AppleWebKit/537.36 (KHTML, like Gecko) Chrome/85.0.4183.121 Safari/537.36'}\n",
        "\n",
        "  def get_ranking(self, date='1', page=1):\n",
        "    date = str(datetime.datetime.now().date().strftime(\"%Y%m%d\")) if date == '1' else date\n",
        "    page = str(page)\n",
        "    url = 'https://finance.naver.com/news/news_list.nhn?mode=RANK&date=' + date + '&page=' + page\n",
        "    result = requests.get(url, headers = self.headers)\n",
        "    bs_obj = BeautifulSoup(result.content, \"html.parser\")\n",
        "\n",
        "    div = bs_obj.find_all('div', {'class':'hotNewsList'})\n",
        "    return [html.unescape(x['href']) for x in div[0].find_all('a')]\n",
        "\n",
        "  def get_main(self, date='1'):\n",
        "    date = str(datetime.datetime.now().date().strftime(\"%Y-%m-%d\")) if date == '1' else date\n",
        "    url = 'https://finance.naver.com/news/mainnews.nhn'\n",
        "    result = requests.get(url, headers = self.headers)\n",
        "    bs_obj = BeautifulSoup(result.content, \"html.parser\")\n",
        "    return [x.find_all('a')[0]['href'] for x in bs_obj.find_all('dd', {'class':'articleSubject'})]\n",
        "    \n",
        "  def get_breaking(self):\n",
        "    pass\n",
        "\n",
        "  # 시황 전망: 401\n",
        "  # 기업 종목분석: 402\n",
        "  # 해외 증시: 403\n",
        "  # 채권 선물: 404\n",
        "  # 공시 메모: 406\n",
        "  # 환율: 429\n",
        "  def get_focus(self, code=403, date='1', page=1):\n",
        "    date = str(datetime.datetime.now().date().strftime(\"%Y%m%d\")) if date == '1' else date\n",
        "    url = 'https://finance.naver.com/news/news_list.nhn?mode=LSS3D&section_id=101&section_id2=258&section_id3='\\\n",
        "     + str(code) +  '&date=' + str(date) + '&page=' + str(page)\n",
        "    result = requests.get(url, headers = self.headers)\n",
        "    bs_obj = BeautifulSoup(result.content, \"html.parser\")\n",
        "    temp = [html.unescape(x.find_all('a')[0]['href']) for x in bs_obj.find_all('dd', {'class':'articleSubject'})]\n",
        "    # 업데이트 가능\n",
        "    return [x.replace('§', '&sect') for x in temp]\n",
        "\n",
        "  def get_article(self, url):\n",
        "    url = 'https://finance.naver.com/' + url\n",
        "    result = requests.get(url, headers = self.headers)\n",
        "    bs_obj = BeautifulSoup(result.content, \"html.parser\")\n",
        "\n",
        "    title = ' '.join(bs_obj.find_all('div', {'class': 'article_info'})[0].find_all('h3')[0].get_text().split())\n",
        "    context = bs_obj.find_all('div', {'class': 'articleCont'})[0]\n",
        "    try:\n",
        "      subheading = context.find_all('strong')[0].get_text()\n",
        "    except:\n",
        "      subheading = ''\n",
        "    t = ' '.join(context.get_text().split())\n",
        "    text = t[:t.find('@')]\n",
        "    return title, subheading, text"
      ],
      "execution_count": 1,
      "outputs": []
    },
    {
      "cell_type": "code",
      "metadata": {
        "id": "OPe9fzQ6LpFy"
      },
      "source": [
        "news = News()"
      ],
      "execution_count": 2,
      "outputs": []
    },
    {
      "cell_type": "code",
      "metadata": {
        "id": "nxz5iG32Lus4"
      },
      "source": [
        "dic = {'Title':[], 'Subheading':[], 'Text':[]}\n",
        "\n",
        "for i in news.get_ranking():\n",
        "  title, subheading, text = news.get_article(i)\n",
        "  dic['Title'].append(title)\n",
        "  dic['Subheading'].append(subheading)\n",
        "  dic['Text'].append(text)"
      ],
      "execution_count": 3,
      "outputs": []
    },
    {
      "cell_type": "code",
      "metadata": {
        "id": "0rjaQzbXyHaH"
      },
      "source": [
        "df = pd.DataFrame.from_dict(dic)"
      ],
      "execution_count": 5,
      "outputs": []
    },
    {
      "cell_type": "code",
      "metadata": {
        "colab": {
          "base_uri": "https://localhost:8080/",
          "height": 616
        },
        "id": "NFQs8R0X0_qX",
        "outputId": "fa13abed-bb62-4995-e430-5643d833e2df"
      },
      "source": [
        "!pip install konlpy"
      ],
      "execution_count": 9,
      "outputs": [
        {
          "output_type": "stream",
          "text": [
            "Collecting konlpy\n",
            "\u001b[?25l  Downloading https://files.pythonhosted.org/packages/85/0e/f385566fec837c0b83f216b2da65db9997b35dd675e107752005b7d392b1/konlpy-0.5.2-py2.py3-none-any.whl (19.4MB)\n",
            "\u001b[K     |████████████████████████████████| 19.4MB 1.3MB/s \n",
            "\u001b[?25hCollecting JPype1>=0.7.0\n",
            "\u001b[?25l  Downloading https://files.pythonhosted.org/packages/cd/a5/9781e2ef4ca92d09912c4794642c1653aea7607f473e156cf4d423a881a1/JPype1-1.2.1-cp37-cp37m-manylinux2010_x86_64.whl (457kB)\n",
            "\u001b[K     |████████████████████████████████| 460kB 46.1MB/s \n",
            "\u001b[?25hCollecting colorama\n",
            "  Downloading https://files.pythonhosted.org/packages/44/98/5b86278fbbf250d239ae0ecb724f8572af1c91f4a11edf4d36a206189440/colorama-0.4.4-py2.py3-none-any.whl\n",
            "Requirement already satisfied: numpy>=1.6 in /usr/local/lib/python3.7/dist-packages (from konlpy) (1.19.5)\n",
            "Requirement already satisfied: lxml>=4.1.0 in /usr/local/lib/python3.7/dist-packages (from konlpy) (4.2.6)\n",
            "Collecting beautifulsoup4==4.6.0\n",
            "\u001b[?25l  Downloading https://files.pythonhosted.org/packages/9e/d4/10f46e5cfac773e22707237bfcd51bbffeaf0a576b0a847ec7ab15bd7ace/beautifulsoup4-4.6.0-py3-none-any.whl (86kB)\n",
            "\u001b[K     |████████████████████████████████| 92kB 12.6MB/s \n",
            "\u001b[?25hRequirement already satisfied: tweepy>=3.7.0 in /usr/local/lib/python3.7/dist-packages (from konlpy) (3.10.0)\n",
            "Requirement already satisfied: typing-extensions; python_version < \"3.8\" in /usr/local/lib/python3.7/dist-packages (from JPype1>=0.7.0->konlpy) (3.7.4.3)\n",
            "Requirement already satisfied: requests-oauthlib>=0.7.0 in /usr/local/lib/python3.7/dist-packages (from tweepy>=3.7.0->konlpy) (1.3.0)\n",
            "Requirement already satisfied: six>=1.10.0 in /usr/local/lib/python3.7/dist-packages (from tweepy>=3.7.0->konlpy) (1.15.0)\n",
            "Requirement already satisfied: requests[socks]>=2.11.1 in /usr/local/lib/python3.7/dist-packages (from tweepy>=3.7.0->konlpy) (2.23.0)\n",
            "Requirement already satisfied: oauthlib>=3.0.0 in /usr/local/lib/python3.7/dist-packages (from requests-oauthlib>=0.7.0->tweepy>=3.7.0->konlpy) (3.1.0)\n",
            "Requirement already satisfied: urllib3!=1.25.0,!=1.25.1,<1.26,>=1.21.1 in /usr/local/lib/python3.7/dist-packages (from requests[socks]>=2.11.1->tweepy>=3.7.0->konlpy) (1.24.3)\n",
            "Requirement already satisfied: idna<3,>=2.5 in /usr/local/lib/python3.7/dist-packages (from requests[socks]>=2.11.1->tweepy>=3.7.0->konlpy) (2.10)\n",
            "Requirement already satisfied: chardet<4,>=3.0.2 in /usr/local/lib/python3.7/dist-packages (from requests[socks]>=2.11.1->tweepy>=3.7.0->konlpy) (3.0.4)\n",
            "Requirement already satisfied: certifi>=2017.4.17 in /usr/local/lib/python3.7/dist-packages (from requests[socks]>=2.11.1->tweepy>=3.7.0->konlpy) (2020.12.5)\n",
            "Requirement already satisfied: PySocks!=1.5.7,>=1.5.6; extra == \"socks\" in /usr/local/lib/python3.7/dist-packages (from requests[socks]>=2.11.1->tweepy>=3.7.0->konlpy) (1.7.1)\n",
            "Installing collected packages: JPype1, colorama, beautifulsoup4, konlpy\n",
            "  Found existing installation: beautifulsoup4 4.6.3\n",
            "    Uninstalling beautifulsoup4-4.6.3:\n",
            "      Successfully uninstalled beautifulsoup4-4.6.3\n",
            "Successfully installed JPype1-1.2.1 beautifulsoup4-4.6.0 colorama-0.4.4 konlpy-0.5.2\n"
          ],
          "name": "stdout"
        },
        {
          "output_type": "display_data",
          "data": {
            "application/vnd.colab-display-data+json": {
              "pip_warning": {
                "packages": [
                  "bs4"
                ]
              }
            }
          },
          "metadata": {
            "tags": []
          }
        }
      ]
    },
    {
      "cell_type": "code",
      "metadata": {
        "id": "dTYqPlcnyyBl"
      },
      "source": [
        "# https://wikidocs.net/22530\n",
        "# 불용어 제거 \n",
        "\n",
        "from konlpy.tag import Okt  \n",
        "okt=Okt()  \n",
        "print(okt.pos(\"열심히 코딩한 당신, 연휴에는 여행을 가봐요\"))  \n",
        "\n",
        "class Analyser:\n",
        "  def __init__(self):\n",
        "    pass\n",
        "\n",
        "  def get_tokenized(self, text):\n",
        "    return okt.pos(df['Text'][0])\n",
        "\n"
      ],
      "execution_count": 4,
      "outputs": []
    }
  ]
}