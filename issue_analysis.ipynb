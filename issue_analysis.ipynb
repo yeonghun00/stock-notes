{
  "nbformat": 4,
  "nbformat_minor": 0,
  "metadata": {
    "colab": {
      "name": "issue_analysis.ipynb",
      "provenance": [],
      "collapsed_sections": [],
      "authorship_tag": "ABX9TyM5oL6e5EFXyuzyBSMupbom",
      "include_colab_link": true
    },
    "kernelspec": {
      "name": "python3",
      "display_name": "Python 3"
    },
    "language_info": {
      "name": "python"
    }
  },
  "cells": [
    {
      "cell_type": "markdown",
      "metadata": {
        "id": "view-in-github",
        "colab_type": "text"
      },
      "source": [
        "<a href=\"https://colab.research.google.com/github/yeonghun00/stock_public/blob/main/issue_analysis.ipynb\" target=\"_parent\"><img src=\"https://colab.research.google.com/assets/colab-badge.svg\" alt=\"Open In Colab\"/></a>"
      ]
    },
    {
      "cell_type": "code",
      "metadata": {
        "id": "S8RFdNT7XFN9"
      },
      "source": [
        "import requests\n",
        "from bs4 import BeautifulSoup\n",
        "import pandas as pd\n",
        "import numpy as np\n",
        "import datetime\n",
        "import html\n",
        "import re\n",
        "import ast\n",
        "from multiprocessing import Pool\n",
        "from collections import Counter"
      ],
      "execution_count": 140,
      "outputs": []
    },
    {
      "cell_type": "code",
      "metadata": {
        "id": "3bNP-UFYFgPu"
      },
      "source": [
        "class Issue_anlayser:\n",
        "  def __init__(self, start_date, end_date):\n",
        "    self.start_date = start_date\n",
        "    self.end_date = end_date\n",
        "    self.headers = {'User-Agent' : 'Mozilla/5.0 (Macintosh; Intel Mac OS X 10_14_6) AppleWebKit/537.36 (KHTML, like Gecko) Chrome/85.0.4183.121 Safari/537.36'}\n",
        "\n",
        "    self.code_df = self.get_codes()\n",
        "    self.issue_df = self.get_formatted(self.get_issues())\n",
        "    self.freq_codes = self.get_freq_codes(self.issue_df)\n",
        "  \n",
        "  def get_codes(self):\n",
        "    kospi_url = 'http://kind.krx.co.kr/corpgeneral/corpList.do?method=download&searchType=13&marketType=%sstockMkt'\n",
        "    kosdaq_url = 'http://kind.krx.co.kr/corpgeneral/corpList.do?method=download&searchType=13&marketType=%skosdaqMkt'\n",
        "    kospi_df = pd.read_html(kospi_url, header=0)[0]\n",
        "    kosdaq_df = pd.read_html(kosdaq_url, header=0)[0]\n",
        "    df = pd.concat([kospi_df, kosdaq_df], ignore_index=True)\n",
        "    return df\n",
        "\n",
        "  def get_issue(self, page):\n",
        "    self.start_date = str(datetime.datetime.now().date().strftime(\"%Y-%m-%d\")) if self.start_date == '1' else self.start_date\n",
        "    self.end_date = str(datetime.datetime.now().date().strftime(\"%Y-%m-%d\")) if self.end_date == '1' else self.end_date\n",
        "\n",
        "    url = 'https://finance.naver.com/news/news_search.nhn?rcdate=&q=%C6%AF%C2%A1%C1%D6' +\\\n",
        "    '&sm=title.basic&pd=4&stDateStart=' + self.start_date + '&stDateEnd=' + self.end_date + '&page=' + str(page)\n",
        "    result = requests.get(url, headers = self.headers)\n",
        "    bs_obj = BeautifulSoup(result.content, \"html.parser\")\n",
        "    text = [x.get_text() for x in bs_obj.find_all(re.compile('d*'), {'class':\"articleSubject\"})] \n",
        "    return text\n",
        "\n",
        "  # 위와 다름 유의\n",
        "  def get_issues(self):\n",
        "    url = 'https://finance.naver.com/news/news_search.nhn?rcdate=&q=%C6%AF%C2%A1%C1%D6' +\\\n",
        "    '&sm=title.basic&pd=4&stDateStart=' + self.start_date + '&stDateEnd=' + self.end_date + '&page=1'\n",
        "    result = requests.get(url, headers = self.headers)\n",
        "    bs_obj = BeautifulSoup(result.content, \"html.parser\")\n",
        "    href = bs_obj.find_all('td', {'class':'pgRR'})[0].find_all('a')[0]['href']\n",
        "    href_index = href.find('page')\n",
        "    end_page = int(href[href_index+5])\n",
        "\n",
        "    with Pool(100) as p:\n",
        "        li = p.map(self.get_issue, list(range(1, end_page)))\n",
        "    return sum(li, [])\n",
        "\n",
        "  def get_formatted(self, li):\n",
        "    text_lis = [x.split() for x in li]\n",
        "    word_lis = []\n",
        "\n",
        "    for text_li in text_lis:\n",
        "      for i in ['[',']', '·', '(', ')', '‘', '’','\\'', '\"', ',','...','…', '특징주']:\n",
        "        text_li = [x.replace(i, ' ') for x in text_li]\n",
        "      word_lis.append((' '.join(text_li)).split())\n",
        "\n",
        "    return word_lis\n",
        "\n",
        "  def get_freq_codes(self, li):\n",
        "    flatten_news_words = [j for sub in li for j in sub]\n",
        "    news_words_frq = Counter(flatten_news_words).most_common()\n",
        "\n",
        "    set_codes = set(self.code_df['회사명'].values)\n",
        "\n",
        "    freq_codes = []\n",
        "    for i in range(len([x[0] for x in news_words_frq])):\n",
        "      if news_words_frq[i][0] in set_codes:\n",
        "        freq_codes.append(news_words_frq[i])\n",
        "\n",
        "    return freq_codes"
      ],
      "execution_count": 168,
      "outputs": []
    },
    {
      "cell_type": "code",
      "metadata": {
        "id": "gzEUyNeDK1Ek"
      },
      "source": [
        "def get_price(code, start:int='20180501', interval='day'):\n",
        "    url ='https://api.finance.naver.com/siseJson.naver?symbol=' + code + ' &requestType=1&startTime=' \\\n",
        "    + start + '&endTime=' + str(datetime.datetime.now().date().strftime(\"%Y%m%d\")) +  '&timeframe=' + interval\n",
        "\n",
        "    result = requests.get(url, headers={'User-Agent' : 'Mozilla/5.0 (Macintosh; Intel Mac OS X 10_14_6) AppleWebKit/537.36 (KHTML, like Gecko) Chrome/85.0.4183.121 Safari/537.36'})\n",
        "    bs_obj = BeautifulSoup(result.content, \"html.parser\")\n",
        "    b = bs_obj.get_text()\n",
        "    for i in ['\\n', '\\t', \"\\\\\", ' ']:\n",
        "      b = b.replace(i,'')\n",
        "\n",
        "    data = np.array(ast.literal_eval(b)[1:])\n",
        "\n",
        "    dic = {'Date':list(map(lambda x: datetime.datetime.strptime(str(x), '%Y%m%d'), data[:,0])), \\\n",
        "      'Open':np.array(data[:,1], int), 'High':np.array(data[:,2], int), 'Low':np.array(data[:,3], int),\\\n",
        "       'Close':np.array(data[:,4], int), 'Volume':np.array(data[:,5], int)}\n",
        "\n",
        "    df = pd.DataFrame(data=dic)\n",
        "    df = df.set_index('Date')\n",
        "    return df"
      ],
      "execution_count": 169,
      "outputs": []
    },
    {
      "cell_type": "code",
      "metadata": {
        "id": "RrcLAiCp-kJN"
      },
      "source": [
        "class Backtester:\n",
        "  def __init__(self, start_date, search_period, hold_period, loop_num):\n",
        "    self.hold_period = 20\n",
        "\n",
        "  def find_date(self, date, date_idx):\n",
        "    date = date\n",
        "    while date not in date_idx:\n",
        "      date = date + datetime.timedelta(days=1)\n",
        "    return date\n",
        "\n",
        "  def format_to_codes(self, code_names):\n",
        "    code_names = [x[0] for x in ia.freq_codes][:10]\n",
        "    code_idx = list(map(lambda code: [x for x in ia.code_df['회사명']].index(code), code_names))\n",
        "    codes = [str(x).rjust(6, '0') for x in ia.code_df['종목코드'][code_idx]]\n",
        "    return codes\n",
        "    \n",
        "  def test(self, start_date, end_date):\n",
        "    start_date = datetime.datetime(2020, 8, 1)\n",
        "    end_date = datetime.datetime(2020, 9, 1)\n",
        "    result_date = end_date+datetime.timedelta(days=hold_period)\n",
        "\n",
        "    for code in codes:\n",
        "      li = []\n",
        "      idx = get_price(code, '20180501').index\n",
        "      start = find_date(start_date, idx)\n",
        "      end = find_date(end_date, idx)\n",
        "      result = find_date(result_date, idx)\n",
        "      li.append(tuple(code, get_price(code, '20180501').loc[result]['Close'] / get_price(code, '20180501').loc[end]['Close']))\n",
        "    return li"
      ],
      "execution_count": 170,
      "outputs": []
    },
    {
      "cell_type": "code",
      "metadata": {
        "id": "HEFzclNR7n1d"
      },
      "source": [
        "ia = Issue_anlayser('2021-03-01', '2021-04-01')"
      ],
      "execution_count": 184,
      "outputs": []
    },
    {
      "cell_type": "code",
      "metadata": {
        "id": "sXFP-XCVBT4Q"
      },
      "source": [
        "def find_date(date, date_idx):\n",
        "  date = date\n",
        "  while date not in date_idx:\n",
        "    date = date + datetime.timedelta(days=1)\n",
        "  return date"
      ],
      "execution_count": 185,
      "outputs": []
    },
    {
      "cell_type": "code",
      "metadata": {
        "colab": {
          "base_uri": "https://localhost:8080/"
        },
        "id": "dEfj33G671wE",
        "outputId": "40365441-f28c-4dfb-e941-40481cb6c519"
      },
      "source": [
        "# name to formatted code\n",
        "code_names = [x[0] for x in ia.freq_codes][:10]\n",
        "code_idx = list(map(lambda code: [x for x in ia.code_df['회사명']].index(code), code_names))\n",
        "codes = [str(x).rjust(6, '0') for x in ia.code_df['종목코드'][code_idx]]\n",
        "codes"
      ],
      "execution_count": 186,
      "outputs": [
        {
          "output_type": "execute_result",
          "data": {
            "text/plain": [
              "['096770',\n",
              " '000660',\n",
              " '066570',\n",
              " '333620',\n",
              " '005880',\n",
              " '287410',\n",
              " '003550',\n",
              " '005360',\n",
              " '263750',\n",
              " '003530']"
            ]
          },
          "metadata": {
            "tags": []
          },
          "execution_count": 186
        }
      ]
    },
    {
      "cell_type": "code",
      "metadata": {
        "colab": {
          "base_uri": "https://localhost:8080/"
        },
        "id": "brPBx59U1976",
        "outputId": "4ab183b8-9396-447b-ed72-4f37cc795c5e"
      },
      "source": [
        "hold_period = 20\n",
        "start_date = datetime.datetime(2021, 3, 1)\n",
        "end_date = datetime.datetime(2021, 4, 1)\n",
        "result_date = end_date+datetime.timedelta(days=hold_period)\n",
        "\n",
        "mean = []\n",
        "for code in codes:\n",
        "  idx = get_price(code, '20180501').index\n",
        "  start = find_date(start_date, idx)\n",
        "  end = find_date(end_date, idx)\n",
        "  result = find_date(result_date, idx)\n",
        "\n",
        "  print(code, ': ', get_price(code, '20180501').loc[result]['Close'] / get_price(code, '20180501').loc[end]['Close'])\n",
        "  mean.append(get_price(code, '20180501').loc[result]['Close'] / get_price(code, '20180501').loc[end]['Close'])"
      ],
      "execution_count": 188,
      "outputs": [
        {
          "output_type": "stream",
          "text": [
            "096770 :  1.093167701863354\n",
            "000660 :  0.9430604982206405\n",
            "066570 :  1.0440251572327044\n",
            "333620 :  0.839171974522293\n",
            "005880 :  0.9738675958188153\n",
            "287410 :  1.3112582781456954\n",
            "003550 :  1.193859567758093\n",
            "005360 :  1.049645390070922\n",
            "263750 :  0.9894867037724181\n",
            "003530 :  1.2079646017699115\n"
          ],
          "name": "stdout"
        }
      ]
    },
    {
      "cell_type": "code",
      "metadata": {
        "colab": {
          "base_uri": "https://localhost:8080/"
        },
        "id": "Mb8uBr_yHEa7",
        "outputId": "93c50d05-d54a-467b-fd3c-9d77efc3fa5a"
      },
      "source": [
        "sum(mean) / len(mean)"
      ],
      "execution_count": 189,
      "outputs": [
        {
          "output_type": "execute_result",
          "data": {
            "text/plain": [
              "1.0645507469174844"
            ]
          },
          "metadata": {
            "tags": []
          },
          "execution_count": 189
        }
      ]
    },
    {
      "cell_type": "code",
      "metadata": {
        "id": "XGC2YLHjJbtY"
      },
      "source": [
        ""
      ],
      "execution_count": null,
      "outputs": []
    }
  ]
}