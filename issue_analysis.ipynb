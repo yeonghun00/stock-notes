{
  "nbformat": 4,
  "nbformat_minor": 0,
  "metadata": {
    "colab": {
      "name": "issue_analysis.ipynb",
      "provenance": [],
      "collapsed_sections": [],
      "authorship_tag": "ABX9TyPtbOmMOhdtSTh7HN0T4iUa",
      "include_colab_link": true
    },
    "kernelspec": {
      "name": "python3",
      "display_name": "Python 3"
    },
    "language_info": {
      "name": "python"
    }
  },
  "cells": [
    {
      "cell_type": "markdown",
      "metadata": {
        "id": "view-in-github",
        "colab_type": "text"
      },
      "source": [
        "<a href=\"https://colab.research.google.com/github/yeonghun00/stock_public/blob/main/issue_analysis.ipynb\" target=\"_parent\"><img src=\"https://colab.research.google.com/assets/colab-badge.svg\" alt=\"Open In Colab\"/></a>"
      ]
    },
    {
      "cell_type": "code",
      "metadata": {
        "id": "S8RFdNT7XFN9"
      },
      "source": [
        "import requests\n",
        "from bs4 import BeautifulSoup\n",
        "import pandas as pd\n",
        "import numpy as np\n",
        "import datetime\n",
        "import html\n",
        "import re\n",
        "import ast\n",
        "from collections import Counter"
      ],
      "execution_count": 50,
      "outputs": []
    },
    {
      "cell_type": "code",
      "metadata": {
        "id": "3bNP-UFYFgPu"
      },
      "source": [
        "class Issue_anlayser:\n",
        "  def __init__(self, start_date, end_date):\n",
        "    self.start_date = start_date\n",
        "    self.end_date = end_date\n",
        "\n",
        "    self.code_df = self.get_codes()\n",
        "    self.issue_df = self.get_formatted(self.get_issues())\n",
        "    self.freq_codes = self.get_freq_codes(self.issue_df)\n",
        "  \n",
        "  def get_codes(self):\n",
        "    kospi_url = 'http://kind.krx.co.kr/corpgeneral/corpList.do?method=download&searchType=13&marketType=%sstockMkt'\n",
        "    kosdaq_url = 'http://kind.krx.co.kr/corpgeneral/corpList.do?method=download&searchType=13&marketType=%skosdaqMkt'\n",
        "    kospi_df = pd.read_html(kospi_url, header=0)[0]\n",
        "    kosdaq_df = pd.read_html(kosdaq_url, header=0)[0]\n",
        "    df = pd.concat([kospi_df, kosdaq_df], ignore_index=True)\n",
        "    return df\n",
        "\n",
        "  def get_issues(self, keyword='%C6%AF%C2%A1%C1%D6'):\n",
        "    self.start_date = str(datetime.datetime.now().date().strftime(\"%Y-%m-%d\")) if self.start_date == '1' else self.start_date\n",
        "    self.end_date = str(datetime.datetime.now().date().strftime(\"%Y-%m-%d\")) if self.end_date == '1' else self.end_date\n",
        "\n",
        "    li = []\n",
        "    for page in range(1,10000):\n",
        "      url = 'https://finance.naver.com/news/news_search.nhn?rcdate=&q=' + keyword +\\\n",
        "      '&sm=title.basic&pd=4&stDateStart=' + self.start_date + '&stDateEnd=' + self.end_date + '&page=' + str(page)\n",
        "      result = requests.get(url, headers = {'User-Agent' : 'Mozilla/5.0 (Macintosh; Intel Mac OS X 10_14_6) AppleWebKit/537.36 (KHTML, like Gecko) Chrome/85.0.4183.121 Safari/537.36'})\n",
        "      bs_obj = BeautifulSoup(result.content, \"html.parser\")\n",
        "      text = [x.get_text() for x in bs_obj.find_all(re.compile('d*'), {'class':\"articleSubject\"})] \n",
        "      if not text:\n",
        "        break\n",
        "      li += text\n",
        "    return li\n",
        "\n",
        "  def get_formatted(self, li):\n",
        "    text_lis = [x.split() for x in li]\n",
        "    word_lis = []\n",
        "\n",
        "    for text_li in text_lis:\n",
        "      for i in ['[',']', '·', '(', ')', '‘', '’','\\'', '\"', ',','...','…', '특징주']:\n",
        "        text_li = [x.replace(i, ' ') for x in text_li]\n",
        "      word_lis.append((' '.join(text_li)).split())\n",
        "\n",
        "    return word_lis\n",
        "\n",
        "  def get_freq_codes(self, li):\n",
        "    flatten_news_words = [j for sub in li for j in sub]\n",
        "    news_words_frq = Counter(flatten_news_words).most_common()\n",
        "\n",
        "    set_codes = set(self.code_df['회사명'].values)\n",
        "\n",
        "    freq_codes = []\n",
        "    for i in range(len([x[0] for x in news_words_frq])):\n",
        "      if news_words_frq[i][0] in set_codes:\n",
        "        freq_codes.append(news_words_frq[i])\n",
        "\n",
        "    return freq_codes"
      ],
      "execution_count": 41,
      "outputs": []
    },
    {
      "cell_type": "code",
      "metadata": {
        "id": "gzEUyNeDK1Ek"
      },
      "source": [
        "def get_price(code, start:int='20180501', interval='day'):\n",
        "    url ='https://api.finance.naver.com/siseJson.naver?symbol=' + code + ' &requestType=1&startTime=' \\\n",
        "    + start + '&endTime=' + str(datetime.datetime.now().date().strftime(\"%Y%m%d\")) +  '&timeframe=' + interval\n",
        "\n",
        "    result = requests.get(url, headers={'User-Agent' : 'Mozilla/5.0 (Macintosh; Intel Mac OS X 10_14_6) AppleWebKit/537.36 (KHTML, like Gecko) Chrome/85.0.4183.121 Safari/537.36'})\n",
        "    bs_obj = BeautifulSoup(result.content, \"html.parser\")\n",
        "    b = bs_obj.get_text()\n",
        "    for i in ['\\n', '\\t', \"\\\\\", ' ']:\n",
        "      b = b.replace(i,'')\n",
        "\n",
        "    data = np.array(ast.literal_eval(b)[1:])\n",
        "\n",
        "    dic = {'Date':list(map(lambda x: datetime.datetime.strptime(str(x), '%Y%m%d'), data[:,0])), \\\n",
        "      'Open':np.array(data[:,1], int), 'High':np.array(data[:,2], int), 'Low':np.array(data[:,3], int),\\\n",
        "       'Close':np.array(data[:,4], int), 'Volume':np.array(data[:,5], int)}\n",
        "\n",
        "    df = pd.DataFrame(data=dic)\n",
        "    df = df.set_index('Date')\n",
        "    return df"
      ],
      "execution_count": 53,
      "outputs": []
    },
    {
      "cell_type": "code",
      "metadata": {
        "id": "7UYsgxTPK7G9"
      },
      "source": [
        "# 위 다섯 종목, 1주 \n",
        "\n",
        "for i in [#date]:\n",
        "  ia = Issue_anlayser('2021-06-09', '2021-06-11')\n",
        "  codes = ia.freq_codes[:5]\n",
        "\n",
        "  for code in codes:\n",
        "    get_price(code, '20180501').loc['2018-05-02']['Close']\n"
      ],
      "execution_count": null,
      "outputs": []
    },
    {
      "cell_type": "code",
      "metadata": {
        "id": "n96AwAtJM1r7"
      },
      "source": [
        ""
      ],
      "execution_count": null,
      "outputs": []
    }
  ]
}