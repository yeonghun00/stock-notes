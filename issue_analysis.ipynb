{
  "nbformat": 4,
  "nbformat_minor": 0,
  "metadata": {
    "colab": {
      "name": "issue_analysis.ipynb",
      "provenance": [],
      "collapsed_sections": [],
      "authorship_tag": "ABX9TyNBNATNrsbTcvNyv1WFVcER",
      "include_colab_link": true
    },
    "kernelspec": {
      "name": "python3",
      "display_name": "Python 3"
    },
    "language_info": {
      "name": "python"
    }
  },
  "cells": [
    {
      "cell_type": "markdown",
      "metadata": {
        "id": "view-in-github",
        "colab_type": "text"
      },
      "source": [
        "<a href=\"https://colab.research.google.com/github/yeonghun00/stock_public/blob/main/issue_analysis.ipynb\" target=\"_parent\"><img src=\"https://colab.research.google.com/assets/colab-badge.svg\" alt=\"Open In Colab\"/></a>"
      ]
    },
    {
      "cell_type": "code",
      "metadata": {
        "id": "S8RFdNT7XFN9"
      },
      "source": [
        "import requests\n",
        "from bs4 import BeautifulSoup\n",
        "import pandas as pd\n",
        "import numpy as np\n",
        "import datetime\n",
        "import html\n",
        "import re"
      ],
      "execution_count": 1,
      "outputs": []
    },
    {
      "cell_type": "code",
      "metadata": {
        "colab": {
          "base_uri": "https://localhost:8080/",
          "height": 204
        },
        "id": "dVGaI438XCCY",
        "outputId": "bbda4c24-3648-4ab8-a3ba-6d4e8f5bbf5b"
      },
      "source": [
        "# market \n",
        "kospi_url = 'http://kind.krx.co.kr/corpgeneral/corpList.do?method=download&searchType=13&marketType=%sstockMkt'\n",
        "kosdaq_url = 'http://kind.krx.co.kr/corpgeneral/corpList.do?method=download&searchType=13&marketType=%skosdaqMkt'\n",
        "kospi_df = pd.read_html(kospi_url, header=0)[0]\n",
        "kosdaq_df = pd.read_html(kosdaq_url, header=0)[0]\n",
        "df = pd.concat([kospi_df, kosdaq_df], ignore_index=True)\n",
        "df.head()"
      ],
      "execution_count": 2,
      "outputs": [
        {
          "output_type": "execute_result",
          "data": {
            "text/html": [
              "<div>\n",
              "<style scoped>\n",
              "    .dataframe tbody tr th:only-of-type {\n",
              "        vertical-align: middle;\n",
              "    }\n",
              "\n",
              "    .dataframe tbody tr th {\n",
              "        vertical-align: top;\n",
              "    }\n",
              "\n",
              "    .dataframe thead th {\n",
              "        text-align: right;\n",
              "    }\n",
              "</style>\n",
              "<table border=\"1\" class=\"dataframe\">\n",
              "  <thead>\n",
              "    <tr style=\"text-align: right;\">\n",
              "      <th></th>\n",
              "      <th>회사명</th>\n",
              "      <th>종목코드</th>\n",
              "      <th>업종</th>\n",
              "      <th>주요제품</th>\n",
              "      <th>상장일</th>\n",
              "      <th>결산월</th>\n",
              "      <th>대표자명</th>\n",
              "      <th>홈페이지</th>\n",
              "      <th>지역</th>\n",
              "    </tr>\n",
              "  </thead>\n",
              "  <tbody>\n",
              "    <tr>\n",
              "      <th>0</th>\n",
              "      <td>DRB동일</td>\n",
              "      <td>4840</td>\n",
              "      <td>고무제품 제조업</td>\n",
              "      <td>고무벨트(V벨트,콘베이어벨트,평벨트),프라스틱제품 제조,판매</td>\n",
              "      <td>1976-05-21</td>\n",
              "      <td>12월</td>\n",
              "      <td>류영식</td>\n",
              "      <td>http://drbworld.com</td>\n",
              "      <td>부산광역시</td>\n",
              "    </tr>\n",
              "    <tr>\n",
              "      <th>1</th>\n",
              "      <td>DSR</td>\n",
              "      <td>155660</td>\n",
              "      <td>1차 비철금속 제조업</td>\n",
              "      <td>합섬섬유로프</td>\n",
              "      <td>2013-05-15</td>\n",
              "      <td>12월</td>\n",
              "      <td>홍석빈</td>\n",
              "      <td>http://www.dsr.com</td>\n",
              "      <td>부산광역시</td>\n",
              "    </tr>\n",
              "    <tr>\n",
              "      <th>2</th>\n",
              "      <td>GS글로벌</td>\n",
              "      <td>1250</td>\n",
              "      <td>상품 종합 도매업</td>\n",
              "      <td>수출입업(시멘트,철강금속,전기전자,섬유,기계화학),상품중개,광업,채석업/하수처리 서...</td>\n",
              "      <td>1976-06-26</td>\n",
              "      <td>12월</td>\n",
              "      <td>김태형</td>\n",
              "      <td>http://www.gsgcorp.com</td>\n",
              "      <td>서울특별시</td>\n",
              "    </tr>\n",
              "    <tr>\n",
              "      <th>3</th>\n",
              "      <td>HDC현대산업개발</td>\n",
              "      <td>294870</td>\n",
              "      <td>건물 건설업</td>\n",
              "      <td>외주주택, 자체공사, 일반건축, 토목 등</td>\n",
              "      <td>2018-06-12</td>\n",
              "      <td>12월</td>\n",
              "      <td>권순호, 정경구</td>\n",
              "      <td>http://www.hdc-dvp.com</td>\n",
              "      <td>서울특별시</td>\n",
              "    </tr>\n",
              "    <tr>\n",
              "      <th>4</th>\n",
              "      <td>KEC</td>\n",
              "      <td>92220</td>\n",
              "      <td>반도체 제조업</td>\n",
              "      <td>반도체 제조</td>\n",
              "      <td>2006-10-16</td>\n",
              "      <td>12월</td>\n",
              "      <td>박남규 김학남</td>\n",
              "      <td>http://www.kec.co.kr</td>\n",
              "      <td>서울특별시</td>\n",
              "    </tr>\n",
              "  </tbody>\n",
              "</table>\n",
              "</div>"
            ],
            "text/plain": [
              "         회사명    종목코드           업종  ...      대표자명                    홈페이지     지역\n",
              "0      DRB동일    4840     고무제품 제조업  ...       류영식     http://drbworld.com  부산광역시\n",
              "1        DSR  155660  1차 비철금속 제조업  ...       홍석빈      http://www.dsr.com  부산광역시\n",
              "2      GS글로벌    1250    상품 종합 도매업  ...       김태형  http://www.gsgcorp.com  서울특별시\n",
              "3  HDC현대산업개발  294870       건물 건설업  ...  권순호, 정경구  http://www.hdc-dvp.com  서울특별시\n",
              "4        KEC   92220      반도체 제조업  ...   박남규 김학남    http://www.kec.co.kr  서울특별시\n",
              "\n",
              "[5 rows x 9 columns]"
            ]
          },
          "metadata": {
            "tags": []
          },
          "execution_count": 2
        }
      ]
    },
    {
      "cell_type": "code",
      "metadata": {
        "id": "SD34LnjGRJw3"
      },
      "source": [
        "# 특징주\n",
        "def get_search(keyword='%C6%AF%C2%A1%C1%D6', start_date='1', end_date='1'):\n",
        "  start_date = str(datetime.datetime.now().date().strftime(\"%Y-%m-%d\")) if start_date == '1' else start_date\n",
        "  end_date = str(datetime.datetime.now().date().strftime(\"%Y-%m-%d\")) if end_date == '1' else end_date\n",
        "\n",
        "  li = []\n",
        "  for page in range(1,50000):\n",
        "    url = 'https://finance.naver.com/news/news_search.nhn?rcdate=&q=' + keyword +\\\n",
        "    '&sm=title.basic&pd=4&stDateStart=' + start_date + '&stDateEnd=' + end_date + '&page=' + str(page)\n",
        "    result = requests.get(url, headers = {'User-Agent' : 'Mozilla/5.0 (Macintosh; Intel Mac OS X 10_14_6) AppleWebKit/537.36 (KHTML, like Gecko) Chrome/85.0.4183.121 Safari/537.36'})\n",
        "    bs_obj = BeautifulSoup(result.content, \"html.parser\")\n",
        "    text = [x.get_text() for x in bs_obj.find_all(re.compile('d*'), {'class':\"articleSubject\"})] \n",
        "    if not text:\n",
        "      break\n",
        "    li += text\n",
        "\n",
        "  return li"
      ],
      "execution_count": 3,
      "outputs": []
    },
    {
      "cell_type": "code",
      "metadata": {
        "id": "S2s92fp8RTX4"
      },
      "source": [
        "text_li = get_search('%C6%AF%C2%A1%C1%D6','2021-06-07', '2021-06-11')"
      ],
      "execution_count": 4,
      "outputs": []
    },
    {
      "cell_type": "code",
      "metadata": {
        "id": "9T0Js71-Zmaz"
      },
      "source": [
        "def get_word_lis(li):\n",
        "  text_lis = [x.split() for x in li]\n",
        "  word_lis = []\n",
        "\n",
        "  for text_li in text_lis:\n",
        "    for i in ['[',']', '·', '(', ')', '‘', '’','\\'', '\"', ',','...','…', '특징주']:\n",
        "      text_li = [x.replace(i, ' ') for x in text_li]\n",
        "    word_lis.append((' '.join(text_li)).split())\n",
        "\n",
        "  return word_lis"
      ],
      "execution_count": 5,
      "outputs": []
    },
    {
      "cell_type": "code",
      "metadata": {
        "id": "ZYy_ZFqUVscL"
      },
      "source": [
        "from collections import Counter\n",
        "\n",
        "def get_freq_codes(li):\n",
        "  flatten_news_words = [j for sub in li for j in sub]\n",
        "  news_words_frq = Counter(flatten_news_words).most_common()\n",
        "\n",
        "  set_codes = set(df['회사명'].values)\n",
        "\n",
        "  freq_codes = []\n",
        "  for i in range(len([x[0] for x in news_words_frq])):\n",
        "    if news_words_frq[i][0] in set_codes:\n",
        "      freq_codes.append(news_words_frq[i])\n",
        "\n",
        "  return freq_codes"
      ],
      "execution_count": 6,
      "outputs": []
    },
    {
      "cell_type": "code",
      "metadata": {
        "colab": {
          "base_uri": "https://localhost:8080/"
        },
        "id": "BomzboBwZUXJ",
        "outputId": "e2465029-6447-4c9d-cb58-d38c153b2715"
      },
      "source": [
        "word_lis = get_word_lis(text_li)\n",
        "freq_codes = get_freq_codes(word_lis)\n",
        "freq_codes"
      ],
      "execution_count": 7,
      "outputs": [
        {
          "output_type": "execute_result",
          "data": {
            "text/plain": [
              "[('두산중공업', 15),\n",
              " ('하림', 9),\n",
              " ('쌍방울', 9),\n",
              " ('엘비루셈', 8),\n",
              " ('만도', 7),\n",
              " ('에이치엘비파워', 7),\n",
              " ('신풍제약', 6),\n",
              " ('대한전선', 6),\n",
              " ('SK', 4),\n",
              " ('포스코', 4),\n",
              " ('헬릭스미스', 4),\n",
              " ('두산퓨얼셀', 4),\n",
              " ('SK텔레콤', 4),\n",
              " ('카카오', 4),\n",
              " ('SBS', 4),\n",
              " ('효성', 3),\n",
              " ('넥스턴바이오', 3),\n",
              " ('삼성SDI', 3),\n",
              " ('호텔신라', 3),\n",
              " ('쎄미시스코', 3),\n",
              " ('HMM', 3),\n",
              " ('코스맥스엔비티', 3),\n",
              " ('삼성바이오로직스', 3),\n",
              " ('비트컴퓨터', 2),\n",
              " ('현대이지웰', 2),\n",
              " ('현대바이오', 2),\n",
              " ('LG화학', 2),\n",
              " ('유니온머티리얼', 2),\n",
              " ('웰바이오텍', 2),\n",
              " ('차바이오텍', 2),\n",
              " ('KBI메탈', 2),\n",
              " ('퓨쳐스트림네트웍스', 2),\n",
              " ('대원전선', 2),\n",
              " ('참좋은여행', 2),\n",
              " ('대한항공', 2),\n",
              " ('포시에스', 2),\n",
              " ('SK하이닉스', 2),\n",
              " ('파워로직스', 2),\n",
              " ('서전기전', 2),\n",
              " ('영화테크', 2),\n",
              " ('한양증권', 2),\n",
              " ('셀리드', 2),\n",
              " ('한국전자인증', 2),\n",
              " ('알테오젠', 2),\n",
              " ('플레이위드', 2),\n",
              " ('한국가스공사', 2),\n",
              " ('기아', 2),\n",
              " ('파멥신', 2),\n",
              " ('로지시스', 1),\n",
              " ('네오티스', 1),\n",
              " ('가온미디어', 1),\n",
              " ('평화산업', 1),\n",
              " ('넥스트사이언스', 1),\n",
              " ('삼보산업', 1),\n",
              " ('LG헬로비전', 1),\n",
              " ('포스코엠텍', 1),\n",
              " ('바이오톡스텍', 1),\n",
              " ('엘티씨', 1),\n",
              " ('나노스', 1),\n",
              " ('뉴인텍', 1),\n",
              " ('동아화성', 1),\n",
              " ('에스에너지', 1),\n",
              " ('데브시스터즈', 1),\n",
              " ('바이넥스', 1),\n",
              " ('서플러스글로벌', 1),\n",
              " ('룽투코리아', 1),\n",
              " ('한온시스템', 1),\n",
              " ('현대백화점', 1),\n",
              " ('KNN', 1),\n",
              " ('옵트론텍', 1),\n",
              " ('바텍', 1),\n",
              " ('아이오케이', 1),\n",
              " ('대영포장', 1),\n",
              " ('켐온', 1),\n",
              " ('TCC스틸', 1),\n",
              " ('롯데케미칼', 1),\n",
              " ('비덴트', 1),\n",
              " ('희림', 1),\n",
              " ('GH신소재', 1),\n",
              " ('서남', 1),\n",
              " ('이랜시스', 1),\n",
              " ('동양', 1),\n",
              " ('미래에셋생명', 1),\n",
              " ('라이프시맨틱스', 1),\n",
              " ('인터파크', 1),\n",
              " ('HDC현대산업개발', 1),\n",
              " ('클라우드에어', 1),\n",
              " ('글로벌텍스프리', 1),\n",
              " ('티웨이항공', 1),\n",
              " ('진흥기업', 1),\n",
              " ('대륙제관', 1),\n",
              " ('쇼박스', 1),\n",
              " ('서울리거', 1),\n",
              " ('티플랙스', 1),\n",
              " ('세진중공업', 1),\n",
              " ('하나투어', 1),\n",
              " ('아스트', 1),\n",
              " ('제넥신', 1),\n",
              " ('포스코인터내셔널', 1),\n",
              " ('휴젤', 1),\n",
              " ('시노펙스', 1),\n",
              " ('나라엠앤디', 1),\n",
              " ('진에어', 1),\n",
              " ('노랑풍선', 1),\n",
              " ('아난티', 1),\n",
              " ('브이티지엠피', 1),\n",
              " ('쏠리드', 1),\n",
              " ('KTcs', 1),\n",
              " ('한일단조', 1),\n",
              " ('LG유플러스', 1),\n",
              " ('라온시큐어', 1),\n",
              " ('메디프론', 1),\n",
              " ('웰크론한텍', 1),\n",
              " ('롯데관광개발', 1),\n",
              " ('파인디지털', 1),\n",
              " ('팜스토리', 1),\n",
              " ('누리플렉스', 1),\n",
              " ('형지엘리트', 1),\n",
              " ('한국항공우주', 1),\n",
              " ('쎄트렉아이', 1),\n",
              " ('비츠로테크', 1),\n",
              " ('한전산업', 1),\n",
              " ('퓨쳐켐', 1),\n",
              " ('카카오게임즈', 1),\n",
              " ('일승', 1),\n",
              " ('피플바이오', 1),\n",
              " ('대유에이피', 1),\n",
              " ('파미셀', 1),\n",
              " ('씨앤투스성진', 1),\n",
              " ('삼영엠텍', 1),\n",
              " ('한컴위드', 1),\n",
              " ('한올바이오파마', 1),\n",
              " ('오르비텍', 1),\n",
              " ('이수앱지스', 1),\n",
              " ('이아이디', 1),\n",
              " ('비에이치아이', 1),\n",
              " ('하이록코리아', 1),\n",
              " ('두산', 1),\n",
              " ('비엠티', 1),\n",
              " ('디티앤씨', 1),\n",
              " ('HRS', 1),\n",
              " ('삼성전자', 1),\n",
              " ('이디티', 1),\n",
              " ('아이에스동서', 1),\n",
              " ('광명전기', 1),\n",
              " ('한글과컴퓨터', 1),\n",
              " ('삼성중공업', 1),\n",
              " ('에쎈테크', 1),\n",
              " ('우리기술', 1),\n",
              " ('우진', 1),\n",
              " ('동양철관', 1),\n",
              " ('중앙에너비스', 1),\n",
              " ('녹십자', 1),\n",
              " ('원바이오젠', 1)]"
            ]
          },
          "metadata": {
            "tags": []
          },
          "execution_count": 7
        }
      ]
    },
    {
      "cell_type": "code",
      "metadata": {
        "id": "HtMdAhvXe93O"
      },
      "source": [
        ""
      ],
      "execution_count": 7,
      "outputs": []
    }
  ]
}