{
  "nbformat": 4,
  "nbformat_minor": 0,
  "metadata": {
    "colab": {
      "provenance": [],
      "authorship_tag": "ABX9TyNB5RiOjORcXihpEJuN9j3k",
      "include_colab_link": true
    },
    "kernelspec": {
      "name": "python3",
      "display_name": "Python 3"
    },
    "language_info": {
      "name": "python"
    }
  },
  "cells": [
    {
      "cell_type": "markdown",
      "metadata": {
        "id": "view-in-github",
        "colab_type": "text"
      },
      "source": [
        "<a href=\"https://colab.research.google.com/github/yeonghun00/stock-notes/blob/main/useful/good_stocks.ipynb\" target=\"_parent\"><img src=\"https://colab.research.google.com/assets/colab-badge.svg\" alt=\"Open In Colab\"/></a>"
      ]
    },
    {
      "cell_type": "code",
      "source": [
        "!pip install exchange_calendars"
      ],
      "metadata": {
        "id": "O5sqywMxfxgb"
      },
      "execution_count": null,
      "outputs": []
    },
    {
      "cell_type": "code",
      "source": [
        "!pip install finance-datareader"
      ],
      "metadata": {
        "id": "WzpFVigl3eXN"
      },
      "execution_count": null,
      "outputs": []
    },
    {
      "cell_type": "code",
      "source": [
        "import pandas as pd\n",
        "import numpy as np\n",
        "import requests\n",
        "import datetime\n",
        "import exchange_calendars as ecals # 개장일만\n",
        "from io import StringIO\n",
        "import matplotlib.pyplot as plt\n",
        "import FinanceDataReader as fdr\n",
        "import plotly.graph_objects as go\n",
        "from plotly.subplots import make_subplots\n",
        "from sklearn.preprocessing import MinMaxScaler"
      ],
      "metadata": {
        "id": "4k50fHplV4Jb"
      },
      "execution_count": null,
      "outputs": []
    },
    {
      "cell_type": "code",
      "source": [
        "XKRX = ecals.get_calendar(\"XKRX\") # 한국 코드"
      ],
      "metadata": {
        "id": "i__VVNL6V7W8"
      },
      "execution_count": null,
      "outputs": []
    },
    {
      "cell_type": "markdown",
      "source": [
        "250일 등락률, 거래대금 90-99: 범인매매\n",
        "\n",
        "60일 등락률 50-100, 거래대금 10-50 : 조용히 오르는 애들 (내꺼)\n",
        "\n"
      ],
      "metadata": {
        "id": "3xNt4M6uTZAE"
      }
    },
    {
      "cell_type": "code",
      "source": [
        "class StockList():\n",
        "  def __init__(self, period=250, increased=[.9, .99], traded=[.9, .99], pre_period=0):\n",
        "    self.period = period\n",
        "    self.increased = increased\n",
        "    self.traded = traded\n",
        "    self.pre_period = pre_period # 시작기점\n",
        "\n",
        "    self.price_dic = {}\n",
        "\n",
        "    self.start, self.today = self.get_date()\n",
        "    self.df = self.get_stock_df()\n",
        "    self.filtered_df = self.get_filtered_df()\n",
        "    self.result_df = self.get_result_df()\n",
        "\n",
        "  def get_date(self):\n",
        "    today = datetime.date.today().strftime('%Y%m%d')\n",
        "    if self.pre_period != 0:\n",
        "      today = (datetime.date.today() - datetime.timedelta(days=self.pre_period)).strftime('%Y%m%d')\n",
        "    start = (datetime.date.today() - datetime.timedelta(days=self.period)).strftime('%Y%m%d')\n",
        "\n",
        "    if XKRX.is_session(today) == False:\n",
        "      today = XKRX.previous_open(today).strftime('%Y%m%d')\n",
        "    if XKRX.is_session(start) == False:\n",
        "      start = XKRX.next_open(start).strftime('%Y%m%d')\n",
        "    return start, today\n",
        "\n",
        "  def get_stocks(self, market='STK'):\n",
        "    data = {\n",
        "      'mktId': market,\n",
        "      'strtDd': self.start,\n",
        "      'endDd': self.today,\n",
        "      'money': '1',\n",
        "      'adjStkPrc': '2',\n",
        "      'adjStkPrc_check': 'Y',\n",
        "      'share': '1',\n",
        "      'csvxls_isNo': 'false',\n",
        "      'name': 'fileDown',\n",
        "      'url': 'dbms/MDC/STAT/standard/MDCSTAT01602'\n",
        "    }\n",
        "    gen_url = 'http://data.krx.co.kr/comm/fileDn/GenerateOTP/generate.cmd'\n",
        "    gen_key = requests.post(gen_url, data=data)\n",
        "\n",
        "    down_url = 'http://data.krx.co.kr/comm/fileDn/download_csv/download.cmd'\n",
        "    r = requests.post(down_url, data={'code':gen_key.text})\n",
        "    r.encoding = 'EUC-KR'\n",
        "    return pd.read_csv(StringIO(r.text))\n",
        "\n",
        "  def get_stock_df(self):\n",
        "    return pd.concat([self.get_stocks(), self.get_stocks('KSQ')]).reset_index(drop=True)\n",
        "\n",
        "  def get_filtered_df(self):\n",
        "    traded_df = self.df[(self.df['거래대금'] < self.df['거래대금'].quantile(self.traded[1])) & (self.df['거래대금'] > self.df['거래대금'].quantile(self.traded[0]))]\n",
        "    increased_df = self.df[(self.df['등락률'] > self.df['등락률'].quantile(self.increased[0])) & (self.df['등락률'] < self.df['등락률'].quantile(self.increased[1]))]\n",
        "    selected = pd.Series(np.intersect1d(traded_df['종목명'].values, increased_df['종목명'].values))\n",
        "    return self.df[self.df['종목명'].isin(selected)].sort_values('등락률', ascending=False).head(20)\n",
        "\n",
        "  def get_sharpe(self, df):\n",
        "    change = df['Change']+1\n",
        "    return change.mean()/change.std()\n",
        "\n",
        "  def get_sortino(self, df):\n",
        "    change = df['Change']+1\n",
        "    return change.mean()/(change[change<1]).std()\n",
        "\n",
        "  def get_position(self, df):\n",
        "    return df['Close'][-1]/df['Close'].max()\n",
        "\n",
        "  def get_future_mdd(self, s):\n",
        "    peak = s.iloc[0]\n",
        "    max_drawdown = 0\n",
        "    for price in s:\n",
        "        if price > peak:\n",
        "            peak = price\n",
        "        drawdown = (peak - price) / peak\n",
        "        if drawdown > max_drawdown:\n",
        "            max_drawdown = drawdown\n",
        "    return max_drawdown\n",
        "\n",
        "  def get_result_df(self):\n",
        "    for i in self.filtered_df['종목코드']:\n",
        "      self.price_dic[i] = fdr.DataReader(str(i), self.start, self.today)\n",
        "\n",
        "    if (self.pre_period != 0):\n",
        "      future_dic = {}\n",
        "      for i in self.filtered_df['종목코드']:\n",
        "        future = (datetime.date.today() + datetime.timedelta(days=self.pre_period)).strftime('%Y%m%d')\n",
        "        future_dic[i] = fdr.DataReader(str(i), self.today, future)\n",
        "      self.filtered_df['Future_mdd'] = [self.get_future_mdd(future_dic[x]['Close']) for x in future_dic]\n",
        "      self.filtered_df['Performance'] = [(future_dic[x]['Close'][-1]/future_dic[x]['Close'][0]) for x in future_dic]\n",
        "      self.filtered_df['pre_period'] = [self.pre_period for x in future_dic]\n",
        "    else:\n",
        "      self.filtered_df['Future_mdd'] = [0 for x in self.price_dic]\n",
        "      self.filtered_df['Performance'] = [0 for x in self.price_dic]\n",
        "      self.filtered_df['pre_period'] = [self.pre_period for x in self.price_dic]\n",
        "\n",
        "    self.filtered_df['Sharpe'] = [self.get_sharpe(self.price_dic[x]) for x in self.price_dic]\n",
        "    self.filtered_df['Sortino'] = [self.get_sortino(self.price_dic[x]) for x in self.price_dic]\n",
        "    self.filtered_df['Position'] = [self.get_position(self.price_dic[x]) for x in self.price_dic]\n",
        "\n",
        "    t = self.filtered_df.sort_values('Sharpe', ascending=False)\n",
        "\n",
        "    scaler = MinMaxScaler(feature_range=(5, 10))\n",
        "\n",
        "    t['Position'] = scaler.fit_transform(t[['Position']]).round(1)\n",
        "    t['Sortino'] = scaler.fit_transform(t[['Sortino']]).round(1)\n",
        "    t['Sharpe'] = scaler.fit_transform(t[['Sharpe']]).round(1)\n",
        "    t['거래대금'] = scaler.fit_transform(t[['거래대금']]).round(1)\n",
        "    t['등락률'] = scaler.fit_transform(t[['등락률']]).round(1)\n",
        "    t['합산'] = t['Position'] + t['Sortino'] + t['Sharpe'] + t['거래대금'] + t['등락률']\n",
        "    t['합산'] = scaler.fit_transform(t[['합산']]).round(1)\n",
        "\n",
        "    t = t[['종목명', '종료일 종가', '등락률', '거래대금',\t'Sharpe',\t'Sortino',\t'Position', '합산', 'Performance']].reset_index(drop=True).rename({'종료일 종가':'현재가', '등락률':'파워', '거래대금':'관심도', 'Sharpe':'Risk1', 'Sortino':'Risk2', 'Position':'모멘텀'}, axis=1)\n",
        "    t.index+=1\n",
        "    t.index.name='순위'\n",
        "\n",
        "    return t"
      ],
      "metadata": {
        "id": "ZuPs9iTzUxVo"
      },
      "execution_count": null,
      "outputs": []
    },
    {
      "cell_type": "code",
      "source": [
        "# k\n",
        "stocklist = StockList(250, [.99,1], [.99,1])\n",
        "t = stocklist.filtered_df\n",
        "t = t[['종목명','등락률','거래대금']].reset_index(drop=True)\n",
        "t.index+=1\n",
        "t.index.name='순위'\n",
        "t"
      ],
      "metadata": {
        "id": "BvIPqIriT3kI"
      },
      "execution_count": null,
      "outputs": []
    },
    {
      "cell_type": "code",
      "source": [
        "from google.colab import files\n",
        "\n",
        "t.to_csv('king_df.csv', encoding=\"utf-8-sig\") \n",
        "files.download('king_df.csv')"
      ],
      "metadata": {
        "id": "S5z7bd-KT8tu"
      },
      "execution_count": null,
      "outputs": []
    },
    {
      "cell_type": "code",
      "source": [
        "# Ai\n",
        "stocklist = StockList()\n",
        "t = stocklist.result_df\n",
        "t"
      ],
      "metadata": {
        "id": "JpsvxuxlQ4K7"
      },
      "execution_count": null,
      "outputs": []
    },
    {
      "cell_type": "code",
      "source": [
        "t.to_csv('ai_df.csv', encoding=\"utf-8-sig\") \n",
        "files.download('ai_df.csv')"
      ],
      "metadata": {
        "id": "HZdmQ_7eYhHT"
      },
      "execution_count": null,
      "outputs": []
    },
    {
      "cell_type": "code",
      "source": [
        "# performance \n",
        "all_df = []\n",
        "for p in [20, 60, 120]:\n",
        "  stocklist = StockList(period=250, increased=[.9, .99], traded=[.9, .99], pre_period=p)\n",
        "  t = stocklist.filtered_df\n",
        "  t = t[t['Performance'] > 1.01]\n",
        "  t = t[['종목명', '종료일 종가', 'Future_mdd', 'Performance', 'pre_period']].reset_index(drop=True)\n",
        "  t.index+=1\n",
        "  t.index.name='순위'\n",
        "  all_df.append(t)\n",
        "t = pd.concat(all_df)\n",
        "t = t.groupby(\"pre_period\").apply(lambda x: x.sort_values(\"Performance\", ascending=False).head(4)).reset_index(drop=True).sample(frac=1)\n",
        "t"
      ],
      "metadata": {
        "id": "PmdQB_kFSwxB"
      },
      "execution_count": null,
      "outputs": []
    },
    {
      "cell_type": "code",
      "source": [
        "t.to_csv('performance_df.csv', encoding=\"utf-8-sig\") \n",
        "files.download('performance_df.csv')"
      ],
      "metadata": {
        "id": "bsVEesmTTYu-"
      },
      "execution_count": null,
      "outputs": []
    },
    {
      "cell_type": "code",
      "source": [
        "data = {'positive': [34, 42, 34, 33, 11, 77, 23],\n",
        "        'negative': [12, 35, 12, 55, 11, 13, 52],\n",
        "        'compound': [22, 10, 6, 10, 23, 84, 35]}\n",
        "\n",
        "df = pd.DataFrame(data, index=['2022/11/11', '2022/11/12', '2022/11/13', '2022/11/14', '2022/11/15', '2022/11/16', '2022/11/17'])\n",
        "df.index.name = 'date'\n",
        "df"
      ],
      "metadata": {
        "id": "hR_ozCRX5sIK"
      },
      "execution_count": null,
      "outputs": []
    },
    {
      "cell_type": "code",
      "source": [
        "df.to_csv('sentiment_df.csv', encoding=\"utf-8-sig\") \n",
        "files.download('sentiment_df.csv')"
      ],
      "metadata": {
        "id": "-qKpl3jPSAsF"
      },
      "execution_count": null,
      "outputs": []
    },
    {
      "cell_type": "code",
      "source": [],
      "metadata": {
        "id": "2po7C3pc58v0"
      },
      "execution_count": null,
      "outputs": []
    }
  ]
}