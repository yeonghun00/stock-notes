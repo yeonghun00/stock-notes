{
  "nbformat": 4,
  "nbformat_minor": 0,
  "metadata": {
    "colab": {
      "name": "News Analysis",
      "provenance": [],
      "authorship_tag": "ABX9TyP2ZtiQfj+nLM/AjTF5vbHW",
      "include_colab_link": true
    },
    "kernelspec": {
      "name": "python3",
      "display_name": "Python 3"
    },
    "language_info": {
      "name": "python"
    }
  },
  "cells": [
    {
      "cell_type": "markdown",
      "metadata": {
        "id": "view-in-github",
        "colab_type": "text"
      },
      "source": [
        "<a href=\"https://colab.research.google.com/github/yeonghun00/stock-notes/blob/main/useful/navernews.ipynb\" target=\"_parent\"><img src=\"https://colab.research.google.com/assets/colab-badge.svg\" alt=\"Open In Colab\"/></a>"
      ]
    },
    {
      "cell_type": "code",
      "metadata": {
        "id": "aWmSDzX4Lnu4",
        "colab": {
          "base_uri": "https://localhost:8080/"
        },
        "outputId": "f1f8bc24-0464-4bfb-92a6-49b0fd259f13"
      },
      "source": [
        "!pip install konlpy"
      ],
      "execution_count": 1,
      "outputs": [
        {
          "output_type": "stream",
          "name": "stdout",
          "text": [
            "Looking in indexes: https://pypi.org/simple, https://us-python.pkg.dev/colab-wheels/public/simple/\n",
            "Collecting konlpy\n",
            "  Downloading konlpy-0.6.0-py2.py3-none-any.whl (19.4 MB)\n",
            "\u001b[2K     \u001b[90m━━━━━━━━━━━━━━━━━━━━━━━━━━━━━━━━━━━━━━━━\u001b[0m \u001b[32m19.4/19.4 MB\u001b[0m \u001b[31m39.0 MB/s\u001b[0m eta \u001b[36m0:00:00\u001b[0m\n",
            "\u001b[?25hCollecting JPype1>=0.7.0 (from konlpy)\n",
            "  Downloading JPype1-1.4.1-cp310-cp310-manylinux_2_12_x86_64.manylinux2010_x86_64.whl (465 kB)\n",
            "\u001b[2K     \u001b[90m━━━━━━━━━━━━━━━━━━━━━━━━━━━━━━━━━━━━━━\u001b[0m \u001b[32m465.3/465.3 kB\u001b[0m \u001b[31m37.0 MB/s\u001b[0m eta \u001b[36m0:00:00\u001b[0m\n",
            "\u001b[?25hRequirement already satisfied: lxml>=4.1.0 in /usr/local/lib/python3.10/dist-packages (from konlpy) (4.9.2)\n",
            "Requirement already satisfied: numpy>=1.6 in /usr/local/lib/python3.10/dist-packages (from konlpy) (1.22.4)\n",
            "Requirement already satisfied: packaging in /usr/local/lib/python3.10/dist-packages (from JPype1>=0.7.0->konlpy) (23.1)\n",
            "Installing collected packages: JPype1, konlpy\n",
            "Successfully installed JPype1-1.4.1 konlpy-0.6.0\n"
          ]
        }
      ]
    },
    {
      "cell_type": "markdown",
      "metadata": {
        "id": "xVcRDZgKVzdv"
      },
      "source": [
        "**News Crawler**"
      ]
    },
    {
      "cell_type": "code",
      "metadata": {
        "id": "byuG6mMYJsYM"
      },
      "source": [
        "import requests\n",
        "from bs4 import BeautifulSoup\n",
        "import pandas as pd\n",
        "import numpy as np\n",
        "import datetime\n",
        "import html\n",
        "\n",
        "class News:\n",
        "  def __init__(self):\n",
        "    self.headers = {'User-Agent' : 'Mozilla/5.0 (Macintosh; Intel Mac OS X 10_14_6) AppleWebKit/537.36 (KHTML, like Gecko) Chrome/85.0.4183.121 Safari/537.36'}\n",
        "\n",
        "  def get_ranking(self, page=1, date='1'):\n",
        "    date = str(datetime.datetime.now().date().strftime(\"%Y%m%d\")) if date == '1' else date\n",
        "    pages = list(range(1,page+1))\n",
        "    li = []\n",
        "    for page in pages:\n",
        "      url = 'https://finance.naver.com/news/news_list.nhn?mode=RANK&date=' + date + '&page=' + str(page)\n",
        "      result = requests.get(url, headers = self.headers)\n",
        "      bs_obj = BeautifulSoup(result.content, \"html.parser\")\n",
        "\n",
        "      div = bs_obj.find_all('div', {'class':'hotNewsList'})\n",
        "      li+=[html.unescape(x['href']) for x in div[0].find_all('a')]\n",
        "    return li\n",
        "\n",
        "  def get_main(self, date='1'):\n",
        "    date = str(datetime.datetime.now().date().strftime(\"%Y-%m-%d\")) if date == '1' else date\n",
        "    url = 'https://finance.naver.com/news/mainnews.nhn'\n",
        "    result = requests.get(url, headers = self.headers)\n",
        "    bs_obj = BeautifulSoup(result.content, \"html.parser\")\n",
        "    return [x.find_all('a')[0]['href'] for x in bs_obj.find_all('dd', {'class':'articleSubject'})]\n",
        "\n",
        "  # 시황 전망: 401\n",
        "  # 기업 종목분석: 402\n",
        "  # 해외 증시: 403\n",
        "  # 채권 선물: 404\n",
        "  # 공시 메모: 406\n",
        "  # 환율: 429\n",
        "  def get_focus(self, page=1, code=402, date='1', ):\n",
        "    date = str(datetime.datetime.now().date().strftime(\"%Y%m%d\")) if date == '1' else date\n",
        "    pages = range(0,page)\n",
        "    li = []\n",
        "    for page in pages:\n",
        "      url = 'https://finance.naver.com/news/news_list.nhn?mode=LSS3D&section_id=101&section_id2=258&section_id3='\\\n",
        "      + str(code) +  '&date=' + str(date) + '&page=' + str(page)\n",
        "      result = requests.get(url, headers = self.headers)\n",
        "      bs_obj = BeautifulSoup(result.content, \"html.parser\")\n",
        "      temp = [html.unescape(x.find_all('a')[0]['href']) for x in bs_obj.find_all('dd', {'class':'articleSubject'})]\n",
        "      # 업데이트 가능\n",
        "      li+=[x.replace('§', '&sect') for x in temp]\n",
        "    return li\n",
        "\n",
        "  def get_article(self, url):\n",
        "    url = 'https://finance.naver.com/' + url\n",
        "    result = requests.get(url, headers = self.headers)\n",
        "    bs_obj = BeautifulSoup(result.content, \"html.parser\")\n",
        "\n",
        "    title = ' '.join(bs_obj.find_all('div', {'class': 'article_info'})[0].find_all('h3')[0].get_text().split())\n",
        "    context = bs_obj.find_all('div', {'class': 'articleCont'})[0]\n",
        "    try:\n",
        "      subheading = context.find_all('strong')[0].get_text()\n",
        "    except:\n",
        "      subheading = ''\n",
        "    t = ' '.join(context.get_text().split())\n",
        "    text = t[:t.find('@')]\n",
        "    text = text.replace(subheading, '')\n",
        "    return title, subheading, text\n",
        "\n",
        "  def get_code(self, code):\n",
        "    url = 'https://finance.naver.com/item/news_news.naver?code=' + code + '&page=1&sm=title_entity_id.basic&clusterId='\n",
        "    result = requests.get(url, headers = self.headers)\n",
        "    bs_obj = BeautifulSoup(result.content, \"html.parser\")\n",
        "    tds = bs_obj.find_all('td', {'class': 'title'})\n",
        "    texts = [td.text.strip() for td in tds]\n",
        "    cleaned =  [sentence.replace('[', ' ').replace(']', ' ').replace('…', ' ').replace('·', ' ').replace('\"', ' ').replace('“', ' ').replace(',', ' ').replace('...', ' ') for sentence in texts]\n",
        "    return cleaned\n"
      ],
      "execution_count": 58,
      "outputs": []
    },
    {
      "cell_type": "code",
      "metadata": {
        "colab": {
          "base_uri": "https://localhost:8080/",
          "height": 607
        },
        "id": "DQvnoLT1X05l",
        "outputId": "70d346e8-2382-409f-ae80-292855134dc5"
      },
      "source": [
        "from multiprocessing import Pool\n",
        "\n",
        "news = News()\n",
        "news_list = news.get_ranking(5)\n",
        "with Pool() as p:\n",
        "    li = p.map(news.get_article, news_list)\n",
        "li = np.array(li)\n",
        "\n",
        "dic = {'Title':li[:,0], 'Subheading':li[:,1], 'Text':li[:,2]}\n",
        "df = pd.DataFrame.from_dict(dic)\n",
        "df"
      ],
      "execution_count": 25,
      "outputs": [
        {
          "output_type": "execute_result",
          "data": {
            "text/plain": [
              "                                          Title  \\\n",
              "0               \"지금 이 주식 사세요\"…유명 애널의 추천, 이유 있었다   \n",
              "1             “창고가 텅텅 비었어요”…활짝 웃은 이 업종, 주가도 뛰었다   \n",
              "2                            숨고르는 코스피…저평가株 담아볼까   \n",
              "3                    美 억만장자 투자자의 깜짝 놀랄 만한 증시 전망   \n",
              "4             SK이노베이션 \"자사주 소각 결정된 바 없어\"[주목 e공시]   \n",
              "..                                          ...   \n",
              "118    씨에스베어링, 전방 호조 속 경쟁자 품질 이슈에 수혜 전망…목표가↑-신한   \n",
              "119  위안화 약세 vs 반기말 네고…환율, 1300원 후반 등락 전망[외환브리핑]   \n",
              "120             [특징주]TS트릴리온, 최대주주 경영권 매각 소식에 강세   \n",
              "121  미래에셋운용, 'TIGER Fn반도체TOP10 ETF' 순자산 4천억원 돌파   \n",
              "122                     유니테크노, 100억 규모 BW 발행 결정   \n",
              "\n",
              "                                            Subheading  \\\n",
              "0    미리 사놓고 '매수' 리포트5.2억 챙긴 증권사 애널리스트금감원 특사경, 기소의견으...   \n",
              "1                                                        \n",
              "2    긴축 우려에 코스피 단기 조정장세 지속상승 재료 부재에 저PER 종목 관심 기대은행...   \n",
              "3                                                        \n",
              "4                                                        \n",
              "..                                                 ...   \n",
              "118                        투자의견 ‘매수’, 목표가 1만9000원 ‘상향’   \n",
              "119  역외 1304.0원…하락 출발 전망위안화 작년 11월 이후 최대 약세달러인덱스 10...   \n",
              "120                                                      \n",
              "121                                                      \n",
              "122                                                      \n",
              "\n",
              "                                                  Text  \n",
              "0    서울 여의도에 있는 금융감독원 전경. /사진=한경DB금융감독원 자본시장특별사법경찰(...  \n",
              "1    국내 의류 OEM주 강세 [사진 = 연합뉴스]영원무역과 한세실업 등 주문자상표부착생...  \n",
              "2    [이데일리 김응태 기자] 코스피가 글로벌 긴축 정책과 경기 침체 우려에 숨고르기 구...  \n",
              "3    미국의 억만장자 투자자이자 배런 캐피털의 최고경영자 론 배런이 인플레이션 상승에 따...  \n",
              "4    SK이노베이션은 자사주 소각 추진 보도에 대해 \"주주가치 제고를 위해 자사주 소각을...  \n",
              "..                                                 ...  \n",
              "118  [이데일리 이정현 기자] 신한투자증권은 씨에스베어링(297090)에 대해 “경쟁사 ...  \n",
              "119  [이데일리 하상렬 기자] 원·달러 환율이 소폭 하락 후 중국 위안화 약세에 연동된 ...  \n",
              "120  [이데일리 양지윤 기자] TS트릴리온이 최대주주의 경영권 매각 소식에 강세다. 27...  \n",
              "121  [이데일리 이은정 기자] 미래에셋자산운용은 ‘TIGER Fn반도체TOP10 ETF(...  \n",
              "122  [이데일리 원다연 기자] 유니테크노(241690)는 시설자금 및 기타자금 조달을 위...  \n",
              "\n",
              "[123 rows x 3 columns]"
            ],
            "text/html": [
              "\n",
              "  <div id=\"df-4b9d37d2-51e2-430a-93f8-7ee7086b05e7\">\n",
              "    <div class=\"colab-df-container\">\n",
              "      <div>\n",
              "<style scoped>\n",
              "    .dataframe tbody tr th:only-of-type {\n",
              "        vertical-align: middle;\n",
              "    }\n",
              "\n",
              "    .dataframe tbody tr th {\n",
              "        vertical-align: top;\n",
              "    }\n",
              "\n",
              "    .dataframe thead th {\n",
              "        text-align: right;\n",
              "    }\n",
              "</style>\n",
              "<table border=\"1\" class=\"dataframe\">\n",
              "  <thead>\n",
              "    <tr style=\"text-align: right;\">\n",
              "      <th></th>\n",
              "      <th>Title</th>\n",
              "      <th>Subheading</th>\n",
              "      <th>Text</th>\n",
              "    </tr>\n",
              "  </thead>\n",
              "  <tbody>\n",
              "    <tr>\n",
              "      <th>0</th>\n",
              "      <td>\"지금 이 주식 사세요\"…유명 애널의 추천, 이유 있었다</td>\n",
              "      <td>미리 사놓고 '매수' 리포트5.2억 챙긴 증권사 애널리스트금감원 특사경, 기소의견으...</td>\n",
              "      <td>서울 여의도에 있는 금융감독원 전경. /사진=한경DB금융감독원 자본시장특별사법경찰(...</td>\n",
              "    </tr>\n",
              "    <tr>\n",
              "      <th>1</th>\n",
              "      <td>“창고가 텅텅 비었어요”…활짝 웃은 이 업종, 주가도 뛰었다</td>\n",
              "      <td></td>\n",
              "      <td>국내 의류 OEM주 강세 [사진 = 연합뉴스]영원무역과 한세실업 등 주문자상표부착생...</td>\n",
              "    </tr>\n",
              "    <tr>\n",
              "      <th>2</th>\n",
              "      <td>숨고르는 코스피…저평가株 담아볼까</td>\n",
              "      <td>긴축 우려에 코스피 단기 조정장세 지속상승 재료 부재에 저PER 종목 관심 기대은행...</td>\n",
              "      <td>[이데일리 김응태 기자] 코스피가 글로벌 긴축 정책과 경기 침체 우려에 숨고르기 구...</td>\n",
              "    </tr>\n",
              "    <tr>\n",
              "      <th>3</th>\n",
              "      <td>美 억만장자 투자자의 깜짝 놀랄 만한 증시 전망</td>\n",
              "      <td></td>\n",
              "      <td>미국의 억만장자 투자자이자 배런 캐피털의 최고경영자 론 배런이 인플레이션 상승에 따...</td>\n",
              "    </tr>\n",
              "    <tr>\n",
              "      <th>4</th>\n",
              "      <td>SK이노베이션 \"자사주 소각 결정된 바 없어\"[주목 e공시]</td>\n",
              "      <td></td>\n",
              "      <td>SK이노베이션은 자사주 소각 추진 보도에 대해 \"주주가치 제고를 위해 자사주 소각을...</td>\n",
              "    </tr>\n",
              "    <tr>\n",
              "      <th>...</th>\n",
              "      <td>...</td>\n",
              "      <td>...</td>\n",
              "      <td>...</td>\n",
              "    </tr>\n",
              "    <tr>\n",
              "      <th>118</th>\n",
              "      <td>씨에스베어링, 전방 호조 속 경쟁자 품질 이슈에 수혜 전망…목표가↑-신한</td>\n",
              "      <td>투자의견 ‘매수’, 목표가 1만9000원 ‘상향’</td>\n",
              "      <td>[이데일리 이정현 기자] 신한투자증권은 씨에스베어링(297090)에 대해 “경쟁사 ...</td>\n",
              "    </tr>\n",
              "    <tr>\n",
              "      <th>119</th>\n",
              "      <td>위안화 약세 vs 반기말 네고…환율, 1300원 후반 등락 전망[외환브리핑]</td>\n",
              "      <td>역외 1304.0원…하락 출발 전망위안화 작년 11월 이후 최대 약세달러인덱스 10...</td>\n",
              "      <td>[이데일리 하상렬 기자] 원·달러 환율이 소폭 하락 후 중국 위안화 약세에 연동된 ...</td>\n",
              "    </tr>\n",
              "    <tr>\n",
              "      <th>120</th>\n",
              "      <td>[특징주]TS트릴리온, 최대주주 경영권 매각 소식에 강세</td>\n",
              "      <td></td>\n",
              "      <td>[이데일리 양지윤 기자] TS트릴리온이 최대주주의 경영권 매각 소식에 강세다. 27...</td>\n",
              "    </tr>\n",
              "    <tr>\n",
              "      <th>121</th>\n",
              "      <td>미래에셋운용, 'TIGER Fn반도체TOP10 ETF' 순자산 4천억원 돌파</td>\n",
              "      <td></td>\n",
              "      <td>[이데일리 이은정 기자] 미래에셋자산운용은 ‘TIGER Fn반도체TOP10 ETF(...</td>\n",
              "    </tr>\n",
              "    <tr>\n",
              "      <th>122</th>\n",
              "      <td>유니테크노, 100억 규모 BW 발행 결정</td>\n",
              "      <td></td>\n",
              "      <td>[이데일리 원다연 기자] 유니테크노(241690)는 시설자금 및 기타자금 조달을 위...</td>\n",
              "    </tr>\n",
              "  </tbody>\n",
              "</table>\n",
              "<p>123 rows × 3 columns</p>\n",
              "</div>\n",
              "      <button class=\"colab-df-convert\" onclick=\"convertToInteractive('df-4b9d37d2-51e2-430a-93f8-7ee7086b05e7')\"\n",
              "              title=\"Convert this dataframe to an interactive table.\"\n",
              "              style=\"display:none;\">\n",
              "        \n",
              "  <svg xmlns=\"http://www.w3.org/2000/svg\" height=\"24px\"viewBox=\"0 0 24 24\"\n",
              "       width=\"24px\">\n",
              "    <path d=\"M0 0h24v24H0V0z\" fill=\"none\"/>\n",
              "    <path d=\"M18.56 5.44l.94 2.06.94-2.06 2.06-.94-2.06-.94-.94-2.06-.94 2.06-2.06.94zm-11 1L8.5 8.5l.94-2.06 2.06-.94-2.06-.94L8.5 2.5l-.94 2.06-2.06.94zm10 10l.94 2.06.94-2.06 2.06-.94-2.06-.94-.94-2.06-.94 2.06-2.06.94z\"/><path d=\"M17.41 7.96l-1.37-1.37c-.4-.4-.92-.59-1.43-.59-.52 0-1.04.2-1.43.59L10.3 9.45l-7.72 7.72c-.78.78-.78 2.05 0 2.83L4 21.41c.39.39.9.59 1.41.59.51 0 1.02-.2 1.41-.59l7.78-7.78 2.81-2.81c.8-.78.8-2.07 0-2.86zM5.41 20L4 18.59l7.72-7.72 1.47 1.35L5.41 20z\"/>\n",
              "  </svg>\n",
              "      </button>\n",
              "      \n",
              "  <style>\n",
              "    .colab-df-container {\n",
              "      display:flex;\n",
              "      flex-wrap:wrap;\n",
              "      gap: 12px;\n",
              "    }\n",
              "\n",
              "    .colab-df-convert {\n",
              "      background-color: #E8F0FE;\n",
              "      border: none;\n",
              "      border-radius: 50%;\n",
              "      cursor: pointer;\n",
              "      display: none;\n",
              "      fill: #1967D2;\n",
              "      height: 32px;\n",
              "      padding: 0 0 0 0;\n",
              "      width: 32px;\n",
              "    }\n",
              "\n",
              "    .colab-df-convert:hover {\n",
              "      background-color: #E2EBFA;\n",
              "      box-shadow: 0px 1px 2px rgba(60, 64, 67, 0.3), 0px 1px 3px 1px rgba(60, 64, 67, 0.15);\n",
              "      fill: #174EA6;\n",
              "    }\n",
              "\n",
              "    [theme=dark] .colab-df-convert {\n",
              "      background-color: #3B4455;\n",
              "      fill: #D2E3FC;\n",
              "    }\n",
              "\n",
              "    [theme=dark] .colab-df-convert:hover {\n",
              "      background-color: #434B5C;\n",
              "      box-shadow: 0px 1px 3px 1px rgba(0, 0, 0, 0.15);\n",
              "      filter: drop-shadow(0px 1px 2px rgba(0, 0, 0, 0.3));\n",
              "      fill: #FFFFFF;\n",
              "    }\n",
              "  </style>\n",
              "\n",
              "      <script>\n",
              "        const buttonEl =\n",
              "          document.querySelector('#df-4b9d37d2-51e2-430a-93f8-7ee7086b05e7 button.colab-df-convert');\n",
              "        buttonEl.style.display =\n",
              "          google.colab.kernel.accessAllowed ? 'block' : 'none';\n",
              "\n",
              "        async function convertToInteractive(key) {\n",
              "          const element = document.querySelector('#df-4b9d37d2-51e2-430a-93f8-7ee7086b05e7');\n",
              "          const dataTable =\n",
              "            await google.colab.kernel.invokeFunction('convertToInteractive',\n",
              "                                                     [key], {});\n",
              "          if (!dataTable) return;\n",
              "\n",
              "          const docLinkHtml = 'Like what you see? Visit the ' +\n",
              "            '<a target=\"_blank\" href=https://colab.research.google.com/notebooks/data_table.ipynb>data table notebook</a>'\n",
              "            + ' to learn more about interactive tables.';\n",
              "          element.innerHTML = '';\n",
              "          dataTable['output_type'] = 'display_data';\n",
              "          await google.colab.output.renderOutput(dataTable, element);\n",
              "          const docLink = document.createElement('div');\n",
              "          docLink.innerHTML = docLinkHtml;\n",
              "          element.appendChild(docLink);\n",
              "        }\n",
              "      </script>\n",
              "    </div>\n",
              "  </div>\n",
              "  "
            ]
          },
          "metadata": {},
          "execution_count": 25
        }
      ]
    },
    {
      "cell_type": "code",
      "source": [
        "df"
      ],
      "metadata": {
        "id": "evD03AHRBeF-"
      },
      "execution_count": null,
      "outputs": []
    },
    {
      "cell_type": "code",
      "metadata": {
        "colab": {
          "base_uri": "https://localhost:8080/"
        },
        "id": "muLfwmMEQWps",
        "outputId": "ca3cafd3-35b3-40ab-a533-463c70fb8abb"
      },
      "source": [
        "# korean font\n",
        "!wget 'https://noto-website-2.storage.googleapis.com/pkgs/NotoSansCJKkr-hinted.zip'\n",
        "!unzip \"NotoSansCJKkr-hinted.zip\"\n",
        "!mv NotoSansCJKkr-Medium.otf /usr/share/fonts/truetype/"
      ],
      "execution_count": 28,
      "outputs": [
        {
          "output_type": "stream",
          "name": "stdout",
          "text": [
            "--2023-06-27 05:33:00--  https://noto-website-2.storage.googleapis.com/pkgs/NotoSansCJKkr-hinted.zip\n",
            "Resolving noto-website-2.storage.googleapis.com (noto-website-2.storage.googleapis.com)... 74.125.137.128, 2607:f8b0:4023:c03::80\n",
            "Connecting to noto-website-2.storage.googleapis.com (noto-website-2.storage.googleapis.com)|74.125.137.128|:443... connected.\n",
            "HTTP request sent, awaiting response... 200 OK\n",
            "Length: 121163981 (116M) [application/zip]\n",
            "Saving to: ‘NotoSansCJKkr-hinted.zip.1’\n",
            "\n",
            "NotoSansCJKkr-hinte 100%[===================>] 115.55M   168MB/s    in 0.7s    \n",
            "\n",
            "2023-06-27 05:33:00 (168 MB/s) - ‘NotoSansCJKkr-hinted.zip.1’ saved [121163981/121163981]\n",
            "\n",
            "Archive:  NotoSansCJKkr-hinted.zip\n",
            "replace LICENSE_OFL.txt? [y]es, [n]o, [A]ll, [N]one, [r]ename: y\n",
            "  inflating: LICENSE_OFL.txt         \n",
            "replace NotoSansCJKkr-Black.otf? [y]es, [n]o, [A]ll, [N]one, [r]ename: y\n",
            "  inflating: NotoSansCJKkr-Black.otf  \n",
            "replace NotoSansCJKkr-Bold.otf? [y]es, [n]o, [A]ll, [N]one, [r]ename: y\n",
            "  inflating: NotoSansCJKkr-Bold.otf  \n",
            "replace NotoSansCJKkr-DemiLight.otf? [y]es, [n]o, [A]ll, [N]one, [r]ename: y\n",
            "  inflating: NotoSansCJKkr-DemiLight.otf  \n",
            "replace NotoSansCJKkr-Light.otf? [y]es, [n]o, [A]ll, [N]one, [r]ename: y\n",
            "  inflating: NotoSansCJKkr-Light.otf  \n",
            "  inflating: NotoSansCJKkr-Medium.otf  \n",
            "replace NotoSansCJKkr-Regular.otf? [y]es, [n]o, [A]ll, [N]one, [r]ename: y\n",
            "  inflating: NotoSansCJKkr-Regular.otf  \n",
            "replace NotoSansCJKkr-Thin.otf? [y]es, [n]o, [A]ll, [N]one, [r]ename: y\n",
            "  inflating: NotoSansCJKkr-Thin.otf  \n",
            "replace NotoSansMonoCJKkr-Bold.otf? [y]es, [n]o, [A]ll, [N]one, [r]ename: y\n",
            "  inflating: NotoSansMonoCJKkr-Bold.otf  \n",
            "replace NotoSansMonoCJKkr-Regular.otf? [y]es, [n]o, [A]ll, [N]one, [r]ename: y\n",
            "  inflating: NotoSansMonoCJKkr-Regular.otf  \n",
            "replace README? [y]es, [n]o, [A]ll, [N]one, [r]ename: y\n",
            "  inflating: README                  \n"
          ]
        }
      ]
    },
    {
      "cell_type": "code",
      "metadata": {
        "id": "dTYqPlcnyyBl"
      },
      "source": [
        "# https://wikidocs.net/22530\n",
        "from konlpy.tag import Hannanum\n",
        "from wordcloud import WordCloud\n",
        "import matplotlib.pyplot as plt\n",
        "\n",
        "class Analyser:\n",
        "  def __init__(self, df):\n",
        "    self.df = df\n",
        "    self.words = ''\n",
        "    self.stop_words = ['있다', '기자', '다만', '등의', '것으로', '기대감', '기대감에', '특징주', '실적', '기대', '최대', '신영', '순매수', '상위종목', '마감', \\\n",
        "                  '코스닥', '규모', '기관', '외국인', '신영증권', '이데일리', '연합뉴스', '서울경제', '하이투자증권', 'NH투자증권', '뉴스1', '영상', '서울', \\\n",
        "                  '뉴시스', '고', '며', '포인트', '라', '사진', '현지시간', 'S', 'SP', '헤럴드경제', '사진제공', '것', '이라', '로부터', '때문', '제공', 'P', '애널리스트']\n",
        "    self.wordcloud = ''\n",
        "\n",
        "  def get_tokenized(self, text):\n",
        "    hannanum = Hannanum()\n",
        "    return hannanum.morphs(text)\n",
        "\n",
        "  def get_cleaned(self, text):\n",
        "    text = ([x for x in text if len(x) > 1])\n",
        "    d = {i:text.count(i) for i in set(text) if text.count(i) > 1}\n",
        "    words = ' '.join(d.keys())\n",
        "    return words\n",
        "\n",
        "  def get_wordcloud(self, column):\n",
        "    t = analyser.df[column]\n",
        "    words = self.get_tokenized(' '.join(t))\n",
        "    words = self.get_cleaned(words)\n",
        "    words = words.split()\n",
        "    words = ' '.join(words)\n",
        "    self.words = words\n",
        "    wordcloud = WordCloud(stopwords = self.stop_words, \\\n",
        "                          font_path='/usr/share/fonts/truetype/NotoSansCJKkr-Medium.otf', \\\n",
        "                          background_color='white', \\\n",
        "                          width=1200, height=800).generate(words)\n",
        "    self.wordcloud = wordcloud\n",
        "    plt.figure(figsize=(18,10))\n",
        "    plt.imshow(wordcloud, interpolation='bilinear')\n",
        "    plt.axis(\"off\")"
      ],
      "execution_count": 34,
      "outputs": []
    },
    {
      "cell_type": "code",
      "source": [
        "news = News()\n",
        "s = news.get_code('007660')"
      ],
      "metadata": {
        "id": "GGTTtyqlHjC4"
      },
      "execution_count": 59,
      "outputs": []
    },
    {
      "cell_type": "code",
      "source": [
        "s"
      ],
      "metadata": {
        "id": "ZtYgayp4I0ei",
        "outputId": "6dcb33cb-0050-4fd7-b797-aaca6ab3019c",
        "colab": {
          "base_uri": "https://localhost:8080/"
        }
      },
      "execution_count": 60,
      "outputs": [
        {
          "output_type": "execute_result",
          "data": {
            "text/plain": [
              "[' 주식초고수는 지금  AI 반도체 수혜株 이수페타시스 순매수 1위',\n",
              " ' AI 반도체 수혜  이수페타시스 신고가 행진',\n",
              " ' 주가동향  이수페타시스 20% 상승세  구글 AI가속기 수주 물량 ',\n",
              " \" 주식 초고수는 지금 '엔비디아 효과' 이수페타시스 순매수 1위\",\n",
              " \" MK 시그널  'AI수혜주' 이수페타시스 주목\",\n",
              " 'SK證  이수페타시스  시장 확대로 실적 개선 ',\n",
              " ' 이번주 추천주  엔비디아發 수혜 이수페타시스 주목',\n",
              " ' 데이터로 보는 증시 이수페타시스  SK하이닉스  기관 외국인 코스피  ',\n",
              " ' 우리도 AI 수혜주” 이수페타시스 급등',\n",
              " '이수페타시스  고다층 PCB 4공장 준공식 개최',\n",
              " '이수페타시스  4공장 준공식 연간 2천억 규모 PCB 추가 생산능력  ',\n",
              " ' 데이터센터 수요에 선제 대응” 이수페타시스  4공장 준공']"
            ]
          },
          "metadata": {},
          "execution_count": 60
        }
      ]
    },
    {
      "cell_type": "code",
      "source": [
        "cleaned_sentences ="
      ],
      "metadata": {
        "id": "EvsU3wKvJGAP",
        "outputId": "b7b35768-e057-43a4-c20c-fe18ace835a1",
        "colab": {
          "base_uri": "https://localhost:8080/",
          "height": 134
        }
      },
      "execution_count": 55,
      "outputs": [
        {
          "output_type": "error",
          "ename": "SyntaxError",
          "evalue": "ignored",
          "traceback": [
            "\u001b[0;36m  File \u001b[0;32m\"<ipython-input-55-42968bdeb982>\"\u001b[0;36m, line \u001b[0;32m1\u001b[0m\n\u001b[0;31m    cleaned_sentences =\u001b[0m\n\u001b[0m                        ^\u001b[0m\n\u001b[0;31mSyntaxError\u001b[0m\u001b[0;31m:\u001b[0m invalid syntax\n"
          ]
        }
      ]
    },
    {
      "cell_type": "code",
      "source": [],
      "metadata": {
        "id": "BtSdca5wKwGa"
      },
      "execution_count": null,
      "outputs": []
    }
  ]
}