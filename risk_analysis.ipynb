{
  "nbformat": 4,
  "nbformat_minor": 0,
  "metadata": {
    "colab": {
      "name": "risk_analysis.ipynb",
      "provenance": [],
      "collapsed_sections": [],
      "authorship_tag": "ABX9TyO5YTwBlN1rpkFQP0E0edqF",
      "include_colab_link": true
    },
    "kernelspec": {
      "name": "python3",
      "display_name": "Python 3"
    },
    "language_info": {
      "name": "python"
    }
  },
  "cells": [
    {
      "cell_type": "markdown",
      "metadata": {
        "id": "view-in-github",
        "colab_type": "text"
      },
      "source": [
        "<a href=\"https://colab.research.google.com/github/yeonghun00/stock_public/blob/main/risk_analysis.ipynb\" target=\"_parent\"><img src=\"https://colab.research.google.com/assets/colab-badge.svg\" alt=\"Open In Colab\"/></a>"
      ]
    },
    {
      "cell_type": "code",
      "metadata": {
        "id": "u8e-pd3iWttV"
      },
      "source": [
        "code = '090150'"
      ],
      "execution_count": 1,
      "outputs": []
    },
    {
      "cell_type": "code",
      "metadata": {
        "id": "EuLO9CnOSkCM"
      },
      "source": [
        "import requests\n",
        "from bs4 import BeautifulSoup\n",
        "import pandas as pd\n",
        "import numpy as np\n",
        "import datetime\n",
        "\n",
        "class Stock:\n",
        "  def __init__(self, code_name, page:int=26):\n",
        "    self.code_name = code_name\n",
        "    self.page = page\n",
        "    self.df = self.do_it()\n",
        "\n",
        "  def page_to_df(self, page):\n",
        "    url = \"https://finance.naver.com/item/sise_day.nhn?code=\" + self.code_name + \"&page=\" + str(page)\n",
        "    headers = {'User-Agent' : 'Mozilla/5.0 (Macintosh; Intel Mac OS X 10_14_6) AppleWebKit/537.36 (KHTML, like Gecko) Chrome/85.0.4183.121 Safari/537.36'}\n",
        "    result = requests.get(url, headers = headers)\n",
        "    bs_obj = BeautifulSoup(result.content, \"html.parser\")\n",
        "    tr = bs_obj.find_all(\"tr\", {'onmouseover':'mouseOver(this)', 'onmouseout':\"mouseOut(this)\"})\n",
        "    data_dict = {}\n",
        "    for i in range(10):\n",
        "      try: \n",
        "        spans = tr[i].find_all('span')\n",
        "        lines = [span.get_text() for span in spans]\n",
        "        lines = list(map(lambda x: x.replace(',',''), lines))\n",
        "\n",
        "        objdate = datetime.datetime.strptime(lines[0], '%Y.%m.%d')\n",
        "        data_dict[objdate] = lines[1:]\n",
        "      except:\n",
        "        break\n",
        "      \n",
        "    df = pd.DataFrame.from_dict(data_dict).transpose()\n",
        "    df.columns = ['Close','_','Open',\n",
        "                        'High','Low','Volume']\n",
        "    df = df.drop(columns=\"_\")\n",
        "\n",
        "    return df\n",
        "\n",
        "  def do_it(self):\n",
        "    df = self.page_to_df(1)\n",
        "    # max 9999\n",
        "    # 1 page = 10 days\n",
        "    for i in range(2, self.page): \n",
        "      try: \n",
        "        if (any(self.page_to_df(i).index != self.page_to_df(i-1).index)):\n",
        "          df = df.append(self.page_to_df(i))\n",
        "          print('.', end = '')\n",
        "          if (i%100==0):\n",
        "            print(i)\n",
        "        else:\n",
        "          break\n",
        "      except:\n",
        "        df = df.append(self.page_to_df(i))\n",
        "        break\n",
        "    df = df.sort_index(axis = 0) \n",
        "    for i in ['Close', 'Open', 'High', 'Low', 'Volume']:\n",
        "      df[i] = df[i].astype(int)\n",
        "    return df\n",
        "\n",
        "  def get_df(self):\n",
        "    return self.df"
      ],
      "execution_count": 2,
      "outputs": []
    },
    {
      "cell_type": "code",
      "metadata": {
        "colab": {
          "base_uri": "https://localhost:8080/"
        },
        "id": "ttefJDrLSnL9",
        "outputId": "33fc2cdf-4882-43d6-db1b-40a2c3a5072f"
      },
      "source": [
        "# 1 page = 10 days\n",
        "stock = Stock(code, 26)"
      ],
      "execution_count": 3,
      "outputs": [
        {
          "output_type": "stream",
          "text": [
            "........................"
          ],
          "name": "stdout"
        }
      ]
    },
    {
      "cell_type": "code",
      "metadata": {
        "id": "AbkMjFQhyIg5"
      },
      "source": [
        "market = Stock"
      ],
      "execution_count": 4,
      "outputs": []
    },
    {
      "cell_type": "code",
      "metadata": {
        "id": "qtj89iLTmku9"
      },
      "source": [
        "df = stock.get_df()"
      ],
      "execution_count": 5,
      "outputs": []
    },
    {
      "cell_type": "code",
      "metadata": {
        "colab": {
          "base_uri": "https://localhost:8080/",
          "height": 419
        },
        "id": "iO3H1Tq2qR5e",
        "outputId": "462cbaff-7da0-4989-af67-2771f6dc7e9d"
      },
      "source": [
        "df"
      ],
      "execution_count": 6,
      "outputs": [
        {
          "output_type": "execute_result",
          "data": {
            "text/html": [
              "<div>\n",
              "<style scoped>\n",
              "    .dataframe tbody tr th:only-of-type {\n",
              "        vertical-align: middle;\n",
              "    }\n",
              "\n",
              "    .dataframe tbody tr th {\n",
              "        vertical-align: top;\n",
              "    }\n",
              "\n",
              "    .dataframe thead th {\n",
              "        text-align: right;\n",
              "    }\n",
              "</style>\n",
              "<table border=\"1\" class=\"dataframe\">\n",
              "  <thead>\n",
              "    <tr style=\"text-align: right;\">\n",
              "      <th></th>\n",
              "      <th>Close</th>\n",
              "      <th>Open</th>\n",
              "      <th>High</th>\n",
              "      <th>Low</th>\n",
              "      <th>Volume</th>\n",
              "    </tr>\n",
              "  </thead>\n",
              "  <tbody>\n",
              "    <tr>\n",
              "      <th>2020-03-23</th>\n",
              "      <td>1870</td>\n",
              "      <td>1760</td>\n",
              "      <td>1950</td>\n",
              "      <td>1570</td>\n",
              "      <td>139573</td>\n",
              "    </tr>\n",
              "    <tr>\n",
              "      <th>2020-03-24</th>\n",
              "      <td>1870</td>\n",
              "      <td>1870</td>\n",
              "      <td>1915</td>\n",
              "      <td>1735</td>\n",
              "      <td>29568</td>\n",
              "    </tr>\n",
              "    <tr>\n",
              "      <th>2020-03-25</th>\n",
              "      <td>2010</td>\n",
              "      <td>1950</td>\n",
              "      <td>2015</td>\n",
              "      <td>1900</td>\n",
              "      <td>47413</td>\n",
              "    </tr>\n",
              "    <tr>\n",
              "      <th>2020-03-26</th>\n",
              "      <td>2030</td>\n",
              "      <td>2010</td>\n",
              "      <td>2100</td>\n",
              "      <td>1935</td>\n",
              "      <td>87665</td>\n",
              "    </tr>\n",
              "    <tr>\n",
              "      <th>2020-03-27</th>\n",
              "      <td>2085</td>\n",
              "      <td>2050</td>\n",
              "      <td>2185</td>\n",
              "      <td>1975</td>\n",
              "      <td>76423</td>\n",
              "    </tr>\n",
              "    <tr>\n",
              "      <th>...</th>\n",
              "      <td>...</td>\n",
              "      <td>...</td>\n",
              "      <td>...</td>\n",
              "      <td>...</td>\n",
              "      <td>...</td>\n",
              "    </tr>\n",
              "    <tr>\n",
              "      <th>2021-03-22</th>\n",
              "      <td>4400</td>\n",
              "      <td>4385</td>\n",
              "      <td>4500</td>\n",
              "      <td>4360</td>\n",
              "      <td>34722</td>\n",
              "    </tr>\n",
              "    <tr>\n",
              "      <th>2021-03-23</th>\n",
              "      <td>4370</td>\n",
              "      <td>4400</td>\n",
              "      <td>4470</td>\n",
              "      <td>4330</td>\n",
              "      <td>33945</td>\n",
              "    </tr>\n",
              "    <tr>\n",
              "      <th>2021-03-24</th>\n",
              "      <td>4250</td>\n",
              "      <td>4370</td>\n",
              "      <td>4370</td>\n",
              "      <td>4200</td>\n",
              "      <td>26780</td>\n",
              "    </tr>\n",
              "    <tr>\n",
              "      <th>2021-03-25</th>\n",
              "      <td>4100</td>\n",
              "      <td>4245</td>\n",
              "      <td>4245</td>\n",
              "      <td>4100</td>\n",
              "      <td>50346</td>\n",
              "    </tr>\n",
              "    <tr>\n",
              "      <th>2021-03-26</th>\n",
              "      <td>4135</td>\n",
              "      <td>4100</td>\n",
              "      <td>4135</td>\n",
              "      <td>4055</td>\n",
              "      <td>43549</td>\n",
              "    </tr>\n",
              "  </tbody>\n",
              "</table>\n",
              "<p>250 rows × 5 columns</p>\n",
              "</div>"
            ],
            "text/plain": [
              "            Close  Open  High   Low  Volume\n",
              "2020-03-23   1870  1760  1950  1570  139573\n",
              "2020-03-24   1870  1870  1915  1735   29568\n",
              "2020-03-25   2010  1950  2015  1900   47413\n",
              "2020-03-26   2030  2010  2100  1935   87665\n",
              "2020-03-27   2085  2050  2185  1975   76423\n",
              "...           ...   ...   ...   ...     ...\n",
              "2021-03-22   4400  4385  4500  4360   34722\n",
              "2021-03-23   4370  4400  4470  4330   33945\n",
              "2021-03-24   4250  4370  4370  4200   26780\n",
              "2021-03-25   4100  4245  4245  4100   50346\n",
              "2021-03-26   4135  4100  4135  4055   43549\n",
              "\n",
              "[250 rows x 5 columns]"
            ]
          },
          "metadata": {
            "tags": []
          },
          "execution_count": 6
        }
      ]
    },
    {
      "cell_type": "code",
      "metadata": {
        "id": "bD0gAx5JqTZ4"
      },
      "source": [
        "change = df['Close'][1:].values - df['Close'][:-1].values"
      ],
      "execution_count": 7,
      "outputs": []
    },
    {
      "cell_type": "code",
      "metadata": {
        "colab": {
          "base_uri": "https://localhost:8080/"
        },
        "id": "FGmBVYeur9ks",
        "outputId": "031c1f22-8e96-4747-858e-38a1c3af9004"
      },
      "source": [
        "#normailization\n",
        "norm = np.linalg.norm(change)\n",
        "norm_chage = np.round(change/norm, 16)\n",
        "print(norm_chage)"
      ],
      "execution_count": 8,
      "outputs": [
        {
          "output_type": "stream",
          "text": [
            "[ 0.          0.06958052  0.00994007  0.0273352   0.02236517  0.0273352\n",
            " -0.02485019 -0.00248502  0.01242509  0.03230524  0.08946067  0.01739513\n",
            "  0.05715543  0.01491011 -0.07455056  0.01988015  0.03230524  0.01491011\n",
            "  0.         -0.0397603   0.00745506  0.00497004 -0.00745506  0.02485019\n",
            "  0.07455056 -0.04224532 -0.01739513  0.00248502 -0.01739513  0.04970037\n",
            " -0.00248502 -0.02236517  0.00497004 -0.0397603   0.00497004  0.05467041\n",
            "  0.01988015  0.          0.01242509 -0.01988015  0.00745506 -0.00248502\n",
            " -0.01739513  0.0273352   0.05964045  0.05467041  0.01739513 -0.01739513\n",
            " -0.02485019  0.03727528 -0.01242509  0.01491011  0.00745506  0.00994007\n",
            " -0.05467041 -0.07952059  0.02485019  0.          0.02982022 -0.00745506\n",
            " -0.05964045  0.0397603  -0.01242509 -0.00745506  0.04970037 -0.01988015\n",
            "  0.0273352  -0.00994007  0.00994007  0.00248502  0.05218539 -0.04473033\n",
            " -0.00994007  0.01242509  0.         -0.00994007 -0.00745506  0.00745506\n",
            "  0.          0.01988015  0.04970037  0.00745506 -0.00994007 -0.02236517\n",
            " -0.03230524 -0.00248502  0.03230524 -0.05218539  0.01242509  0.00497004\n",
            "  0.01491011 -0.00248502  0.04473033 -0.00497004  0.01242509  0.0273352\n",
            " -0.01491011 -0.01739513 -0.02485019  0.00497004 -0.0397603  -0.01491011\n",
            " -0.07455056  0.06461048 -0.01491011  0.         -0.00248502 -0.00497004\n",
            "  0.          0.01739513 -0.01491011 -0.00745506 -0.02982022 -0.01242509\n",
            "  0.0397603   0.01242509  0.          0.00497004  0.         -0.00497004\n",
            "  0.01739513  0.00497004 -0.01242509 -0.00994007 -0.01491011  0.\n",
            "  0.00248502 -0.02982022  0.02982022  0.00497004 -0.00994007  0.01988015\n",
            "  0.00497004  0.00497004 -0.00497004  0.05467041  0.0397603  -0.04224532\n",
            " -0.01988015  0.00497004  0.09691572 -0.05964045 -0.00248502 -0.01491011\n",
            "  0.01491011 -0.06958052  0.          0.02236517  0.00497004 -0.04970037\n",
            "  0.00248502  0.03727528  0.01491011  0.00745506  0.          0.01988015\n",
            "  0.01242509 -0.00745506  0.          0.09194569 -0.04721535  0.00745506\n",
            "  0.12673595 -0.00745506  0.00248502 -0.01242509 -0.00994007 -0.04473033\n",
            "  0.12673595 -0.04721535  0.08449063  0.14164606  0.22116665  0.\n",
            "  0.43487825  0.07952059 -0.2410468  -0.05467041 -0.07952059  0.12673595\n",
            " -0.20625654  0.         -0.00248502 -0.00497004  0.04473033  0.01739513\n",
            " -0.05467041 -0.16401123  0.03230524  0.03230524  0.05964045 -0.00994007\n",
            "  0.04224532  0.04970037 -0.04473033  0.05964045  0.02982022  0.09443071\n",
            " -0.08697565  0.17643632 -0.0273352  -0.0397603  -0.15655617  0.02485019\n",
            "  0.16649624  0.06212546  0.00745506  0.13667602 -0.23856178  0.03230524\n",
            " -0.0670955  -0.1739513   0.0670955   0.09194569  0.06212546  0.03479026\n",
            " -0.0397603  -0.04473033 -0.06958052  0.01242509  0.13170598  0.01242509\n",
            "  0.0397603   0.06958052 -0.11431085 -0.07206554  0.02236517 -0.19880149\n",
            " -0.01739513 -0.0397603   0.01739513  0.03727528  0.05715543 -0.00994007\n",
            " -0.07455056 -0.02982022 -0.06461048 -0.0273352   0.          0.01491011\n",
            "  0.06212546  0.0397603   0.0273352   0.02982022  0.00745506 -0.01491011\n",
            " -0.05964045 -0.07455056  0.01739513]\n"
          ],
          "name": "stdout"
        }
      ]
    },
    {
      "cell_type": "code",
      "metadata": {
        "colab": {
          "base_uri": "https://localhost:8080/"
        },
        "id": "SvrfgPb7sz-b",
        "outputId": "9722fb2f-d126-4c95-c158-5cb51349e251"
      },
      "source": [
        "print(code)\n",
        "print('Mean: ', np.mean(norm_chage))\n",
        "print('Std: ', np.std(norm_chage))\n",
        "print('Sharp: ', np.mean(norm_chage)/np.std(norm_chage))\n",
        "print('Beta: ', )"
      ],
      "execution_count": 9,
      "outputs": [
        {
          "output_type": "stream",
          "text": [
            "090150\n",
            "Mean:  0.004520937385138552\n",
            "Std:  0.06321095935190171\n",
            "Sharp:  0.07152141703735333\n"
          ],
          "name": "stdout"
        }
      ]
    }
  ]
}