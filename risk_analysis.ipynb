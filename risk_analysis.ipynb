{
  "nbformat": 4,
  "nbformat_minor": 0,
  "metadata": {
    "colab": {
      "name": "risk_analysis.ipynb",
      "provenance": [],
      "collapsed_sections": [],
      "authorship_tag": "ABX9TyOdkGkFqep30r8KDe1bwjxB",
      "include_colab_link": true
    },
    "kernelspec": {
      "name": "python3",
      "display_name": "Python 3"
    },
    "language_info": {
      "name": "python"
    }
  },
  "cells": [
    {
      "cell_type": "markdown",
      "metadata": {
        "id": "view-in-github",
        "colab_type": "text"
      },
      "source": [
        "<a href=\"https://colab.research.google.com/github/yeonghun00/stock_public/blob/main/risk_analysis.ipynb\" target=\"_parent\"><img src=\"https://colab.research.google.com/assets/colab-badge.svg\" alt=\"Open In Colab\"/></a>"
      ]
    },
    {
      "cell_type": "code",
      "metadata": {
        "id": "EuLO9CnOSkCM"
      },
      "source": [
        "import requests\n",
        "from bs4 import BeautifulSoup\n",
        "import pandas as pd\n",
        "import numpy as np\n",
        "import datetime\n",
        "\n",
        "class Stock:\n",
        "  def __init__(self, code_name, page:int=26):\n",
        "    self.code_name = code_name\n",
        "    self.page = page\n",
        "    self.df = self.do_it()\n",
        "\n",
        "  def page_to_df(self, page):\n",
        "    url = \"https://finance.naver.com/item/sise_day.nhn?code=\" + self.code_name + \"&page=\" + str(page)\n",
        "    headers = {'User-Agent' : 'Mozilla/5.0 (Macintosh; Intel Mac OS X 10_14_6) AppleWebKit/537.36 (KHTML, like Gecko) Chrome/85.0.4183.121 Safari/537.36'}\n",
        "    result = requests.get(url, headers = headers)\n",
        "    bs_obj = BeautifulSoup(result.content, \"html.parser\")\n",
        "    tr = bs_obj.find_all(\"tr\", {'onmouseover':'mouseOver(this)', 'onmouseout':\"mouseOut(this)\"})\n",
        "    data_dict = {}\n",
        "    for i in range(10):\n",
        "      try: \n",
        "        spans = tr[i].find_all('span')\n",
        "        lines = [span.get_text() for span in spans]\n",
        "        lines = list(map(lambda x: x.replace(',',''), lines))\n",
        "\n",
        "        objdate = datetime.datetime.strptime(lines[0], '%Y.%m.%d')\n",
        "        data_dict[objdate] = lines[1:]\n",
        "      except:\n",
        "        break\n",
        "      \n",
        "    df = pd.DataFrame.from_dict(data_dict).transpose()\n",
        "    df.columns = ['Close','_','Open',\n",
        "                        'High','Low','Volume']\n",
        "    df = df.drop(columns=\"_\")\n",
        "\n",
        "    return df\n",
        "\n",
        "  def do_it(self):\n",
        "    df = self.page_to_df(1)\n",
        "    # max 9999\n",
        "    # 1 page = 10 days\n",
        "    for i in range(2, self.page): \n",
        "      try: \n",
        "        if (any(self.page_to_df(i).index != self.page_to_df(i-1).index)):\n",
        "          df = df.append(self.page_to_df(i))\n",
        "          print('.', end = '')\n",
        "          if (i%100==0):\n",
        "            print(i)\n",
        "        else:\n",
        "          break\n",
        "      except:\n",
        "        df = df.append(self.page_to_df(i))\n",
        "        break\n",
        "    df = df.sort_index(axis = 0) \n",
        "    for i in ['Close', 'Open', 'High', 'Low', 'Volume']:\n",
        "      df[i] = df[i].astype(int)\n",
        "    return df\n",
        "\n",
        "  def get_df(self):\n",
        "    return self.df"
      ],
      "execution_count": 1,
      "outputs": []
    },
    {
      "cell_type": "code",
      "metadata": {
        "colab": {
          "base_uri": "https://localhost:8080/"
        },
        "id": "ttefJDrLSnL9",
        "outputId": "0dd36c66-d9c4-44a3-d0fb-4fe0de6a6936"
      },
      "source": [
        "# 1 page = 10 days\n",
        "stock = Stock('093380', 26)"
      ],
      "execution_count": 2,
      "outputs": [
        {
          "output_type": "stream",
          "text": [
            "........................"
          ],
          "name": "stdout"
        }
      ]
    },
    {
      "cell_type": "code",
      "metadata": {
        "id": "AbkMjFQhyIg5"
      },
      "source": [
        "market = Stock"
      ],
      "execution_count": 3,
      "outputs": []
    },
    {
      "cell_type": "code",
      "metadata": {
        "id": "qtj89iLTmku9"
      },
      "source": [
        "df = stock.get_df()"
      ],
      "execution_count": 4,
      "outputs": []
    },
    {
      "cell_type": "code",
      "metadata": {
        "colab": {
          "base_uri": "https://localhost:8080/",
          "height": 419
        },
        "id": "iO3H1Tq2qR5e",
        "outputId": "fe771c50-e0b1-4adf-b264-be89060668a4"
      },
      "source": [
        "df"
      ],
      "execution_count": 5,
      "outputs": [
        {
          "output_type": "execute_result",
          "data": {
            "text/html": [
              "<div>\n",
              "<style scoped>\n",
              "    .dataframe tbody tr th:only-of-type {\n",
              "        vertical-align: middle;\n",
              "    }\n",
              "\n",
              "    .dataframe tbody tr th {\n",
              "        vertical-align: top;\n",
              "    }\n",
              "\n",
              "    .dataframe thead th {\n",
              "        text-align: right;\n",
              "    }\n",
              "</style>\n",
              "<table border=\"1\" class=\"dataframe\">\n",
              "  <thead>\n",
              "    <tr style=\"text-align: right;\">\n",
              "      <th></th>\n",
              "      <th>Close</th>\n",
              "      <th>Open</th>\n",
              "      <th>High</th>\n",
              "      <th>Low</th>\n",
              "      <th>Volume</th>\n",
              "    </tr>\n",
              "  </thead>\n",
              "  <tbody>\n",
              "    <tr>\n",
              "      <th>2020-03-23</th>\n",
              "      <td>1550</td>\n",
              "      <td>1610</td>\n",
              "      <td>1620</td>\n",
              "      <td>1500</td>\n",
              "      <td>134744</td>\n",
              "    </tr>\n",
              "    <tr>\n",
              "      <th>2020-03-24</th>\n",
              "      <td>1630</td>\n",
              "      <td>1560</td>\n",
              "      <td>1635</td>\n",
              "      <td>1560</td>\n",
              "      <td>136060</td>\n",
              "    </tr>\n",
              "    <tr>\n",
              "      <th>2020-03-25</th>\n",
              "      <td>1770</td>\n",
              "      <td>1655</td>\n",
              "      <td>1795</td>\n",
              "      <td>1655</td>\n",
              "      <td>158901</td>\n",
              "    </tr>\n",
              "    <tr>\n",
              "      <th>2020-03-26</th>\n",
              "      <td>1850</td>\n",
              "      <td>1760</td>\n",
              "      <td>1950</td>\n",
              "      <td>1735</td>\n",
              "      <td>206550</td>\n",
              "    </tr>\n",
              "    <tr>\n",
              "      <th>2020-03-27</th>\n",
              "      <td>1930</td>\n",
              "      <td>1920</td>\n",
              "      <td>2000</td>\n",
              "      <td>1870</td>\n",
              "      <td>221179</td>\n",
              "    </tr>\n",
              "    <tr>\n",
              "      <th>...</th>\n",
              "      <td>...</td>\n",
              "      <td>...</td>\n",
              "      <td>...</td>\n",
              "      <td>...</td>\n",
              "      <td>...</td>\n",
              "    </tr>\n",
              "    <tr>\n",
              "      <th>2021-03-22</th>\n",
              "      <td>3895</td>\n",
              "      <td>3920</td>\n",
              "      <td>3945</td>\n",
              "      <td>3865</td>\n",
              "      <td>139598</td>\n",
              "    </tr>\n",
              "    <tr>\n",
              "      <th>2021-03-23</th>\n",
              "      <td>3890</td>\n",
              "      <td>3895</td>\n",
              "      <td>3970</td>\n",
              "      <td>3870</td>\n",
              "      <td>116982</td>\n",
              "    </tr>\n",
              "    <tr>\n",
              "      <th>2021-03-24</th>\n",
              "      <td>3800</td>\n",
              "      <td>3860</td>\n",
              "      <td>3960</td>\n",
              "      <td>3785</td>\n",
              "      <td>280496</td>\n",
              "    </tr>\n",
              "    <tr>\n",
              "      <th>2021-03-25</th>\n",
              "      <td>3835</td>\n",
              "      <td>3800</td>\n",
              "      <td>3850</td>\n",
              "      <td>3795</td>\n",
              "      <td>81297</td>\n",
              "    </tr>\n",
              "    <tr>\n",
              "      <th>2021-03-26</th>\n",
              "      <td>3840</td>\n",
              "      <td>3855</td>\n",
              "      <td>3870</td>\n",
              "      <td>3815</td>\n",
              "      <td>104238</td>\n",
              "    </tr>\n",
              "  </tbody>\n",
              "</table>\n",
              "<p>250 rows × 5 columns</p>\n",
              "</div>"
            ],
            "text/plain": [
              "            Close  Open  High   Low  Volume\n",
              "2020-03-23   1550  1610  1620  1500  134744\n",
              "2020-03-24   1630  1560  1635  1560  136060\n",
              "2020-03-25   1770  1655  1795  1655  158901\n",
              "2020-03-26   1850  1760  1950  1735  206550\n",
              "2020-03-27   1930  1920  2000  1870  221179\n",
              "...           ...   ...   ...   ...     ...\n",
              "2021-03-22   3895  3920  3945  3865  139598\n",
              "2021-03-23   3890  3895  3970  3870  116982\n",
              "2021-03-24   3800  3860  3960  3785  280496\n",
              "2021-03-25   3835  3800  3850  3795   81297\n",
              "2021-03-26   3840  3855  3870  3815  104238\n",
              "\n",
              "[250 rows x 5 columns]"
            ]
          },
          "metadata": {
            "tags": []
          },
          "execution_count": 5
        }
      ]
    },
    {
      "cell_type": "code",
      "metadata": {
        "colab": {
          "base_uri": "https://localhost:8080/"
        },
        "id": "bD0gAx5JqTZ4",
        "outputId": "56ab76c3-65aa-4df4-915c-e126ace5c8c3"
      },
      "source": [
        "change = df['Close'][1:].values - df['Close'][:-1].values\n",
        "change"
      ],
      "execution_count": 6,
      "outputs": [
        {
          "output_type": "execute_result",
          "data": {
            "text/plain": [
              "array([  80,  140,   80,   80,  100,  100,   60,   -5,  105,   80,   55,\n",
              "         35,   30,  -60,    0,   40,   55,  100,   60,  -30,  -10,   10,\n",
              "       -115,   70,    5,   50,  -50,   40,   65,    0,  -55,  -95,   65,\n",
              "        -30,  -20,   10,   95,   80,    0,  -60,   65,   85,   10,  -10,\n",
              "         55,  195,   30,  -35,  -65,  -40,    0,  -55,  -70, -100,  -45,\n",
              "       -170,  120,   25,   50,  -35,  -40,  110,  -70,  -10,  -80, -110,\n",
              "         10,   10,  100,   35,   80,   45,    0,  -90,  120,   25,  285,\n",
              "       -135,   40, -145,    0,  -35,   -5,  -10,    0,   45,  -55,   50,\n",
              "        -25,   10,   20,   35,   -5,   -5,  -45,   15,   15,  -35,   50,\n",
              "         45, -185,   40, -170,   20,   50,  100,   30,  -75,   25,  -20,\n",
              "          5,   60,   95, -115,   45,    5,   45,   10,   -5,   90,  -30,\n",
              "        -35,  395, -325,  170,  -70,  -40, -145,  -45,   50,   95,   80,\n",
              "        485,   45, -110,  -35,   10, -145,  -65,  -70,   75, -105,  145,\n",
              "        110, -150, -125,  -15,   60,   45, -110,   90,   20,  -25,   75,\n",
              "         30,   90,  -35,   60,   15,  -95,   65, -130,   95,  -10,   50,\n",
              "        -45,   75,  -85,  -25,  -25,   75,   75,  -85,  -15,  -40, -115,\n",
              "        -65,  100,  -60,   70,   -5,  -40,  -25,  -10,  -15,   15,  -70,\n",
              "        255, -160,   25,  -10,   50,  990,  105, -220,  325, -195, -255,\n",
              "         50,  135,    5, -210,  -50,  160,  210,   35, -185,  170,   40,\n",
              "        -70, -240, -250,  175,  165,   65,   25,    5, -205,  165,   75,\n",
              "         45,   15,   15, -115,  -80,   60, -150, -240,  130, -100,  -65,\n",
              "        160,  -95,   90, -140,  125,  -15,    5,   60,   40,  135, -180,\n",
              "         25, -125,  -25,   -5,  -90,   35,    5])"
            ]
          },
          "metadata": {
            "tags": []
          },
          "execution_count": 6
        }
      ]
    },
    {
      "cell_type": "code",
      "metadata": {
        "colab": {
          "base_uri": "https://localhost:8080/"
        },
        "id": "FGmBVYeur9ks",
        "outputId": "b2bcefa4-db36-414c-c55d-ecfe6884c151"
      },
      "source": [
        "#normailization\n",
        "norm = np.linalg.norm(change)\n",
        "normal_array = np.round(change/norm, 16)\n",
        "print(normal_array)"
      ],
      "execution_count": 7,
      "outputs": [
        {
          "output_type": "stream",
          "text": [
            "[ 0.04199316  0.07348803  0.04199316  0.04199316  0.05249145  0.05249145\n",
            "  0.03149487 -0.00262457  0.05511602  0.04199316  0.0288703   0.01837201\n",
            "  0.01574743 -0.03149487  0.          0.02099658  0.0288703   0.05249145\n",
            "  0.03149487 -0.01574743 -0.00524914  0.00524914 -0.06036517  0.03674401\n",
            "  0.00262457  0.02624572 -0.02624572  0.02099658  0.03411944  0.\n",
            " -0.0288703  -0.04986688  0.03411944 -0.01574743 -0.01049829  0.00524914\n",
            "  0.04986688  0.04199316  0.         -0.03149487  0.03411944  0.04461773\n",
            "  0.00524914 -0.00524914  0.0288703   0.10235833  0.01574743 -0.01837201\n",
            " -0.03411944 -0.02099658  0.         -0.0288703  -0.03674401 -0.05249145\n",
            " -0.02362115 -0.08923546  0.06298974  0.01312286  0.02624572 -0.01837201\n",
            " -0.02099658  0.05774059 -0.03674401 -0.00524914 -0.04199316 -0.05774059\n",
            "  0.00524914  0.00524914  0.05249145  0.01837201  0.04199316  0.02362115\n",
            "  0.         -0.0472423   0.06298974  0.01312286  0.14960063 -0.07086346\n",
            "  0.02099658 -0.0761126   0.         -0.01837201 -0.00262457 -0.00524914\n",
            "  0.          0.02362115 -0.0288703   0.02624572 -0.01312286  0.00524914\n",
            "  0.01049829  0.01837201 -0.00262457 -0.00262457 -0.02362115  0.00787372\n",
            "  0.00787372 -0.01837201  0.02624572  0.02362115 -0.09710918  0.02099658\n",
            " -0.08923546  0.01049829  0.02624572  0.05249145  0.01574743 -0.03936859\n",
            "  0.01312286 -0.01049829  0.00262457  0.03149487  0.04986688 -0.06036517\n",
            "  0.02362115  0.00262457  0.02362115  0.00524914 -0.00262457  0.0472423\n",
            " -0.01574743 -0.01837201  0.20734123 -0.17059721  0.08923546 -0.03674401\n",
            " -0.02099658 -0.0761126  -0.02362115  0.02624572  0.04986688  0.04199316\n",
            "  0.25458353  0.02362115 -0.05774059 -0.01837201  0.00524914 -0.0761126\n",
            " -0.03411944 -0.03674401  0.03936859 -0.05511602  0.0761126   0.05774059\n",
            " -0.07873717 -0.06561431 -0.00787372  0.03149487  0.02362115 -0.05774059\n",
            "  0.0472423   0.01049829 -0.01312286  0.03936859  0.01574743  0.0472423\n",
            " -0.01837201  0.03149487  0.00787372 -0.04986688  0.03411944 -0.06823888\n",
            "  0.04986688 -0.00524914  0.02624572 -0.02362115  0.03936859 -0.04461773\n",
            " -0.01312286 -0.01312286  0.03936859  0.03936859 -0.04461773 -0.00787372\n",
            " -0.02099658 -0.06036517 -0.03411944  0.05249145 -0.03149487  0.03674401\n",
            " -0.00262457 -0.02099658 -0.01312286 -0.00524914 -0.00787372  0.00787372\n",
            " -0.03674401  0.1338532  -0.08398632  0.01312286 -0.00524914  0.02624572\n",
            "  0.51966535  0.05511602 -0.11548119  0.17059721 -0.10235833 -0.1338532\n",
            "  0.02624572  0.07086346  0.00262457 -0.11023204 -0.02624572  0.08398632\n",
            "  0.11023204  0.01837201 -0.09710918  0.08923546  0.02099658 -0.03674401\n",
            " -0.12597948 -0.13122862  0.09186004  0.08661089  0.03411944  0.01312286\n",
            "  0.00262457 -0.10760747  0.08661089  0.03936859  0.02362115  0.00787372\n",
            "  0.00787372 -0.06036517 -0.04199316  0.03149487 -0.07873717 -0.12597948\n",
            "  0.06823888 -0.05249145 -0.03411944  0.08398632 -0.04986688  0.0472423\n",
            " -0.07348803  0.06561431 -0.00787372  0.00262457  0.03149487  0.02099658\n",
            "  0.07086346 -0.09448461  0.01312286 -0.06561431 -0.01312286 -0.00262457\n",
            " -0.0472423   0.01837201  0.00262457]\n"
          ],
          "name": "stdout"
        }
      ]
    },
    {
      "cell_type": "code",
      "metadata": {
        "colab": {
          "base_uri": "https://localhost:8080/"
        },
        "id": "SvrfgPb7sz-b",
        "outputId": "bcabe46a-17df-441a-8bcd-00ae5866f2ee"
      },
      "source": [
        "print('Mean: ', np.mean(normal_array))\n",
        "print('Std: ', np.std(normal_array))"
      ],
      "execution_count": 8,
      "outputs": [
        {
          "output_type": "stream",
          "text": [
            "Mean:  0.004827526882757904\n",
            "Std:  0.06318828405032346\n"
          ],
          "name": "stdout"
        }
      ]
    },
    {
      "cell_type": "code",
      "metadata": {
        "id": "jw9TdA5t0AHM"
      },
      "source": [
        ""
      ],
      "execution_count": 8,
      "outputs": []
    }
  ]
}