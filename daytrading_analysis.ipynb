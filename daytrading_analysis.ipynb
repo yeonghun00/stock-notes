{
  "nbformat": 4,
  "nbformat_minor": 0,
  "metadata": {
    "colab": {
      "name": "daytrading analysis.ipynb",
      "provenance": [],
      "collapsed_sections": [],
      "authorship_tag": "ABX9TyP7+bn4SzivjpvBmCMtlJ84",
      "include_colab_link": true
    },
    "kernelspec": {
      "name": "python3",
      "display_name": "Python 3"
    },
    "language_info": {
      "name": "python"
    }
  },
  "cells": [
    {
      "cell_type": "markdown",
      "metadata": {
        "id": "view-in-github",
        "colab_type": "text"
      },
      "source": [
        "<a href=\"https://colab.research.google.com/github/yeonghun00/stock_public/blob/main/daytrading_analysis.ipynb\" target=\"_parent\"><img src=\"https://colab.research.google.com/assets/colab-badge.svg\" alt=\"Open In Colab\"/></a>"
      ]
    },
    {
      "cell_type": "code",
      "metadata": {
        "colab": {
          "resources": {
            "http://localhost:8080/nbextensions/google.colab/files.js": {
              "data": "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",
              "ok": true,
              "headers": [
                [
                  "content-type",
                  "application/javascript"
                ]
              ],
              "status": 200,
              "status_text": ""
            }
          },
          "base_uri": "https://localhost:8080/",
          "height": 73
        },
        "id": "2FnPWsEMoJLC",
        "outputId": "88a8cbee-d086-46ae-abc4-b0d18c4c12b4"
      },
      "source": [
        "from google.colab import files\n",
        "uploaded = files.upload()"
      ],
      "execution_count": 2,
      "outputs": [
        {
          "output_type": "display_data",
          "data": {
            "text/html": [
              "\n",
              "     <input type=\"file\" id=\"files-80ab406d-0a17-46ea-acf3-9617595b53d3\" name=\"files[]\" multiple disabled\n",
              "        style=\"border:none\" />\n",
              "     <output id=\"result-80ab406d-0a17-46ea-acf3-9617595b53d3\">\n",
              "      Upload widget is only available when the cell has been executed in the\n",
              "      current browser session. Please rerun this cell to enable.\n",
              "      </output>\n",
              "      <script src=\"/nbextensions/google.colab/files.js\"></script> "
            ],
            "text/plain": [
              "<IPython.core.display.HTML object>"
            ]
          },
          "metadata": {
            "tags": []
          }
        },
        {
          "output_type": "stream",
          "text": [
            "Saving 1 386 매매내역_(신이준-선물)_2021-07-31.xls to 1 386 매매내역_(신이준-선물)_2021-07-31.xls\n"
          ],
          "name": "stdout"
        }
      ]
    },
    {
      "cell_type": "code",
      "metadata": {
        "id": "pB3jGV7voec7"
      },
      "source": [
        "import pandas as pd\n",
        "\n",
        "df = pd.read_html(uploaded['1 386 매매내역_(신이준-선물)_2021-07-31.xls'])[0]"
      ],
      "execution_count": 36,
      "outputs": []
    },
    {
      "cell_type": "code",
      "metadata": {
        "id": "mtJEG91RqirM"
      },
      "source": [
        "import datetime\n",
        "\n",
        "df.columns = df.iloc[0]\n",
        "df = df.iloc[1:]\n",
        "\n",
        "df['거래일자'] = list(map(lambda x: datetime.datetime.strptime(x, '%m/%d %H:%M'), df['거래일자']))\n",
        "df['매수/매도가'], df['수량'], df['매매금액'] = df['매수/매도가'].astype(float), df['수량'].astype(int), df['매매금액'].astype(int)"
      ],
      "execution_count": 37,
      "outputs": []
    },
    {
      "cell_type": "code",
      "metadata": {
        "colab": {
          "base_uri": "https://localhost:8080/",
          "height": 419
        },
        "id": "gcc7900ZrWxU",
        "outputId": "cfabebb7-7fba-46bb-cb5f-a677cc97e5ba"
      },
      "source": [
        "df = df[::-1].reset_index(drop=True)\n",
        "df"
      ],
      "execution_count": 38,
      "outputs": [
        {
          "output_type": "execute_result",
          "data": {
            "text/html": [
              "<div>\n",
              "<style scoped>\n",
              "    .dataframe tbody tr th:only-of-type {\n",
              "        vertical-align: middle;\n",
              "    }\n",
              "\n",
              "    .dataframe tbody tr th {\n",
              "        vertical-align: top;\n",
              "    }\n",
              "\n",
              "    .dataframe thead th {\n",
              "        text-align: right;\n",
              "    }\n",
              "</style>\n",
              "<table border=\"1\" class=\"dataframe\">\n",
              "  <thead>\n",
              "    <tr style=\"text-align: right;\">\n",
              "      <th></th>\n",
              "      <th>거래일자</th>\n",
              "      <th>매매구분</th>\n",
              "      <th>종목명</th>\n",
              "      <th>매수/매도가</th>\n",
              "      <th>수량</th>\n",
              "      <th>매매금액</th>\n",
              "    </tr>\n",
              "  </thead>\n",
              "  <tbody>\n",
              "    <tr>\n",
              "      <th>0</th>\n",
              "      <td>1900-06-14 08:30:00</td>\n",
              "      <td>매도</td>\n",
              "      <td>라온시큐어</td>\n",
              "      <td>6070.0</td>\n",
              "      <td>8</td>\n",
              "      <td>48560</td>\n",
              "    </tr>\n",
              "    <tr>\n",
              "      <th>1</th>\n",
              "      <td>1900-06-14 08:30:00</td>\n",
              "      <td>매도</td>\n",
              "      <td>라온시큐어</td>\n",
              "      <td>6070.0</td>\n",
              "      <td>1222</td>\n",
              "      <td>7417540</td>\n",
              "    </tr>\n",
              "    <tr>\n",
              "      <th>2</th>\n",
              "      <td>1900-06-14 08:30:00</td>\n",
              "      <td>매도</td>\n",
              "      <td>라온시큐어</td>\n",
              "      <td>6070.0</td>\n",
              "      <td>860</td>\n",
              "      <td>5220200</td>\n",
              "    </tr>\n",
              "    <tr>\n",
              "      <th>3</th>\n",
              "      <td>1900-06-14 08:30:00</td>\n",
              "      <td>매도</td>\n",
              "      <td>라온시큐어</td>\n",
              "      <td>6070.0</td>\n",
              "      <td>650</td>\n",
              "      <td>3945500</td>\n",
              "    </tr>\n",
              "    <tr>\n",
              "      <th>4</th>\n",
              "      <td>1900-06-14 08:30:00</td>\n",
              "      <td>매도</td>\n",
              "      <td>라온시큐어</td>\n",
              "      <td>6070.0</td>\n",
              "      <td>329</td>\n",
              "      <td>1997030</td>\n",
              "    </tr>\n",
              "    <tr>\n",
              "      <th>...</th>\n",
              "      <td>...</td>\n",
              "      <td>...</td>\n",
              "      <td>...</td>\n",
              "      <td>...</td>\n",
              "      <td>...</td>\n",
              "      <td>...</td>\n",
              "    </tr>\n",
              "    <tr>\n",
              "      <th>3409</th>\n",
              "      <td>1900-07-29 16:12:00</td>\n",
              "      <td>매수</td>\n",
              "      <td>나노캠텍</td>\n",
              "      <td>2460.0</td>\n",
              "      <td>7000</td>\n",
              "      <td>17220000</td>\n",
              "    </tr>\n",
              "    <tr>\n",
              "      <th>3410</th>\n",
              "      <td>1900-07-29 16:20:00</td>\n",
              "      <td>매도</td>\n",
              "      <td>나노캠텍</td>\n",
              "      <td>2350.0</td>\n",
              "      <td>7000</td>\n",
              "      <td>16450000</td>\n",
              "    </tr>\n",
              "    <tr>\n",
              "      <th>3411</th>\n",
              "      <td>1900-07-29 16:30:00</td>\n",
              "      <td>매도</td>\n",
              "      <td>우리바이오</td>\n",
              "      <td>5350.0</td>\n",
              "      <td>4622</td>\n",
              "      <td>24727700</td>\n",
              "    </tr>\n",
              "    <tr>\n",
              "      <th>3412</th>\n",
              "      <td>1900-07-29 16:50:00</td>\n",
              "      <td>매수</td>\n",
              "      <td>아즈텍WB</td>\n",
              "      <td>4175.0</td>\n",
              "      <td>10000</td>\n",
              "      <td>41750000</td>\n",
              "    </tr>\n",
              "    <tr>\n",
              "      <th>3413</th>\n",
              "      <td>1900-07-29 17:10:00</td>\n",
              "      <td>매도</td>\n",
              "      <td>아즈텍WB</td>\n",
              "      <td>4070.0</td>\n",
              "      <td>10000</td>\n",
              "      <td>40700000</td>\n",
              "    </tr>\n",
              "  </tbody>\n",
              "</table>\n",
              "<p>3414 rows × 6 columns</p>\n",
              "</div>"
            ],
            "text/plain": [
              "0                   거래일자 매매구분    종목명  매수/매도가     수량      매매금액\n",
              "0    1900-06-14 08:30:00   매도  라온시큐어  6070.0      8     48560\n",
              "1    1900-06-14 08:30:00   매도  라온시큐어  6070.0   1222   7417540\n",
              "2    1900-06-14 08:30:00   매도  라온시큐어  6070.0    860   5220200\n",
              "3    1900-06-14 08:30:00   매도  라온시큐어  6070.0    650   3945500\n",
              "4    1900-06-14 08:30:00   매도  라온시큐어  6070.0    329   1997030\n",
              "...                  ...  ...    ...     ...    ...       ...\n",
              "3409 1900-07-29 16:12:00   매수   나노캠텍  2460.0   7000  17220000\n",
              "3410 1900-07-29 16:20:00   매도   나노캠텍  2350.0   7000  16450000\n",
              "3411 1900-07-29 16:30:00   매도  우리바이오  5350.0   4622  24727700\n",
              "3412 1900-07-29 16:50:00   매수  아즈텍WB  4175.0  10000  41750000\n",
              "3413 1900-07-29 17:10:00   매도  아즈텍WB  4070.0  10000  40700000\n",
              "\n",
              "[3414 rows x 6 columns]"
            ]
          },
          "metadata": {
            "tags": []
          },
          "execution_count": 38
        }
      ]
    },
    {
      "cell_type": "code",
      "metadata": {
        "id": "_R2nG3UbQGKE"
      },
      "source": [
        "# skarudvlf dkemf\n",
        "# 거래제외 종목 확인\n",
        "'''dic = {}\n",
        "\n",
        "for i in range(len(df.index)):\n",
        "  print(dic)\n",
        "  if df.loc[i]['매매구분'] == '매수':\n",
        "    if df.loc[i]['종목명'] not in list(dic):\n",
        "      dic[df.loc[i]['종목명']] = df.loc[i]['수량']\n",
        "    else:\n",
        "      dic[df.loc[i]['종목명']] = dic[df.loc[i]['종목명']] + df.loc[i]['수량']\n",
        "  elif df.loc[i]['매매구분'] == '매도':\n",
        "    if df.loc[i]['종목명'] not in list(dic):\n",
        "      pass\n",
        "    else:\n",
        "      dic[df.loc[i]['종목명']] = dic[df.loc[i]['종목명']] - df.loc[i]['수량']  '''"
      ],
      "execution_count": null,
      "outputs": []
    },
    {
      "cell_type": "code",
      "metadata": {
        "colab": {
          "base_uri": "https://localhost:8080/",
          "height": 419
        },
        "id": "QlX_g2YYNC4I",
        "outputId": "be4af83e-0acc-42aa-c640-0b762b3628a3"
      },
      "source": [
        "buy_df = df[df['매매구분'] == '매수'].reset_index(drop=True)\n",
        "sell_df = df[df['매매구분'] == '매도'].reset_index(drop=True)\n",
        "sell_df"
      ],
      "execution_count": 39,
      "outputs": [
        {
          "output_type": "execute_result",
          "data": {
            "text/html": [
              "<div>\n",
              "<style scoped>\n",
              "    .dataframe tbody tr th:only-of-type {\n",
              "        vertical-align: middle;\n",
              "    }\n",
              "\n",
              "    .dataframe tbody tr th {\n",
              "        vertical-align: top;\n",
              "    }\n",
              "\n",
              "    .dataframe thead th {\n",
              "        text-align: right;\n",
              "    }\n",
              "</style>\n",
              "<table border=\"1\" class=\"dataframe\">\n",
              "  <thead>\n",
              "    <tr style=\"text-align: right;\">\n",
              "      <th></th>\n",
              "      <th>거래일자</th>\n",
              "      <th>매매구분</th>\n",
              "      <th>종목명</th>\n",
              "      <th>매수/매도가</th>\n",
              "      <th>수량</th>\n",
              "      <th>매매금액</th>\n",
              "    </tr>\n",
              "  </thead>\n",
              "  <tbody>\n",
              "    <tr>\n",
              "      <th>0</th>\n",
              "      <td>1900-06-14 08:30:00</td>\n",
              "      <td>매도</td>\n",
              "      <td>라온시큐어</td>\n",
              "      <td>6070.0</td>\n",
              "      <td>8</td>\n",
              "      <td>48560</td>\n",
              "    </tr>\n",
              "    <tr>\n",
              "      <th>1</th>\n",
              "      <td>1900-06-14 08:30:00</td>\n",
              "      <td>매도</td>\n",
              "      <td>라온시큐어</td>\n",
              "      <td>6070.0</td>\n",
              "      <td>1222</td>\n",
              "      <td>7417540</td>\n",
              "    </tr>\n",
              "    <tr>\n",
              "      <th>2</th>\n",
              "      <td>1900-06-14 08:30:00</td>\n",
              "      <td>매도</td>\n",
              "      <td>라온시큐어</td>\n",
              "      <td>6070.0</td>\n",
              "      <td>860</td>\n",
              "      <td>5220200</td>\n",
              "    </tr>\n",
              "    <tr>\n",
              "      <th>3</th>\n",
              "      <td>1900-06-14 08:30:00</td>\n",
              "      <td>매도</td>\n",
              "      <td>라온시큐어</td>\n",
              "      <td>6070.0</td>\n",
              "      <td>650</td>\n",
              "      <td>3945500</td>\n",
              "    </tr>\n",
              "    <tr>\n",
              "      <th>4</th>\n",
              "      <td>1900-06-14 08:30:00</td>\n",
              "      <td>매도</td>\n",
              "      <td>라온시큐어</td>\n",
              "      <td>6070.0</td>\n",
              "      <td>329</td>\n",
              "      <td>1997030</td>\n",
              "    </tr>\n",
              "    <tr>\n",
              "      <th>...</th>\n",
              "      <td>...</td>\n",
              "      <td>...</td>\n",
              "      <td>...</td>\n",
              "      <td>...</td>\n",
              "      <td>...</td>\n",
              "      <td>...</td>\n",
              "    </tr>\n",
              "    <tr>\n",
              "      <th>1870</th>\n",
              "      <td>1900-07-29 15:19:00</td>\n",
              "      <td>매도</td>\n",
              "      <td>큐라클</td>\n",
              "      <td>36650.0</td>\n",
              "      <td>1291</td>\n",
              "      <td>47315150</td>\n",
              "    </tr>\n",
              "    <tr>\n",
              "      <th>1871</th>\n",
              "      <td>1900-07-29 16:10:00</td>\n",
              "      <td>매도</td>\n",
              "      <td>우리바이오</td>\n",
              "      <td>5390.0</td>\n",
              "      <td>300</td>\n",
              "      <td>1617000</td>\n",
              "    </tr>\n",
              "    <tr>\n",
              "      <th>1872</th>\n",
              "      <td>1900-07-29 16:20:00</td>\n",
              "      <td>매도</td>\n",
              "      <td>나노캠텍</td>\n",
              "      <td>2350.0</td>\n",
              "      <td>7000</td>\n",
              "      <td>16450000</td>\n",
              "    </tr>\n",
              "    <tr>\n",
              "      <th>1873</th>\n",
              "      <td>1900-07-29 16:30:00</td>\n",
              "      <td>매도</td>\n",
              "      <td>우리바이오</td>\n",
              "      <td>5350.0</td>\n",
              "      <td>4622</td>\n",
              "      <td>24727700</td>\n",
              "    </tr>\n",
              "    <tr>\n",
              "      <th>1874</th>\n",
              "      <td>1900-07-29 17:10:00</td>\n",
              "      <td>매도</td>\n",
              "      <td>아즈텍WB</td>\n",
              "      <td>4070.0</td>\n",
              "      <td>10000</td>\n",
              "      <td>40700000</td>\n",
              "    </tr>\n",
              "  </tbody>\n",
              "</table>\n",
              "<p>1875 rows × 6 columns</p>\n",
              "</div>"
            ],
            "text/plain": [
              "0                   거래일자 매매구분    종목명   매수/매도가     수량      매매금액\n",
              "0    1900-06-14 08:30:00   매도  라온시큐어   6070.0      8     48560\n",
              "1    1900-06-14 08:30:00   매도  라온시큐어   6070.0   1222   7417540\n",
              "2    1900-06-14 08:30:00   매도  라온시큐어   6070.0    860   5220200\n",
              "3    1900-06-14 08:30:00   매도  라온시큐어   6070.0    650   3945500\n",
              "4    1900-06-14 08:30:00   매도  라온시큐어   6070.0    329   1997030\n",
              "...                  ...  ...    ...      ...    ...       ...\n",
              "1870 1900-07-29 15:19:00   매도    큐라클  36650.0   1291  47315150\n",
              "1871 1900-07-29 16:10:00   매도  우리바이오   5390.0    300   1617000\n",
              "1872 1900-07-29 16:20:00   매도   나노캠텍   2350.0   7000  16450000\n",
              "1873 1900-07-29 16:30:00   매도  우리바이오   5350.0   4622  24727700\n",
              "1874 1900-07-29 17:10:00   매도  아즈텍WB   4070.0  10000  40700000\n",
              "\n",
              "[1875 rows x 6 columns]"
            ]
          },
          "metadata": {
            "tags": []
          },
          "execution_count": 39
        }
      ]
    },
    {
      "cell_type": "code",
      "metadata": {
        "id": "S5GmkJNFNi5d"
      },
      "source": [
        "sell_dic = {}\n",
        "\n",
        "for i in range(len(sell_df)):\n",
        "  if sell_df.loc[i]['종목명'] not in list(sell_dic):\n",
        "    sell_dic[sell_df.loc[i]['종목명']] = {'time':[sell_df.loc[i]['거래일자']], 'price':[sell_df.loc[i]['매수/매도가']], 'quant':[sell_df.loc[i]['수량']]}\n",
        "  else:\n",
        "    sell_dic[sell_df.loc[i]['종목명']]['time'].append(sell_df.loc[i]['거래일자'])\n",
        "    sell_dic[sell_df.loc[i]['종목명']]['price'].append(sell_df.loc[i]['매수/매도가'])\n",
        "    sell_dic[sell_df.loc[i]['종목명']]['quant'].append(sell_df.loc[i]['수량'])\n",
        "\n",
        "sell_df = pd.DataFrame.from_dict(sell_dic).T"
      ],
      "execution_count": 40,
      "outputs": []
    },
    {
      "cell_type": "code",
      "metadata": {
        "id": "udnS4H5FNXcy"
      },
      "source": [
        "buy_dic = {}\n",
        "\n",
        "for i in range(len(buy_df)):\n",
        "  if buy_df.loc[i]['종목명'] not in list(buy_dic):\n",
        "    buy_dic[buy_df.loc[i]['종목명']] = {'time':[buy_df.loc[i]['거래일자']], 'price':[buy_df.loc[i]['매수/매도가']], 'quant':[buy_df.loc[i]['수량']]}\n",
        "  else:\n",
        "    buy_dic[buy_df.loc[i]['종목명']]['time'].append(buy_df.loc[i]['거래일자'])\n",
        "    buy_dic[buy_df.loc[i]['종목명']]['price'].append(buy_df.loc[i]['매수/매도가'])\n",
        "    buy_dic[buy_df.loc[i]['종목명']]['quant'].append(buy_df.loc[i]['수량'])\n",
        "\n",
        "buy_df = pd.DataFrame.from_dict(buy_dic).T"
      ],
      "execution_count": 42,
      "outputs": []
    },
    {
      "cell_type": "code",
      "metadata": {
        "id": "_3VlkfCgQe_m"
      },
      "source": [
        ""
      ],
      "execution_count": null,
      "outputs": []
    },
    {
      "cell_type": "code",
      "metadata": {
        "colab": {
          "base_uri": "https://localhost:8080/"
        },
        "id": "7QZZaoeDP4cE",
        "outputId": "d8b21d2d-ae69-43f2-ca3c-126b0405259e"
      },
      "source": [
        "buy_df.iloc['이그잭스']"
      ],
      "execution_count": 45,
      "outputs": [
        {
          "output_type": "execute_result",
          "data": {
            "text/plain": [
              "time     [1900-06-14 14:34:00, 1900-06-14 14:34:00, 190...\n",
              "price    [1955.0, 1950.0, 1955.0, 1960.0, 1960.0, 1955....\n",
              "quant          [11368, 5684, 432, 5784, 5694, 1720, 15000]\n",
              "Name: 이그잭스, dtype: object"
            ]
          },
          "metadata": {
            "tags": []
          },
          "execution_count": 45
        }
      ]
    },
    {
      "cell_type": "code",
      "metadata": {
        "colab": {
          "base_uri": "https://localhost:8080/",
          "height": 35
        },
        "id": "hSHZ32n3vvwb",
        "outputId": "b322d47a-436e-4bb7-86d4-337a1d0aaf93"
      },
      "source": [
        "'''\n",
        "1. 각/하루평균/전체 회전율\n",
        "2. 수익률 (각,평균, 누적)\n",
        "3. 시간대\n",
        "'''"
      ],
      "execution_count": 8,
      "outputs": [
        {
          "output_type": "execute_result",
          "data": {
            "application/vnd.google.colaboratory.intrinsic+json": {
              "type": "string"
            },
            "text/plain": [
              "'\\n1. 각/하루평균/전체 회전율\\n2. 수익률 (각,평균, 누적)\\n3. 시간대\\n'"
            ]
          },
          "metadata": {
            "tags": []
          },
          "execution_count": 8
        }
      ]
    },
    {
      "cell_type": "code",
      "metadata": {
        "colab": {
          "base_uri": "https://localhost:8080/",
          "height": 35
        },
        "id": "QCKF5SpQtMaJ",
        "outputId": "f7c95115-1e73-46aa-8161-babe62036bcd"
      },
      "source": [
        "'''\n",
        "1. 전 거래 제외 (수량으로)\n",
        "2. 거래 시간대 *\n",
        "'''"
      ],
      "execution_count": 9,
      "outputs": [
        {
          "output_type": "execute_result",
          "data": {
            "application/vnd.google.colaboratory.intrinsic+json": {
              "type": "string"
            },
            "text/plain": [
              "'\\n1. 전 거래 제외 (수량으로)\\n2. 거래 시간대 *\\n'"
            ]
          },
          "metadata": {
            "tags": []
          },
          "execution_count": 9
        }
      ]
    },
    {
      "cell_type": "code",
      "metadata": {
        "id": "lbgTbx1hx1Vu"
      },
      "source": [
        "\n",
        "\n"
      ],
      "execution_count": 15,
      "outputs": []
    },
    {
      "cell_type": "code",
      "metadata": {
        "colab": {
          "base_uri": "https://localhost:8080/"
        },
        "id": "JvGBY4U7uTS3",
        "outputId": "25268712-db5e-4bb5-d28b-c830441e4055"
      },
      "source": [
        "dic"
      ],
      "execution_count": 16,
      "outputs": [
        {
          "output_type": "execute_result",
          "data": {
            "text/plain": [
              "{'DSR제강': 0,\n",
              " 'EDGC': 0,\n",
              " 'GH신소재': 0,\n",
              " 'KBI메탈': 0,\n",
              " 'KCTC': 0,\n",
              " 'KG ETS': 0,\n",
              " 'NPC': 0,\n",
              " 'SBI인베스트먼트': 0,\n",
              " 'SK이노베이션': 0,\n",
              " 'SM C&C': 0,\n",
              " '가비아': 0,\n",
              " '고려시멘트': 0,\n",
              " '골드퍼시픽': 0,\n",
              " '광명전기': 0,\n",
              " '까뮤이앤씨': 0,\n",
              " '나노캠텍': 0,\n",
              " '넥스트BT': 0,\n",
              " '넥스트사이언스': 0,\n",
              " '대교': 0,\n",
              " '대영포장': 0,\n",
              " '대우건설': 0,\n",
              " '대웅제약': 0,\n",
              " '대원전선': 0,\n",
              " '대한전선': 0,\n",
              " '데이타솔루션': 0,\n",
              " '덱스터': 0,\n",
              " '동국알앤에스': 0,\n",
              " '라이프시맨틱스': 0,\n",
              " '레몬': 0,\n",
              " '리더스 기술투자': 0,\n",
              " '메디콕스': 0,\n",
              " '메디톡스': 0,\n",
              " '바이오니아': 0,\n",
              " '바이오스마트': 0,\n",
              " '박셀바이오': 0,\n",
              " '베셀': 0,\n",
              " '보성파워텍': 0,\n",
              " '부광약품': 0,\n",
              " '블루베리 NFT': 0,\n",
              " '비덴트': 0,\n",
              " '비트컴퓨터': 0,\n",
              " '삼부토건': 0,\n",
              " '서린바이오': 0,\n",
              " '서울식품': 0,\n",
              " '서전기전': 0,\n",
              " '서호전기': 0,\n",
              " '선익시스템': 0,\n",
              " '셀리드': 0,\n",
              " '소마젠(Reg.S)': 0,\n",
              " '소프트캠프': 0,\n",
              " '솔루엠': 0,\n",
              " '시스웍': 0,\n",
              " '신성통상': 0,\n",
              " '신일전자': 0,\n",
              " '신일제약': 0,\n",
              " '신풍제약': 0,\n",
              " '쎄니트': 0,\n",
              " '씨젠': 0,\n",
              " '아모센스': 0,\n",
              " '아이마켓코리아': 0,\n",
              " '아이비김영': 0,\n",
              " '아즈텍WB': 0,\n",
              " '알체라': 0,\n",
              " '에넥스': 0,\n",
              " '에스씨디': 0,\n",
              " '에스트래픽': 0,\n",
              " '에스티팜': 0,\n",
              " '에쎈테크': 0,\n",
              " '에이트원': 0,\n",
              " '엑세스바이오': 0,\n",
              " '엑셈': 0,\n",
              " '엘앤에프': 0,\n",
              " '엠게임': 0,\n",
              " '오픈베이스': 0,\n",
              " '오하임아이엔티': 0,\n",
              " '옴니시스템': 0,\n",
              " '옵티시스': 0,\n",
              " '우리기술': 0,\n",
              " '우리기술투자': 0,\n",
              " '우리바이오': 0,\n",
              " '우리손에프앤지': 0,\n",
              " '우정바이오': 0,\n",
              " '웰크론': 0,\n",
              " '웰크론한텍': 0,\n",
              " '위즈코프': 0,\n",
              " '위지윅스튜디오': 0,\n",
              " '윈하이텍': 0,\n",
              " '유나이티드제약': 0,\n",
              " '유니온': 0,\n",
              " '유안타증권': 0,\n",
              " '유유제약': 0,\n",
              " '이건홀딩스': 0,\n",
              " '이그잭스': 0,\n",
              " '이루온': 0,\n",
              " '이씨에스': 0,\n",
              " '이연제약': 0,\n",
              " '인성정보': 0,\n",
              " '인트로메딕': 0,\n",
              " '인포뱅크': 0,\n",
              " '일성건설': 0,\n",
              " '일신석재': 0,\n",
              " '일진머티리얼즈': 0,\n",
              " '일진전기': 0,\n",
              " '자연과환경': 0,\n",
              " '자이언트스텝': 0,\n",
              " '정원엔시스': 0,\n",
              " '제넥신': 0,\n",
              " '제이엠티': 0,\n",
              " '줌인터넷': 0,\n",
              " '진매트릭스': 0,\n",
              " '진바이오텍': 0,\n",
              " '진원생명과학': 0,\n",
              " '초록뱀미디어': 0,\n",
              " '카스': 0,\n",
              " '카카오게임즈': 0,\n",
              " '켄코아에어로스페이스': 0,\n",
              " '코세스': 0,\n",
              " '큐라클': 0,\n",
              " '클라우드에어': 0,\n",
              " '키네마스터': 0,\n",
              " '태경비케이': 0,\n",
              " '태경케미컬': 0,\n",
              " '토박스코리아': 0,\n",
              " '티앤알바이오팹': 0,\n",
              " '티움바이오': 0,\n",
              " '티케이케미칼': 0,\n",
              " '팜스토리': 0,\n",
              " '펄어비스': 0,\n",
              " '평화산업': 0,\n",
              " '푸드웰': 0,\n",
              " '플랜티넷': 0,\n",
              " '피에스텍': 0,\n",
              " '피에이치씨': 0,\n",
              " '하림': 0,\n",
              " '한국비엔씨': 0,\n",
              " '한국선재': 0,\n",
              " '한국팩키지': 0,\n",
              " '한글과컴퓨터': 0,\n",
              " '한미사이언스': 0,\n",
              " '한빛소프트': 0,\n",
              " '한일단조': 0,\n",
              " '한일진공': 0,\n",
              " '한전산업': 0,\n",
              " '한창': 0,\n",
              " '한화에어로스페이스': 0,\n",
              " '홈센타홀딩스': 0,\n",
              " '화승코퍼레이션': 0,\n",
              " '휘닉스소재': 0,\n",
              " '휴마시스': 0}"
            ]
          },
          "metadata": {
            "tags": []
          },
          "execution_count": 16
        }
      ]
    },
    {
      "cell_type": "code",
      "metadata": {
        "colab": {
          "base_uri": "https://localhost:8080/",
          "height": 35
        },
        "id": "ta9Syrrcxzsf",
        "outputId": "166eea36-f937-4e57-d90c-9c145888f550"
      },
      "source": [
        "  df.loc[0]['종목명']"
      ],
      "execution_count": 11,
      "outputs": [
        {
          "output_type": "execute_result",
          "data": {
            "application/vnd.google.colaboratory.intrinsic+json": {
              "type": "string"
            },
            "text/plain": [
              "'라온시큐어'"
            ]
          },
          "metadata": {
            "tags": []
          },
          "execution_count": 11
        }
      ]
    },
    {
      "cell_type": "code",
      "metadata": {
        "colab": {
          "base_uri": "https://localhost:8080/",
          "height": 164
        },
        "id": "CCWN_O87x4hS",
        "outputId": "249e97e7-4c11-487d-8982-95ef49995121"
      },
      "source": [
        "dic[df.loc[0]['종목명']]"
      ],
      "execution_count": 12,
      "outputs": [
        {
          "output_type": "error",
          "ename": "KeyError",
          "evalue": "ignored",
          "traceback": [
            "\u001b[0;31m---------------------------------------------------------------------------\u001b[0m",
            "\u001b[0;31mKeyError\u001b[0m                                  Traceback (most recent call last)",
            "\u001b[0;32m<ipython-input-12-78025d236c95>\u001b[0m in \u001b[0;36m<module>\u001b[0;34m()\u001b[0m\n\u001b[0;32m----> 1\u001b[0;31m \u001b[0mdic\u001b[0m\u001b[0;34m[\u001b[0m\u001b[0mdf\u001b[0m\u001b[0;34m.\u001b[0m\u001b[0mloc\u001b[0m\u001b[0;34m[\u001b[0m\u001b[0;36m0\u001b[0m\u001b[0;34m]\u001b[0m\u001b[0;34m[\u001b[0m\u001b[0;34m'종목명'\u001b[0m\u001b[0;34m]\u001b[0m\u001b[0;34m]\u001b[0m\u001b[0;34m\u001b[0m\u001b[0;34m\u001b[0m\u001b[0m\n\u001b[0m",
            "\u001b[0;31mKeyError\u001b[0m: '라온시큐어'"
          ]
        }
      ]
    },
    {
      "cell_type": "code",
      "metadata": {
        "id": "BHTZIk4BFVcy"
      },
      "source": [
        ""
      ],
      "execution_count": null,
      "outputs": []
    }
  ]
}