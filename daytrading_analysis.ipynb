{
  "nbformat": 4,
  "nbformat_minor": 0,
  "metadata": {
    "colab": {
      "name": "daytrading analysis.ipynb",
      "provenance": [],
      "collapsed_sections": [],
      "authorship_tag": "ABX9TyM8MtiGwAzB1EdkDlFATi7J",
      "include_colab_link": true
    },
    "kernelspec": {
      "name": "python3",
      "display_name": "Python 3"
    },
    "language_info": {
      "name": "python"
    }
  },
  "cells": [
    {
      "cell_type": "markdown",
      "metadata": {
        "id": "view-in-github",
        "colab_type": "text"
      },
      "source": [
        "<a href=\"https://colab.research.google.com/github/yeonghun00/stock_public/blob/main/daytrading_analysis.ipynb\" target=\"_parent\"><img src=\"https://colab.research.google.com/assets/colab-badge.svg\" alt=\"Open In Colab\"/></a>"
      ]
    },
    {
      "cell_type": "code",
      "metadata": {
        "colab": {
          "resources": {
            "http://localhost:8080/nbextensions/google.colab/files.js": {
              "data": "Ly8gQ29weXJpZ2h0IDIwMTcgR29vZ2xlIExMQwovLwovLyBMaWNlbnNlZCB1bmRlciB0aGUgQXBhY2hlIExpY2Vuc2UsIFZlcnNpb24gMi4wICh0aGUgIkxpY2Vuc2UiKTsKLy8geW91IG1heSBub3QgdXNlIHRoaXMgZmlsZSBleGNlcHQgaW4gY29tcGxpYW5jZSB3aXRoIHRoZSBMaWNlbnNlLgovLyBZb3UgbWF5IG9idGFpbiBhIGNvcHkgb2YgdGhlIExpY2Vuc2UgYXQKLy8KLy8gICAgICBodHRwOi8vd3d3LmFwYWNoZS5vcmcvbGljZW5zZXMvTElDRU5TRS0yLjAKLy8KLy8gVW5sZXNzIHJlcXVpcmVkIGJ5IGFwcGxpY2FibGUgbGF3IG9yIGFncmVlZCB0byBpbiB3cml0aW5nLCBzb2Z0d2FyZQovLyBkaXN0cmlidXRlZCB1bmRlciB0aGUgTGljZW5zZSBpcyBkaXN0cmlidXRlZCBvbiBhbiAiQVMgSVMiIEJBU0lTLAovLyBXSVRIT1VUIFdBUlJBTlRJRVMgT1IgQ09ORElUSU9OUyBPRiBBTlkgS0lORCwgZWl0aGVyIGV4cHJlc3Mgb3IgaW1wbGllZC4KLy8gU2VlIHRoZSBMaWNlbnNlIGZvciB0aGUgc3BlY2lmaWMgbGFuZ3VhZ2UgZ292ZXJuaW5nIHBlcm1pc3Npb25zIGFuZAovLyBsaW1pdGF0aW9ucyB1bmRlciB0aGUgTGljZW5zZS4KCi8qKgogKiBAZmlsZW92ZXJ2aWV3IEhlbHBlcnMgZm9yIGdvb2dsZS5jb2xhYiBQeXRob24gbW9kdWxlLgogKi8KKGZ1bmN0aW9uKHNjb3BlKSB7CmZ1bmN0aW9uIHNwYW4odGV4dCwgc3R5bGVBdHRyaWJ1dGVzID0ge30pIHsKICBjb25zdCBlbGVtZW50ID0gZG9jdW1lbnQuY3JlYXRlRWxlbWVudCgnc3BhbicpOwogIGVsZW1lbnQudGV4dENvbnRlbnQgPSB0ZXh0OwogIGZvciAoY29uc3Qga2V5IG9mIE9iamVjdC5rZXlzKHN0eWxlQXR0cmlidXRlcykpIHsKICAgIGVsZW1lbnQuc3R5bGVba2V5XSA9IHN0eWxlQXR0cmlidXRlc1trZXldOwogIH0KICByZXR1cm4gZWxlbWVudDsKfQoKLy8gTWF4IG51bWJlciBvZiBieXRlcyB3aGljaCB3aWxsIGJlIHVwbG9hZGVkIGF0IGEgdGltZS4KY29uc3QgTUFYX1BBWUxPQURfU0laRSA9IDEwMCAqIDEwMjQ7CgpmdW5jdGlvbiBfdXBsb2FkRmlsZXMoaW5wdXRJZCwgb3V0cHV0SWQpIHsKICBjb25zdCBzdGVwcyA9IHVwbG9hZEZpbGVzU3RlcChpbnB1dElkLCBvdXRwdXRJZCk7CiAgY29uc3Qgb3V0cHV0RWxlbWVudCA9IGRvY3VtZW50LmdldEVsZW1lbnRCeUlkKG91dHB1dElkKTsKICAvLyBDYWNoZSBzdGVwcyBvbiB0aGUgb3V0cHV0RWxlbWVudCB0byBtYWtlIGl0IGF2YWlsYWJsZSBmb3IgdGhlIG5leHQgY2FsbAogIC8vIHRvIHVwbG9hZEZpbGVzQ29udGludWUgZnJvbSBQeXRob24uCiAgb3V0cHV0RWxlbWVudC5zdGVwcyA9IHN0ZXBzOwoKICByZXR1cm4gX3VwbG9hZEZpbGVzQ29udGludWUob3V0cHV0SWQpOwp9CgovLyBUaGlzIGlzIHJvdWdobHkgYW4gYXN5bmMgZ2VuZXJhdG9yIChub3Qgc3VwcG9ydGVkIGluIHRoZSBicm93c2VyIHlldCksCi8vIHdoZXJlIHRoZXJlIGFyZSBtdWx0aXBsZSBhc3luY2hyb25vdXMgc3RlcHMgYW5kIHRoZSBQeXRob24gc2lkZSBpcyBnb2luZwovLyB0byBwb2xsIGZvciBjb21wbGV0aW9uIG9mIGVhY2ggc3RlcC4KLy8gVGhpcyB1c2VzIGEgUHJvbWlzZSB0byBibG9jayB0aGUgcHl0aG9uIHNpZGUgb24gY29tcGxldGlvbiBvZiBlYWNoIHN0ZXAsCi8vIHRoZW4gcGFzc2VzIHRoZSByZXN1bHQgb2YgdGhlIHByZXZpb3VzIHN0ZXAgYXMgdGhlIGlucHV0IHRvIHRoZSBuZXh0IHN0ZXAuCmZ1bmN0aW9uIF91cGxvYWRGaWxlc0NvbnRpbnVlKG91dHB1dElkKSB7CiAgY29uc3Qgb3V0cHV0RWxlbWVudCA9IGRvY3VtZW50LmdldEVsZW1lbnRCeUlkKG91dHB1dElkKTsKICBjb25zdCBzdGVwcyA9IG91dHB1dEVsZW1lbnQuc3RlcHM7CgogIGNvbnN0IG5leHQgPSBzdGVwcy5uZXh0KG91dHB1dEVsZW1lbnQubGFzdFByb21pc2VWYWx1ZSk7CiAgcmV0dXJuIFByb21pc2UucmVzb2x2ZShuZXh0LnZhbHVlLnByb21pc2UpLnRoZW4oKHZhbHVlKSA9PiB7CiAgICAvLyBDYWNoZSB0aGUgbGFzdCBwcm9taXNlIHZhbHVlIHRvIG1ha2UgaXQgYXZhaWxhYmxlIHRvIHRoZSBuZXh0CiAgICAvLyBzdGVwIG9mIHRoZSBnZW5lcmF0b3IuCiAgICBvdXRwdXRFbGVtZW50Lmxhc3RQcm9taXNlVmFsdWUgPSB2YWx1ZTsKICAgIHJldHVybiBuZXh0LnZhbHVlLnJlc3BvbnNlOwogIH0pOwp9CgovKioKICogR2VuZXJhdG9yIGZ1bmN0aW9uIHdoaWNoIGlzIGNhbGxlZCBiZXR3ZWVuIGVhY2ggYXN5bmMgc3RlcCBvZiB0aGUgdXBsb2FkCiAqIHByb2Nlc3MuCiAqIEBwYXJhbSB7c3RyaW5nfSBpbnB1dElkIEVsZW1lbnQgSUQgb2YgdGhlIGlucHV0IGZpbGUgcGlja2VyIGVsZW1lbnQuCiAqIEBwYXJhbSB7c3RyaW5nfSBvdXRwdXRJZCBFbGVtZW50IElEIG9mIHRoZSBvdXRwdXQgZGlzcGxheS4KICogQHJldHVybiB7IUl0ZXJhYmxlPCFPYmplY3Q+fSBJdGVyYWJsZSBvZiBuZXh0IHN0ZXBzLgogKi8KZnVuY3Rpb24qIHVwbG9hZEZpbGVzU3RlcChpbnB1dElkLCBvdXRwdXRJZCkgewogIGNvbnN0IGlucHV0RWxlbWVudCA9IGRvY3VtZW50LmdldEVsZW1lbnRCeUlkKGlucHV0SWQpOwogIGlucHV0RWxlbWVudC5kaXNhYmxlZCA9IGZhbHNlOwoKICBjb25zdCBvdXRwdXRFbGVtZW50ID0gZG9jdW1lbnQuZ2V0RWxlbWVudEJ5SWQob3V0cHV0SWQpOwogIG91dHB1dEVsZW1lbnQuaW5uZXJIVE1MID0gJyc7CgogIGNvbnN0IHBpY2tlZFByb21pc2UgPSBuZXcgUHJvbWlzZSgocmVzb2x2ZSkgPT4gewogICAgaW5wdXRFbGVtZW50LmFkZEV2ZW50TGlzdGVuZXIoJ2NoYW5nZScsIChlKSA9PiB7CiAgICAgIHJlc29sdmUoZS50YXJnZXQuZmlsZXMpOwogICAgfSk7CiAgfSk7CgogIGNvbnN0IGNhbmNlbCA9IGRvY3VtZW50LmNyZWF0ZUVsZW1lbnQoJ2J1dHRvbicpOwogIGlucHV0RWxlbWVudC5wYXJlbnRFbGVtZW50LmFwcGVuZENoaWxkKGNhbmNlbCk7CiAgY2FuY2VsLnRleHRDb250ZW50ID0gJ0NhbmNlbCB1cGxvYWQnOwogIGNvbnN0IGNhbmNlbFByb21pc2UgPSBuZXcgUHJvbWlzZSgocmVzb2x2ZSkgPT4gewogICAgY2FuY2VsLm9uY2xpY2sgPSAoKSA9PiB7CiAgICAgIHJlc29sdmUobnVsbCk7CiAgICB9OwogIH0pOwoKICAvLyBXYWl0IGZvciB0aGUgdXNlciB0byBwaWNrIHRoZSBmaWxlcy4KICBjb25zdCBmaWxlcyA9IHlpZWxkIHsKICAgIHByb21pc2U6IFByb21pc2UucmFjZShbcGlja2VkUHJvbWlzZSwgY2FuY2VsUHJvbWlzZV0pLAogICAgcmVzcG9uc2U6IHsKICAgICAgYWN0aW9uOiAnc3RhcnRpbmcnLAogICAgfQogIH07CgogIGNhbmNlbC5yZW1vdmUoKTsKCiAgLy8gRGlzYWJsZSB0aGUgaW5wdXQgZWxlbWVudCBzaW5jZSBmdXJ0aGVyIHBpY2tzIGFyZSBub3QgYWxsb3dlZC4KICBpbnB1dEVsZW1lbnQuZGlzYWJsZWQgPSB0cnVlOwoKICBpZiAoIWZpbGVzKSB7CiAgICByZXR1cm4gewogICAgICByZXNwb25zZTogewogICAgICAgIGFjdGlvbjogJ2NvbXBsZXRlJywKICAgICAgfQogICAgfTsKICB9CgogIGZvciAoY29uc3QgZmlsZSBvZiBmaWxlcykgewogICAgY29uc3QgbGkgPSBkb2N1bWVudC5jcmVhdGVFbGVtZW50KCdsaScpOwogICAgbGkuYXBwZW5kKHNwYW4oZmlsZS5uYW1lLCB7Zm9udFdlaWdodDogJ2JvbGQnfSkpOwogICAgbGkuYXBwZW5kKHNwYW4oCiAgICAgICAgYCgke2ZpbGUudHlwZSB8fCAnbi9hJ30pIC0gJHtmaWxlLnNpemV9IGJ5dGVzLCBgICsKICAgICAgICBgbGFzdCBtb2RpZmllZDogJHsKICAgICAgICAgICAgZmlsZS5sYXN0TW9kaWZpZWREYXRlID8gZmlsZS5sYXN0TW9kaWZpZWREYXRlLnRvTG9jYWxlRGF0ZVN0cmluZygpIDoKICAgICAgICAgICAgICAgICAgICAgICAgICAgICAgICAgICAgJ24vYSd9IC0gYCkpOwogICAgY29uc3QgcGVyY2VudCA9IHNwYW4oJzAlIGRvbmUnKTsKICAgIGxpLmFwcGVuZENoaWxkKHBlcmNlbnQpOwoKICAgIG91dHB1dEVsZW1lbnQuYXBwZW5kQ2hpbGQobGkpOwoKICAgIGNvbnN0IGZpbGVEYXRhUHJvbWlzZSA9IG5ldyBQcm9taXNlKChyZXNvbHZlKSA9PiB7CiAgICAgIGNvbnN0IHJlYWRlciA9IG5ldyBGaWxlUmVhZGVyKCk7CiAgICAgIHJlYWRlci5vbmxvYWQgPSAoZSkgPT4gewogICAgICAgIHJlc29sdmUoZS50YXJnZXQucmVzdWx0KTsKICAgICAgfTsKICAgICAgcmVhZGVyLnJlYWRBc0FycmF5QnVmZmVyKGZpbGUpOwogICAgfSk7CiAgICAvLyBXYWl0IGZvciB0aGUgZGF0YSB0byBiZSByZWFkeS4KICAgIGxldCBmaWxlRGF0YSA9IHlpZWxkIHsKICAgICAgcHJvbWlzZTogZmlsZURhdGFQcm9taXNlLAogICAgICByZXNwb25zZTogewogICAgICAgIGFjdGlvbjogJ2NvbnRpbnVlJywKICAgICAgfQogICAgfTsKCiAgICAvLyBVc2UgYSBjaHVua2VkIHNlbmRpbmcgdG8gYXZvaWQgbWVzc2FnZSBzaXplIGxpbWl0cy4gU2VlIGIvNjIxMTU2NjAuCiAgICBsZXQgcG9zaXRpb24gPSAwOwogICAgZG8gewogICAgICBjb25zdCBsZW5ndGggPSBNYXRoLm1pbihmaWxlRGF0YS5ieXRlTGVuZ3RoIC0gcG9zaXRpb24sIE1BWF9QQVlMT0FEX1NJWkUpOwogICAgICBjb25zdCBjaHVuayA9IG5ldyBVaW50OEFycmF5KGZpbGVEYXRhLCBwb3NpdGlvbiwgbGVuZ3RoKTsKICAgICAgcG9zaXRpb24gKz0gbGVuZ3RoOwoKICAgICAgY29uc3QgYmFzZTY0ID0gYnRvYShTdHJpbmcuZnJvbUNoYXJDb2RlLmFwcGx5KG51bGwsIGNodW5rKSk7CiAgICAgIHlpZWxkIHsKICAgICAgICByZXNwb25zZTogewogICAgICAgICAgYWN0aW9uOiAnYXBwZW5kJywKICAgICAgICAgIGZpbGU6IGZpbGUubmFtZSwKICAgICAgICAgIGRhdGE6IGJhc2U2NCwKICAgICAgICB9LAogICAgICB9OwoKICAgICAgbGV0IHBlcmNlbnREb25lID0gZmlsZURhdGEuYnl0ZUxlbmd0aCA9PT0gMCA/CiAgICAgICAgICAxMDAgOgogICAgICAgICAgTWF0aC5yb3VuZCgocG9zaXRpb24gLyBmaWxlRGF0YS5ieXRlTGVuZ3RoKSAqIDEwMCk7CiAgICAgIHBlcmNlbnQudGV4dENvbnRlbnQgPSBgJHtwZXJjZW50RG9uZX0lIGRvbmVgOwoKICAgIH0gd2hpbGUgKHBvc2l0aW9uIDwgZmlsZURhdGEuYnl0ZUxlbmd0aCk7CiAgfQoKICAvLyBBbGwgZG9uZS4KICB5aWVsZCB7CiAgICByZXNwb25zZTogewogICAgICBhY3Rpb246ICdjb21wbGV0ZScsCiAgICB9CiAgfTsKfQoKc2NvcGUuZ29vZ2xlID0gc2NvcGUuZ29vZ2xlIHx8IHt9OwpzY29wZS5nb29nbGUuY29sYWIgPSBzY29wZS5nb29nbGUuY29sYWIgfHwge307CnNjb3BlLmdvb2dsZS5jb2xhYi5fZmlsZXMgPSB7CiAgX3VwbG9hZEZpbGVzLAogIF91cGxvYWRGaWxlc0NvbnRpbnVlLAp9Owp9KShzZWxmKTsK",
              "ok": true,
              "headers": [
                [
                  "content-type",
                  "application/javascript"
                ]
              ],
              "status": 200,
              "status_text": ""
            }
          },
          "base_uri": "https://localhost:8080/",
          "height": 73
        },
        "id": "2FnPWsEMoJLC",
        "outputId": "0d99c33a-422d-48f5-f505-e170698468c3"
      },
      "source": [
        "from google.colab import files\n",
        "uploaded = files.upload()"
      ],
      "execution_count": 1,
      "outputs": [
        {
          "output_type": "display_data",
          "data": {
            "text/html": [
              "\n",
              "     <input type=\"file\" id=\"files-9e7aefd7-0f02-4cc3-b027-abaee810a3c3\" name=\"files[]\" multiple disabled\n",
              "        style=\"border:none\" />\n",
              "     <output id=\"result-9e7aefd7-0f02-4cc3-b027-abaee810a3c3\">\n",
              "      Upload widget is only available when the cell has been executed in the\n",
              "      current browser session. Please rerun this cell to enable.\n",
              "      </output>\n",
              "      <script src=\"/nbextensions/google.colab/files.js\"></script> "
            ],
            "text/plain": [
              "<IPython.core.display.HTML object>"
            ]
          },
          "metadata": {
            "tags": []
          }
        },
        {
          "output_type": "stream",
          "text": [
            "Saving 1 841 매매내역_(파일럿)_2021-07-31.xls to 1 841 매매내역_(파일럿)_2021-07-31.xls\n"
          ],
          "name": "stdout"
        }
      ]
    },
    {
      "cell_type": "code",
      "metadata": {
        "id": "pB3jGV7voec7"
      },
      "source": [
        "import pandas as pd\n",
        "\n",
        "df = pd.read_html(uploaded[list(uploaded)[0]])[0]"
      ],
      "execution_count": 2,
      "outputs": []
    },
    {
      "cell_type": "code",
      "metadata": {
        "id": "mtJEG91RqirM"
      },
      "source": [
        "import datetime\n",
        "\n",
        "df.columns = df.iloc[0]\n",
        "df = df.iloc[1:]\n",
        "\n",
        "df['거래일자'] = list(map(lambda x: datetime.datetime.strptime(x, '%m/%d %H:%M'), df['거래일자']))\n",
        "df['매수/매도가'], df['수량'], df['매매금액'] = df['매수/매도가'].astype(float), df['수량'].astype(int), df['매매금액'].astype(int)"
      ],
      "execution_count": 3,
      "outputs": []
    },
    {
      "cell_type": "code",
      "metadata": {
        "colab": {
          "base_uri": "https://localhost:8080/",
          "height": 419
        },
        "id": "gcc7900ZrWxU",
        "outputId": "4366c73d-c900-46d4-d132-32c8ac70b469"
      },
      "source": [
        "df = df[::-1].reset_index(drop=True)\n",
        "df"
      ],
      "execution_count": 4,
      "outputs": [
        {
          "output_type": "execute_result",
          "data": {
            "text/html": [
              "<div>\n",
              "<style scoped>\n",
              "    .dataframe tbody tr th:only-of-type {\n",
              "        vertical-align: middle;\n",
              "    }\n",
              "\n",
              "    .dataframe tbody tr th {\n",
              "        vertical-align: top;\n",
              "    }\n",
              "\n",
              "    .dataframe thead th {\n",
              "        text-align: right;\n",
              "    }\n",
              "</style>\n",
              "<table border=\"1\" class=\"dataframe\">\n",
              "  <thead>\n",
              "    <tr style=\"text-align: right;\">\n",
              "      <th></th>\n",
              "      <th>거래일자</th>\n",
              "      <th>매매구분</th>\n",
              "      <th>종목명</th>\n",
              "      <th>매수/매도가</th>\n",
              "      <th>수량</th>\n",
              "      <th>매매금액</th>\n",
              "    </tr>\n",
              "  </thead>\n",
              "  <tbody>\n",
              "    <tr>\n",
              "      <th>0</th>\n",
              "      <td>1900-06-14 09:01:00</td>\n",
              "      <td>매수</td>\n",
              "      <td>유니크</td>\n",
              "      <td>8720.0</td>\n",
              "      <td>5688</td>\n",
              "      <td>49598810</td>\n",
              "    </tr>\n",
              "    <tr>\n",
              "      <th>1</th>\n",
              "      <td>1900-06-14 09:02:00</td>\n",
              "      <td>매도</td>\n",
              "      <td>유니크</td>\n",
              "      <td>8760.0</td>\n",
              "      <td>2309</td>\n",
              "      <td>20226840</td>\n",
              "    </tr>\n",
              "    <tr>\n",
              "      <th>2</th>\n",
              "      <td>1900-06-14 09:02:00</td>\n",
              "      <td>매도</td>\n",
              "      <td>유니크</td>\n",
              "      <td>8760.0</td>\n",
              "      <td>123</td>\n",
              "      <td>1077480</td>\n",
              "    </tr>\n",
              "    <tr>\n",
              "      <th>3</th>\n",
              "      <td>1900-06-14 09:02:00</td>\n",
              "      <td>매도</td>\n",
              "      <td>유니크</td>\n",
              "      <td>8760.0</td>\n",
              "      <td>10</td>\n",
              "      <td>87600</td>\n",
              "    </tr>\n",
              "    <tr>\n",
              "      <th>4</th>\n",
              "      <td>1900-06-14 09:02:00</td>\n",
              "      <td>매도</td>\n",
              "      <td>유니크</td>\n",
              "      <td>8760.0</td>\n",
              "      <td>20</td>\n",
              "      <td>175200</td>\n",
              "    </tr>\n",
              "    <tr>\n",
              "      <th>...</th>\n",
              "      <td>...</td>\n",
              "      <td>...</td>\n",
              "      <td>...</td>\n",
              "      <td>...</td>\n",
              "      <td>...</td>\n",
              "      <td>...</td>\n",
              "    </tr>\n",
              "    <tr>\n",
              "      <th>6169</th>\n",
              "      <td>1900-07-29 14:16:00</td>\n",
              "      <td>매도</td>\n",
              "      <td>한국비엔씨</td>\n",
              "      <td>16750.0</td>\n",
              "      <td>278</td>\n",
              "      <td>4656500</td>\n",
              "    </tr>\n",
              "    <tr>\n",
              "      <th>6170</th>\n",
              "      <td>1900-07-29 14:16:00</td>\n",
              "      <td>매도</td>\n",
              "      <td>한국비엔씨</td>\n",
              "      <td>16750.0</td>\n",
              "      <td>142</td>\n",
              "      <td>2378500</td>\n",
              "    </tr>\n",
              "    <tr>\n",
              "      <th>6171</th>\n",
              "      <td>1900-07-29 14:16:00</td>\n",
              "      <td>매도</td>\n",
              "      <td>한국비엔씨</td>\n",
              "      <td>16750.0</td>\n",
              "      <td>225</td>\n",
              "      <td>3768750</td>\n",
              "    </tr>\n",
              "    <tr>\n",
              "      <th>6172</th>\n",
              "      <td>1900-07-29 14:16:00</td>\n",
              "      <td>매도</td>\n",
              "      <td>한국비엔씨</td>\n",
              "      <td>16750.0</td>\n",
              "      <td>344</td>\n",
              "      <td>5762000</td>\n",
              "    </tr>\n",
              "    <tr>\n",
              "      <th>6173</th>\n",
              "      <td>1900-07-29 14:16:00</td>\n",
              "      <td>매도</td>\n",
              "      <td>한국비엔씨</td>\n",
              "      <td>16750.0</td>\n",
              "      <td>1741</td>\n",
              "      <td>29161750</td>\n",
              "    </tr>\n",
              "  </tbody>\n",
              "</table>\n",
              "<p>6174 rows × 6 columns</p>\n",
              "</div>"
            ],
            "text/plain": [
              "0                   거래일자 매매구분    종목명   매수/매도가    수량      매매금액\n",
              "0    1900-06-14 09:01:00   매수    유니크   8720.0  5688  49598810\n",
              "1    1900-06-14 09:02:00   매도    유니크   8760.0  2309  20226840\n",
              "2    1900-06-14 09:02:00   매도    유니크   8760.0   123   1077480\n",
              "3    1900-06-14 09:02:00   매도    유니크   8760.0    10     87600\n",
              "4    1900-06-14 09:02:00   매도    유니크   8760.0    20    175200\n",
              "...                  ...  ...    ...      ...   ...       ...\n",
              "6169 1900-07-29 14:16:00   매도  한국비엔씨  16750.0   278   4656500\n",
              "6170 1900-07-29 14:16:00   매도  한국비엔씨  16750.0   142   2378500\n",
              "6171 1900-07-29 14:16:00   매도  한국비엔씨  16750.0   225   3768750\n",
              "6172 1900-07-29 14:16:00   매도  한국비엔씨  16750.0   344   5762000\n",
              "6173 1900-07-29 14:16:00   매도  한국비엔씨  16750.0  1741  29161750\n",
              "\n",
              "[6174 rows x 6 columns]"
            ]
          },
          "metadata": {
            "tags": []
          },
          "execution_count": 4
        }
      ]
    },
    {
      "cell_type": "code",
      "metadata": {
        "id": "SgrJT9gqh8vo"
      },
      "source": [
        "code_dic = {}\n",
        "\n",
        "for i in range(len(df)):\n",
        "  if df.loc[i]['종목명'] not in list(code_dic):\n",
        "    code_dic[df.loc[i]['종목명']] = {'time':[df.loc[i]['거래일자']], 'type':[df.loc[i]['매매구분']], 'price':[df.loc[i]['매수/매도가']], 'quant':[df.loc[i]['수량']]}\n",
        "  else:\n",
        "    code_dic[df.loc[i]['종목명']]['time'].append(df.loc[i]['거래일자'])\n",
        "    code_dic[df.loc[i]['종목명']]['type'].append(df.loc[i]['매매구분'])\n",
        "    code_dic[df.loc[i]['종목명']]['price'].append(df.loc[i]['매수/매도가'])\n",
        "    code_dic[df.loc[i]['종목명']]['quant'].append(df.loc[i]['수량'])\n",
        "\n",
        "code_df = pd.DataFrame.from_dict(code_dic).T"
      ],
      "execution_count": 5,
      "outputs": []
    },
    {
      "cell_type": "code",
      "metadata": {
        "colab": {
          "base_uri": "https://localhost:8080/",
          "height": 555
        },
        "id": "qcrpt7l1ilYv",
        "outputId": "93c7dadb-cff7-4f34-f611-a12a25df6930"
      },
      "source": [
        "code_df"
      ],
      "execution_count": 6,
      "outputs": [
        {
          "output_type": "execute_result",
          "data": {
            "text/html": [
              "<div>\n",
              "<style scoped>\n",
              "    .dataframe tbody tr th:only-of-type {\n",
              "        vertical-align: middle;\n",
              "    }\n",
              "\n",
              "    .dataframe tbody tr th {\n",
              "        vertical-align: top;\n",
              "    }\n",
              "\n",
              "    .dataframe thead th {\n",
              "        text-align: right;\n",
              "    }\n",
              "</style>\n",
              "<table border=\"1\" class=\"dataframe\">\n",
              "  <thead>\n",
              "    <tr style=\"text-align: right;\">\n",
              "      <th></th>\n",
              "      <th>time</th>\n",
              "      <th>type</th>\n",
              "      <th>price</th>\n",
              "      <th>quant</th>\n",
              "    </tr>\n",
              "  </thead>\n",
              "  <tbody>\n",
              "    <tr>\n",
              "      <th>유니크</th>\n",
              "      <td>[1900-06-14 09:01:00, 1900-06-14 09:02:00, 190...</td>\n",
              "      <td>[매수, 매도, 매도, 매도, 매도, 매도, 매도, 매도, 매도]</td>\n",
              "      <td>[8720.0, 8760.0, 8760.0, 8760.0, 8760.0, 8760....</td>\n",
              "      <td>[5688, 2309, 123, 10, 20, 114, 235, 11, 2866]</td>\n",
              "    </tr>\n",
              "    <tr>\n",
              "      <th>서울가스</th>\n",
              "      <td>[1900-06-14 09:06:00, 1900-06-14 09:12:00, 190...</td>\n",
              "      <td>[매수, 매도, 매도, 매도, 매도, 매도]</td>\n",
              "      <td>[144934.0, 138500.0, 138500.0, 138500.0, 13850...</td>\n",
              "      <td>[342, 75, 2, 1, 2, 262]</td>\n",
              "    </tr>\n",
              "    <tr>\n",
              "      <th>아이티센</th>\n",
              "      <td>[1900-06-14 09:18:00, 1900-06-14 09:20:00, 190...</td>\n",
              "      <td>[매수, 매도, 매도, 매도, 매도, 매도]</td>\n",
              "      <td>[7770.0, 7650.0, 7650.0, 7650.0, 7650.0, 7530.0]</td>\n",
              "      <td>[6361, 102, 4953, 110, 1052, 144]</td>\n",
              "    </tr>\n",
              "    <tr>\n",
              "      <th>티비씨</th>\n",
              "      <td>[1900-06-14 09:41:00, 1900-06-14 09:44:00]</td>\n",
              "      <td>[매수, 매도]</td>\n",
              "      <td>[1679.0, 1690.0]</td>\n",
              "      <td>[29154, 29154]</td>\n",
              "    </tr>\n",
              "    <tr>\n",
              "      <th>아주IB투자</th>\n",
              "      <td>[1900-06-14 10:04:00, 1900-06-14 10:24:00, 190...</td>\n",
              "      <td>[매수, 매도, 매도, 매도, 매도, 매도, 매도, 매도, 매도, 매도, 매도, 매...</td>\n",
              "      <td>[7490.0, 7490.0, 7490.0, 7490.0, 7490.0, 7490....</td>\n",
              "      <td>[6613, 374, 140, 5, 16, 59, 20, 10, 50, 50, 10...</td>\n",
              "    </tr>\n",
              "    <tr>\n",
              "      <th>...</th>\n",
              "      <td>...</td>\n",
              "      <td>...</td>\n",
              "      <td>...</td>\n",
              "      <td>...</td>\n",
              "    </tr>\n",
              "    <tr>\n",
              "      <th>OCI</th>\n",
              "      <td>[1900-07-28 15:03:00, 1900-07-28 15:05:00]</td>\n",
              "      <td>[매수, 매도]</td>\n",
              "      <td>[121500.0, 122000.0]</td>\n",
              "      <td>[440, 440]</td>\n",
              "    </tr>\n",
              "    <tr>\n",
              "      <th>KC코트렐</th>\n",
              "      <td>[1900-07-29 09:11:00, 1900-07-29 09:11:00, 190...</td>\n",
              "      <td>[매수, 매수, 매도]</td>\n",
              "      <td>[9320.0, 9320.0, 9430.0]</td>\n",
              "      <td>[442, 100, 542]</td>\n",
              "    </tr>\n",
              "    <tr>\n",
              "      <th>디스플레이텍</th>\n",
              "      <td>[1900-07-29 10:38:00, 1900-07-29 10:38:00, 190...</td>\n",
              "      <td>[매수, 매수, 매도, 매도, 매도, 매도, 매도, 매도, 매도, 매도, 매도]</td>\n",
              "      <td>[5192.0, 5200.0, 5291.0, 5290.0, 5330.0, 5330....</td>\n",
              "      <td>[10456, 10456, 10378, 78, 28, 5200, 3173, 454,...</td>\n",
              "    </tr>\n",
              "    <tr>\n",
              "      <th>KT서브마린</th>\n",
              "      <td>[1900-07-29 12:47:00, 1900-07-29 13:24:00, 190...</td>\n",
              "      <td>[매수, 매도, 매도, 매도, 매도, 매도, 매도, 매도, 매도, 매도, 매도, 매...</td>\n",
              "      <td>[7321.0, 7300.0, 7300.0, 7300.0, 7300.0, 7300....</td>\n",
              "      <td>[7472, 83, 10, 1, 1, 283, 25, 440, 1, 2, 10, 3...</td>\n",
              "    </tr>\n",
              "    <tr>\n",
              "      <th>풍산</th>\n",
              "      <td>[1900-07-29 14:08:00, 1900-07-29 14:08:00, 190...</td>\n",
              "      <td>[매수, 매도, 매도, 매도, 매도]</td>\n",
              "      <td>[39600.0, 39850.0, 39850.0, 39850.0, 39850.0]</td>\n",
              "      <td>[1375, 410, 10, 10, 945]</td>\n",
              "    </tr>\n",
              "  </tbody>\n",
              "</table>\n",
              "<p>376 rows × 4 columns</p>\n",
              "</div>"
            ],
            "text/plain": [
              "                                                     time  ...                                              quant\n",
              "유니크     [1900-06-14 09:01:00, 1900-06-14 09:02:00, 190...  ...      [5688, 2309, 123, 10, 20, 114, 235, 11, 2866]\n",
              "서울가스    [1900-06-14 09:06:00, 1900-06-14 09:12:00, 190...  ...                            [342, 75, 2, 1, 2, 262]\n",
              "아이티센    [1900-06-14 09:18:00, 1900-06-14 09:20:00, 190...  ...                  [6361, 102, 4953, 110, 1052, 144]\n",
              "티비씨            [1900-06-14 09:41:00, 1900-06-14 09:44:00]  ...                                     [29154, 29154]\n",
              "아주IB투자  [1900-06-14 10:04:00, 1900-06-14 10:24:00, 190...  ...  [6613, 374, 140, 5, 16, 59, 20, 10, 50, 50, 10...\n",
              "...                                                   ...  ...                                                ...\n",
              "OCI            [1900-07-28 15:03:00, 1900-07-28 15:05:00]  ...                                         [440, 440]\n",
              "KC코트렐   [1900-07-29 09:11:00, 1900-07-29 09:11:00, 190...  ...                                    [442, 100, 542]\n",
              "디스플레이텍  [1900-07-29 10:38:00, 1900-07-29 10:38:00, 190...  ...  [10456, 10456, 10378, 78, 28, 5200, 3173, 454,...\n",
              "KT서브마린  [1900-07-29 12:47:00, 1900-07-29 13:24:00, 190...  ...  [7472, 83, 10, 1, 1, 283, 25, 440, 1, 2, 10, 3...\n",
              "풍산      [1900-07-29 14:08:00, 1900-07-29 14:08:00, 190...  ...                           [1375, 410, 10, 10, 945]\n",
              "\n",
              "[376 rows x 4 columns]"
            ]
          },
          "metadata": {
            "tags": []
          },
          "execution_count": 6
        }
      ]
    },
    {
      "cell_type": "code",
      "metadata": {
        "id": "FIxesGtt4_Jx"
      },
      "source": [
        "def get_profit(code):\n",
        "  q = 0\n",
        "  profit = 0\n",
        "  av_buy = 0\n",
        "  av_sell = 0\n",
        "  for t in [x for x in list(zip(code_df.loc[code]['type'], code_df.loc[code]['price'], code_df.loc[code]['quant']))]:\n",
        "    if t[0] == '매수':\n",
        "      q += t[2]\n",
        "      profit -= t[1] * t[2]\n",
        "      av_buy += t[1]\n",
        "    else:\n",
        "      q -= t[2]\n",
        "      profit += t[1] * t[2]\n",
        "      av_sell += t[1]\n",
        "  av_buy /= code_df.loc[code]['type'].count('매수')\n",
        "  av_sell /= code_df.loc[code]['type'].count('매도')\n",
        "\n",
        "  if q != 0: return 0, 1\n",
        "  return profit, av_sell/av_buy"
      ],
      "execution_count": 73,
      "outputs": []
    },
    {
      "cell_type": "code",
      "metadata": {
        "id": "BjEIE9u6oQIw"
      },
      "source": [
        "codes = {}\n",
        "total_profit = 0\n",
        "total_per = 1\n",
        "\n",
        "for code in code_df.index:\n",
        "  total_profit += get_profit(code)[0]\n",
        "  total_per *= get_profit(code)[1]\n",
        "  codes[code] = [get_profit(code)[0], get_profit(code)[1]]"
      ],
      "execution_count": 88,
      "outputs": []
    },
    {
      "cell_type": "code",
      "metadata": {
        "colab": {
          "base_uri": "https://localhost:8080/"
        },
        "id": "4H_7-9DO64Gb",
        "outputId": "87f8e090-3535-4d91-9182-5d6848c23a4b"
      },
      "source": [
        "total_per"
      ],
      "execution_count": 89,
      "outputs": [
        {
          "output_type": "execute_result",
          "data": {
            "text/plain": [
              "7.009841757318611"
            ]
          },
          "metadata": {
            "tags": []
          },
          "execution_count": 89
        }
      ]
    },
    {
      "cell_type": "code",
      "metadata": {
        "colab": {
          "base_uri": "https://localhost:8080/"
        },
        "id": "x0i6-3Ryo4zk",
        "outputId": "bcf9f456-2bec-46f9-cac2-775e779cfc34"
      },
      "source": [
        "total_profit"
      ],
      "execution_count": 90,
      "outputs": [
        {
          "output_type": "execute_result",
          "data": {
            "text/plain": [
              "352696550.0"
            ]
          },
          "metadata": {
            "tags": []
          },
          "execution_count": 90
        }
      ]
    },
    {
      "cell_type": "code",
      "metadata": {
        "colab": {
          "base_uri": "https://localhost:8080/",
          "height": 419
        },
        "id": "BLkhDTdBpglP",
        "outputId": "d324dec2-b438-4fd0-8457-13f23873e10b"
      },
      "source": [
        "pd.DataFrame.from_dict(codes, orient='index', columns=['profit', 'per']).sort_values(by = 'profit')"
      ],
      "execution_count": 102,
      "outputs": [
        {
          "output_type": "execute_result",
          "data": {
            "text/html": [
              "<div>\n",
              "<style scoped>\n",
              "    .dataframe tbody tr th:only-of-type {\n",
              "        vertical-align: middle;\n",
              "    }\n",
              "\n",
              "    .dataframe tbody tr th {\n",
              "        vertical-align: top;\n",
              "    }\n",
              "\n",
              "    .dataframe thead th {\n",
              "        text-align: right;\n",
              "    }\n",
              "</style>\n",
              "<table border=\"1\" class=\"dataframe\">\n",
              "  <thead>\n",
              "    <tr style=\"text-align: right;\">\n",
              "      <th></th>\n",
              "      <th>profit</th>\n",
              "      <th>per</th>\n",
              "    </tr>\n",
              "  </thead>\n",
              "  <tbody>\n",
              "    <tr>\n",
              "      <th>인터파크</th>\n",
              "      <td>-10150952.0</td>\n",
              "      <td>0.953174</td>\n",
              "    </tr>\n",
              "    <tr>\n",
              "      <th>코나아이</th>\n",
              "      <td>-5068546.0</td>\n",
              "      <td>0.976060</td>\n",
              "    </tr>\n",
              "    <tr>\n",
              "      <th>혜인</th>\n",
              "      <td>-3423480.0</td>\n",
              "      <td>0.938076</td>\n",
              "    </tr>\n",
              "    <tr>\n",
              "      <th>올리패스</th>\n",
              "      <td>-3292050.0</td>\n",
              "      <td>0.938406</td>\n",
              "    </tr>\n",
              "    <tr>\n",
              "      <th>광림</th>\n",
              "      <td>-3273313.0</td>\n",
              "      <td>0.983151</td>\n",
              "    </tr>\n",
              "    <tr>\n",
              "      <th>...</th>\n",
              "      <td>...</td>\n",
              "      <td>...</td>\n",
              "    </tr>\n",
              "    <tr>\n",
              "      <th>박셀바이오</th>\n",
              "      <td>10369778.0</td>\n",
              "      <td>1.009985</td>\n",
              "    </tr>\n",
              "    <tr>\n",
              "      <th>이루온</th>\n",
              "      <td>21424024.0</td>\n",
              "      <td>0.993408</td>\n",
              "    </tr>\n",
              "    <tr>\n",
              "      <th>일신석재</th>\n",
              "      <td>24896662.0</td>\n",
              "      <td>1.045190</td>\n",
              "    </tr>\n",
              "    <tr>\n",
              "      <th>SBI인베스트먼트</th>\n",
              "      <td>26443192.0</td>\n",
              "      <td>1.032400</td>\n",
              "    </tr>\n",
              "    <tr>\n",
              "      <th>서린바이오</th>\n",
              "      <td>58084721.0</td>\n",
              "      <td>1.045396</td>\n",
              "    </tr>\n",
              "  </tbody>\n",
              "</table>\n",
              "<p>376 rows × 2 columns</p>\n",
              "</div>"
            ],
            "text/plain": [
              "               profit       per\n",
              "인터파크      -10150952.0  0.953174\n",
              "코나아이       -5068546.0  0.976060\n",
              "혜인         -3423480.0  0.938076\n",
              "올리패스       -3292050.0  0.938406\n",
              "광림         -3273313.0  0.983151\n",
              "...               ...       ...\n",
              "박셀바이오      10369778.0  1.009985\n",
              "이루온        21424024.0  0.993408\n",
              "일신석재       24896662.0  1.045190\n",
              "SBI인베스트먼트  26443192.0  1.032400\n",
              "서린바이오      58084721.0  1.045396\n",
              "\n",
              "[376 rows x 2 columns]"
            ]
          },
          "metadata": {
            "tags": []
          },
          "execution_count": 102
        }
      ]
    },
    {
      "cell_type": "code",
      "metadata": {
        "colab": {
          "base_uri": "https://localhost:8080/"
        },
        "id": "fs6f6AMWpnz0",
        "outputId": "bd17e2cc-37d6-4455-f948-b3646f78ed5b"
      },
      "source": [
        "code_df.loc['서린바이오']"
      ],
      "execution_count": 103,
      "outputs": [
        {
          "output_type": "execute_result",
          "data": {
            "text/plain": [
              "time     [1900-07-01 09:51:00, 1900-07-01 09:51:00, 190...\n",
              "type     [매수, 매도, 매수, 매수, 매수, 매수, 매수, 매도, 매도, 매도, 매도, 매...\n",
              "price    [24000.0, 23820.0, 25100.0, 25111.0, 25161.0, ...\n",
              "quant    [2254, 2254, 2161, 2161, 4322, 2161, 2161, 509...\n",
              "Name: 서린바이오, dtype: object"
            ]
          },
          "metadata": {
            "tags": []
          },
          "execution_count": 103
        }
      ]
    },
    {
      "cell_type": "code",
      "metadata": {
        "id": "yC15uVdOrnGQ"
      },
      "source": [
        ""
      ],
      "execution_count": null,
      "outputs": []
    }
  ]
}