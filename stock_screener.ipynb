{
  "nbformat": 4,
  "nbformat_minor": 0,
  "metadata": {
    "colab": {
      "name": "Untitled42.ipynb의 사본",
      "provenance": [],
      "collapsed_sections": [],
      "authorship_tag": "ABX9TyNLqUz/BUghhKWKzdbpUh8l",
      "include_colab_link": true
    },
    "kernelspec": {
      "name": "python3",
      "display_name": "Python 3"
    },
    "language_info": {
      "name": "python"
    }
  },
  "cells": [
    {
      "cell_type": "markdown",
      "metadata": {
        "id": "view-in-github",
        "colab_type": "text"
      },
      "source": [
        "<a href=\"https://colab.research.google.com/github/yeonghun00/stock_public/blob/main/stock_screener.ipynb\" target=\"_parent\"><img src=\"https://colab.research.google.com/assets/colab-badge.svg\" alt=\"Open In Colab\"/></a>"
      ]
    },
    {
      "cell_type": "code",
      "metadata": {
        "id": "zmi7fOHryoUe"
      },
      "source": [
        "import pandas as pd\n",
        "import requests\n",
        "import datetime"
      ],
      "execution_count": null,
      "outputs": []
    },
    {
      "cell_type": "code",
      "metadata": {
        "id": "mqVjHHsu4y6F"
      },
      "source": [
        "today = datetime.date.today().strftime('%Y%m%d')"
      ],
      "execution_count": null,
      "outputs": []
    },
    {
      "cell_type": "code",
      "metadata": {
        "id": "0V0-Ij2vzvZQ"
      },
      "source": [
        "data = {\n",
        "    'mktId': 'KSQ',\n",
        "    'trdDd': today,\n",
        "    'money': '1',\n",
        "    'csvxls_isNo': 'false',\n",
        "    'name': 'fileDown',\n",
        "    'url': 'dbms/MDC/STAT/standard/MDCSTAT03901',\n",
        "}\n",
        "gen_url = 'http://data.krx.co.kr/comm/fileDn/GenerateOTP/generate.cmd'\n",
        "gen_key = requests.post(gen_url, data=data)"
      ],
      "execution_count": null,
      "outputs": []
    },
    {
      "cell_type": "code",
      "metadata": {
        "id": "R6p_GfJ80iBh"
      },
      "source": [
        "down_url = 'http://data.krx.co.kr/comm/fileDn/download_csv/download.cmd'\n",
        "r = requests.post(down_url, data={'code':gen_key.text})\n",
        "r.encoding = 'EUC-KR'"
      ],
      "execution_count": null,
      "outputs": []
    },
    {
      "cell_type": "code",
      "metadata": {
        "id": "-iIw9e1x3bV6"
      },
      "source": [
        "from io import StringIO\n",
        "\n",
        "df = pd.read_csv(StringIO(r.text))"
      ],
      "execution_count": null,
      "outputs": []
    },
    {
      "cell_type": "code",
      "metadata": {
        "colab": {
          "base_uri": "https://localhost:8080/",
          "height": 419
        },
        "id": "pGKeWTaH4tO3",
        "outputId": "ce152dcc-3023-43f0-babf-76d23fa1f6cd"
      },
      "source": [
        "df"
      ],
      "execution_count": null,
      "outputs": [
        {
          "output_type": "execute_result",
          "data": {
            "text/html": [
              "<div>\n",
              "<style scoped>\n",
              "    .dataframe tbody tr th:only-of-type {\n",
              "        vertical-align: middle;\n",
              "    }\n",
              "\n",
              "    .dataframe tbody tr th {\n",
              "        vertical-align: top;\n",
              "    }\n",
              "\n",
              "    .dataframe thead th {\n",
              "        text-align: right;\n",
              "    }\n",
              "</style>\n",
              "<table border=\"1\" class=\"dataframe\">\n",
              "  <thead>\n",
              "    <tr style=\"text-align: right;\">\n",
              "      <th></th>\n",
              "      <th>종목코드</th>\n",
              "      <th>종목명</th>\n",
              "      <th>시장구분</th>\n",
              "      <th>업종명</th>\n",
              "      <th>종가</th>\n",
              "      <th>대비</th>\n",
              "      <th>등락률</th>\n",
              "      <th>시가총액</th>\n",
              "    </tr>\n",
              "  </thead>\n",
              "  <tbody>\n",
              "    <tr>\n",
              "      <th>0</th>\n",
              "      <td>060310</td>\n",
              "      <td>3S</td>\n",
              "      <td>KOSDAQ</td>\n",
              "      <td>기계·장비</td>\n",
              "      <td>4025</td>\n",
              "      <td>120</td>\n",
              "      <td>3.07</td>\n",
              "      <td>186242839825</td>\n",
              "    </tr>\n",
              "    <tr>\n",
              "      <th>1</th>\n",
              "      <td>054620</td>\n",
              "      <td>APS홀딩스</td>\n",
              "      <td>KOSDAQ</td>\n",
              "      <td>금융</td>\n",
              "      <td>17200</td>\n",
              "      <td>-350</td>\n",
              "      <td>-1.99</td>\n",
              "      <td>350780601200</td>\n",
              "    </tr>\n",
              "    <tr>\n",
              "      <th>2</th>\n",
              "      <td>265520</td>\n",
              "      <td>AP시스템</td>\n",
              "      <td>KOSDAQ</td>\n",
              "      <td>반도체</td>\n",
              "      <td>26850</td>\n",
              "      <td>-850</td>\n",
              "      <td>-3.07</td>\n",
              "      <td>388794094950</td>\n",
              "    </tr>\n",
              "    <tr>\n",
              "      <th>3</th>\n",
              "      <td>211270</td>\n",
              "      <td>AP위성</td>\n",
              "      <td>KOSDAQ</td>\n",
              "      <td>통신장비</td>\n",
              "      <td>17800</td>\n",
              "      <td>100</td>\n",
              "      <td>0.56</td>\n",
              "      <td>268465011200</td>\n",
              "    </tr>\n",
              "    <tr>\n",
              "      <th>4</th>\n",
              "      <td>013720</td>\n",
              "      <td>CBI</td>\n",
              "      <td>KOSDAQ</td>\n",
              "      <td>운송장비·부품</td>\n",
              "      <td>3535</td>\n",
              "      <td>255</td>\n",
              "      <td>7.77</td>\n",
              "      <td>179216634625</td>\n",
              "    </tr>\n",
              "    <tr>\n",
              "      <th>...</th>\n",
              "      <td>...</td>\n",
              "      <td>...</td>\n",
              "      <td>...</td>\n",
              "      <td>...</td>\n",
              "      <td>...</td>\n",
              "      <td>...</td>\n",
              "      <td>...</td>\n",
              "      <td>...</td>\n",
              "    </tr>\n",
              "    <tr>\n",
              "      <th>1508</th>\n",
              "      <td>024060</td>\n",
              "      <td>흥구석유</td>\n",
              "      <td>KOSDAQ</td>\n",
              "      <td>유통</td>\n",
              "      <td>7840</td>\n",
              "      <td>420</td>\n",
              "      <td>5.66</td>\n",
              "      <td>117600000000</td>\n",
              "    </tr>\n",
              "    <tr>\n",
              "      <th>1509</th>\n",
              "      <td>010240</td>\n",
              "      <td>흥국</td>\n",
              "      <td>KOSDAQ</td>\n",
              "      <td>기계·장비</td>\n",
              "      <td>9590</td>\n",
              "      <td>460</td>\n",
              "      <td>5.04</td>\n",
              "      <td>118174654640</td>\n",
              "    </tr>\n",
              "    <tr>\n",
              "      <th>1510</th>\n",
              "      <td>189980</td>\n",
              "      <td>흥국에프엔비</td>\n",
              "      <td>KOSDAQ</td>\n",
              "      <td>음식료·담배</td>\n",
              "      <td>3315</td>\n",
              "      <td>130</td>\n",
              "      <td>4.08</td>\n",
              "      <td>127253326005</td>\n",
              "    </tr>\n",
              "    <tr>\n",
              "      <th>1511</th>\n",
              "      <td>037440</td>\n",
              "      <td>희림</td>\n",
              "      <td>KOSDAQ</td>\n",
              "      <td>기타서비스</td>\n",
              "      <td>7120</td>\n",
              "      <td>470</td>\n",
              "      <td>7.07</td>\n",
              "      <td>99128022000</td>\n",
              "    </tr>\n",
              "    <tr>\n",
              "      <th>1512</th>\n",
              "      <td>238490</td>\n",
              "      <td>힘스</td>\n",
              "      <td>KOSDAQ</td>\n",
              "      <td>반도체</td>\n",
              "      <td>9300</td>\n",
              "      <td>-100</td>\n",
              "      <td>-1.06</td>\n",
              "      <td>105203794800</td>\n",
              "    </tr>\n",
              "  </tbody>\n",
              "</table>\n",
              "<p>1513 rows × 8 columns</p>\n",
              "</div>"
            ],
            "text/plain": [
              "        종목코드     종목명    시장구분      업종명     종가   대비   등락률          시가총액\n",
              "0     060310      3S  KOSDAQ    기계·장비   4025  120  3.07  186242839825\n",
              "1     054620  APS홀딩스  KOSDAQ       금융  17200 -350 -1.99  350780601200\n",
              "2     265520   AP시스템  KOSDAQ      반도체  26850 -850 -3.07  388794094950\n",
              "3     211270    AP위성  KOSDAQ     통신장비  17800  100  0.56  268465011200\n",
              "4     013720     CBI  KOSDAQ  운송장비·부품   3535  255  7.77  179216634625\n",
              "...      ...     ...     ...      ...    ...  ...   ...           ...\n",
              "1508  024060    흥구석유  KOSDAQ       유통   7840  420  5.66  117600000000\n",
              "1509  010240      흥국  KOSDAQ    기계·장비   9590  460  5.04  118174654640\n",
              "1510  189980  흥국에프엔비  KOSDAQ   음식료·담배   3315  130  4.08  127253326005\n",
              "1511  037440      희림  KOSDAQ    기타서비스   7120  470  7.07   99128022000\n",
              "1512  238490      힘스  KOSDAQ      반도체   9300 -100 -1.06  105203794800\n",
              "\n",
              "[1513 rows x 8 columns]"
            ]
          },
          "metadata": {},
          "execution_count": 6
        }
      ]
    },
    {
      "cell_type": "code",
      "metadata": {
        "colab": {
          "base_uri": "https://localhost:8080/"
        },
        "id": "64ycsBGq_KoU",
        "outputId": "8570e31e-0c74-4a2c-c586-fc9c9c6e9a38"
      },
      "source": [
        "%%timeit\n",
        "df.loc[df['시가총액'].between(30000000000,70000000000), '종목명']"
      ],
      "execution_count": null,
      "outputs": [
        {
          "output_type": "stream",
          "name": "stdout",
          "text": [
            "The slowest run took 16.51 times longer than the fastest. This could mean that an intermediate result is being cached.\n",
            "1000 loops, best of 5: 584 µs per loop\n"
          ]
        }
      ]
    },
    {
      "cell_type": "code",
      "metadata": {
        "colab": {
          "base_uri": "https://localhost:8080/"
        },
        "id": "WIg-zGRi_TOG",
        "outputId": "23d1fb76-623a-4769-8a09-3fed1e114153"
      },
      "source": [
        "%%timeit\n",
        "df[df['시가총액'].between(30000000000,70000000000)]['종목명']"
      ],
      "execution_count": null,
      "outputs": [
        {
          "output_type": "stream",
          "name": "stdout",
          "text": [
            "1000 loops, best of 5: 980 µs per loop\n"
          ]
        }
      ]
    },
    {
      "cell_type": "code",
      "metadata": {
        "colab": {
          "base_uri": "https://localhost:8080/",
          "height": 419
        },
        "id": "MYPfNbln4t7G",
        "outputId": "f04ea85e-1d24-416e-e17e-ce9831182e93"
      },
      "source": [
        "boundary = df.loc[df['시가총액'].between(30000000000,70000000000)]\n",
        "boundary"
      ],
      "execution_count": null,
      "outputs": [
        {
          "output_type": "execute_result",
          "data": {
            "text/html": [
              "<div>\n",
              "<style scoped>\n",
              "    .dataframe tbody tr th:only-of-type {\n",
              "        vertical-align: middle;\n",
              "    }\n",
              "\n",
              "    .dataframe tbody tr th {\n",
              "        vertical-align: top;\n",
              "    }\n",
              "\n",
              "    .dataframe thead th {\n",
              "        text-align: right;\n",
              "    }\n",
              "</style>\n",
              "<table border=\"1\" class=\"dataframe\">\n",
              "  <thead>\n",
              "    <tr style=\"text-align: right;\">\n",
              "      <th></th>\n",
              "      <th>종목코드</th>\n",
              "      <th>종목명</th>\n",
              "      <th>시장구분</th>\n",
              "      <th>업종명</th>\n",
              "      <th>종가</th>\n",
              "      <th>대비</th>\n",
              "      <th>등락률</th>\n",
              "      <th>시가총액</th>\n",
              "    </tr>\n",
              "  </thead>\n",
              "  <tbody>\n",
              "    <tr>\n",
              "      <th>10</th>\n",
              "      <td>056000</td>\n",
              "      <td>COWON</td>\n",
              "      <td>KOSDAQ</td>\n",
              "      <td>디지털컨텐츠</td>\n",
              "      <td>2860</td>\n",
              "      <td>0</td>\n",
              "      <td>0.00</td>\n",
              "      <td>56399843500</td>\n",
              "    </tr>\n",
              "    <tr>\n",
              "      <th>12</th>\n",
              "      <td>083660</td>\n",
              "      <td>CSA 코스믹</td>\n",
              "      <td>KOSDAQ</td>\n",
              "      <td>화학</td>\n",
              "      <td>1480</td>\n",
              "      <td>-30</td>\n",
              "      <td>-1.99</td>\n",
              "      <td>56142488720</td>\n",
              "    </tr>\n",
              "    <tr>\n",
              "      <th>20</th>\n",
              "      <td>050120</td>\n",
              "      <td>ES큐브</td>\n",
              "      <td>KOSDAQ</td>\n",
              "      <td>유통</td>\n",
              "      <td>4645</td>\n",
              "      <td>-95</td>\n",
              "      <td>-2.00</td>\n",
              "      <td>63005179470</td>\n",
              "    </tr>\n",
              "    <tr>\n",
              "      <th>22</th>\n",
              "      <td>900290</td>\n",
              "      <td>GRT</td>\n",
              "      <td>KOSDAQ</td>\n",
              "      <td>금융</td>\n",
              "      <td>951</td>\n",
              "      <td>0</td>\n",
              "      <td>0.00</td>\n",
              "      <td>64073625000</td>\n",
              "    </tr>\n",
              "    <tr>\n",
              "      <th>35</th>\n",
              "      <td>099520</td>\n",
              "      <td>ITX-AI</td>\n",
              "      <td>KOSDAQ</td>\n",
              "      <td>통신장비</td>\n",
              "      <td>1285</td>\n",
              "      <td>0</td>\n",
              "      <td>0.00</td>\n",
              "      <td>37652662655</td>\n",
              "    </tr>\n",
              "    <tr>\n",
              "      <th>...</th>\n",
              "      <td>...</td>\n",
              "      <td>...</td>\n",
              "      <td>...</td>\n",
              "      <td>...</td>\n",
              "      <td>...</td>\n",
              "      <td>...</td>\n",
              "      <td>...</td>\n",
              "      <td>...</td>\n",
              "    </tr>\n",
              "    <tr>\n",
              "      <th>1461</th>\n",
              "      <td>079170</td>\n",
              "      <td>한창산업</td>\n",
              "      <td>KOSDAQ</td>\n",
              "      <td>금속</td>\n",
              "      <td>9680</td>\n",
              "      <td>260</td>\n",
              "      <td>2.76</td>\n",
              "      <td>50336000000</td>\n",
              "    </tr>\n",
              "    <tr>\n",
              "      <th>1464</th>\n",
              "      <td>002680</td>\n",
              "      <td>한탑</td>\n",
              "      <td>KOSDAQ</td>\n",
              "      <td>음식료·담배</td>\n",
              "      <td>1400</td>\n",
              "      <td>-10</td>\n",
              "      <td>-0.71</td>\n",
              "      <td>39577983200</td>\n",
              "    </tr>\n",
              "    <tr>\n",
              "      <th>1473</th>\n",
              "      <td>900270</td>\n",
              "      <td>헝셩그룹</td>\n",
              "      <td>KOSDAQ</td>\n",
              "      <td>금융</td>\n",
              "      <td>506</td>\n",
              "      <td>4</td>\n",
              "      <td>0.80</td>\n",
              "      <td>40480000000</td>\n",
              "    </tr>\n",
              "    <tr>\n",
              "      <th>1486</th>\n",
              "      <td>011080</td>\n",
              "      <td>형지I&amp;C</td>\n",
              "      <td>KOSDAQ</td>\n",
              "      <td>섬유·의류</td>\n",
              "      <td>1455</td>\n",
              "      <td>85</td>\n",
              "      <td>6.20</td>\n",
              "      <td>56680496940</td>\n",
              "    </tr>\n",
              "    <tr>\n",
              "      <th>1494</th>\n",
              "      <td>290270</td>\n",
              "      <td>휴네시온</td>\n",
              "      <td>KOSDAQ</td>\n",
              "      <td>소프트웨어</td>\n",
              "      <td>6140</td>\n",
              "      <td>110</td>\n",
              "      <td>1.82</td>\n",
              "      <td>58991106080</td>\n",
              "    </tr>\n",
              "  </tbody>\n",
              "</table>\n",
              "<p>218 rows × 8 columns</p>\n",
              "</div>"
            ],
            "text/plain": [
              "        종목코드      종목명    시장구분     업종명    종가   대비   등락률         시가총액\n",
              "10    056000    COWON  KOSDAQ  디지털컨텐츠  2860    0  0.00  56399843500\n",
              "12    083660  CSA 코스믹  KOSDAQ      화학  1480  -30 -1.99  56142488720\n",
              "20    050120     ES큐브  KOSDAQ      유통  4645  -95 -2.00  63005179470\n",
              "22    900290      GRT  KOSDAQ      금융   951    0  0.00  64073625000\n",
              "35    099520   ITX-AI  KOSDAQ    통신장비  1285    0  0.00  37652662655\n",
              "...      ...      ...     ...     ...   ...  ...   ...          ...\n",
              "1461  079170     한창산업  KOSDAQ      금속  9680  260  2.76  50336000000\n",
              "1464  002680       한탑  KOSDAQ  음식료·담배  1400  -10 -0.71  39577983200\n",
              "1473  900270     헝셩그룹  KOSDAQ      금융   506    4  0.80  40480000000\n",
              "1486  011080    형지I&C  KOSDAQ   섬유·의류  1455   85  6.20  56680496940\n",
              "1494  290270     휴네시온  KOSDAQ   소프트웨어  6140  110  1.82  58991106080\n",
              "\n",
              "[218 rows x 8 columns]"
            ]
          },
          "metadata": {},
          "execution_count": 9
        }
      ]
    },
    {
      "cell_type": "code",
      "metadata": {
        "colab": {
          "base_uri": "https://localhost:8080/"
        },
        "id": "eNGvGhxM7tcF",
        "outputId": "04d41ae6-e1af-4959-c7ed-ab2311cf5a99"
      },
      "source": [
        "!pip install OpenDartReader"
      ],
      "execution_count": null,
      "outputs": [
        {
          "output_type": "stream",
          "name": "stdout",
          "text": [
            "Requirement already satisfied: OpenDartReader in /usr/local/lib/python3.7/dist-packages (0.1.6)\n",
            "Requirement already satisfied: requests>=2.3.0 in /usr/local/lib/python3.7/dist-packages (from OpenDartReader) (2.23.0)\n",
            "Requirement already satisfied: lxml in /usr/local/lib/python3.7/dist-packages (from OpenDartReader) (4.2.6)\n",
            "Requirement already satisfied: requests-file in /usr/local/lib/python3.7/dist-packages (from OpenDartReader) (1.5.1)\n",
            "Requirement already satisfied: pandas>=0.19.2 in /usr/local/lib/python3.7/dist-packages (from OpenDartReader) (1.1.5)\n",
            "Requirement already satisfied: python-dateutil>=2.7.3 in /usr/local/lib/python3.7/dist-packages (from pandas>=0.19.2->OpenDartReader) (2.8.2)\n",
            "Requirement already satisfied: numpy>=1.15.4 in /usr/local/lib/python3.7/dist-packages (from pandas>=0.19.2->OpenDartReader) (1.19.5)\n",
            "Requirement already satisfied: pytz>=2017.2 in /usr/local/lib/python3.7/dist-packages (from pandas>=0.19.2->OpenDartReader) (2018.9)\n",
            "Requirement already satisfied: six>=1.5 in /usr/local/lib/python3.7/dist-packages (from python-dateutil>=2.7.3->pandas>=0.19.2->OpenDartReader) (1.15.0)\n",
            "Requirement already satisfied: chardet<4,>=3.0.2 in /usr/local/lib/python3.7/dist-packages (from requests>=2.3.0->OpenDartReader) (3.0.4)\n",
            "Requirement already satisfied: idna<3,>=2.5 in /usr/local/lib/python3.7/dist-packages (from requests>=2.3.0->OpenDartReader) (2.10)\n",
            "Requirement already satisfied: urllib3!=1.25.0,!=1.25.1,<1.26,>=1.21.1 in /usr/local/lib/python3.7/dist-packages (from requests>=2.3.0->OpenDartReader) (1.24.3)\n",
            "Requirement already satisfied: certifi>=2017.4.17 in /usr/local/lib/python3.7/dist-packages (from requests>=2.3.0->OpenDartReader) (2021.5.30)\n"
          ]
        }
      ]
    },
    {
      "cell_type": "code",
      "metadata": {
        "id": "dQ_DIob25uIU"
      },
      "source": [
        "import OpenDartReader\n",
        "\n",
        "api_key = '4b0512c473e52e1cf59f8ce8380b2b30904f381a'\n",
        "dart = OpenDartReader(api_key) "
      ],
      "execution_count": null,
      "outputs": []
    },
    {
      "cell_type": "code",
      "metadata": {
        "id": "i0bpkXZL-Qt7"
      },
      "source": [
        "search_date = '2021-08-20'"
      ],
      "execution_count": null,
      "outputs": []
    },
    {
      "cell_type": "code",
      "metadata": {
        "id": "xt0eXFXu8Rh0"
      },
      "source": [
        "dart_df = dart.list(start=search_date, kind='A')\n",
        "found = list(set(dart_df['stock_code']).intersection(set(boundary['종목코드'])))\n",
        "out_df = dart_df[dart_df['stock_code'].isin(found)]"
      ],
      "execution_count": null,
      "outputs": []
    },
    {
      "cell_type": "code",
      "metadata": {
        "colab": {
          "base_uri": "https://localhost:8080/",
          "height": 607
        },
        "id": "Ov9Ia10b_7bq",
        "outputId": "3ed3f9a4-c3f8-4b88-9d25-5243cdf9c868"
      },
      "source": [
        "out_df"
      ],
      "execution_count": null,
      "outputs": [
        {
          "output_type": "execute_result",
          "data": {
            "text/html": [
              "<div>\n",
              "<style scoped>\n",
              "    .dataframe tbody tr th:only-of-type {\n",
              "        vertical-align: middle;\n",
              "    }\n",
              "\n",
              "    .dataframe tbody tr th {\n",
              "        vertical-align: top;\n",
              "    }\n",
              "\n",
              "    .dataframe thead th {\n",
              "        text-align: right;\n",
              "    }\n",
              "</style>\n",
              "<table border=\"1\" class=\"dataframe\">\n",
              "  <thead>\n",
              "    <tr style=\"text-align: right;\">\n",
              "      <th></th>\n",
              "      <th>corp_code</th>\n",
              "      <th>corp_name</th>\n",
              "      <th>stock_code</th>\n",
              "      <th>corp_cls</th>\n",
              "      <th>report_nm</th>\n",
              "      <th>rcept_no</th>\n",
              "      <th>flr_nm</th>\n",
              "      <th>rcept_dt</th>\n",
              "      <th>rm</th>\n",
              "    </tr>\n",
              "  </thead>\n",
              "  <tbody>\n",
              "    <tr>\n",
              "      <th>4</th>\n",
              "      <td>00818472</td>\n",
              "      <td>이큐셀</td>\n",
              "      <td>160600</td>\n",
              "      <td>K</td>\n",
              "      <td>사업보고서 (2021.06)</td>\n",
              "      <td>20210917000607</td>\n",
              "      <td>이큐셀</td>\n",
              "      <td>20210917</td>\n",
              "      <td>연</td>\n",
              "    </tr>\n",
              "    <tr>\n",
              "      <th>5</th>\n",
              "      <td>00814786</td>\n",
              "      <td>스카이이앤엠</td>\n",
              "      <td>131100</td>\n",
              "      <td>K</td>\n",
              "      <td>사업보고서 (2021.06)</td>\n",
              "      <td>20210917000602</td>\n",
              "      <td>스카이이앤엠</td>\n",
              "      <td>20210917</td>\n",
              "      <td></td>\n",
              "    </tr>\n",
              "    <tr>\n",
              "      <th>9</th>\n",
              "      <td>00939942</td>\n",
              "      <td>포시에스</td>\n",
              "      <td>189690</td>\n",
              "      <td>K</td>\n",
              "      <td>[기재정정]사업보고서 (2021.06)</td>\n",
              "      <td>20210917000423</td>\n",
              "      <td>포시에스</td>\n",
              "      <td>20210917</td>\n",
              "      <td>연</td>\n",
              "    </tr>\n",
              "    <tr>\n",
              "      <th>12</th>\n",
              "      <td>00138747</td>\n",
              "      <td>아세아텍</td>\n",
              "      <td>050860</td>\n",
              "      <td>K</td>\n",
              "      <td>사업보고서 (2021.06)</td>\n",
              "      <td>20210917000175</td>\n",
              "      <td>아세아텍</td>\n",
              "      <td>20210917</td>\n",
              "      <td></td>\n",
              "    </tr>\n",
              "    <tr>\n",
              "      <th>17</th>\n",
              "      <td>01101041</td>\n",
              "      <td>패션플랫폼</td>\n",
              "      <td>225590</td>\n",
              "      <td>K</td>\n",
              "      <td>[기재정정]반기보고서 (2021.06)</td>\n",
              "      <td>20210917000063</td>\n",
              "      <td>패션플랫폼</td>\n",
              "      <td>20210917</td>\n",
              "      <td></td>\n",
              "    </tr>\n",
              "    <tr>\n",
              "      <th>41</th>\n",
              "      <td>00957568</td>\n",
              "      <td>에스엘바이오닉스</td>\n",
              "      <td>214310</td>\n",
              "      <td>K</td>\n",
              "      <td>[기재정정]반기보고서 (2021.06)</td>\n",
              "      <td>20210903000352</td>\n",
              "      <td>에스엘바이오닉스</td>\n",
              "      <td>20210903</td>\n",
              "      <td></td>\n",
              "    </tr>\n",
              "    <tr>\n",
              "      <th>42</th>\n",
              "      <td>00642541</td>\n",
              "      <td>디엔에이링크</td>\n",
              "      <td>127120</td>\n",
              "      <td>K</td>\n",
              "      <td>[기재정정]사업보고서 (2020.12)</td>\n",
              "      <td>20210903000235</td>\n",
              "      <td>디엔에이링크</td>\n",
              "      <td>20210903</td>\n",
              "      <td>연</td>\n",
              "    </tr>\n",
              "    <tr>\n",
              "      <th>44</th>\n",
              "      <td>00111218</td>\n",
              "      <td>KD</td>\n",
              "      <td>044180</td>\n",
              "      <td>K</td>\n",
              "      <td>[기재정정]반기보고서 (2021.06)</td>\n",
              "      <td>20210902000297</td>\n",
              "      <td>KD</td>\n",
              "      <td>20210902</td>\n",
              "      <td></td>\n",
              "    </tr>\n",
              "    <tr>\n",
              "      <th>99</th>\n",
              "      <td>01169434</td>\n",
              "      <td>오가닉티코스메틱</td>\n",
              "      <td>900300</td>\n",
              "      <td>K</td>\n",
              "      <td>반기보고서 (2021.06)</td>\n",
              "      <td>20210830000797</td>\n",
              "      <td>오가닉티코스메틱</td>\n",
              "      <td>20210830</td>\n",
              "      <td></td>\n",
              "    </tr>\n",
              "    <tr>\n",
              "      <th>1</th>\n",
              "      <td>01160512</td>\n",
              "      <td>헝셩그룹</td>\n",
              "      <td>900270</td>\n",
              "      <td>K</td>\n",
              "      <td>반기보고서 (2021.06)</td>\n",
              "      <td>20210830000763</td>\n",
              "      <td>헝셩그룹</td>\n",
              "      <td>20210830</td>\n",
              "      <td></td>\n",
              "    </tr>\n",
              "    <tr>\n",
              "      <th>4</th>\n",
              "      <td>01328639</td>\n",
              "      <td>윙입푸드</td>\n",
              "      <td>900340</td>\n",
              "      <td>K</td>\n",
              "      <td>반기보고서 (2021.06)</td>\n",
              "      <td>20210830000685</td>\n",
              "      <td>윙입푸드</td>\n",
              "      <td>20210830</td>\n",
              "      <td></td>\n",
              "    </tr>\n",
              "    <tr>\n",
              "      <th>24</th>\n",
              "      <td>01139266</td>\n",
              "      <td>로스웰</td>\n",
              "      <td>900260</td>\n",
              "      <td>K</td>\n",
              "      <td>반기보고서 (2021.06)</td>\n",
              "      <td>20210827000580</td>\n",
              "      <td>로스웰</td>\n",
              "      <td>20210827</td>\n",
              "      <td></td>\n",
              "    </tr>\n",
              "    <tr>\n",
              "      <th>27</th>\n",
              "      <td>00783246</td>\n",
              "      <td>글로벌에스엠</td>\n",
              "      <td>900070</td>\n",
              "      <td>K</td>\n",
              "      <td>반기보고서 (2021.06)</td>\n",
              "      <td>20210827000429</td>\n",
              "      <td>글로벌에스엠</td>\n",
              "      <td>20210827</td>\n",
              "      <td></td>\n",
              "    </tr>\n",
              "    <tr>\n",
              "      <th>38</th>\n",
              "      <td>00656021</td>\n",
              "      <td>시티랩스</td>\n",
              "      <td>139050</td>\n",
              "      <td>K</td>\n",
              "      <td>[기재정정]사업보고서 (2020.12)</td>\n",
              "      <td>20210826000406</td>\n",
              "      <td>시티랩스</td>\n",
              "      <td>20210826</td>\n",
              "      <td>연</td>\n",
              "    </tr>\n",
              "    <tr>\n",
              "      <th>40</th>\n",
              "      <td>01174038</td>\n",
              "      <td>자비스</td>\n",
              "      <td>254120</td>\n",
              "      <td>K</td>\n",
              "      <td>반기보고서 (2021.06)</td>\n",
              "      <td>20210826000384</td>\n",
              "      <td>자비스</td>\n",
              "      <td>20210826</td>\n",
              "      <td></td>\n",
              "    </tr>\n",
              "    <tr>\n",
              "      <th>51</th>\n",
              "      <td>00475718</td>\n",
              "      <td>이엠앤아이</td>\n",
              "      <td>083470</td>\n",
              "      <td>K</td>\n",
              "      <td>반기보고서 (2021.06)</td>\n",
              "      <td>20210824000369</td>\n",
              "      <td>이엠앤아이</td>\n",
              "      <td>20210824</td>\n",
              "      <td></td>\n",
              "    </tr>\n",
              "    <tr>\n",
              "      <th>52</th>\n",
              "      <td>01091382</td>\n",
              "      <td>마이더스AI</td>\n",
              "      <td>222810</td>\n",
              "      <td>K</td>\n",
              "      <td>반기보고서 (2021.06)</td>\n",
              "      <td>20210824000356</td>\n",
              "      <td>마이더스AI</td>\n",
              "      <td>20210824</td>\n",
              "      <td></td>\n",
              "    </tr>\n",
              "    <tr>\n",
              "      <th>53</th>\n",
              "      <td>00402989</td>\n",
              "      <td>코스온</td>\n",
              "      <td>069110</td>\n",
              "      <td>K</td>\n",
              "      <td>반기보고서 (2021.06)</td>\n",
              "      <td>20210824000307</td>\n",
              "      <td>코스온</td>\n",
              "      <td>20210824</td>\n",
              "      <td></td>\n",
              "    </tr>\n",
              "  </tbody>\n",
              "</table>\n",
              "</div>"
            ],
            "text/plain": [
              "   corp_code corp_name stock_code  ...    flr_nm  rcept_dt rm\n",
              "4   00818472       이큐셀     160600  ...       이큐셀  20210917  연\n",
              "5   00814786    스카이이앤엠     131100  ...    스카이이앤엠  20210917   \n",
              "9   00939942      포시에스     189690  ...      포시에스  20210917  연\n",
              "12  00138747      아세아텍     050860  ...      아세아텍  20210917   \n",
              "17  01101041     패션플랫폼     225590  ...     패션플랫폼  20210917   \n",
              "41  00957568  에스엘바이오닉스     214310  ...  에스엘바이오닉스  20210903   \n",
              "42  00642541    디엔에이링크     127120  ...    디엔에이링크  20210903  연\n",
              "44  00111218        KD     044180  ...        KD  20210902   \n",
              "99  01169434  오가닉티코스메틱     900300  ...  오가닉티코스메틱  20210830   \n",
              "1   01160512      헝셩그룹     900270  ...      헝셩그룹  20210830   \n",
              "4   01328639      윙입푸드     900340  ...      윙입푸드  20210830   \n",
              "24  01139266       로스웰     900260  ...       로스웰  20210827   \n",
              "27  00783246    글로벌에스엠     900070  ...    글로벌에스엠  20210827   \n",
              "38  00656021      시티랩스     139050  ...      시티랩스  20210826  연\n",
              "40  01174038       자비스     254120  ...       자비스  20210826   \n",
              "51  00475718     이엠앤아이     083470  ...     이엠앤아이  20210824   \n",
              "52  01091382    마이더스AI     222810  ...    마이더스AI  20210824   \n",
              "53  00402989       코스온     069110  ...       코스온  20210824   \n",
              "\n",
              "[18 rows x 9 columns]"
            ]
          },
          "metadata": {},
          "execution_count": 14
        }
      ]
    },
    {
      "cell_type": "code",
      "metadata": {
        "id": "tiB5txJHmJl8"
      },
      "source": [
        "def get_recent_finstate(corp_code='', year=2021):\n",
        "  quarters = ['11011', '11014', '11012', '11013']\n",
        "  for q in quarters:\n",
        "    # '11013'=1분기보고서, '11012'=반기보고서, '11014'=3분기보고서, '11011'=사업보고서\n",
        "    df = dart.finstate(corp_code, year, reprt_code=q)\n",
        "    if type(df) != type(None):\n",
        "      return df[df['fs_nm'] == '연결재무제표']"
      ],
      "execution_count": null,
      "outputs": []
    },
    {
      "cell_type": "code",
      "metadata": {
        "id": "H8AOQcuQDBO3"
      },
      "source": [
        "df = get_recent_finstate('00402989')\n",
        "is_df = df.loc[df['sj_nm'] == '손익계산서']"
      ],
      "execution_count": null,
      "outputs": []
    },
    {
      "cell_type": "code",
      "metadata": {
        "id": "3jcKI5N3g9-A"
      },
      "source": [
        "operating_profit = is_df[is_df['account_nm'].isin(['영업이익'])]"
      ],
      "execution_count": null,
      "outputs": []
    },
    {
      "cell_type": "code",
      "metadata": {
        "id": "lUGrqp-hsA0j"
      },
      "source": [
        "current = int(operating_profit['thstrm_amount'].values[0].replace(',',''))"
      ],
      "execution_count": null,
      "outputs": []
    },
    {
      "cell_type": "code",
      "metadata": {
        "id": "M_ej-Z3orbya"
      },
      "source": [
        "previous = int(operating_profit['frmtrm_amount'].values[0].replace(',',''))"
      ],
      "execution_count": null,
      "outputs": []
    },
    {
      "cell_type": "code",
      "metadata": {
        "id": "iYvsS1M0tiIc"
      },
      "source": [
        "50 100\n",
        "-100 -50\n",
        "-25 25\n",
        "\n",
        "100 50\n",
        "-50 -100\n",
        "25 -25\n",
        "\n"
      ],
      "execution_count": null,
      "outputs": []
    },
    {
      "cell_type": "code",
      "metadata": {
        "id": "CSOxoSrMp2ai"
      },
      "source": [
        "for code in out_df['corp_code']:\n",
        "  df = get_recent_finstate(code)\n",
        "  df.loc[df['sj_nm'] == '손익계산서']"
      ],
      "execution_count": null,
      "outputs": []
    }
  ]
}