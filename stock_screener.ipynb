{
  "nbformat": 4,
  "nbformat_minor": 0,
  "metadata": {
    "colab": {
      "name": "Untitled42.ipynb의 사본",
      "provenance": [],
      "collapsed_sections": [],
      "authorship_tag": "ABX9TyNLhf6ynTtK6N/3A7LM/hIn",
      "include_colab_link": true
    },
    "kernelspec": {
      "name": "python3",
      "display_name": "Python 3"
    },
    "language_info": {
      "name": "python"
    }
  },
  "cells": [
    {
      "cell_type": "markdown",
      "metadata": {
        "id": "view-in-github",
        "colab_type": "text"
      },
      "source": [
        "<a href=\"https://colab.research.google.com/github/yeonghun00/stock_public/blob/main/stock_screener.ipynb\" target=\"_parent\"><img src=\"https://colab.research.google.com/assets/colab-badge.svg\" alt=\"Open In Colab\"/></a>"
      ]
    },
    {
      "cell_type": "code",
      "metadata": {
        "id": "zmi7fOHryoUe"
      },
      "source": [
        "import pandas as pd\n",
        "import requests\n",
        "import datetime"
      ],
      "execution_count": 1,
      "outputs": []
    },
    {
      "cell_type": "code",
      "metadata": {
        "id": "mqVjHHsu4y6F"
      },
      "source": [
        "today = datetime.date.today().strftime('%Y%m%d')"
      ],
      "execution_count": 2,
      "outputs": []
    },
    {
      "cell_type": "code",
      "metadata": {
        "id": "0V0-Ij2vzvZQ"
      },
      "source": [
        "data = {\n",
        "    'mktId': 'KSQ',\n",
        "    'trdDd': today,\n",
        "    'money': '1',\n",
        "    'csvxls_isNo': 'false',\n",
        "    'name': 'fileDown',\n",
        "    'url': 'dbms/MDC/STAT/standard/MDCSTAT03901',\n",
        "}\n",
        "gen_url = 'http://data.krx.co.kr/comm/fileDn/GenerateOTP/generate.cmd'\n",
        "gen_key = requests.post(gen_url, data=data)"
      ],
      "execution_count": 3,
      "outputs": []
    },
    {
      "cell_type": "code",
      "metadata": {
        "id": "R6p_GfJ80iBh"
      },
      "source": [
        "down_url = 'http://data.krx.co.kr/comm/fileDn/download_csv/download.cmd'\n",
        "r = requests.post(down_url, data={'code':gen_key.text})\n",
        "r.encoding = 'EUC-KR'"
      ],
      "execution_count": 4,
      "outputs": []
    },
    {
      "cell_type": "code",
      "metadata": {
        "id": "-iIw9e1x3bV6"
      },
      "source": [
        "from io import StringIO\n",
        "\n",
        "df = pd.read_csv(StringIO(r.text))"
      ],
      "execution_count": 5,
      "outputs": []
    },
    {
      "cell_type": "code",
      "metadata": {
        "colab": {
          "base_uri": "https://localhost:8080/",
          "height": 419
        },
        "id": "pGKeWTaH4tO3",
        "outputId": "980ac1d1-447d-4995-a0e2-0f5ed4bd78e0"
      },
      "source": [
        "df"
      ],
      "execution_count": 6,
      "outputs": [
        {
          "output_type": "execute_result",
          "data": {
            "text/html": [
              "<div>\n",
              "<style scoped>\n",
              "    .dataframe tbody tr th:only-of-type {\n",
              "        vertical-align: middle;\n",
              "    }\n",
              "\n",
              "    .dataframe tbody tr th {\n",
              "        vertical-align: top;\n",
              "    }\n",
              "\n",
              "    .dataframe thead th {\n",
              "        text-align: right;\n",
              "    }\n",
              "</style>\n",
              "<table border=\"1\" class=\"dataframe\">\n",
              "  <thead>\n",
              "    <tr style=\"text-align: right;\">\n",
              "      <th></th>\n",
              "      <th>종목코드</th>\n",
              "      <th>종목명</th>\n",
              "      <th>시장구분</th>\n",
              "      <th>업종명</th>\n",
              "      <th>종가</th>\n",
              "      <th>대비</th>\n",
              "      <th>등락률</th>\n",
              "      <th>시가총액</th>\n",
              "    </tr>\n",
              "  </thead>\n",
              "  <tbody>\n",
              "    <tr>\n",
              "      <th>0</th>\n",
              "      <td>060310</td>\n",
              "      <td>3S</td>\n",
              "      <td>KOSDAQ</td>\n",
              "      <td>기계·장비</td>\n",
              "      <td>3950</td>\n",
              "      <td>-35</td>\n",
              "      <td>-0.88</td>\n",
              "      <td>182772476350</td>\n",
              "    </tr>\n",
              "    <tr>\n",
              "      <th>1</th>\n",
              "      <td>054620</td>\n",
              "      <td>APS홀딩스</td>\n",
              "      <td>KOSDAQ</td>\n",
              "      <td>금융</td>\n",
              "      <td>15950</td>\n",
              "      <td>250</td>\n",
              "      <td>1.59</td>\n",
              "      <td>325287824950</td>\n",
              "    </tr>\n",
              "    <tr>\n",
              "      <th>2</th>\n",
              "      <td>265520</td>\n",
              "      <td>AP시스템</td>\n",
              "      <td>KOSDAQ</td>\n",
              "      <td>반도체</td>\n",
              "      <td>24950</td>\n",
              "      <td>-1100</td>\n",
              "      <td>-4.22</td>\n",
              "      <td>361281663650</td>\n",
              "    </tr>\n",
              "    <tr>\n",
              "      <th>3</th>\n",
              "      <td>211270</td>\n",
              "      <td>AP위성</td>\n",
              "      <td>KOSDAQ</td>\n",
              "      <td>통신장비</td>\n",
              "      <td>16850</td>\n",
              "      <td>-600</td>\n",
              "      <td>-3.44</td>\n",
              "      <td>254136822400</td>\n",
              "    </tr>\n",
              "    <tr>\n",
              "      <th>4</th>\n",
              "      <td>013720</td>\n",
              "      <td>CBI</td>\n",
              "      <td>KOSDAQ</td>\n",
              "      <td>운송장비·부품</td>\n",
              "      <td>2750</td>\n",
              "      <td>-580</td>\n",
              "      <td>-17.42</td>\n",
              "      <td>139418881250</td>\n",
              "    </tr>\n",
              "    <tr>\n",
              "      <th>...</th>\n",
              "      <td>...</td>\n",
              "      <td>...</td>\n",
              "      <td>...</td>\n",
              "      <td>...</td>\n",
              "      <td>...</td>\n",
              "      <td>...</td>\n",
              "      <td>...</td>\n",
              "      <td>...</td>\n",
              "    </tr>\n",
              "    <tr>\n",
              "      <th>1511</th>\n",
              "      <td>024060</td>\n",
              "      <td>흥구석유</td>\n",
              "      <td>KOSDAQ</td>\n",
              "      <td>유통</td>\n",
              "      <td>7960</td>\n",
              "      <td>-90</td>\n",
              "      <td>-1.12</td>\n",
              "      <td>119400000000</td>\n",
              "    </tr>\n",
              "    <tr>\n",
              "      <th>1512</th>\n",
              "      <td>010240</td>\n",
              "      <td>흥국</td>\n",
              "      <td>KOSDAQ</td>\n",
              "      <td>기계·장비</td>\n",
              "      <td>9100</td>\n",
              "      <td>-230</td>\n",
              "      <td>-2.47</td>\n",
              "      <td>112136533600</td>\n",
              "    </tr>\n",
              "    <tr>\n",
              "      <th>1513</th>\n",
              "      <td>189980</td>\n",
              "      <td>흥국에프엔비</td>\n",
              "      <td>KOSDAQ</td>\n",
              "      <td>음식료·담배</td>\n",
              "      <td>3230</td>\n",
              "      <td>-110</td>\n",
              "      <td>-3.29</td>\n",
              "      <td>123990420210</td>\n",
              "    </tr>\n",
              "    <tr>\n",
              "      <th>1514</th>\n",
              "      <td>037440</td>\n",
              "      <td>희림</td>\n",
              "      <td>KOSDAQ</td>\n",
              "      <td>기타서비스</td>\n",
              "      <td>6650</td>\n",
              "      <td>-210</td>\n",
              "      <td>-3.06</td>\n",
              "      <td>92584458750</td>\n",
              "    </tr>\n",
              "    <tr>\n",
              "      <th>1515</th>\n",
              "      <td>238490</td>\n",
              "      <td>힘스</td>\n",
              "      <td>KOSDAQ</td>\n",
              "      <td>반도체</td>\n",
              "      <td>8900</td>\n",
              "      <td>-180</td>\n",
              "      <td>-1.98</td>\n",
              "      <td>100678900400</td>\n",
              "    </tr>\n",
              "  </tbody>\n",
              "</table>\n",
              "<p>1516 rows × 8 columns</p>\n",
              "</div>"
            ],
            "text/plain": [
              "        종목코드     종목명    시장구분      업종명     종가    대비    등락률          시가총액\n",
              "0     060310      3S  KOSDAQ    기계·장비   3950   -35  -0.88  182772476350\n",
              "1     054620  APS홀딩스  KOSDAQ       금융  15950   250   1.59  325287824950\n",
              "2     265520   AP시스템  KOSDAQ      반도체  24950 -1100  -4.22  361281663650\n",
              "3     211270    AP위성  KOSDAQ     통신장비  16850  -600  -3.44  254136822400\n",
              "4     013720     CBI  KOSDAQ  운송장비·부품   2750  -580 -17.42  139418881250\n",
              "...      ...     ...     ...      ...    ...   ...    ...           ...\n",
              "1511  024060    흥구석유  KOSDAQ       유통   7960   -90  -1.12  119400000000\n",
              "1512  010240      흥국  KOSDAQ    기계·장비   9100  -230  -2.47  112136533600\n",
              "1513  189980  흥국에프엔비  KOSDAQ   음식료·담배   3230  -110  -3.29  123990420210\n",
              "1514  037440      희림  KOSDAQ    기타서비스   6650  -210  -3.06   92584458750\n",
              "1515  238490      힘스  KOSDAQ      반도체   8900  -180  -1.98  100678900400\n",
              "\n",
              "[1516 rows x 8 columns]"
            ]
          },
          "metadata": {},
          "execution_count": 6
        }
      ]
    },
    {
      "cell_type": "code",
      "metadata": {
        "colab": {
          "base_uri": "https://localhost:8080/",
          "height": 35
        },
        "id": "64ycsBGq_KoU",
        "outputId": "a83e42fd-6fe8-4a72-f901-cc680c63bee3"
      },
      "source": [
        "'''\n",
        "%%timeit\n",
        "df.loc[df['시가총액'].between(30000000000,70000000000), '종목명']\n",
        "\n",
        "%%timeit\n",
        "df[df['시가총액'].between(30000000000,70000000000)]['종목명']\n",
        "'''"
      ],
      "execution_count": 7,
      "outputs": [
        {
          "output_type": "execute_result",
          "data": {
            "application/vnd.google.colaboratory.intrinsic+json": {
              "type": "string"
            },
            "text/plain": [
              "\"\\n%%timeit\\ndf.loc[df['시가총액'].between(30000000000,70000000000), '종목명']\\n\\n%%timeit\\ndf[df['시가총액'].between(30000000000,70000000000)]['종목명']\\n\""
            ]
          },
          "metadata": {},
          "execution_count": 7
        }
      ]
    },
    {
      "cell_type": "code",
      "metadata": {
        "colab": {
          "base_uri": "https://localhost:8080/",
          "height": 419
        },
        "id": "MYPfNbln4t7G",
        "outputId": "714e1732-ddbd-483c-d60f-c7e7f1928aa5"
      },
      "source": [
        "boundary = df.loc[df['시가총액'].between(30000000000,70000000000)]\n",
        "boundary"
      ],
      "execution_count": 8,
      "outputs": [
        {
          "output_type": "execute_result",
          "data": {
            "text/html": [
              "<div>\n",
              "<style scoped>\n",
              "    .dataframe tbody tr th:only-of-type {\n",
              "        vertical-align: middle;\n",
              "    }\n",
              "\n",
              "    .dataframe tbody tr th {\n",
              "        vertical-align: top;\n",
              "    }\n",
              "\n",
              "    .dataframe thead th {\n",
              "        text-align: right;\n",
              "    }\n",
              "</style>\n",
              "<table border=\"1\" class=\"dataframe\">\n",
              "  <thead>\n",
              "    <tr style=\"text-align: right;\">\n",
              "      <th></th>\n",
              "      <th>종목코드</th>\n",
              "      <th>종목명</th>\n",
              "      <th>시장구분</th>\n",
              "      <th>업종명</th>\n",
              "      <th>종가</th>\n",
              "      <th>대비</th>\n",
              "      <th>등락률</th>\n",
              "      <th>시가총액</th>\n",
              "    </tr>\n",
              "  </thead>\n",
              "  <tbody>\n",
              "    <tr>\n",
              "      <th>10</th>\n",
              "      <td>056000</td>\n",
              "      <td>COWON</td>\n",
              "      <td>KOSDAQ</td>\n",
              "      <td>디지털컨텐츠</td>\n",
              "      <td>2860</td>\n",
              "      <td>0</td>\n",
              "      <td>0.00</td>\n",
              "      <td>56399843500</td>\n",
              "    </tr>\n",
              "    <tr>\n",
              "      <th>12</th>\n",
              "      <td>083660</td>\n",
              "      <td>CSA 코스믹</td>\n",
              "      <td>KOSDAQ</td>\n",
              "      <td>화학</td>\n",
              "      <td>1480</td>\n",
              "      <td>-5</td>\n",
              "      <td>-0.34</td>\n",
              "      <td>56142488720</td>\n",
              "    </tr>\n",
              "    <tr>\n",
              "      <th>20</th>\n",
              "      <td>050120</td>\n",
              "      <td>ES큐브</td>\n",
              "      <td>KOSDAQ</td>\n",
              "      <td>유통</td>\n",
              "      <td>4535</td>\n",
              "      <td>-65</td>\n",
              "      <td>-1.41</td>\n",
              "      <td>61513130010</td>\n",
              "    </tr>\n",
              "    <tr>\n",
              "      <th>21</th>\n",
              "      <td>130500</td>\n",
              "      <td>GH신소재</td>\n",
              "      <td>KOSDAQ</td>\n",
              "      <td>섬유·의류</td>\n",
              "      <td>6270</td>\n",
              "      <td>-340</td>\n",
              "      <td>-5.14</td>\n",
              "      <td>68970000000</td>\n",
              "    </tr>\n",
              "    <tr>\n",
              "      <th>22</th>\n",
              "      <td>900290</td>\n",
              "      <td>GRT</td>\n",
              "      <td>KOSDAQ</td>\n",
              "      <td>금융</td>\n",
              "      <td>951</td>\n",
              "      <td>0</td>\n",
              "      <td>0.00</td>\n",
              "      <td>64073625000</td>\n",
              "    </tr>\n",
              "    <tr>\n",
              "      <th>...</th>\n",
              "      <td>...</td>\n",
              "      <td>...</td>\n",
              "      <td>...</td>\n",
              "      <td>...</td>\n",
              "      <td>...</td>\n",
              "      <td>...</td>\n",
              "      <td>...</td>\n",
              "      <td>...</td>\n",
              "    </tr>\n",
              "    <tr>\n",
              "      <th>1467</th>\n",
              "      <td>002680</td>\n",
              "      <td>한탑</td>\n",
              "      <td>KOSDAQ</td>\n",
              "      <td>음식료·담배</td>\n",
              "      <td>1325</td>\n",
              "      <td>-40</td>\n",
              "      <td>-2.93</td>\n",
              "      <td>37457734100</td>\n",
              "    </tr>\n",
              "    <tr>\n",
              "      <th>1475</th>\n",
              "      <td>220180</td>\n",
              "      <td>핸디소프트</td>\n",
              "      <td>KOSDAQ</td>\n",
              "      <td>소프트웨어</td>\n",
              "      <td>3605</td>\n",
              "      <td>-140</td>\n",
              "      <td>-3.74</td>\n",
              "      <td>69965840000</td>\n",
              "    </tr>\n",
              "    <tr>\n",
              "      <th>1476</th>\n",
              "      <td>900270</td>\n",
              "      <td>헝셩그룹</td>\n",
              "      <td>KOSDAQ</td>\n",
              "      <td>금융</td>\n",
              "      <td>489</td>\n",
              "      <td>-11</td>\n",
              "      <td>-2.20</td>\n",
              "      <td>39120000000</td>\n",
              "    </tr>\n",
              "    <tr>\n",
              "      <th>1489</th>\n",
              "      <td>011080</td>\n",
              "      <td>형지I&amp;C</td>\n",
              "      <td>KOSDAQ</td>\n",
              "      <td>섬유·의류</td>\n",
              "      <td>1370</td>\n",
              "      <td>-40</td>\n",
              "      <td>-2.84</td>\n",
              "      <td>53369265160</td>\n",
              "    </tr>\n",
              "    <tr>\n",
              "      <th>1497</th>\n",
              "      <td>290270</td>\n",
              "      <td>휴네시온</td>\n",
              "      <td>KOSDAQ</td>\n",
              "      <td>소프트웨어</td>\n",
              "      <td>5800</td>\n",
              "      <td>-110</td>\n",
              "      <td>-1.86</td>\n",
              "      <td>55724497600</td>\n",
              "    </tr>\n",
              "  </tbody>\n",
              "</table>\n",
              "<p>235 rows × 8 columns</p>\n",
              "</div>"
            ],
            "text/plain": [
              "        종목코드      종목명    시장구분     업종명    종가   대비   등락률         시가총액\n",
              "10    056000    COWON  KOSDAQ  디지털컨텐츠  2860    0  0.00  56399843500\n",
              "12    083660  CSA 코스믹  KOSDAQ      화학  1480   -5 -0.34  56142488720\n",
              "20    050120     ES큐브  KOSDAQ      유통  4535  -65 -1.41  61513130010\n",
              "21    130500    GH신소재  KOSDAQ   섬유·의류  6270 -340 -5.14  68970000000\n",
              "22    900290      GRT  KOSDAQ      금융   951    0  0.00  64073625000\n",
              "...      ...      ...     ...     ...   ...  ...   ...          ...\n",
              "1467  002680       한탑  KOSDAQ  음식료·담배  1325  -40 -2.93  37457734100\n",
              "1475  220180    핸디소프트  KOSDAQ   소프트웨어  3605 -140 -3.74  69965840000\n",
              "1476  900270     헝셩그룹  KOSDAQ      금융   489  -11 -2.20  39120000000\n",
              "1489  011080    형지I&C  KOSDAQ   섬유·의류  1370  -40 -2.84  53369265160\n",
              "1497  290270     휴네시온  KOSDAQ   소프트웨어  5800 -110 -1.86  55724497600\n",
              "\n",
              "[235 rows x 8 columns]"
            ]
          },
          "metadata": {},
          "execution_count": 8
        }
      ]
    },
    {
      "cell_type": "code",
      "metadata": {
        "colab": {
          "base_uri": "https://localhost:8080/"
        },
        "id": "eNGvGhxM7tcF",
        "outputId": "b08dd3e0-7e35-455f-805d-fd1766b0617c"
      },
      "source": [
        "!pip install OpenDartReader"
      ],
      "execution_count": 9,
      "outputs": [
        {
          "output_type": "stream",
          "name": "stdout",
          "text": [
            "Requirement already satisfied: OpenDartReader in /usr/local/lib/python3.7/dist-packages (0.1.6)\n",
            "Requirement already satisfied: requests>=2.3.0 in /usr/local/lib/python3.7/dist-packages (from OpenDartReader) (2.23.0)\n",
            "Requirement already satisfied: lxml in /usr/local/lib/python3.7/dist-packages (from OpenDartReader) (4.2.6)\n",
            "Requirement already satisfied: pandas>=0.19.2 in /usr/local/lib/python3.7/dist-packages (from OpenDartReader) (1.1.5)\n",
            "Requirement already satisfied: requests-file in /usr/local/lib/python3.7/dist-packages (from OpenDartReader) (1.5.1)\n",
            "Requirement already satisfied: numpy>=1.15.4 in /usr/local/lib/python3.7/dist-packages (from pandas>=0.19.2->OpenDartReader) (1.19.5)\n",
            "Requirement already satisfied: pytz>=2017.2 in /usr/local/lib/python3.7/dist-packages (from pandas>=0.19.2->OpenDartReader) (2018.9)\n",
            "Requirement already satisfied: python-dateutil>=2.7.3 in /usr/local/lib/python3.7/dist-packages (from pandas>=0.19.2->OpenDartReader) (2.8.2)\n",
            "Requirement already satisfied: six>=1.5 in /usr/local/lib/python3.7/dist-packages (from python-dateutil>=2.7.3->pandas>=0.19.2->OpenDartReader) (1.15.0)\n",
            "Requirement already satisfied: chardet<4,>=3.0.2 in /usr/local/lib/python3.7/dist-packages (from requests>=2.3.0->OpenDartReader) (3.0.4)\n",
            "Requirement already satisfied: urllib3!=1.25.0,!=1.25.1,<1.26,>=1.21.1 in /usr/local/lib/python3.7/dist-packages (from requests>=2.3.0->OpenDartReader) (1.24.3)\n",
            "Requirement already satisfied: certifi>=2017.4.17 in /usr/local/lib/python3.7/dist-packages (from requests>=2.3.0->OpenDartReader) (2021.5.30)\n",
            "Requirement already satisfied: idna<3,>=2.5 in /usr/local/lib/python3.7/dist-packages (from requests>=2.3.0->OpenDartReader) (2.10)\n"
          ]
        }
      ]
    },
    {
      "cell_type": "code",
      "metadata": {
        "id": "dQ_DIob25uIU"
      },
      "source": [
        "import OpenDartReader\n",
        "\n",
        "api_key = '4b0512c473e52e1cf59f8ce8380b2b30904f381a'\n",
        "dart = OpenDartReader(api_key) "
      ],
      "execution_count": 10,
      "outputs": []
    },
    {
      "cell_type": "code",
      "metadata": {
        "id": "i0bpkXZL-Qt7",
        "colab": {
          "base_uri": "https://localhost:8080/",
          "height": 35
        },
        "outputId": "e6bed177-566e-438a-8fb0-93f6fd853649"
      },
      "source": [
        "'''\n",
        "search_start = '2021-08-01'\n",
        "search_end = '2021-10-01'\n",
        "'''\n",
        "\n",
        "search_date = datetime.date.today().strftime('%Y-%m-%d')"
      ],
      "execution_count": 11,
      "outputs": [
        {
          "output_type": "execute_result",
          "data": {
            "application/vnd.google.colaboratory.intrinsic+json": {
              "type": "string"
            },
            "text/plain": [
              "\"\\nsearch_start = '2021-08-01'\\nsearch_end = '2021-10-01'\\n\""
            ]
          },
          "metadata": {},
          "execution_count": 11
        }
      ]
    },
    {
      "cell_type": "code",
      "metadata": {
        "id": "xt0eXFXu8Rh0",
        "colab": {
          "base_uri": "https://localhost:8080/",
          "height": 579
        },
        "outputId": "68d35dbe-4c9c-4802-95b0-9e613bcbe1ef"
      },
      "source": [
        "dart_df = dart.list(start=search_date, end=search_date, kind='A')\n",
        "found = list(set(dart_df['stock_code']).intersection(set(boundary['종목코드'])))\n",
        "out_df = dart_df[dart_df['stock_code'].isin(found)]"
      ],
      "execution_count": 12,
      "outputs": [
        {
          "output_type": "stream",
          "name": "stdout",
          "text": [
            "{\"status\":\"013\",\"message\":\"조회된 데이타가 없습니다.\"}\n"
          ]
        },
        {
          "output_type": "error",
          "ename": "KeyError",
          "evalue": "ignored",
          "traceback": [
            "\u001b[0;31m---------------------------------------------------------------------------\u001b[0m",
            "\u001b[0;31mKeyError\u001b[0m                                  Traceback (most recent call last)",
            "\u001b[0;32m/usr/local/lib/python3.7/dist-packages/pandas/core/indexes/base.py\u001b[0m in \u001b[0;36mget_loc\u001b[0;34m(self, key, method, tolerance)\u001b[0m\n\u001b[1;32m   2897\u001b[0m             \u001b[0;32mtry\u001b[0m\u001b[0;34m:\u001b[0m\u001b[0;34m\u001b[0m\u001b[0;34m\u001b[0m\u001b[0m\n\u001b[0;32m-> 2898\u001b[0;31m                 \u001b[0;32mreturn\u001b[0m \u001b[0mself\u001b[0m\u001b[0;34m.\u001b[0m\u001b[0m_engine\u001b[0m\u001b[0;34m.\u001b[0m\u001b[0mget_loc\u001b[0m\u001b[0;34m(\u001b[0m\u001b[0mcasted_key\u001b[0m\u001b[0;34m)\u001b[0m\u001b[0;34m\u001b[0m\u001b[0;34m\u001b[0m\u001b[0m\n\u001b[0m\u001b[1;32m   2899\u001b[0m             \u001b[0;32mexcept\u001b[0m \u001b[0mKeyError\u001b[0m \u001b[0;32mas\u001b[0m \u001b[0merr\u001b[0m\u001b[0;34m:\u001b[0m\u001b[0;34m\u001b[0m\u001b[0;34m\u001b[0m\u001b[0m\n",
            "\u001b[0;32mpandas/_libs/index.pyx\u001b[0m in \u001b[0;36mpandas._libs.index.IndexEngine.get_loc\u001b[0;34m()\u001b[0m\n",
            "\u001b[0;32mpandas/_libs/index.pyx\u001b[0m in \u001b[0;36mpandas._libs.index.IndexEngine.get_loc\u001b[0;34m()\u001b[0m\n",
            "\u001b[0;32mpandas/_libs/hashtable_class_helper.pxi\u001b[0m in \u001b[0;36mpandas._libs.hashtable.PyObjectHashTable.get_item\u001b[0;34m()\u001b[0m\n",
            "\u001b[0;32mpandas/_libs/hashtable_class_helper.pxi\u001b[0m in \u001b[0;36mpandas._libs.hashtable.PyObjectHashTable.get_item\u001b[0;34m()\u001b[0m\n",
            "\u001b[0;31mKeyError\u001b[0m: 'stock_code'",
            "\nThe above exception was the direct cause of the following exception:\n",
            "\u001b[0;31mKeyError\u001b[0m                                  Traceback (most recent call last)",
            "\u001b[0;32m<ipython-input-12-5dfe6457a254>\u001b[0m in \u001b[0;36m<module>\u001b[0;34m()\u001b[0m\n\u001b[1;32m      1\u001b[0m \u001b[0mdart_df\u001b[0m \u001b[0;34m=\u001b[0m \u001b[0mdart\u001b[0m\u001b[0;34m.\u001b[0m\u001b[0mlist\u001b[0m\u001b[0;34m(\u001b[0m\u001b[0mstart\u001b[0m\u001b[0;34m=\u001b[0m\u001b[0msearch_date\u001b[0m\u001b[0;34m,\u001b[0m \u001b[0mend\u001b[0m\u001b[0;34m=\u001b[0m\u001b[0msearch_date\u001b[0m\u001b[0;34m,\u001b[0m \u001b[0mkind\u001b[0m\u001b[0;34m=\u001b[0m\u001b[0;34m'A'\u001b[0m\u001b[0;34m)\u001b[0m\u001b[0;34m\u001b[0m\u001b[0;34m\u001b[0m\u001b[0m\n\u001b[0;32m----> 2\u001b[0;31m \u001b[0mfound\u001b[0m \u001b[0;34m=\u001b[0m \u001b[0mlist\u001b[0m\u001b[0;34m(\u001b[0m\u001b[0mset\u001b[0m\u001b[0;34m(\u001b[0m\u001b[0mdart_df\u001b[0m\u001b[0;34m[\u001b[0m\u001b[0;34m'stock_code'\u001b[0m\u001b[0;34m]\u001b[0m\u001b[0;34m)\u001b[0m\u001b[0;34m.\u001b[0m\u001b[0mintersection\u001b[0m\u001b[0;34m(\u001b[0m\u001b[0mset\u001b[0m\u001b[0;34m(\u001b[0m\u001b[0mboundary\u001b[0m\u001b[0;34m[\u001b[0m\u001b[0;34m'종목코드'\u001b[0m\u001b[0;34m]\u001b[0m\u001b[0;34m)\u001b[0m\u001b[0;34m)\u001b[0m\u001b[0;34m)\u001b[0m\u001b[0;34m\u001b[0m\u001b[0;34m\u001b[0m\u001b[0m\n\u001b[0m\u001b[1;32m      3\u001b[0m \u001b[0mout_df\u001b[0m \u001b[0;34m=\u001b[0m \u001b[0mdart_df\u001b[0m\u001b[0;34m[\u001b[0m\u001b[0mdart_df\u001b[0m\u001b[0;34m[\u001b[0m\u001b[0;34m'stock_code'\u001b[0m\u001b[0;34m]\u001b[0m\u001b[0;34m.\u001b[0m\u001b[0misin\u001b[0m\u001b[0;34m(\u001b[0m\u001b[0mfound\u001b[0m\u001b[0;34m)\u001b[0m\u001b[0;34m]\u001b[0m\u001b[0;34m\u001b[0m\u001b[0;34m\u001b[0m\u001b[0m\n",
            "\u001b[0;32m/usr/local/lib/python3.7/dist-packages/pandas/core/frame.py\u001b[0m in \u001b[0;36m__getitem__\u001b[0;34m(self, key)\u001b[0m\n\u001b[1;32m   2904\u001b[0m             \u001b[0;32mif\u001b[0m \u001b[0mself\u001b[0m\u001b[0;34m.\u001b[0m\u001b[0mcolumns\u001b[0m\u001b[0;34m.\u001b[0m\u001b[0mnlevels\u001b[0m \u001b[0;34m>\u001b[0m \u001b[0;36m1\u001b[0m\u001b[0;34m:\u001b[0m\u001b[0;34m\u001b[0m\u001b[0;34m\u001b[0m\u001b[0m\n\u001b[1;32m   2905\u001b[0m                 \u001b[0;32mreturn\u001b[0m \u001b[0mself\u001b[0m\u001b[0;34m.\u001b[0m\u001b[0m_getitem_multilevel\u001b[0m\u001b[0;34m(\u001b[0m\u001b[0mkey\u001b[0m\u001b[0;34m)\u001b[0m\u001b[0;34m\u001b[0m\u001b[0;34m\u001b[0m\u001b[0m\n\u001b[0;32m-> 2906\u001b[0;31m             \u001b[0mindexer\u001b[0m \u001b[0;34m=\u001b[0m \u001b[0mself\u001b[0m\u001b[0;34m.\u001b[0m\u001b[0mcolumns\u001b[0m\u001b[0;34m.\u001b[0m\u001b[0mget_loc\u001b[0m\u001b[0;34m(\u001b[0m\u001b[0mkey\u001b[0m\u001b[0;34m)\u001b[0m\u001b[0;34m\u001b[0m\u001b[0;34m\u001b[0m\u001b[0m\n\u001b[0m\u001b[1;32m   2907\u001b[0m             \u001b[0;32mif\u001b[0m \u001b[0mis_integer\u001b[0m\u001b[0;34m(\u001b[0m\u001b[0mindexer\u001b[0m\u001b[0;34m)\u001b[0m\u001b[0;34m:\u001b[0m\u001b[0;34m\u001b[0m\u001b[0;34m\u001b[0m\u001b[0m\n\u001b[1;32m   2908\u001b[0m                 \u001b[0mindexer\u001b[0m \u001b[0;34m=\u001b[0m \u001b[0;34m[\u001b[0m\u001b[0mindexer\u001b[0m\u001b[0;34m]\u001b[0m\u001b[0;34m\u001b[0m\u001b[0;34m\u001b[0m\u001b[0m\n",
            "\u001b[0;32m/usr/local/lib/python3.7/dist-packages/pandas/core/indexes/base.py\u001b[0m in \u001b[0;36mget_loc\u001b[0;34m(self, key, method, tolerance)\u001b[0m\n\u001b[1;32m   2898\u001b[0m                 \u001b[0;32mreturn\u001b[0m \u001b[0mself\u001b[0m\u001b[0;34m.\u001b[0m\u001b[0m_engine\u001b[0m\u001b[0;34m.\u001b[0m\u001b[0mget_loc\u001b[0m\u001b[0;34m(\u001b[0m\u001b[0mcasted_key\u001b[0m\u001b[0;34m)\u001b[0m\u001b[0;34m\u001b[0m\u001b[0;34m\u001b[0m\u001b[0m\n\u001b[1;32m   2899\u001b[0m             \u001b[0;32mexcept\u001b[0m \u001b[0mKeyError\u001b[0m \u001b[0;32mas\u001b[0m \u001b[0merr\u001b[0m\u001b[0;34m:\u001b[0m\u001b[0;34m\u001b[0m\u001b[0;34m\u001b[0m\u001b[0m\n\u001b[0;32m-> 2900\u001b[0;31m                 \u001b[0;32mraise\u001b[0m \u001b[0mKeyError\u001b[0m\u001b[0;34m(\u001b[0m\u001b[0mkey\u001b[0m\u001b[0;34m)\u001b[0m \u001b[0;32mfrom\u001b[0m \u001b[0merr\u001b[0m\u001b[0;34m\u001b[0m\u001b[0;34m\u001b[0m\u001b[0m\n\u001b[0m\u001b[1;32m   2901\u001b[0m \u001b[0;34m\u001b[0m\u001b[0m\n\u001b[1;32m   2902\u001b[0m         \u001b[0;32mif\u001b[0m \u001b[0mtolerance\u001b[0m \u001b[0;32mis\u001b[0m \u001b[0;32mnot\u001b[0m \u001b[0;32mNone\u001b[0m\u001b[0;34m:\u001b[0m\u001b[0;34m\u001b[0m\u001b[0;34m\u001b[0m\u001b[0m\n",
            "\u001b[0;31mKeyError\u001b[0m: 'stock_code'"
          ]
        }
      ]
    },
    {
      "cell_type": "code",
      "metadata": {
        "id": "tiB5txJHmJl8"
      },
      "source": [
        "def get_recent_finstate(corp_code='', year=2021):\n",
        "  quarters = ['11011', '11014', '11012', '11013']\n",
        "  for q in quarters:\n",
        "    # '11013'=1분기보고서, '11012'=반기보고서, '11014'=3분기보고서, '11011'=사업보고서\n",
        "    df = dart.finstate(corp_code, year, reprt_code=q)\n",
        "    if type(df) != type(None):\n",
        "      return df[df['fs_nm'] == '연결재무제표']"
      ],
      "execution_count": null,
      "outputs": []
    },
    {
      "cell_type": "code",
      "metadata": {
        "id": "nwIzVhoyDd_H"
      },
      "source": [
        "def get_incomestatement(df):\n",
        "  is_df = df.loc[df['sj_nm'] == '손익계산서']\n",
        "  try:\n",
        "    t = is_df[['rcept_no', 'thstrm_dt','account_nm', 'thstrm_amount', 'frmtrm_amount', 'thstrm_add_amount', 'frmtrm_add_amount']]\n",
        "    t.columns = ['published_date', 'date', 'name', 'current03', 'previous03', 'current12', 'previous12']\n",
        "  except:\n",
        "    t = is_df[['rcept_no', 'thstrm_dt','account_nm', 'thstrm_amount', 'frmtrm_amount']]\n",
        "    t.columns = ['published_date', 'date', 'name', 'current03', 'previous03']\n",
        "  return t\n",
        "\n",
        "def get_is_score(is_df):\n",
        "  is_score = {}\n",
        "  for n in is_df['name']:\n",
        "    current = str_int(is_df.loc[is_df['name'] == n, 'current03'].values[0])\n",
        "    previous = str_int(is_df.loc[is_df['name'] == n, 'previous03'].values[0])\n",
        "    is_score[n] = get_growth_rate(previous, current)\n",
        "  return is_score"
      ],
      "execution_count": null,
      "outputs": []
    },
    {
      "cell_type": "code",
      "metadata": {
        "id": "gI_54F5bI55D"
      },
      "source": [
        "def get_balancesheet(df):\n",
        "  bs_df = df.loc[df['sj_nm'] == '재무상태표']\n",
        "  t = bs_df[['rcept_no', 'thstrm_dt','account_nm', 'thstrm_amount', 'frmtrm_amount']]\n",
        "  t.columns = ['published_date', 'date', 'name', 'current03', 'previous03']\n",
        "  return t\n",
        "\n",
        "def get_bs_score(bs_df):\n",
        "  bs_score = {}\n",
        "  for n in bs_df['name']:\n",
        "    current = str_int(bs_df.loc[bs_df['name'] == n, 'current03'].values[0])\n",
        "    previous = str_int(bs_df.loc[bs_df['name'] == n, 'previous03'].values[0])\n",
        "    bs_score[n] = get_growth_rate(previous, current)\n",
        "  return bs_score"
      ],
      "execution_count": null,
      "outputs": []
    },
    {
      "cell_type": "code",
      "metadata": {
        "id": "dyOzUS0dJw8t"
      },
      "source": [
        "def get_growth_rate(previous, current):\n",
        "  return (current-previous)/abs(previous)\n",
        "\n",
        "def str_int(s):\n",
        "  return int(s.replace(',',''))"
      ],
      "execution_count": null,
      "outputs": []
    },
    {
      "cell_type": "code",
      "metadata": {
        "id": "FLwAxZuQm7VP"
      },
      "source": [
        "df = get_recent_finstate('290270')\n",
        "is_df = get_incomestatement(df)\n",
        "is_score = get_is_score(is_df)\n",
        "\n",
        "bs_df = get_balancesheet(df)\n",
        "bs_score = get_bs_score(bs_df)"
      ],
      "execution_count": null,
      "outputs": []
    },
    {
      "cell_type": "code",
      "metadata": {
        "id": "PtNLUieJOC5Z"
      },
      "source": [
        "for code in out_df['corp_code']:\n",
        "  try:\n",
        "    df = get_recent_finstate(code)\n",
        "    is_df = get_incomestatement(df)\n",
        "    is_score = get_is_score(is_df)\n",
        "\n",
        "    bs_df = get_balancesheet(df)\n",
        "    bs_score = get_bs_score(bs_df)\n",
        "\n",
        "    date = out_df.loc[out_df['corp_code'] == code, 'rcept_dt'].values[0]\n",
        "    name = out_df.loc[out_df['corp_code'] == code, 'corp_name'].values[0]\n",
        "    print(date)\n",
        "    print(name)\n",
        "    print(is_score)\n",
        "    print(bs_score)\n",
        "    print()\n",
        "\n",
        "    t = is_score\n",
        "    t.update(bs_score)\n",
        "    score_dic[name] = t\n",
        "  except:\n",
        "    print('ERROR', name)\n",
        "    print()"
      ],
      "execution_count": null,
      "outputs": []
    },
    {
      "cell_type": "code",
      "metadata": {
        "id": "vdnfxR2Rkxcz"
      },
      "source": [
        "score_df = pd.DataFrame(score_dic).T\n",
        "score_df"
      ],
      "execution_count": null,
      "outputs": []
    },
    {
      "cell_type": "code",
      "metadata": {
        "id": "sytNSvCDMT2u"
      },
      "source": [
        "score_df.sort_values(by=['영업이익', '매출액'], ascending=False).head(10)"
      ],
      "execution_count": null,
      "outputs": []
    },
    {
      "cell_type": "code",
      "metadata": {
        "id": "6ihBMHfjOjN8"
      },
      "source": [
        ""
      ],
      "execution_count": null,
      "outputs": []
    }
  ]
}