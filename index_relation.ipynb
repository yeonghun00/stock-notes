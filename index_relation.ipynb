{
  "nbformat": 4,
  "nbformat_minor": 0,
  "metadata": {
    "colab": {
      "name": "index relation.ipynb",
      "provenance": [],
      "authorship_tag": "ABX9TyPuF7kn+2qvuzeUz6reZTtB",
      "include_colab_link": true
    },
    "kernelspec": {
      "name": "python3",
      "display_name": "Python 3"
    },
    "language_info": {
      "name": "python"
    }
  },
  "cells": [
    {
      "cell_type": "markdown",
      "metadata": {
        "id": "view-in-github",
        "colab_type": "text"
      },
      "source": [
        "<a href=\"https://colab.research.google.com/github/yeonghun00/stock_public/blob/main/index_relation.ipynb\" target=\"_parent\"><img src=\"https://colab.research.google.com/assets/colab-badge.svg\" alt=\"Open In Colab\"/></a>"
      ]
    },
    {
      "cell_type": "code",
      "metadata": {
        "id": "rQnAuUqRKjJh"
      },
      "source": [
        "import requests\n",
        "from bs4 import BeautifulSoup\n",
        "import pandas as pd\n",
        "import numpy as np\n",
        "import datetime\n",
        "import ast\n",
        "\n",
        "class Stock:\n",
        "  def __init__(self, code):\n",
        "    self.code = code\n",
        "    self.headers = {'User-Agent' : 'Mozilla/5.0 (Macintosh; Intel Mac OS X 10_14_6) AppleWebKit/537.36 (KHTML, like Gecko) Chrome/85.0.4183.121 Safari/537.36'}\n",
        "\n",
        "  def get_price(self, start:int='20180501', interval='day'):\n",
        "    url ='https://api.finance.naver.com/siseJson.naver?symbol=' + self.code + ' &requestType=1&startTime=' \\\n",
        "    + start + '&endTime=' + str(datetime.datetime.now().date().strftime(\"%Y%m%d\")) +  '&timeframe=' + interval\n",
        "\n",
        "    result = requests.get(url)\n",
        "    bs_obj = BeautifulSoup(result.content, \"html.parser\")\n",
        "    b = bs_obj.get_text()\n",
        "    for i in ['\\n', '\\t', \"\\\\\", ' ']:\n",
        "      b = b.replace(i,'')\n",
        "\n",
        "    data = np.array(ast.literal_eval(b)[1:])\n",
        "\n",
        "    dic = {'Date':list(map(lambda x: datetime.datetime.strptime(str(x), '%Y%m%d'), data[:,0])), \\\n",
        "      'Open':np.array(data[:,1], int), 'High':np.array(data[:,2], int), 'Low':np.array(data[:,3], int),\\\n",
        "       'Close':np.array(data[:,4], int), 'Volume':np.array(data[:,5], int)}\n",
        "\n",
        "    df = pd.DataFrame(data=dic)\n",
        "    df = df.set_index('Date')\n",
        "    return df\n",
        "    \n",
        "  def get_fundamental(self):\n",
        "    url = 'https://finance.naver.com/item/main.nhn?code=' + self.code\n",
        "    result = requests.get(url, headers = self.headers)\n",
        "    bs_obj = BeautifulSoup(result.content, \"html.parser\")\n",
        "\n",
        "    ths = bs_obj.find_all(\"th\", {'scope':'col'})\n",
        "    ths = [th.get_text() for th in ths][10:-22]\n",
        "    dates = list(map(lambda x: x.translate(str.maketrans('','','\\n\\t, ')),ths))\n",
        "    dates = list(map(lambda x: x + '(Y)', dates[:4])) + list(map(lambda x: x + '(M)', dates[4:]))\n",
        "\n",
        "    tr = bs_obj.find_all(\"tbody\")\n",
        "    tds = tr[2].find_all('td')\n",
        "    tds = [td.get_text() for td in tds]\n",
        "    elements = list(map(lambda x: x.translate(str.maketrans('','','\\n\\t, ')),tds))\n",
        "    elements = list(map(lambda x: float(x) if x.replace('.','').isdigit() else np.nan, elements))\n",
        "\n",
        "    temp_dict = {}\n",
        "    cnt = 0\n",
        "    index = ['sales', 'operating profit', 'net income', 'operating margin', 'net margin', 'roe', 'debt ratio', 'quick ratio', \\\n",
        "    'reserve ratio', 'eps', 'per', 'bps', 'pbr', 'dividend per share', 'dividend yield ratio', 'dividend payout ratio']\n",
        "\n",
        "    for i in dates:\n",
        "      temp_dict[i] = elements[cnt::10]\n",
        "      cnt += 1\n",
        "\n",
        "    df = pd.DataFrame.from_dict(temp_dict)\n",
        "    df = df.set_index([pd.Index(index)])\n",
        "    return df"
      ],
      "execution_count": 1,
      "outputs": []
    },
    {
      "cell_type": "code",
      "metadata": {
        "colab": {
          "base_uri": "https://localhost:8080/",
          "height": 450
        },
        "id": "TEM2p7znK7mV",
        "outputId": "b410074a-7cf9-43f5-e0fa-472d1993fff0"
      },
      "source": [
        "stock = Stock('KOSPI')\n",
        "df = stock.get_price('20170101', 'day')\n",
        "df['Change'] = df['Close']/df['Open']\n",
        "df"
      ],
      "execution_count": 2,
      "outputs": [
        {
          "output_type": "execute_result",
          "data": {
            "text/html": [
              "<div>\n",
              "<style scoped>\n",
              "    .dataframe tbody tr th:only-of-type {\n",
              "        vertical-align: middle;\n",
              "    }\n",
              "\n",
              "    .dataframe tbody tr th {\n",
              "        vertical-align: top;\n",
              "    }\n",
              "\n",
              "    .dataframe thead th {\n",
              "        text-align: right;\n",
              "    }\n",
              "</style>\n",
              "<table border=\"1\" class=\"dataframe\">\n",
              "  <thead>\n",
              "    <tr style=\"text-align: right;\">\n",
              "      <th></th>\n",
              "      <th>Open</th>\n",
              "      <th>High</th>\n",
              "      <th>Low</th>\n",
              "      <th>Close</th>\n",
              "      <th>Volume</th>\n",
              "      <th>Change</th>\n",
              "    </tr>\n",
              "    <tr>\n",
              "      <th>Date</th>\n",
              "      <th></th>\n",
              "      <th></th>\n",
              "      <th></th>\n",
              "      <th></th>\n",
              "      <th></th>\n",
              "      <th></th>\n",
              "    </tr>\n",
              "  </thead>\n",
              "  <tbody>\n",
              "    <tr>\n",
              "      <th>2017-01-02</th>\n",
              "      <td>202223</td>\n",
              "      <td>203179</td>\n",
              "      <td>201568</td>\n",
              "      <td>202616</td>\n",
              "      <td>229874</td>\n",
              "      <td>1.001943</td>\n",
              "    </tr>\n",
              "    <tr>\n",
              "      <th>2017-01-03</th>\n",
              "      <td>203431</td>\n",
              "      <td>204407</td>\n",
              "      <td>202847</td>\n",
              "      <td>204397</td>\n",
              "      <td>268127</td>\n",
              "      <td>1.004749</td>\n",
              "    </tr>\n",
              "    <tr>\n",
              "      <th>2017-01-04</th>\n",
              "      <td>204629</td>\n",
              "      <td>204629</td>\n",
              "      <td>204061</td>\n",
              "      <td>204564</td>\n",
              "      <td>371488</td>\n",
              "      <td>0.999682</td>\n",
              "    </tr>\n",
              "    <tr>\n",
              "      <th>2017-01-05</th>\n",
              "      <td>204552</td>\n",
              "      <td>204650</td>\n",
              "      <td>203949</td>\n",
              "      <td>204195</td>\n",
              "      <td>541343</td>\n",
              "      <td>0.998255</td>\n",
              "    </tr>\n",
              "    <tr>\n",
              "      <th>2017-01-06</th>\n",
              "      <td>204811</td>\n",
              "      <td>205184</td>\n",
              "      <td>204566</td>\n",
              "      <td>204912</td>\n",
              "      <td>455350</td>\n",
              "      <td>1.000493</td>\n",
              "    </tr>\n",
              "    <tr>\n",
              "      <th>...</th>\n",
              "      <td>...</td>\n",
              "      <td>...</td>\n",
              "      <td>...</td>\n",
              "      <td>...</td>\n",
              "      <td>...</td>\n",
              "      <td>...</td>\n",
              "    </tr>\n",
              "    <tr>\n",
              "      <th>2021-07-08</th>\n",
              "      <td>328768</td>\n",
              "      <td>329571</td>\n",
              "      <td>325241</td>\n",
              "      <td>325268</td>\n",
              "      <td>1516034</td>\n",
              "      <td>0.989354</td>\n",
              "    </tr>\n",
              "    <tr>\n",
              "      <th>2021-07-09</th>\n",
              "      <td>324552</td>\n",
              "      <td>324552</td>\n",
              "      <td>318880</td>\n",
              "      <td>321795</td>\n",
              "      <td>1308364</td>\n",
              "      <td>0.991505</td>\n",
              "    </tr>\n",
              "    <tr>\n",
              "      <th>2021-07-12</th>\n",
              "      <td>322751</td>\n",
              "      <td>325145</td>\n",
              "      <td>322751</td>\n",
              "      <td>324647</td>\n",
              "      <td>1135042</td>\n",
              "      <td>1.005874</td>\n",
              "    </tr>\n",
              "    <tr>\n",
              "      <th>2021-07-13</th>\n",
              "      <td>325324</td>\n",
              "      <td>327390</td>\n",
              "      <td>325324</td>\n",
              "      <td>327138</td>\n",
              "      <td>1150101</td>\n",
              "      <td>1.005576</td>\n",
              "    </tr>\n",
              "    <tr>\n",
              "      <th>2021-07-14</th>\n",
              "      <td>327009</td>\n",
              "      <td>327009</td>\n",
              "      <td>325045</td>\n",
              "      <td>326457</td>\n",
              "      <td>766643</td>\n",
              "      <td>0.998312</td>\n",
              "    </tr>\n",
              "  </tbody>\n",
              "</table>\n",
              "<p>1114 rows × 6 columns</p>\n",
              "</div>"
            ],
            "text/plain": [
              "              Open    High     Low   Close   Volume    Change\n",
              "Date                                                         \n",
              "2017-01-02  202223  203179  201568  202616   229874  1.001943\n",
              "2017-01-03  203431  204407  202847  204397   268127  1.004749\n",
              "2017-01-04  204629  204629  204061  204564   371488  0.999682\n",
              "2017-01-05  204552  204650  203949  204195   541343  0.998255\n",
              "2017-01-06  204811  205184  204566  204912   455350  1.000493\n",
              "...            ...     ...     ...     ...      ...       ...\n",
              "2021-07-08  328768  329571  325241  325268  1516034  0.989354\n",
              "2021-07-09  324552  324552  318880  321795  1308364  0.991505\n",
              "2021-07-12  322751  325145  322751  324647  1135042  1.005874\n",
              "2021-07-13  325324  327390  325324  327138  1150101  1.005576\n",
              "2021-07-14  327009  327009  325045  326457   766643  0.998312\n",
              "\n",
              "[1114 rows x 6 columns]"
            ]
          },
          "metadata": {
            "tags": []
          },
          "execution_count": 2
        }
      ]
    },
    {
      "cell_type": "code",
      "metadata": {
        "id": "WVRqui9sVYyt",
        "outputId": "98b62291-4988-495c-814e-6989a3bdf565",
        "colab": {
          "base_uri": "https://localhost:8080/"
        }
      },
      "source": [
        "# 전날 조건\n",
        "pre_lower = 0\n",
        "pre_upper = 1\n",
        "range = df[df['Change'].between(pre_lower, pre_upper)]\n",
        "\n",
        "# show after range\n",
        "range_next = df[df.shift(1)['Change'].between(pre_lower, pre_upper)]\n",
        "\n",
        "# 전날 조건 비례 오늘\n",
        "lower = 1\n",
        "upper = 2\n",
        "sum(range_next['Change'].between(lower, upper)/ len(range_next['Change']))"
      ],
      "execution_count": 5,
      "outputs": [
        {
          "output_type": "execute_result",
          "data": {
            "text/plain": [
              "0.5097001763668427"
            ]
          },
          "metadata": {
            "tags": []
          },
          "execution_count": 5
        }
      ]
    },
    {
      "cell_type": "code",
      "metadata": {
        "id": "GlgHEZ-5fO-a",
        "outputId": "33cbb4be-8720-4ba4-f318-6e1d0dd94010",
        "colab": {
          "base_uri": "https://localhost:8080/",
          "height": 35
        }
      },
      "source": [
        "'''\n",
        "달 +\n",
        "주 -\n",
        "날 - \n",
        "'''"
      ],
      "execution_count": 6,
      "outputs": [
        {
          "output_type": "execute_result",
          "data": {
            "application/vnd.google.colaboratory.intrinsic+json": {
              "type": "string"
            },
            "text/plain": [
              "'\\n달 +\\n주 -\\n날 - \\n'"
            ]
          },
          "metadata": {
            "tags": []
          },
          "execution_count": 6
        }
      ]
    },
    {
      "cell_type": "code",
      "metadata": {
        "id": "_itZ7kDzhhek"
      },
      "source": [
        ""
      ],
      "execution_count": null,
      "outputs": []
    }
  ]
}