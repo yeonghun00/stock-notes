{
  "nbformat": 4,
  "nbformat_minor": 0,
  "metadata": {
    "colab": {
      "name": "techincals.ipynb",
      "provenance": [],
      "authorship_tag": "ABX9TyPRAUqDj2H5vv2w2GkNoB3q",
      "include_colab_link": true
    },
    "kernelspec": {
      "name": "python3",
      "display_name": "Python 3"
    },
    "language_info": {
      "name": "python"
    }
  },
  "cells": [
    {
      "cell_type": "markdown",
      "metadata": {
        "id": "view-in-github",
        "colab_type": "text"
      },
      "source": [
        "<a href=\"https://colab.research.google.com/github/yeonghun00/stock_public/blob/main/techincals.ipynb\" target=\"_parent\"><img src=\"https://colab.research.google.com/assets/colab-badge.svg\" alt=\"Open In Colab\"/></a>"
      ]
    },
    {
      "cell_type": "code",
      "metadata": {
        "id": "SQHPBGpzqxWB"
      },
      "source": [
        "import requests\n",
        "from bs4 import BeautifulSoup\n",
        "import pandas as pd\n",
        "import numpy as np\n",
        "import datetime\n",
        "import ast\n",
        "\n",
        "class Stock:\n",
        "  def __init__(self, code):\n",
        "    self.code = code\n",
        "    self.headers = {'User-Agent' : 'Mozilla/5.0 (Macintosh; Intel Mac OS X 10_14_6) AppleWebKit/537.36 (KHTML, like Gecko) Chrome/85.0.4183.121 Safari/537.36'}\n",
        "\n",
        "  def get_price(self, start:int='20180501', interval='day'):\n",
        "    url ='https://api.finance.naver.com/siseJson.naver?symbol=' + self.code + ' &requestType=1&startTime=' \\\n",
        "    + start + '&endTime=' + str(datetime.datetime.now().date().strftime(\"%Y%m%d\")) +  '&timeframe=' + interval\n",
        "\n",
        "    result = requests.get(url)\n",
        "    bs_obj = BeautifulSoup(result.content, \"html.parser\")\n",
        "    b = bs_obj.get_text()\n",
        "    for i in ['\\n', '\\t', \"\\\\\", ' ']:\n",
        "      b = b.replace(i,'')\n",
        "\n",
        "    data = np.array(ast.literal_eval(b)[1:])\n",
        "\n",
        "    dic = {'Date':list(map(lambda x: datetime.datetime.strptime(str(x), '%Y%m%d'), data[:,0])), \\\n",
        "      'Open':np.array(data[:,1], int), 'High':np.array(data[:,2], int), 'Low':np.array(data[:,3], int),\\\n",
        "       'Close':np.array(data[:,4], int), 'Volume':np.array(data[:,5], int)}\n",
        "\n",
        "    df = pd.DataFrame(data=dic)\n",
        "    df = df.set_index('Date')\n",
        "    return df\n",
        "    \n",
        "  def get_fundamental(self):\n",
        "    url = 'https://finance.naver.com/item/main.nhn?code=' + self.code\n",
        "    result = requests.get(url, headers = self.headers)\n",
        "    bs_obj = BeautifulSoup(result.content, \"html.parser\")\n",
        "\n",
        "    ths = bs_obj.find_all(\"th\", {'scope':'col'})\n",
        "    ths = [th.get_text() for th in ths][10:-22]\n",
        "    dates = list(map(lambda x: x.translate(str.maketrans('','','\\n\\t, ')),ths))\n",
        "    dates = list(map(lambda x: x + '(Y)', dates[:4])) + list(map(lambda x: x + '(M)', dates[4:]))\n",
        "\n",
        "    tr = bs_obj.find_all(\"tbody\")\n",
        "    tds = tr[2].find_all('td')\n",
        "    tds = [td.get_text() for td in tds]\n",
        "    elements = list(map(lambda x: x.translate(str.maketrans('','','\\n\\t, ')),tds))\n",
        "    elements = list(map(lambda x: float(x) if x.replace('.','').isdigit() else np.nan, elements))\n",
        "\n",
        "    temp_dict = {}\n",
        "    cnt = 0\n",
        "    index = ['sales', 'operating profit', 'net income', 'operating margin', 'net margin', 'roe', 'debt ratio', 'quick ratio', \\\n",
        "    'reserve ratio', 'eps', 'per', 'bps', 'pbr', 'dividend per share', 'dividend yield ratio', 'dividend payout ratio']\n",
        "\n",
        "    for i in dates:\n",
        "      temp_dict[i] = elements[cnt::10]\n",
        "      cnt += 1\n",
        "\n",
        "    df = pd.DataFrame.from_dict(temp_dict)\n",
        "    df = df.set_index([pd.Index(index)])\n",
        "    return df"
      ],
      "execution_count": 1,
      "outputs": []
    },
    {
      "cell_type": "code",
      "metadata": {
        "colab": {
          "base_uri": "https://localhost:8080/",
          "height": 450
        },
        "id": "zV3lCJWRrRZk",
        "outputId": "8941b576-ae4d-4d07-c564-2dbdade09531"
      },
      "source": [
        "code = '005930'\n",
        "\n",
        "stock = Stock(code)\n",
        "df = stock.get_price('20200101')\n",
        "df"
      ],
      "execution_count": 2,
      "outputs": [
        {
          "output_type": "execute_result",
          "data": {
            "text/html": [
              "<div>\n",
              "<style scoped>\n",
              "    .dataframe tbody tr th:only-of-type {\n",
              "        vertical-align: middle;\n",
              "    }\n",
              "\n",
              "    .dataframe tbody tr th {\n",
              "        vertical-align: top;\n",
              "    }\n",
              "\n",
              "    .dataframe thead th {\n",
              "        text-align: right;\n",
              "    }\n",
              "</style>\n",
              "<table border=\"1\" class=\"dataframe\">\n",
              "  <thead>\n",
              "    <tr style=\"text-align: right;\">\n",
              "      <th></th>\n",
              "      <th>Open</th>\n",
              "      <th>High</th>\n",
              "      <th>Low</th>\n",
              "      <th>Close</th>\n",
              "      <th>Volume</th>\n",
              "    </tr>\n",
              "    <tr>\n",
              "      <th>Date</th>\n",
              "      <th></th>\n",
              "      <th></th>\n",
              "      <th></th>\n",
              "      <th></th>\n",
              "      <th></th>\n",
              "    </tr>\n",
              "  </thead>\n",
              "  <tbody>\n",
              "    <tr>\n",
              "      <th>2020-01-02</th>\n",
              "      <td>55500</td>\n",
              "      <td>56000</td>\n",
              "      <td>55000</td>\n",
              "      <td>55200</td>\n",
              "      <td>12993228</td>\n",
              "    </tr>\n",
              "    <tr>\n",
              "      <th>2020-01-03</th>\n",
              "      <td>56000</td>\n",
              "      <td>56600</td>\n",
              "      <td>54900</td>\n",
              "      <td>55500</td>\n",
              "      <td>15422255</td>\n",
              "    </tr>\n",
              "    <tr>\n",
              "      <th>2020-01-06</th>\n",
              "      <td>54900</td>\n",
              "      <td>55600</td>\n",
              "      <td>54600</td>\n",
              "      <td>55500</td>\n",
              "      <td>10278951</td>\n",
              "    </tr>\n",
              "    <tr>\n",
              "      <th>2020-01-07</th>\n",
              "      <td>55700</td>\n",
              "      <td>56400</td>\n",
              "      <td>55600</td>\n",
              "      <td>55800</td>\n",
              "      <td>10009778</td>\n",
              "    </tr>\n",
              "    <tr>\n",
              "      <th>2020-01-08</th>\n",
              "      <td>56200</td>\n",
              "      <td>57400</td>\n",
              "      <td>55900</td>\n",
              "      <td>56800</td>\n",
              "      <td>23501171</td>\n",
              "    </tr>\n",
              "    <tr>\n",
              "      <th>...</th>\n",
              "      <td>...</td>\n",
              "      <td>...</td>\n",
              "      <td>...</td>\n",
              "      <td>...</td>\n",
              "      <td>...</td>\n",
              "    </tr>\n",
              "    <tr>\n",
              "      <th>2021-05-14</th>\n",
              "      <td>79000</td>\n",
              "      <td>80300</td>\n",
              "      <td>78900</td>\n",
              "      <td>80100</td>\n",
              "      <td>16450920</td>\n",
              "    </tr>\n",
              "    <tr>\n",
              "      <th>2021-05-17</th>\n",
              "      <td>80800</td>\n",
              "      <td>80900</td>\n",
              "      <td>79200</td>\n",
              "      <td>79600</td>\n",
              "      <td>17740855</td>\n",
              "    </tr>\n",
              "    <tr>\n",
              "      <th>2021-05-18</th>\n",
              "      <td>79600</td>\n",
              "      <td>80000</td>\n",
              "      <td>79100</td>\n",
              "      <td>79600</td>\n",
              "      <td>17494407</td>\n",
              "    </tr>\n",
              "    <tr>\n",
              "      <th>2021-05-20</th>\n",
              "      <td>79400</td>\n",
              "      <td>79700</td>\n",
              "      <td>79100</td>\n",
              "      <td>79500</td>\n",
              "      <td>16541828</td>\n",
              "    </tr>\n",
              "    <tr>\n",
              "      <th>2021-05-21</th>\n",
              "      <td>80100</td>\n",
              "      <td>81500</td>\n",
              "      <td>79800</td>\n",
              "      <td>80100</td>\n",
              "      <td>20804622</td>\n",
              "    </tr>\n",
              "  </tbody>\n",
              "</table>\n",
              "<p>343 rows × 5 columns</p>\n",
              "</div>"
            ],
            "text/plain": [
              "             Open   High    Low  Close    Volume\n",
              "Date                                            \n",
              "2020-01-02  55500  56000  55000  55200  12993228\n",
              "2020-01-03  56000  56600  54900  55500  15422255\n",
              "2020-01-06  54900  55600  54600  55500  10278951\n",
              "2020-01-07  55700  56400  55600  55800  10009778\n",
              "2020-01-08  56200  57400  55900  56800  23501171\n",
              "...           ...    ...    ...    ...       ...\n",
              "2021-05-14  79000  80300  78900  80100  16450920\n",
              "2021-05-17  80800  80900  79200  79600  17740855\n",
              "2021-05-18  79600  80000  79100  79600  17494407\n",
              "2021-05-20  79400  79700  79100  79500  16541828\n",
              "2021-05-21  80100  81500  79800  80100  20804622\n",
              "\n",
              "[343 rows x 5 columns]"
            ]
          },
          "metadata": {
            "tags": []
          },
          "execution_count": 2
        }
      ]
    },
    {
      "cell_type": "code",
      "metadata": {
        "id": "Sv9dztAPBgCX"
      },
      "source": [
        "import math\n",
        "\n",
        "class Technicals:\n",
        "  def __init__(self, df):\n",
        "    self.df = df\n",
        "\n",
        "  def get_mins(self, position='Close', adj_co=5):\n",
        "      new_dict = {'date': [], position: []}\n",
        "      for i in range(df.shape[0]):\n",
        "          if (i - adj_co >= 0 and i + adj_co < df.shape[0]):\n",
        "              if min(self.df.loc[self.df.index[i - adj_co:i + adj_co]][position].values) >= self.df.loc[self.df.index[i]][position]:\n",
        "                  new_dict['date'].append(self.df.index[i])\n",
        "                  new_dict[position].append(self.df.loc[self.df.index[i]][position])\n",
        "              else:\n",
        "                  new_dict['date'].append(self.df.index[i])\n",
        "                  new_dict[position].append(None)\n",
        "          else:\n",
        "              new_dict['date'].append(self.df.index[i])\n",
        "              new_dict[position].append(None)\n",
        "\n",
        "      new_df = pd.DataFrame.from_dict(new_dict)\n",
        "      new_df = new_df.set_index('date')\n",
        "\n",
        "      return new_df\n",
        "\n",
        "  def get_maxs(self, position='Close', adj_co=5):\n",
        "      new_dict = {'date': [], position: []}\n",
        "      for i in range(df.shape[0]):\n",
        "          if (i - adj_co >= 0 and i + adj_co < df.shape[0]):\n",
        "              if max(self.df.loc[self.df.index[i - adj_co:i + adj_co]][position].values) <= self.df.loc[self.df.index[i]][position]:\n",
        "                  new_dict['date'].append(self.df.index[i])\n",
        "                  new_dict[position].append(self.df.loc[self.df.index[i]][position])\n",
        "              else:\n",
        "                  new_dict['date'].append(self.df.index[i])\n",
        "                  new_dict[position].append(None)\n",
        "          else:\n",
        "              new_dict['date'].append(self.df.index[i])\n",
        "              new_dict[position].append(None)\n",
        "\n",
        "      new_df = pd.DataFrame.from_dict(new_dict)\n",
        "      new_df = new_df.set_index('date')\n",
        "\n",
        "      return new_df\n",
        "\n",
        "  def get_closeness(self, pos:str='max', adj_co:int=5)->list:\n",
        "    if pos == 'min':\n",
        "      li = [x for x in self.get_mins('Close', adj_co)['Close'] if not math.isnan(x)]\n",
        "    elif pos == 'max':\n",
        "      li = [x for x in self.get_maxs('Close', adj_co)['Close'] if not math.isnan(x)]\n",
        "    current = self.df.iloc[-1]['Close']\n",
        "\n",
        "    return li/current"
      ],
      "execution_count": 3,
      "outputs": []
    },
    {
      "cell_type": "code",
      "metadata": {
        "colab": {
          "base_uri": "https://localhost:8080/",
          "height": 550
        },
        "id": "B9yMX6ZIlx6H",
        "outputId": "69980fb9-0c2f-4c79-8424-6f9881d4d965"
      },
      "source": [
        "import matplotlib.pyplot as plt\n",
        "from matplotlib.pyplot import figure\n",
        "\n",
        "tech = Technicals(df)\n",
        "figure(figsize=(12, 8), dpi=80)\n",
        "plt.plot(df['Close'])\n",
        "plt.scatter(x = df.index, y = tech.get_maxs('Close', 10), c='#ff0000', marker = 'o')\n",
        "plt.scatter(x = df.index, y = tech.get_mins('Close', 10), c='#0008ff', marker = 'o')"
      ],
      "execution_count": 4,
      "outputs": [
        {
          "output_type": "execute_result",
          "data": {
            "text/plain": [
              "<matplotlib.collections.PathCollection at 0x7f59a9b2de90>"
            ]
          },
          "metadata": {
            "tags": []
          },
          "execution_count": 4
        },
        {
          "output_type": "display_data",
          "data": {
            "image/png": "[encoded data removed]",
            "text/plain": [
              "<Figure size 960x640 with 1 Axes>"
            ]
          },
          "metadata": {
            "tags": [],
            "needs_background": "light"
          }
        }
      ]
    },
    {
      "cell_type": "code",
      "metadata": {
        "id": "Tc3THPmE9I8p",
        "outputId": "6c1b67cc-9c62-4314-f389-d6f2d13b3ad8",
        "colab": {
          "base_uri": "https://localhost:8080/"
        }
      },
      "source": [
        "tech.get_closeness('max', 10)\n",
        "\n",
        "# find max among, cal increase prob\n",
        "# find distance ==> (weight)"
      ],
      "execution_count": 5,
      "outputs": [
        {
          "output_type": "execute_result",
          "data": {
            "text/plain": [
              "array([0.77902622, 0.7627965 , 0.77153558, 0.721598  , 0.60736579,\n",
              "       0.61922597, 0.64169788, 0.62546816, 0.62796504, 0.6928839 ,\n",
              "       0.6928839 , 0.66042447, 0.66541823, 0.6866417 , 0.73657928,\n",
              "       0.73657928, 0.73657928, 0.76154806, 0.76154806, 0.76029963,\n",
              "       0.76029963, 0.76029963, 0.76029963, 0.82771536, 0.92259675,\n",
              "       1.1360799 , 1.11610487, 1.05992509, 1.06491885, 1.0349563 ,\n",
              "       1.07365793, 1.03870162])"
            ]
          },
          "metadata": {
            "tags": []
          },
          "execution_count": 5
        }
      ]
    }
  ]
}