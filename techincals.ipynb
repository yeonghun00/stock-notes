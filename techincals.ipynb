{
  "nbformat": 4,
  "nbformat_minor": 0,
  "metadata": {
    "colab": {
      "name": "techincals.ipynb",
      "provenance": [],
      "authorship_tag": "ABX9TyOEvjNCrPaiD0syWfba1ean",
      "include_colab_link": true
    },
    "kernelspec": {
      "name": "python3",
      "display_name": "Python 3"
    },
    "language_info": {
      "name": "python"
    }
  },
  "cells": [
    {
      "cell_type": "markdown",
      "metadata": {
        "id": "view-in-github",
        "colab_type": "text"
      },
      "source": [
        "<a href=\"https://colab.research.google.com/github/yeonghun00/stock_public/blob/main/techincals.ipynb\" target=\"_parent\"><img src=\"https://colab.research.google.com/assets/colab-badge.svg\" alt=\"Open In Colab\"/></a>"
      ]
    },
    {
      "cell_type": "code",
      "metadata": {
        "id": "SQHPBGpzqxWB"
      },
      "source": [
        "import requests\n",
        "from bs4 import BeautifulSoup\n",
        "import pandas as pd\n",
        "import numpy as np\n",
        "import datetime\n",
        "import ast\n",
        "\n",
        "class Stock:\n",
        "  def __init__(self, code):\n",
        "    self.code = code\n",
        "    self.headers = {'User-Agent' : 'Mozilla/5.0 (Macintosh; Intel Mac OS X 10_14_6) AppleWebKit/537.36 (KHTML, like Gecko) Chrome/85.0.4183.121 Safari/537.36'}\n",
        "\n",
        "  def get_price(self, start:int='20180501', interval='day'):\n",
        "    url ='https://api.finance.naver.com/siseJson.naver?symbol=' + self.code + ' &requestType=1&startTime=' \\\n",
        "    + start + '&endTime=' + str(datetime.datetime.now().date().strftime(\"%Y%m%d\")) +  '&timeframe=' + interval\n",
        "\n",
        "    result = requests.get(url)\n",
        "    bs_obj = BeautifulSoup(result.content, \"html.parser\")\n",
        "    b = bs_obj.get_text()\n",
        "    for i in ['\\n', '\\t', \"\\\\\", ' ']:\n",
        "      b = b.replace(i,'')\n",
        "\n",
        "    data = np.array(ast.literal_eval(b)[1:])\n",
        "\n",
        "    dic = {'Date':list(map(lambda x: datetime.datetime.strptime(str(x), '%Y%m%d'), data[:,0])), \\\n",
        "      'Open':np.array(data[:,1], int), 'High':np.array(data[:,2], int), 'Low':np.array(data[:,3], int),\\\n",
        "       'Close':np.array(data[:,4], int), 'Volume':np.array(data[:,5], int)}\n",
        "\n",
        "    df = pd.DataFrame(data=dic)\n",
        "    df = df.set_index('Date')\n",
        "    return df\n",
        "    \n",
        "  def get_fundamental(self):\n",
        "    url = 'https://finance.naver.com/item/main.nhn?code=' + self.code\n",
        "    result = requests.get(url, headers = self.headers)\n",
        "    bs_obj = BeautifulSoup(result.content, \"html.parser\")\n",
        "\n",
        "    ths = bs_obj.find_all(\"th\", {'scope':'col'})\n",
        "    ths = [th.get_text() for th in ths][10:-22]\n",
        "    dates = list(map(lambda x: x.translate(str.maketrans('','','\\n\\t, ')),ths))\n",
        "    dates = list(map(lambda x: x + '(Y)', dates[:4])) + list(map(lambda x: x + '(M)', dates[4:]))\n",
        "\n",
        "    tr = bs_obj.find_all(\"tbody\")\n",
        "    tds = tr[2].find_all('td')\n",
        "    tds = [td.get_text() for td in tds]\n",
        "    elements = list(map(lambda x: x.translate(str.maketrans('','','\\n\\t, ')),tds))\n",
        "    elements = list(map(lambda x: float(x) if x.replace('.','').isdigit() else np.nan, elements))\n",
        "\n",
        "    temp_dict = {}\n",
        "    cnt = 0\n",
        "    index = ['sales', 'operating profit', 'net income', 'operating margin', 'net margin', 'roe', 'debt ratio', 'quick ratio', \\\n",
        "    'reserve ratio', 'eps', 'per', 'bps', 'pbr', 'dividend per share', 'dividend yield ratio', 'dividend payout ratio']\n",
        "\n",
        "    for i in dates:\n",
        "      temp_dict[i] = elements[cnt::10]\n",
        "      cnt += 1\n",
        "\n",
        "    df = pd.DataFrame.from_dict(temp_dict)\n",
        "    df = df.set_index([pd.Index(index)])\n",
        "    return df"
      ],
      "execution_count": null,
      "outputs": []
    },
    {
      "cell_type": "code",
      "metadata": {
        "colab": {
          "base_uri": "https://localhost:8080/",
          "height": 450
        },
        "id": "zV3lCJWRrRZk",
        "outputId": "76e671e9-eead-4a05-c2a9-4b19b301ecf2"
      },
      "source": [
        "code = '207940'\n",
        "\n",
        "stock = Stock(code)\n",
        "df = stock.get_price('20210101', 'day')\n",
        "df"
      ],
      "execution_count": null,
      "outputs": [
        {
          "output_type": "execute_result",
          "data": {
            "text/html": [
              "<div>\n",
              "<style scoped>\n",
              "    .dataframe tbody tr th:only-of-type {\n",
              "        vertical-align: middle;\n",
              "    }\n",
              "\n",
              "    .dataframe tbody tr th {\n",
              "        vertical-align: top;\n",
              "    }\n",
              "\n",
              "    .dataframe thead th {\n",
              "        text-align: right;\n",
              "    }\n",
              "</style>\n",
              "<table border=\"1\" class=\"dataframe\">\n",
              "  <thead>\n",
              "    <tr style=\"text-align: right;\">\n",
              "      <th></th>\n",
              "      <th>Open</th>\n",
              "      <th>High</th>\n",
              "      <th>Low</th>\n",
              "      <th>Close</th>\n",
              "      <th>Volume</th>\n",
              "    </tr>\n",
              "    <tr>\n",
              "      <th>Date</th>\n",
              "      <th></th>\n",
              "      <th></th>\n",
              "      <th></th>\n",
              "      <th></th>\n",
              "      <th></th>\n",
              "    </tr>\n",
              "  </thead>\n",
              "  <tbody>\n",
              "    <tr>\n",
              "      <th>2021-01-04</th>\n",
              "      <td>819000</td>\n",
              "      <td>838000</td>\n",
              "      <td>804000</td>\n",
              "      <td>829000</td>\n",
              "      <td>182864</td>\n",
              "    </tr>\n",
              "    <tr>\n",
              "      <th>2021-01-05</th>\n",
              "      <td>825000</td>\n",
              "      <td>834000</td>\n",
              "      <td>818000</td>\n",
              "      <td>832000</td>\n",
              "      <td>119911</td>\n",
              "    </tr>\n",
              "    <tr>\n",
              "      <th>2021-01-06</th>\n",
              "      <td>828000</td>\n",
              "      <td>837000</td>\n",
              "      <td>816000</td>\n",
              "      <td>817000</td>\n",
              "      <td>145873</td>\n",
              "    </tr>\n",
              "    <tr>\n",
              "      <th>2021-01-07</th>\n",
              "      <td>824000</td>\n",
              "      <td>824000</td>\n",
              "      <td>816000</td>\n",
              "      <td>819000</td>\n",
              "      <td>116480</td>\n",
              "    </tr>\n",
              "    <tr>\n",
              "      <th>2021-01-08</th>\n",
              "      <td>821000</td>\n",
              "      <td>840000</td>\n",
              "      <td>815000</td>\n",
              "      <td>837000</td>\n",
              "      <td>263860</td>\n",
              "    </tr>\n",
              "    <tr>\n",
              "      <th>...</th>\n",
              "      <td>...</td>\n",
              "      <td>...</td>\n",
              "      <td>...</td>\n",
              "      <td>...</td>\n",
              "      <td>...</td>\n",
              "    </tr>\n",
              "    <tr>\n",
              "      <th>2021-05-17</th>\n",
              "      <td>930000</td>\n",
              "      <td>932000</td>\n",
              "      <td>874000</td>\n",
              "      <td>874000</td>\n",
              "      <td>546343</td>\n",
              "    </tr>\n",
              "    <tr>\n",
              "      <th>2021-05-18</th>\n",
              "      <td>888000</td>\n",
              "      <td>917000</td>\n",
              "      <td>875000</td>\n",
              "      <td>894000</td>\n",
              "      <td>399446</td>\n",
              "    </tr>\n",
              "    <tr>\n",
              "      <th>2021-05-20</th>\n",
              "      <td>896000</td>\n",
              "      <td>900000</td>\n",
              "      <td>868000</td>\n",
              "      <td>891000</td>\n",
              "      <td>220304</td>\n",
              "    </tr>\n",
              "    <tr>\n",
              "      <th>2021-05-21</th>\n",
              "      <td>887000</td>\n",
              "      <td>888000</td>\n",
              "      <td>853000</td>\n",
              "      <td>861000</td>\n",
              "      <td>224370</td>\n",
              "    </tr>\n",
              "    <tr>\n",
              "      <th>2021-05-24</th>\n",
              "      <td>880000</td>\n",
              "      <td>906000</td>\n",
              "      <td>861000</td>\n",
              "      <td>865000</td>\n",
              "      <td>398657</td>\n",
              "    </tr>\n",
              "  </tbody>\n",
              "</table>\n",
              "<p>96 rows × 5 columns</p>\n",
              "</div>"
            ],
            "text/plain": [
              "              Open    High     Low   Close  Volume\n",
              "Date                                              \n",
              "2021-01-04  819000  838000  804000  829000  182864\n",
              "2021-01-05  825000  834000  818000  832000  119911\n",
              "2021-01-06  828000  837000  816000  817000  145873\n",
              "2021-01-07  824000  824000  816000  819000  116480\n",
              "2021-01-08  821000  840000  815000  837000  263860\n",
              "...            ...     ...     ...     ...     ...\n",
              "2021-05-17  930000  932000  874000  874000  546343\n",
              "2021-05-18  888000  917000  875000  894000  399446\n",
              "2021-05-20  896000  900000  868000  891000  220304\n",
              "2021-05-21  887000  888000  853000  861000  224370\n",
              "2021-05-24  880000  906000  861000  865000  398657\n",
              "\n",
              "[96 rows x 5 columns]"
            ]
          },
          "metadata": {
            "tags": []
          },
          "execution_count": 2
        }
      ]
    },
    {
      "cell_type": "code",
      "metadata": {
        "id": "Sv9dztAPBgCX"
      },
      "source": [
        "import math\n",
        "\n",
        "class Technicals:\n",
        "  def __init__(self, df):\n",
        "    self.df = df\n",
        "\n",
        "  def get_mins(self, position:str='Close', adj_co:int=5):\n",
        "      new_dict = {'date': [], position: []}\n",
        "      for i in range(df.shape[0]):\n",
        "          if (i - adj_co >= 0 and i + adj_co < df.shape[0]):\n",
        "              if min(self.df.loc[self.df.index[i - adj_co:i + adj_co]][position].values) >= self.df.loc[self.df.index[i]][position]:\n",
        "                  new_dict['date'].append(self.df.index[i])\n",
        "                  new_dict[position].append(self.df.loc[self.df.index[i]][position])\n",
        "              else:\n",
        "                  new_dict['date'].append(self.df.index[i])\n",
        "                  new_dict[position].append(None)\n",
        "          else:\n",
        "              new_dict['date'].append(self.df.index[i])\n",
        "              new_dict[position].append(None)\n",
        "\n",
        "      new_df = pd.DataFrame.from_dict(new_dict)\n",
        "      new_df = new_df.set_index('date')\n",
        "\n",
        "      return new_df\n",
        "\n",
        "  def get_maxs(self, position:str='Close', adj_co:int=5):\n",
        "      new_dict = {'date': [], position: []}\n",
        "      for i in range(df.shape[0]):\n",
        "          if (i - adj_co >= 0 and i + adj_co < df.shape[0]):\n",
        "              if max(self.df.loc[self.df.index[i - adj_co:i + adj_co]][position].values) <= self.df.loc[self.df.index[i]][position]:\n",
        "                  new_dict['date'].append(self.df.index[i])\n",
        "                  new_dict[position].append(self.df.loc[self.df.index[i]][position])\n",
        "              else:\n",
        "                  new_dict['date'].append(self.df.index[i])\n",
        "                  new_dict[position].append(None)\n",
        "          else:\n",
        "              new_dict['date'].append(self.df.index[i])\n",
        "              new_dict[position].append(None)\n",
        "\n",
        "      new_df = pd.DataFrame.from_dict(new_dict)\n",
        "      new_df = new_df.set_index('date')\n",
        "\n",
        "      return new_df\n",
        "\n",
        "  def get_closeness(self, pos:str='max', adj_co:int=5)->list:\n",
        "    if pos == 'min':\n",
        "      li = [x for x in self.get_mins('Close', adj_co)['Close'] if not math.isnan(x)]\n",
        "    elif pos == 'max':\n",
        "      li = [x for x in self.get_maxs('Close', adj_co)['Close'] if not math.isnan(x)]\n",
        "    current = self.df.iloc[-1]['Close']\n",
        "\n",
        "    return li/current\n",
        "\n",
        "  def get_influencial_volumes(self, ranking:int=5):\n",
        "    return df['Volume'].sort_values().iloc[-ranking:]\n",
        "\n",
        "  "
      ],
      "execution_count": null,
      "outputs": []
    },
    {
      "cell_type": "code",
      "metadata": {
        "id": "0DJZv9T3GtaB",
        "colab": {
          "base_uri": "https://localhost:8080/",
          "height": 445
        },
        "outputId": "733a2ca8-8b7d-477d-e0e5-269ffcec0343"
      },
      "source": [
        "import matplotlib.pyplot as plt\n",
        "from matplotlib.pyplot import figure\n",
        "\n",
        "tech = Technicals(df)\n",
        "fig, axs = plt.subplots(2,1,figsize=(13,7), gridspec_kw={'height_ratios': [5, 2]})\n",
        "axs[0].plot(df['Close'])\n",
        "axs[0].scatter(x=df.index, y=tech.get_maxs('High', 5), c='#ff0000', marker='o')\n",
        "axs[0].scatter(x=df.index, y=tech.get_mins('Low', 5), c='#0008ff', marker='o')\n",
        "axs[0].set_xticks([])\n",
        "\n",
        "\n",
        "axs[1].bar(x=df.index, height=df['Volume'], color='#ff5900')\n"
      ],
      "execution_count": null,
      "outputs": [
        {
          "output_type": "execute_result",
          "data": {
            "text/plain": [
              "<BarContainer object of 96 artists>"
            ]
          },
          "metadata": {
            "tags": []
          },
          "execution_count": 6
        },
        {
          "output_type": "display_data",
          "data": {
            "image/png": "[encoded data removed]",
            "text/plain": [
              "<Figure size 936x504 with 2 Axes>"
            ]
          },
          "metadata": {
            "tags": [],
            "needs_background": "light"
          }
        }
      ]
    },
    {
      "cell_type": "code",
      "metadata": {
        "id": "Tc3THPmE9I8p",
        "colab": {
          "base_uri": "https://localhost:8080/"
        },
        "outputId": "400a2969-75b3-4413-e241-e47c87c8405f"
      },
      "source": [
        "tech.get_closeness('max', 5)\n",
        "\n",
        "# find max among, cal increase prob\n",
        "# find distance ==> (weight)"
      ],
      "execution_count": null,
      "outputs": [
        {
          "output_type": "execute_result",
          "data": {
            "text/plain": [
              "array([0.97803468, 0.98150289, 0.85895954, 0.86473988, 0.96763006,\n",
              "       1.09595376])"
            ]
          },
          "metadata": {
            "tags": []
          },
          "execution_count": 8
        }
      ]
    },
    {
      "cell_type": "code",
      "metadata": {
        "id": "_SKgOh1wKpM7"
      },
      "source": [
        ""
      ],
      "execution_count": null,
      "outputs": []
    }
  ]
}