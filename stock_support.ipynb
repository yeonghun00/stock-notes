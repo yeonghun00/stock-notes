{
  "nbformat": 4,
  "nbformat_minor": 0,
  "metadata": {
    "colab": {
      "name": "stock support.ipynb",
      "provenance": [],
      "collapsed_sections": [],
      "authorship_tag": "ABX9TyMMow6j2+PyfvMDv/0/MnTt",
      "include_colab_link": true
    },
    "kernelspec": {
      "name": "python3",
      "display_name": "Python 3"
    },
    "language_info": {
      "name": "python"
    }
  },
  "cells": [
    {
      "cell_type": "markdown",
      "metadata": {
        "id": "view-in-github",
        "colab_type": "text"
      },
      "source": [
        "<a href=\"https://colab.research.google.com/github/yeonghun00/stock_public/blob/main/stock_support.ipynb\" target=\"_parent\"><img src=\"https://colab.research.google.com/assets/colab-badge.svg\" alt=\"Open In Colab\"/></a>"
      ]
    },
    {
      "cell_type": "code",
      "metadata": {
        "id": "nCEHpu9Ve5Po"
      },
      "source": [
        "import requests\n",
        "from bs4 import BeautifulSoup\n",
        "import pandas as pd\n",
        "import numpy as np\n",
        "import datetime"
      ],
      "execution_count": 1,
      "outputs": []
    },
    {
      "cell_type": "code",
      "metadata": {
        "colab": {
          "base_uri": "https://localhost:8080/"
        },
        "id": "2a2OrA9UexST",
        "outputId": "9c321a13-6d98-48e1-9258-acbc143d8224"
      },
      "source": [
        "# 관련 업종\n",
        "headers = {'User-Agent' : 'Mozilla/5.0 (Macintosh; Intel Mac OS X 10_14_6) AppleWebKit/537.36 (KHTML, like Gecko) Chrome/85.0.4183.121 Safari/537.36'}\n",
        "\n",
        "def get_related(code:str='005930'):\n",
        "  url = 'https://finance.naver.com/item/main.nhn?code=' + code\n",
        "  result = requests.get(url, headers = headers)\n",
        "  bs_obj = BeautifulSoup(result.content, \"html.parser\")\n",
        "  th = bs_obj.find_all(\"th\", {'scope':\"col\"})\n",
        "  th = [x.get_text() for x in th][-12:-7]\n",
        "  elements = [x[-6:] for x in th]\n",
        "  return elements\n",
        "\n",
        "get_related()"
      ],
      "execution_count": 2,
      "outputs": [
        {
          "output_type": "execute_result",
          "data": {
            "text/plain": [
              "['005930', '000660', '357780', '058470', '240810']"
            ]
          },
          "metadata": {
            "tags": []
          },
          "execution_count": 2
        }
      ]
    },
    {
      "cell_type": "code",
      "metadata": {
        "id": "oRtd9Zf8e1eB"
      },
      "source": [
        "# 업종\n",
        "dic = {'에너지': 'WI100', '화학': 'WI110', '비철금속': 'WI200', '철강': 'WI210', '건설': 'WI220', '기계': 'WI230', '조선': 'WI240', '상가,자본재': 'WI250', \\\n",
        "       '운송': 'WI260', '자동차': 'WI300', '화장품,의류': 'WI310', '호텔,레저': 'WI320', '미디어,교육': 'WI330', '소매(유통)': 'WI340', '필수소비재': 'WI400', \\\n",
        "       '건강관리': 'WI410', '은행': 'WI500', '증권': 'WI510', '보험': 'WI520', '소프트웨어': 'WI600', 'IT하드웨어': 'WI610', '반도체': 'WI620', 'IT가전': 'WI630', \\\n",
        "       '디스플레이': 'WI640', '전기통신서비스': 'WI700', '유틸리티': 'WI800'}\n",
        "\n",
        "def get_sector(code):\n",
        "  url = 'http://www.wiseindex.com/Index/GetIndexComponets?ceil_yn=0&dt=' + \\\n",
        "  str(int(''.join(str(datetime.date.today()).split('-'))) - 10) + '&sec_cd=' + dic[code]\n",
        "  result = requests.get(url, headers = headers)\n",
        "  json_list = result.json() \n",
        "\n",
        "  df = pd.DataFrame(columns=['code', 'name', 'sector_name', 'idx_name'])\n",
        "\n",
        "  for json in json_list['list']:\n",
        "    code = json['CMP_CD']\n",
        "    name = json['CMP_KOR']\n",
        "    sector_name = json['SEC_NM_KOR']\n",
        "    idx_name = json['IDX_NM_KOR']\n",
        "    df = df.append({'code':code, 'name':name, 'sector_name':sector_name, 'idx_name':idx_name}, ignore_index=True)\n",
        "\n",
        "  return df"
      ],
      "execution_count": 3,
      "outputs": []
    },
    {
      "cell_type": "code",
      "metadata": {
        "id": "vPTDryWYIHxb"
      },
      "source": [
        "# 검색 상위\n",
        "\n",
        "def get_searched():\n",
        "  url = 'https://finance.naver.com/sise/lastsearch2.nhn'\n",
        "  result = requests.get(url, headers = headers)\n",
        "  bs_obj = BeautifulSoup(result.content, \"html.parser\")\n",
        "  a = bs_obj.find_all('a',{'class', 'tltle'}) # title nono tltle\n",
        "  return [x.get_text() for x in a]"
      ],
      "execution_count": 121,
      "outputs": []
    },
    {
      "cell_type": "code",
      "metadata": {
        "id": "dXDcbwHpN4rc"
      },
      "source": [
        "def get_highest():\n",
        "  "
      ],
      "execution_count": null,
      "outputs": []
    },
    {
      "cell_type": "code",
      "metadata": {
        "id": "XytbzELHrQPf"
      },
      "source": [
        "def get_higher(market='ks', num=500):\n",
        "  i = 0\n",
        "  if market == 'kq':\n",
        "    i = 1\n",
        "  url = 'https://finance.naver.com/sise/sise_rise.nhn?sosok=' + str(i)\n",
        "  result = requests.get(url, headers = headers)\n",
        "  bs_obj = BeautifulSoup(result.content, \"html.parser\")\n",
        "  a = bs_obj.find_all('a',{'class', 'tltle'}) # title nono tltle\n",
        "  code = [x['href'][-6:] for x in a]\n",
        "  name = [x.get_text() for x in a]\n",
        "  \n",
        "  d = {'code':code, 'name':name}\n",
        "  df = pd.DataFrame(d)\n",
        "\n",
        "  return df.loc[:num]"
      ],
      "execution_count": 42,
      "outputs": []
    },
    {
      "cell_type": "code",
      "metadata": {
        "id": "OfYXYx-X1jI3",
        "colab": {
          "base_uri": "https://localhost:8080/",
          "height": 419
        },
        "outputId": "9010c3b4-cd8c-403d-9f43-d0d2b41139e6"
      },
      "source": [
        "get_higher('ks')"
      ],
      "execution_count": 43,
      "outputs": [
        {
          "output_type": "execute_result",
          "data": {
            "text/html": [
              "<div>\n",
              "<style scoped>\n",
              "    .dataframe tbody tr th:only-of-type {\n",
              "        vertical-align: middle;\n",
              "    }\n",
              "\n",
              "    .dataframe tbody tr th {\n",
              "        vertical-align: top;\n",
              "    }\n",
              "\n",
              "    .dataframe thead th {\n",
              "        text-align: right;\n",
              "    }\n",
              "</style>\n",
              "<table border=\"1\" class=\"dataframe\">\n",
              "  <thead>\n",
              "    <tr style=\"text-align: right;\">\n",
              "      <th></th>\n",
              "      <th>code</th>\n",
              "      <th>name</th>\n",
              "    </tr>\n",
              "  </thead>\n",
              "  <tbody>\n",
              "    <tr>\n",
              "      <th>0</th>\n",
              "      <td>009275</td>\n",
              "      <td>신원우</td>\n",
              "    </tr>\n",
              "    <tr>\n",
              "      <th>1</th>\n",
              "      <td>35320K</td>\n",
              "      <td>대덕전자1우</td>\n",
              "    </tr>\n",
              "    <tr>\n",
              "      <th>2</th>\n",
              "      <td>383220</td>\n",
              "      <td>F&amp;F</td>\n",
              "    </tr>\n",
              "    <tr>\n",
              "      <th>3</th>\n",
              "      <td>009270</td>\n",
              "      <td>신원</td>\n",
              "    </tr>\n",
              "    <tr>\n",
              "      <th>4</th>\n",
              "      <td>024900</td>\n",
              "      <td>덕양산업</td>\n",
              "    </tr>\n",
              "    <tr>\n",
              "      <th>...</th>\n",
              "      <td>...</td>\n",
              "      <td>...</td>\n",
              "    </tr>\n",
              "    <tr>\n",
              "      <th>467</th>\n",
              "      <td>272580</td>\n",
              "      <td>TIGER 단기채권액티브</td>\n",
              "    </tr>\n",
              "    <tr>\n",
              "      <th>468</th>\n",
              "      <td>278620</td>\n",
              "      <td>ARIRANG 단기채권액티브</td>\n",
              "    </tr>\n",
              "    <tr>\n",
              "      <th>469</th>\n",
              "      <td>306540</td>\n",
              "      <td>HANARO 단기통안채</td>\n",
              "    </tr>\n",
              "    <tr>\n",
              "      <th>470</th>\n",
              "      <td>363510</td>\n",
              "      <td>SMART KIS단기통안채</td>\n",
              "    </tr>\n",
              "    <tr>\n",
              "      <th>471</th>\n",
              "      <td>153130</td>\n",
              "      <td>KODEX 단기채권</td>\n",
              "    </tr>\n",
              "  </tbody>\n",
              "</table>\n",
              "<p>472 rows × 2 columns</p>\n",
              "</div>"
            ],
            "text/plain": [
              "       code             name\n",
              "0    009275              신원우\n",
              "1    35320K           대덕전자1우\n",
              "2    383220              F&F\n",
              "3    009270               신원\n",
              "4    024900             덕양산업\n",
              "..      ...              ...\n",
              "467  272580    TIGER 단기채권액티브\n",
              "468  278620  ARIRANG 단기채권액티브\n",
              "469  306540     HANARO 단기통안채\n",
              "470  363510   SMART KIS단기통안채\n",
              "471  153130       KODEX 단기채권\n",
              "\n",
              "[472 rows x 2 columns]"
            ]
          },
          "metadata": {
            "tags": []
          },
          "execution_count": 43
        }
      ]
    },
    {
      "cell_type": "code",
      "metadata": {
        "id": "_qpGN7_T1naf"
      },
      "source": [
        "url = 'https://finance.naver.com/sise/sise_rise.nhn?sosok=0'\n",
        "result = requests.get(url, headers = headers)\n",
        "bs_obj = BeautifulSoup(result.content, \"html.parser\")\n",
        "a = bs_obj.find_all('a',{'class', 'tltle'}) # title nono tltle\n",
        "code = [x['href'][-6:] for x in a]\n",
        "name = [x.get_text() for x in a]\n",
        "change = [x.replace('\\n','').replace('\\t','') for x in [span.get_text() for span in spans] if \"%\" in x ]\n",
        "d = {'code':code, 'name':name, 'change':change}"
      ],
      "execution_count": 52,
      "outputs": []
    },
    {
      "cell_type": "code",
      "metadata": {
        "id": "ucnLqv-qJZ7P"
      },
      "source": [
        "url = 'https://finance.naver.com/sise/'\n",
        "result = requests.get(url, headers = headers)\n",
        "bs_obj = BeautifulSoup(result.content, \"html.parser\")\n",
        "a = bs_obj.find_all('a',{'class', 'tltle'}) # title nono tltle\n",
        "t = [(x['onclick'][7:]).split(',')[3] for x in a]\n",
        "t = list(map(lambda x: [s for s in x if s.isdigit()], t))\n",
        "idxes = list(map(lambda x: int(''.join(x)), t))\n",
        "codes = [x.get_text() for x in a]\n",
        "li = list(zip(idxes,codes))"
      ],
      "execution_count": 116,
      "outputs": []
    },
    {
      "cell_type": "code",
      "metadata": {
        "colab": {
          "base_uri": "https://localhost:8080/"
        },
        "id": "LKPf92ELGxOJ",
        "outputId": "eefd1cd9-bf4d-4557-9ead-84fef6301e73"
      },
      "source": [
        ""
      ],
      "execution_count": 120,
      "outputs": [
        {
          "output_type": "execute_result",
          "data": {
            "text/plain": [
              "['삼성전자',\n",
              " '카카오',\n",
              " 'NAVER',\n",
              " 'HMM',\n",
              " '한전기술',\n",
              " 'LG화학',\n",
              " '코오롱인더우',\n",
              " 'KODEX 건설',\n",
              " 'SK하이닉스',\n",
              " '케이씨에스',\n",
              " '셀트리온',\n",
              " '두산중공업',\n",
              " 'PN풍년',\n",
              " '한국전력',\n",
              " 'SK바이오사이언스',\n",
              " '삼성바이오로직스',\n",
              " 'ARIRANG 고배당주',\n",
              " '시너지이노베이션',\n",
              " '한국조선해양',\n",
              " '현대차',\n",
              " 'SK아이이테크놀로지',\n",
              " '하이브',\n",
              " '에스티팜',\n",
              " 'KODEX 배당성장',\n",
              " '웹젠',\n",
              " '엘앤에프',\n",
              " '신풍제약',\n",
              " '금호석유',\n",
              " '진원생명과학',\n",
              " '삼성전기']"
            ]
          },
          "metadata": {
            "tags": []
          },
          "execution_count": 120
        }
      ]
    },
    {
      "cell_type": "code",
      "metadata": {
        "id": "slI728bYHT25"
      },
      "source": [
        ""
      ],
      "execution_count": null,
      "outputs": []
    }
  ]
}