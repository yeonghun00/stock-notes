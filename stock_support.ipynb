{
  "nbformat": 4,
  "nbformat_minor": 0,
  "metadata": {
    "colab": {
      "name": "stock support.ipynb",
      "provenance": [],
      "authorship_tag": "ABX9TyO6/OUs6eYd0H7AnnkbOli0",
      "include_colab_link": true
    },
    "kernelspec": {
      "name": "python3",
      "display_name": "Python 3"
    },
    "language_info": {
      "name": "python"
    }
  },
  "cells": [
    {
      "cell_type": "markdown",
      "metadata": {
        "id": "view-in-github",
        "colab_type": "text"
      },
      "source": [
        "<a href=\"https://colab.research.google.com/github/yeonghun00/stock_public/blob/main/stock_support.ipynb\" target=\"_parent\"><img src=\"https://colab.research.google.com/assets/colab-badge.svg\" alt=\"Open In Colab\"/></a>"
      ]
    },
    {
      "cell_type": "code",
      "metadata": {
        "id": "nCEHpu9Ve5Po"
      },
      "source": [
        "import requests\n",
        "from bs4 import BeautifulSoup\n",
        "import pandas as pd\n",
        "import numpy as np\n",
        "import datetime\n",
        "import qconfig"
      ],
      "execution_count": 1,
      "outputs": []
    },
    {
      "cell_type": "code",
      "metadata": {
        "colab": {
          "base_uri": "https://localhost:8080/"
        },
        "id": "2a2OrA9UexST",
        "outputId": "a308809f-dca3-47fd-9337-001c81e5ca1b"
      },
      "source": [
        "# 관련 업종\n",
        "headers = {'User-Agent' : 'Mozilla/5.0 (Macintosh; Intel Mac OS X 10_14_6) AppleWebKit/537.36 (KHTML, like Gecko) Chrome/85.0.4183.121 Safari/537.36'}\n",
        "\n",
        "def get_related(code:str='005930'):\n",
        "  url = 'https://finance.naver.com/item/main.nhn?code=' + code\n",
        "  result = requests.get(url, headers = headers)\n",
        "  bs_obj = BeautifulSoup(result.content, \"html.parser\")\n",
        "  th = bs_obj.find_all(\"th\", {'scope':\"col\"})\n",
        "  th = [x.get_text() for x in th][-12:-7]\n",
        "  elements = [x[-6:] for x in th]\n",
        "  return elements\n",
        "\n",
        "get_related()"
      ],
      "execution_count": 2,
      "outputs": [
        {
          "output_type": "execute_result",
          "data": {
            "text/plain": [
              "['005930', '000660', '357780', '240810', '058470']"
            ]
          },
          "metadata": {
            "tags": []
          },
          "execution_count": 2
        }
      ]
    },
    {
      "cell_type": "code",
      "metadata": {
        "id": "oRtd9Zf8e1eB"
      },
      "source": [
        "# 업종\n",
        "\n",
        "dic = {'에너지': 'WI100', '화학': 'WI110', '비철금속': 'WI200', '철강': 'WI210', '건설': 'WI220', '기계': 'WI230', '조선': 'WI240', '상가,자본재': 'WI250', \\\n",
        "       '운송': 'WI260', '자동차': 'WI300', '화장품,의류': 'WI310', '호텔,레저': 'WI320', '미디어,교육': 'WI330', '소매(유통)': 'WI340', '필수소비재': 'WI400', \\\n",
        "       '건강관리': 'WI410', '은행': 'WI500', '증권': 'WI510', '보험': 'WI520', '소프트웨어': 'WI600', 'IT하드웨어': 'WI610', '반도체': 'WI620', 'IT가전': 'WI630', \\\n",
        "       '디스플레이': 'WI640', '전기통신서비스': 'WI700', '유틸리티': 'WI800'}\n",
        "\n",
        "def get_sector(code):\n",
        "  url = 'http://www.wiseindex.com/Index/GetIndexComponets?ceil_yn=0&dt=' + \\\n",
        "  str(int(''.join(str(datetime.date.today()).split('-'))) - 10) + '&sec_cd=' + dic[code]\n",
        "  result = requests.get(url, headers = headers)\n",
        "  json_list = result.json() \n",
        "\n",
        "  df = pd.DataFrame(columns=['code', 'name', 'sector_name', 'idx_name'])\n",
        "\n",
        "  for json in json_list['list']:\n",
        "    code = json['CMP_CD']\n",
        "    name = json['CMP_KOR']\n",
        "    sector_name = json['SEC_NM_KOR']\n",
        "    idx_name = json['IDX_NM_KOR']\n",
        "    df = df.append({'code':code, 'name':name, 'sector_name':sector_name, 'idx_name':idx_name}, ignore_index=True)\n",
        "\n",
        "  return df"
      ],
      "execution_count": 3,
      "outputs": []
    },
    {
      "cell_type": "code",
      "metadata": {
        "id": "XytbzELHrQPf"
      },
      "source": [
        ""
      ],
      "execution_count": 3,
      "outputs": []
    }
  ]
}