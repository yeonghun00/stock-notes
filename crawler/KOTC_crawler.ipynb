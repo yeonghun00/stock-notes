{
  "nbformat": 4,
  "nbformat_minor": 0,
  "metadata": {
    "colab": {
      "name": "KOTC_crawler.ipynb",
      "provenance": [],
      "collapsed_sections": [],
      "authorship_tag": "ABX9TyMch+m3rmPpN4jBq5MjCC2q",
      "include_colab_link": true
    },
    "kernelspec": {
      "name": "python3",
      "display_name": "Python 3"
    },
    "language_info": {
      "name": "python"
    }
  },
  "cells": [
    {
      "cell_type": "markdown",
      "metadata": {
        "id": "view-in-github",
        "colab_type": "text"
      },
      "source": [
        "<a href=\"https://colab.research.google.com/github/yeonghun00/stock_public/blob/main/crawler/KOTC_crawler.ipynb\" target=\"_parent\"><img src=\"https://colab.research.google.com/assets/colab-badge.svg\" alt=\"Open In Colab\"/></a>"
      ]
    },
    {
      "cell_type": "code",
      "metadata": {
        "id": "yE4F6mVfoUkE"
      },
      "source": [
        "import requests\n",
        "from bs4 import BeautifulSoup\n",
        "import pandas as pd\n",
        "import numpy as np\n",
        "\n",
        "class KOTC:\n",
        "  def __init__(self, code):\n",
        "    self.code = code\n",
        "    self.headers = {'User-Agent' : 'Mozilla/5.0 (Macintosh; Intel Mac OS X 10_14_6) AppleWebKit/537.36 (KHTML, like Gecko) Chrome/85.0.4183.121 Safari/537.36'}\n",
        "\n",
        "  def get_summary(self):\n",
        "    url = 'http://kotc.kisline.com/highlight/mainHighlight.nice?paper_stock=' + str(self.code) + '&nav=1'\n",
        "    result = requests.get(url)\n",
        "    bs_obj = BeautifulSoup(result.content, \"html.parser\")\n",
        "\n",
        "    summary = bs_obj.find_all('table', {'class':'list_b1', 'summary':'기업소개'})[0].find_all('li')\n",
        "    summary = ' '.join([x.text for x in summary])\n",
        "    return summary\n",
        "\n",
        "  def get_share_distribution(self):\n",
        "    url = 'http://kotc.kisline.com/compinfo/mainCompinfo.nice?paper_stock=' + str(self.code) + '&nav=2'\n",
        "    result = requests.get(url)\n",
        "    bs_obj = BeautifulSoup(result.content, \"html.parser\")\n",
        "    table = bs_obj.find_all('table', {'class':'list_a0', 'summary':'부유지분, 관계, 기업명, 그룹명, 대표자, 대표전화, 홈페이지, 주거래은행, 주소'})[0]\n",
        "\n",
        "    columns = [x.get_text() for x in table.find_all('th')]\n",
        "    elements = [x.text for x in table.find_all('td')]\n",
        "    n = len(columns)\n",
        "    elements_li = [elements[i:i+n] for i in range(0, len(elements), n)]\n",
        "\n",
        "    df = pd.DataFrame(elements_li, columns=columns)\n",
        "    df['주식수'] = [int(x[:-1].replace(',','')) for x in df['주식수']]\n",
        "    df['지분율'] = [float(x[:-1])/100 for x in df['지분율']]\n",
        "    return df\n",
        "\n",
        "  def get_stocks_change(self):\n",
        "    url = 'http://kotc.kisline.com/compinfo/mainCompinfo.nice?paper_stock=' + str(self.code)+ '&nav=2'\n",
        "    result = requests.get(url)\n",
        "    bs_obj = BeautifulSoup(result.content, \"html.parser\")\n",
        "    table = bs_obj.find_all('table', {'class':'list_b1', 'summary':'기업명, 설립일자, 기준일, 매출액, 순이익, 자본금, 지주비율'})[0]\n",
        "\n",
        "    columns = [x.get_text() for x in table.find_all('th')][:6]\n",
        "    index = [x.get_text() for x in table.find_all('th')][6:]\n",
        "    elements = [x.text for x in table.find_all('td')]\n",
        "    n = len(columns)-1\n",
        "    elements_li = [elements[i:i+n] for i in range(0, len(elements), n)]\n",
        "    df = pd.DataFrame(elements_li, columns=columns[1:], index=index)\n",
        "    df['변동주식수'] = [int(x.replace(',','')) for x in df['변동주식수']]\n",
        "    df['변동후주식수'] = [int(x.replace(',','')) for x in df['변동후주식수']]\n",
        "    df['변동후자본금'] = [int(x.replace(',','')) for x in df['변동후자본금']]\n",
        "    df['액면가'] = [int(x.replace(',','')) for x in df['액면가']]\n",
        "    return df\n",
        "    \n",
        "  def get_annual(self):\n",
        "    url = 'http://kotc.kisline.com/highlight/mainHighlight.nice?paper_stock=' + str(self.code) + '&nav=1'\n",
        "    result = requests.get(url)\n",
        "    bs_obj = BeautifulSoup(result.content, \"html.parser\")\n",
        "    annual = bs_obj.find_all('table', {'class':'list_b1', 'summary':'매출액'})[0]\n",
        "\n",
        "    columns = [x.text for x in annual.find_all('th')[3:7]]\n",
        "    index = [x.text for x in annual.find_all('th')[7:]]\n",
        "    elements = [x.text for x in annual.find_all('td')]\n",
        "    n = len(columns)\n",
        "    elements_li = [elements[i:i+n] for i in range(0, len(elements), n)]\n",
        "    df = pd.DataFrame(elements_li, columns=columns, index=index)\n",
        "    for c in df.columns:\n",
        "      df[c] = [float(x.replace(',','')) for x in df[c]]\n",
        "    return df\n",
        "\n",
        "  def get_quarter(self):\n",
        "    url = 'http://kotc.kisline.com/highlight/mainHighlight.nice?paper_stock=' + str(self.code) + '&nav=1'\n",
        "    result = requests.get(url)\n",
        "    bs_obj = BeautifulSoup(result.content, \"html.parser\")\n",
        "    annual = bs_obj.find_all('table', {'class':'list_b1', 'summary':'매출액'})[0]\n",
        "    quarter = bs_obj.find_all('table', {'class':'list_b1', 'summary':'매출액'})[1]\n",
        "\n",
        "    columns = [x.text for x in quarter.find_all('th')[1:7]]\n",
        "    index = [x.text for x in annual.find_all('th')[7:]]\n",
        "    elements = [x.text for x in quarter.find_all('td')]\n",
        "    n = len(columns)\n",
        "    elements_li = [elements[i:i+n] for i in range(0, len(elements), n)]\n",
        "    df = pd.DataFrame(elements_li, columns=columns, index=index)\n",
        "    for c in df.columns:\n",
        "      try: \n",
        "        df[c] = [float(x.replace(',','')) for x in df[c]]\n",
        "      except:\n",
        "        df[c] = df[c]\n",
        "    return df"
      ],
      "execution_count": 2,
      "outputs": []
    },
    {
      "cell_type": "code",
      "metadata": {
        "colab": {
          "base_uri": "https://localhost:8080/",
          "height": 80
        },
        "id": "E2QpRWZybMFO",
        "outputId": "4b0a9e5f-9554-40af-a2a0-bc13bf786746"
      },
      "source": [
        "kotc = KOTC('066400')\n",
        "kotc.get_share_distribution()"
      ],
      "execution_count": 3,
      "outputs": [
        {
          "output_type": "execute_result",
          "data": {
            "text/html": [
              "<div>\n",
              "<style scoped>\n",
              "    .dataframe tbody tr th:only-of-type {\n",
              "        vertical-align: middle;\n",
              "    }\n",
              "\n",
              "    .dataframe tbody tr th {\n",
              "        vertical-align: top;\n",
              "    }\n",
              "\n",
              "    .dataframe thead th {\n",
              "        text-align: right;\n",
              "    }\n",
              "</style>\n",
              "<table border=\"1\" class=\"dataframe\">\n",
              "  <thead>\n",
              "    <tr style=\"text-align: right;\">\n",
              "      <th></th>\n",
              "      <th>주주명</th>\n",
              "      <th>관계</th>\n",
              "      <th>주식수</th>\n",
              "      <th>지분율</th>\n",
              "    </tr>\n",
              "  </thead>\n",
              "  <tbody>\n",
              "    <tr>\n",
              "      <th>0</th>\n",
              "      <td>(주)하나투어</td>\n",
              "      <td>모회사</td>\n",
              "      <td>906981</td>\n",
              "      <td>0.3023</td>\n",
              "    </tr>\n",
              "  </tbody>\n",
              "</table>\n",
              "</div>"
            ],
            "text/plain": [
              "       주주명   관계     주식수     지분율\n",
              "0  (주)하나투어  모회사  906981  0.3023"
            ]
          },
          "metadata": {
            "tags": []
          },
          "execution_count": 3
        }
      ]
    },
    {
      "cell_type": "code",
      "metadata": {
        "colab": {
          "base_uri": "https://localhost:8080/",
          "height": 80
        },
        "id": "zoSeKQwKotaF",
        "outputId": "56ba23ae-53ea-4c72-9636-84403c7ca8b2"
      },
      "source": [
        "kotc.get_stocks_change()"
      ],
      "execution_count": 4,
      "outputs": [
        {
          "output_type": "execute_result",
          "data": {
            "text/html": [
              "<div>\n",
              "<style scoped>\n",
              "    .dataframe tbody tr th:only-of-type {\n",
              "        vertical-align: middle;\n",
              "    }\n",
              "\n",
              "    .dataframe tbody tr th {\n",
              "        vertical-align: top;\n",
              "    }\n",
              "\n",
              "    .dataframe thead th {\n",
              "        text-align: right;\n",
              "    }\n",
              "</style>\n",
              "<table border=\"1\" class=\"dataframe\">\n",
              "  <thead>\n",
              "    <tr style=\"text-align: right;\">\n",
              "      <th></th>\n",
              "      <th>변동사유</th>\n",
              "      <th>변동주식수</th>\n",
              "      <th>변동후주식수</th>\n",
              "      <th>변동후자본금</th>\n",
              "      <th>액면가</th>\n",
              "    </tr>\n",
              "  </thead>\n",
              "  <tbody>\n",
              "    <tr>\n",
              "      <th>2014.08.25</th>\n",
              "      <td>등록/지정</td>\n",
              "      <td>3000000</td>\n",
              "      <td>3000000</td>\n",
              "      <td>1500000</td>\n",
              "      <td>500</td>\n",
              "    </tr>\n",
              "  </tbody>\n",
              "</table>\n",
              "</div>"
            ],
            "text/plain": [
              "             변동사유    변동주식수   변동후주식수   변동후자본금  액면가\n",
              "2014.08.25  등록/지정  3000000  3000000  1500000  500"
            ]
          },
          "metadata": {
            "tags": []
          },
          "execution_count": 4
        }
      ]
    },
    {
      "cell_type": "code",
      "metadata": {
        "colab": {
          "base_uri": "https://localhost:8080/",
          "height": 545
        },
        "id": "hoxo8ZKzrk_y",
        "outputId": "f47b71bc-f439-48a8-95b2-205101c09f10"
      },
      "source": [
        "kotc.get_annual()"
      ],
      "execution_count": 5,
      "outputs": [
        {
          "output_type": "execute_result",
          "data": {
            "text/html": [
              "<div>\n",
              "<style scoped>\n",
              "    .dataframe tbody tr th:only-of-type {\n",
              "        vertical-align: middle;\n",
              "    }\n",
              "\n",
              "    .dataframe tbody tr th {\n",
              "        vertical-align: top;\n",
              "    }\n",
              "\n",
              "    .dataframe thead th {\n",
              "        text-align: right;\n",
              "    }\n",
              "</style>\n",
              "<table border=\"1\" class=\"dataframe\">\n",
              "  <thead>\n",
              "    <tr style=\"text-align: right;\">\n",
              "      <th></th>\n",
              "      <th>2018.12</th>\n",
              "      <th>2019.12</th>\n",
              "      <th>2020.12</th>\n",
              "      <th>2021.03</th>\n",
              "    </tr>\n",
              "  </thead>\n",
              "  <tbody>\n",
              "    <tr>\n",
              "      <th>매출액(억원)</th>\n",
              "      <td>150.00</td>\n",
              "      <td>149.00</td>\n",
              "      <td>33.00</td>\n",
              "      <td>3.00</td>\n",
              "    </tr>\n",
              "    <tr>\n",
              "      <th>영업이익(억원)</th>\n",
              "      <td>11.00</td>\n",
              "      <td>11.00</td>\n",
              "      <td>-19.00</td>\n",
              "      <td>-5.00</td>\n",
              "    </tr>\n",
              "    <tr>\n",
              "      <th>영업이익율(%)</th>\n",
              "      <td>7.06</td>\n",
              "      <td>7.13</td>\n",
              "      <td>-57.27</td>\n",
              "      <td>-145.50</td>\n",
              "    </tr>\n",
              "    <tr>\n",
              "      <th>당기순이익(억원)</th>\n",
              "      <td>9.00</td>\n",
              "      <td>9.00</td>\n",
              "      <td>-16.00</td>\n",
              "      <td>-5.00</td>\n",
              "    </tr>\n",
              "    <tr>\n",
              "      <th>순이익율(%)</th>\n",
              "      <td>5.82</td>\n",
              "      <td>5.83</td>\n",
              "      <td>-48.52</td>\n",
              "      <td>-146.37</td>\n",
              "    </tr>\n",
              "    <tr>\n",
              "      <th>자산총계(억원)</th>\n",
              "      <td>66.00</td>\n",
              "      <td>71.00</td>\n",
              "      <td>48.00</td>\n",
              "      <td>44.00</td>\n",
              "    </tr>\n",
              "    <tr>\n",
              "      <th>부채총계(억원)</th>\n",
              "      <td>18.00</td>\n",
              "      <td>19.00</td>\n",
              "      <td>14.00</td>\n",
              "      <td>15.00</td>\n",
              "    </tr>\n",
              "    <tr>\n",
              "      <th>자본총계(억원)</th>\n",
              "      <td>48.00</td>\n",
              "      <td>52.00</td>\n",
              "      <td>33.00</td>\n",
              "      <td>29.00</td>\n",
              "    </tr>\n",
              "    <tr>\n",
              "      <th>유보율(%)</th>\n",
              "      <td>217.22</td>\n",
              "      <td>247.00</td>\n",
              "      <td>121.44</td>\n",
              "      <td>90.76</td>\n",
              "    </tr>\n",
              "    <tr>\n",
              "      <th>ROE</th>\n",
              "      <td>19.35</td>\n",
              "      <td>17.40</td>\n",
              "      <td>-37.14</td>\n",
              "      <td>-59.54</td>\n",
              "    </tr>\n",
              "    <tr>\n",
              "      <th>PER</th>\n",
              "      <td>8.49</td>\n",
              "      <td>7.44</td>\n",
              "      <td>0.00</td>\n",
              "      <td>0.00</td>\n",
              "    </tr>\n",
              "    <tr>\n",
              "      <th>PBR</th>\n",
              "      <td>1.59</td>\n",
              "      <td>1.26</td>\n",
              "      <td>1.42</td>\n",
              "      <td>1.71</td>\n",
              "    </tr>\n",
              "    <tr>\n",
              "      <th>PSR</th>\n",
              "      <td>0.49</td>\n",
              "      <td>0.43</td>\n",
              "      <td>1.37</td>\n",
              "      <td>3.68</td>\n",
              "    </tr>\n",
              "    <tr>\n",
              "      <th>EPS(원)</th>\n",
              "      <td>291.00</td>\n",
              "      <td>289.00</td>\n",
              "      <td>-528.00</td>\n",
              "      <td>-612.00</td>\n",
              "    </tr>\n",
              "    <tr>\n",
              "      <th>BPS(원)</th>\n",
              "      <td>1550.00</td>\n",
              "      <td>1711.00</td>\n",
              "      <td>1047.00</td>\n",
              "      <td>898.00</td>\n",
              "    </tr>\n",
              "    <tr>\n",
              "      <th>SPS(원)</th>\n",
              "      <td>5002.00</td>\n",
              "      <td>4958.00</td>\n",
              "      <td>1088.00</td>\n",
              "      <td>419.00</td>\n",
              "    </tr>\n",
              "  </tbody>\n",
              "</table>\n",
              "</div>"
            ],
            "text/plain": [
              "           2018.12  2019.12  2020.12  2021.03\n",
              "매출액(억원)     150.00   149.00    33.00     3.00\n",
              "영업이익(억원)     11.00    11.00   -19.00    -5.00\n",
              "영업이익율(%)      7.06     7.13   -57.27  -145.50\n",
              "당기순이익(억원)     9.00     9.00   -16.00    -5.00\n",
              "순이익율(%)       5.82     5.83   -48.52  -146.37\n",
              "자산총계(억원)     66.00    71.00    48.00    44.00\n",
              "부채총계(억원)     18.00    19.00    14.00    15.00\n",
              "자본총계(억원)     48.00    52.00    33.00    29.00\n",
              "유보율(%)      217.22   247.00   121.44    90.76\n",
              "ROE          19.35    17.40   -37.14   -59.54\n",
              "PER           8.49     7.44     0.00     0.00\n",
              "PBR           1.59     1.26     1.42     1.71\n",
              "PSR           0.49     0.43     1.37     3.68\n",
              "EPS(원)      291.00   289.00  -528.00  -612.00\n",
              "BPS(원)     1550.00  1711.00  1047.00   898.00\n",
              "SPS(원)     5002.00  4958.00  1088.00   419.00"
            ]
          },
          "metadata": {
            "tags": []
          },
          "execution_count": 5
        }
      ]
    },
    {
      "cell_type": "code",
      "metadata": {
        "colab": {
          "base_uri": "https://localhost:8080/",
          "height": 545
        },
        "id": "c8FA-noeTDas",
        "outputId": "bf6c185f-dc3e-420d-d6be-d96043244e0b"
      },
      "source": [
        "kotc.get_quarter()"
      ],
      "execution_count": 6,
      "outputs": [
        {
          "output_type": "execute_result",
          "data": {
            "text/html": [
              "<div>\n",
              "<style scoped>\n",
              "    .dataframe tbody tr th:only-of-type {\n",
              "        vertical-align: middle;\n",
              "    }\n",
              "\n",
              "    .dataframe tbody tr th {\n",
              "        vertical-align: top;\n",
              "    }\n",
              "\n",
              "    .dataframe thead th {\n",
              "        text-align: right;\n",
              "    }\n",
              "</style>\n",
              "<table border=\"1\" class=\"dataframe\">\n",
              "  <thead>\n",
              "    <tr style=\"text-align: right;\">\n",
              "      <th></th>\n",
              "      <th>2020.03</th>\n",
              "      <th>2020.06</th>\n",
              "      <th>2020.09</th>\n",
              "      <th>2020.12</th>\n",
              "      <th>2021.03</th>\n",
              "    </tr>\n",
              "  </thead>\n",
              "  <tbody>\n",
              "    <tr>\n",
              "      <th>매출액(억원)</th>\n",
              "      <td>24.00</td>\n",
              "      <td>4.00</td>\n",
              "      <td>2.00</td>\n",
              "      <td>3.00</td>\n",
              "      <td>3.00</td>\n",
              "    </tr>\n",
              "    <tr>\n",
              "      <th>영업이익(억원)</th>\n",
              "      <td>-2.00</td>\n",
              "      <td>-7.00</td>\n",
              "      <td>-4.00</td>\n",
              "      <td>-6.00</td>\n",
              "      <td>-5.00</td>\n",
              "    </tr>\n",
              "    <tr>\n",
              "      <th>영업이익율(%)</th>\n",
              "      <td>-9.17</td>\n",
              "      <td>-180.17</td>\n",
              "      <td>-195.17</td>\n",
              "      <td>-195.35</td>\n",
              "      <td>-145.50</td>\n",
              "    </tr>\n",
              "    <tr>\n",
              "      <th>당기순이익(억원)</th>\n",
              "      <td>-2.00</td>\n",
              "      <td>-6.00</td>\n",
              "      <td>-4.00</td>\n",
              "      <td>-4.00</td>\n",
              "      <td>-5.00</td>\n",
              "    </tr>\n",
              "    <tr>\n",
              "      <th>순이익율(%)</th>\n",
              "      <td>-8.86</td>\n",
              "      <td>-148.25</td>\n",
              "      <td>-212.89</td>\n",
              "      <td>-126.99</td>\n",
              "      <td>-146.37</td>\n",
              "    </tr>\n",
              "    <tr>\n",
              "      <th>자산총계(억원)</th>\n",
              "      <td>69.00</td>\n",
              "      <td>60.00</td>\n",
              "      <td>55.00</td>\n",
              "      <td>48.00</td>\n",
              "      <td>44.00</td>\n",
              "    </tr>\n",
              "    <tr>\n",
              "      <th>부채총계(억원)</th>\n",
              "      <td>23.00</td>\n",
              "      <td>19.00</td>\n",
              "      <td>18.00</td>\n",
              "      <td>14.00</td>\n",
              "      <td>15.00</td>\n",
              "    </tr>\n",
              "    <tr>\n",
              "      <th>자본총계(억원)</th>\n",
              "      <td>47.00</td>\n",
              "      <td>41.00</td>\n",
              "      <td>37.00</td>\n",
              "      <td>33.00</td>\n",
              "      <td>29.00</td>\n",
              "    </tr>\n",
              "    <tr>\n",
              "      <th>유보율(%)</th>\n",
              "      <td>212.89</td>\n",
              "      <td>175.41</td>\n",
              "      <td>145.53</td>\n",
              "      <td>121.44</td>\n",
              "      <td>90.76</td>\n",
              "    </tr>\n",
              "    <tr>\n",
              "      <th>ROE</th>\n",
              "      <td>-17.10</td>\n",
              "      <td>-50.98</td>\n",
              "      <td>-45.88</td>\n",
              "      <td>-41.27</td>\n",
              "      <td>-59.54</td>\n",
              "    </tr>\n",
              "    <tr>\n",
              "      <th>PER</th>\n",
              "      <td>0.00</td>\n",
              "      <td>0.00</td>\n",
              "      <td>0.00</td>\n",
              "      <td>0.00</td>\n",
              "      <td>0.00</td>\n",
              "    </tr>\n",
              "    <tr>\n",
              "      <th>PBR</th>\n",
              "      <td>1.08</td>\n",
              "      <td>1.25</td>\n",
              "      <td>1.30</td>\n",
              "      <td>1.42</td>\n",
              "      <td>1.71</td>\n",
              "    </tr>\n",
              "    <tr>\n",
              "      <th>PSR</th>\n",
              "      <td>2.07</td>\n",
              "      <td>13.41</td>\n",
              "      <td>0.00</td>\n",
              "      <td>0.00</td>\n",
              "      <td>14.70</td>\n",
              "    </tr>\n",
              "    <tr>\n",
              "      <th>EPS(원)</th>\n",
              "      <td>-71.00</td>\n",
              "      <td>-187.00</td>\n",
              "      <td>0.00</td>\n",
              "      <td>0.00</td>\n",
              "      <td>-153.00</td>\n",
              "    </tr>\n",
              "    <tr>\n",
              "      <th>BPS(원)</th>\n",
              "      <td>1526.00</td>\n",
              "      <td>1354.00</td>\n",
              "      <td>1207.00</td>\n",
              "      <td>1047.00</td>\n",
              "      <td>898.00</td>\n",
              "    </tr>\n",
              "    <tr>\n",
              "      <th>SPS(원)</th>\n",
              "      <td>796.00</td>\n",
              "      <td>126.00</td>\n",
              "      <td>0.00</td>\n",
              "      <td>0.00</td>\n",
              "      <td>105.00</td>\n",
              "    </tr>\n",
              "  </tbody>\n",
              "</table>\n",
              "</div>"
            ],
            "text/plain": [
              "           2020.03  2020.06  2020.09  2020.12  2021.03\n",
              "매출액(억원)      24.00     4.00     2.00     3.00     3.00\n",
              "영업이익(억원)     -2.00    -7.00    -4.00    -6.00    -5.00\n",
              "영업이익율(%)     -9.17  -180.17  -195.17  -195.35  -145.50\n",
              "당기순이익(억원)    -2.00    -6.00    -4.00    -4.00    -5.00\n",
              "순이익율(%)      -8.86  -148.25  -212.89  -126.99  -146.37\n",
              "자산총계(억원)     69.00    60.00    55.00    48.00    44.00\n",
              "부채총계(억원)     23.00    19.00    18.00    14.00    15.00\n",
              "자본총계(억원)     47.00    41.00    37.00    33.00    29.00\n",
              "유보율(%)      212.89   175.41   145.53   121.44    90.76\n",
              "ROE         -17.10   -50.98   -45.88   -41.27   -59.54\n",
              "PER           0.00     0.00     0.00     0.00     0.00\n",
              "PBR           1.08     1.25     1.30     1.42     1.71\n",
              "PSR           2.07    13.41     0.00     0.00    14.70\n",
              "EPS(원)      -71.00  -187.00     0.00     0.00  -153.00\n",
              "BPS(원)     1526.00  1354.00  1207.00  1047.00   898.00\n",
              "SPS(원)      796.00   126.00     0.00     0.00   105.00"
            ]
          },
          "metadata": {
            "tags": []
          },
          "execution_count": 6
        }
      ]
    },
    {
      "cell_type": "code",
      "metadata": {
        "id": "p2u3oPjejAAY"
      },
      "source": [
        "from scipy.stats.mstats import gmean\n",
        "\n",
        "def get_growth_score(li):\n",
        "  return gmean(li)"
      ],
      "execution_count": null,
      "outputs": []
    },
    {
      "cell_type": "code",
      "metadata": {
        "id": "_0XvoYNHce9y"
      },
      "source": [
        "stock_str = '066400134610104770104230003340123900068750201150237010079180298420074750227680015150026970252980140320008340012760005900105700013900035430043500366130387530040830328270050480316640078060102600250900080640276620280140274460168570002580070080018360066190279000015200042380179690268030227580066290070480012580002470073960032040037340041710192230293290323530049410011400102950043720129050114290224850036150037890001890141110068420190410011870008120046290206300184560038520036220114750110030101970063180010090381530013090140310090120104690065050037640166220087800040100049500031690020920094930099620038710047730363230061610072610025100045020060910084820130480049130030010054190241140012350075120012670036840'"
      ],
      "execution_count": 20,
      "outputs": []
    },
    {
      "cell_type": "code",
      "metadata": {
        "id": "7Ws-eNxsrcGO"
      },
      "source": [
        "codes = [stock_str[i:i+6] for i in range(0, len(stock_str),6)]"
      ],
      "execution_count": 21,
      "outputs": []
    },
    {
      "cell_type": "code",
      "metadata": {
        "id": "tDpAAJGeheew"
      },
      "source": [
        "annual_dic = {}\n",
        "\n",
        "for code in codes:\n",
        "  kotc = KOTC(code)\n",
        "  try:\n",
        "    annual_dic[code] = kotc.get_annual().loc['영업이익율(%)']/100 + 1\n",
        "  except:\n",
        "    pass"
      ],
      "execution_count": 25,
      "outputs": []
    },
    {
      "cell_type": "code",
      "metadata": {
        "id": "HfhSF6i3iBlC",
        "outputId": "20814cce-eadd-455a-a77d-3e93c5c447c9",
        "colab": {
          "base_uri": "https://localhost:8080/"
        }
      },
      "source": [
        "new_d = {}\n",
        "\n",
        "for key in annual_dic:\n",
        "  try:\n",
        "    new_d[key] = get_growth_score(annual_dic[key])\n",
        "  except:\n",
        "    pass"
      ],
      "execution_count": 28,
      "outputs": [
        {
          "output_type": "stream",
          "text": [
            "/usr/local/lib/python3.7/dist-packages/scipy/stats/stats.py:330: RuntimeWarning: invalid value encountered in log\n",
            "  log_a = np.log(np.array(a, dtype=dtype))\n"
          ],
          "name": "stderr"
        }
      ]
    },
    {
      "cell_type": "code",
      "metadata": {
        "id": "-gJaNnCKNxEM",
        "outputId": "b22a2784-26f9-469b-c2ef-6b317dd90de2",
        "colab": {
          "base_uri": "https://localhost:8080/"
        }
      },
      "source": [
        "sorted(new_d.items(), key=lambda x: x[1], reverse=True)"
      ],
      "execution_count": 36,
      "outputs": [
        {
          "output_type": "execute_result",
          "data": {
            "text/plain": [
              "[('066400', nan),\n",
              " ('134610', nan),\n",
              " ('237010', nan),\n",
              " ('298420', 1.441330023366001),\n",
              " ('050480', 1.2431943595114823),\n",
              " ('079180', 1.1951530089135038),\n",
              " ('102600', 1.154119200660003),\n",
              " ('123900', 1.1492013867468494),\n",
              " ('005900', 1.1193181232100706),\n",
              " ('026970', 1.0907446526801867),\n",
              " ('104770', 1.0803572569087148),\n",
              " ('201150', 1.0606162093572555),\n",
              " ('008340', 1.036509094516454),\n",
              " ('387530', 1.0360407263494176),\n",
              " ('035430', 1.0289838530954718),\n",
              " ('250900', nan),\n",
              " ('276620', nan),\n",
              " ('280140', 1.1430302250962923),\n",
              " ('074750', 1.1174099869062062),\n",
              " ('227680', 1.097737791274216),\n",
              " ('274460', nan),\n",
              " ('168570', nan),\n",
              " ('042380', 1.0892239042800278),\n",
              " ('268030', nan),\n",
              " ('037340', 1.0880485608655095),\n",
              " ('015200', 1.0624807047677487),\n",
              " ('080640', 1.050954372182419),\n",
              " ('066290', 1.047641656746419),\n",
              " ('140320', 1.0386470849639113),\n",
              " ('104230', 1.0364680476217814),\n",
              " ('018360', 1.028333726831703),\n",
              " ('003340', 1.0278129922869947),\n",
              " ('279000', 1.0254237184694381),\n",
              " ('066190', 1.022463296413268),\n",
              " ('013900', 1.0200646716477149),\n",
              " ('012580', 1.0186959200235497),\n",
              " ('002470', 1.0175363772352801),\n",
              " ('328270', 1.01748570077871),\n",
              " ('078060', 1.017363241288313),\n",
              " ('105700', 1.012060118493576),\n",
              " ('179690', 1.0104998184702738),\n",
              " ('012760', 1.0081542077766665),\n",
              " ('040830', 1.0022437839196527),\n",
              " ('043500', 0.9997159222789279),\n",
              " ('070080', 0.984993450007003),\n",
              " ('073960', 0.9719121800528671),\n",
              " ('015150', 0.9545400370022857),\n",
              " ('070480', 0.9379146831460234),\n",
              " ('041710', 0.9126727026187469),\n",
              " ('252980', 0.8936417353705872),\n",
              " ('068750', 0.8408238918839708),\n",
              " ('002580', 0.6968131346830254),\n",
              " ('192230', nan),\n",
              " ('190410', 1.374811244380132),\n",
              " ('184560', nan),\n",
              " ('036220', 1.2007176949698235),\n",
              " ('046290', 1.1812266151654325),\n",
              " ('114750', nan),\n",
              " ('381530', nan),\n",
              " ('104690', nan),\n",
              " ('049500', nan),\n",
              " ('020920', nan),\n",
              " ('072610', 1.26981108188252),\n",
              " ('049130', 1.220223337166931),\n",
              " ('011870', 1.1264453086112414),\n",
              " ('038710', 1.1179336458165336),\n",
              " ('129050', 1.0913121508653585),\n",
              " ('030010', 1.087649090465378),\n",
              " ('012670', 1.085896386455481),\n",
              " ('037890', 1.0858047587239898),\n",
              " ('102950', 1.082597401088076),\n",
              " ('061610', 1.0813343331411798),\n",
              " ('094930', 1.0780947197819484),\n",
              " ('040100', 1.0771882791763412),\n",
              " ('001890', 1.0699514181408927),\n",
              " ('063180', 1.0610776400883923),\n",
              " ('114290', 1.060155340294734),\n",
              " ('025100', 1.0587534806586218),\n",
              " ('099620', 1.0467737251067937),\n",
              " ('065050', 1.0412519086671204),\n",
              " ('031690', 1.0204098657610354),\n",
              " ('012350', 1.0190695038967739),\n",
              " ('010090', 1.0131571484534254),\n",
              " ('110030', 1.0112449160590171),\n",
              " ('087800', 1.0092493346724718),\n",
              " ('049410', 1.0041095162361169),\n",
              " ('084820', 1.0012545181711687),\n",
              " ('008120', 1.0011531959587974),\n",
              " ('038520', 0.9996285604767602),\n",
              " ('043720', 0.995527248432689),\n",
              " ('036150', 0.9939273514635848),\n",
              " ('013090', 0.9915764720003155),\n",
              " ('090120', 0.9883279995735013),\n",
              " ('037640', 0.9618955936898946),\n",
              " ('075120', 0.9612384860463481),\n",
              " ('130480', 0.9476825319419379),\n",
              " ('293290', 0.9453419906742634),\n",
              " ('101970', 0.934409658899095),\n",
              " ('323530', 0.9321120064867727),\n",
              " ('054190', 0.8926530639880791),\n",
              " ('141110', 0.8824933313244031),\n",
              " ('241140', 0.8175494833864709),\n",
              " ('045020', 0.8037307466362389),\n",
              " ('206300', 0.7971864859552074),\n",
              " ('047730', 0.6589606343946236),\n",
              " ('140310', 0.6045696571747243),\n",
              " ('036840', 0.5905946902223372),\n",
              " ('068420', 0.5610053627189273),\n",
              " ('060910', 0.288198269273517)]"
            ]
          },
          "metadata": {
            "tags": []
          },
          "execution_count": 36
        }
      ]
    },
    {
      "cell_type": "code",
      "metadata": {
        "id": "q9HS3bL1fUCa",
        "outputId": "8422353d-0eb9-4484-db34-e0926b9fb212",
        "colab": {
          "base_uri": "https://localhost:8080/"
        }
      },
      "source": [
        "kotc.get_annual().loc['영업이익율(%)']"
      ],
      "execution_count": 16,
      "outputs": [
        {
          "output_type": "execute_result",
          "data": {
            "text/plain": [
              "2018.12      7.06\n",
              "2019.12      7.13\n",
              "2020.12    -57.27\n",
              "2021.03   -145.50\n",
              "Name: 영업이익율(%), dtype: float64"
            ]
          },
          "metadata": {
            "tags": []
          },
          "execution_count": 16
        }
      ]
    },
    {
      "cell_type": "code",
      "metadata": {
        "id": "asVOGMhRfc1B",
        "outputId": "dcc6c591-05c8-4f62-8be7-333f0298821e",
        "colab": {
          "base_uri": "https://localhost:8080/"
        }
      },
      "source": [
        "kotc.get_annual().loc['영업이익율(%)']/100"
      ],
      "execution_count": 18,
      "outputs": [
        {
          "output_type": "execute_result",
          "data": {
            "text/plain": [
              "2018.12    0.0706\n",
              "2019.12    0.0713\n",
              "2020.12   -0.5727\n",
              "2021.03   -1.4550\n",
              "Name: 영업이익율(%), dtype: float64"
            ]
          },
          "metadata": {
            "tags": []
          },
          "execution_count": 18
        }
      ]
    },
    {
      "cell_type": "code",
      "metadata": {
        "id": "1PFUf_aDf0AW",
        "outputId": "a0dc210c-bd02-43fc-91e9-a5932fabb102",
        "colab": {
          "base_uri": "https://localhost:8080/"
        }
      },
      "source": [
        "kotc.get_annual().loc['영업이익율(%)']/100 + 1"
      ],
      "execution_count": 19,
      "outputs": [
        {
          "output_type": "execute_result",
          "data": {
            "text/plain": [
              "2018.12    1.0706\n",
              "2019.12    1.0713\n",
              "2020.12    0.4273\n",
              "2021.03   -0.4550\n",
              "Name: 영업이익율(%), dtype: float64"
            ]
          },
          "metadata": {
            "tags": []
          },
          "execution_count": 19
        }
      ]
    },
    {
      "cell_type": "code",
      "metadata": {
        "id": "CFbpSB8tgSv-"
      },
      "source": [
        ""
      ],
      "execution_count": null,
      "outputs": []
    }
  ]
}