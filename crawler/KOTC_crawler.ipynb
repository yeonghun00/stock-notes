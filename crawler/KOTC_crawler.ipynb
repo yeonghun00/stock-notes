{
  "nbformat": 4,
  "nbformat_minor": 0,
  "metadata": {
    "colab": {
      "name": "KOTC_crawler.ipynb",
      "provenance": [],
      "collapsed_sections": [],
      "authorship_tag": "ABX9TyOPPlsZyvZJEYuV9tvaFSZQ",
      "include_colab_link": true
    },
    "kernelspec": {
      "name": "python3",
      "display_name": "Python 3"
    },
    "language_info": {
      "name": "python"
    }
  },
  "cells": [
    {
      "cell_type": "markdown",
      "metadata": {
        "id": "view-in-github",
        "colab_type": "text"
      },
      "source": [
        "<a href=\"https://colab.research.google.com/github/yeonghun00/stock_public/blob/main/crawler/KOTC_crawler.ipynb\" target=\"_parent\"><img src=\"https://colab.research.google.com/assets/colab-badge.svg\" alt=\"Open In Colab\"/></a>"
      ]
    },
    {
      "cell_type": "code",
      "metadata": {
        "id": "yE4F6mVfoUkE"
      },
      "source": [
        "import requests\n",
        "from bs4 import BeautifulSoup\n",
        "import pandas as pd\n",
        "import numpy as np\n",
        "import datetime\n",
        "import ast\n",
        "\n",
        "class Stock:\n",
        "  def __init__(self, code):\n",
        "    self.code = code\n",
        "    self.headers = {'User-Agent' : 'Mozilla/5.0 (Macintosh; Intel Mac OS X 10_14_6) AppleWebKit/537.36 (KHTML, like Gecko) Chrome/85.0.4183.121 Safari/537.36'}\n",
        "\n",
        "  def get_price(self):\n",
        "    url = 'http://kotc.kisline.com/highlight/mainHighlight.nice?paper_stock=' + self.code + '&nav=1'\n",
        "    result = requests.get(url)\n",
        "    bs_obj = BeautifulSoup(result.content, \"html.parser\")\n",
        "    b = bs_obj.get_text()\n",
        "    for i in ['\\n', '\\t', \"\\\\\", ' ']:\n",
        "      b = b.replace(i,'')\n",
        "\n",
        "    data = np.array(ast.literal_eval(b)[1:])\n",
        "\n",
        "    dic = {'Date':list(map(lambda x: datetime.datetime.strptime(str(x), '%Y%m%d'), data[:,0])), \\\n",
        "      'Open':np.array(data[:,1], int), 'High':np.array(data[:,2], int), 'Low':np.array(data[:,3], int),\\\n",
        "       'Close':np.array(data[:,4], int), 'Volume':np.array(data[:,5], int)}\n",
        "\n",
        "    df = pd.DataFrame(data=dic)\n",
        "    df = df.set_index('Date')\n",
        "    return df\n",
        "    \n",
        "  def get_fundamental(self):\n",
        "    url = 'https://finance.naver.com/item/main.nhn?code=' + self.code\n",
        "    result = requests.get(url, headers = self.headers)\n",
        "    bs_obj = BeautifulSoup(result.content, \"html.parser\")\n",
        "\n",
        "    ths = bs_obj.find_all(\"th\", {'scope':'col'})\n",
        "    ths = [th.get_text() for th in ths][10:-22]\n",
        "    dates = list(map(lambda x: x.translate(str.maketrans('','','\\n\\t, ')),ths))\n",
        "    dates = list(map(lambda x: x + '(Y)', dates[:4])) + list(map(lambda x: x + '(M)', dates[4:]))\n",
        "\n",
        "    tr = bs_obj.find_all(\"tbody\")\n",
        "    tds = tr[2].find_all('td')\n",
        "    tds = [td.get_text() for td in tds]\n",
        "    elements = list(map(lambda x: x.translate(str.maketrans('','','\\n\\t, ')),tds))\n",
        "    elements = list(map(lambda x: float(x) if x.replace('.','').isdigit() else np.nan, elements))\n",
        "\n",
        "    temp_dict = {}\n",
        "    cnt = 0\n",
        "    index = ['sales', 'operating profit', 'net income', 'operating margin', 'net margin', 'roe', 'debt ratio', 'quick ratio', \\\n",
        "    'reserve ratio', 'eps', 'per', 'bps', 'pbr', 'dividend per share', 'dividend yield ratio', 'dividend payout ratio']\n",
        "\n",
        "    for i in dates:\n",
        "      temp_dict[i] = elements[cnt::10]\n",
        "      cnt += 1\n",
        "\n",
        "    df = pd.DataFrame.from_dict(temp_dict)\n",
        "    df = df.set_index([pd.Index(index)])\n",
        "    return df"
      ],
      "execution_count": null,
      "outputs": []
    },
    {
      "cell_type": "code",
      "metadata": {
        "id": "GyOPRHOJotRn"
      },
      "source": [
        "import requests\n",
        "from bs4 import BeautifulSoup\n",
        "import pandas as pd\n",
        "import numpy as np\n",
        "import datetime\n",
        "import ast\n"
      ],
      "execution_count": 1,
      "outputs": []
    },
    {
      "cell_type": "code",
      "metadata": {
        "id": "zoSeKQwKotaF"
      },
      "source": [
        "url = 'http://kotc.kisline.com/highlight/mainHighlight.nice?paper_stock=227680&nav=1'\n",
        "result = requests.get(url)\n",
        "bs_obj = BeautifulSoup(result.content, \"html.parser\")\n",
        "\n",
        "summary = bs_obj.find_all('table', {'class':'list_b1', 'summary':'기업소개'})[0].find_all('li')\n",
        "summary = ' '.join([x.text for x in summary])"
      ],
      "execution_count": 34,
      "outputs": []
    },
    {
      "cell_type": "code",
      "metadata": {
        "colab": {
          "base_uri": "https://localhost:8080/",
          "height": 171
        },
        "id": "NxWB6ghPoyUk",
        "outputId": "9d1609fe-f506-4b30-e3cd-cfc8c6e0f507"
      },
      "source": [
        "summary"
      ],
      "execution_count": 35,
      "outputs": [
        {
          "output_type": "execute_result",
          "data": {
            "application/vnd.google.colaboratory.intrinsic+json": {
              "type": "string"
            },
            "text/plain": [
              "'뉴젠홀딩스(주)는 2002년 1월 소프트웨어 개발 및 공급 등을 목적으로 설립되어 2008년 7월 법인전환하였으며, 2017년 3월 현재의 상호로 변경하고 경영정보화솔루션 개발 및 공급업을 영위 중에 있음. 2013년 11월 스마트M그룹웨어 제품을 출시하고, 2014년 6월 ERP연동 계좌조회서비스를 출시하였으며, 9월에는 선택적 기업복지서비스인 웰마켓(복지몰)을 출시하였음. 2018년 3월 웰마켓 사업부문을 물적분할하여 웰마켓(주)로 신설하였으나, 2020년 3월 대표이사 등에게 매각하였음. 현재 동사는 ERP시스템 사업부문을 주력사업으로 영위하고 있으며, 바코드ERP, 프로젝트ERP, 모바일ERP, 오픈마켓ERP(샵엔ERP) 등의 다양한 솔루션을 제공하고 있음. 한편, 2013년 기업부설연구소를 설립하여 연구개발을 지속하고 있음. 2020년 결산 기준 매출액은 코로나19 여파로 정부의 비대면 서비스 바우처 지원사업 대상자로 선정되어 동사의 뉴젠 ERP 솔루션 수주가 호조를 보인 가운데 유지보수 수주도 증가하여 전년대비 122.38% 증가한 2,843백만원을 기록, 큰 폭의 매출 성장세를 시현하였음. 큰 폭의 매출 성장으로 판관비 부담이 완화되었으나 원가구조 저하로 전년대비 영업이익률이 크게 하락하였으며, 순이익은 적자전환하였음.(영업이익률 2.29%, 당기순손실 40백만원) (주)투비소프트 지분 취득으로 발생한 매도가능증권평가이익의 기타자본 반영으로 자기자본이 확충되었으나 차입금 증가 등으로 부채 규모가 확대되어 전년대비 제안정성 지표 저하, 자기자본비율 51.59%, 부채비율 93.83%, 차입금의존도 45.16%로 자산대비 차입금이 과중한 수준을 보임. 정부의 디지털뉴딜 정책사업과 함께 K비대면 바우처 플랫폼 내 높은 평점을 기록하며 제품경쟁력을 확보하고 있는 바, ERP 솔루션 수주가 지속되며 양호한 매출 성장세 이어갈 것으로 예상됨. 또한, 이에 따른 고정비 부담의 완화로 수익구조도 개선될 것으로 예상됨.'"
            ]
          },
          "metadata": {
            "tags": []
          },
          "execution_count": 35
        }
      ]
    },
    {
      "cell_type": "code",
      "metadata": {
        "id": "hoxo8ZKzrk_y"
      },
      "source": [
        ""
      ],
      "execution_count": 32,
      "outputs": []
    },
    {
      "cell_type": "code",
      "metadata": {
        "colab": {
          "base_uri": "https://localhost:8080/"
        },
        "id": "wEVWiFELozF6",
        "outputId": "8f3c7f09-cc1b-4fad-e4c3-b27fe2eb7056"
      },
      "source": [
        "annual = bs_obj.find_all('table', {'class':'list_b1', 'summary':'매출액'})[0]\n",
        "annual"
      ],
      "execution_count": 40,
      "outputs": [
        {
          "output_type": "execute_result",
          "data": {
            "text/plain": [
              "<table class=\"list_b1\" style=\"float:left;width:50%;border-right:3px double #b7b7b7;\" summary=\"매출액\">\n",
              "<caption>상세내용</caption>\n",
              "<colgroup>\n",
              "<col width=\"12%\"/>\n",
              "<col width=\"8%\"/>\n",
              "<col width=\"8%\"/>\n",
              "<col width=\"8%\"/>\n",
              "<col width=\"8%\"/>\n",
              "</colgroup>\n",
              "<thead>\n",
              "<tr>\n",
              "<th class=\"first\" scope=\"col\"> </th>\n",
              "<th colspan=\"4\" scope=\"col\">연간재무제표(Annual)</th>\n",
              "</tr>\n",
              "<tr>\n",
              "<th class=\"first\" scope=\"col\">구분</th>\n",
              "<th scope=\"col\">2017.12</th>\n",
              "<th scope=\"col\">2018.12</th>\n",
              "<th scope=\"col\">2019.12</th>\n",
              "<th scope=\"col\">2020.12</th>\n",
              "</tr>\n",
              "</thead>\n",
              "<tbody>\n",
              "<tr>\n",
              "<th scope=\"row\">매출액(억원)</th>\n",
              "<td class=\"rgt\">5</td>\n",
              "<td class=\"rgt\">6</td>\n",
              "<td class=\"rgt\">13</td>\n",
              "<td class=\"rgt\">28</td>\n",
              "</tr>\n",
              "<tr class=\"bgc_gry\">\n",
              "<th scope=\"row\">영업이익(억원)</th>\n",
              "<td class=\"rgt\">0</td>\n",
              "<td class=\"rgt\">1</td>\n",
              "<td class=\"rgt\">2</td>\n",
              "<td class=\"rgt\">1</td>\n",
              "</tr>\n",
              "<tr>\n",
              "<th scope=\"row\">영업이익율(%)</th>\n",
              "<td class=\"rgt\">8.22</td>\n",
              "<td class=\"rgt\">12.26</td>\n",
              "<td class=\"rgt\">16.85</td>\n",
              "<td class=\"rgt\">2.29</td>\n",
              "</tr>\n",
              "<tr class=\"bgc_gry\">\n",
              "<th scope=\"row\">당기순이익(억원)</th>\n",
              "<td class=\"rgt\">0</td>\n",
              "<td class=\"rgt\">0</td>\n",
              "<td class=\"rgt\">1</td>\n",
              "<td class=\"rgt\"><font color=\"red\">0</font></td>\n",
              "</tr>\n",
              "<tr>\n",
              "<th scope=\"row\">순이익율(%)</th>\n",
              "<td class=\"rgt\">3.4</td>\n",
              "<td class=\"rgt\">3.24</td>\n",
              "<td class=\"rgt\">9.45</td>\n",
              "<td class=\"rgt\"><font color=\"red\">-1.4</font></td>\n",
              "</tr>\n",
              "<tr class=\"bgc_gry\">\n",
              "<th scope=\"row\">자산총계(억원)</th>\n",
              "<td class=\"rgt\">44</td>\n",
              "<td class=\"rgt\">53</td>\n",
              "<td class=\"rgt\">74</td>\n",
              "<td class=\"rgt\">166</td>\n",
              "</tr>\n",
              "<tr>\n",
              "<th scope=\"row\">부채총계(억원)</th>\n",
              "<td class=\"rgt\">12</td>\n",
              "<td class=\"rgt\">21</td>\n",
              "<td class=\"rgt\">31</td>\n",
              "<td class=\"rgt\">80</td>\n",
              "</tr>\n",
              "<tr class=\"bgc_gry\">\n",
              "<th scope=\"row\">자본총계(억원)</th>\n",
              "<td class=\"rgt\">32</td>\n",
              "<td class=\"rgt\">32</td>\n",
              "<td class=\"rgt\">43</td>\n",
              "<td class=\"rgt\">86</td>\n",
              "</tr>\n",
              "<tr>\n",
              "<th scope=\"row\">유보율(%)</th>\n",
              "<td class=\"rgt\">24.77</td>\n",
              "<td class=\"rgt\">25.53</td>\n",
              "<td class=\"rgt\">24.29</td>\n",
              "<td class=\"rgt\">144.51</td>\n",
              "</tr>\n",
              "<tr class=\"bgc_gry\">\n",
              "<th scope=\"row\">ROE</th>\n",
              "<td class=\"rgt\">0.65</td>\n",
              "<td class=\"rgt\">0.61</td>\n",
              "<td class=\"rgt\">3.21</td>\n",
              "<td class=\"rgt\"><font color=\"red\">-0.62</font></td>\n",
              "</tr>\n",
              "<tr>\n",
              "<th scope=\"row\">PER</th>\n",
              "<td class=\"rgt\">530</td>\n",
              "<td class=\"rgt\">1,500</td>\n",
              "<td class=\"rgt\">0</td>\n",
              "<td class=\"rgt\">0</td>\n",
              "</tr>\n",
              "<tr class=\"bgc_gry\">\n",
              "<th scope=\"row\">PBR</th>\n",
              "<td class=\"rgt\">4.77</td>\n",
              "<td class=\"rgt\">13.76</td>\n",
              "<td class=\"rgt\">4.81</td>\n",
              "<td class=\"rgt\">1.71</td>\n",
              "</tr>\n",
              "<tr>\n",
              "<th scope=\"row\">PSR</th>\n",
              "<td class=\"rgt\">0</td>\n",
              "<td class=\"rgt\">62.5</td>\n",
              "<td class=\"rgt\">0</td>\n",
              "<td class=\"rgt\">0</td>\n",
              "</tr>\n",
              "<tr class=\"bgc_gry\">\n",
              "<th scope=\"row\">EPS(원)</th>\n",
              "<td class=\"rgt\">1</td>\n",
              "<td class=\"rgt\">1</td>\n",
              "<td class=\"rgt\">0</td>\n",
              "<td class=\"rgt\">0</td>\n",
              "</tr>\n",
              "<tr>\n",
              "<th scope=\"row\">BPS(원)</th>\n",
              "<td class=\"rgt\">111</td>\n",
              "<td class=\"rgt\">109</td>\n",
              "<td class=\"rgt\">113</td>\n",
              "<td class=\"rgt\">230</td>\n",
              "</tr>\n",
              "<tr class=\"bgc_gry\">\n",
              "<th scope=\"row\">SPS(원)</th>\n",
              "<td class=\"rgt\">0</td>\n",
              "<td class=\"rgt\">24</td>\n",
              "<td class=\"rgt\">0</td>\n",
              "<td class=\"rgt\">0</td>\n",
              "</tr>\n",
              "</tbody>\n",
              "</table>"
            ]
          },
          "metadata": {
            "tags": []
          },
          "execution_count": 40
        }
      ]
    },
    {
      "cell_type": "code",
      "metadata": {
        "id": "9hzaLVKhtPLQ"
      },
      "source": [
        "dic = {}"
      ],
      "execution_count": null,
      "outputs": []
    },
    {
      "cell_type": "code",
      "metadata": {
        "colab": {
          "base_uri": "https://localhost:8080/"
        },
        "id": "Q7vYdb1ltCkY",
        "outputId": "c881392e-e8b4-4ca6-add2-9d7de34e9efc"
      },
      "source": [
        "annual.find_all('th')"
      ],
      "execution_count": 43,
      "outputs": [
        {
          "output_type": "execute_result",
          "data": {
            "text/plain": [
              "[<th class=\"first\" scope=\"col\"> </th>,\n",
              " <th colspan=\"4\" scope=\"col\">연간재무제표(Annual)</th>,\n",
              " <th class=\"first\" scope=\"col\">구분</th>,\n",
              " <th scope=\"col\">2017.12</th>,\n",
              " <th scope=\"col\">2018.12</th>,\n",
              " <th scope=\"col\">2019.12</th>,\n",
              " <th scope=\"col\">2020.12</th>,\n",
              " <th scope=\"row\">매출액(억원)</th>,\n",
              " <th scope=\"row\">영업이익(억원)</th>,\n",
              " <th scope=\"row\">영업이익율(%)</th>,\n",
              " <th scope=\"row\">당기순이익(억원)</th>,\n",
              " <th scope=\"row\">순이익율(%)</th>,\n",
              " <th scope=\"row\">자산총계(억원)</th>,\n",
              " <th scope=\"row\">부채총계(억원)</th>,\n",
              " <th scope=\"row\">자본총계(억원)</th>,\n",
              " <th scope=\"row\">유보율(%)</th>,\n",
              " <th scope=\"row\">ROE</th>,\n",
              " <th scope=\"row\">PER</th>,\n",
              " <th scope=\"row\">PBR</th>,\n",
              " <th scope=\"row\">PSR</th>,\n",
              " <th scope=\"row\">EPS(원)</th>,\n",
              " <th scope=\"row\">BPS(원)</th>,\n",
              " <th scope=\"row\">SPS(원)</th>]"
            ]
          },
          "metadata": {
            "tags": []
          },
          "execution_count": 43
        }
      ]
    },
    {
      "cell_type": "code",
      "metadata": {
        "colab": {
          "base_uri": "https://localhost:8080/"
        },
        "id": "fzQc9NlIsYJU",
        "outputId": "0a784b47-d46d-4321-cd58-4834b0d80902"
      },
      "source": [
        "[x.text for x in annual.find_all('td')]"
      ],
      "execution_count": 42,
      "outputs": [
        {
          "output_type": "execute_result",
          "data": {
            "text/plain": [
              "['5',\n",
              " '6',\n",
              " '13',\n",
              " '28',\n",
              " '0',\n",
              " '1',\n",
              " '2',\n",
              " '1',\n",
              " '8.22',\n",
              " '12.26',\n",
              " '16.85',\n",
              " '2.29',\n",
              " '0',\n",
              " '0',\n",
              " '1',\n",
              " '0',\n",
              " '3.4',\n",
              " '3.24',\n",
              " '9.45',\n",
              " '-1.4',\n",
              " '44',\n",
              " '53',\n",
              " '74',\n",
              " '166',\n",
              " '12',\n",
              " '21',\n",
              " '31',\n",
              " '80',\n",
              " '32',\n",
              " '32',\n",
              " '43',\n",
              " '86',\n",
              " '24.77',\n",
              " '25.53',\n",
              " '24.29',\n",
              " '144.51',\n",
              " '0.65',\n",
              " '0.61',\n",
              " '3.21',\n",
              " '-0.62',\n",
              " '530',\n",
              " '1,500',\n",
              " '0',\n",
              " '0',\n",
              " '4.77',\n",
              " '13.76',\n",
              " '4.81',\n",
              " '1.71',\n",
              " '0',\n",
              " '62.5',\n",
              " '0',\n",
              " '0',\n",
              " '1',\n",
              " '1',\n",
              " '0',\n",
              " '0',\n",
              " '111',\n",
              " '109',\n",
              " '113',\n",
              " '230',\n",
              " '0',\n",
              " '24',\n",
              " '0',\n",
              " '0']"
            ]
          },
          "metadata": {
            "tags": []
          },
          "execution_count": 42
        }
      ]
    },
    {
      "cell_type": "code",
      "metadata": {
        "id": "RhIbR3ils6Hy"
      },
      "source": [
        ""
      ],
      "execution_count": null,
      "outputs": []
    }
  ]
}