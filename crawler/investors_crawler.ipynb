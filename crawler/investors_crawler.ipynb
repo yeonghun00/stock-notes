{
  "nbformat": 4,
  "nbformat_minor": 0,
  "metadata": {
    "colab": {
      "name": "Untitled22.ipynb",
      "provenance": [],
      "collapsed_sections": [],
      "authorship_tag": "ABX9TyPCPa+N/V7hTDf+s4vZYMoe",
      "include_colab_link": true
    },
    "kernelspec": {
      "name": "python3",
      "display_name": "Python 3"
    },
    "language_info": {
      "name": "python"
    }
  },
  "cells": [
    {
      "cell_type": "markdown",
      "metadata": {
        "id": "view-in-github",
        "colab_type": "text"
      },
      "source": [
        "<a href=\"https://colab.research.google.com/github/yeonghun00/stock_public/blob/main/crawler/investors_crawler.ipynb\" target=\"_parent\"><img src=\"https://colab.research.google.com/assets/colab-badge.svg\" alt=\"Open In Colab\"/></a>"
      ]
    },
    {
      "cell_type": "code",
      "metadata": {
        "id": "x7NHP8Qmk3Gl"
      },
      "source": [
        "import requests\n",
        "from bs4 import BeautifulSoup\n",
        "import pandas as pd\n",
        "import numpy as np\n",
        "import datetime\n",
        "import re\n",
        "\n",
        "# 01: kospi, 02: kosdaq, 03: futures\n",
        "# date: today\n",
        "# page = 10 days\n",
        "index = '02'\n",
        "date = str(datetime.datetime.now().date().strftime(\"%Y%m%d\"))\n",
        "page = '1'\n",
        "url = 'https://finance.naver.com/sise/investorDealTrendDay.nhn?bizdate='+ date +'&sosok='+ index +'&page=' + str(page)\n",
        "result = requests.get(url, headers = {'User-Agent' : 'Mozilla/5.0 (Macintosh; Intel Mac OS X 10_14_6) AppleWebKit/537.36 (KHTML, like Gecko) Chrome/85.0.4183.121 Safari/537.36'})\n",
        "bs_obj = BeautifulSoup(result.content, \"html.parser\")\n",
        "tds = [x.get_text() for x in bs_obj.find_all('td', {'class':re.compile(r'rate*')})]\n",
        "tds = np.reshape(tds, (10,-1))"
      ],
      "execution_count": 31,
      "outputs": []
    },
    {
      "cell_type": "code",
      "metadata": {
        "id": "LD0MSG0Cq1Vb"
      },
      "source": [
        "dic = {'Private':,''}"
      ],
      "execution_count": null,
      "outputs": []
    },
    {
      "cell_type": "code",
      "metadata": {
        "colab": {
          "base_uri": "https://localhost:8080/"
        },
        "id": "TJXdGlI_pkxq",
        "outputId": "ac23839a-bf11-4a97-ae0e-920e5cd40145"
      },
      "source": [
        "tds[:,0]"
      ],
      "execution_count": 35,
      "outputs": [
        {
          "output_type": "execute_result",
          "data": {
            "text/plain": [
              "array(['638', '-111', '1,118', '1,813', '-1,304', '1,799', '984', '375',\n",
              "       '751', '-1,221'], dtype='<U6')"
            ]
          },
          "metadata": {
            "tags": []
          },
          "execution_count": 35
        }
      ]
    },
    {
      "cell_type": "code",
      "metadata": {
        "id": "yli33X5Iqu2u"
      },
      "source": [
        ""
      ],
      "execution_count": null,
      "outputs": []
    }
  ]
}