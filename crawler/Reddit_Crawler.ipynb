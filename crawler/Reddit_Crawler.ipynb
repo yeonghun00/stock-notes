{
  "nbformat": 4,
  "nbformat_minor": 0,
  "metadata": {
    "colab": {
      "name": "Reddit Crawler.ipynb",
      "provenance": [],
      "authorship_tag": "ABX9TyNA58slPb+HwRRxNffHIiYj",
      "include_colab_link": true
    },
    "kernelspec": {
      "name": "python3",
      "display_name": "Python 3"
    },
    "language_info": {
      "name": "python"
    }
  },
  "cells": [
    {
      "cell_type": "markdown",
      "metadata": {
        "id": "view-in-github",
        "colab_type": "text"
      },
      "source": [
        "<a href=\"https://colab.research.google.com/github/yeonghun00/stock_public/blob/main/crawler/Reddit_Crawler.ipynb\" target=\"_parent\"><img src=\"https://colab.research.google.com/assets/colab-badge.svg\" alt=\"Open In Colab\"/></a>"
      ]
    },
    {
      "cell_type": "code",
      "metadata": {
        "id": "4vyalZi3khQ9"
      },
      "source": [
        "!pip install get-all-tickers\n",
        "!pip install praw"
      ],
      "execution_count": null,
      "outputs": []
    },
    {
      "cell_type": "code",
      "metadata": {
        "id": "kpT9ffbOzO_O"
      },
      "source": [
        "import get_all_tickers\n",
        "import praw\n",
        "import pandas as pd\n",
        "import datetime\n",
        "import numpy as np"
      ],
      "execution_count": 28,
      "outputs": []
    },
    {
      "cell_type": "code",
      "metadata": {
        "id": "jHZcJc6Gy-EP"
      },
      "source": [
        "reddit = praw.Reddit(client_id='zrmitqiJaIE_fQ',\n",
        "                     client_secret='YhtfeSGhvZtmbf3DfTAnm1G8AGXYiw',\n",
        "                     user_agent=\"my user agent\")"
      ],
      "execution_count": 19,
      "outputs": []
    },
    {
      "cell_type": "code",
      "metadata": {
        "id": "Aw_8ioHvgDRS",
        "colab": {
          "base_uri": "https://localhost:8080/",
          "height": 623
        },
        "outputId": "20bcee0e-977a-416d-e20f-5576d07e8a7c"
      },
      "source": [
        "dic = {'Time': [], 'Title': [], 'Votes': []}\n",
        "\n",
        "for submission in reddit.subreddit(\"wallstreetbets\").hot(limit=1000):\n",
        "#  if submission.link_flair_text == 'DD':\n",
        "  dic['Time'].append(datetime.datetime.fromtimestamp(submission.created))\n",
        "  dic['Title'].append(submission.title)\n",
        "  dic['Votes'].append(submission.score)\n",
        "\n",
        "df = pd.DataFrame.from_dict(dic)\n",
        "df"
      ],
      "execution_count": 53,
      "outputs": [
        {
          "output_type": "stream",
          "text": [
            "It appears that you are using PRAW in an asynchronous environment.\n",
            "It is strongly recommended to use Async PRAW: https://asyncpraw.readthedocs.io.\n",
            "See https://praw.readthedocs.io/en/latest/getting_started/multiple_instances.html#discord-bots-and-asynchronous-environments for more info.\n",
            "\n",
            "It appears that you are using PRAW in an asynchronous environment.\n",
            "It is strongly recommended to use Async PRAW: https://asyncpraw.readthedocs.io.\n",
            "See https://praw.readthedocs.io/en/latest/getting_started/multiple_instances.html#discord-bots-and-asynchronous-environments for more info.\n",
            "\n",
            "It appears that you are using PRAW in an asynchronous environment.\n",
            "It is strongly recommended to use Async PRAW: https://asyncpraw.readthedocs.io.\n",
            "See https://praw.readthedocs.io/en/latest/getting_started/multiple_instances.html#discord-bots-and-asynchronous-environments for more info.\n",
            "\n"
          ],
          "name": "stderr"
        },
        {
          "output_type": "execute_result",
          "data": {
            "text/html": [
              "<div>\n",
              "<style scoped>\n",
              "    .dataframe tbody tr th:only-of-type {\n",
              "        vertical-align: middle;\n",
              "    }\n",
              "\n",
              "    .dataframe tbody tr th {\n",
              "        vertical-align: top;\n",
              "    }\n",
              "\n",
              "    .dataframe thead th {\n",
              "        text-align: right;\n",
              "    }\n",
              "</style>\n",
              "<table border=\"1\" class=\"dataframe\">\n",
              "  <thead>\n",
              "    <tr style=\"text-align: right;\">\n",
              "      <th></th>\n",
              "      <th>Time</th>\n",
              "      <th>Title</th>\n",
              "      <th>Votes</th>\n",
              "    </tr>\n",
              "  </thead>\n",
              "  <tbody>\n",
              "    <tr>\n",
              "      <th>0</th>\n",
              "      <td>2021-06-07 04:00:19</td>\n",
              "      <td>What Are Your Moves Tomorrow, June 07, 2021</td>\n",
              "      <td>457</td>\n",
              "    </tr>\n",
              "    <tr>\n",
              "      <th>1</th>\n",
              "      <td>2021-06-07 03:27:49</td>\n",
              "      <td>BB | AMC | GME - Daily Popular Ticker Thread f...</td>\n",
              "      <td>1153</td>\n",
              "    </tr>\n",
              "    <tr>\n",
              "      <th>2</th>\n",
              "      <td>2021-06-07 02:11:07</td>\n",
              "      <td>Is it Monday yet?! I tried my hand at a hype v...</td>\n",
              "      <td>24535</td>\n",
              "    </tr>\n",
              "    <tr>\n",
              "      <th>3</th>\n",
              "      <td>2021-06-06 20:32:03</td>\n",
              "      <td>TD Ameritrade has added AMC to the restricted ...</td>\n",
              "      <td>15222</td>\n",
              "    </tr>\n",
              "    <tr>\n",
              "      <th>4</th>\n",
              "      <td>2021-06-07 04:04:09</td>\n",
              "      <td>$BB - Expect Large Movements Within 1 Month - ...</td>\n",
              "      <td>1009</td>\n",
              "    </tr>\n",
              "    <tr>\n",
              "      <th>...</th>\n",
              "      <td>...</td>\n",
              "      <td>...</td>\n",
              "      <td>...</td>\n",
              "    </tr>\n",
              "    <tr>\n",
              "      <th>223</th>\n",
              "      <td>2021-06-04 00:05:12</td>\n",
              "      <td>The $BB resistance is a good sign 🚀 DD refresher</td>\n",
              "      <td>4735</td>\n",
              "    </tr>\n",
              "    <tr>\n",
              "      <th>224</th>\n",
              "      <td>2021-06-04 02:52:32</td>\n",
              "      <td>$BB - Expect Large Movements In 1 Month - Part 5</td>\n",
              "      <td>2368</td>\n",
              "    </tr>\n",
              "    <tr>\n",
              "      <th>225</th>\n",
              "      <td>2021-06-03 21:19:23</td>\n",
              "      <td>Once upon a time, I was a BB factory worker. B...</td>\n",
              "      <td>7750</td>\n",
              "    </tr>\n",
              "    <tr>\n",
              "      <th>226</th>\n",
              "      <td>2021-06-03 17:21:56</td>\n",
              "      <td>Once upon a time..</td>\n",
              "      <td>37221</td>\n",
              "    </tr>\n",
              "    <tr>\n",
              "      <th>227</th>\n",
              "      <td>2021-06-04 16:00:21</td>\n",
              "      <td>Some history is on repeat mode? $AMC chance of...</td>\n",
              "      <td>172</td>\n",
              "    </tr>\n",
              "  </tbody>\n",
              "</table>\n",
              "<p>228 rows × 3 columns</p>\n",
              "</div>"
            ],
            "text/plain": [
              "                   Time  ...  Votes\n",
              "0   2021-06-07 04:00:19  ...    457\n",
              "1   2021-06-07 03:27:49  ...   1153\n",
              "2   2021-06-07 02:11:07  ...  24535\n",
              "3   2021-06-06 20:32:03  ...  15222\n",
              "4   2021-06-07 04:04:09  ...   1009\n",
              "..                  ...  ...    ...\n",
              "223 2021-06-04 00:05:12  ...   4735\n",
              "224 2021-06-04 02:52:32  ...   2368\n",
              "225 2021-06-03 21:19:23  ...   7750\n",
              "226 2021-06-03 17:21:56  ...  37221\n",
              "227 2021-06-04 16:00:21  ...    172\n",
              "\n",
              "[228 rows x 3 columns]"
            ]
          },
          "metadata": {
            "tags": []
          },
          "execution_count": 53
        }
      ]
    },
    {
      "cell_type": "code",
      "metadata": {
        "id": "ZTIH5VG0RyXc",
        "outputId": "4a04848f-5173-4cc1-dc8a-f9f80b21c31b",
        "colab": {
          "base_uri": "https://localhost:8080/"
        }
      },
      "source": [
        "from collections import Counter\n",
        "Counter(\" \".join(df[\"Title\"]).split()).most_common(100)"
      ],
      "execution_count": 54,
      "outputs": [
        {
          "output_type": "execute_result",
          "data": {
            "text/plain": [
              "[('the', 52),\n",
              " ('and', 36),\n",
              " ('to', 35),\n",
              " ('of', 31),\n",
              " ('-', 30),\n",
              " ('is', 29),\n",
              " ('for', 27),\n",
              " ('I', 27),\n",
              " ('a', 27),\n",
              " ('BB', 25),\n",
              " ('AMC', 24),\n",
              " ('in', 24),\n",
              " ('on', 19),\n",
              " ('this', 16),\n",
              " ('YOLO', 13),\n",
              " ('shares', 12),\n",
              " ('at', 11),\n",
              " ('DD', 11),\n",
              " ('short', 11),\n",
              " ('$BB', 10),\n",
              " ('🚀', 10),\n",
              " ('are', 10),\n",
              " ('as', 9),\n",
              " ('you', 9),\n",
              " ('do', 9),\n",
              " ('June', 8),\n",
              " ('week', 8),\n",
              " ('2021', 7),\n",
              " ('has', 7),\n",
              " ('or', 7),\n",
              " ('CLNE', 7),\n",
              " ('The', 7),\n",
              " ('with', 7),\n",
              " ('going', 7),\n",
              " ('GME', 6),\n",
              " ('it', 6),\n",
              " ('be', 6),\n",
              " ('stocks', 6),\n",
              " ('next', 6),\n",
              " ('about', 6),\n",
              " ('&', 6),\n",
              " ('WKHS', 6),\n",
              " ('get', 6),\n",
              " ('all', 6),\n",
              " ('not', 6),\n",
              " ('Price', 6),\n",
              " ('was', 5),\n",
              " ('market', 5),\n",
              " ('This', 5),\n",
              " ('CLOV', 5),\n",
              " ('In', 5),\n",
              " ('Short', 5),\n",
              " ('up', 5),\n",
              " ('will', 5),\n",
              " ('🦍', 5),\n",
              " ('THE', 5),\n",
              " ('day', 5),\n",
              " ('their', 5),\n",
              " ('they', 5),\n",
              " ('squeeze', 5),\n",
              " ('your', 5),\n",
              " ('What', 4),\n",
              " ('my', 4),\n",
              " ('Why', 4),\n",
              " ('WSB', 4),\n",
              " ('that', 4),\n",
              " ('It', 4),\n",
              " ('some', 4),\n",
              " ('need', 4),\n",
              " ('am', 4),\n",
              " ('why', 4),\n",
              " ('by', 4),\n",
              " ('coming', 4),\n",
              " ('before', 4),\n",
              " ('like', 4),\n",
              " ('hold', 4),\n",
              " ('can', 4),\n",
              " ('today', 4),\n",
              " ('me', 4),\n",
              " ('More', 4),\n",
              " ('two', 4),\n",
              " ('Are', 3),\n",
              " ('|', 3),\n",
              " ('Thread', 3),\n",
              " ('Monday', 3),\n",
              " ('added', 3),\n",
              " ('list', 3),\n",
              " ('1', 3),\n",
              " ('Part', 3),\n",
              " ('discussion', 3),\n",
              " ('if', 3),\n",
              " ('most', 3),\n",
              " ('Big', 3),\n",
              " ('strong', 3),\n",
              " ('wild', 3),\n",
              " (\"Let's\", 3),\n",
              " ('Apes', 3),\n",
              " ('Me', 3),\n",
              " ('SNDL', 3),\n",
              " ('Squeeze', 3)]"
            ]
          },
          "metadata": {
            "tags": []
          },
          "execution_count": 54
        }
      ]
    }
  ]
}