{
  "nbformat": 4,
  "nbformat_minor": 0,
  "metadata": {
    "colab": {
      "name": "naverfinance_crawler.ipynb",
      "provenance": [],
      "authorship_tag": "ABX9TyPLWxXAZm4PoVoizp74lP9i",
      "include_colab_link": true
    },
    "kernelspec": {
      "name": "python3",
      "display_name": "Python 3"
    }
  },
  "cells": [
    {
      "cell_type": "markdown",
      "metadata": {
        "id": "view-in-github",
        "colab_type": "text"
      },
      "source": [
        "<a href=\"https://colab.research.google.com/github/yeonghun00/stock/blob/master/crawler/naverfinance_crawler.ipynb\" target=\"_parent\"><img src=\"https://colab.research.google.com/assets/colab-badge.svg\" alt=\"Open In Colab\"/></a>"
      ]
    },
    {
      "cell_type": "code",
      "metadata": {
        "id": "L378TZDrtMCo"
      },
      "source": [
        "# code: LG electronics\n",
        "code = '066570' "
      ],
      "execution_count": 1,
      "outputs": []
    },
    {
      "cell_type": "code",
      "metadata": {
        "id": "jDkeXbY-WPwD"
      },
      "source": [
        "# avoid ban\n",
        "# http://www.useragentstring.com/\n",
        "headers = {'User-Agent' : 'Mozilla/5.0 (Macintosh; Intel Mac OS X 10_14_6) AppleWebKit/537.36 (KHTML, like Gecko) Chrome/85.0.4183.121 Safari/537.36'}"
      ],
      "execution_count": 2,
      "outputs": []
    },
    {
      "cell_type": "code",
      "metadata": {
        "id": "LHx0Zxd_0g_K"
      },
      "source": [
        "# crawling page\n",
        "import requests\n",
        "from bs4 import BeautifulSoup\n",
        "import pandas as pd\n",
        "import datetime\n",
        "\n",
        "finished = False\n",
        "def page_to_df(page):\n",
        "  url = \"https://finance.naver.com/item/sise_day.nhn?code=\" + code + \"&page=\" + str(page)\n",
        "  result = requests.get(url, headers = headers)\n",
        "  bs_obj = BeautifulSoup(result.content, \"html.parser\")\n",
        "  tr = bs_obj.find_all(\"tr\", {'onmouseover':'mouseOver(this)', 'onmouseout':\"mouseOut(this)\"})\n",
        "  data_dict = {}\n",
        "  for i in range(10):\n",
        "    try: \n",
        "      spans = tr[i].find_all('span')\n",
        "      lines = [span.get_text() for span in spans]\n",
        "      objdate = datetime.datetime.strptime(lines[0], '%Y.%m.%d')\n",
        "      data_dict[objdate] = lines[1:]\n",
        "    except:\n",
        "      break\n",
        "\n",
        "  df = pd.DataFrame.from_dict(data_dict).transpose()\n",
        "  df.columns = ['Close','_','Open',\n",
        "                      'High','Low','Volume']\n",
        "  df = df.drop(columns=\"_\")\n",
        "\n",
        "  return df"
      ],
      "execution_count": 3,
      "outputs": []
    },
    {
      "cell_type": "code",
      "metadata": {
        "id": "HuwP1fsF0oY1",
        "outputId": "c172fc6d-5a43-441d-9488-f900002b7141",
        "colab": {
          "base_uri": "https://localhost:8080/",
          "height": 102
        }
      },
      "source": [
        "df = page_to_df(1)\n",
        "for i in range(2, 9999):\n",
        "  # 끝나면 끝내 (페이지번호 관계 없이 마지막 페이지 호출함 --> 앞과 비교)\n",
        "  try:\n",
        "    if (any(page_to_df(i).index != page_to_df(i-1).index)):\n",
        "      df = df.append(page_to_df(i))\n",
        "      ##########################\n",
        "      print('.', end = '')\n",
        "      if (i%100==0):\n",
        "        print(i)\n",
        "    else:\n",
        "      break\n",
        "  except:\n",
        "    df = df.append(page_to_df(i))\n",
        "    break\n",
        "\n",
        "\n",
        "df = df.sort_index(axis = 0) "
      ],
      "execution_count": 4,
      "outputs": [
        {
          "output_type": "stream",
          "text": [
            "...................................................................................................100\n",
            "....................................................................................................200\n",
            "....................................................................................................300\n",
            "....................................................................................................400\n",
            "........................................................"
          ],
          "name": "stdout"
        }
      ]
    },
    {
      "cell_type": "code",
      "metadata": {
        "id": "iM1tHF0Avjew",
        "outputId": "48950d9f-0af7-4cb3-c3f9-257291e07e78",
        "colab": {
          "base_uri": "https://localhost:8080/",
          "height": 419
        }
      },
      "source": [
        "df"
      ],
      "execution_count": 5,
      "outputs": [
        {
          "output_type": "execute_result",
          "data": {
            "text/html": [
              "<div>\n",
              "<style scoped>\n",
              "    .dataframe tbody tr th:only-of-type {\n",
              "        vertical-align: middle;\n",
              "    }\n",
              "\n",
              "    .dataframe tbody tr th {\n",
              "        vertical-align: top;\n",
              "    }\n",
              "\n",
              "    .dataframe thead th {\n",
              "        text-align: right;\n",
              "    }\n",
              "</style>\n",
              "<table border=\"1\" class=\"dataframe\">\n",
              "  <thead>\n",
              "    <tr style=\"text-align: right;\">\n",
              "      <th></th>\n",
              "      <th>Close</th>\n",
              "      <th>Open</th>\n",
              "      <th>High</th>\n",
              "      <th>Low</th>\n",
              "      <th>Volume</th>\n",
              "    </tr>\n",
              "  </thead>\n",
              "  <tbody>\n",
              "    <tr>\n",
              "      <th>2002-04-23</th>\n",
              "      <td>58,800</td>\n",
              "      <td>62,100</td>\n",
              "      <td>62,800</td>\n",
              "      <td>58,500</td>\n",
              "      <td>5,384,435</td>\n",
              "    </tr>\n",
              "    <tr>\n",
              "      <th>2002-04-24</th>\n",
              "      <td>57,000</td>\n",
              "      <td>59,500</td>\n",
              "      <td>60,800</td>\n",
              "      <td>54,300</td>\n",
              "      <td>4,659,371</td>\n",
              "    </tr>\n",
              "    <tr>\n",
              "      <th>2002-04-25</th>\n",
              "      <td>52,400</td>\n",
              "      <td>55,000</td>\n",
              "      <td>56,400</td>\n",
              "      <td>51,800</td>\n",
              "      <td>3,913,730</td>\n",
              "    </tr>\n",
              "    <tr>\n",
              "      <th>2002-04-26</th>\n",
              "      <td>54,800</td>\n",
              "      <td>51,800</td>\n",
              "      <td>56,000</td>\n",
              "      <td>50,300</td>\n",
              "      <td>4,176,615</td>\n",
              "    </tr>\n",
              "    <tr>\n",
              "      <th>2002-04-29</th>\n",
              "      <td>52,200</td>\n",
              "      <td>51,300</td>\n",
              "      <td>53,400</td>\n",
              "      <td>51,300</td>\n",
              "      <td>1,990,302</td>\n",
              "    </tr>\n",
              "    <tr>\n",
              "      <th>...</th>\n",
              "      <td>...</td>\n",
              "      <td>...</td>\n",
              "      <td>...</td>\n",
              "      <td>...</td>\n",
              "      <td>...</td>\n",
              "    </tr>\n",
              "    <tr>\n",
              "      <th>2020-09-21</th>\n",
              "      <td>90,900</td>\n",
              "      <td>90,100</td>\n",
              "      <td>92,500</td>\n",
              "      <td>89,400</td>\n",
              "      <td>1,050,515</td>\n",
              "    </tr>\n",
              "    <tr>\n",
              "      <th>2020-09-22</th>\n",
              "      <td>88,900</td>\n",
              "      <td>90,400</td>\n",
              "      <td>91,400</td>\n",
              "      <td>88,000</td>\n",
              "      <td>1,054,942</td>\n",
              "    </tr>\n",
              "    <tr>\n",
              "      <th>2020-09-23</th>\n",
              "      <td>91,200</td>\n",
              "      <td>89,500</td>\n",
              "      <td>91,500</td>\n",
              "      <td>88,000</td>\n",
              "      <td>1,121,711</td>\n",
              "    </tr>\n",
              "    <tr>\n",
              "      <th>2020-09-24</th>\n",
              "      <td>89,500</td>\n",
              "      <td>89,600</td>\n",
              "      <td>91,500</td>\n",
              "      <td>89,500</td>\n",
              "      <td>1,150,871</td>\n",
              "    </tr>\n",
              "    <tr>\n",
              "      <th>2020-09-25</th>\n",
              "      <td>92,900</td>\n",
              "      <td>91,000</td>\n",
              "      <td>93,700</td>\n",
              "      <td>90,200</td>\n",
              "      <td>1,621,115</td>\n",
              "    </tr>\n",
              "  </tbody>\n",
              "</table>\n",
              "<p>4560 rows × 5 columns</p>\n",
              "</div>"
            ],
            "text/plain": [
              "             Close    Open    High     Low     Volume\n",
              "2002-04-23  58,800  62,100  62,800  58,500  5,384,435\n",
              "2002-04-24  57,000  59,500  60,800  54,300  4,659,371\n",
              "2002-04-25  52,400  55,000  56,400  51,800  3,913,730\n",
              "2002-04-26  54,800  51,800  56,000  50,300  4,176,615\n",
              "2002-04-29  52,200  51,300  53,400  51,300  1,990,302\n",
              "...            ...     ...     ...     ...        ...\n",
              "2020-09-21  90,900  90,100  92,500  89,400  1,050,515\n",
              "2020-09-22  88,900  90,400  91,400  88,000  1,054,942\n",
              "2020-09-23  91,200  89,500  91,500  88,000  1,121,711\n",
              "2020-09-24  89,500  89,600  91,500  89,500  1,150,871\n",
              "2020-09-25  92,900  91,000  93,700  90,200  1,621,115\n",
              "\n",
              "[4560 rows x 5 columns]"
            ]
          },
          "metadata": {
            "tags": []
          },
          "execution_count": 5
        }
      ]
    },
    {
      "cell_type": "code",
      "metadata": {
        "id": "j_QgE1RWZPzi",
        "outputId": "bf43e63a-b2fc-4110-c53f-4f19404b9132",
        "colab": {
          "base_uri": "https://localhost:8080/",
          "height": 17
        }
      },
      "source": [
        "from google.colab import files\n",
        "\n",
        "file_name = code + '.csv'\n",
        "df.to_csv(file_name)\n",
        "files.download(file_name)"
      ],
      "execution_count": 6,
      "outputs": [
        {
          "output_type": "display_data",
          "data": {
            "application/javascript": [
              "\n",
              "    async function download(id, filename, size) {\n",
              "      if (!google.colab.kernel.accessAllowed) {\n",
              "        return;\n",
              "      }\n",
              "      const div = document.createElement('div');\n",
              "      const label = document.createElement('label');\n",
              "      label.textContent = `Downloading \"${filename}\": `;\n",
              "      div.appendChild(label);\n",
              "      const progress = document.createElement('progress');\n",
              "      progress.max = size;\n",
              "      div.appendChild(progress);\n",
              "      document.body.appendChild(div);\n",
              "\n",
              "      const buffers = [];\n",
              "      let downloaded = 0;\n",
              "\n",
              "      const channel = await google.colab.kernel.comms.open(id);\n",
              "      // Send a message to notify the kernel that we're ready.\n",
              "      channel.send({})\n",
              "\n",
              "      for await (const message of channel.messages) {\n",
              "        // Send a message to notify the kernel that we're ready.\n",
              "        channel.send({})\n",
              "        if (message.buffers) {\n",
              "          for (const buffer of message.buffers) {\n",
              "            buffers.push(buffer);\n",
              "            downloaded += buffer.byteLength;\n",
              "            progress.value = downloaded;\n",
              "          }\n",
              "        }\n",
              "      }\n",
              "      const blob = new Blob(buffers, {type: 'application/binary'});\n",
              "      const a = document.createElement('a');\n",
              "      a.href = window.URL.createObjectURL(blob);\n",
              "      a.download = filename;\n",
              "      div.appendChild(a);\n",
              "      a.click();\n",
              "      div.remove();\n",
              "    }\n",
              "  "
            ],
            "text/plain": [
              "<IPython.core.display.Javascript object>"
            ]
          },
          "metadata": {
            "tags": []
          }
        },
        {
          "output_type": "display_data",
          "data": {
            "application/javascript": [
              "download(\"download_3db15898-294e-4829-b827-ed458e726814\", \"066570.csv\", 266892)"
            ],
            "text/plain": [
              "<IPython.core.display.Javascript object>"
            ]
          },
          "metadata": {
            "tags": []
          }
        }
      ]
    }
  ]
}
