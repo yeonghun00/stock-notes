{
  "nbformat": 4,
  "nbformat_minor": 0,
  "metadata": {
    "colab": {
      "name": "day_crawl.ipynb",
      "provenance": [],
      "authorship_tag": "ABX9TyNGWHthyFHkzOdoEL+5b5Qi",
      "include_colab_link": true
    },
    "kernelspec": {
      "name": "python3",
      "display_name": "Python 3"
    },
    "language_info": {
      "name": "python"
    }
  },
  "cells": [
    {
      "cell_type": "markdown",
      "metadata": {
        "id": "view-in-github",
        "colab_type": "text"
      },
      "source": [
        "<a href=\"https://colab.research.google.com/github/yeonghun00/stock_public/blob/main/crawler/day_crawl.ipynb\" target=\"_parent\"><img src=\"https://colab.research.google.com/assets/colab-badge.svg\" alt=\"Open In Colab\"/></a>"
      ]
    },
    {
      "cell_type": "code",
      "metadata": {
        "id": "yX1X5cwfzYm8"
      },
      "source": [
        "import requests\n",
        "from bs4 import BeautifulSoup\n",
        "import pandas as pd\n",
        "import numpy as np\n",
        "import datetime\n",
        "\n",
        "class Stock:\n",
        "  def __init__(self, code):\n",
        "    self.code = code\n",
        "    self.headers = {'User-Agent' : 'Mozilla/5.0 (Macintosh; Intel Mac OS X 10_14_6) AppleWebKit/537.36 (KHTML, like Gecko) Chrome/85.0.4183.121 Safari/537.36'}\n",
        "\n",
        "  def page_to_df(self, page):\n",
        "    time = str(datetime.datetime.now().strftime(\"%Y%m%d%I%M%S\"))\n",
        "    url = \"https://finance.naver.com/item/sise_time.nhn?code=\" + self.code + \"&thistime=\" + time + \"&page=\" + page\n",
        "    result = requests.get(url, headers = self.headers)\n",
        "    bs_obj = BeautifulSoup(result.content, \"html.parser\")\n",
        "    tr = bs_obj.find_all(\"tr\", {'onmouseover':'mouseOver(this)', 'onmouseout':\"mouseOut(this)\"})\n",
        "\n",
        "    for i in range(10):\n",
        "      try: \n",
        "        spans = tr[i].find_all('span')\n",
        "        lines = [span.get_text() for span in spans]\n",
        "        lines = list(map(lambda x: int(x.replace(',','')), lines))\n",
        "        data_dict[lines[0]] = lines[1:]\n",
        "      except:\n",
        "        break\n",
        "\n",
        "    df = pd.DataFrame.from_dict(data_dict).transpose()\n",
        "    df.columns = ['Close','_','Sell',\n",
        "                      'Buy','Volume','Change']\n",
        "    df = df.drop(columns=\"_\")\n",
        "    return df\n",
        "\n",
        "  def get_data(self, start_page:int=1, end_page:int=16):\n",
        "    df = self.page_to_df(start_page)\n",
        "    # 1 page = 10 days\n",
        "    for i in range(start_page, end_page): \n",
        "      try: \n",
        "        if (any(self.page_to_df(i).index != self.page_to_df(i-1).index)):\n",
        "          df = df.append(self.page_to_df(i))\n",
        "          print('.', end = '')\n",
        "          if (i%100==0):\n",
        "            print(i)\n",
        "        else:\n",
        "          break\n",
        "      except:\n",
        "        df = df.append(self.page_to_df(i))\n",
        "    df = df.sort_index(axis = 0) \n",
        "    for i in ['Close', 'Open', 'High', 'Low', 'Volume']:\n",
        "      df[i] = df[i].astype(int)\n",
        "    return df"
      ],
      "execution_count": null,
      "outputs": []
    },
    {
      "cell_type": "code",
      "metadata": {
        "colab": {
          "base_uri": "https://localhost:8080/",
          "height": 630
        },
        "id": "mqRIy-dZ1Pu5",
        "outputId": "65491c12-f329-4973-8c2e-fcf1c644da8a"
      },
      "source": [
        "from multiprocessing import Pool\n",
        "\n",
        "stock = Stock('005930')\n",
        "\n",
        "with Pool(500) as p:\n",
        "    li = p.starmap(stock.get_data, [(x,x) for x in range(500,0,-1)])"
      ],
      "execution_count": 47,
      "outputs": [
        {
          "output_type": "error",
          "ename": "TypeError",
          "evalue": "ignored",
          "traceback": [
            "\u001b[0;31m---------------------------------------------------------------------------\u001b[0m",
            "\u001b[0;31mRemoteTraceback\u001b[0m                           Traceback (most recent call last)",
            "\u001b[0;31mRemoteTraceback\u001b[0m: \n\"\"\"\nTraceback (most recent call last):\n  File \"/usr/lib/python3.7/multiprocessing/pool.py\", line 121, in worker\n    result = (True, func(*args, **kwds))\n  File \"/usr/lib/python3.7/multiprocessing/pool.py\", line 47, in starmapstar\n    return list(itertools.starmap(args[0], args[1]))\n  File \"<ipython-input-46-2e742e45c23d>\", line 35, in get_data\n    df = self.page_to_df(start_page)\n  File \"<ipython-input-46-2e742e45c23d>\", line 14, in page_to_df\n    url = \"https://finance.naver.com/item/sise_time.nhn?code=\" + self.code + \"&thistime=\" + time + \"&page=\" + page\nTypeError: can only concatenate str (not \"int\") to str\n\"\"\"",
            "\nThe above exception was the direct cause of the following exception:\n",
            "\u001b[0;31mTypeError\u001b[0m                                 Traceback (most recent call last)",
            "\u001b[0;32m<ipython-input-47-3f88ff526388>\u001b[0m in \u001b[0;36m<module>\u001b[0;34m()\u001b[0m\n\u001b[1;32m      4\u001b[0m \u001b[0;34m\u001b[0m\u001b[0m\n\u001b[1;32m      5\u001b[0m \u001b[0;32mwith\u001b[0m \u001b[0mPool\u001b[0m\u001b[0;34m(\u001b[0m\u001b[0;36m500\u001b[0m\u001b[0;34m)\u001b[0m \u001b[0;32mas\u001b[0m \u001b[0mp\u001b[0m\u001b[0;34m:\u001b[0m\u001b[0;34m\u001b[0m\u001b[0;34m\u001b[0m\u001b[0m\n\u001b[0;32m----> 6\u001b[0;31m     \u001b[0mli\u001b[0m \u001b[0;34m=\u001b[0m \u001b[0mp\u001b[0m\u001b[0;34m.\u001b[0m\u001b[0mstarmap\u001b[0m\u001b[0;34m(\u001b[0m\u001b[0mstock\u001b[0m\u001b[0;34m.\u001b[0m\u001b[0mget_data\u001b[0m\u001b[0;34m,\u001b[0m \u001b[0;34m[\u001b[0m\u001b[0;34m(\u001b[0m\u001b[0mx\u001b[0m\u001b[0;34m,\u001b[0m\u001b[0mx\u001b[0m\u001b[0;34m)\u001b[0m \u001b[0;32mfor\u001b[0m \u001b[0mx\u001b[0m \u001b[0;32min\u001b[0m \u001b[0mrange\u001b[0m\u001b[0;34m(\u001b[0m\u001b[0;36m500\u001b[0m\u001b[0;34m,\u001b[0m\u001b[0;36m0\u001b[0m\u001b[0;34m,\u001b[0m\u001b[0;34m-\u001b[0m\u001b[0;36m1\u001b[0m\u001b[0;34m)\u001b[0m\u001b[0;34m]\u001b[0m\u001b[0;34m)\u001b[0m\u001b[0;34m\u001b[0m\u001b[0;34m\u001b[0m\u001b[0m\n\u001b[0m",
            "\u001b[0;32m/usr/lib/python3.7/multiprocessing/pool.py\u001b[0m in \u001b[0;36mstarmap\u001b[0;34m(self, func, iterable, chunksize)\u001b[0m\n\u001b[1;32m    274\u001b[0m         \u001b[0;31m`\u001b[0m\u001b[0mfunc\u001b[0m\u001b[0;31m`\u001b[0m \u001b[0;32mand\u001b[0m \u001b[0;34m(\u001b[0m\u001b[0ma\u001b[0m\u001b[0;34m,\u001b[0m \u001b[0mb\u001b[0m\u001b[0;34m)\u001b[0m \u001b[0mbecomes\u001b[0m \u001b[0mfunc\u001b[0m\u001b[0;34m(\u001b[0m\u001b[0ma\u001b[0m\u001b[0;34m,\u001b[0m \u001b[0mb\u001b[0m\u001b[0;34m)\u001b[0m\u001b[0;34m.\u001b[0m\u001b[0;34m\u001b[0m\u001b[0;34m\u001b[0m\u001b[0m\n\u001b[1;32m    275\u001b[0m         '''\n\u001b[0;32m--> 276\u001b[0;31m         \u001b[0;32mreturn\u001b[0m \u001b[0mself\u001b[0m\u001b[0;34m.\u001b[0m\u001b[0m_map_async\u001b[0m\u001b[0;34m(\u001b[0m\u001b[0mfunc\u001b[0m\u001b[0;34m,\u001b[0m \u001b[0miterable\u001b[0m\u001b[0;34m,\u001b[0m \u001b[0mstarmapstar\u001b[0m\u001b[0;34m,\u001b[0m \u001b[0mchunksize\u001b[0m\u001b[0;34m)\u001b[0m\u001b[0;34m.\u001b[0m\u001b[0mget\u001b[0m\u001b[0;34m(\u001b[0m\u001b[0;34m)\u001b[0m\u001b[0;34m\u001b[0m\u001b[0;34m\u001b[0m\u001b[0m\n\u001b[0m\u001b[1;32m    277\u001b[0m \u001b[0;34m\u001b[0m\u001b[0m\n\u001b[1;32m    278\u001b[0m     def starmap_async(self, func, iterable, chunksize=None, callback=None,\n",
            "\u001b[0;32m/usr/lib/python3.7/multiprocessing/pool.py\u001b[0m in \u001b[0;36mget\u001b[0;34m(self, timeout)\u001b[0m\n\u001b[1;32m    655\u001b[0m             \u001b[0;32mreturn\u001b[0m \u001b[0mself\u001b[0m\u001b[0;34m.\u001b[0m\u001b[0m_value\u001b[0m\u001b[0;34m\u001b[0m\u001b[0;34m\u001b[0m\u001b[0m\n\u001b[1;32m    656\u001b[0m         \u001b[0;32melse\u001b[0m\u001b[0;34m:\u001b[0m\u001b[0;34m\u001b[0m\u001b[0;34m\u001b[0m\u001b[0m\n\u001b[0;32m--> 657\u001b[0;31m             \u001b[0;32mraise\u001b[0m \u001b[0mself\u001b[0m\u001b[0;34m.\u001b[0m\u001b[0m_value\u001b[0m\u001b[0;34m\u001b[0m\u001b[0;34m\u001b[0m\u001b[0m\n\u001b[0m\u001b[1;32m    658\u001b[0m \u001b[0;34m\u001b[0m\u001b[0m\n\u001b[1;32m    659\u001b[0m     \u001b[0;32mdef\u001b[0m \u001b[0m_set\u001b[0m\u001b[0;34m(\u001b[0m\u001b[0mself\u001b[0m\u001b[0;34m,\u001b[0m \u001b[0mi\u001b[0m\u001b[0;34m,\u001b[0m \u001b[0mobj\u001b[0m\u001b[0;34m)\u001b[0m\u001b[0;34m:\u001b[0m\u001b[0;34m\u001b[0m\u001b[0;34m\u001b[0m\u001b[0m\n",
            "\u001b[0;31mTypeError\u001b[0m: can only concatenate str (not \"int\") to str"
          ]
        }
      ]
    },
    {
      "cell_type": "code",
      "metadata": {
        "colab": {
          "base_uri": "https://localhost:8080/",
          "height": 283
        },
        "id": "fU_X5cIp0EPh",
        "outputId": "5bab1c92-dd51-4691-bbe9-2816a06c92ee"
      },
      "source": [
        "stock.page_to_df(1)"
      ],
      "execution_count": 48,
      "outputs": [
        {
          "output_type": "error",
          "ename": "TypeError",
          "evalue": "ignored",
          "traceback": [
            "\u001b[0;31m---------------------------------------------------------------------------\u001b[0m",
            "\u001b[0;31mTypeError\u001b[0m                                 Traceback (most recent call last)",
            "\u001b[0;32m<ipython-input-48-ef44578cfb7e>\u001b[0m in \u001b[0;36m<module>\u001b[0;34m()\u001b[0m\n\u001b[0;32m----> 1\u001b[0;31m \u001b[0mstock\u001b[0m\u001b[0;34m.\u001b[0m\u001b[0mpage_to_df\u001b[0m\u001b[0;34m(\u001b[0m\u001b[0;36m1\u001b[0m\u001b[0;34m)\u001b[0m\u001b[0;34m\u001b[0m\u001b[0;34m\u001b[0m\u001b[0m\n\u001b[0m",
            "\u001b[0;32m<ipython-input-46-2e742e45c23d>\u001b[0m in \u001b[0;36mpage_to_df\u001b[0;34m(self, page)\u001b[0m\n\u001b[1;32m     12\u001b[0m   \u001b[0;32mdef\u001b[0m \u001b[0mpage_to_df\u001b[0m\u001b[0;34m(\u001b[0m\u001b[0mself\u001b[0m\u001b[0;34m,\u001b[0m \u001b[0mpage\u001b[0m\u001b[0;34m)\u001b[0m\u001b[0;34m:\u001b[0m\u001b[0;34m\u001b[0m\u001b[0;34m\u001b[0m\u001b[0m\n\u001b[1;32m     13\u001b[0m     \u001b[0mtime\u001b[0m \u001b[0;34m=\u001b[0m \u001b[0mstr\u001b[0m\u001b[0;34m(\u001b[0m\u001b[0mdatetime\u001b[0m\u001b[0;34m.\u001b[0m\u001b[0mdatetime\u001b[0m\u001b[0;34m.\u001b[0m\u001b[0mnow\u001b[0m\u001b[0;34m(\u001b[0m\u001b[0;34m)\u001b[0m\u001b[0;34m.\u001b[0m\u001b[0mstrftime\u001b[0m\u001b[0;34m(\u001b[0m\u001b[0;34m\"%Y%m%d%I%M%S\"\u001b[0m\u001b[0;34m)\u001b[0m\u001b[0;34m)\u001b[0m\u001b[0;34m\u001b[0m\u001b[0;34m\u001b[0m\u001b[0m\n\u001b[0;32m---> 14\u001b[0;31m     \u001b[0murl\u001b[0m \u001b[0;34m=\u001b[0m \u001b[0;34m\"https://finance.naver.com/item/sise_time.nhn?code=\"\u001b[0m \u001b[0;34m+\u001b[0m \u001b[0mself\u001b[0m\u001b[0;34m.\u001b[0m\u001b[0mcode\u001b[0m \u001b[0;34m+\u001b[0m \u001b[0;34m\"&thistime=\"\u001b[0m \u001b[0;34m+\u001b[0m \u001b[0mtime\u001b[0m \u001b[0;34m+\u001b[0m \u001b[0;34m\"&page=\"\u001b[0m \u001b[0;34m+\u001b[0m \u001b[0mpage\u001b[0m\u001b[0;34m\u001b[0m\u001b[0;34m\u001b[0m\u001b[0m\n\u001b[0m\u001b[1;32m     15\u001b[0m     \u001b[0mresult\u001b[0m \u001b[0;34m=\u001b[0m \u001b[0mrequests\u001b[0m\u001b[0;34m.\u001b[0m\u001b[0mget\u001b[0m\u001b[0;34m(\u001b[0m\u001b[0murl\u001b[0m\u001b[0;34m,\u001b[0m \u001b[0mheaders\u001b[0m \u001b[0;34m=\u001b[0m \u001b[0mself\u001b[0m\u001b[0;34m.\u001b[0m\u001b[0mheaders\u001b[0m\u001b[0;34m)\u001b[0m\u001b[0;34m\u001b[0m\u001b[0;34m\u001b[0m\u001b[0m\n\u001b[1;32m     16\u001b[0m     \u001b[0mbs_obj\u001b[0m \u001b[0;34m=\u001b[0m \u001b[0mBeautifulSoup\u001b[0m\u001b[0;34m(\u001b[0m\u001b[0mresult\u001b[0m\u001b[0;34m.\u001b[0m\u001b[0mcontent\u001b[0m\u001b[0;34m,\u001b[0m \u001b[0;34m\"html.parser\"\u001b[0m\u001b[0;34m)\u001b[0m\u001b[0;34m\u001b[0m\u001b[0;34m\u001b[0m\u001b[0m\n",
            "\u001b[0;31mTypeError\u001b[0m: can only concatenate str (not \"int\") to str"
          ]
        }
      ]
    },
    {
      "cell_type": "code",
      "metadata": {
        "colab": {
          "base_uri": "https://localhost:8080/",
          "height": 359
        },
        "id": "7p3fkUMc0LeX",
        "outputId": "748e6823-ab8d-47b3-f4a4-1199168dcd02"
      },
      "source": [
        ""
      ],
      "execution_count": 43,
      "outputs": [
        {
          "output_type": "execute_result",
          "data": {
            "text/html": [
              "<div>\n",
              "<style scoped>\n",
              "    .dataframe tbody tr th:only-of-type {\n",
              "        vertical-align: middle;\n",
              "    }\n",
              "\n",
              "    .dataframe tbody tr th {\n",
              "        vertical-align: top;\n",
              "    }\n",
              "\n",
              "    .dataframe thead th {\n",
              "        text-align: right;\n",
              "    }\n",
              "</style>\n",
              "<table border=\"1\" class=\"dataframe\">\n",
              "  <thead>\n",
              "    <tr style=\"text-align: right;\">\n",
              "      <th></th>\n",
              "      <th>Close</th>\n",
              "      <th>Sell</th>\n",
              "      <th>Buy</th>\n",
              "      <th>Volume</th>\n",
              "      <th>Change</th>\n",
              "    </tr>\n",
              "  </thead>\n",
              "  <tbody>\n",
              "    <tr>\n",
              "      <th>11:34</th>\n",
              "      <td>510</td>\n",
              "      <td>510</td>\n",
              "      <td>509</td>\n",
              "      <td>183694694</td>\n",
              "      <td>220412</td>\n",
              "    </tr>\n",
              "    <tr>\n",
              "      <th>11:33</th>\n",
              "      <td>510</td>\n",
              "      <td>511</td>\n",
              "      <td>510</td>\n",
              "      <td>183474282</td>\n",
              "      <td>107469</td>\n",
              "    </tr>\n",
              "    <tr>\n",
              "      <th>11:32</th>\n",
              "      <td>509</td>\n",
              "      <td>510</td>\n",
              "      <td>509</td>\n",
              "      <td>183366813</td>\n",
              "      <td>130879</td>\n",
              "    </tr>\n",
              "    <tr>\n",
              "      <th>11:31</th>\n",
              "      <td>510</td>\n",
              "      <td>511</td>\n",
              "      <td>510</td>\n",
              "      <td>183235934</td>\n",
              "      <td>377263</td>\n",
              "    </tr>\n",
              "    <tr>\n",
              "      <th>11:30</th>\n",
              "      <td>512</td>\n",
              "      <td>512</td>\n",
              "      <td>511</td>\n",
              "      <td>182858671</td>\n",
              "      <td>246113</td>\n",
              "    </tr>\n",
              "    <tr>\n",
              "      <th>11:29</th>\n",
              "      <td>511</td>\n",
              "      <td>512</td>\n",
              "      <td>511</td>\n",
              "      <td>182612558</td>\n",
              "      <td>223061</td>\n",
              "    </tr>\n",
              "    <tr>\n",
              "      <th>11:28</th>\n",
              "      <td>511</td>\n",
              "      <td>512</td>\n",
              "      <td>511</td>\n",
              "      <td>182389497</td>\n",
              "      <td>18425</td>\n",
              "    </tr>\n",
              "    <tr>\n",
              "      <th>11:27</th>\n",
              "      <td>512</td>\n",
              "      <td>512</td>\n",
              "      <td>511</td>\n",
              "      <td>182371072</td>\n",
              "      <td>229128</td>\n",
              "    </tr>\n",
              "    <tr>\n",
              "      <th>11:26</th>\n",
              "      <td>513</td>\n",
              "      <td>513</td>\n",
              "      <td>512</td>\n",
              "      <td>182141944</td>\n",
              "      <td>243878</td>\n",
              "    </tr>\n",
              "    <tr>\n",
              "      <th>11:25</th>\n",
              "      <td>510</td>\n",
              "      <td>510</td>\n",
              "      <td>509</td>\n",
              "      <td>181898066</td>\n",
              "      <td>143444</td>\n",
              "    </tr>\n",
              "  </tbody>\n",
              "</table>\n",
              "</div>"
            ],
            "text/plain": [
              "      Close Sell  Buy     Volume  Change\n",
              "11:34   510  510  509  183694694  220412\n",
              "11:33   510  511  510  183474282  107469\n",
              "11:32   509  510  509  183366813  130879\n",
              "11:31   510  511  510  183235934  377263\n",
              "11:30   512  512  511  182858671  246113\n",
              "11:29   511  512  511  182612558  223061\n",
              "11:28   511  512  511  182389497   18425\n",
              "11:27   512  512  511  182371072  229128\n",
              "11:26   513  513  512  182141944  243878\n",
              "11:25   510  510  509  181898066  143444"
            ]
          },
          "metadata": {
            "tags": []
          },
          "execution_count": 43
        }
      ]
    },
    {
      "cell_type": "code",
      "metadata": {
        "colab": {
          "base_uri": "https://localhost:8080/"
        },
        "id": "A2YYCqLb1YbE",
        "outputId": "61add991-0773-44be-9d66-1c1126ddeaa3"
      },
      "source": [
        "[x.get_text() for x in tr[0].find_all('span')]"
      ],
      "execution_count": 25,
      "outputs": [
        {
          "output_type": "execute_result",
          "data": {
            "text/plain": [
              "['11:34',\n",
              " '510',\n",
              " '\\n\\t\\t\\t\\t4\\n\\t\\t\\t\\t',\n",
              " '510',\n",
              " '509',\n",
              " '183,694,694',\n",
              " '220,412']"
            ]
          },
          "metadata": {
            "tags": []
          },
          "execution_count": 25
        }
      ]
    },
    {
      "cell_type": "code",
      "metadata": {
        "id": "S0TGMh8e1cs-"
      },
      "source": [
        "url = 'https://finance.naver.com/item/sise_time.nhn?code=093230&thistime=20210527113411&page=16'\n",
        "result = requests.get(url, headers = {'User-Agent' : 'Mozilla/5.0 (Macintosh; Intel Mac OS X 10_14_6) AppleWebKit/537.36 (KHTML, like Gecko) Chrome/85.0.4183.121 Safari/537.36'})\n",
        "bs_obj = BeautifulSoup(result.content, \"html.parser\")\n",
        "tr = bs_obj.find_all(\"tr\", {'onmouseover':'mouseOver(this)', 'onmouseout':\"mouseOut(this)\"})\n",
        "\n",
        "for i in range(10):\n",
        "  try: \n",
        "    spans = tr[i].find_all('span')\n",
        "    lines = [span.get_text() for span in spans]\n",
        "    lines = list(map(lambda x: int(x.replace(',','')), lines))\n",
        "    data_dict[lines[0]] = lines[1:]\n",
        "  except:\n",
        "    break\n",
        "\n",
        "df = pd.DataFrame.from_dict(data_dict).transpose()\n",
        "df.columns = ['Close','_','Sell',\n",
        "                  'Buy','Volume','Change']\n",
        "df = df.drop(columns=\"_\")"
      ],
      "execution_count": 58,
      "outputs": []
    },
    {
      "cell_type": "code",
      "metadata": {
        "colab": {
          "base_uri": "https://localhost:8080/",
          "height": 359
        },
        "id": "HB9TagOsERm5",
        "outputId": "5dcb316f-6411-421e-844a-c71936e15ab6"
      },
      "source": [
        "df"
      ],
      "execution_count": 59,
      "outputs": [
        {
          "output_type": "execute_result",
          "data": {
            "text/html": [
              "<div>\n",
              "<style scoped>\n",
              "    .dataframe tbody tr th:only-of-type {\n",
              "        vertical-align: middle;\n",
              "    }\n",
              "\n",
              "    .dataframe tbody tr th {\n",
              "        vertical-align: top;\n",
              "    }\n",
              "\n",
              "    .dataframe thead th {\n",
              "        text-align: right;\n",
              "    }\n",
              "</style>\n",
              "<table border=\"1\" class=\"dataframe\">\n",
              "  <thead>\n",
              "    <tr style=\"text-align: right;\">\n",
              "      <th></th>\n",
              "      <th>Close</th>\n",
              "      <th>Sell</th>\n",
              "      <th>Buy</th>\n",
              "      <th>Volume</th>\n",
              "      <th>Change</th>\n",
              "    </tr>\n",
              "  </thead>\n",
              "  <tbody>\n",
              "    <tr>\n",
              "      <th>11:34</th>\n",
              "      <td>510</td>\n",
              "      <td>510</td>\n",
              "      <td>509</td>\n",
              "      <td>183694694</td>\n",
              "      <td>220412</td>\n",
              "    </tr>\n",
              "    <tr>\n",
              "      <th>11:33</th>\n",
              "      <td>510</td>\n",
              "      <td>511</td>\n",
              "      <td>510</td>\n",
              "      <td>183474282</td>\n",
              "      <td>107469</td>\n",
              "    </tr>\n",
              "    <tr>\n",
              "      <th>11:32</th>\n",
              "      <td>509</td>\n",
              "      <td>510</td>\n",
              "      <td>509</td>\n",
              "      <td>183366813</td>\n",
              "      <td>130879</td>\n",
              "    </tr>\n",
              "    <tr>\n",
              "      <th>11:31</th>\n",
              "      <td>510</td>\n",
              "      <td>511</td>\n",
              "      <td>510</td>\n",
              "      <td>183235934</td>\n",
              "      <td>377263</td>\n",
              "    </tr>\n",
              "    <tr>\n",
              "      <th>11:30</th>\n",
              "      <td>512</td>\n",
              "      <td>512</td>\n",
              "      <td>511</td>\n",
              "      <td>182858671</td>\n",
              "      <td>246113</td>\n",
              "    </tr>\n",
              "    <tr>\n",
              "      <th>11:29</th>\n",
              "      <td>511</td>\n",
              "      <td>512</td>\n",
              "      <td>511</td>\n",
              "      <td>182612558</td>\n",
              "      <td>223061</td>\n",
              "    </tr>\n",
              "    <tr>\n",
              "      <th>11:28</th>\n",
              "      <td>511</td>\n",
              "      <td>512</td>\n",
              "      <td>511</td>\n",
              "      <td>182389497</td>\n",
              "      <td>18425</td>\n",
              "    </tr>\n",
              "    <tr>\n",
              "      <th>11:27</th>\n",
              "      <td>512</td>\n",
              "      <td>512</td>\n",
              "      <td>511</td>\n",
              "      <td>182371072</td>\n",
              "      <td>229128</td>\n",
              "    </tr>\n",
              "    <tr>\n",
              "      <th>11:26</th>\n",
              "      <td>513</td>\n",
              "      <td>513</td>\n",
              "      <td>512</td>\n",
              "      <td>182141944</td>\n",
              "      <td>243878</td>\n",
              "    </tr>\n",
              "    <tr>\n",
              "      <th>11:25</th>\n",
              "      <td>510</td>\n",
              "      <td>510</td>\n",
              "      <td>509</td>\n",
              "      <td>181898066</td>\n",
              "      <td>143444</td>\n",
              "    </tr>\n",
              "  </tbody>\n",
              "</table>\n",
              "</div>"
            ],
            "text/plain": [
              "      Close Sell  Buy     Volume  Change\n",
              "11:34   510  510  509  183694694  220412\n",
              "11:33   510  511  510  183474282  107469\n",
              "11:32   509  510  509  183366813  130879\n",
              "11:31   510  511  510  183235934  377263\n",
              "11:30   512  512  511  182858671  246113\n",
              "11:29   511  512  511  182612558  223061\n",
              "11:28   511  512  511  182389497   18425\n",
              "11:27   512  512  511  182371072  229128\n",
              "11:26   513  513  512  182141944  243878\n",
              "11:25   510  510  509  181898066  143444"
            ]
          },
          "metadata": {
            "tags": []
          },
          "execution_count": 59
        }
      ]
    },
    {
      "cell_type": "code",
      "metadata": {
        "id": "OE8nySj7EWaE"
      },
      "source": [
        ""
      ],
      "execution_count": null,
      "outputs": []
    }
  ]
}