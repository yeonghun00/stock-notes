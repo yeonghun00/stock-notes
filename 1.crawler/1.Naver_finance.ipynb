{
  "nbformat": 4,
  "nbformat_minor": 0,
  "metadata": {
    "colab": {
      "name": "Untitled11.ipynb",
      "provenance": [],
      "authorship_tag": "ABX9TyNX3BIjqt9HugEYaIkrRPi4",
      "include_colab_link": true
    },
    "kernelspec": {
      "name": "python3",
      "display_name": "Python 3"
    },
    "language_info": {
      "name": "python"
    }
  },
  "cells": [
    {
      "cell_type": "markdown",
      "metadata": {
        "id": "view-in-github",
        "colab_type": "text"
      },
      "source": [
        "<a href=\"https://colab.research.google.com/github/yeonghun00/stock_public/blob/main/1.crawler/1.Naver_finance.ipynb\" target=\"_parent\"><img src=\"https://colab.research.google.com/assets/colab-badge.svg\" alt=\"Open In Colab\"/></a>"
      ]
    },
    {
      "cell_type": "code",
      "metadata": {
        "id": "Vh1CcveUUmpx"
      },
      "source": [
        "import requests\n",
        "from bs4 import BeautifulSoup\n",
        "import pandas as pd\n",
        "import numpy as np\n",
        "import datetime\n",
        "\n",
        "class Stock:\n",
        "  def __init__(self, code):\n",
        "    self.code = code\n",
        "    self.headers = {'User-Agent' : 'Mozilla/5.0 (Macintosh; Intel Mac OS X 10_14_6) AppleWebKit/537.36 (KHTML, like Gecko) Chrome/85.0.4183.121 Safari/537.36'}\n",
        "\n",
        "  def page_to_df(self, page):\n",
        "    url = \"https://finance.naver.com/item/sise_day.nhn?code=\" + self.code + \"&page=\" + str(page)\n",
        "    result = requests.get(url, headers = self.headers)\n",
        "    bs_obj = BeautifulSoup(result.content, \"html.parser\")\n",
        "    tr = bs_obj.find_all(\"tr\", {'onmouseover':'mouseOver(this)', 'onmouseout':\"mouseOut(this)\"})\n",
        "    data_dict = {}\n",
        "    for i in range(10):\n",
        "      try: \n",
        "        spans = tr[i].find_all('span')\n",
        "        lines = [span.get_text() for span in spans]\n",
        "        lines = list(map(lambda x: x.replace(',',''), lines))\n",
        "\n",
        "        objdate = datetime.datetime.strptime(lines[0], '%Y.%m.%d')\n",
        "        data_dict[objdate] = lines[1:]\n",
        "      except:\n",
        "        break\n",
        "      \n",
        "    df = pd.DataFrame.from_dict(data_dict).transpose()\n",
        "    df.columns = ['Close','_','Open',\n",
        "                        'High','Low','Volume']\n",
        "    df = df.drop(columns=\"_\")\n",
        "\n",
        "    return df\n",
        "\n",
        "  def get_data(self, start_page:int=1, end_page:int=26):\n",
        "    df = self.page_to_df(start_page)\n",
        "    # max 9999\n",
        "    # 1 page = 10 days\n",
        "    for i in range(start_page, end_page): \n",
        "      try: \n",
        "        if (any(self.page_to_df(i).index != self.page_to_df(i-1).index)):\n",
        "          df = df.append(self.page_to_df(i))\n",
        "          print('.', end = '')\n",
        "          if (i%100==0):\n",
        "            print(i)\n",
        "        else:\n",
        "          break\n",
        "      except:\n",
        "        df = df.append(self.page_to_df(i))\n",
        "    df = df.sort_index(axis = 0) \n",
        "    for i in ['Close', 'Open', 'High', 'Low', 'Volume']:\n",
        "      df[i] = df[i].astype(int)\n",
        "    return df"
      ],
      "execution_count": 1,
      "outputs": []
    },
    {
      "cell_type": "code",
      "metadata": {
        "id": "PwslK1LCKXQa"
      },
      "source": [
        "from multiprocessing import Pool\n",
        "\n",
        "stock = Stock('005930')\n",
        "\n",
        "with Pool(500) as p:\n",
        "    li = p.starmap(stock.get_data, [(x,x) for x in range(500,0,-1)])"
      ],
      "execution_count": 2,
      "outputs": []
    },
    {
      "cell_type": "code",
      "metadata": {
        "id": "rpWNvORsJ7MK"
      },
      "source": [
        "df = pd.concat(li)"
      ],
      "execution_count": 3,
      "outputs": []
    },
    {
      "cell_type": "code",
      "metadata": {
        "colab": {
          "base_uri": "https://localhost:8080/",
          "height": 419
        },
        "id": "Swdx45g_KSo1",
        "outputId": "f258dd5d-b47a-4f1f-ab3a-bb78c2f5fce0"
      },
      "source": [
        "df"
      ],
      "execution_count": 4,
      "outputs": [
        {
          "output_type": "execute_result",
          "data": {
            "text/html": [
              "<div>\n",
              "<style scoped>\n",
              "    .dataframe tbody tr th:only-of-type {\n",
              "        vertical-align: middle;\n",
              "    }\n",
              "\n",
              "    .dataframe tbody tr th {\n",
              "        vertical-align: top;\n",
              "    }\n",
              "\n",
              "    .dataframe thead th {\n",
              "        text-align: right;\n",
              "    }\n",
              "</style>\n",
              "<table border=\"1\" class=\"dataframe\">\n",
              "  <thead>\n",
              "    <tr style=\"text-align: right;\">\n",
              "      <th></th>\n",
              "      <th>Close</th>\n",
              "      <th>Open</th>\n",
              "      <th>High</th>\n",
              "      <th>Low</th>\n",
              "      <th>Volume</th>\n",
              "    </tr>\n",
              "  </thead>\n",
              "  <tbody>\n",
              "    <tr>\n",
              "      <th>2001-02-14</th>\n",
              "      <td>199000</td>\n",
              "      <td>196000</td>\n",
              "      <td>202000</td>\n",
              "      <td>195000</td>\n",
              "      <td>394201</td>\n",
              "    </tr>\n",
              "    <tr>\n",
              "      <th>2001-02-15</th>\n",
              "      <td>206500</td>\n",
              "      <td>210000</td>\n",
              "      <td>210500</td>\n",
              "      <td>205000</td>\n",
              "      <td>698680</td>\n",
              "    </tr>\n",
              "    <tr>\n",
              "      <th>2001-02-16</th>\n",
              "      <td>212500</td>\n",
              "      <td>207500</td>\n",
              "      <td>215500</td>\n",
              "      <td>206500</td>\n",
              "      <td>927555</td>\n",
              "    </tr>\n",
              "    <tr>\n",
              "      <th>2001-02-19</th>\n",
              "      <td>209500</td>\n",
              "      <td>209000</td>\n",
              "      <td>210500</td>\n",
              "      <td>205000</td>\n",
              "      <td>457630</td>\n",
              "    </tr>\n",
              "    <tr>\n",
              "      <th>2001-02-20</th>\n",
              "      <td>212000</td>\n",
              "      <td>209500</td>\n",
              "      <td>214000</td>\n",
              "      <td>209000</td>\n",
              "      <td>363573</td>\n",
              "    </tr>\n",
              "    <tr>\n",
              "      <th>...</th>\n",
              "      <td>...</td>\n",
              "      <td>...</td>\n",
              "      <td>...</td>\n",
              "      <td>...</td>\n",
              "      <td>...</td>\n",
              "    </tr>\n",
              "    <tr>\n",
              "      <th>2021-04-29</th>\n",
              "      <td>81700</td>\n",
              "      <td>82400</td>\n",
              "      <td>82500</td>\n",
              "      <td>81500</td>\n",
              "      <td>20000973</td>\n",
              "    </tr>\n",
              "    <tr>\n",
              "      <th>2021-04-30</th>\n",
              "      <td>81500</td>\n",
              "      <td>81900</td>\n",
              "      <td>82100</td>\n",
              "      <td>81500</td>\n",
              "      <td>18673197</td>\n",
              "    </tr>\n",
              "    <tr>\n",
              "      <th>2021-05-03</th>\n",
              "      <td>81700</td>\n",
              "      <td>81000</td>\n",
              "      <td>82400</td>\n",
              "      <td>81000</td>\n",
              "      <td>15710336</td>\n",
              "    </tr>\n",
              "    <tr>\n",
              "      <th>2021-05-04</th>\n",
              "      <td>82600</td>\n",
              "      <td>81900</td>\n",
              "      <td>82600</td>\n",
              "      <td>81800</td>\n",
              "      <td>12532550</td>\n",
              "    </tr>\n",
              "    <tr>\n",
              "      <th>2021-05-06</th>\n",
              "      <td>82300</td>\n",
              "      <td>81700</td>\n",
              "      <td>82300</td>\n",
              "      <td>81700</td>\n",
              "      <td>16846163</td>\n",
              "    </tr>\n",
              "  </tbody>\n",
              "</table>\n",
              "<p>5000 rows × 5 columns</p>\n",
              "</div>"
            ],
            "text/plain": [
              "             Close    Open    High     Low    Volume\n",
              "2001-02-14  199000  196000  202000  195000    394201\n",
              "2001-02-15  206500  210000  210500  205000    698680\n",
              "2001-02-16  212500  207500  215500  206500    927555\n",
              "2001-02-19  209500  209000  210500  205000    457630\n",
              "2001-02-20  212000  209500  214000  209000    363573\n",
              "...            ...     ...     ...     ...       ...\n",
              "2021-04-29   81700   82400   82500   81500  20000973\n",
              "2021-04-30   81500   81900   82100   81500  18673197\n",
              "2021-05-03   81700   81000   82400   81000  15710336\n",
              "2021-05-04   82600   81900   82600   81800  12532550\n",
              "2021-05-06   82300   81700   82300   81700  16846163\n",
              "\n",
              "[5000 rows x 5 columns]"
            ]
          },
          "metadata": {
            "tags": []
          },
          "execution_count": 4
        }
      ]
    },
    {
      "cell_type": "code",
      "metadata": {
        "id": "9TohyIQEVlNo"
      },
      "source": [
        ""
      ],
      "execution_count": 4,
      "outputs": []
    }
  ]
}
